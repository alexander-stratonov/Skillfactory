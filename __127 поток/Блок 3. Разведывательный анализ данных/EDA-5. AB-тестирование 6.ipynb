{
 "cells": [
  {
   "cell_type": "markdown",
   "id": "e1a8cabd",
   "metadata": {},
   "source": [
    "# 6. Анализ результатов A/B-тестирования: доверительные интервалы"
   ]
  },
  {
   "cell_type": "markdown",
   "id": "e9bd5dd3",
   "metadata": {},
   "source": [
    "Калькулятор z-критического\n",
    "https://planetcalc.ru/7803/"
   ]
  },
  {
   "cell_type": "code",
   "execution_count": 8,
   "id": "708d731e",
   "metadata": {},
   "outputs": [],
   "source": [
    "n = 36 # размер выборки\n",
    "x_mean = 16100 # выборочное среднее\n",
    "sigma = 12000 # истинное стандартное отклонение\n",
    "gamma = 0.95 # уровень надёжности\n",
    "alpha = 1 - gamma # уровень значимости"
   ]
  },
  {
   "cell_type": "code",
   "execution_count": 10,
   "id": "3d4398ed",
   "metadata": {},
   "outputs": [
    {
     "data": {
      "text/plain": [
       "1.959963984540054"
      ]
     },
     "execution_count": 10,
     "metadata": {},
     "output_type": "execute_result"
    }
   ],
   "source": [
    "from scipy.stats import norm\n",
    "z_crit = -norm.ppf(alpha/2) # z критическое\n",
    "z_crit"
   ]
  },
  {
   "cell_type": "code",
   "execution_count": null,
   "id": "9bcb5bb4",
   "metadata": {},
   "outputs": [],
   "source": []
  }
 ],
 "metadata": {
  "kernelspec": {
   "display_name": "Python 3 (ipykernel)",
   "language": "python",
   "name": "python3"
  },
  "language_info": {
   "codemirror_mode": {
    "name": "ipython",
    "version": 3
   },
   "file_extension": ".py",
   "mimetype": "text/x-python",
   "name": "python",
   "nbconvert_exporter": "python",
   "pygments_lexer": "ipython3",
   "version": "3.9.12"
  }
 },
 "nbformat": 4,
 "nbformat_minor": 5
}
