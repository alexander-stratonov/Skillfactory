{
 "cells": [
  {
   "cell_type": "markdown",
   "id": "c592cb4f",
   "metadata": {},
   "source": [
    "# 3. Алгоритм, принципы и параметры A/B-тестирования"
   ]
  },
  {
   "cell_type": "raw",
   "id": "7de05f25",
   "metadata": {},
   "source": [
    "1. ОПРЕДЕЛЕНИЕ МЕТРИК И ВЫДВИЖЕНИЕ ГИПОТЕЗ\n",
    "2. ПОДГОТОВКА К ТЕСТИРОВАНИЮ\n",
    "-Определение размера выборки и длительности теста\n",
    "-Принятие решения о целесообразности проведения тестирования\n",
    "-Разработка варианта B\n"
   ]
  }
 ],
 "metadata": {
  "kernelspec": {
   "display_name": "Python 3 (ipykernel)",
   "language": "python",
   "name": "python3"
  },
  "language_info": {
   "codemirror_mode": {
    "name": "ipython",
    "version": 3
   },
   "file_extension": ".py",
   "mimetype": "text/x-python",
   "name": "python",
   "nbconvert_exporter": "python",
   "pygments_lexer": "ipython3",
   "version": "3.9.12"
  }
 },
 "nbformat": 4,
 "nbformat_minor": 5
}
