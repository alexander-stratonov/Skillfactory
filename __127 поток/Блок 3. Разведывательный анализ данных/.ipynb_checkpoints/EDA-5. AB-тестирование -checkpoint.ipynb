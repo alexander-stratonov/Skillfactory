{
 "cells": [
  {
   "cell_type": "code",
   "execution_count": 1,
   "id": "8b2691e7",
   "metadata": {},
   "outputs": [],
   "source": [
    "import pandas as pd\n",
    "import matplotlib.pyplot as plt\n",
    "import seaborn as sns"
   ]
  },
  {
   "cell_type": "markdown",
   "id": "c592cb4f",
   "metadata": {},
   "source": [
    "# 3. Алгоритм, принципы и параметры A/B-тестирования"
   ]
  },
  {
   "cell_type": "raw",
   "id": "7de05f25",
   "metadata": {},
   "source": [
    "1. ОПРЕДЕЛЕНИЕ МЕТРИК И ВЫДВИЖЕНИЕ ГИПОТЕЗ\n",
    "2. ПОДГОТОВКА К ТЕСТИРОВАНИЮ\n",
    "-Определение размера выборки и длительности теста\n",
    "-Принятие решения о целесообразности проведения тестирования\n",
    "-Разработка варианта B\n",
    "3. НАСТРОЙКА РАСПРЕДЕЛЕНИЯ НА ГРУППЫ\n",
    "4. ПРОВЕРКА КОРРЕКТНОСТИ ЭКСПЕРИМЕНТА\n",
    "5. СБОР РЕЗУЛЬТАТОВ\n",
    "6. АНАЛИЗ РЕЗУЛЬТАТОВ\n",
    "7. ФОРМИРОВАНИЕ ВЫВОДОВ И ПРИНЯТИЕ РЕШЕНИЯ"
   ]
  },
  {
   "cell_type": "markdown",
   "id": "76016144",
   "metadata": {},
   "source": [
    "ПРИНЦИПЫ A/B-ТЕСТИРОВАНИЯ:\n",
    "1: ИСКЛЮЧИТЬ ВЛИЯНИЕ ИЗВНЕ\n",
    "2: ДАННЫХ ДОЛЖНО БЫТЬ МНОГО\n",
    "3: ПРАВИЛЬНЫЙ ИНСТРУМЕНТ АНАЛИЗА"
   ]
  },
  {
   "cell_type": "markdown",
   "id": "b1553b7c",
   "metadata": {},
   "source": [
    "Калькулятор Эвана Миллера\n",
    "https://www.evanmiller.org/ab-testing/sample-size.html"
   ]
  },
  {
   "cell_type": "markdown",
   "id": "8014ca46",
   "metadata": {},
   "source": [
    "Калькулятор VWO\n",
    "https://vwo.com/tools/ab-test-duration-calculator/"
   ]
  },
  {
   "cell_type": "markdown",
   "id": "c8bfef86",
   "metadata": {},
   "source": [
    "# 4. Анализ результатов A/B-тестирования: кумулятивные метрики"
   ]
  },
  {
   "cell_type": "markdown",
   "id": "01ca0ae3",
   "metadata": {},
   "source": [
    "#### ЗНАКОМИМСЯ С ДАННЫМИ"
   ]
  },
  {
   "cell_type": "code",
   "execution_count": 12,
   "id": "5c776ccc",
   "metadata": {},
   "outputs": [
    {
     "data": {
      "text/html": [
       "<div>\n",
       "<style scoped>\n",
       "    .dataframe tbody tr th:only-of-type {\n",
       "        vertical-align: middle;\n",
       "    }\n",
       "\n",
       "    .dataframe tbody tr th {\n",
       "        vertical-align: top;\n",
       "    }\n",
       "\n",
       "    .dataframe thead th {\n",
       "        text-align: right;\n",
       "    }\n",
       "</style>\n",
       "<table border=\"1\" class=\"dataframe\">\n",
       "  <thead>\n",
       "    <tr style=\"text-align: right;\">\n",
       "      <th></th>\n",
       "      <th>user_id</th>\n",
       "      <th>timestamp</th>\n",
       "      <th>group</th>\n",
       "      <th>converted</th>\n",
       "    </tr>\n",
       "  </thead>\n",
       "  <tbody>\n",
       "    <tr>\n",
       "      <th>0</th>\n",
       "      <td>851104</td>\n",
       "      <td>2017-01-21</td>\n",
       "      <td>A</td>\n",
       "      <td>0</td>\n",
       "    </tr>\n",
       "    <tr>\n",
       "      <th>1</th>\n",
       "      <td>804228</td>\n",
       "      <td>2017-01-12</td>\n",
       "      <td>A</td>\n",
       "      <td>0</td>\n",
       "    </tr>\n",
       "    <tr>\n",
       "      <th>2</th>\n",
       "      <td>661590</td>\n",
       "      <td>2017-01-11</td>\n",
       "      <td>B</td>\n",
       "      <td>0</td>\n",
       "    </tr>\n",
       "    <tr>\n",
       "      <th>3</th>\n",
       "      <td>853541</td>\n",
       "      <td>2017-01-08</td>\n",
       "      <td>B</td>\n",
       "      <td>0</td>\n",
       "    </tr>\n",
       "    <tr>\n",
       "      <th>4</th>\n",
       "      <td>864975</td>\n",
       "      <td>2017-01-21</td>\n",
       "      <td>A</td>\n",
       "      <td>1</td>\n",
       "    </tr>\n",
       "    <tr>\n",
       "      <th>...</th>\n",
       "      <td>...</td>\n",
       "      <td>...</td>\n",
       "      <td>...</td>\n",
       "      <td>...</td>\n",
       "    </tr>\n",
       "    <tr>\n",
       "      <th>290477</th>\n",
       "      <td>751197</td>\n",
       "      <td>2017-01-03</td>\n",
       "      <td>A</td>\n",
       "      <td>0</td>\n",
       "    </tr>\n",
       "    <tr>\n",
       "      <th>290478</th>\n",
       "      <td>945152</td>\n",
       "      <td>2017-01-12</td>\n",
       "      <td>A</td>\n",
       "      <td>0</td>\n",
       "    </tr>\n",
       "    <tr>\n",
       "      <th>290479</th>\n",
       "      <td>734608</td>\n",
       "      <td>2017-01-22</td>\n",
       "      <td>A</td>\n",
       "      <td>0</td>\n",
       "    </tr>\n",
       "    <tr>\n",
       "      <th>290480</th>\n",
       "      <td>697314</td>\n",
       "      <td>2017-01-15</td>\n",
       "      <td>A</td>\n",
       "      <td>0</td>\n",
       "    </tr>\n",
       "    <tr>\n",
       "      <th>290481</th>\n",
       "      <td>715931</td>\n",
       "      <td>2017-01-16</td>\n",
       "      <td>B</td>\n",
       "      <td>0</td>\n",
       "    </tr>\n",
       "  </tbody>\n",
       "</table>\n",
       "<p>290482 rows × 4 columns</p>\n",
       "</div>"
      ],
      "text/plain": [
       "        user_id  timestamp group  converted\n",
       "0        851104 2017-01-21     A          0\n",
       "1        804228 2017-01-12     A          0\n",
       "2        661590 2017-01-11     B          0\n",
       "3        853541 2017-01-08     B          0\n",
       "4        864975 2017-01-21     A          1\n",
       "...         ...        ...   ...        ...\n",
       "290477   751197 2017-01-03     A          0\n",
       "290478   945152 2017-01-12     A          0\n",
       "290479   734608 2017-01-22     A          0\n",
       "290480   697314 2017-01-15     A          0\n",
       "290481   715931 2017-01-16     B          0\n",
       "\n",
       "[290482 rows x 4 columns]"
      ]
     },
     "execution_count": 12,
     "metadata": {},
     "output_type": "execute_result"
    }
   ],
   "source": [
    "ab_data = pd.read_csv('data/ab_data.csv')\n",
    "ab_data['timestamp'] = pd.to_datetime(ab_data['timestamp'], format='%Y-%m-%d')\n",
    "ab_data"
   ]
  },
  {
   "cell_type": "code",
   "execution_count": 17,
   "id": "7984e051",
   "metadata": {
    "scrolled": true
   },
   "outputs": [
    {
     "data": {
      "text/html": [
       "<div>\n",
       "<style scoped>\n",
       "    .dataframe tbody tr th:only-of-type {\n",
       "        vertical-align: middle;\n",
       "    }\n",
       "\n",
       "    .dataframe tbody tr th {\n",
       "        vertical-align: top;\n",
       "    }\n",
       "\n",
       "    .dataframe thead th {\n",
       "        text-align: right;\n",
       "    }\n",
       "</style>\n",
       "<table border=\"1\" class=\"dataframe\">\n",
       "  <thead>\n",
       "    <tr style=\"text-align: right;\">\n",
       "      <th></th>\n",
       "      <th>timestamp</th>\n",
       "      <th>group</th>\n",
       "      <th>users_count</th>\n",
       "      <th>converted</th>\n",
       "    </tr>\n",
       "  </thead>\n",
       "  <tbody>\n",
       "    <tr>\n",
       "      <th>0</th>\n",
       "      <td>2017-01-02</td>\n",
       "      <td>A</td>\n",
       "      <td>2851</td>\n",
       "      <td>357</td>\n",
       "    </tr>\n",
       "    <tr>\n",
       "      <th>1</th>\n",
       "      <td>2017-01-02</td>\n",
       "      <td>B</td>\n",
       "      <td>2848</td>\n",
       "      <td>339</td>\n",
       "    </tr>\n",
       "    <tr>\n",
       "      <th>2</th>\n",
       "      <td>2017-01-03</td>\n",
       "      <td>A</td>\n",
       "      <td>6584</td>\n",
       "      <td>749</td>\n",
       "    </tr>\n",
       "    <tr>\n",
       "      <th>3</th>\n",
       "      <td>2017-01-03</td>\n",
       "      <td>B</td>\n",
       "      <td>6620</td>\n",
       "      <td>754</td>\n",
       "    </tr>\n",
       "    <tr>\n",
       "      <th>4</th>\n",
       "      <td>2017-01-04</td>\n",
       "      <td>A</td>\n",
       "      <td>6573</td>\n",
       "      <td>797</td>\n",
       "    </tr>\n",
       "  </tbody>\n",
       "</table>\n",
       "</div>"
      ],
      "text/plain": [
       "   timestamp group  users_count  converted\n",
       "0 2017-01-02     A         2851        357\n",
       "1 2017-01-02     B         2848        339\n",
       "2 2017-01-03     A         6584        749\n",
       "3 2017-01-03     B         6620        754\n",
       "4 2017-01-04     A         6573        797"
      ]
     },
     "execution_count": 17,
     "metadata": {},
     "output_type": "execute_result"
    }
   ],
   "source": [
    "daily_data = ab_data.groupby(['timestamp','group']).agg({\n",
    "    'user_id':'count',\n",
    "    'converted':'sum'\n",
    "}).reset_index().rename(columns={'user_id': 'users_count'})\n",
    "daily_data.head()"
   ]
  },
  {
   "cell_type": "code",
   "execution_count": 18,
   "id": "575f2749",
   "metadata": {},
   "outputs": [
    {
     "data": {
      "text/html": [
       "<div>\n",
       "<style scoped>\n",
       "    .dataframe tbody tr th:only-of-type {\n",
       "        vertical-align: middle;\n",
       "    }\n",
       "\n",
       "    .dataframe tbody tr th {\n",
       "        vertical-align: top;\n",
       "    }\n",
       "\n",
       "    .dataframe thead th {\n",
       "        text-align: right;\n",
       "    }\n",
       "</style>\n",
       "<table border=\"1\" class=\"dataframe\">\n",
       "  <thead>\n",
       "    <tr style=\"text-align: right;\">\n",
       "      <th></th>\n",
       "      <th>timestamp</th>\n",
       "      <th>group</th>\n",
       "      <th>users_count</th>\n",
       "      <th>converted</th>\n",
       "      <th>conversion</th>\n",
       "    </tr>\n",
       "  </thead>\n",
       "  <tbody>\n",
       "    <tr>\n",
       "      <th>6</th>\n",
       "      <td>2017-01-05</td>\n",
       "      <td>A</td>\n",
       "      <td>6419</td>\n",
       "      <td>791</td>\n",
       "      <td>12.322792</td>\n",
       "    </tr>\n",
       "  </tbody>\n",
       "</table>\n",
       "</div>"
      ],
      "text/plain": [
       "   timestamp group  users_count  converted  conversion\n",
       "6 2017-01-05     A         6419        791   12.322792"
      ]
     },
     "execution_count": 18,
     "metadata": {},
     "output_type": "execute_result"
    }
   ],
   "source": [
    "daily_data['conversion'] = daily_data['converted'] / daily_data['users_count'] * 100\n",
    "daily_data[(daily_data['timestamp'] == '2017-01-05') & (daily_data['group'] == 'A')]"
   ]
  },
  {
   "cell_type": "markdown",
   "id": "ab96d595",
   "metadata": {},
   "source": [
    "#### ВИЗУАЛЬНЫЙ АНАЛИЗ КОНВЕРСИИ В ГРУППАХ"
   ]
  },
  {
   "cell_type": "code",
   "execution_count": 22,
   "id": "4a1e283c",
   "metadata": {},
   "outputs": [
    {
     "data": {
      "image/png": "[encoded data removed]",
      "text/plain": [
       "<Figure size 800x200 with 1 Axes>"
      ]
     },
     "metadata": {},
     "output_type": "display_data"
    }
   ],
   "source": [
    "# создаём фигуру размером 8x2\n",
    "fig = plt.figure(figsize=(8, 2)) \n",
    "# добавляем систему координат\n",
    "ax = fig.add_axes([1, 1, 1, 1]) \n",
    "# строим boxplot для conversion по признаку group\n",
    "sns.boxplot(data=daily_data, x='conversion', y='group', ax=ax) \n",
    "# задаём подпись к графику\n",
    "ax.set_title('Сравнение конверсии в группах')\n",
    "# задаём отображение сетки\n",
    "ax.grid();"
   ]
  },
  {
   "cell_type": "code",
   "execution_count": 23,
   "id": "e5380473",
   "metadata": {},
   "outputs": [
    {
     "data": {
      "text/html": [
       "<div>\n",
       "<style scoped>\n",
       "    .dataframe tbody tr th:only-of-type {\n",
       "        vertical-align: middle;\n",
       "    }\n",
       "\n",
       "    .dataframe tbody tr th {\n",
       "        vertical-align: top;\n",
       "    }\n",
       "\n",
       "    .dataframe thead th {\n",
       "        text-align: right;\n",
       "    }\n",
       "</style>\n",
       "<table border=\"1\" class=\"dataframe\">\n",
       "  <thead>\n",
       "    <tr style=\"text-align: right;\">\n",
       "      <th></th>\n",
       "      <th>mean</th>\n",
       "      <th>median</th>\n",
       "    </tr>\n",
       "    <tr>\n",
       "      <th>group</th>\n",
       "      <th></th>\n",
       "      <th></th>\n",
       "    </tr>\n",
       "  </thead>\n",
       "  <tbody>\n",
       "    <tr>\n",
       "      <th>A</th>\n",
       "      <td>12.032876</td>\n",
       "      <td>12.024261</td>\n",
       "    </tr>\n",
       "    <tr>\n",
       "      <th>B</th>\n",
       "      <td>11.872697</td>\n",
       "      <td>11.829582</td>\n",
       "    </tr>\n",
       "  </tbody>\n",
       "</table>\n",
       "</div>"
      ],
      "text/plain": [
       "            mean     median\n",
       "group                      \n",
       "A      12.032876  12.024261\n",
       "B      11.872697  11.829582"
      ]
     },
     "execution_count": 23,
     "metadata": {},
     "output_type": "execute_result"
    }
   ],
   "source": [
    "conversion_piv = daily_data.groupby('group')['conversion'].agg(['mean', 'median'])\n",
    "conversion_piv"
   ]
  },
  {
   "cell_type": "markdown",
   "id": "018afcf7",
   "metadata": {},
   "source": [
    "#### КУМУЛЯТИВНЫЕ МЕТРИКИ"
   ]
  },
  {
   "cell_type": "code",
   "execution_count": null,
   "id": "ec2771da",
   "metadata": {},
   "outputs": [],
   "source": []
  }
 ],
 "metadata": {
  "kernelspec": {
   "display_name": "Python 3 (ipykernel)",
   "language": "python",
   "name": "python3"
  },
  "language_info": {
   "codemirror_mode": {
    "name": "ipython",
    "version": 3
   },
   "file_extension": ".py",
   "mimetype": "text/x-python",
   "name": "python",
   "nbconvert_exporter": "python",
   "pygments_lexer": "ipython3",
   "version": "3.9.12"
  }
 },
 "nbformat": 4,
 "nbformat_minor": 5
}
