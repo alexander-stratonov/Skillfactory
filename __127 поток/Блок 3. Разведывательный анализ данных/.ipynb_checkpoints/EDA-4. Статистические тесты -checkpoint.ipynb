{
 "cells": [
  {
   "cell_type": "code",
   "execution_count": 1,
   "id": "b55cc6a0",
   "metadata": {},
   "outputs": [],
   "source": [
    "import pandas as pd\n",
    "import numpy as np "
   ]
  },
  {
   "cell_type": "markdown",
   "id": "95fa2f0b",
   "metadata": {},
   "source": [
    "# 2. Понятие статистической гипотезы"
   ]
  },
  {
   "cell_type": "raw",
   "id": "63010778",
   "metadata": {},
   "source": [
    "Нулевая =\n",
    "Альтернативная <, >, !="
   ]
  },
  {
   "cell_type": "markdown",
   "id": "0d229b70",
   "metadata": {},
   "source": [
    "# 3. Статистическая значимость"
   ]
  },
  {
   "cell_type": "raw",
   "id": "9ddeeb8a",
   "metadata": {},
   "source": [
    "Уровень значимости (альфа)\n",
    "Статистическая значимость (p-value)\n",
    "p-value > альфа - Нулевая\n",
    "p-value < альфа - Альтернативная"
   ]
  },
  {
   "cell_type": "markdown",
   "id": "4c438770",
   "metadata": {},
   "source": [
    "# 4. Статистические тесты. Введение"
   ]
  },
  {
   "cell_type": "raw",
   "id": "ed8ec2e4",
   "metadata": {},
   "source": [
    "Двусторонние тесты: H0: b = b1, Ha: b != b1"
   ]
  },
  {
   "cell_type": "code",
   "execution_count": 2,
   "id": "5602bd71",
   "metadata": {},
   "outputs": [
    {
     "data": {
      "text/plain": [
       "0.007707346629258934"
      ]
     },
     "execution_count": 2,
     "metadata": {},
     "output_type": "execute_result"
    }
   ],
   "source": [
    "(2/3) ** 12"
   ]
  },
  {
   "cell_type": "code",
   "execution_count": 3,
   "id": "d69b378a",
   "metadata": {},
   "outputs": [
    {
     "data": {
      "text/plain": [
       "0.0625"
      ]
     },
     "execution_count": 3,
     "metadata": {},
     "output_type": "execute_result"
    }
   ],
   "source": [
    "(1/2) ** 4"
   ]
  },
  {
   "cell_type": "markdown",
   "id": "d12b357f",
   "metadata": {},
   "source": [
    "# 5. Тесты на нормальность"
   ]
  },
  {
   "cell_type": "raw",
   "id": "7c6ef442",
   "metadata": {},
   "source": [
    "Тест Шапиро-Уилка\n",
    "Тест Д’Агостино К2"
   ]
  },
  {
   "cell_type": "markdown",
   "id": "f2abedbe",
   "metadata": {},
   "source": [
    "# 6. Параметрические тесты"
   ]
  },
  {
   "cell_type": "markdown",
   "id": "cf3eb746",
   "metadata": {},
   "source": [
    "![title](data/dst-eda-4-10.png)"
   ]
  },
  {
   "cell_type": "markdown",
   "id": "06d0e3fc",
   "metadata": {},
   "source": [
    "# 7. Непараметрические тесты"
   ]
  },
  {
   "cell_type": "markdown",
   "id": "e1551fb3",
   "metadata": {},
   "source": [
    "![title](data/dst-eda-4-11.png)"
   ]
  },
  {
   "cell_type": "markdown",
   "id": "d12d1f72",
   "metadata": {},
   "source": [
    "![title](data/dst-eda-4-12.png)"
   ]
  }
 ],
 "metadata": {
  "kernelspec": {
   "display_name": "Python 3 (ipykernel)",
   "language": "python",
   "name": "python3"
  },
  "language_info": {
   "codemirror_mode": {
    "name": "ipython",
    "version": 3
   },
   "file_extension": ".py",
   "mimetype": "text/x-python",
   "name": "python",
   "nbconvert_exporter": "python",
   "pygments_lexer": "ipython3",
   "version": "3.9.12"
  }
 },
 "nbformat": 4,
 "nbformat_minor": 5
}
