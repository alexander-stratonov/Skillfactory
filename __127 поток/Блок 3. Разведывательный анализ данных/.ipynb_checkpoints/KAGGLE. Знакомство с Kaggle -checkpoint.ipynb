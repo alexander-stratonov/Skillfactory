{
 "cells": [
  {
   "cell_type": "raw",
   "id": "38cc2401",
   "metadata": {},
   "source": [
    "смотреть видео в 2. Основы Kaggle"
   ]
  },
  {
   "cell_type": "raw",
   "id": "1179817f",
   "metadata": {},
   "source": [
    "смотреть видео в 3. Работа с ноутбуками в Kaggle"
   ]
  },
  {
   "cell_type": "raw",
   "id": "54030815",
   "metadata": {},
   "source": [
    "смотреть видео в 4. Участие в соревновании"
   ]
  }
 ],
 "metadata": {
  "kernelspec": {
   "display_name": "Python 3 (ipykernel)",
   "language": "python",
   "name": "python3"
  },
  "language_info": {
   "codemirror_mode": {
    "name": "ipython",
    "version": 3
   },
   "file_extension": ".py",
   "mimetype": "text/x-python",
   "name": "python",
   "nbconvert_exporter": "python",
   "pygments_lexer": "ipython3",
   "version": "3.9.12"
  }
 },
 "nbformat": 4,
 "nbformat_minor": 5
}
