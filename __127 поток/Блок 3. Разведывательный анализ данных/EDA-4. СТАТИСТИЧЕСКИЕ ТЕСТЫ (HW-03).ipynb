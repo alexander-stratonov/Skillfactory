{
 "cells": [
  {
   "cell_type": "code",
   "execution_count": 1,
   "id": "21d51bb9",
   "metadata": {},
   "outputs": [],
   "source": [
    "import pandas as pd\n",
    "import numpy as np\n",
    "from scipy.stats import shapiro\n",
    "from scipy.stats import ttest_ind\n",
    "from scipy.stats import spearmanr"
   ]
  },
  {
   "cell_type": "code",
   "execution_count": 2,
   "id": "2d2e7b6b",
   "metadata": {},
   "outputs": [],
   "source": [
    "#объединим два массива в DataFrame\n",
    "data = {'petersburg' : [0.0974, 0.1352, 0.0817, 0.1016, 0.0968, 0.1064, 0.105],\n",
    "'magadan' : [0.1033, 0.0915, 0.0781, 0.0685, 0.0677, 0.0697, 0.0764]}\n",
    "df = pd.DataFrame(data)"
   ]
  },
  {
   "cell_type": "code",
   "execution_count": 3,
   "id": "1104e47d",
   "metadata": {},
   "outputs": [
    {
     "name": "stdout",
     "output_type": "stream",
     "text": [
      "p=0.226\n",
      "Вывод по гипотезе:  Данные распределены нормально\n"
     ]
    }
   ],
   "source": [
    "#узнаем, нормально ли распределены данные, зададим гипотезы\n",
    "H0 = 'Данные распределены нормально'\n",
    "Ha = 'Данные не распределены нормально (мы отвергаем H0)'\n",
    "\n",
    "#для небольших выборок используем Тест Шапиро-Уилка\n",
    "alpha = 0.05\n",
    "_, p = shapiro(df)\n",
    "print('p=%.3f' % p)\n",
    "\n",
    "# Интерпретация \n",
    "if p > alpha:\n",
    "    print('Вывод по гипотезе: ', H0)\n",
    "else:\n",
    "    print('Вывод по гипотезе: ', Ha)"
   ]
  },
  {
   "cell_type": "code",
   "execution_count": 4,
   "id": "615bcd7f",
   "metadata": {},
   "outputs": [
    {
     "name": "stdout",
     "output_type": "stream",
     "text": [
      "0.01 <= 0.05\n",
      "Мы отвергаем нулевую гипотезу. Вывод по независимому T-тесту: Есть значимая разница между размерами мидий в разных городах.\n"
     ]
    }
   ],
   "source": [
    "# данные распределены нормально, зависимая переменная является количественной, поэтому используем параметрический тест\n",
    "# зависимая переменная количественная, группы из разных совокупностей: выбираем независимый T-тест\n",
    "\n",
    "H0 = 'Нет значимой разницы между размерами мидий в разных городах.'\n",
    "Ha = 'Есть значимая разница между размерами мидий в разных городах.'\n",
    "\n",
    "def t_test(df):\n",
    "    test_results = ttest_ind(df['petersburg'], df['magadan'], equal_var=True)\n",
    "\n",
    "    p = round(test_results[1],2)\n",
    "\n",
    "    if p>alpha:\n",
    "        print(f\"{p} > {alpha}\\nМы не можем отвергнуть нулевую гипотезу. Вывод по независимому T-тесту: {H0}\")\n",
    "    else:\n",
    "        print(f\"{p} <= {alpha}\\nМы отвергаем нулевую гипотезу. Вывод по независимому T-тесту: {Ha}\")\n",
    "\n",
    "t_test(df)"
   ]
  },
  {
   "cell_type": "code",
   "execution_count": 5,
   "id": "e2bfd5d9",
   "metadata": {},
   "outputs": [
    {
     "name": "stdout",
     "output_type": "stream",
     "text": [
      "0.7599453002180929 > 0.05. Мы не можем отвергнуть нулевую гипотезу об отсутсвии зависимости между переменными.\n"
     ]
    }
   ],
   "source": [
    "# корреляция\n",
    "corr, p = spearmanr(df['petersburg'], df['magadan'])\n",
    "if p>alpha:\n",
    "    print(f\"{p} > {alpha}. Мы не можем отвергнуть нулевую гипотезу об отсутсвии зависимости между переменными.\")\n",
    "else:\n",
    "    print(f\"{p} <= {alpha}. Мы отвергаем нулевую гипотезу об отсутсвии зависимости между переменными.\")"
   ]
  },
  {
   "cell_type": "code",
   "execution_count": null,
   "id": "f6172163",
   "metadata": {},
   "outputs": [],
   "source": []
  }
 ],
 "metadata": {
  "kernelspec": {
   "display_name": "Python 3 (ipykernel)",
   "language": "python",
   "name": "python3"
  },
  "language_info": {
   "codemirror_mode": {
    "name": "ipython",
    "version": 3
   },
   "file_extension": ".py",
   "mimetype": "text/x-python",
   "name": "python",
   "nbconvert_exporter": "python",
   "pygments_lexer": "ipython3",
   "version": "3.9.12"
  }
 },
 "nbformat": 4,
 "nbformat_minor": 5
}
