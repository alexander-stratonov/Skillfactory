{
 "cells": [
  {
   "cell_type": "markdown",
   "id": "2962522c",
   "metadata": {},
   "source": [
    "# 3. Даты: основные типы"
   ]
  },
  {
   "cell_type": "code",
   "execution_count": null,
   "id": "2a14a97f",
   "metadata": {},
   "outputs": [],
   "source": [
    "SELECT NOW()"
   ]
  },
  {
   "cell_type": "code",
   "execution_count": null,
   "id": "0a23a12b",
   "metadata": {},
   "outputs": [],
   "source": [
    "SELECT CURRENT_TIMESTAMP"
   ]
  },
  {
   "cell_type": "code",
   "execution_count": null,
   "id": "dc6078ac",
   "metadata": {},
   "outputs": [],
   "source": [
    "select now() at time zone 'Europe/Moscow'"
   ]
  },
  {
   "cell_type": "code",
   "execution_count": null,
   "id": "52abd98c",
   "metadata": {},
   "outputs": [],
   "source": [
    "\"timestamp_column\"::date\n",
    "или\n",
    "\"date_column\"::timestamp"
   ]
  },
  {
   "cell_type": "code",
   "execution_count": null,
   "id": "40bd8025",
   "metadata": {},
   "outputs": [],
   "source": [
    "select CURRENT_DATE\n",
    "или\n",
    "select now()::date"
   ]
  },
  {
   "cell_type": "code",
   "execution_count": null,
   "id": "be8fa6eb",
   "metadata": {},
   "outputs": [],
   "source": [
    "WITH x AS \n",
    "(\n",
    "SELECT '2018-12-31 21:00:00+00'::timestamp WITH time zone ts\n",
    ")\n",
    "SELECT \n",
    "        (ts at time zone 'Europe/Moscow')::date dt_msk,\n",
    "        (ts)::date dt_utc\n",
    "FROM x"
   ]
  },
  {
   "cell_type": "markdown",
   "id": "136ea880",
   "metadata": {},
   "source": [
    "#  4. Функции и операторы для работы с датами"
   ]
  },
  {
   "cell_type": "markdown",
   "id": "515e6eb7",
   "metadata": {},
   "source": [
    "##### EXTRACT()"
   ]
  },
  {
   "cell_type": "code",
   "execution_count": null,
   "id": "23459399",
   "metadata": {},
   "outputs": [],
   "source": [
    "SELECT EXTRACT(DAY FROM TIMESTAMP '2001-02-16 20:38:40');\n",
    "SELECT EXTRACT(DAY FROM INTERVAL '40 days 1 minute');\n",
    "SELECT EXTRACT(HOUR FROM TIMESTAMP '2001-02-16 20:38:40');"
   ]
  },
  {
   "cell_type": "code",
   "execution_count": null,
   "id": "f69f78d5",
   "metadata": {},
   "outputs": [],
   "source": [
    "select EXTRACT(year FROM s.ship_date) year_n, EXTRACT(MONTH FROM s.ship_date) month_n, count(*) qty \n",
    "from sql.shipment s\n",
    "group by 1, 2\n",
    "order by 1, 2"
   ]
  },
  {
   "cell_type": "markdown",
   "id": "3fab2d32",
   "metadata": {},
   "source": [
    "##### TO_CHAR()"
   ]
  },
  {
   "cell_type": "code",
   "execution_count": null,
   "id": "418d8300",
   "metadata": {},
   "outputs": [],
   "source": [
    "select to_char(current_timestamp, 'HH12:MI:SS')\n",
    "select to_char(now(),'\"Hello! Today is\" DAY yyyy-Mon-dd')"
   ]
  },
  {
   "cell_type": "code",
   "execution_count": null,
   "id": "dddc1501",
   "metadata": {},
   "outputs": [],
   "source": [
    "select to_char(now() at time zone 'Europe/Moscow', 'Точное время HH24 часов MI минут SS секунд') msg"
   ]
  },
  {
   "cell_type": "markdown",
   "id": "275b0b73",
   "metadata": {},
   "source": [
    "##### DATE_TRUNC()"
   ]
  },
  {
   "cell_type": "code",
   "execution_count": null,
   "id": "589af8e4",
   "metadata": {},
   "outputs": [],
   "source": [
    "select date_trunc('minute',now())"
   ]
  },
  {
   "cell_type": "code",
   "execution_count": null,
   "id": "ab1f8314",
   "metadata": {},
   "outputs": [],
   "source": [
    "select date_trunc('quarter', s.ship_date)::date q, sum (s.weight) total_weight \n",
    "FROM sql.shipment s\n",
    "group by 1\n",
    "order by 1"
   ]
  },
  {
   "cell_type": "markdown",
   "id": "be653d51",
   "metadata": {},
   "source": [
    "##### МАТЕМАТИЧЕСКИЕ ОПЕРАТОРЫ"
   ]
  },
  {
   "cell_type": "code",
   "execution_count": null,
   "id": "b4e84c9b",
   "metadata": {},
   "outputs": [],
   "source": [
    "select '2019-01-01'::date + 10\n",
    "select '2019-01-01'::date + 500"
   ]
  },
  {
   "cell_type": "code",
   "execution_count": null,
   "id": "f32015ab",
   "metadata": {},
   "outputs": [],
   "source": [
    "select c.city_name city_name , (max(s.ship_date) - min(s.ship_date)) days_active  \n",
    "FROM sql.shipment s JOIN sql.city c ON c.city_id = s.city_id\n",
    "group by 1\n",
    "order by 1, 2"
   ]
  },
  {
   "cell_type": "markdown",
   "id": "9ba5f5d5",
   "metadata": {},
   "source": [
    "# 6. Функции и операторы для работы со строками"
   ]
  },
  {
   "cell_type": "code",
   "execution_count": null,
   "id": "69554836",
   "metadata": {},
   "outputs": [],
   "source": [
    "select 'select * from '||t.table_schema||'.'||t.table_name||';' query\n",
    "from information_schema.tables t\n",
    "where table_schema = 'shipping'"
   ]
  },
  {
   "cell_type": "code",
   "execution_count": null,
   "id": "7c9ef2c4",
   "metadata": {},
   "outputs": [],
   "source": [
    "select 'Ваш заказ доставит водитель '||d.first_name||' '||d.last_name||'.'||' Его контактный номер: '||coalesce(d.phone, '-') msg\n",
    "from sql.driver d"
   ]
  },
  {
   "cell_type": "markdown",
   "id": "4239025d",
   "metadata": {},
   "source": [
    "##### UPPER() И LOWER()"
   ]
  },
  {
   "cell_type": "code",
   "execution_count": null,
   "id": "916b2d5e",
   "metadata": {},
   "outputs": [],
   "source": [
    "select upper('Abc') s1 ,lower('xYz') s2"
   ]
  },
  {
   "cell_type": "code",
   "execution_count": null,
   "id": "cff85704",
   "metadata": {},
   "outputs": [],
   "source": [
    "select c.cust_id, lower(c.cust_name) cust_name  \n",
    "from sql.customer c JOIN sql.shipment s ON c.cust_id = s.cust_id\n",
    "GROUP BY 1,2\n",
    "HAVING COUNT(distinct s.ship_id)>10\n",
    "ORDER BY 1"
   ]
  },
  {
   "cell_type": "markdown",
   "id": "60eda3af",
   "metadata": {},
   "source": [
    "##### REPLACE()"
   ]
  },
  {
   "cell_type": "code",
   "execution_count": null,
   "id": "7550d4f5",
   "metadata": {},
   "outputs": [],
   "source": [
    "select replace('малако','а','о')\n",
    "select replace('Hello, world!',', world','')"
   ]
  },
  {
   "cell_type": "code",
   "execution_count": null,
   "id": "a34fe6f1",
   "metadata": {},
   "outputs": [],
   "source": [
    "SELECT \n",
    "        lower(replace(state||'__'||city_name,' ','_')) utm\n",
    "FROM sql.city\n",
    "ORDER BY 1"
   ]
  },
  {
   "cell_type": "markdown",
   "id": "31e78fe6",
   "metadata": {},
   "source": [
    "##### LEFT() И RIGHT()"
   ]
  },
  {
   "cell_type": "code",
   "execution_count": null,
   "id": "78635ef2",
   "metadata": {},
   "outputs": [],
   "source": [
    "select left('0123456789', - 2), right('0123456789', - 2)"
   ]
  },
  {
   "cell_type": "code",
   "execution_count": null,
   "id": "d6050c88",
   "metadata": {},
   "outputs": [],
   "source": [
    "SELECT LEFT(state,4) code, COUNT(distinct state) qty\n",
    "FROM sql.city\n",
    "GROUP BY 1\n",
    "HAVING COUNT(distinct state)>1\n",
    "ORDER BY code"
   ]
  },
  {
   "cell_type": "markdown",
   "id": "0137dcaf",
   "metadata": {},
   "source": [
    "##### FORMAT()"
   ]
  },
  {
   "cell_type": "code",
   "execution_count": null,
   "id": "411ab002",
   "metadata": {},
   "outputs": [],
   "source": [
    "select format('Hello, %s!', d.first_name) from shipping.driver d"
   ]
  },
  {
   "cell_type": "code",
   "execution_count": null,
   "id": "441353b4",
   "metadata": {},
   "outputs": [],
   "source": [
    "select format('driver_id = %s, first_name = %s, last_name = %s, address = %s, zip_code = %s, phone = %s, city_id = %s',\n",
    "              driver_id, first_name, last_name, address, zip_code, phone, city_id) from shipping.driver d"
   ]
  },
  {
   "cell_type": "code",
   "execution_count": null,
   "id": "1c2ebaa5",
   "metadata": {},
   "outputs": [],
   "source": [
    "SELECT format($$%s is located in %s. There's %s people living there. Its area is %s$$,c.city_name,c.state,c.population,c.area) str\n",
    "FROM sql.city c\n",
    "ORDER BY city_name"
   ]
  }
 ],
 "metadata": {
  "kernelspec": {
   "display_name": "Python 3",
   "language": "python",
   "name": "python3"
  },
  "language_info": {
   "codemirror_mode": {
    "name": "ipython",
    "version": 3
   },
   "file_extension": ".py",
   "mimetype": "text/x-python",
   "name": "python",
   "nbconvert_exporter": "python",
   "pygments_lexer": "ipython3",
   "version": "3.8.8"
  },
  "varInspector": {
   "cols": {
    "lenName": 16,
    "lenType": 16,
    "lenVar": 40
   },
   "kernels_config": {
    "python": {
     "delete_cmd_postfix": "",
     "delete_cmd_prefix": "del ",
     "library": "var_list.py",
     "varRefreshCmd": "print(var_dic_list())"
    },
    "r": {
     "delete_cmd_postfix": ") ",
     "delete_cmd_prefix": "rm(",
     "library": "var_list.r",
     "varRefreshCmd": "cat(var_dic_list()) "
    }
   },
   "types_to_exclude": [
    "module",
    "function",
    "builtin_function_or_method",
    "instance",
    "_Feature"
   ],
   "window_display": false
  }
 },
 "nbformat": 4,
 "nbformat_minor": 5
}
