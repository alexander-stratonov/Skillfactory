{
 "cells": [
  {
   "cell_type": "markdown",
   "id": "8e9b2632",
   "metadata": {},
   "source": [
    "# 2. Предварительный анализ данных"
   ]
  },
  {
   "cell_type": "markdown",
   "id": "70a6752b",
   "metadata": {},
   "source": [
    "##### 2.1"
   ]
  },
  {
   "cell_type": "code",
   "execution_count": null,
   "id": "a04992ea",
   "metadata": {},
   "outputs": [],
   "source": [
    "SELECT max(age)\n",
    "FROM hh.CANDIDATE"
   ]
  },
  {
   "cell_type": "markdown",
   "id": "aa625fda",
   "metadata": {},
   "source": [
    "##### 2.2"
   ]
  },
  {
   "cell_type": "code",
   "execution_count": null,
   "id": "c14fe0e7",
   "metadata": {},
   "outputs": [],
   "source": [
    "SELECT min(age)\n",
    "FROM hh.CANDIDATE"
   ]
  },
  {
   "cell_type": "markdown",
   "id": "306d0381",
   "metadata": {},
   "source": [
    "##### 2.3"
   ]
  },
  {
   "cell_type": "code",
   "execution_count": null,
   "id": "71075777",
   "metadata": {},
   "outputs": [],
   "source": [
    "SELECT age, count(*)\n",
    "FROM hh.CANDIDATE\n",
    "group by 1\n",
    "order by 1 desc"
   ]
  },
  {
   "cell_type": "markdown",
   "id": "3e7a1d75",
   "metadata": {},
   "source": [
    "##### 2.4"
   ]
  },
  {
   "cell_type": "code",
   "execution_count": null,
   "id": "79b64998",
   "metadata": {},
   "outputs": [],
   "source": [
    "SELECT count(*)\n",
    "FROM hh.CANDIDATE\n",
    "where age between 41 and 99"
   ]
  },
  {
   "cell_type": "markdown",
   "id": "a67d5447",
   "metadata": {},
   "source": [
    "# 3. Глобальный анализ показателей"
   ]
  },
  {
   "cell_type": "markdown",
   "id": "c80629bc",
   "metadata": {},
   "source": [
    "##### 3.1"
   ]
  },
  {
   "cell_type": "code",
   "execution_count": null,
   "id": "1719b152",
   "metadata": {},
   "outputs": [],
   "source": [
    "SELECT ci.title city, count(c.id) cnt\n",
    "FROM hh.CANDIDATE c left join hh.city ci on ci.id = c.city_id\n",
    "group by 1\n",
    "order by 2 desc"
   ]
  },
  {
   "cell_type": "markdown",
   "id": "3a0242eb",
   "metadata": {},
   "source": [
    "##### 3.2"
   ]
  },
  {
   "cell_type": "code",
   "execution_count": null,
   "id": "a2b36e20",
   "metadata": {},
   "outputs": [],
   "source": [
    "SELECT c.gender,c.age, c.desirable_occupation, ci.title, c.employment_type\n",
    "FROM hh.CANDIDATE c left join hh.city ci on ci.id = c.city_id\n",
    "where ci.title = 'Москва' and c.employment_type like '%проектная работа%'\n",
    "order by c.id"
   ]
  },
  {
   "cell_type": "markdown",
   "id": "31b3538c",
   "metadata": {},
   "source": [
    "##### 3.3"
   ]
  },
  {
   "cell_type": "code",
   "execution_count": null,
   "id": "9a216b17",
   "metadata": {},
   "outputs": [],
   "source": [
    "SELECT c.gender,c.age, c.desirable_occupation, ci.title, c.employment_type\n",
    "FROM hh.CANDIDATE c left join hh.city ci on ci.id = c.city_id\n",
    "where ci.title = 'Москва' and c.employment_type like '%проектная работа%'\n",
    "and ((lower(c.desirable_occupation) like '%разработчик%' \n",
    "or lower(c.desirable_occupation) like '%аналитик%' \n",
    "or lower(c.desirable_occupation) like '%программист%'))\n",
    "order by c.id"
   ]
  },
  {
   "cell_type": "markdown",
   "id": "bb3753b0",
   "metadata": {},
   "source": [
    "##### 3.4"
   ]
  },
  {
   "cell_type": "code",
   "execution_count": null,
   "id": "520caccf",
   "metadata": {},
   "outputs": [],
   "source": [
    "SELECT c.id, ci.title\n",
    "FROM hh.CANDIDATE c left join hh.city ci on ci.id = c.city_id\n",
    "where c.desirable_occupation = c.current_occupation\n",
    "order by 2, 1"
   ]
  },
  {
   "cell_type": "markdown",
   "id": "5923e768",
   "metadata": {},
   "source": [
    "##### 3.5"
   ]
  },
  {
   "cell_type": "code",
   "execution_count": null,
   "id": "281fe312",
   "metadata": {},
   "outputs": [],
   "source": [
    "SELECT count(*)\n",
    "FROM hh.CANDIDATE\n",
    "where (gender = 'M' and age >= 65 and age!= 100) or (gender = 'F' and age >= 60 and age!= 100)"
   ]
  },
  {
   "cell_type": "markdown",
   "id": "a9fed057",
   "metadata": {},
   "source": [
    "# 4. Анализ кандидатов для заказчиков"
   ]
  },
  {
   "cell_type": "markdown",
   "id": "c295d8af",
   "metadata": {},
   "source": [
    "##### 4.1"
   ]
  },
  {
   "cell_type": "code",
   "execution_count": null,
   "id": "325d5d5b",
   "metadata": {},
   "outputs": [],
   "source": [
    "SELECT c.gender, c.age, c.desirable_occupation, ci.title city, c.employment_type, tt.title timetable_type\n",
    "FROM hh.CANDIDATE c \n",
    "left join hh.city ci on ci.id = c.city_id \n",
    "left join hh.candidate_timetable_type ctt on ctt.candidate_id = c.id\n",
    "left join hh.timetable_type tt on tt.id = ctt.timetable_id\n",
    "where ci.title in ('Новосибирск', 'Омск', 'Томск', 'Тюмень') and tt.title = 'вахтовый метод'\n",
    "order by 4, c.id"
   ]
  },
  {
   "cell_type": "markdown",
   "id": "5b826b22",
   "metadata": {},
   "source": [
    "##### 4.2"
   ]
  },
  {
   "cell_type": "code",
   "execution_count": null,
   "id": "e04adce5",
   "metadata": {},
   "outputs": [],
   "source": [
    "(SELECT c.desirable_occupation, c.age\n",
    "FROM hh.CANDIDATE c left join hh.city ci on ci.id = c.city_id \n",
    "where ci.title = 'Санкт-Петербург' and (c.age between 16 and 21)\n",
    "order by 2\n",
    "limit 10)\n",
    "union all\n",
    "(SELECT 'Total', count(*) \n",
    "FROM hh.CANDIDATE c left join hh.city ci on ci.id = c.city_id \n",
    "where ci.title = 'Санкт-Петербург' and (c.age between 16 and 21)\n",
    "order by 2)"
   ]
  },
  {
   "cell_type": "code",
   "execution_count": null,
   "id": "f33c792a",
   "metadata": {},
   "outputs": [],
   "source": []
  }
 ],
 "metadata": {
  "kernelspec": {
   "display_name": "Python 3 (ipykernel)",
   "language": "python",
   "name": "python3"
  },
  "language_info": {
   "codemirror_mode": {
    "name": "ipython",
    "version": 3
   },
   "file_extension": ".py",
   "mimetype": "text/x-python",
   "name": "python",
   "nbconvert_exporter": "python",
   "pygments_lexer": "ipython3",
   "version": "3.9.12"
  },
  "varInspector": {
   "cols": {
    "lenName": 16,
    "lenType": 16,
    "lenVar": 40
   },
   "kernels_config": {
    "python": {
     "delete_cmd_postfix": "",
     "delete_cmd_prefix": "del ",
     "library": "var_list.py",
     "varRefreshCmd": "print(var_dic_list())"
    },
    "r": {
     "delete_cmd_postfix": ") ",
     "delete_cmd_prefix": "rm(",
     "library": "var_list.r",
     "varRefreshCmd": "cat(var_dic_list()) "
    }
   },
   "types_to_exclude": [
    "module",
    "function",
    "builtin_function_or_method",
    "instance",
    "_Feature"
   ],
   "window_display": false
  }
 },
 "nbformat": 4,
 "nbformat_minor": 5
}
