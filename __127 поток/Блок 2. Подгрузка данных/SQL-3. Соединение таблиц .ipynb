{
 "cells": [
  {
   "cell_type": "code",
   "execution_count": null,
   "id": "593bf772",
   "metadata": {},
   "outputs": [],
   "source": [
    "SELECT\n",
    "    столбец1,\n",
    "\tстолбец2,\n",
    "\t...\n",
    "FROM\n",
    "\tтаблица1\n",
    "JOIN таблица2 ON условие\n",
    "JOIN таблица3 ON условие"
   ]
  },
  {
   "cell_type": "markdown",
   "id": "8fa4d9fd",
   "metadata": {},
   "source": [
    "# 1. Знакомимся с данными"
   ]
  },
  {
   "cell_type": "code",
   "execution_count": null,
   "id": "aa673c0f",
   "metadata": {},
   "outputs": [],
   "source": [
    "SELECT\n",
    "    season,\n",
    "    SUM(home_team_goals) AS total_home_goals,\n",
    "    SUM(away_team_goals) AS total_away_goals\n",
    "FROM sql.matches\n",
    "GROUP BY season\n",
    "ORDER BY season"
   ]
  },
  {
   "cell_type": "markdown",
   "id": "64564200",
   "metadata": {},
   "source": [
    "# 2. Соединение таблиц по ключу"
   ]
  },
  {
   "cell_type": "code",
   "execution_count": null,
   "id": "47ebfd24",
   "metadata": {},
   "outputs": [],
   "source": [
    "SELECT *\n",
    "FROM\n",
    "    sql.teams,\n",
    "    sql.matches\n",
    "WHERE home_team_api_id = api_id"
   ]
  },
  {
   "cell_type": "code",
   "execution_count": null,
   "id": "07670570",
   "metadata": {},
   "outputs": [],
   "source": [
    "SELECT \n",
    "    long_name, \n",
    "    home_team_goals,\n",
    "    away_team_goals\n",
    "FROM\n",
    "    sql.teams,\n",
    "    sql.matches\n",
    "WHERE home_team_api_id = api_id"
   ]
  },
  {
   "cell_type": "markdown",
   "id": "5ec1a388",
   "metadata": {},
   "source": [
    "# 3. Знакомимся с JOIN"
   ]
  },
  {
   "cell_type": "code",
   "execution_count": null,
   "id": "4c22c655",
   "metadata": {},
   "outputs": [],
   "source": [
    "SELECT \n",
    "    long_name,\n",
    "    home_team_goals,\n",
    "    away_team_goals\n",
    "FROM    \n",
    "    sql.teams\n",
    "JOIN sql.matches on home_team_api_id = api_id"
   ]
  },
  {
   "cell_type": "code",
   "execution_count": null,
   "id": "6193ecd1",
   "metadata": {},
   "outputs": [],
   "source": [
    "SELECT\n",
    "    teams.id\n",
    "FROM \n",
    "    sql.teams\n",
    "JOIN sql.matches ON home_team_api_id = api_id"
   ]
  },
  {
   "cell_type": "code",
   "execution_count": null,
   "id": "8599d9fd",
   "metadata": {},
   "outputs": [],
   "source": [
    "SELECT\n",
    "    teams.match_id,\n",
    "    teams.team_id\n",
    "FROM \n",
    "    sql.teams\n",
    "JOIN sql.matches ON home_team_api_id = api_id\n",
    "ORDER BY teams.match_id"
   ]
  },
  {
   "cell_type": "code",
   "execution_count": null,
   "id": "eb1a96f5",
   "metadata": {},
   "outputs": [],
   "source": [
    "SELECT\n",
    "    m.id match_id,\n",
    "    t.id team_id\n",
    "FROM\n",
    "    sql.matches m\n",
    "    join sql.teams t on t.api_id = m.home_team_api_id\n",
    "ORDER BY 1"
   ]
  },
  {
   "cell_type": "code",
   "execution_count": null,
   "id": "35f995ea",
   "metadata": {},
   "outputs": [],
   "source": [
    "SELECT\n",
    "    h.long_name \"домашняя команда\",\n",
    "    m.home_team_goals \"голы домашней команды\",\n",
    "    m.away_team_goals \"голы гостевой команды\",\n",
    "    a.long_name \"гостевая команда\" \n",
    "FROM\n",
    "    sql.matches m\n",
    "    JOIN sql.teams h ON m.home_team_api_id = h.api_id\n",
    "    JOIN sql.teams a ON m.away_team_api_id = a.api_id"
   ]
  },
  {
   "cell_type": "code",
   "execution_count": null,
   "id": "0d1f79d4",
   "metadata": {},
   "outputs": [],
   "source": [
    "SELECT \n",
    "    m.id,\n",
    "    t.short_name home_short,\n",
    "    t1.short_name away_short\n",
    "FROM sql.matches m\n",
    "JOIN sql.teams t on t.api_id = m.home_team_api_id\n",
    "JOIN sql.teams t1 on t1.api_id = m.away_team_api_id \n",
    "ORDER BY 1"
   ]
  },
  {
   "cell_type": "markdown",
   "id": "6bf40bbe",
   "metadata": {},
   "source": [
    "# 4. Фильтрация и агрегатные функции"
   ]
  },
  {
   "cell_type": "code",
   "execution_count": null,
   "id": "b070975a",
   "metadata": {},
   "outputs": [],
   "source": []
  }
 ],
 "metadata": {
  "kernelspec": {
   "display_name": "Python 3",
   "language": "python",
   "name": "python3"
  },
  "language_info": {
   "codemirror_mode": {
    "name": "ipython",
    "version": 3
   },
   "file_extension": ".py",
   "mimetype": "text/x-python",
   "name": "python",
   "nbconvert_exporter": "python",
   "pygments_lexer": "ipython3",
   "version": "3.8.8"
  },
  "varInspector": {
   "cols": {
    "lenName": 16,
    "lenType": 16,
    "lenVar": 40
   },
   "kernels_config": {
    "python": {
     "delete_cmd_postfix": "",
     "delete_cmd_prefix": "del ",
     "library": "var_list.py",
     "varRefreshCmd": "print(var_dic_list())"
    },
    "r": {
     "delete_cmd_postfix": ") ",
     "delete_cmd_prefix": "rm(",
     "library": "var_list.r",
     "varRefreshCmd": "cat(var_dic_list()) "
    }
   },
   "types_to_exclude": [
    "module",
    "function",
    "builtin_function_or_method",
    "instance",
    "_Feature"
   ],
   "window_display": false
  }
 },
 "nbformat": 4,
 "nbformat_minor": 5
}
