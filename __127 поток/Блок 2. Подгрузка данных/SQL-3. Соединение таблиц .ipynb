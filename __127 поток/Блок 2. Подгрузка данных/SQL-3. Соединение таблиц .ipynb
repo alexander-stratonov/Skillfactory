{
 "cells": [
  {
   "cell_type": "code",
   "execution_count": null,
   "id": "593bf772",
   "metadata": {},
   "outputs": [],
   "source": [
    "SELECT\n",
    "    столбец1,\n",
    "\tстолбец2,\n",
    "\t...\n",
    "FROM\n",
    "\tтаблица1\n",
    "JOIN таблица2 ON условие\n",
    "JOIN таблица3 ON условие"
   ]
  },
  {
   "cell_type": "markdown",
   "id": "8fa4d9fd",
   "metadata": {},
   "source": [
    "# 1. Знакомимся с данными"
   ]
  },
  {
   "cell_type": "code",
   "execution_count": null,
   "id": "aa673c0f",
   "metadata": {},
   "outputs": [],
   "source": [
    "SELECT\n",
    "    season,\n",
    "    SUM(home_team_goals) AS total_home_goals,\n",
    "    SUM(away_team_goals) AS total_away_goals\n",
    "FROM sql.matches\n",
    "GROUP BY season\n",
    "ORDER BY season"
   ]
  },
  {
   "cell_type": "markdown",
   "id": "64564200",
   "metadata": {},
   "source": [
    "# 2. Соединение таблиц по ключу"
   ]
  },
  {
   "cell_type": "code",
   "execution_count": null,
   "id": "47ebfd24",
   "metadata": {},
   "outputs": [],
   "source": [
    "SELECT *\n",
    "FROM\n",
    "    sql.teams,\n",
    "    sql.matches\n",
    "WHERE home_team_api_id = api_id"
   ]
  },
  {
   "cell_type": "code",
   "execution_count": null,
   "id": "07670570",
   "metadata": {},
   "outputs": [],
   "source": [
    "SELECT \n",
    "    long_name, \n",
    "    home_team_goals,\n",
    "    away_team_goals\n",
    "FROM\n",
    "    sql.teams,\n",
    "    sql.matches\n",
    "WHERE home_team_api_id = api_id"
   ]
  },
  {
   "cell_type": "markdown",
   "id": "5ec1a388",
   "metadata": {},
   "source": [
    "# 3. Знакомимся с JOIN"
   ]
  },
  {
   "cell_type": "code",
   "execution_count": null,
   "id": "4c22c655",
   "metadata": {},
   "outputs": [],
   "source": [
    "SELECT \n",
    "    long_name,\n",
    "    home_team_goals,\n",
    "    away_team_goals\n",
    "FROM    \n",
    "    sql.teams\n",
    "JOIN sql.matches on home_team_api_id = api_id"
   ]
  },
  {
   "cell_type": "code",
   "execution_count": null,
   "id": "6193ecd1",
   "metadata": {},
   "outputs": [],
   "source": [
    "SELECT\n",
    "    teams.id\n",
    "FROM \n",
    "    sql.teams\n",
    "JOIN sql.matches ON home_team_api_id = api_id"
   ]
  },
  {
   "cell_type": "code",
   "execution_count": null,
   "id": "8599d9fd",
   "metadata": {},
   "outputs": [],
   "source": [
    "SELECT\n",
    "    teams.match_id,\n",
    "    teams.team_id\n",
    "FROM \n",
    "    sql.teams\n",
    "JOIN sql.matches ON home_team_api_id = api_id\n",
    "ORDER BY teams.match_id"
   ]
  },
  {
   "cell_type": "code",
   "execution_count": null,
   "id": "eb1a96f5",
   "metadata": {},
   "outputs": [],
   "source": [
    "SELECT\n",
    "    m.id match_id,\n",
    "    t.id team_id\n",
    "FROM\n",
    "    sql.matches m\n",
    "    join sql.teams t on t.api_id = m.home_team_api_id\n",
    "ORDER BY 1"
   ]
  },
  {
   "cell_type": "code",
   "execution_count": null,
   "id": "35f995ea",
   "metadata": {},
   "outputs": [],
   "source": [
    "SELECT\n",
    "    h.long_name \"домашняя команда\",\n",
    "    m.home_team_goals \"голы домашней команды\",\n",
    "    m.away_team_goals \"голы гостевой команды\",\n",
    "    a.long_name \"гостевая команда\" \n",
    "FROM\n",
    "    sql.matches m\n",
    "    JOIN sql.teams h ON m.home_team_api_id = h.api_id\n",
    "    JOIN sql.teams a ON m.away_team_api_id = a.api_id"
   ]
  },
  {
   "cell_type": "code",
   "execution_count": null,
   "id": "0d1f79d4",
   "metadata": {},
   "outputs": [],
   "source": [
    "SELECT \n",
    "    m.id,\n",
    "    t.short_name home_short,\n",
    "    t1.short_name away_short\n",
    "FROM sql.matches m\n",
    "JOIN sql.teams t on t.api_id = m.home_team_api_id\n",
    "JOIN sql.teams t1 on t1.api_id = m.away_team_api_id \n",
    "ORDER BY 1"
   ]
  },
  {
   "cell_type": "markdown",
   "id": "6bf40bbe",
   "metadata": {},
   "source": [
    "# 4. Фильтрация и агрегатные функции"
   ]
  },
  {
   "cell_type": "markdown",
   "id": "25af4d5e",
   "metadata": {},
   "source": [
    "#### ФИЛЬТРАЦИЯ ДАННЫХ"
   ]
  },
  {
   "cell_type": "code",
   "execution_count": null,
   "id": "b070975a",
   "metadata": {},
   "outputs": [],
   "source": [
    "SELECT \n",
    "    m.id\n",
    "FROM\n",
    "    sql.teams t\n",
    "    JOIN sql.matches m ON m.away_team_api_id = t.api_id\n",
    "WHERE long_name = 'Arsenal'"
   ]
  },
  {
   "cell_type": "code",
   "execution_count": null,
   "id": "ce3de10f",
   "metadata": {},
   "outputs": [],
   "source": [
    "SELECT \n",
    "\tm.id id_1,\n",
    "\tm.season,\n",
    "\tt.id id_2,\n",
    "\tt.long_name\n",
    "FROM\n",
    "\tsql.teams t\n",
    "JOIN sql.matches m ON m.away_team_api_id = t.api_id"
   ]
  },
  {
   "cell_type": "code",
   "execution_count": null,
   "id": "9e7c609b",
   "metadata": {},
   "outputs": [],
   "source": [
    "SELECT \n",
    "    long_name, \n",
    "    home_team_goals home_goal,\n",
    "    away_team_goals away_goal\n",
    "FROM\n",
    "    sql.teams t\n",
    "JOIN sql.matches m ON m.home_team_api_id = t.api_id\n",
    "WHERE t.short_name = 'GEN'\n",
    "ORDER BY m.id"
   ]
  },
  {
   "cell_type": "code",
   "execution_count": null,
   "id": "d09486e4",
   "metadata": {},
   "outputs": [],
   "source": [
    "SELECT *\n",
    "FROM    \n",
    "    sql.matches m\n",
    "    JOIN sql.teams t on t.api_id = m.home_team_api_id\n",
    "WHERE\n",
    "    t.short_name = 'GEN'\n",
    "    AND m.season = '2008/2009'"
   ]
  },
  {
   "cell_type": "code",
   "execution_count": null,
   "id": "851f0780",
   "metadata": {},
   "outputs": [],
   "source": [
    "SELECT\n",
    "    m.id,\n",
    "    t.short_name home_short,\n",
    "    t1.short_name away_short\n",
    "FROM\n",
    "    sql.matches m\n",
    "JOIN sql.teams t ON m.home_team_api_id = t.api_id\n",
    "JOIN sql.teams t1 ON m.away_team_api_id = t1.api_id\n",
    "WHERE\n",
    "    m.season = '2011/2012'\n",
    "    and (t.long_name = 'Liverpool' or t1.long_name = 'Liverpool')\n",
    "ORDER BY m.id"
   ]
  },
  {
   "cell_type": "markdown",
   "id": "0da0330e",
   "metadata": {},
   "source": [
    "#### АГРЕГАЦИЯ ДАННЫХ"
   ]
  },
  {
   "cell_type": "code",
   "execution_count": null,
   "id": "2b3bd57d",
   "metadata": {},
   "outputs": [],
   "source": [
    "SELECT\n",
    "    t.long_name,\n",
    "    SUM(m.home_team_goals) + SUM(m.away_team_goals) match_goals\n",
    "FROM\n",
    "    sql.matches m\n",
    "    JOIN sql.teams t ON m.away_team_api_id = t.api_id \n",
    "GROUP BY t.id"
   ]
  },
  {
   "cell_type": "code",
   "execution_count": null,
   "id": "7ddba29d",
   "metadata": {},
   "outputs": [],
   "source": [
    "SELECT\n",
    "    m.season,\n",
    "    t.long_name,\n",
    "    SUM(m.home_team_goals) + SUM(m.away_team_goals) total_goals\n",
    "FROM sql.matches m\n",
    "JOIN sql.teams t ON t.api_id = m.home_team_api_id OR t.api_id = m.away_team_api_id\n",
    "GROUP BY m.season, t.id\n",
    "HAVING SUM(m.home_team_goals) + SUM(m.away_team_goals) > 100"
   ]
  },
  {
   "cell_type": "code",
   "execution_count": null,
   "id": "ef74c0d7",
   "metadata": {},
   "outputs": [],
   "source": [
    "SELECT\n",
    "    t.long_name\n",
    "FROM\n",
    "    sql.matches m\n",
    "JOIN sql.teams t ON m.away_team_api_id = t.api_id\n",
    "GROUP BY t.id\n",
    "HAVING COUNT(*) >= 150\n",
    "ORDER BY 1"
   ]
  },
  {
   "cell_type": "markdown",
   "id": "22557d01",
   "metadata": {},
   "source": [
    "# 5. Способы соединения таблиц"
   ]
  },
  {
   "cell_type": "code",
   "execution_count": null,
   "id": "464189fe",
   "metadata": {},
   "outputs": [],
   "source": [
    "SELECT\n",
    "    t.long_name,\n",
    "    m.id\n",
    "FROM sql.teams t\n",
    "LEFT JOIN sql.matches m ON t.api_id = m.home_team_api_id OR t.api_id = m.away_team_api_id\n",
    "ORDER BY m.id DESC"
   ]
  },
  {
   "cell_type": "code",
   "execution_count": null,
   "id": "608eb814",
   "metadata": {},
   "outputs": [],
   "source": [
    "SELECT\n",
    "    t.long_name\n",
    "FROM \n",
    "    sql.teams t\n",
    "LEFT JOIN sql.matches m ON t.api_id = m.home_team_api_id OR t.api_id = m.away_team_api_id\n",
    "WHERE m.id IS NULL"
   ]
  },
  {
   "cell_type": "code",
   "execution_count": null,
   "id": "e46b4294",
   "metadata": {},
   "outputs": [],
   "source": [
    "SELECT\n",
    "  DISTINCT t.long_name\n",
    "FROM\n",
    "  sql.teams t\n",
    "LEFT JOIN sql.matches m ON t.api_id = m.home_team_api_id or t.api_id = m.away_team_api_id\n",
    "WHERE m.id is not null\n",
    "ORDER BY 1"
   ]
  },
  {
   "cell_type": "code",
   "execution_count": null,
   "id": "df1aa29a",
   "metadata": {},
   "outputs": [],
   "source": [
    "SELECT\n",
    "    t.long_name,\n",
    "    SUM(m.away_team_goals) total_goals\n",
    "FROM   \n",
    "    sql.teams t\n",
    "LEFT JOIN sql.matches m ON t.api_id = m.away_team_api_id\n",
    "GROUP BY t.id\n",
    "ORDER BY 2 DESC"
   ]
  },
  {
   "cell_type": "code",
   "execution_count": null,
   "id": "8150a7ef",
   "metadata": {},
   "outputs": [],
   "source": [
    "select\n",
    "t.long_name,\n",
    "count(m.id)\n",
    "from\n",
    "sql.teams t\n",
    "left join sql.matches m on t.api_id = m.home_team_api_id or t.api_id = m.away_team_api_id\n",
    "group by t.id\n",
    "order by 2, 1"
   ]
  },
  {
   "cell_type": "code",
   "execution_count": null,
   "id": "dfc26885",
   "metadata": {},
   "outputs": [],
   "source": [
    "SELECT\n",
    "    DISTINCT\n",
    "    t1.short_name home_team, \n",
    "    t2.short_name away_team\n",
    "FROM\n",
    "    sql.teams t1\n",
    "    CROSS JOIN sql.teams t2\n",
    "order by 1, 2"
   ]
  },
  {
   "cell_type": "markdown",
   "id": "272473a5",
   "metadata": {},
   "source": [
    "# 6. Итоги. Закрепление знаний"
   ]
  },
  {
   "cell_type": "code",
   "execution_count": null,
   "id": "f8232e24",
   "metadata": {},
   "outputs": [],
   "source": [
    "SELECT DISTINCT t.long_name\n",
    "FROM sql.teams t\n",
    "LEFT JOIN sql.matches m ON t.api_id = m.away_team_api_id\n",
    "WHERE m.season = '2012/2013'\n",
    "ORDER BY long_name"
   ]
  },
  {
   "cell_type": "code",
   "execution_count": null,
   "id": "1f7a8ee8",
   "metadata": {},
   "outputs": [],
   "source": [
    "SELECT  t.long_name, count(*) matches_cnt\n",
    "FROM sql.teams t\n",
    "LEFT JOIN sql.matches m ON t.api_id = m.home_team_api_id\n",
    "WHERE t.long_name = 'Inter'\n",
    "GROUP BY t.long_name\n",
    "ORDER BY long_name"
   ]
  },
  {
   "cell_type": "code",
   "execution_count": null,
   "id": "0090f17f",
   "metadata": {},
   "outputs": [],
   "source": [
    "SELECT  t.long_name, sum(m.away_team_goals) total_goals\n",
    "FROM sql.teams t\n",
    "JOIN sql.matches m ON t.api_id = m.away_team_api_id\n",
    "GROUP BY t.id\n",
    "ORDER BY total_goals DESC\n",
    "LIMIT 10"
   ]
  },
  {
   "cell_type": "code",
   "execution_count": null,
   "id": "2032555c",
   "metadata": {},
   "outputs": [],
   "source": [
    "SELECT\n",
    "    COUNT (*)\n",
    "FROM\n",
    "    sql.matches m\n",
    "    JOIN sql.teams h ON h.api_id = m.home_team_api_id \n",
    "    JOIN sql.teams a ON a.api_id = m.away_team_api_id\n",
    "WHERE\n",
    "    (h.long_name = 'Real Madrid CF' and a.long_name = 'FC Barcelona')\n",
    "    or (a.long_name = 'Real Madrid CF' and h.long_name = 'FC Barcelona')"
   ]
  },
  {
   "cell_type": "code",
   "execution_count": null,
   "id": "97004c61",
   "metadata": {},
   "outputs": [],
   "source": [
    "SELECT  t.long_name, m.season, sum(m.home_team_goals) total_goals\n",
    "FROM sql.teams t\n",
    "JOIN sql.matches m ON t.api_id = m.home_team_api_id\n",
    "GROUP BY t.id, m.season\n",
    "HAVING sum(m.home_team_goals) < 10\n",
    "ORDER BY long_name, season"
   ]
  },
  {
   "cell_type": "code",
   "execution_count": null,
   "id": "ba56aeee",
   "metadata": {},
   "outputs": [],
   "source": []
  }
 ],
 "metadata": {
  "kernelspec": {
   "display_name": "Python 3 (ipykernel)",
   "language": "python",
   "name": "python3"
  },
  "language_info": {
   "codemirror_mode": {
    "name": "ipython",
    "version": 3
   },
   "file_extension": ".py",
   "mimetype": "text/x-python",
   "name": "python",
   "nbconvert_exporter": "python",
   "pygments_lexer": "ipython3",
   "version": "3.9.12"
  },
  "varInspector": {
   "cols": {
    "lenName": 16,
    "lenType": 16,
    "lenVar": 40
   },
   "kernels_config": {
    "python": {
     "delete_cmd_postfix": "",
     "delete_cmd_prefix": "del ",
     "library": "var_list.py",
     "varRefreshCmd": "print(var_dic_list())"
    },
    "r": {
     "delete_cmd_postfix": ") ",
     "delete_cmd_prefix": "rm(",
     "library": "var_list.r",
     "varRefreshCmd": "cat(var_dic_list()) "
    }
   },
   "types_to_exclude": [
    "module",
    "function",
    "builtin_function_or_method",
    "instance",
    "_Feature"
   ],
   "window_display": false
  }
 },
 "nbformat": 4,
 "nbformat_minor": 5
}
