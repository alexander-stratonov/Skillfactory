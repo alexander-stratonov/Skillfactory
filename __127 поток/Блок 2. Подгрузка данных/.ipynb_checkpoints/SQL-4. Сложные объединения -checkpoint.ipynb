{
 "cells": [
  {
   "cell_type": "code",
   "execution_count": null,
   "id": "67c4afdf",
   "metadata": {},
   "outputs": [],
   "source": [
    "SELECT \n",
    "         N columns\n",
    "FROM \n",
    "         table_1\n",
    "\n",
    "UNION / UNION ALL / EXCEPT / INTERSECT \n",
    "\n",
    "SELECT \n",
    "         N columns\n",
    "FROM \n",
    "         table_2"
   ]
  },
  {
   "cell_type": "markdown",
   "id": "72a7a0d5",
   "metadata": {},
   "source": [
    "# 1. Знакомимся с данными"
   ]
  },
  {
   "cell_type": "code",
   "execution_count": null,
   "id": "8e94bdc5",
   "metadata": {},
   "outputs": [],
   "source": [
    "SELECT city_name, max(weight) m_w\n",
    "FROM sql.shipment s JOIN sql.city c on s.city_id = c.city_id\n",
    "group by city_name\n",
    "order by m_w desc\n",
    "limit 1"
   ]
  },
  {
   "cell_type": "code",
   "execution_count": null,
   "id": "44cf200d",
   "metadata": {},
   "outputs": [],
   "source": [
    "SELECT distinct make\n",
    "FROM sql.truck"
   ]
  },
  {
   "cell_type": "code",
   "execution_count": null,
   "id": "f60c7058",
   "metadata": {},
   "outputs": [],
   "source": [
    "select\n",
    "  dr.first_name\n",
    "from sql.shipment as sh\n",
    "     join sql.driver as dr on sh.driver_id = dr.driver_id\n",
    "group by dr.driver_id, sh.cust_id\n",
    "order by count(*) desc\n",
    "limit 1"
   ]
  },
  {
   "cell_type": "code",
   "execution_count": null,
   "id": "1f389f8b",
   "metadata": {},
   "outputs": [],
   "source": [
    "SELECT min(ship_date), max(ship_date)\n",
    "FROM sql.shipment"
   ]
  },
  {
   "cell_type": "code",
   "execution_count": null,
   "id": "0d4f0dec",
   "metadata": {},
   "outputs": [],
   "source": [
    "SELECT cust_name, count(s.cust_id)\n",
    "FROM sql.shipment s JOIN sql.customer c on s.cust_id = c.cust_id\n",
    "where (extract (year from ship_date) = 2017) \n",
    "group by cust_name\n",
    "order by 2 desc"
   ]
  },
  {
   "cell_type": "markdown",
   "id": "ac15f82b",
   "metadata": {},
   "source": [
    "# 2. UNION"
   ]
  },
  {
   "cell_type": "raw",
   "id": "42c14fd8",
   "metadata": {},
   "source": [
    "SELECT \n",
    "         book_name object_name, 'книга' object_description \n",
    "FROM \n",
    "         public.books\n",
    "UNION ALL\n",
    "\n",
    "SELECT \n",
    "         movie_title, 'фильм' \n",
    "FROM \n",
    "         sql.kinopoisk"
   ]
  },
  {
   "cell_type": "code",
   "execution_count": null,
   "id": "2db0a248",
   "metadata": {},
   "outputs": [],
   "source": [
    "SELECT\n",
    "         c.city_id object_name, 'id города' object_type\n",
    "FROM \n",
    "         sql.city c\n",
    "\n",
    "UNION ALL\n",
    "\n",
    "SELECT\n",
    "         d.driver_id other_name, 'id водителя' other_type\n",
    "FROM \n",
    "         sql.driver d\n",
    "\n",
    "UNION ALL\n",
    "\n",
    "SELECT\n",
    "         s.ship_id, 'id доставки'\n",
    "FROM \n",
    "         sql.shipment s\n",
    "\n",
    "UNION ALL\n",
    "\n",
    "SELECT\n",
    "         c.cust_id, 'id клиента'\n",
    "FROM \n",
    "         sql.customer c\n",
    "\n",
    "UNION ALL\n",
    "\n",
    "SELECT\n",
    "         t.truck_id, 'id грузовика'\n",
    "FROM \n",
    "         sql.truck t\n",
    "ORDER BY 1"
   ]
  },
  {
   "cell_type": "code",
   "execution_count": null,
   "id": "e9b9cb7e",
   "metadata": {},
   "outputs": [],
   "source": [
    "SELECT book_name object_name, 'книга' object_descritption \n",
    "FROM public.books\n",
    "UNION ALL\n",
    "SELECT movie_title, 'фильм' \n",
    "FROM sql.kinopoisk\n",
    "ORDER BY 1\n",
    "LIMIT 1"
   ]
  },
  {
   "cell_type": "code",
   "execution_count": null,
   "id": "bc8bb02c",
   "metadata": {},
   "outputs": [],
   "source": [
    "(SELECT book_name object_name, 'книга' object_descritption \n",
    "FROM public.books\n",
    "ORDER BY 1\n",
    "LIMIT 1)\n",
    "UNION ALL\n",
    "(SELECT movie_title, 'фильм' \n",
    "FROM sql.kinopoisk\n",
    "ORDER BY 1\n",
    "LIMIT 1)"
   ]
  },
  {
   "cell_type": "code",
   "execution_count": null,
   "id": "55569988",
   "metadata": {},
   "outputs": [],
   "source": [
    "SELECT c.city_name \"название\" , 'city' \"тип объекта\"\n",
    "FROM sql.city c\n",
    "UNION\n",
    "SELECT c.state, 'state'\n",
    "FROM sql.city c\n",
    "UNION\n",
    "SELECT d.first_name , 'driver' \n",
    "FROM sql.driver d\n",
    "UNION\n",
    "SELECT t.make, 'truck'\n",
    "FROM sql.truck t\n",
    "ORDER BY 1, 2"
   ]
  },
  {
   "cell_type": "code",
   "execution_count": null,
   "id": "84d9358a",
   "metadata": {},
   "outputs": [],
   "source": [
    "SELECT c.city_name \"object_name\" \n",
    "FROM sql.city c\n",
    "UNION ALL\n",
    "SELECT c.state\n",
    "FROM sql.city c\n",
    "ORDER BY 1"
   ]
  },
  {
   "cell_type": "markdown",
   "id": "7e6dcb2d",
   "metadata": {},
   "source": [
    "# 3. UNION и ограничение типов данных"
   ]
  },
  {
   "cell_type": "code",
   "execution_count": null,
   "id": "340d63c7",
   "metadata": {},
   "outputs": [],
   "source": [
    "SELECT \n",
    "         c.city_id::text\n",
    "FROM\n",
    "         sql.city c\n",
    "\n",
    "UNION ALL\n",
    "\n",
    "SELECT \n",
    "         cc.city_name\n",
    "FROM\n",
    "         sql.city cc"
   ]
  },
  {
   "cell_type": "code",
   "execution_count": null,
   "id": "0e3d93c2",
   "metadata": {},
   "outputs": [],
   "source": [
    "SELECT\n",
    "    d.zip_code::text contact,\n",
    "    d.first_name first_name,\n",
    "    'zip' contact_type\n",
    "FROM\n",
    "    sql.driver d\n",
    "UNION\n",
    "SELECT\n",
    "    dd.phone contact,\n",
    "    dd.first_name first_name,\n",
    "    'phone' contact_type\n",
    "FROM\n",
    "    sql.driver dd\n",
    "ORDER BY 1,2"
   ]
  },
  {
   "cell_type": "markdown",
   "id": "bde6e5bf",
   "metadata": {},
   "source": [
    "# 4. UNION ALL и промежуточные итоги"
   ]
  },
  {
   "cell_type": "code",
   "execution_count": null,
   "id": "4eebdbde",
   "metadata": {},
   "outputs": [],
   "source": [
    "SELECT\n",
    "         c.city_name,\n",
    "         c.population\n",
    "FROM\n",
    "         sql.city c\n",
    "\n",
    "UNION ALL\n",
    "\n",
    "SELECT\n",
    "         'total',\n",
    "         SUM(c.population)\n",
    "FROM\n",
    "         sql.city c\n",
    "ORDER BY 2 DESC"
   ]
  },
  {
   "cell_type": "code",
   "execution_count": null,
   "id": "bfb4edcb",
   "metadata": {},
   "outputs": [],
   "source": [
    "SELECT s.ship_date::text date_period, COUNT(*) cnt_shipment\n",
    "FROM sql.shipment s \n",
    "GROUP BY 1\n",
    "UNION ALL\n",
    "SELECT 'total_shipments', COUNT(*)\n",
    "FROM sql.shipment s\n",
    "ORDER BY 2 desc"
   ]
  },
  {
   "cell_type": "markdown",
   "id": "b7a3672d",
   "metadata": {},
   "source": [
    "# 5. UNION и дополнительные условия"
   ]
  },
  {
   "cell_type": "code",
   "execution_count": null,
   "id": "4d1d19bd",
   "metadata": {},
   "outputs": [],
   "source": [
    "SELECT\n",
    "         d.first_name,\n",
    "         d.last_name,\n",
    "         'телефон заполнен' phone_info\n",
    "FROM\n",
    "         sql.driver d\n",
    "WHERE d.phone IS NOT NULL\n",
    "\n",
    "UNION\n",
    "\n",
    "SELECT\n",
    "         d.first_name,\n",
    "         d.last_name,\n",
    "         'телефон не заполнен' phone_info\n",
    "FROM\n",
    "         sql.driver d\n",
    "WHERE d.phone IS NULL"
   ]
  },
  {
   "cell_type": "code",
   "execution_count": null,
   "id": "956c9865",
   "metadata": {},
   "outputs": [],
   "source": [
    "SELECT\n",
    "         c.city_name,\n",
    "         c.state,\n",
    "         'доставка осуществлялась' shipping_status\n",
    "FROM \n",
    "    sql.city c LEFT JOIN sql.shipment s ON c.city_id=s.city_id\n",
    "WHERE s.city_id IS NOT NULL\n",
    "UNION\n",
    "SELECT \n",
    "     c.city_name AS city_name,\n",
    "     c.state AS state,\n",
    "    'доставка не осуществлялась' AS shipping_status\n",
    "FROM \n",
    "    sql.city c\n",
    "    LEFT JOIN sql.shipment s ON c.city_id=s.city_id\n",
    "WHERE s.city_id IS NULL\n",
    "ORDER BY 1, 2"
   ]
  },
  {
   "cell_type": "code",
   "execution_count": null,
   "id": "5c5e5abc",
   "metadata": {},
   "outputs": [],
   "source": [
    "SELECT\n",
    "    c.city_name AS city_name,\n",
    "    COUNT(s.ship_id) shippings_fake\n",
    "FROM\n",
    "    sql.city c\n",
    "    JOIN sql.shipment s ON c.city_id=s.city_id\n",
    "GROUP BY\n",
    "    c.city_name\n",
    "HAVING\n",
    "     COUNT(s.ship_id) > 10\n",
    "UNION\n",
    "SELECT\n",
    "    c.city_name AS city_name,\n",
    "    COUNT(s.ship_id)+5 shippings_fake\n",
    "FROM\n",
    "    sql.city c\n",
    "    JOIN sql.shipment s ON c.city_id=s.city_id\n",
    "GROUP BY\n",
    "    c.city_name\n",
    "HAVING\n",
    "     COUNT(s.ship_id) <= 10\n",
    "ORDER BY\n",
    "    shippings_fake desc,\n",
    "    city_name asc"
   ]
  },
  {
   "cell_type": "markdown",
   "id": "f7fa62da",
   "metadata": {},
   "source": [
    "# 6. UNION и ручная генерация"
   ]
  },
  {
   "cell_type": "code",
   "execution_count": null,
   "id": "0b82b28f",
   "metadata": {},
   "outputs": [],
   "source": [
    "SELECT 1000000\n",
    "UNION \n",
    "SELECT 541\n",
    "UNION \n",
    "SELECT -500\n",
    "UNION \n",
    "SELECT 100\n",
    "order by 1 desc\n",
    "limit 1"
   ]
  },
  {
   "cell_type": "code",
   "execution_count": null,
   "id": "8ee5afe4",
   "metadata": {},
   "outputs": [],
   "source": [
    "SELECT '1000000'\n",
    "UNION \n",
    "SELECT '541'\n",
    "UNION \n",
    "SELECT '-500'\n",
    "UNION \n",
    "SELECT '100'\n",
    "order by 1 desc\n",
    "limit 1"
   ]
  },
  {
   "cell_type": "code",
   "execution_count": null,
   "id": "d2d36f9e",
   "metadata": {},
   "outputs": [],
   "source": [
    "SELECT '+'\n",
    "UNION \n",
    "SELECT '-'\n",
    "UNION \n",
    "SELECT '='\n",
    "UNION \n",
    "SELECT '/'\n",
    "order by 1 desc\n",
    "limit 1"
   ]
  },
  {
   "cell_type": "markdown",
   "id": "4762be6b",
   "metadata": {},
   "source": [
    "# 7. EXCEPT"
   ]
  },
  {
   "cell_type": "code",
   "execution_count": null,
   "id": "ddbfb27b",
   "metadata": {},
   "outputs": [],
   "source": [
    "SELECT\n",
    "         c.city_name\n",
    "FROM\n",
    "         sql.shipment s\n",
    "JOIN sql.city c ON s.city_id = c.city_id\n",
    "\n",
    "EXCEPT\n",
    "\n",
    "SELECT\n",
    "         cc.city_name\n",
    "FROM\n",
    "         sql.driver d \n",
    "JOIN sql.city cc ON d.city_id=cc.city_id\n",
    "ORDER BY 1"
   ]
  },
  {
   "cell_type": "code",
   "execution_count": null,
   "id": "26115d84",
   "metadata": {},
   "outputs": [],
   "source": [
    "SELECT\n",
    "         d.zip_code\n",
    "FROM\n",
    "         sql.driver d\n",
    "EXCEPT\n",
    "SELECT\n",
    "         c.zip\n",
    "FROM\n",
    "         sql.customer c\n",
    "ORDER BY 1"
   ]
  },
  {
   "cell_type": "markdown",
   "id": "94223ffb",
   "metadata": {},
   "source": [
    "# 8. INTERSECT"
   ]
  },
  {
   "cell_type": "code",
   "execution_count": null,
   "id": "0d84246d",
   "metadata": {},
   "outputs": [],
   "source": [
    "SELECT \n",
    "         c.city_name object_name\n",
    "FROM \n",
    "         sql.city c\n",
    "\n",
    "INTERSECT\n",
    "\n",
    "SELECT \n",
    "         cc.state\n",
    "FROM \n",
    "         sql.city cc\n",
    "ORDER BY 1"
   ]
  },
  {
   "cell_type": "code",
   "execution_count": null,
   "id": "3c8785c6",
   "metadata": {},
   "outputs": [],
   "source": [
    "SELECT \n",
    "         c.city_id\n",
    "FROM \n",
    "         sql.customer  c\n",
    "INTERSECT\n",
    "SELECT \n",
    "         s.city_id\n",
    "FROM \n",
    "         sql.shipment s\n",
    "INTERSECT\n",
    "SELECT \n",
    "         d.city_id\n",
    "FROM \n",
    "         sql.driver d"
   ]
  },
  {
   "cell_type": "markdown",
   "id": "6346f699",
   "metadata": {},
   "source": [
    "# 9. Итоги. Закрепление знаний"
   ]
  },
  {
   "cell_type": "code",
   "execution_count": null,
   "id": "f7bd34c2",
   "metadata": {},
   "outputs": [],
   "source": [
    "(SELECT \n",
    "         c.city_name,\n",
    "         min(s.weight) weight\n",
    "FROM \n",
    "         sql.city c join sql.shipment s on s.city_id = c.city_id\n",
    "GROUP BY c.city_name\n",
    "order BY 2\n",
    "limit 1)\n",
    "\n",
    "UNION\n",
    "\n",
    "(SELECT \n",
    "         c.city_name,\n",
    "         max(s.weight)\n",
    "FROM \n",
    "         sql.city c join sql.shipment s on s.city_id = c.city_id\n",
    "GROUP BY c.city_name\n",
    "order BY 2 desc\n",
    "limit 1)"
   ]
  },
  {
   "cell_type": "code",
   "execution_count": null,
   "id": "c758a641",
   "metadata": {},
   "outputs": [],
   "source": [
    "SELECT \n",
    "         cust_id mutual_id\n",
    "FROM \n",
    "         sql.customer  c\n",
    "INTERSECT\n",
    "SELECT \n",
    "         ship_id\n",
    "FROM \n",
    "         sql.shipment  s\n",
    "order BY 1"
   ]
  },
  {
   "cell_type": "code",
   "execution_count": null,
   "id": "d31c13ea",
   "metadata": {},
   "outputs": [],
   "source": [
    "SELECT \n",
    "         cust_name object_name, 'КЛИЕНТ' object_description\n",
    "FROM \n",
    "         sql.customer  c\n",
    "where cust_type='manufacturer'\n",
    "union\n",
    "SELECT \n",
    "         make, 'ГРУЗОВИК'\n",
    "FROM \n",
    "         sql.truck t\n",
    "order BY 1"
   ]
  }
 ],
 "metadata": {
  "kernelspec": {
   "display_name": "Python 3",
   "language": "python",
   "name": "python3"
  },
  "language_info": {
   "codemirror_mode": {
    "name": "ipython",
    "version": 3
   },
   "file_extension": ".py",
   "mimetype": "text/x-python",
   "name": "python",
   "nbconvert_exporter": "python",
   "pygments_lexer": "ipython3",
   "version": "3.8.8"
  },
  "varInspector": {
   "cols": {
    "lenName": 16,
    "lenType": 16,
    "lenVar": 40
   },
   "kernels_config": {
    "python": {
     "delete_cmd_postfix": "",
     "delete_cmd_prefix": "del ",
     "library": "var_list.py",
     "varRefreshCmd": "print(var_dic_list())"
    },
    "r": {
     "delete_cmd_postfix": ") ",
     "delete_cmd_prefix": "rm(",
     "library": "var_list.r",
     "varRefreshCmd": "cat(var_dic_list()) "
    }
   },
   "types_to_exclude": [
    "module",
    "function",
    "builtin_function_or_method",
    "instance",
    "_Feature"
   ],
   "window_display": false
  }
 },
 "nbformat": 4,
 "nbformat_minor": 5
}
