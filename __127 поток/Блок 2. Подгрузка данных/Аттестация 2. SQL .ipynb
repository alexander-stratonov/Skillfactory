{
 "cells": [
  {
   "cell_type": "code",
   "execution_count": null,
   "id": "51ce8815",
   "metadata": {},
   "outputs": [],
   "source": [
    "select *\n",
    "from sqlprotest.genres\n",
    "from sqlprotest.movie_genres\n",
    "from sqlprotest.movies"
   ]
  },
  {
   "cell_type": "markdown",
   "id": "762c8fd0",
   "metadata": {},
   "source": [
    "# Задание 4 +++++"
   ]
  },
  {
   "cell_type": "raw",
   "id": "7ade6ef0",
   "metadata": {},
   "source": [
    "Напишите запрос, который выведет количество фильмов в каждом жанре для случаев, когда в жанре представлено три или больше фильма. Столбцы к выводу ― genre_name (имя жанра) и movies_count (количество фильмов). Результат отсортируйте по второму полю в порядке убывания."
   ]
  },
  {
   "cell_type": "code",
   "execution_count": null,
   "id": "fabfd727",
   "metadata": {},
   "outputs": [],
   "source": [
    "select g.name genre_name, count(mg.movie_id) movies_count\n",
    "from sqlprotest.movies m\n",
    "join sqlprotest.movie_genres mg on m.id = mg.movie_id\n",
    "join sqlprotest.genres g on mg.genre_id = g.id\n",
    "group by 1\n",
    "having count(mg.movie_id) >= 3\n",
    "order by 2 desc"
   ]
  },
  {
   "cell_type": "markdown",
   "id": "ac34c57f",
   "metadata": {},
   "source": [
    "# Задание 7 +++++"
   ]
  },
  {
   "cell_type": "raw",
   "id": "1fa071f0",
   "metadata": {},
   "source": [
    "Напишите запрос, с помощью которого можно выбрать фильмы, не относящихся к жанру 'Криминал'. Выведите все столбцы таблицы movies."
   ]
  },
  {
   "cell_type": "code",
   "execution_count": null,
   "id": "524b4f85",
   "metadata": {},
   "outputs": [],
   "source": [
    "select m.id, m.name, m.year, m.rating\n",
    "from sqlprotest.movies m\n",
    "join sqlprotest.movie_genres mg on m.id = mg.movie_id\n",
    "join sqlprotest.genres g on mg.genre_id = g.id\n",
    "\n",
    "except\n",
    "\n",
    "select m.id, m.name, m.year, m.rating\n",
    "from sqlprotest.movies m\n",
    "join sqlprotest.movie_genres mg on m.id = mg.movie_id\n",
    "join sqlprotest.genres g on mg.genre_id = g.id\n",
    "where g.name = 'Криминал'\n",
    "order by 2"
   ]
  },
  {
   "cell_type": "markdown",
   "id": "6c0928cd",
   "metadata": {},
   "source": [
    "# Задание 8 +++++"
   ]
  },
  {
   "cell_type": "raw",
   "id": "555afc5d",
   "metadata": {},
   "source": [
    "Напишите запрос, который покажет три фильма, у которых есть рейтинг. Отсортируйте выборку по возрастанию года выхода фильма. Выведите все поля таблицы movies."
   ]
  },
  {
   "cell_type": "code",
   "execution_count": null,
   "id": "edece15c",
   "metadata": {},
   "outputs": [],
   "source": [
    "select m.*\n",
    "from sqlprotest.movies m\n",
    "where m.rating is not null\n",
    "order by m.year\n",
    "limit 3"
   ]
  },
  {
   "cell_type": "markdown",
   "id": "7dce7957",
   "metadata": {},
   "source": [
    "# Задание 10 +++++"
   ]
  },
  {
   "cell_type": "raw",
   "id": "aec3618f",
   "metadata": {},
   "source": [
    "Напишите запрос, с помощью которого можно вычислить средний рейтинг фильмов в каждом жанре. Выведите два столбца: genre_name (название жанра) и average_rating (средний рейтинг). Результат отсортируйте по второму полю в порядке убывания."
   ]
  },
  {
   "cell_type": "code",
   "execution_count": null,
   "id": "7ed3a229",
   "metadata": {},
   "outputs": [],
   "source": [
    "select g.name genre_name, avg(m.rating) average_rating\n",
    "from sqlprotest.movies m\n",
    "join sqlprotest.movie_genres mg on m.id = mg.movie_id\n",
    "join sqlprotest.genres g on mg.genre_id = g.id\n",
    "group by g.name\n",
    "order by 2 desc"
   ]
  },
  {
   "cell_type": "markdown",
   "id": "836c5533",
   "metadata": {},
   "source": [
    "# Задание 11 +++++"
   ]
  },
  {
   "cell_type": "raw",
   "id": "919ba649",
   "metadata": {},
   "source": [
    "Напишите запрос, чтобы вывести все названия фильмов и их рейтинги.Если рейтинга нет, отобразите 0 для такого фильма. Отсортируйте по названию фильма в порядке возрастания."
   ]
  },
  {
   "cell_type": "code",
   "execution_count": null,
   "id": "5684f6a3",
   "metadata": {},
   "outputs": [],
   "source": [
    "select m.name, coalesce(m.rating, 0 )\n",
    "from sqlprotest.movies m\n",
    "order by m.name"
   ]
  }
 ],
 "metadata": {
  "kernelspec": {
   "display_name": "Python 3 (ipykernel)",
   "language": "python",
   "name": "python3"
  },
  "language_info": {
   "codemirror_mode": {
    "name": "ipython",
    "version": 3
   },
   "file_extension": ".py",
   "mimetype": "text/x-python",
   "name": "python",
   "nbconvert_exporter": "python",
   "pygments_lexer": "ipython3",
   "version": "3.9.12"
  }
 },
 "nbformat": 4,
 "nbformat_minor": 5
}
