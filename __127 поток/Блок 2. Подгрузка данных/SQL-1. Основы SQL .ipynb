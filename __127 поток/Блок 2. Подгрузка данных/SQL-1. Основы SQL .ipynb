{
 "cells": [
  {
   "cell_type": "code",
   "execution_count": null,
   "id": "c40a1d47",
   "metadata": {},
   "outputs": [],
   "source": [
    "SELECT\n",
    "    столбец1 AS новое_название,\n",
    "    столбец2,\n",
    "    столбец3\n",
    "FROM таблица\n",
    "WHERE (условие1 OR условие2)\n",
    "    AND условие3\n",
    "ORDER BY сортировка1, сортировка2\n",
    "OFFSET 1 LIMIT 2"
   ]
  },
  {
   "cell_type": "markdown",
   "id": "1130cc29",
   "metadata": {},
   "source": [
    "# 1. Получаем все данные из таблицы"
   ]
  },
  {
   "cell_type": "code",
   "execution_count": null,
   "id": "3c7fcdd5",
   "metadata": {},
   "outputs": [],
   "source": [
    "SELECT *\n",
    "FROM sql.kinopoisk"
   ]
  },
  {
   "cell_type": "code",
   "execution_count": null,
   "id": "074c2dc6",
   "metadata": {},
   "outputs": [],
   "source": [
    "SELECT movie_title, year, rating\n",
    "FROM sql.kinopoisk"
   ]
  },
  {
   "cell_type": "code",
   "execution_count": null,
   "id": "e1deeff6",
   "metadata": {},
   "outputs": [],
   "source": [
    "SELECT\n",
    "    movie_title,\n",
    "    2020 - year,\n",
    "    rating\n",
    "FROM sql.kinopoisk"
   ]
  },
  {
   "cell_type": "code",
   "execution_count": null,
   "id": "65482634",
   "metadata": {},
   "outputs": [],
   "source": [
    "SELECT\n",
    "    director,\n",
    "    movie_title,\n",
    "    10 - rating AS difference\n",
    "FROM sql.kinopoisk"
   ]
  },
  {
   "cell_type": "code",
   "execution_count": null,
   "id": "f9419549",
   "metadata": {},
   "outputs": [],
   "source": [
    "SELECT\n",
    "    movie_title,\n",
    "    year / rating\n",
    "FROM sql.kinopoisk"
   ]
  },
  {
   "cell_type": "markdown",
   "id": "38fa23b6",
   "metadata": {},
   "source": [
    "# 2. Фильтруем строки"
   ]
  },
  {
   "cell_type": "markdown",
   "id": "8d8a8aae",
   "metadata": {},
   "source": [
    "#### WHERE"
   ]
  },
  {
   "cell_type": "code",
   "execution_count": null,
   "id": "2934d6f4",
   "metadata": {},
   "outputs": [],
   "source": [
    "SELECT *\n",
    "FROM sql.kinopoisk\n",
    "WHERE position = 1"
   ]
  },
  {
   "cell_type": "code",
   "execution_count": null,
   "id": "e88adffb",
   "metadata": {},
   "outputs": [],
   "source": [
    "SELECT *\n",
    "FROM sql.kinopoisk\n",
    "WHERE year <> 2000"
   ]
  },
  {
   "cell_type": "markdown",
   "id": "7073c41e",
   "metadata": {},
   "source": [
    "#### AND И OR"
   ]
  },
  {
   "cell_type": "code",
   "execution_count": null,
   "id": "ec469747",
   "metadata": {},
   "outputs": [],
   "source": [
    "SELECT *\n",
    "FROM sql.kinopoisk\n",
    "WHERE year >= 1975\n",
    "    AND year <= 1985"
   ]
  },
  {
   "cell_type": "markdown",
   "id": "87e7bff3",
   "metadata": {},
   "source": [
    "#### BETWEEN"
   ]
  },
  {
   "cell_type": "code",
   "execution_count": null,
   "id": "5f8e2402",
   "metadata": {},
   "outputs": [],
   "source": [
    "SELECT *\n",
    "FROM sql.kinopoisk\n",
    "WHERE year BETWEEN 1975 AND 1985"
   ]
  },
  {
   "cell_type": "markdown",
   "id": "cd788235",
   "metadata": {},
   "source": [
    "#### NOT"
   ]
  },
  {
   "cell_type": "code",
   "execution_count": null,
   "id": "06fa076d",
   "metadata": {},
   "outputs": [],
   "source": [
    "SELECT *\n",
    "FROM sql.kinopoisk\n",
    "WHERE year NOT BETWEEN 1965 AND 1980"
   ]
  },
  {
   "cell_type": "code",
   "execution_count": null,
   "id": "f6b05cea",
   "metadata": {},
   "outputs": [],
   "source": [
    "SELECT\n",
    "    year,\n",
    "    movie_title,\n",
    "    director\n",
    "FROM sql.kinopoisk\n",
    "WHERE (rating > 8.5 AND year < 2000)\n",
    "    OR year >= 2000"
   ]
  },
  {
   "cell_type": "markdown",
   "id": "3a56ea4a",
   "metadata": {},
   "source": [
    "#### IN"
   ]
  },
  {
   "cell_type": "code",
   "execution_count": null,
   "id": "218572c5",
   "metadata": {},
   "outputs": [],
   "source": [
    "SELECT\n",
    "    movie_title\n",
    "FROM sql.kinopoisk\n",
    "WHERE year IN (2000, 1985, 1939)"
   ]
  },
  {
   "cell_type": "markdown",
   "id": "303c941a",
   "metadata": {},
   "source": [
    "#### LIKE"
   ]
  },
  {
   "cell_type": "code",
   "execution_count": null,
   "id": "d7aa8a70",
   "metadata": {},
   "outputs": [],
   "source": [
    "SELECT *\n",
    "FROM sql.kinopoisk\n",
    "WHERE movie_title LIKE 'А%'"
   ]
  },
  {
   "cell_type": "code",
   "execution_count": null,
   "id": "3b605072",
   "metadata": {},
   "outputs": [],
   "source": [
    "SELECT\n",
    "    movie_title,\n",
    "    year\n",
    "FROM sql.kinopoisk\n",
    "WHERE director LIKE 'Дэвид%'\n",
    "    AND rating > 8"
   ]
  },
  {
   "cell_type": "markdown",
   "id": "443f5ff1",
   "metadata": {},
   "source": [
    "#### NULL"
   ]
  },
  {
   "cell_type": "code",
   "execution_count": null,
   "id": "a0777446",
   "metadata": {},
   "outputs": [],
   "source": [
    "SELECT *\n",
    "FROM sql.kinopoisk\n",
    "WHERE overview = IS NOT NULL"
   ]
  },
  {
   "cell_type": "markdown",
   "id": "528ebf72",
   "metadata": {},
   "source": [
    "# 3. Сортировка"
   ]
  },
  {
   "cell_type": "markdown",
   "id": "a0a04f46",
   "metadata": {},
   "source": [
    "#### ORDER BY"
   ]
  },
  {
   "cell_type": "code",
   "execution_count": null,
   "id": "efe1ea66",
   "metadata": {},
   "outputs": [],
   "source": [
    "SELECT *\n",
    "FROM sql.kinopoisk\n",
    "ORDER BY movie_title"
   ]
  },
  {
   "cell_type": "code",
   "execution_count": null,
   "id": "417f4b48",
   "metadata": {},
   "outputs": [],
   "source": [
    "SELECT\n",
    "    movie_title,\n",
    "    director,\n",
    "    screenwriter,\n",
    "    year\n",
    "FROM sql.kinopoisk\n",
    "WHERE country = 'СССР'\n",
    "ORDER BY rating DESC"
   ]
  },
  {
   "cell_type": "code",
   "execution_count": null,
   "id": "754be36c",
   "metadata": {},
   "outputs": [],
   "source": [
    "SELECT\n",
    "    movie_title,\n",
    "    overview,\n",
    "    year\n",
    "FROM sql.kinopoisk\n",
    "WHERE rating >= 8.2 AND country != 'США'\n",
    "ORDER BY year DESC"
   ]
  },
  {
   "cell_type": "code",
   "execution_count": null,
   "id": "56051e43",
   "metadata": {},
   "outputs": [],
   "source": [
    "SELECT\n",
    "    movie_title,\n",
    "    rating,\n",
    "    overview,\n",
    "    year\n",
    "FROM sql.kinopoisk\n",
    "ORDER BY overview NULLS FIRST"
   ]
  },
  {
   "cell_type": "code",
   "execution_count": null,
   "id": "dfa0a449",
   "metadata": {},
   "outputs": [],
   "source": [
    "SELECT movie_title\n",
    "FROM sql.kinopoisk\n",
    "WHERE rating > 8.3 AND country = 'Франция'\n",
    "ORDER BY rating DESC, year DESC"
   ]
  },
  {
   "cell_type": "code",
   "execution_count": null,
   "id": "8aff904c",
   "metadata": {},
   "outputs": [],
   "source": [
    "SELECT\n",
    "    director,\n",
    "    movie_title,\n",
    "    year\n",
    "FROM sql.kinopoisk\n",
    "ORDER BY 1, 3 DESC"
   ]
  },
  {
   "cell_type": "markdown",
   "id": "02c65e58",
   "metadata": {},
   "source": [
    "# 4. Ограничение вывода"
   ]
  },
  {
   "cell_type": "markdown",
   "id": "088f978c",
   "metadata": {},
   "source": [
    "#### LIMIT"
   ]
  },
  {
   "cell_type": "code",
   "execution_count": null,
   "id": "6b64e76f",
   "metadata": {},
   "outputs": [],
   "source": [
    "SELECT *\n",
    "FROM sql.kinopoisk\n",
    "LIMIT 10"
   ]
  },
  {
   "cell_type": "code",
   "execution_count": null,
   "id": "42269982",
   "metadata": {},
   "outputs": [],
   "source": [
    "SELECT\n",
    "    movie_title,\n",
    "    rating\n",
    "FROM sql.kinopoisk \n",
    "ORDER BY rating DESC\n",
    "LIMIT 5"
   ]
  },
  {
   "cell_type": "code",
   "execution_count": null,
   "id": "86726b85",
   "metadata": {},
   "outputs": [],
   "source": [
    "SELECT\n",
    "    director,\n",
    "    movie_title,\n",
    "    actors\n",
    "FROM sql.kinopoisk \n",
    "ORDER BY year\n",
    "LIMIT 20"
   ]
  },
  {
   "cell_type": "markdown",
   "id": "ef9a8881",
   "metadata": {},
   "source": [
    "#### OFFSET"
   ]
  },
  {
   "cell_type": "code",
   "execution_count": null,
   "id": "3cec2e13",
   "metadata": {},
   "outputs": [],
   "source": [
    "SELECT\n",
    "    movie_title,\n",
    "    rating \n",
    "FROM sql.kinopoisk\n",
    "ORDER BY rating DESC\n",
    "OFFSET 3 LIMIT 5"
   ]
  },
  {
   "cell_type": "code",
   "execution_count": null,
   "id": "48800d71",
   "metadata": {},
   "outputs": [],
   "source": [
    "SELECT\n",
    "    movie_title\n",
    "FROM sql.kinopoisk\n",
    "WHERE year > 1990 AND country != 'Россия'\n",
    "ORDER BY rating DESC\n",
    "OFFSET 19 LIMIT 28"
   ]
  },
  {
   "cell_type": "markdown",
   "id": "0ba9a4a5",
   "metadata": {},
   "source": [
    "#### TEST"
   ]
  },
  {
   "cell_type": "code",
   "execution_count": null,
   "id": "93404a98",
   "metadata": {},
   "outputs": [],
   "source": [
    "SELECT movie_title AS \"Название фильма\", director AS \"Режиссёр\", screenwriter AS \"Сценарист\", actors AS \"Актёры\"\n",
    "FROM sql.kinopoisk\n",
    "WHERE ((rating BETWEEN 8 AND 8.5) OR (year < 1990)) AND (overview IS NOT NULL) AND (movie_title NOT LIKE 'T%') AND (movie_title LIKE '____________')\n",
    "ORDER BY rating DESC\n",
    "LIMIT 7"
   ]
  }
 ],
 "metadata": {
  "kernelspec": {
   "display_name": "Python 3",
   "language": "python",
   "name": "python3"
  },
  "language_info": {
   "codemirror_mode": {
    "name": "ipython",
    "version": 3
   },
   "file_extension": ".py",
   "mimetype": "text/x-python",
   "name": "python",
   "nbconvert_exporter": "python",
   "pygments_lexer": "ipython3",
   "version": "3.8.8"
  },
  "varInspector": {
   "cols": {
    "lenName": 16,
    "lenType": 16,
    "lenVar": 40
   },
   "kernels_config": {
    "python": {
     "delete_cmd_postfix": "",
     "delete_cmd_prefix": "del ",
     "library": "var_list.py",
     "varRefreshCmd": "print(var_dic_list())"
    },
    "r": {
     "delete_cmd_postfix": ") ",
     "delete_cmd_prefix": "rm(",
     "library": "var_list.r",
     "varRefreshCmd": "cat(var_dic_list()) "
    }
   },
   "types_to_exclude": [
    "module",
    "function",
    "builtin_function_or_method",
    "instance",
    "_Feature"
   ],
   "window_display": false
  }
 },
 "nbformat": 4,
 "nbformat_minor": 5
}
