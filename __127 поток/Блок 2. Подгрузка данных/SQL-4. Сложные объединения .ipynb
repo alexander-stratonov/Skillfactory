{
 "cells": [
  {
   "cell_type": "markdown",
   "id": "72a7a0d5",
   "metadata": {},
   "source": [
    "# 1. Знакомимся с данными"
   ]
  },
  {
   "cell_type": "code",
   "execution_count": null,
   "id": "8e94bdc5",
   "metadata": {},
   "outputs": [],
   "source": [
    "SELECT city_name, max(weight) m_w\n",
    "FROM sql.shipment s JOIN sql.city c on s.city_id = c.city_id\n",
    "group by city_name\n",
    "order by m_w desc\n",
    "limit 1"
   ]
  },
  {
   "cell_type": "code",
   "execution_count": null,
   "id": "44cf200d",
   "metadata": {},
   "outputs": [],
   "source": [
    "SELECT distinct make\n",
    "FROM sql.truck"
   ]
  },
  {
   "cell_type": "code",
   "execution_count": null,
   "id": "f60c7058",
   "metadata": {},
   "outputs": [],
   "source": [
    "select\n",
    "  dr.first_name\n",
    "from sql.shipment as sh\n",
    "     join sql.driver as dr on sh.driver_id = dr.driver_id\n",
    "group by dr.driver_id, sh.cust_id\n",
    "order by count(*) desc\n",
    "limit 1"
   ]
  },
  {
   "cell_type": "code",
   "execution_count": null,
   "id": "1f389f8b",
   "metadata": {},
   "outputs": [],
   "source": [
    "SELECT min(ship_date), max(ship_date)\n",
    "FROM sql.shipment"
   ]
  },
  {
   "cell_type": "code",
   "execution_count": null,
   "id": "0d4f0dec",
   "metadata": {},
   "outputs": [],
   "source": [
    "SELECT cust_name, count(s.cust_id)\n",
    "FROM sql.shipment s JOIN sql.customer c on s.cust_id = c.cust_id\n",
    "where (extract (year from ship_date) = 2017) \n",
    "group by cust_name\n",
    "order by 2 desc"
   ]
  },
  {
   "cell_type": "markdown",
   "id": "ac15f82b",
   "metadata": {},
   "source": [
    "# 2. UNION"
   ]
  },
  {
   "cell_type": "raw",
   "id": "42c14fd8",
   "metadata": {},
   "source": [
    "SELECT \n",
    "         book_name object_name, 'книга' object_description \n",
    "FROM \n",
    "         public.books\n",
    "UNION ALL\n",
    "\n",
    "SELECT \n",
    "         movie_title, 'фильм' \n",
    "FROM \n",
    "         sql.kinopoisk"
   ]
  },
  {
   "cell_type": "code",
   "execution_count": null,
   "id": "2db0a248",
   "metadata": {},
   "outputs": [],
   "source": [
    "SELECT\n",
    "         c.city_id object_name, 'id города' object_type\n",
    "FROM \n",
    "         sql.city c\n",
    "\n",
    "UNION ALL\n",
    "\n",
    "SELECT\n",
    "         d.driver_id other_name, 'id водителя' other_type\n",
    "FROM \n",
    "         sql.driver d\n",
    "\n",
    "UNION ALL\n",
    "\n",
    "SELECT\n",
    "         s.ship_id, 'id доставки'\n",
    "FROM \n",
    "         sql.shipment s\n",
    "\n",
    "UNION ALL\n",
    "\n",
    "SELECT\n",
    "         c.cust_id, 'id клиента'\n",
    "FROM \n",
    "         sql.customer c\n",
    "\n",
    "UNION ALL\n",
    "\n",
    "SELECT\n",
    "         t.truck_id, 'id грузовика'\n",
    "FROM \n",
    "         sql.truck t\n",
    "ORDER BY 1"
   ]
  },
  {
   "cell_type": "code",
   "execution_count": null,
   "id": "e9b9cb7e",
   "metadata": {},
   "outputs": [],
   "source": [
    "SELECT book_name object_name, 'книга' object_descritption \n",
    "FROM public.books\n",
    "UNION ALL\n",
    "SELECT movie_title, 'фильм' \n",
    "FROM sql.kinopoisk\n",
    "ORDER BY 1\n",
    "LIMIT 1"
   ]
  },
  {
   "cell_type": "code",
   "execution_count": null,
   "id": "bc8bb02c",
   "metadata": {},
   "outputs": [],
   "source": [
    "(SELECT book_name object_name, 'книга' object_descritption \n",
    "FROM public.books\n",
    "ORDER BY 1\n",
    "LIMIT 1)\n",
    "UNION ALL\n",
    "(SELECT movie_title, 'фильм' \n",
    "FROM sql.kinopoisk\n",
    "ORDER BY 1\n",
    "LIMIT 1)"
   ]
  },
  {
   "cell_type": "code",
   "execution_count": null,
   "id": "55569988",
   "metadata": {},
   "outputs": [],
   "source": [
    "SELECT c.city_name \"название\" , 'city' \"тип объекта\"\n",
    "FROM sql.city c\n",
    "UNION\n",
    "SELECT c.state, 'state'\n",
    "FROM sql.city c\n",
    "UNION\n",
    "SELECT d.first_name , 'driver' \n",
    "FROM sql.driver d\n",
    "UNION\n",
    "SELECT t.make, 'truck'\n",
    "FROM sql.truck t\n",
    "ORDER BY 1, 2"
   ]
  },
  {
   "cell_type": "code",
   "execution_count": null,
   "id": "84d9358a",
   "metadata": {},
   "outputs": [],
   "source": [
    "SELECT c.city_name \"object_name\" \n",
    "FROM sql.city c\n",
    "UNION ALL\n",
    "SELECT c.state\n",
    "FROM sql.city c\n",
    "ORDER BY 1"
   ]
  },
  {
   "cell_type": "markdown",
   "id": "7e6dcb2d",
   "metadata": {},
   "source": [
    "# 3. UNION и ограничение типов данных"
   ]
  },
  {
   "cell_type": "code",
   "execution_count": null,
   "id": "340d63c7",
   "metadata": {},
   "outputs": [],
   "source": [
    "SELECT \n",
    "         c.city_id::text\n",
    "FROM\n",
    "         sql.city c\n",
    "\n",
    "UNION ALL\n",
    "\n",
    "SELECT \n",
    "         cc.city_name\n",
    "FROM\n",
    "         sql.city cc"
   ]
  },
  {
   "cell_type": "code",
   "execution_count": null,
   "id": "0e3d93c2",
   "metadata": {},
   "outputs": [],
   "source": [
    "SELECT\n",
    "    d.zip_code::text contact,\n",
    "    d.first_name first_name,\n",
    "    'zip' contact_type\n",
    "FROM\n",
    "    sql.driver d\n",
    "UNION\n",
    "SELECT\n",
    "    dd.phone contact,\n",
    "    dd.first_name first_name,\n",
    "    'phone' contact_type\n",
    "FROM\n",
    "    sql.driver dd\n",
    "ORDER BY 1,2"
   ]
  },
  {
   "cell_type": "markdown",
   "id": "bde6e5bf",
   "metadata": {},
   "source": [
    "# 4. UNION ALL и промежуточные итоги"
   ]
  },
  {
   "cell_type": "code",
   "execution_count": null,
   "id": "4eebdbde",
   "metadata": {},
   "outputs": [],
   "source": [
    "SELECT\n",
    "         c.city_name,\n",
    "         c.population\n",
    "FROM\n",
    "         sql.city c\n",
    "\n",
    "UNION ALL\n",
    "\n",
    "SELECT\n",
    "         'total',\n",
    "         SUM(c.population)\n",
    "FROM\n",
    "         sql.city c\n",
    "ORDER BY 2 DESC"
   ]
  },
  {
   "cell_type": "code",
   "execution_count": null,
   "id": "bfb4edcb",
   "metadata": {},
   "outputs": [],
   "source": [
    "SELECT s.ship_date::text date_period, COUNT(*) cnt_shipment\n",
    "FROM sql.shipment s \n",
    "GROUP BY 1\n",
    "UNION ALL\n",
    "SELECT 'total_shipments', COUNT(*)\n",
    "FROM sql.shipment s\n",
    "ORDER BY 2 desc"
   ]
  },
  {
   "cell_type": "markdown",
   "id": "b7a3672d",
   "metadata": {},
   "source": [
    "# 5. UNION и дополнительные условия"
   ]
  },
  {
   "cell_type": "code",
   "execution_count": null,
   "id": "4d1d19bd",
   "metadata": {},
   "outputs": [],
   "source": []
  }
 ],
 "metadata": {
  "kernelspec": {
   "display_name": "Python 3",
   "language": "python",
   "name": "python3"
  },
  "language_info": {
   "codemirror_mode": {
    "name": "ipython",
    "version": 3
   },
   "file_extension": ".py",
   "mimetype": "text/x-python",
   "name": "python",
   "nbconvert_exporter": "python",
   "pygments_lexer": "ipython3",
   "version": "3.8.8"
  },
  "varInspector": {
   "cols": {
    "lenName": 16,
    "lenType": 16,
    "lenVar": 40
   },
   "kernels_config": {
    "python": {
     "delete_cmd_postfix": "",
     "delete_cmd_prefix": "del ",
     "library": "var_list.py",
     "varRefreshCmd": "print(var_dic_list())"
    },
    "r": {
     "delete_cmd_postfix": ") ",
     "delete_cmd_prefix": "rm(",
     "library": "var_list.r",
     "varRefreshCmd": "cat(var_dic_list()) "
    }
   },
   "types_to_exclude": [
    "module",
    "function",
    "builtin_function_or_method",
    "instance",
    "_Feature"
   ],
   "window_display": false
  }
 },
 "nbformat": 4,
 "nbformat_minor": 5
}
