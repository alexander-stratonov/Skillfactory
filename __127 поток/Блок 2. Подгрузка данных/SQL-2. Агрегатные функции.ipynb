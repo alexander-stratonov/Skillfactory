{
 "cells": [
  {
   "cell_type": "code",
   "execution_count": null,
   "id": "9340735f",
   "metadata": {},
   "outputs": [],
   "source": [
    "SELECT DISTINCT\n",
    "    столбец1 AS новое_название,\n",
    "    столбец2,\n",
    "    АГРЕГАТ(столбец3)\n",
    "FROM таблица\n",
    "WHERE (условие1 OR условие2)\n",
    "    AND условие3\n",
    "GROUP BY столбец1, столбец2\n",
    "HAVING АГРЕГАТ(столбец3) > 5\n",
    "ORDER BY сортировка1, сортировка2\n",
    "OFFSET 1 LIMIT 2"
   ]
  },
  {
   "cell_type": "markdown",
   "id": "0e3eeaae",
   "metadata": {},
   "source": [
    "# 2. Убираем повторяющиеся значения"
   ]
  },
  {
   "cell_type": "code",
   "execution_count": null,
   "id": "142128b6",
   "metadata": {},
   "outputs": [],
   "source": [
    "SELECT DISTINCT # уникальные значения\n",
    "    type1,\n",
    "    type2\n",
    "FROM sql.pokemon"
   ]
  },
  {
   "cell_type": "markdown",
   "id": "f9488f58",
   "metadata": {},
   "source": [
    "# 3. Агрегатные функции"
   ]
  },
  {
   "cell_type": "code",
   "execution_count": null,
   "id": "64223e41",
   "metadata": {},
   "outputs": [],
   "source": [
    "SELECT\n",
    "    COUNT(*)\n",
    "FROM sql.pokemon"
   ]
  },
  {
   "cell_type": "raw",
   "id": "ce3784cd",
   "metadata": {},
   "source": [
    "Назовём основные агрегатные функции, с которыми нам предстоит работать:\n",
    "\n",
    "COUNT — вычисляет число непустых строк;\n",
    "SUM — вычисляет сумму;\n",
    "AVG — вычисляет среднее;\n",
    "MAX — вычисляет максимум;\n",
    "MIN — вычисляет минимум."
   ]
  },
  {
   "cell_type": "code",
   "execution_count": null,
   "id": "06d40005",
   "metadata": {},
   "outputs": [],
   "source": [
    "SELECT AVG (hp)\n",
    "FROM sql.pokemon\n",
    "WHERE type1 = 'Dragon'"
   ]
  },
  {
   "cell_type": "code",
   "execution_count": null,
   "id": "6ce026b8",
   "metadata": {},
   "outputs": [],
   "source": [
    "SELECT\n",
    "    COUNT(*) AS \"всего травяных покемонов\",\n",
    "    COUNT(type2) AS \"покемонов с дополнительным типом\",\n",
    "    AVG(attack) AS \"средняя атака\",\n",
    "    AVG(defense) AS \"средняя защита\"\n",
    "FROM sql.pokemon\n",
    "WHERE type1 = 'Grass'"
   ]
  },
  {
   "cell_type": "code",
   "execution_count": null,
   "id": "049efb7b",
   "metadata": {},
   "outputs": [],
   "source": [
    "SELECT\n",
    "    COUNT(*) AS \"pokemon_count\",\n",
    "    AVG(speed) AS \"avg_speed\",\n",
    "    MAX(hp) AS \"max_hp \",\n",
    "    MIN(hp) AS \"min_hp\"\n",
    "FROM sql.pokemon\n",
    "WHERE type1 = 'Electric' AND (type2 IS NOT NULL) AND (attack > 50 OR defense > 50)"
   ]
  },
  {
   "cell_type": "markdown",
   "id": "80ad4d7c",
   "metadata": {},
   "source": [
    "# 4. Группировка"
   ]
  },
  {
   "cell_type": "code",
   "execution_count": null,
   "id": "d2480296",
   "metadata": {},
   "outputs": [],
   "source": [
    "SELECT\n",
    "    type1 AS pokemon_type,\n",
    "    COUNT(*) AS pokemon_count\n",
    "FROM sql.pokemon\n",
    "GROUP BY type1\n",
    "ORDER BY type1"
   ]
  },
  {
   "cell_type": "code",
   "execution_count": null,
   "id": "225487b9",
   "metadata": {},
   "outputs": [],
   "source": [
    "SELECT\n",
    "    type1 AS pokemon_type,\n",
    "    COUNT(*) AS pokemon_count\n",
    "FROM sql.pokemon\n",
    "GROUP BY pokemon_type\n",
    "ORDER BY COUNT(*) DESC"
   ]
  },
  {
   "cell_type": "code",
   "execution_count": null,
   "id": "f0e2d264",
   "metadata": {},
   "outputs": [],
   "source": [
    "SELECT\n",
    "    type1 AS primary_type,\n",
    "    COUNT(DISTINCT type2) AS additional_types_count,\n",
    "    AVG(hp) AS avg_hp,\n",
    "    SUM(attack) AS attack_sum\n",
    "FROM sql.pokemon\n",
    "GROUP BY primary_type\n",
    "ORDER BY  additional_types_count DESC, primary_type"
   ]
  },
  {
   "cell_type": "code",
   "execution_count": null,
   "id": "b78fc747",
   "metadata": {},
   "outputs": [],
   "source": [
    "SELECT\n",
    "    type1 AS primary_type,\n",
    "    type2 AS additional_type,\n",
    "    COUNT(*) AS pokemon_count\n",
    "FROM sql.pokemon\n",
    "GROUP BY 1, 2\n",
    "ORDER BY 1, 2 NULLS FIRST"
   ]
  },
  {
   "cell_type": "markdown",
   "id": "73c55c22",
   "metadata": {},
   "source": [
    "# 5. Фильтрация агрегированных строк"
   ]
  },
  {
   "cell_type": "code",
   "execution_count": null,
   "id": "7a5d98fc",
   "metadata": {},
   "outputs": [],
   "source": [
    "SELECT\n",
    "    type1 AS primary_type,\n",
    "    AVG(attack) AS avg_attack\n",
    "FROM sql.pokemon\n",
    "GROUP BY primary_type \n",
    "HAVING AVG(attack) > 90"
   ]
  },
  {
   "cell_type": "code",
   "execution_count": null,
   "id": "56aa69df",
   "metadata": {},
   "outputs": [],
   "source": [
    "SELECT\n",
    "    type1 AS primary_type,\n",
    "    type2 AS additional_type\n",
    "FROM sql.pokemon\n",
    "GROUP BY primary_type, additional_type\n",
    "HAVING AVG(attack) > 100 and MAX(hp) < 80"
   ]
  },
  {
   "cell_type": "code",
   "execution_count": null,
   "id": "4c5c1988",
   "metadata": {},
   "outputs": [],
   "source": [
    "SELECT\n",
    "    type1 AS primary_type,\n",
    "    COUNT(*) AS pokemon_count\n",
    "FROM sql.pokemon\n",
    "WHERE name LIKE 'S%'\n",
    "GROUP BY primary_type\n",
    "HAVING AVG(defense) > 80\n",
    "ORDER BY pokemon_count DESC\n",
    "LIMIT 3"
   ]
  },
  {
   "cell_type": "markdown",
   "id": "5e7b7bdb",
   "metadata": {},
   "source": [
    "# 6. Итоги"
   ]
  },
  {
   "cell_type": "code",
   "execution_count": null,
   "id": "db9da49b",
   "metadata": {},
   "outputs": [],
   "source": [
    "SELECT\n",
    "    count(DISTINCT attack)\n",
    "FROM sql.pokemon\n",
    "WHERE (type1 = 'Water' or type2 = 'Water')"
   ]
  },
  {
   "cell_type": "code",
   "execution_count": null,
   "id": "354a3a1a",
   "metadata": {},
   "outputs": [],
   "source": [
    "SELECT\n",
    "    type1,\n",
    "    type2,\n",
    "    avg(hp),\n",
    "    avg(attack),\n",
    "    avg(defense),\n",
    "    avg(speed)\n",
    "FROM sql.pokemon\n",
    "GROUP BY type1, type2\n",
    "HAVING avg(hp)+avg(attack)+avg(defense)+avg(speed) > 400"
   ]
  },
  {
   "cell_type": "code",
   "execution_count": null,
   "id": "3ce66de6",
   "metadata": {},
   "outputs": [],
   "source": [
    "SELECT\n",
    "    type1,\n",
    "    COUNT(type1)\n",
    "FROM sql.pokemon\n",
    "WHERE (attack BETWEEN 50 AND 100) OR (defense BETWEEN 50 AND 100)\n",
    "GROUP BY type1\n",
    "HAVING MAX(hp) <= 125\n",
    "ORDER BY COUNT(type1) DESC\n",
    "OFFSET 4 LIMIT 1"
   ]
  }
 ],
 "metadata": {
  "kernelspec": {
   "display_name": "Python 3 (ipykernel)",
   "language": "python",
   "name": "python3"
  },
  "language_info": {
   "codemirror_mode": {
    "name": "ipython",
    "version": 3
   },
   "file_extension": ".py",
   "mimetype": "text/x-python",
   "name": "python",
   "nbconvert_exporter": "python",
   "pygments_lexer": "ipython3",
   "version": "3.9.12"
  },
  "varInspector": {
   "cols": {
    "lenName": 16,
    "lenType": 16,
    "lenVar": 40
   },
   "kernels_config": {
    "python": {
     "delete_cmd_postfix": "",
     "delete_cmd_prefix": "del ",
     "library": "var_list.py",
     "varRefreshCmd": "print(var_dic_list())"
    },
    "r": {
     "delete_cmd_postfix": ") ",
     "delete_cmd_prefix": "rm(",
     "library": "var_list.r",
     "varRefreshCmd": "cat(var_dic_list()) "
    }
   },
   "types_to_exclude": [
    "module",
    "function",
    "builtin_function_or_method",
    "instance",
    "_Feature"
   ],
   "window_display": false
  }
 },
 "nbformat": 4,
 "nbformat_minor": 5
}
