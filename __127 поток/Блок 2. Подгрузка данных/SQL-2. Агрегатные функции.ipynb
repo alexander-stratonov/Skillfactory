{
 "cells": [
  {
   "cell_type": "markdown",
   "id": "0e3eeaae",
   "metadata": {},
   "source": [
    "# 2. Убираем повторяющиеся значения"
   ]
  },
  {
   "cell_type": "code",
   "execution_count": null,
   "id": "142128b6",
   "metadata": {},
   "outputs": [],
   "source": [
    "SELECT DISTINCT # уникальные значения\n",
    "    type1,\n",
    "    type2\n",
    "FROM sql.pokemon"
   ]
  },
  {
   "cell_type": "markdown",
   "id": "f9488f58",
   "metadata": {},
   "source": [
    "# 3. Агрегатные функции"
   ]
  },
  {
   "cell_type": "code",
   "execution_count": null,
   "id": "64223e41",
   "metadata": {},
   "outputs": [],
   "source": [
    "SELECT\n",
    "    COUNT(*)\n",
    "FROM sql.pokemon"
   ]
  },
  {
   "cell_type": "markdown",
   "id": "6203e75d",
   "metadata": {},
   "source": [
    "Назовём основные агрегатные функции, с которыми нам предстоит работать:\n",
    "\n",
    "COUNT — вычисляет число непустых строк;\n",
    "SUM — вычисляет сумму;\n",
    "AVG — вычисляет среднее;\n",
    "MAX — вычисляет максимум;\n",
    "MIN — вычисляет минимум."
   ]
  },
  {
   "cell_type": "code",
   "execution_count": null,
   "id": "06d40005",
   "metadata": {},
   "outputs": [],
   "source": [
    "SELECT AVG (hp)\n",
    "FROM sql.pokemon\n",
    "WHERE type1 = 'Dragon'"
   ]
  },
  {
   "cell_type": "code",
   "execution_count": null,
   "id": "6ce026b8",
   "metadata": {},
   "outputs": [],
   "source": [
    "SELECT\n",
    "    COUNT(*) AS \"всего травяных покемонов\",\n",
    "    COUNT(type2) AS \"покемонов с дополнительным типом\",\n",
    "    AVG(attack) AS \"средняя атака\",\n",
    "    AVG(defense) AS \"средняя защита\"\n",
    "FROM sql.pokemon\n",
    "WHERE type1 = 'Grass'"
   ]
  },
  {
   "cell_type": "code",
   "execution_count": null,
   "id": "049efb7b",
   "metadata": {},
   "outputs": [],
   "source": [
    "SELECT\n",
    "    COUNT(*) AS \"pokemon_count\",\n",
    "    AVG(speed) AS \"avg_speed\",\n",
    "    MAX(hp) AS \"max_hp \",\n",
    "    MIN(hp) AS \"min_hp\"\n",
    "FROM sql.pokemon\n",
    "WHERE type1 = 'Electric' AND (type2 IS NOT NULL) AND (attack > 50 OR defense > 50)"
   ]
  },
  {
   "cell_type": "markdown",
   "id": "80ad4d7c",
   "metadata": {},
   "source": [
    "# 4. Группировка"
   ]
  },
  {
   "cell_type": "code",
   "execution_count": null,
   "id": "d2480296",
   "metadata": {},
   "outputs": [],
   "source": []
  }
 ],
 "metadata": {
  "kernelspec": {
   "display_name": "Python 3",
   "language": "python",
   "name": "python3"
  },
  "language_info": {
   "codemirror_mode": {
    "name": "ipython",
    "version": 3
   },
   "file_extension": ".py",
   "mimetype": "text/x-python",
   "name": "python",
   "nbconvert_exporter": "python",
   "pygments_lexer": "ipython3",
   "version": "3.8.8"
  },
  "varInspector": {
   "cols": {
    "lenName": 16,
    "lenType": 16,
    "lenVar": 40
   },
   "kernels_config": {
    "python": {
     "delete_cmd_postfix": "",
     "delete_cmd_prefix": "del ",
     "library": "var_list.py",
     "varRefreshCmd": "print(var_dic_list())"
    },
    "r": {
     "delete_cmd_postfix": ") ",
     "delete_cmd_prefix": "rm(",
     "library": "var_list.r",
     "varRefreshCmd": "cat(var_dic_list()) "
    }
   },
   "types_to_exclude": [
    "module",
    "function",
    "builtin_function_or_method",
    "instance",
    "_Feature"
   ],
   "window_display": false
  }
 },
 "nbformat": 4,
 "nbformat_minor": 5
}
