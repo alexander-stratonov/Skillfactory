{
 "cells": [
  {
   "cell_type": "code",
   "execution_count": 29,
   "id": "01a1194f",
   "metadata": {},
   "outputs": [
    {
     "data": {
      "text/html": [
       "<div>\n",
       "<style scoped>\n",
       "    .dataframe tbody tr th:only-of-type {\n",
       "        vertical-align: middle;\n",
       "    }\n",
       "\n",
       "    .dataframe tbody tr th {\n",
       "        vertical-align: top;\n",
       "    }\n",
       "\n",
       "    .dataframe thead th {\n",
       "        text-align: right;\n",
       "    }\n",
       "</style>\n",
       "<table border=\"1\" class=\"dataframe\">\n",
       "  <thead>\n",
       "    <tr style=\"text-align: right;\">\n",
       "      <th></th>\n",
       "      <th>Age</th>\n",
       "      <th>Growth</th>\n",
       "      <th>Shoe size</th>\n",
       "      <th>Course number</th>\n",
       "      <th>Year of birth</th>\n",
       "      <th>Friend number</th>\n",
       "      <th>Russian rating</th>\n",
       "      <th>Maths rating</th>\n",
       "      <th>Physics rating</th>\n",
       "      <th>Computer science rating</th>\n",
       "      <th>Chemistry rating</th>\n",
       "      <th>Literature rating</th>\n",
       "      <th>History rating</th>\n",
       "      <th>Geography rating</th>\n",
       "      <th>Biology rating</th>\n",
       "      <th>Foreign language rating</th>\n",
       "      <th>Social science rating</th>\n",
       "      <th>Distance to home km</th>\n",
       "      <th>Minutes to first class</th>\n",
       "      <th>Children number</th>\n",
       "      <th>Removed teeth</th>\n",
       "      <th>Weight</th>\n",
       "      <th>Glasses</th>\n",
       "      <th>Sex</th>\n",
       "      <th>Problems in last semester</th>\n",
       "      <th>Coin</th>\n",
       "      <th>Rock paper scissors</th>\n",
       "      <th>Animal</th>\n",
       "      <th>Month of birthday</th>\n",
       "      <th>Your rating in university</th>\n",
       "      <th>Fastfood</th>\n",
       "      <th>Height of 5000 mm</th>\n",
       "      <th>Width of 5000 mm</th>\n",
       "      <th>Putin age</th>\n",
       "      <th>Army</th>\n",
       "      <th>Hostel</th>\n",
       "      <th>Hair length</th>\n",
       "      <th>Floor number</th>\n",
       "      <th>Social network duration min</th>\n",
       "      <th>Chocolate</th>\n",
       "      <th>City population</th>\n",
       "      <th>Strange people</th>\n",
       "      <th>Your insitute</th>\n",
       "      <th>Brother-sister</th>\n",
       "      <th>Plane seat</th>\n",
       "      <th>MIddle and index finger</th>\n",
       "      <th>Middle and ring finger</th>\n",
       "      <th>Middle and little finger</th>\n",
       "    </tr>\n",
       "  </thead>\n",
       "  <tbody>\n",
       "    <tr>\n",
       "      <th>0</th>\n",
       "      <td>20</td>\n",
       "      <td>170</td>\n",
       "      <td>40</td>\n",
       "      <td>2</td>\n",
       "      <td>2002</td>\n",
       "      <td>100</td>\n",
       "      <td>85</td>\n",
       "      <td>86</td>\n",
       "      <td>0</td>\n",
       "      <td>84</td>\n",
       "      <td>0</td>\n",
       "      <td>0</td>\n",
       "      <td>0</td>\n",
       "      <td>0</td>\n",
       "      <td>0</td>\n",
       "      <td>0</td>\n",
       "      <td>0</td>\n",
       "      <td>0</td>\n",
       "      <td>150</td>\n",
       "      <td>4.0</td>\n",
       "      <td>0.0</td>\n",
       "      <td>64.0</td>\n",
       "      <td>да</td>\n",
       "      <td>женский</td>\n",
       "      <td>нет</td>\n",
       "      <td>Орел</td>\n",
       "      <td>Камень</td>\n",
       "      <td>Кошек</td>\n",
       "      <td>6</td>\n",
       "      <td>выше средней по университету</td>\n",
       "      <td>Бургер кинг</td>\n",
       "      <td>100</td>\n",
       "      <td>200</td>\n",
       "      <td>68</td>\n",
       "      <td>не призовут (по разным причинам)</td>\n",
       "      <td>нет</td>\n",
       "      <td>50.0</td>\n",
       "      <td>7</td>\n",
       "      <td>45</td>\n",
       "      <td>Сникерс</td>\n",
       "      <td>800000.0</td>\n",
       "      <td>Экономический</td>\n",
       "      <td>Математический и ИТ</td>\n",
       "      <td>нет ни брата ни сестры</td>\n",
       "      <td>У окна (пардон: у иллюминатора)</td>\n",
       "      <td>20</td>\n",
       "      <td>10.0</td>\n",
       "      <td>40.0</td>\n",
       "    </tr>\n",
       "    <tr>\n",
       "      <th>1</th>\n",
       "      <td>22</td>\n",
       "      <td>191</td>\n",
       "      <td>43</td>\n",
       "      <td>7</td>\n",
       "      <td>2000</td>\n",
       "      <td>307</td>\n",
       "      <td>69</td>\n",
       "      <td>74</td>\n",
       "      <td>64</td>\n",
       "      <td>72</td>\n",
       "      <td>0</td>\n",
       "      <td>0</td>\n",
       "      <td>0</td>\n",
       "      <td>0</td>\n",
       "      <td>0</td>\n",
       "      <td>0</td>\n",
       "      <td>0</td>\n",
       "      <td>0</td>\n",
       "      <td>50</td>\n",
       "      <td>NaN</td>\n",
       "      <td>NaN</td>\n",
       "      <td>73.0</td>\n",
       "      <td>простите. не увидел(а) вопроса ))))</td>\n",
       "      <td>мужской</td>\n",
       "      <td>нет</td>\n",
       "      <td>Орел</td>\n",
       "      <td>Камень</td>\n",
       "      <td>Собак</td>\n",
       "      <td>4</td>\n",
       "      <td>ниже средней по университету</td>\n",
       "      <td>KFC</td>\n",
       "      <td>50</td>\n",
       "      <td>8</td>\n",
       "      <td>53</td>\n",
       "      <td>не призовут (по разным причинам)</td>\n",
       "      <td>нет</td>\n",
       "      <td>7.0</td>\n",
       "      <td>5</td>\n",
       "      <td>180</td>\n",
       "      <td>КитКат</td>\n",
       "      <td>800000.0</td>\n",
       "      <td>Математический и ИТ</td>\n",
       "      <td>Математический и ИТ</td>\n",
       "      <td>есть и брат и сестра</td>\n",
       "      <td>В середине</td>\n",
       "      <td>5</td>\n",
       "      <td>5.0</td>\n",
       "      <td>20.0</td>\n",
       "    </tr>\n",
       "    <tr>\n",
       "      <th>2</th>\n",
       "      <td>21</td>\n",
       "      <td>172</td>\n",
       "      <td>41</td>\n",
       "      <td>4</td>\n",
       "      <td>2000</td>\n",
       "      <td>186</td>\n",
       "      <td>78</td>\n",
       "      <td>62</td>\n",
       "      <td>0</td>\n",
       "      <td>0</td>\n",
       "      <td>0</td>\n",
       "      <td>0</td>\n",
       "      <td>0</td>\n",
       "      <td>0</td>\n",
       "      <td>0</td>\n",
       "      <td>0</td>\n",
       "      <td>70</td>\n",
       "      <td>0</td>\n",
       "      <td>80</td>\n",
       "      <td>2.0</td>\n",
       "      <td>0.0</td>\n",
       "      <td>60.0</td>\n",
       "      <td>да</td>\n",
       "      <td>мужской</td>\n",
       "      <td>нет</td>\n",
       "      <td>Решка</td>\n",
       "      <td>Ножницы</td>\n",
       "      <td>Собак</td>\n",
       "      <td>8</td>\n",
       "      <td>выше средней по университету</td>\n",
       "      <td>Макдональдс (или как он там сейчас называется?)</td>\n",
       "      <td>75</td>\n",
       "      <td>170</td>\n",
       "      <td>69</td>\n",
       "      <td>могут призвать</td>\n",
       "      <td>нет</td>\n",
       "      <td>4.0</td>\n",
       "      <td>7</td>\n",
       "      <td>90</td>\n",
       "      <td>КитКат</td>\n",
       "      <td>770000.0</td>\n",
       "      <td>Педагогический</td>\n",
       "      <td>Другое</td>\n",
       "      <td>есть брат</td>\n",
       "      <td>У окна (пардон: у иллюминатора)</td>\n",
       "      <td>13</td>\n",
       "      <td>10.0</td>\n",
       "      <td>26.0</td>\n",
       "    </tr>\n",
       "    <tr>\n",
       "      <th>3</th>\n",
       "      <td>19</td>\n",
       "      <td>168</td>\n",
       "      <td>38</td>\n",
       "      <td>2</td>\n",
       "      <td>2003</td>\n",
       "      <td>604</td>\n",
       "      <td>72</td>\n",
       "      <td>0</td>\n",
       "      <td>0</td>\n",
       "      <td>0</td>\n",
       "      <td>0</td>\n",
       "      <td>0</td>\n",
       "      <td>98</td>\n",
       "      <td>0</td>\n",
       "      <td>0</td>\n",
       "      <td>0</td>\n",
       "      <td>91</td>\n",
       "      <td>640</td>\n",
       "      <td>40</td>\n",
       "      <td>2.0</td>\n",
       "      <td>0.0</td>\n",
       "      <td>59.0</td>\n",
       "      <td>нет</td>\n",
       "      <td>женский</td>\n",
       "      <td>нет</td>\n",
       "      <td>Решка</td>\n",
       "      <td>Ножницы</td>\n",
       "      <td>Собак</td>\n",
       "      <td>1</td>\n",
       "      <td>выше средней по университету</td>\n",
       "      <td>Макдональдс (или как он там сейчас называется?)</td>\n",
       "      <td>50</td>\n",
       "      <td>100</td>\n",
       "      <td>70</td>\n",
       "      <td>не призовут (по разным причинам)</td>\n",
       "      <td>нет</td>\n",
       "      <td>20.0</td>\n",
       "      <td>5</td>\n",
       "      <td>200</td>\n",
       "      <td>Баунти</td>\n",
       "      <td>900000.0</td>\n",
       "      <td>СоцГум</td>\n",
       "      <td>Юридический</td>\n",
       "      <td>есть сестра</td>\n",
       "      <td>У окна (пардон: у иллюминатора)</td>\n",
       "      <td>12</td>\n",
       "      <td>13.5</td>\n",
       "      <td>35.0</td>\n",
       "    </tr>\n",
       "    <tr>\n",
       "      <th>4</th>\n",
       "      <td>23</td>\n",
       "      <td>159</td>\n",
       "      <td>36</td>\n",
       "      <td>1</td>\n",
       "      <td>1998</td>\n",
       "      <td>144</td>\n",
       "      <td>0</td>\n",
       "      <td>0</td>\n",
       "      <td>0</td>\n",
       "      <td>0</td>\n",
       "      <td>0</td>\n",
       "      <td>0</td>\n",
       "      <td>0</td>\n",
       "      <td>0</td>\n",
       "      <td>0</td>\n",
       "      <td>0</td>\n",
       "      <td>0</td>\n",
       "      <td>2505</td>\n",
       "      <td>40</td>\n",
       "      <td>2.5</td>\n",
       "      <td>1.0</td>\n",
       "      <td>57.0</td>\n",
       "      <td>нет</td>\n",
       "      <td>женский</td>\n",
       "      <td>нет</td>\n",
       "      <td>Орел</td>\n",
       "      <td>Бумага</td>\n",
       "      <td>Кошек</td>\n",
       "      <td>12</td>\n",
       "      <td>выше средней по университету</td>\n",
       "      <td>Бургер кинг</td>\n",
       "      <td>35</td>\n",
       "      <td>120</td>\n",
       "      <td>67</td>\n",
       "      <td>не призовут (по разным причинам)</td>\n",
       "      <td>нет</td>\n",
       "      <td>55.0</td>\n",
       "      <td>3</td>\n",
       "      <td>400</td>\n",
       "      <td>Баунти</td>\n",
       "      <td>860000.0</td>\n",
       "      <td>Педагогический</td>\n",
       "      <td>Педагогический</td>\n",
       "      <td>есть сестра</td>\n",
       "      <td>У окна (пардон: у иллюминатора)</td>\n",
       "      <td>10</td>\n",
       "      <td>11.0</td>\n",
       "      <td>22.0</td>\n",
       "    </tr>\n",
       "  </tbody>\n",
       "</table>\n",
       "</div>"
      ],
      "text/plain": [
       "   Age  Growth  Shoe size  Course number  Year of birth  Friend number  \\\n",
       "0   20     170         40              2           2002            100   \n",
       "1   22     191         43              7           2000            307   \n",
       "2   21     172         41              4           2000            186   \n",
       "3   19     168         38              2           2003            604   \n",
       "4   23     159         36              1           1998            144   \n",
       "\n",
       "   Russian rating  Maths rating  Physics rating  Computer science rating  \\\n",
       "0              85            86               0                       84   \n",
       "1              69            74              64                       72   \n",
       "2              78            62               0                        0   \n",
       "3              72             0               0                        0   \n",
       "4               0             0               0                        0   \n",
       "\n",
       "   Chemistry rating  Literature rating  History rating  Geography rating  \\\n",
       "0                 0                  0               0                 0   \n",
       "1                 0                  0               0                 0   \n",
       "2                 0                  0               0                 0   \n",
       "3                 0                  0              98                 0   \n",
       "4                 0                  0               0                 0   \n",
       "\n",
       "   Biology rating  Foreign language rating  Social science rating  \\\n",
       "0               0                        0                      0   \n",
       "1               0                        0                      0   \n",
       "2               0                        0                     70   \n",
       "3               0                        0                     91   \n",
       "4               0                        0                      0   \n",
       "\n",
       "   Distance to home km  Minutes to first class  Children number  \\\n",
       "0                    0                     150              4.0   \n",
       "1                    0                      50              NaN   \n",
       "2                    0                      80              2.0   \n",
       "3                  640                      40              2.0   \n",
       "4                 2505                      40              2.5   \n",
       "\n",
       "   Removed teeth  Weight                              Glasses      Sex  \\\n",
       "0            0.0    64.0                                   да  женский   \n",
       "1            NaN    73.0  простите. не увидел(а) вопроса ))))  мужской   \n",
       "2            0.0    60.0                                   да  мужской   \n",
       "3            0.0    59.0                                  нет  женский   \n",
       "4            1.0    57.0                                  нет  женский   \n",
       "\n",
       "  Problems in last semester   Coin Rock paper scissors Animal  \\\n",
       "0                       нет   Орел              Камень  Кошек   \n",
       "1                       нет   Орел              Камень  Собак   \n",
       "2                       нет  Решка             Ножницы  Собак   \n",
       "3                       нет  Решка             Ножницы  Собак   \n",
       "4                       нет   Орел              Бумага  Кошек   \n",
       "\n",
       "   Month of birthday     Your rating in university  \\\n",
       "0                  6  выше средней по университету   \n",
       "1                  4  ниже средней по университету   \n",
       "2                  8  выше средней по университету   \n",
       "3                  1  выше средней по университету   \n",
       "4                 12  выше средней по университету   \n",
       "\n",
       "                                          Fastfood  Height of 5000 mm  \\\n",
       "0                                      Бургер кинг                100   \n",
       "1                                              KFC                 50   \n",
       "2  Макдональдс (или как он там сейчас называется?)                 75   \n",
       "3  Макдональдс (или как он там сейчас называется?)                 50   \n",
       "4                                      Бургер кинг                 35   \n",
       "\n",
       "   Width of 5000 mm  Putin age                              Army Hostel  \\\n",
       "0               200         68  не призовут (по разным причинам)    нет   \n",
       "1                 8         53  не призовут (по разным причинам)    нет   \n",
       "2               170         69                    могут призвать    нет   \n",
       "3               100         70  не призовут (по разным причинам)    нет   \n",
       "4               120         67  не призовут (по разным причинам)    нет   \n",
       "\n",
       "   Hair length  Floor number  Social network duration min Chocolate  \\\n",
       "0         50.0             7                           45   Сникерс   \n",
       "1          7.0             5                          180    КитКат   \n",
       "2          4.0             7                           90    КитКат   \n",
       "3         20.0             5                          200    Баунти   \n",
       "4         55.0             3                          400    Баунти   \n",
       "\n",
       "   City population       Strange people        Your insitute  \\\n",
       "0         800000.0        Экономический  Математический и ИТ   \n",
       "1         800000.0  Математический и ИТ  Математический и ИТ   \n",
       "2         770000.0       Педагогический               Другое   \n",
       "3         900000.0               СоцГум          Юридический   \n",
       "4         860000.0       Педагогический       Педагогический   \n",
       "\n",
       "           Brother-sister                       Plane seat  \\\n",
       "0  нет ни брата ни сестры  У окна (пардон: у иллюминатора)   \n",
       "1    есть и брат и сестра                       В середине   \n",
       "2               есть брат  У окна (пардон: у иллюминатора)   \n",
       "3             есть сестра  У окна (пардон: у иллюминатора)   \n",
       "4             есть сестра  У окна (пардон: у иллюминатора)   \n",
       "\n",
       "   MIddle and index finger  Middle and ring finger  Middle and little finger  \n",
       "0                       20                    10.0                      40.0  \n",
       "1                        5                     5.0                      20.0  \n",
       "2                       13                    10.0                      26.0  \n",
       "3                       12                    13.5                      35.0  \n",
       "4                       10                    11.0                      22.0  "
      ]
     },
     "execution_count": 29,
     "metadata": {},
     "output_type": "execute_result"
    }
   ],
   "source": [
    "import pandas as pd\n",
    "df = pd.read_csv('data/students.csv')\n",
    "pd.set_option('display.max_columns', None)\n",
    "df.head()"
   ]
  },
  {
   "cell_type": "code",
   "execution_count": 25,
   "id": "651d6762",
   "metadata": {},
   "outputs": [
    {
     "name": "stdout",
     "output_type": "stream",
     "text": [
      "<class 'pandas.core.frame.DataFrame'>\n",
      "RangeIndex: 186 entries, 0 to 185\n",
      "Data columns (total 48 columns):\n",
      " #   Column                       Non-Null Count  Dtype  \n",
      "---  ------                       --------------  -----  \n",
      " 0   Age                          186 non-null    int64  \n",
      " 1   Growth                       186 non-null    int64  \n",
      " 2   Shoe size                    186 non-null    int64  \n",
      " 3   Course number                186 non-null    int64  \n",
      " 4   Year of birth                186 non-null    int64  \n",
      " 5   Friend number                186 non-null    int64  \n",
      " 6   Russian rating               186 non-null    int64  \n",
      " 7   Maths rating                 186 non-null    int64  \n",
      " 8   Physics rating               186 non-null    int64  \n",
      " 9   Computer science rating      186 non-null    int64  \n",
      " 10  Chemistry rating             186 non-null    int64  \n",
      " 11  Literature rating            186 non-null    int64  \n",
      " 12  History rating               186 non-null    int64  \n",
      " 13  Geography rating             186 non-null    int64  \n",
      " 14  Biology rating               186 non-null    int64  \n",
      " 15  Foreign language rating      186 non-null    int64  \n",
      " 16  Social science rating        186 non-null    int64  \n",
      " 17  Distance to home km          186 non-null    int64  \n",
      " 18  Minutes to first class       186 non-null    int64  \n",
      " 19  Children number              150 non-null    float64\n",
      " 20  Removed teeth                148 non-null    float64\n",
      " 21  Weight                       157 non-null    float64\n",
      " 22  Glasses                      184 non-null    object \n",
      " 23  Sex                          186 non-null    object \n",
      " 24  Problems in last semester    186 non-null    object \n",
      " 25  Coin                         186 non-null    object \n",
      " 26  Rock paper scissors          186 non-null    object \n",
      " 27  Animal                       186 non-null    object \n",
      " 28  Month of birthday            186 non-null    int64  \n",
      " 29  Your rating in university    186 non-null    object \n",
      " 30  Fastfood                     186 non-null    object \n",
      " 31  Height of 5000 mm            186 non-null    int64  \n",
      " 32  Width of 5000 mm             186 non-null    int64  \n",
      " 33  Putin age                    186 non-null    int64  \n",
      " 34  Army                         186 non-null    object \n",
      " 35  Hostel                       186 non-null    object \n",
      " 36  Hair length                  186 non-null    float64\n",
      " 37  Floor number                 186 non-null    int64  \n",
      " 38  Social network duration min  186 non-null    int64  \n",
      " 39  Chocolate                    186 non-null    object \n",
      " 40  City population              186 non-null    float64\n",
      " 41  Strange people               186 non-null    object \n",
      " 42  Your insitute                186 non-null    object \n",
      " 43  Brother-sister               186 non-null    object \n",
      " 44  Plane seat                   186 non-null    object \n",
      " 45  MIddle and index finger      186 non-null    int64  \n",
      " 46  Middle and ring finger       186 non-null    float64\n",
      " 47  Middle and little finger     186 non-null    float64\n",
      "dtypes: float64(7), int64(26), object(15)\n",
      "memory usage: 69.9+ KB\n"
     ]
    }
   ],
   "source": [
    "df.info()"
   ]
  },
  {
   "cell_type": "markdown",
   "id": "2a5cdf14",
   "metadata": {},
   "source": [
    "#### 2.1"
   ]
  },
  {
   "cell_type": "code",
   "execution_count": 13,
   "id": "73ca8b86",
   "metadata": {},
   "outputs": [
    {
     "data": {
      "text/plain": [
       "169"
      ]
     },
     "execution_count": 13,
     "metadata": {},
     "output_type": "execute_result"
    }
   ],
   "source": [
    "#2.1.1\n",
    "df['Growth'].loc[12]"
   ]
  },
  {
   "cell_type": "code",
   "execution_count": 17,
   "id": "1acd5ad4",
   "metadata": {},
   "outputs": [
    {
     "data": {
      "text/plain": [
       "161"
      ]
     },
     "execution_count": 17,
     "metadata": {},
     "output_type": "execute_result"
    }
   ],
   "source": [
    "#2.1.2\n",
    "df['Growth'].iloc[-18]"
   ]
  },
  {
   "cell_type": "markdown",
   "id": "93fa00af",
   "metadata": {},
   "source": [
    "#### 2.2"
   ]
  },
  {
   "cell_type": "code",
   "execution_count": 20,
   "id": "9979cb1a",
   "metadata": {},
   "outputs": [
    {
     "data": {
      "text/plain": [
       "64.03"
      ]
     },
     "execution_count": 20,
     "metadata": {},
     "output_type": "execute_result"
    }
   ],
   "source": [
    "#2.2.1\n",
    "round(df['Weight'].mean(), 2)"
   ]
  },
  {
   "cell_type": "code",
   "execution_count": 21,
   "id": "8b552d38",
   "metadata": {},
   "outputs": [
    {
     "data": {
      "text/plain": [
       "60.0"
      ]
     },
     "execution_count": 21,
     "metadata": {},
     "output_type": "execute_result"
    }
   ],
   "source": [
    "#2.2.2\n",
    "round(df['Weight'].median(), 2)"
   ]
  },
  {
   "cell_type": "code",
   "execution_count": 22,
   "id": "5f984959",
   "metadata": {},
   "outputs": [
    {
     "data": {
      "text/plain": [
       "3.0"
      ]
     },
     "execution_count": 22,
     "metadata": {},
     "output_type": "execute_result"
    }
   ],
   "source": [
    "#2.2.3\n",
    "round(df['Weight'].min(), 2)"
   ]
  },
  {
   "cell_type": "code",
   "execution_count": 23,
   "id": "827263de",
   "metadata": {},
   "outputs": [
    {
     "data": {
      "text/plain": [
       "120.0"
      ]
     },
     "execution_count": 23,
     "metadata": {},
     "output_type": "execute_result"
    }
   ],
   "source": [
    "#2.2.4\n",
    "round(df['Weight'].max(), 2)"
   ]
  },
  {
   "cell_type": "code",
   "execution_count": 30,
   "id": "1a4a7f67",
   "metadata": {},
   "outputs": [
    {
     "data": {
      "text/plain": [
       "Ножницы    88\n",
       "Камень     60\n",
       "Бумага     38\n",
       "Name: Rock paper scissors, dtype: int64"
      ]
     },
     "execution_count": 30,
     "metadata": {},
     "output_type": "execute_result"
    }
   ],
   "source": [
    "#2.2.5\n",
    "df['Rock paper scissors'].value_counts()"
   ]
  },
  {
   "cell_type": "code",
   "execution_count": 32,
   "id": "e752d796",
   "metadata": {},
   "outputs": [
    {
     "data": {
      "text/plain": [
       "58.0"
      ]
     },
     "execution_count": 32,
     "metadata": {},
     "output_type": "execute_result"
    }
   ],
   "source": [
    "#2.2.6\n",
    "round(df['Weight'].iloc[9], 2)"
   ]
  },
  {
   "cell_type": "markdown",
   "id": "e3768f3e",
   "metadata": {},
   "source": [
    "#### 2.3"
   ]
  },
  {
   "cell_type": "code",
   "execution_count": 44,
   "id": "ac737db2",
   "metadata": {},
   "outputs": [
    {
     "data": {
      "text/plain": [
       "Growth\n",
       "180    120.0\n",
       "Name: Weight, dtype: float64"
      ]
     },
     "execution_count": 44,
     "metadata": {},
     "output_type": "execute_result"
    }
   ],
   "source": [
    "#2.3.1\n",
    "df.groupby('Growth')['Weight'].max().sort_values(ascending=False).head(1)"
   ]
  },
  {
   "cell_type": "code",
   "execution_count": 50,
   "id": "8a0208fa",
   "metadata": {},
   "outputs": [
    {
     "data": {
      "text/plain": [
       "11.05"
      ]
     },
     "execution_count": 50,
     "metadata": {},
     "output_type": "execute_result"
    }
   ],
   "source": [
    "#2.3.2\n",
    "round(df[df['Army'] == 'могут призвать']['Hair length'].mean(), 2)"
   ]
  },
  {
   "cell_type": "code",
   "execution_count": 55,
   "id": "4a6132a2",
   "metadata": {},
   "outputs": [
    {
     "data": {
      "text/plain": [
       "1"
      ]
     },
     "execution_count": 55,
     "metadata": {},
     "output_type": "execute_result"
    }
   ],
   "source": [
    "#2.3.3\n",
    "len(df[(df['Sex'] == 'мужской') & (df['Friend number'] == 0)])"
   ]
  },
  {
   "cell_type": "code",
   "execution_count": 62,
   "id": "3b9844a8",
   "metadata": {},
   "outputs": [
    {
     "data": {
      "text/plain": [
       "4    20.00\n",
       "1    11.67\n",
       "5    10.00\n",
       "2     8.33\n",
       "6     8.33\n",
       "Name: Floor number, dtype: float64"
      ]
     },
     "execution_count": 62,
     "metadata": {},
     "output_type": "execute_result"
    }
   ],
   "source": [
    "#2.3.4\n",
    "round(df[df['Animal'] == 'Собак']['Floor number'].value_counts(normalize = True)*100, 2).head()"
   ]
  },
  {
   "cell_type": "code",
   "execution_count": 74,
   "id": "9c07f8ae",
   "metadata": {},
   "outputs": [
    {
     "data": {
      "text/plain": [
       "60.0"
      ]
     },
     "execution_count": 74,
     "metadata": {},
     "output_type": "execute_result"
    }
   ],
   "source": [
    "#2.3.5\n",
    "single_child = df[df['Brother-sister'] == 'нет ни брата ни сестры']['Social network duration min'].median()\n",
    "not_single_child = df[(df['Brother-sister'] == 'есть брат') | (df['Brother-sister'] == 'есть сестра') |\n",
    "   (df['Brother-sister'] == 'есть и брат и сестра')]['Social network duration min'].median()\n",
    "single_child - not_single_child"
   ]
  },
  {
   "cell_type": "code",
   "execution_count": 85,
   "id": "9f86079c",
   "metadata": {},
   "outputs": [
    {
     "data": {
      "text/plain": [
       "8.06"
      ]
     },
     "execution_count": 85,
     "metadata": {},
     "output_type": "execute_result"
    }
   ],
   "source": [
    "#2.3.6\n",
    "KFC_persons = df[df['Fastfood'] == 'KFC']['Weight'].mean()\n",
    "Mac_persons = df[df['Fastfood'] == 'Макдональдс (или как он там сейчас называется?)']['Weight'].mean()\n",
    "round(KFC_persons - Mac_persons, 2)"
   ]
  },
  {
   "cell_type": "markdown",
   "id": "d29ac48a",
   "metadata": {},
   "source": [
    "#### 2.4"
   ]
  },
  {
   "cell_type": "code",
   "execution_count": 101,
   "id": "0ed6fac7",
   "metadata": {},
   "outputs": [
    {
     "data": {
      "text/html": [
       "<div>\n",
       "<style scoped>\n",
       "    .dataframe tbody tr th:only-of-type {\n",
       "        vertical-align: middle;\n",
       "    }\n",
       "\n",
       "    .dataframe tbody tr th {\n",
       "        vertical-align: top;\n",
       "    }\n",
       "\n",
       "    .dataframe thead th {\n",
       "        text-align: right;\n",
       "    }\n",
       "</style>\n",
       "<table border=\"1\" class=\"dataframe\">\n",
       "  <thead>\n",
       "    <tr style=\"text-align: right;\">\n",
       "      <th></th>\n",
       "      <th>Year of birth</th>\n",
       "      <th>Shoe size</th>\n",
       "    </tr>\n",
       "  </thead>\n",
       "  <tbody>\n",
       "    <tr>\n",
       "      <th>96</th>\n",
       "      <td>2003</td>\n",
       "      <td>34</td>\n",
       "    </tr>\n",
       "  </tbody>\n",
       "</table>\n",
       "</div>"
      ],
      "text/plain": [
       "    Year of birth  Shoe size\n",
       "96           2003         34"
      ]
     },
     "execution_count": 101,
     "metadata": {},
     "output_type": "execute_result"
    }
   ],
   "source": [
    "#2.4.1\n",
    "df[['Year of birth', 'Shoe size']].sort_values(by = 'Shoe size').head(1)"
   ]
  },
  {
   "cell_type": "code",
   "execution_count": 102,
   "id": "4fe8764f",
   "metadata": {},
   "outputs": [
    {
     "data": {
      "text/html": [
       "<div>\n",
       "<style scoped>\n",
       "    .dataframe tbody tr th:only-of-type {\n",
       "        vertical-align: middle;\n",
       "    }\n",
       "\n",
       "    .dataframe tbody tr th {\n",
       "        vertical-align: top;\n",
       "    }\n",
       "\n",
       "    .dataframe thead th {\n",
       "        text-align: right;\n",
       "    }\n",
       "</style>\n",
       "<table border=\"1\" class=\"dataframe\">\n",
       "  <thead>\n",
       "    <tr style=\"text-align: right;\">\n",
       "      <th></th>\n",
       "      <th>Year of birth</th>\n",
       "      <th>Shoe size</th>\n",
       "    </tr>\n",
       "  </thead>\n",
       "  <tbody>\n",
       "    <tr>\n",
       "      <th>96</th>\n",
       "      <td>2003</td>\n",
       "      <td>34</td>\n",
       "    </tr>\n",
       "    <tr>\n",
       "      <th>47</th>\n",
       "      <td>2004</td>\n",
       "      <td>35</td>\n",
       "    </tr>\n",
       "    <tr>\n",
       "      <th>52</th>\n",
       "      <td>2002</td>\n",
       "      <td>35</td>\n",
       "    </tr>\n",
       "  </tbody>\n",
       "</table>\n",
       "</div>"
      ],
      "text/plain": [
       "    Year of birth  Shoe size\n",
       "96           2003         34\n",
       "47           2004         35\n",
       "52           2002         35"
      ]
     },
     "execution_count": 102,
     "metadata": {},
     "output_type": "execute_result"
    }
   ],
   "source": [
    "#2.4.2\n",
    "df[['Year of birth', 'Shoe size']].sort_values(by = 'Shoe size').head(3)"
   ]
  },
  {
   "cell_type": "code",
   "execution_count": 106,
   "id": "c8048216",
   "metadata": {},
   "outputs": [
    {
     "data": {
      "text/html": [
       "<div>\n",
       "<style scoped>\n",
       "    .dataframe tbody tr th:only-of-type {\n",
       "        vertical-align: middle;\n",
       "    }\n",
       "\n",
       "    .dataframe tbody tr th {\n",
       "        vertical-align: top;\n",
       "    }\n",
       "\n",
       "    .dataframe thead th {\n",
       "        text-align: right;\n",
       "    }\n",
       "</style>\n",
       "<table border=\"1\" class=\"dataframe\">\n",
       "  <thead>\n",
       "    <tr style=\"text-align: right;\">\n",
       "      <th></th>\n",
       "      <th>Year of birth</th>\n",
       "      <th>Growth</th>\n",
       "      <th>Shoe size</th>\n",
       "    </tr>\n",
       "  </thead>\n",
       "  <tbody>\n",
       "    <tr>\n",
       "      <th>96</th>\n",
       "      <td>2003</td>\n",
       "      <td>163</td>\n",
       "      <td>34</td>\n",
       "    </tr>\n",
       "    <tr>\n",
       "      <th>118</th>\n",
       "      <td>2003</td>\n",
       "      <td>157</td>\n",
       "      <td>35</td>\n",
       "    </tr>\n",
       "    <tr>\n",
       "      <th>10</th>\n",
       "      <td>2001</td>\n",
       "      <td>158</td>\n",
       "      <td>35</td>\n",
       "    </tr>\n",
       "    <tr>\n",
       "      <th>37</th>\n",
       "      <td>1997</td>\n",
       "      <td>158</td>\n",
       "      <td>35</td>\n",
       "    </tr>\n",
       "    <tr>\n",
       "      <th>116</th>\n",
       "      <td>1999</td>\n",
       "      <td>158</td>\n",
       "      <td>35</td>\n",
       "    </tr>\n",
       "    <tr>\n",
       "      <th>138</th>\n",
       "      <td>2001</td>\n",
       "      <td>158</td>\n",
       "      <td>35</td>\n",
       "    </tr>\n",
       "    <tr>\n",
       "      <th>47</th>\n",
       "      <td>2004</td>\n",
       "      <td>159</td>\n",
       "      <td>35</td>\n",
       "    </tr>\n",
       "    <tr>\n",
       "      <th>52</th>\n",
       "      <td>2002</td>\n",
       "      <td>163</td>\n",
       "      <td>35</td>\n",
       "    </tr>\n",
       "    <tr>\n",
       "      <th>177</th>\n",
       "      <td>1999</td>\n",
       "      <td>155</td>\n",
       "      <td>36</td>\n",
       "    </tr>\n",
       "  </tbody>\n",
       "</table>\n",
       "</div>"
      ],
      "text/plain": [
       "     Year of birth  Growth  Shoe size\n",
       "96            2003     163         34\n",
       "118           2003     157         35\n",
       "10            2001     158         35\n",
       "37            1997     158         35\n",
       "116           1999     158         35\n",
       "138           2001     158         35\n",
       "47            2004     159         35\n",
       "52            2002     163         35\n",
       "177           1999     155         36"
      ]
     },
     "execution_count": 106,
     "metadata": {},
     "output_type": "execute_result"
    }
   ],
   "source": [
    "#2.4.3\n",
    "df[['Year of birth','Growth', 'Shoe size']].sort_values(by = ['Shoe size','Growth']).head(9)"
   ]
  },
  {
   "cell_type": "code",
   "execution_count": 109,
   "id": "45277470",
   "metadata": {},
   "outputs": [
    {
     "data": {
      "text/html": [
       "<div>\n",
       "<style scoped>\n",
       "    .dataframe tbody tr th:only-of-type {\n",
       "        vertical-align: middle;\n",
       "    }\n",
       "\n",
       "    .dataframe tbody tr th {\n",
       "        vertical-align: top;\n",
       "    }\n",
       "\n",
       "    .dataframe thead th {\n",
       "        text-align: right;\n",
       "    }\n",
       "</style>\n",
       "<table border=\"1\" class=\"dataframe\">\n",
       "  <thead>\n",
       "    <tr style=\"text-align: right;\">\n",
       "      <th></th>\n",
       "      <th>Year of birth</th>\n",
       "      <th>Growth</th>\n",
       "      <th>Shoe size</th>\n",
       "    </tr>\n",
       "  </thead>\n",
       "  <tbody>\n",
       "    <tr>\n",
       "      <th>96</th>\n",
       "      <td>2003</td>\n",
       "      <td>163</td>\n",
       "      <td>34</td>\n",
       "    </tr>\n",
       "    <tr>\n",
       "      <th>52</th>\n",
       "      <td>2002</td>\n",
       "      <td>163</td>\n",
       "      <td>35</td>\n",
       "    </tr>\n",
       "  </tbody>\n",
       "</table>\n",
       "</div>"
      ],
      "text/plain": [
       "    Year of birth  Growth  Shoe size\n",
       "96           2003     163         34\n",
       "52           2002     163         35"
      ]
     },
     "execution_count": 109,
     "metadata": {},
     "output_type": "execute_result"
    }
   ],
   "source": [
    "#2.4.4\n",
    "df[['Year of birth','Growth', 'Shoe size']].sort_values(by = ['Shoe size','Growth'], ascending=[True,False]).head(2)"
   ]
  },
  {
   "cell_type": "code",
   "execution_count": 110,
   "id": "fe6b01d4",
   "metadata": {},
   "outputs": [
    {
     "data": {
      "text/html": [
       "<div>\n",
       "<style scoped>\n",
       "    .dataframe tbody tr th:only-of-type {\n",
       "        vertical-align: middle;\n",
       "    }\n",
       "\n",
       "    .dataframe tbody tr th {\n",
       "        vertical-align: top;\n",
       "    }\n",
       "\n",
       "    .dataframe thead th {\n",
       "        text-align: right;\n",
       "    }\n",
       "</style>\n",
       "<table border=\"1\" class=\"dataframe\">\n",
       "  <thead>\n",
       "    <tr style=\"text-align: right;\">\n",
       "      <th></th>\n",
       "      <th>Year of birth</th>\n",
       "      <th>Growth</th>\n",
       "      <th>Shoe size</th>\n",
       "    </tr>\n",
       "  </thead>\n",
       "  <tbody>\n",
       "    <tr>\n",
       "      <th>7</th>\n",
       "      <td>2003</td>\n",
       "      <td>180</td>\n",
       "      <td>48</td>\n",
       "    </tr>\n",
       "    <tr>\n",
       "      <th>27</th>\n",
       "      <td>2003</td>\n",
       "      <td>193</td>\n",
       "      <td>48</td>\n",
       "    </tr>\n",
       "  </tbody>\n",
       "</table>\n",
       "</div>"
      ],
      "text/plain": [
       "    Year of birth  Growth  Shoe size\n",
       "7            2003     180         48\n",
       "27           2003     193         48"
      ]
     },
     "execution_count": 110,
     "metadata": {},
     "output_type": "execute_result"
    }
   ],
   "source": [
    "#2.4.5\n",
    "df[['Year of birth','Growth', 'Shoe size']].sort_values(by = ['Shoe size','Growth'], ascending=[False,True]).head(2)"
   ]
  },
  {
   "cell_type": "code",
   "execution_count": 112,
   "id": "5f7a125c",
   "metadata": {},
   "outputs": [
    {
     "data": {
      "text/plain": [
       "319.0"
      ]
     },
     "execution_count": 112,
     "metadata": {},
     "output_type": "execute_result"
    }
   ],
   "source": [
    "#2.4.6\n",
    "df['Full length'] = df['Growth'] + df['Hair length']\n",
    "df['Full length'].max()"
   ]
  },
  {
   "cell_type": "code",
   "execution_count": 113,
   "id": "333b51e0",
   "metadata": {},
   "outputs": [
    {
     "data": {
      "text/html": [
       "<div>\n",
       "<style scoped>\n",
       "    .dataframe tbody tr th:only-of-type {\n",
       "        vertical-align: middle;\n",
       "    }\n",
       "\n",
       "    .dataframe tbody tr th {\n",
       "        vertical-align: top;\n",
       "    }\n",
       "\n",
       "    .dataframe thead th {\n",
       "        text-align: right;\n",
       "    }\n",
       "</style>\n",
       "<table border=\"1\" class=\"dataframe\">\n",
       "  <thead>\n",
       "    <tr style=\"text-align: right;\">\n",
       "      <th></th>\n",
       "      <th>Growth</th>\n",
       "      <th>Shoe size</th>\n",
       "    </tr>\n",
       "  </thead>\n",
       "  <tbody>\n",
       "    <tr>\n",
       "      <th>Growth</th>\n",
       "      <td>1.000000</td>\n",
       "      <td>0.863252</td>\n",
       "    </tr>\n",
       "    <tr>\n",
       "      <th>Shoe size</th>\n",
       "      <td>0.863252</td>\n",
       "      <td>1.000000</td>\n",
       "    </tr>\n",
       "  </tbody>\n",
       "</table>\n",
       "</div>"
      ],
      "text/plain": [
       "             Growth  Shoe size\n",
       "Growth     1.000000   0.863252\n",
       "Shoe size  0.863252   1.000000"
      ]
     },
     "execution_count": 113,
     "metadata": {},
     "output_type": "execute_result"
    }
   ],
   "source": [
    "#2.4.7\n",
    "df[['Growth', 'Shoe size']].corr()"
   ]
  },
  {
   "cell_type": "code",
   "execution_count": 115,
   "id": "7b7d65e2",
   "metadata": {},
   "outputs": [
    {
     "data": {
      "text/html": [
       "<div>\n",
       "<style scoped>\n",
       "    .dataframe tbody tr th:only-of-type {\n",
       "        vertical-align: middle;\n",
       "    }\n",
       "\n",
       "    .dataframe tbody tr th {\n",
       "        vertical-align: top;\n",
       "    }\n",
       "\n",
       "    .dataframe thead th {\n",
       "        text-align: right;\n",
       "    }\n",
       "</style>\n",
       "<table border=\"1\" class=\"dataframe\">\n",
       "  <thead>\n",
       "    <tr style=\"text-align: right;\">\n",
       "      <th></th>\n",
       "      <th>Russian rating</th>\n",
       "      <th>Maths rating</th>\n",
       "    </tr>\n",
       "    <tr>\n",
       "      <th>Glasses</th>\n",
       "      <th></th>\n",
       "      <th></th>\n",
       "    </tr>\n",
       "  </thead>\n",
       "  <tbody>\n",
       "    <tr>\n",
       "      <th>да</th>\n",
       "      <td>83.388235</td>\n",
       "      <td>56.741176</td>\n",
       "    </tr>\n",
       "    <tr>\n",
       "      <th>нет</th>\n",
       "      <td>80.471910</td>\n",
       "      <td>59.955056</td>\n",
       "    </tr>\n",
       "    <tr>\n",
       "      <th>простите. не увидел(а) вопроса ))))</th>\n",
       "      <td>77.900000</td>\n",
       "      <td>54.700000</td>\n",
       "    </tr>\n",
       "  </tbody>\n",
       "</table>\n",
       "</div>"
      ],
      "text/plain": [
       "                                     Russian rating  Maths rating\n",
       "Glasses                                                          \n",
       "да                                        83.388235     56.741176\n",
       "нет                                       80.471910     59.955056\n",
       "простите. не увидел(а) вопроса ))))       77.900000     54.700000"
      ]
     },
     "execution_count": 115,
     "metadata": {},
     "output_type": "execute_result"
    }
   ],
   "source": [
    "#2.4.8\n",
    "df.groupby('Glasses')[['Russian rating','Maths rating']].mean()"
   ]
  },
  {
   "cell_type": "code",
   "execution_count": 116,
   "id": "1a1b9fc3",
   "metadata": {},
   "outputs": [
    {
     "data": {
      "text/html": [
       "<div>\n",
       "<style scoped>\n",
       "    .dataframe tbody tr th:only-of-type {\n",
       "        vertical-align: middle;\n",
       "    }\n",
       "\n",
       "    .dataframe tbody tr th {\n",
       "        vertical-align: top;\n",
       "    }\n",
       "\n",
       "    .dataframe thead th {\n",
       "        text-align: right;\n",
       "    }\n",
       "</style>\n",
       "<table border=\"1\" class=\"dataframe\">\n",
       "  <thead>\n",
       "    <tr style=\"text-align: right;\">\n",
       "      <th></th>\n",
       "      <th>Russian rating</th>\n",
       "      <th>Maths rating</th>\n",
       "    </tr>\n",
       "    <tr>\n",
       "      <th>Rock paper scissors</th>\n",
       "      <th></th>\n",
       "      <th></th>\n",
       "    </tr>\n",
       "  </thead>\n",
       "  <tbody>\n",
       "    <tr>\n",
       "      <th>Бумага</th>\n",
       "      <td>76.473684</td>\n",
       "      <td>52.894737</td>\n",
       "    </tr>\n",
       "    <tr>\n",
       "      <th>Камень</th>\n",
       "      <td>81.450000</td>\n",
       "      <td>62.166667</td>\n",
       "    </tr>\n",
       "    <tr>\n",
       "      <th>Ножницы</th>\n",
       "      <td>83.988636</td>\n",
       "      <td>57.738636</td>\n",
       "    </tr>\n",
       "  </tbody>\n",
       "</table>\n",
       "</div>"
      ],
      "text/plain": [
       "                     Russian rating  Maths rating\n",
       "Rock paper scissors                              \n",
       "Бумага                    76.473684     52.894737\n",
       "Камень                    81.450000     62.166667\n",
       "Ножницы                   83.988636     57.738636"
      ]
     },
     "execution_count": 116,
     "metadata": {},
     "output_type": "execute_result"
    }
   ],
   "source": [
    "#2.4.9\n",
    "df.groupby('Rock paper scissors')[['Russian rating','Maths rating']].mean()"
   ]
  },
  {
   "cell_type": "markdown",
   "id": "0f26914d",
   "metadata": {},
   "source": [
    "#### 3.2"
   ]
  },
  {
   "cell_type": "code",
   "execution_count": 121,
   "id": "d9f7754c",
   "metadata": {},
   "outputs": [
    {
     "data": {
      "text/plain": [
       "36"
      ]
     },
     "execution_count": 121,
     "metadata": {},
     "output_type": "execute_result"
    }
   ],
   "source": [
    "#3.2.1\n",
    "df['Children number'].isnull().sum()"
   ]
  },
  {
   "cell_type": "code",
   "execution_count": 162,
   "id": "f7bbd305",
   "metadata": {},
   "outputs": [
    {
     "name": "stderr",
     "output_type": "stream",
     "text": [
      "C:\\Users\\user\\AppData\\Local\\Temp\\ipykernel_19384\\2085828938.py:4: SettingWithCopyWarning: \n",
      "A value is trying to be set on a copy of a slice from a DataFrame.\n",
      "Try using .loc[row_indexer,col_indexer] = value instead\n",
      "\n",
      "See the caveats in the documentation: https://pandas.pydata.org/pandas-docs/stable/user_guide/indexing.html#returning-a-view-versus-a-copy\n",
      "  females['Weight'] = females['Weight'].fillna(females['Weight'].mean())\n",
      "C:\\Users\\user\\AppData\\Local\\Temp\\ipykernel_19384\\2085828938.py:5: SettingWithCopyWarning: \n",
      "A value is trying to be set on a copy of a slice from a DataFrame.\n",
      "Try using .loc[row_indexer,col_indexer] = value instead\n",
      "\n",
      "See the caveats in the documentation: https://pandas.pydata.org/pandas-docs/stable/user_guide/indexing.html#returning-a-view-versus-a-copy\n",
      "  males['Weight'] = males['Weight'].fillna(males['Weight'].mean())\n",
      "C:\\Users\\user\\AppData\\Local\\Temp\\ipykernel_19384\\2085828938.py:6: FutureWarning: The frame.append method is deprecated and will be removed from pandas in a future version. Use pandas.concat instead.\n",
      "  df_new = males.append(females)\n"
     ]
    },
    {
     "data": {
      "text/plain": [
       "63.53"
      ]
     },
     "execution_count": 162,
     "metadata": {},
     "output_type": "execute_result"
    }
   ],
   "source": [
    "#3.2.2\n",
    "females = df[df['Sex'] == 'женский']\n",
    "males = df[df['Sex'] == 'мужской']\n",
    "females['Weight'] = females['Weight'].fillna(females['Weight'].mean())\n",
    "males['Weight'] = males['Weight'].fillna(males['Weight'].mean())\n",
    "df_new = males.append(females)\n",
    "round(df_new['Weight'].mean(), 2)"
   ]
  },
  {
   "cell_type": "code",
   "execution_count": 163,
   "id": "89659fdb",
   "metadata": {},
   "outputs": [],
   "source": [
    "#3.2.2\n"
   ]
  },
  {
   "cell_type": "code",
   "execution_count": null,
   "id": "7bd4d4a5",
   "metadata": {},
   "outputs": [],
   "source": []
  }
 ],
 "metadata": {
  "kernelspec": {
   "display_name": "Python 3 (ipykernel)",
   "language": "python",
   "name": "python3"
  },
  "language_info": {
   "codemirror_mode": {
    "name": "ipython",
    "version": 3
   },
   "file_extension": ".py",
   "mimetype": "text/x-python",
   "name": "python",
   "nbconvert_exporter": "python",
   "pygments_lexer": "ipython3",
   "version": "3.9.12"
  }
 },
 "nbformat": 4,
 "nbformat_minor": 5
}
