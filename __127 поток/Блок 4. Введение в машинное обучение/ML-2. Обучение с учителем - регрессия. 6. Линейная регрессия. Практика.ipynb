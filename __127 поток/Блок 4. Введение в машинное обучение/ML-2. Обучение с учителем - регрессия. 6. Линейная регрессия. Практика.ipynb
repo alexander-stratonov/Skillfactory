{
 "cells": [
  {
   "cell_type": "code",
   "execution_count": 1,
   "id": "160e499b",
   "metadata": {},
   "outputs": [],
   "source": [
    "import numpy as np #для матричных вычислений\n",
    "import pandas as pd #для анализа и предобработки данных\n",
    "import matplotlib.pyplot as plt #для визуализации\n",
    "import seaborn as sns #для визуализации\n",
    "\n",
    "from sklearn import linear_model #линейные модели\n",
    "from sklearn import metrics #метрики\n",
    "from sklearn import preprocessing #предобработка\n",
    "from sklearn.model_selection import train_test_split #разделение выборки"
   ]
  },
  {
   "cell_type": "code",
   "execution_count": 2,
   "id": "aa0aa2f8",
   "metadata": {},
   "outputs": [
    {
     "data": {
      "text/html": [
       "<div>\n",
       "<style scoped>\n",
       "    .dataframe tbody tr th:only-of-type {\n",
       "        vertical-align: middle;\n",
       "    }\n",
       "\n",
       "    .dataframe tbody tr th {\n",
       "        vertical-align: top;\n",
       "    }\n",
       "\n",
       "    .dataframe thead th {\n",
       "        text-align: right;\n",
       "    }\n",
       "</style>\n",
       "<table border=\"1\" class=\"dataframe\">\n",
       "  <thead>\n",
       "    <tr style=\"text-align: right;\">\n",
       "      <th></th>\n",
       "      <th>age</th>\n",
       "      <th>sex</th>\n",
       "      <th>bmi</th>\n",
       "      <th>children</th>\n",
       "      <th>smoker</th>\n",
       "      <th>region</th>\n",
       "      <th>charges</th>\n",
       "    </tr>\n",
       "  </thead>\n",
       "  <tbody>\n",
       "    <tr>\n",
       "      <th>0</th>\n",
       "      <td>19</td>\n",
       "      <td>female</td>\n",
       "      <td>27.900</td>\n",
       "      <td>0</td>\n",
       "      <td>yes</td>\n",
       "      <td>southwest</td>\n",
       "      <td>16884.92400</td>\n",
       "    </tr>\n",
       "    <tr>\n",
       "      <th>1</th>\n",
       "      <td>18</td>\n",
       "      <td>male</td>\n",
       "      <td>33.770</td>\n",
       "      <td>1</td>\n",
       "      <td>no</td>\n",
       "      <td>southeast</td>\n",
       "      <td>1725.55230</td>\n",
       "    </tr>\n",
       "    <tr>\n",
       "      <th>2</th>\n",
       "      <td>28</td>\n",
       "      <td>male</td>\n",
       "      <td>33.000</td>\n",
       "      <td>3</td>\n",
       "      <td>no</td>\n",
       "      <td>southeast</td>\n",
       "      <td>4449.46200</td>\n",
       "    </tr>\n",
       "    <tr>\n",
       "      <th>3</th>\n",
       "      <td>33</td>\n",
       "      <td>male</td>\n",
       "      <td>22.705</td>\n",
       "      <td>0</td>\n",
       "      <td>no</td>\n",
       "      <td>northwest</td>\n",
       "      <td>21984.47061</td>\n",
       "    </tr>\n",
       "    <tr>\n",
       "      <th>4</th>\n",
       "      <td>32</td>\n",
       "      <td>male</td>\n",
       "      <td>28.880</td>\n",
       "      <td>0</td>\n",
       "      <td>no</td>\n",
       "      <td>northwest</td>\n",
       "      <td>3866.85520</td>\n",
       "    </tr>\n",
       "  </tbody>\n",
       "</table>\n",
       "</div>"
      ],
      "text/plain": [
       "   age     sex     bmi  children smoker     region      charges\n",
       "0   19  female  27.900         0    yes  southwest  16884.92400\n",
       "1   18    male  33.770         1     no  southeast   1725.55230\n",
       "2   28    male  33.000         3     no  southeast   4449.46200\n",
       "3   33    male  22.705         0     no  northwest  21984.47061\n",
       "4   32    male  28.880         0     no  northwest   3866.85520"
      ]
     },
     "execution_count": 2,
     "metadata": {},
     "output_type": "execute_result"
    }
   ],
   "source": [
    "data = pd.read_csv('data/insurance.csv')\n",
    "data.head()"
   ]
  },
  {
   "cell_type": "code",
   "execution_count": 3,
   "id": "54e4456a",
   "metadata": {},
   "outputs": [
    {
     "name": "stdout",
     "output_type": "stream",
     "text": [
      "(1338, 7)\n"
     ]
    }
   ],
   "source": [
    "print(data.shape)"
   ]
  },
  {
   "cell_type": "code",
   "execution_count": 4,
   "id": "7ae8c2d3",
   "metadata": {},
   "outputs": [
    {
     "data": {
      "text/plain": [
       "age         0\n",
       "sex         0\n",
       "bmi         0\n",
       "children    0\n",
       "smoker      0\n",
       "region      0\n",
       "charges     0\n",
       "dtype: int64"
      ]
     },
     "metadata": {},
     "output_type": "display_data"
    }
   ],
   "source": [
    "display(data.isnull().sum())"
   ]
  },
  {
   "cell_type": "markdown",
   "id": "dc95f104",
   "metadata": {},
   "source": [
    "#### Гистограммы/коробчатые диаграммы числовых признаков"
   ]
  },
  {
   "cell_type": "code",
   "execution_count": 5,
   "id": "9b546bf6",
   "metadata": {},
   "outputs": [
    {
     "data": {
      "image/png": "[encoded data removed]",
      "text/plain": [
       "<Figure size 1200x300 with 3 Axes>"
      ]
     },
     "metadata": {},
     "output_type": "display_data"
    }
   ],
   "source": [
    "fig, ax = plt.subplots(nrows=1, ncols=3, figsize=(12, 3))\n",
    "ax[0].hist(data=data, x='age', bins=20, width = 1.5)\n",
    "ax[1].hist(data=data, x='bmi', bins=20, width = 1.5)\n",
    "ax[2].hist(data=data, x='children')\n",
    "ax[0].grid()\n",
    "ax[1].grid()\n",
    "ax[2].grid()\n",
    "ax[0].set_title('age')\n",
    "ax[1].set_title('bmi')\n",
    "ax[2].set_title('children');"
   ]
  },
  {
   "cell_type": "markdown",
   "id": "8c2495be",
   "metadata": {},
   "source": [
    "#### Столбчатые диаграммы медианных медицинских расходов в зависимости от категориальных признаков"
   ]
  },
  {
   "cell_type": "raw",
   "id": "292a7e03",
   "metadata": {
    "scrolled": true
   },
   "source": [
    "fig, axes = plt.subplots(nrows=1, ncols=2, figsize=(12, 3))\n",
    "axes[0].bar(data=data, x='sex', y= data['charges'].median,width = 0.3)\n",
    "axes[1].bar(data=data, x='smoker ', y= data['charges'].median,width = 0.3)\n",
    "axes[0].grid()\n",
    "axes[1].grid()\n",
    "axes[0].set_title('sex')\n",
    "axes[1].set_title('smoker')"
   ]
  },
  {
   "cell_type": "markdown",
   "id": "5752d3f9",
   "metadata": {},
   "source": [
    "#### Диаграммы рассеяния зависимости целевого признака от других числовых в разрезе категориальных (обратите особенное внимание на зависимость медицинских расходов от признака курения)"
   ]
  },
  {
   "cell_type": "raw",
   "id": "8a92fa21",
   "metadata": {},
   "source": [
    "fig, ax = plt.subplots(nrows=1, ncols=3, figsize=(12, 3))\n",
    "ax[0].scatter(x = data['age']['smoker' == 'yes'], y = data['charges'])\n",
    "#ax[1].scatter(x = data['sex'], y = data['charges'])"
   ]
  },
  {
   "cell_type": "markdown",
   "id": "8c65312e",
   "metadata": {},
   "source": [
    "#### Продолжаем:"
   ]
  },
  {
   "cell_type": "code",
   "execution_count": 6,
   "id": "b8a01f31",
   "metadata": {},
   "outputs": [
    {
     "data": {
      "text/html": [
       "<div>\n",
       "<style scoped>\n",
       "    .dataframe tbody tr th:only-of-type {\n",
       "        vertical-align: middle;\n",
       "    }\n",
       "\n",
       "    .dataframe tbody tr th {\n",
       "        vertical-align: top;\n",
       "    }\n",
       "\n",
       "    .dataframe thead th {\n",
       "        text-align: right;\n",
       "    }\n",
       "</style>\n",
       "<table border=\"1\" class=\"dataframe\">\n",
       "  <thead>\n",
       "    <tr style=\"text-align: right;\">\n",
       "      <th></th>\n",
       "      <th>age</th>\n",
       "      <th>sex</th>\n",
       "      <th>bmi</th>\n",
       "      <th>children</th>\n",
       "      <th>smoker</th>\n",
       "      <th>charges</th>\n",
       "      <th>region_northeast</th>\n",
       "      <th>region_northwest</th>\n",
       "      <th>region_southeast</th>\n",
       "      <th>region_southwest</th>\n",
       "    </tr>\n",
       "  </thead>\n",
       "  <tbody>\n",
       "    <tr>\n",
       "      <th>0</th>\n",
       "      <td>19</td>\n",
       "      <td>0</td>\n",
       "      <td>27.900</td>\n",
       "      <td>0</td>\n",
       "      <td>1</td>\n",
       "      <td>16884.92400</td>\n",
       "      <td>0</td>\n",
       "      <td>0</td>\n",
       "      <td>0</td>\n",
       "      <td>1</td>\n",
       "    </tr>\n",
       "    <tr>\n",
       "      <th>1</th>\n",
       "      <td>18</td>\n",
       "      <td>1</td>\n",
       "      <td>33.770</td>\n",
       "      <td>1</td>\n",
       "      <td>0</td>\n",
       "      <td>1725.55230</td>\n",
       "      <td>0</td>\n",
       "      <td>0</td>\n",
       "      <td>1</td>\n",
       "      <td>0</td>\n",
       "    </tr>\n",
       "    <tr>\n",
       "      <th>2</th>\n",
       "      <td>28</td>\n",
       "      <td>1</td>\n",
       "      <td>33.000</td>\n",
       "      <td>3</td>\n",
       "      <td>0</td>\n",
       "      <td>4449.46200</td>\n",
       "      <td>0</td>\n",
       "      <td>0</td>\n",
       "      <td>1</td>\n",
       "      <td>0</td>\n",
       "    </tr>\n",
       "    <tr>\n",
       "      <th>3</th>\n",
       "      <td>33</td>\n",
       "      <td>1</td>\n",
       "      <td>22.705</td>\n",
       "      <td>0</td>\n",
       "      <td>0</td>\n",
       "      <td>21984.47061</td>\n",
       "      <td>0</td>\n",
       "      <td>1</td>\n",
       "      <td>0</td>\n",
       "      <td>0</td>\n",
       "    </tr>\n",
       "    <tr>\n",
       "      <th>4</th>\n",
       "      <td>32</td>\n",
       "      <td>1</td>\n",
       "      <td>28.880</td>\n",
       "      <td>0</td>\n",
       "      <td>0</td>\n",
       "      <td>3866.85520</td>\n",
       "      <td>0</td>\n",
       "      <td>1</td>\n",
       "      <td>0</td>\n",
       "      <td>0</td>\n",
       "    </tr>\n",
       "  </tbody>\n",
       "</table>\n",
       "</div>"
      ],
      "text/plain": [
       "   age  sex     bmi  children  smoker      charges  region_northeast  \\\n",
       "0   19    0  27.900         0       1  16884.92400                 0   \n",
       "1   18    1  33.770         1       0   1725.55230                 0   \n",
       "2   28    1  33.000         3       0   4449.46200                 0   \n",
       "3   33    1  22.705         0       0  21984.47061                 0   \n",
       "4   32    1  28.880         0       0   3866.85520                 0   \n",
       "\n",
       "   region_northwest  region_southeast  region_southwest  \n",
       "0                 0                 0                 1  \n",
       "1                 0                 1                 0  \n",
       "2                 0                 1                 0  \n",
       "3                 1                 0                 0  \n",
       "4                 1                 0                 0  "
      ]
     },
     "execution_count": 6,
     "metadata": {},
     "output_type": "execute_result"
    }
   ],
   "source": [
    "#кодируем бинарные категориальные признаки\n",
    "data['smoker'] = data['smoker'].apply(lambda x: 0 if x == 'no' else 1)\n",
    "data['sex'] = data['sex'].apply(lambda x: 0 if x == 'female' else 1)\n",
    "#оставшиеся категориальные признаки кодируем с помощью OneHot\n",
    "data = pd.get_dummies(data)\n",
    "data.head()"
   ]
  },
  {
   "cell_type": "code",
   "execution_count": 7,
   "id": "83f02e3d",
   "metadata": {},
   "outputs": [],
   "source": [
    "features = data.drop('charges', axis=1).columns\n",
    "X, y = data[features], data['charges']"
   ]
  },
  {
   "cell_type": "markdown",
   "id": "c07b95c7",
   "metadata": {},
   "source": [
    "#### 6.1"
   ]
  },
  {
   "cell_type": "code",
   "execution_count": 8,
   "id": "56aac034",
   "metadata": {},
   "outputs": [
    {
     "name": "stdout",
     "output_type": "stream",
     "text": [
      "Train: (1070, 9) (1070,)\n",
      "Test: (268, 9) (268,)\n"
     ]
    }
   ],
   "source": [
    "X_train, X_test, y_train, y_test = train_test_split(X, y, test_size=0.2, random_state=42)\n",
    "print('Train:', X_train.shape, y_train.shape)\n",
    "print('Test:', X_test.shape, y_test.shape)"
   ]
  },
  {
   "cell_type": "markdown",
   "id": "503e0707",
   "metadata": {},
   "source": [
    "#### 6.2"
   ]
  },
  {
   "cell_type": "code",
   "execution_count": 9,
   "id": "ae58743a",
   "metadata": {},
   "outputs": [
    {
     "name": "stdout",
     "output_type": "stream",
     "text": [
      "w0: -12390.80\n"
     ]
    }
   ],
   "source": [
    "lr_lstat = linear_model.LinearRegression()\n",
    "lr_lstat.fit(X_train, y_train)\n",
    "print('w0: {:.2f}'.format(lr_lstat.intercept_))"
   ]
  },
  {
   "cell_type": "markdown",
   "id": "a99837f9",
   "metadata": {},
   "source": [
    "#### 6.3"
   ]
  },
  {
   "cell_type": "code",
   "execution_count": 10,
   "id": "d20602f6",
   "metadata": {},
   "outputs": [
    {
     "name": "stdout",
     "output_type": "stream",
     "text": [
      "R2 train score: 0.742\n",
      "R2 test score: 0.784\n",
      "MAE train score: 4208\n",
      "MAE test score: 4181\n",
      "MAPE train score: 42 %\n",
      "MAPE test score: 47 %\n"
     ]
    }
   ],
   "source": [
    "y_train_predict = lr_lstat.predict(X_train)\n",
    "y_test_predict = lr_lstat.predict(X_test)\n",
    "\n",
    "#Рассчитываем коэффициент детерминации\n",
    "print('R2 train score: {:.3f}'.format(metrics.r2_score(y_train, y_train_predict)))\n",
    "print('R2 test score: {:.3f}'.format(metrics.r2_score(y_test, y_test_predict)))\n",
    "\n",
    "#Рассчитываем MAE\n",
    "print('MAE train score: {:.0f}'.format(metrics.mean_absolute_error(y_train, y_train_predict)))\n",
    "print('MAE test score: {:.0f}'.format(metrics.mean_absolute_error(y_test, y_test_predict)))\n",
    "\n",
    "#Рассчитываем MAPE\n",
    "print('MAPE train score: {:.0f} %'.format(metrics.mean_absolute_percentage_error(y_train, y_train_predict) * 100))\n",
    "print('MAPE test score: {:.0f} %'.format(metrics.mean_absolute_percentage_error(y_test, y_test_predict) * 100))"
   ]
  },
  {
   "cell_type": "markdown",
   "id": "14909dad",
   "metadata": {},
   "source": [
    "#### 6.4"
   ]
  },
  {
   "cell_type": "code",
   "execution_count": 11,
   "id": "73c29125",
   "metadata": {},
   "outputs": [
    {
     "data": {
      "image/png": "[encoded data removed]",
      "text/plain": [
       "<Figure size 1100x300 with 1 Axes>"
      ]
     },
     "metadata": {},
     "output_type": "display_data"
    }
   ],
   "source": [
    "fig, ax = plt.subplots(figsize=(11, 3))\n",
    "y_errors_train = y_train - y_train_predict\n",
    "y_errors_test = y_test - y_test_predict\n",
    "\n",
    "errors_df = pd.DataFrame(\n",
    "    {'y_errors_train': y_errors_train, \n",
    "     'y_errors_test': y_errors_test})\n",
    "\n",
    "sns.boxplot(data=errors_df, orient='h');"
   ]
  },
  {
   "cell_type": "markdown",
   "id": "1244f774",
   "metadata": {},
   "source": [
    "#### 6.5"
   ]
  },
  {
   "cell_type": "code",
   "execution_count": 12,
   "id": "d8078b90",
   "metadata": {},
   "outputs": [
    {
     "name": "stdout",
     "output_type": "stream",
     "text": [
      "(1070, 54)\n"
     ]
    }
   ],
   "source": [
    "scaler = preprocessing.MinMaxScaler()\n",
    "scaler.fit(X_train)\n",
    "X_train_scaled = scaler.transform(X_train)\n",
    "X_test_scaled = scaler.transform(X_test)\n",
    " \n",
    "poly = preprocessing.PolynomialFeatures(degree=2, include_bias=False)\n",
    "poly.fit(X_train_scaled)\n",
    "X_train_scaled_poly = poly.transform(X_train_scaled)\n",
    "X_test_scaled_poly = poly.transform(X_test_scaled)\n",
    " \n",
    "print(X_train_scaled_poly.shape)"
   ]
  },
  {
   "cell_type": "markdown",
   "id": "68e51a04",
   "metadata": {},
   "source": [
    "#### 6.6"
   ]
  },
  {
   "cell_type": "code",
   "execution_count": 15,
   "id": "18a10c84",
   "metadata": {},
   "outputs": [
    {
     "name": "stdout",
     "output_type": "stream",
     "text": [
      "The scikit-learn version is 1.2.0.\n"
     ]
    }
   ],
   "source": [
    "# возможно ошибка из-за старой версии, поэтому проверил и обновил sklearn\n",
    "import sklearn\n",
    "print('The scikit-learn version is {}.'.format(sklearn.__version__))"
   ]
  },
  {
   "cell_type": "code",
   "execution_count": 13,
   "id": "ef2a024d",
   "metadata": {},
   "outputs": [
    {
     "name": "stdout",
     "output_type": "stream",
     "text": [
      "R2 test score: 0.867\n"
     ]
    }
   ],
   "source": [
    "lr_poly = linear_model.LinearRegression()\n",
    "lr_poly.fit(X_train_scaled_poly, y_train)\n",
    "y_train_predict = lr_poly.predict(X_train_scaled_poly)\n",
    "y_test_predict = lr_poly.predict(X_test_scaled_poly)\n",
    "print('R2 test score: {:.3f}'.format(metrics.r2_score(y_test, y_test_predict)))"
   ]
  },
  {
   "cell_type": "markdown",
   "id": "03e19d4a",
   "metadata": {},
   "source": [
    "#### 6.7"
   ]
  },
  {
   "cell_type": "code",
   "execution_count": 14,
   "id": "0805f3bb",
   "metadata": {},
   "outputs": [
    {
     "name": "stdout",
     "output_type": "stream",
     "text": [
      "[-1.23094729e+16 -1.90758874e+15 -5.30915176e+16 -3.38338323e+16\n",
      "  1.99217803e+16 -2.17707139e+16  8.46946463e+16  2.28197996e+17\n",
      " -5.97213045e+16  7.95200000e+03  1.05600000e+03  3.36000000e+02\n",
      " -1.80000000e+03  3.44000000e+02  1.23094729e+16  1.23094729e+16\n",
      "  1.23094729e+16  1.23094729e+16  4.29938746e+16  5.88000000e+02\n",
      " -1.32000000e+03  1.00000000e+01 -4.10862859e+16 -4.10862859e+16\n",
      " -4.10862859e+16 -4.10862859e+16 -9.55200000e+03  1.15200000e+03\n",
      "  5.50760000e+04  5.30915176e+16  5.30915176e+16  5.30915176e+16\n",
      "  5.30915176e+16 -2.11200000e+03 -2.26600000e+03  3.38338323e+16\n",
      "  3.38338323e+16  3.38338323e+16  3.38338323e+16 -1.76647311e+16\n",
      " -2.25704918e+15 -2.25704918e+15 -2.25704918e+15 -2.25704918e+15\n",
      " -2.15358466e+16  0.00000000e+00  0.00000000e+00  0.00000000e+00\n",
      " -1.28001207e+17  0.00000000e+00  0.00000000e+00 -2.71504556e+17\n",
      "  0.00000000e+00  1.64147440e+16]\n"
     ]
    }
   ],
   "source": [
    "print(lr_poly.coef_)"
   ]
  },
  {
   "cell_type": "markdown",
   "id": "1c85c66c",
   "metadata": {},
   "source": [
    "#### 6.8"
   ]
  },
  {
   "cell_type": "code",
   "execution_count": 16,
   "id": "503f99e3",
   "metadata": {},
   "outputs": [
    {
     "name": "stdout",
     "output_type": "stream",
     "text": [
      "R2 train score: 0.842\n",
      "R2 test score: 0.867\n",
      "MAE train score: 2890\n",
      "MAE test score: 2719\n",
      "MAPE train score: 29 %\n",
      "MAPE test score: 30 %\n"
     ]
    }
   ],
   "source": [
    "lasso_lr_poly = linear_model.Lasso(max_iter = 2000)\n",
    "lasso_lr_poly.fit(X_train_scaled_poly, y_train)\n",
    "y_train_predict_poly = lasso_lr_poly.predict(X_train_scaled_poly)\n",
    "y_test_predict_poly = lasso_lr_poly.predict(X_test_scaled_poly)\n",
    "\n",
    "#Рассчитываем коэффициент детерминации\n",
    "print('R2 train score: {:.3f}'.format(metrics.r2_score(y_train, y_train_predict_poly)))\n",
    "print('R2 test score: {:.3f}'.format(metrics.r2_score(y_test, y_test_predict_poly)))\n",
    "\n",
    "#Рассчитываем MAE\n",
    "print('MAE train score: {:.0f}'.format(metrics.mean_absolute_error(y_train, y_train_predict_poly)))\n",
    "print('MAE test score: {:.0f}'.format(metrics.mean_absolute_error(y_test, y_test_predict_poly)))\n",
    "\n",
    "#Рассчитываем MAPE\n",
    "print('MAPE train score: {:.0f} %'.format(metrics.mean_absolute_percentage_error(y_train, y_train_predict_poly) * 100))\n",
    "print('MAPE test score: {:.0f} %'.format(metrics.mean_absolute_percentage_error(y_test, y_test_predict_poly) * 100))"
   ]
  },
  {
   "cell_type": "markdown",
   "id": "410c7145",
   "metadata": {},
   "source": [
    "Вывод: параметры пришли к нормальным значениям, что говорит об устойчивости модели."
   ]
  },
  {
   "cell_type": "markdown",
   "id": "fb04d780",
   "metadata": {},
   "source": [
    "#### 6.9"
   ]
  },
  {
   "cell_type": "code",
   "execution_count": 17,
   "id": "d389bca9",
   "metadata": {},
   "outputs": [
    {
     "name": "stdout",
     "output_type": "stream",
     "text": [
      "R2 train score: 0.839\n",
      "R2 test score: 0.863\n",
      "MAE train score: 2949\n",
      "MAE test score: 2861\n",
      "MAPE train score: 30 %\n",
      "MAPE test score: 31 %\n"
     ]
    }
   ],
   "source": [
    "ridge_lr_poly = linear_model.Ridge()\n",
    "ridge_lr_poly.fit(X_train_scaled_poly, y_train)\n",
    "y_train_predict_poly = ridge_lr_poly.predict(X_train_scaled_poly)\n",
    "y_test_predict_poly = ridge_lr_poly.predict(X_test_scaled_poly)\n",
    "\n",
    "#Рассчитываем коэффициент детерминации\n",
    "print('R2 train score: {:.3f}'.format(metrics.r2_score(y_train, y_train_predict_poly)))\n",
    "print('R2 test score: {:.3f}'.format(metrics.r2_score(y_test, y_test_predict_poly)))\n",
    "\n",
    "#Рассчитываем MAE\n",
    "print('MAE train score: {:.0f}'.format(metrics.mean_absolute_error(y_train, y_train_predict_poly)))\n",
    "print('MAE test score: {:.0f}'.format(metrics.mean_absolute_error(y_test, y_test_predict_poly)))\n",
    "\n",
    "#Рассчитываем MAPE\n",
    "print('MAPE train score: {:.0f} %'.format(metrics.mean_absolute_percentage_error(y_train, y_train_predict_poly) * 100))\n",
    "print('MAPE test score: {:.0f} %'.format(metrics.mean_absolute_percentage_error(y_test, y_test_predict_poly) * 100))"
   ]
  },
  {
   "cell_type": "code",
   "execution_count": null,
   "id": "0a4d90e8",
   "metadata": {},
   "outputs": [],
   "source": []
  }
 ],
 "metadata": {
  "kernelspec": {
   "display_name": "Python 3 (ipykernel)",
   "language": "python",
   "name": "python3"
  },
  "language_info": {
   "codemirror_mode": {
    "name": "ipython",
    "version": 3
   },
   "file_extension": ".py",
   "mimetype": "text/x-python",
   "name": "python",
   "nbconvert_exporter": "python",
   "pygments_lexer": "ipython3",
   "version": "3.9.12"
  }
 },
 "nbformat": 4,
 "nbformat_minor": 5
}
