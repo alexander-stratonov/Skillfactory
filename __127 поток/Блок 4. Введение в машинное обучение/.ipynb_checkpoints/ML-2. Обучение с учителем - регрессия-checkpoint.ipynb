{
 "cells": [
  {
   "cell_type": "markdown",
   "id": "f6b84acc",
   "metadata": {},
   "source": [
    "# 1. Введение"
   ]
  },
  {
   "cell_type": "raw",
   "id": "9b91311b",
   "metadata": {},
   "source": [
    "В категории обучения с учителем модели можно условно разделить на следующие основные типы:\n",
    "Линейные модели: \n",
    "    линейная регрессия (для задачи регрессии) и логистическая регрессия (для задачи классификации) и производные от них.\n",
    "«Древесные» модели: \n",
    "    дерево решений и производные от него. \n",
    "Метрические алгоритмы:\n",
    "    метод ближайших соседей и производные от него.\n",
    "Байесовские методы: \n",
    "    метод наивного Байеса и производные от него.\n",
    "Ансамблевые методы: \n",
    "    композиции из методов (бэггинг, стекинг, бустинг)."
   ]
  },
  {
   "cell_type": "markdown",
   "id": "31fa182a",
   "metadata": {},
   "source": [
    "# 2. Линейная регрессия: аналитическое решение"
   ]
  },
  {
   "cell_type": "code",
   "execution_count": null,
   "id": "28b12e2c",
   "metadata": {},
   "outputs": [],
   "source": []
  }
 ],
 "metadata": {
  "kernelspec": {
   "display_name": "Python 3 (ipykernel)",
   "language": "python",
   "name": "python3"
  },
  "language_info": {
   "codemirror_mode": {
    "name": "ipython",
    "version": 3
   },
   "file_extension": ".py",
   "mimetype": "text/x-python",
   "name": "python",
   "nbconvert_exporter": "python",
   "pygments_lexer": "ipython3",
   "version": "3.9.12"
  }
 },
 "nbformat": 4,
 "nbformat_minor": 5
}
