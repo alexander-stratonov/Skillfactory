{
 "cells": [
  {
   "cell_type": "markdown",
   "id": "bbe30eea",
   "metadata": {},
   "source": [
    "# 2. Логистическая регрессия"
   ]
  },
  {
   "cell_type": "markdown",
   "id": "35ba78c2",
   "metadata": {},
   "source": [
    "__Логистическая регрессия (Logistic Regression)__ — одна из простейших моделей для решения задачи классификации. Несмотря на простоту, модель входит в топ часто используемых алгоритмов классификации в Data Science."
   ]
  },
  {
   "cell_type": "markdown",
   "id": "0bf7af10",
   "metadata": {},
   "source": []
  },
  {
   "cell_type": "markdown",
   "id": "62c0970a",
   "metadata": {},
   "source": []
  },
  {
   "cell_type": "markdown",
   "id": "ba69cbf4",
   "metadata": {},
   "source": []
  },
  {
   "cell_type": "markdown",
   "id": "f8a3c8f3",
   "metadata": {},
   "source": []
  },
  {
   "cell_type": "markdown",
   "id": "8ad11c93",
   "metadata": {},
   "source": []
  },
  {
   "cell_type": "markdown",
   "id": "7d048324",
   "metadata": {},
   "source": []
  },
  {
   "cell_type": "markdown",
   "id": "74a034a2",
   "metadata": {},
   "source": []
  },
  {
   "cell_type": "markdown",
   "id": "e24d47ce",
   "metadata": {},
   "source": []
  },
  {
   "cell_type": "markdown",
   "id": "c8f70f53",
   "metadata": {},
   "source": []
  }
 ],
 "metadata": {
  "kernelspec": {
   "display_name": "Python 3 (ipykernel)",
   "language": "python",
   "name": "python3"
  },
  "language_info": {
   "codemirror_mode": {
    "name": "ipython",
    "version": 3
   },
   "file_extension": ".py",
   "mimetype": "text/x-python",
   "name": "python",
   "nbconvert_exporter": "python",
   "pygments_lexer": "ipython3",
   "version": "3.9.12"
  }
 },
 "nbformat": 4,
 "nbformat_minor": 5
}
