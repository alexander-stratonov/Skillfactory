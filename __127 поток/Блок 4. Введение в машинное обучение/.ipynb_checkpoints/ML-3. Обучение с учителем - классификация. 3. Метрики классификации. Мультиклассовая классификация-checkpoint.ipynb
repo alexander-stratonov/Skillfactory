{
 "cells": [
  {
   "cell_type": "markdown",
   "id": "2f33f1be",
   "metadata": {},
   "source": [
    "# 3. Метрики классификации. Мультиклассовая классификация"
   ]
  },
  {
   "cell_type": "markdown",
   "id": "0a0555ec",
   "metadata": {},
   "source": [
    "__Матрица ошибок (confusion matrix)__ показывает все возможные исходы совпадения и несовпадения предсказания модели с действительностью. Используется для расчёта других метрик.  \n",
    "__confusion_matrix()__"
   ]
  },
  {
   "cell_type": "markdown",
   "id": "05086f08",
   "metadata": {},
   "source": [
    "__Accuracy (достоверность)__ — доля правильных ответов модели среди всех ответов. Правильные ответы — это истинно положительные (True Positive) и истинно отрицательные ответы (True Negative).  \n",
    "__accuracy_score()__"
   ]
  },
  {
   "cell_type": "markdown",
   "id": "24b271ea",
   "metadata": {},
   "source": [
    "__Precision (точность)__, или __PPV (Positive Predictive Value)__ — это доля объектов, которые действительно являются положительными, по отношению ко всем объектам, названным моделью положительными.  \n",
    "__precision_score()__"
   ]
  },
  {
   "cell_type": "markdown",
   "id": "c88010d2",
   "metadata": {},
   "source": [
    "__Recall (полнота)__, или __TPR (True Positive Rate)__ — это доля объектов, названных классификатором положительными, по отношению ко всем объектам положительного класса.  \n",
    "__recall_score()__"
   ]
  },
  {
   "cell_type": "markdown",
   "id": "5ec6a6e7",
   "metadata": {},
   "source": [
    "__(F1-мера)__ — это взвешенное среднее гармоническое между precision и recall.  \n",
    "__f1_score()__"
   ]
  },
  {
   "cell_type": "code",
   "execution_count": 1,
   "id": "70728031",
   "metadata": {},
   "outputs": [],
   "source": [
    "import numpy as np #для матричных вычислений\n",
    "import pandas as pd #для анализа и предобработки данных\n",
    "import matplotlib.pyplot as plt #для визуализации\n",
    "import seaborn as sns #для визуализации\n",
    "\n",
    "from sklearn import linear_model #линейные модели\n",
    "from sklearn import metrics #метрики\n",
    "\n",
    "from sklearn.model_selection import train_test_split #сплитование выборки\n",
    "from sklearn import preprocessing #предобработка\n",
    "%matplotlib inline\n",
    "\n",
    "diabetes_data = pd.read_csv('data/diabetes_cleaned.csv')"
   ]
  },
  {
   "cell_type": "code",
   "execution_count": 2,
   "id": "6ab9d986",
   "metadata": {},
   "outputs": [],
   "source": [
    "#Создаем матрицу наблюдений X и столбец с ответами y\n",
    "X = diabetes_data[['Glucose', 'BMI']]\n",
    "y = diabetes_data['Outcome']\n",
    "#Создаем объект класса логистическая регрессия\n",
    "log_reg_2d = linear_model.LogisticRegression(random_state=42)\n",
    "#Обучаем модель, минизируя logloss\n",
    "log_reg_2d.fit(X, y);"
   ]
  },
  {
   "cell_type": "code",
   "execution_count": 3,
   "id": "83e4bac6",
   "metadata": {},
   "outputs": [],
   "source": [
    "#Создаем матрицу признаков X и столбец с ответами y\n",
    "X = diabetes_data.drop('Outcome', axis=1)\n",
    "y = diabetes_data['Outcome']\n",
    "#Создаем объект класса логистическая регрессия\n",
    "log_reg_full = linear_model.LogisticRegression(random_state=42, max_iter=1000)\n",
    "#Обучаем модель, минизируя logloss\n",
    "log_reg_full.fit(X, y);"
   ]
  },
  {
   "cell_type": "code",
   "execution_count": 4,
   "id": "f38579a7",
   "metadata": {},
   "outputs": [],
   "source": [
    "#Делаем предсказание моделью, обученной на двух факторах \n",
    "y_pred1 = log_reg_2d.predict(diabetes_data[['Glucose', 'BMI']])\n",
    "#Делаем предсказание моделью, обученной на всех факторах \n",
    "y_pred2 = log_reg_full.predict(diabetes_data.drop('Outcome', axis=1))"
   ]
  },
  {
   "cell_type": "code",
   "execution_count": 5,
   "id": "01199fbd",
   "metadata": {},
   "outputs": [
    {
     "data": {
      "image/png": "[encoded data removed]",
      "text/plain": [
       "<Figure size 1200x400 with 4 Axes>"
      ]
     },
     "metadata": {},
     "output_type": "display_data"
    }
   ],
   "source": [
    "#Строим матрицы ошибок для каждой из моделей\n",
    "confusion_matrix1 = metrics.confusion_matrix(y, y_pred1)\n",
    "confusion_matrix2 = metrics.confusion_matrix(y, y_pred2)\n",
    "#Визуализируем матрицы ошибок\n",
    "fig, axes = plt.subplots(1, 2, figsize=(12, 4)) #фигура + 2 координатные плоскости\n",
    "#Строим тепловую карту для первой матрицы ошибок\n",
    "sns.heatmap(confusion_matrix1, annot=True, fmt='', ax=axes[0], cmap='Blues')\n",
    "#Добавляем название графику и подписи осей абсцисс и ординат\n",
    "axes[0].set_title('Confusion matrix for log_reg_2d')\n",
    "axes[0].set_xlabel('y prediction')\n",
    "axes[0].set_ylabel('y true')\n",
    "#Строим тепловую карту для второй матрицы ошибок\n",
    "sns.heatmap(confusion_matrix2, annot=True, fmt='', ax=axes[1], cmap='Blues')\n",
    "#Добавляем название графику и подписи осей абсцисс и ординат\n",
    "axes[1].set_title('Confusion matrix for log_reg_full')\n",
    "axes[1].set_xlabel('y prediction')\n",
    "axes[1].set_ylabel('y true');"
   ]
  },
  {
   "cell_type": "code",
   "execution_count": 6,
   "id": "0caf1e34",
   "metadata": {},
   "outputs": [
    {
     "name": "stdout",
     "output_type": "stream",
     "text": [
      "Accuracy: 0.76\n",
      "Precision: 0.71\n",
      "Recall: 0.53\n",
      "F1 score: 0.61\n"
     ]
    }
   ],
   "source": [
    "#Модель log_reg_2d:\n",
    "#Рассчитываем accuracy\n",
    "print('Accuracy: {:.2f}'.format(metrics.accuracy_score(y, y_pred1)))\n",
    "#Рассчитываем precision\n",
    "print('Precision: {:.2f}'.format(metrics.precision_score(y, y_pred1)))\n",
    "#Рассчитываем recall\n",
    "print('Recall: {:.2f}'.format(metrics.recall_score(y, y_pred1)))\n",
    "#Рассчитываем F1-меру\n",
    "print('F1 score: {:.2f}'.format(metrics.f1_score(y, y_pred1)))"
   ]
  },
  {
   "cell_type": "code",
   "execution_count": 7,
   "id": "ab5a8d26",
   "metadata": {},
   "outputs": [
    {
     "name": "stdout",
     "output_type": "stream",
     "text": [
      "Accuracy: 0.77\n",
      "Precision: 0.72\n",
      "Recall: 0.56\n",
      "F1 score: 0.63\n"
     ]
    }
   ],
   "source": [
    "#Модель log_reg_full:\n",
    "#Рассчитываем accuracy\n",
    "print('Accuracy: {:.2f}'.format(metrics.accuracy_score(y, y_pred2)))\n",
    "#Рассчитываем precision\n",
    "print('Precision: {:.2f}'.format(metrics.precision_score(y, y_pred2)))\n",
    "#Рассчитываем recall\n",
    "print('Recall: {:.2f}'.format(metrics.recall_score(y, y_pred2)))\n",
    "#Рассчитываем F1-меру\n",
    "print('F1 score: {:.2f}'.format(metrics.f1_score(y, y_pred2)))"
   ]
  },
  {
   "cell_type": "code",
   "execution_count": 8,
   "id": "dc6b8845",
   "metadata": {},
   "outputs": [
    {
     "name": "stdout",
     "output_type": "stream",
     "text": [
      "              precision    recall  f1-score   support\n",
      "\n",
      "           0       0.79      0.88      0.83       493\n",
      "           1       0.72      0.56      0.63       264\n",
      "\n",
      "    accuracy                           0.77       757\n",
      "   macro avg       0.75      0.72      0.73       757\n",
      "weighted avg       0.76      0.77      0.76       757\n",
      "\n"
     ]
    }
   ],
   "source": [
    "print(metrics.classification_report(y, y_pred2))"
   ]
  },
  {
   "cell_type": "code",
   "execution_count": 9,
   "id": "95fe996e",
   "metadata": {},
   "outputs": [],
   "source": [
    "#Считаем вероятности наличия диабета для каждого из пациентов\n",
    "#Нас интересует только вероятность класса (второй столбец)\n",
    "y_proba_pred = log_reg_full.predict_proba(diabetes_data.drop('Outcome', axis=1))[:, 1]\n",
    "#Для удобства завернём numpy-массив в Pandas Series\n",
    "y_proba_pred = pd.Series(y_proba_pred)\n",
    "#Создадим списки, в которых будем хранить значения метрик \n",
    "recall_scores = []\n",
    "precision_scores = []\n",
    "f1_scores = []\n",
    "#Сгенерируем набор вероятностных порогов в диапазоне от 0.1 до 1\n",
    "thresholds = np.arange(0.1, 1, 0.05)\n",
    "#В цикле будем перебирать сгенерированные пороги\n",
    "for threshold in thresholds:\n",
    "    #Пациентов, для которых вероятность наличия диабета > threshold, относим к классу 1\n",
    "    #В противном случае — к классу 0\n",
    "    y_pred = y_proba_pred.apply(lambda x: 1 if x>threshold else 0)\n",
    "    #Считаем метрики и добавляем их в списки\n",
    "    recall_scores.append(metrics.recall_score(y, y_pred))\n",
    "    precision_scores.append(metrics.precision_score(y, y_pred))\n",
    "    f1_scores.append(metrics.f1_score(y, y_pred))"
   ]
  },
  {
   "cell_type": "code",
   "execution_count": 10,
   "id": "89aed810",
   "metadata": {},
   "outputs": [
    {
     "data": {
      "image/png": "[encoded data removed]",
      "text/plain": [
       "<Figure size 1000x400 with 1 Axes>"
      ]
     },
     "metadata": {},
     "output_type": "display_data"
    }
   ],
   "source": [
    "#Визуализируем метрики при различных threshold\n",
    "fig, ax = plt.subplots(figsize=(10, 4)) #фигура + координатная плоскость\n",
    "#Строим линейный график зависимости recall от threshold\n",
    "ax.plot(thresholds, recall_scores, label='Recall')\n",
    "#Строим линейный график зависимости precision от threshold\n",
    "ax.plot(thresholds, precision_scores, label='Precision')\n",
    "#Строим линейный график зависимости F1 от threshold\n",
    "ax.plot(thresholds, f1_scores, label='F1-score')\n",
    " \n",
    "#Даём графику название и подписываем оси\n",
    "ax.set_title('Recall/Precision/F1 dependence on the threshold')\n",
    "ax.set_xlabel('Probability threshold')\n",
    "ax.set_ylabel('Score')\n",
    "#Устанавливаем отметки по оси x\n",
    "ax.set_xticks(thresholds) \n",
    "ax.grid()\n",
    "#Отображаем легенду\n",
    "ax.legend();"
   ]
  },
  {
   "cell_type": "code",
   "execution_count": 11,
   "id": "7a037664",
   "metadata": {},
   "outputs": [
    {
     "name": "stdout",
     "output_type": "stream",
     "text": [
      "              precision    recall  f1-score   support\n",
      "\n",
      "           0       0.83      0.83      0.83       493\n",
      "           1       0.67      0.67      0.67       264\n",
      "\n",
      "    accuracy                           0.77       757\n",
      "   macro avg       0.75      0.75      0.75       757\n",
      "weighted avg       0.77      0.77      0.77       757\n",
      "\n"
     ]
    }
   ],
   "source": [
    "#Задаём оптимальный порог вероятностей\n",
    "threshold_opt = 0.4\n",
    "#Пациентов, для которых вероятность наличия диабета > 0.4, относим к классу 1\n",
    "#В противном случае — к классу 0\n",
    "y_pred_opt = y_proba_pred.apply(lambda x: 1 if x > threshold_opt else 0)\n",
    "#Считаем метрики\n",
    "print(metrics.classification_report(y, y_pred_opt))"
   ]
  },
  {
   "cell_type": "markdown",
   "id": "7b208563",
   "metadata": {},
   "source": [
    "#### 3.6 - 3.8"
   ]
  },
  {
   "cell_type": "code",
   "execution_count": 13,
   "id": "d7905ce0",
   "metadata": {},
   "outputs": [
    {
     "name": "stdout",
     "output_type": "stream",
     "text": [
      "              precision    recall  f1-score   support\n",
      "\n",
      "           0       0.50      0.67      0.57         3\n",
      "           1       0.75      0.60      0.67         5\n",
      "\n",
      "    accuracy                           0.62         8\n",
      "   macro avg       0.62      0.63      0.62         8\n",
      "weighted avg       0.66      0.62      0.63         8\n",
      "\n"
     ]
    }
   ],
   "source": [
    "y_true = [0, 0, 1, 1, 1, 1, 0, 1]\n",
    "y_pred = [0, 1, 0, 0, 1, 1, 0, 1]\n",
    "print(metrics.classification_report(y_true, y_pred))"
   ]
  },
  {
   "cell_type": "markdown",
   "id": "47326af6",
   "metadata": {},
   "source": [
    "## МУЛЬТИКЛАССОВАЯ КЛАССИФИКАЦИЯ"
   ]
  },
  {
   "cell_type": "code",
   "execution_count": 14,
   "id": "13c94e86",
   "metadata": {},
   "outputs": [
    {
     "data": {
      "text/html": [
       "<div>\n",
       "<style scoped>\n",
       "    .dataframe tbody tr th:only-of-type {\n",
       "        vertical-align: middle;\n",
       "    }\n",
       "\n",
       "    .dataframe tbody tr th {\n",
       "        vertical-align: top;\n",
       "    }\n",
       "\n",
       "    .dataframe thead th {\n",
       "        text-align: right;\n",
       "    }\n",
       "</style>\n",
       "<table border=\"1\" class=\"dataframe\">\n",
       "  <thead>\n",
       "    <tr style=\"text-align: right;\">\n",
       "      <th></th>\n",
       "      <th>species</th>\n",
       "      <th>island</th>\n",
       "      <th>bill_length_mm</th>\n",
       "      <th>bill_depth_mm</th>\n",
       "      <th>flipper_length_mm</th>\n",
       "      <th>body_mass_g</th>\n",
       "      <th>sex</th>\n",
       "    </tr>\n",
       "  </thead>\n",
       "  <tbody>\n",
       "    <tr>\n",
       "      <th>0</th>\n",
       "      <td>Adelie</td>\n",
       "      <td>Torgersen</td>\n",
       "      <td>39.1</td>\n",
       "      <td>18.7</td>\n",
       "      <td>181.0</td>\n",
       "      <td>3750.0</td>\n",
       "      <td>Male</td>\n",
       "    </tr>\n",
       "    <tr>\n",
       "      <th>1</th>\n",
       "      <td>Adelie</td>\n",
       "      <td>Torgersen</td>\n",
       "      <td>39.5</td>\n",
       "      <td>17.4</td>\n",
       "      <td>186.0</td>\n",
       "      <td>3800.0</td>\n",
       "      <td>Female</td>\n",
       "    </tr>\n",
       "    <tr>\n",
       "      <th>2</th>\n",
       "      <td>Adelie</td>\n",
       "      <td>Torgersen</td>\n",
       "      <td>40.3</td>\n",
       "      <td>18.0</td>\n",
       "      <td>195.0</td>\n",
       "      <td>3250.0</td>\n",
       "      <td>Female</td>\n",
       "    </tr>\n",
       "    <tr>\n",
       "      <th>3</th>\n",
       "      <td>Adelie</td>\n",
       "      <td>Torgersen</td>\n",
       "      <td>NaN</td>\n",
       "      <td>NaN</td>\n",
       "      <td>NaN</td>\n",
       "      <td>NaN</td>\n",
       "      <td>NaN</td>\n",
       "    </tr>\n",
       "    <tr>\n",
       "      <th>4</th>\n",
       "      <td>Adelie</td>\n",
       "      <td>Torgersen</td>\n",
       "      <td>36.7</td>\n",
       "      <td>19.3</td>\n",
       "      <td>193.0</td>\n",
       "      <td>3450.0</td>\n",
       "      <td>Female</td>\n",
       "    </tr>\n",
       "  </tbody>\n",
       "</table>\n",
       "</div>"
      ],
      "text/plain": [
       "  species     island  bill_length_mm  bill_depth_mm  flipper_length_mm  \\\n",
       "0  Adelie  Torgersen            39.1           18.7              181.0   \n",
       "1  Adelie  Torgersen            39.5           17.4              186.0   \n",
       "2  Adelie  Torgersen            40.3           18.0              195.0   \n",
       "3  Adelie  Torgersen             NaN            NaN                NaN   \n",
       "4  Adelie  Torgersen            36.7           19.3              193.0   \n",
       "\n",
       "   body_mass_g     sex  \n",
       "0       3750.0    Male  \n",
       "1       3800.0  Female  \n",
       "2       3250.0  Female  \n",
       "3          NaN     NaN  \n",
       "4       3450.0  Female  "
      ]
     },
     "execution_count": 14,
     "metadata": {},
     "output_type": "execute_result"
    }
   ],
   "source": [
    "penguins_data = sns.load_dataset('penguins')\n",
    "penguins_data.head()"
   ]
  },
  {
   "cell_type": "code",
   "execution_count": 15,
   "id": "2ba9e1f6",
   "metadata": {},
   "outputs": [
    {
     "data": {
      "text/plain": [
       "species               0\n",
       "island                0\n",
       "bill_length_mm        2\n",
       "bill_depth_mm         2\n",
       "flipper_length_mm     2\n",
       "body_mass_g           2\n",
       "sex                  11\n",
       "dtype: int64"
      ]
     },
     "execution_count": 15,
     "metadata": {},
     "output_type": "execute_result"
    }
   ],
   "source": [
    "penguins_data.isnull().sum()"
   ]
  },
  {
   "cell_type": "code",
   "execution_count": 16,
   "id": "f4cb9854",
   "metadata": {},
   "outputs": [],
   "source": [
    "penguins_data = penguins_data.dropna()"
   ]
  },
  {
   "cell_type": "code",
   "execution_count": 18,
   "id": "145c96c8",
   "metadata": {},
   "outputs": [],
   "source": [
    "X = penguins_data.drop('species', axis=1)\n",
    "y = penguins_data['species']"
   ]
  },
  {
   "cell_type": "code",
   "execution_count": 19,
   "id": "26050141",
   "metadata": {},
   "outputs": [],
   "source": [
    "X_dummies = pd.get_dummies(X)"
   ]
  },
  {
   "cell_type": "code",
   "execution_count": 20,
   "id": "9e794a4a",
   "metadata": {},
   "outputs": [],
   "source": [
    "#Создаём объект класса LogisticRegression\n",
    "log_reg = linear_model.LogisticRegression(\n",
    "    multi_class='multinomial', #мультиклассовая классификация\n",
    "    max_iter=1000, #количество итераций, выделенных на сходимость\n",
    "    random_state=42 #генерация случайных чисел\n",
    ")\n",
    " \n",
    "#Обучаем модель \n",
    "log_reg.fit(X_dummies, y)\n",
    "#Делаем предсказание вероятностей\n",
    "y_pred_proba = np.round(log_reg.predict_proba(X_dummies), 2)\n",
    "#Делаем предсказание класса\n",
    "y_pred = log_reg.predict(X_dummies)"
   ]
  },
  {
   "cell_type": "code",
   "execution_count": 23,
   "id": "6de531ef",
   "metadata": {},
   "outputs": [
    {
     "data": {
      "text/html": [
       "<div>\n",
       "<style scoped>\n",
       "    .dataframe tbody tr th:only-of-type {\n",
       "        vertical-align: middle;\n",
       "    }\n",
       "\n",
       "    .dataframe tbody tr th {\n",
       "        vertical-align: top;\n",
       "    }\n",
       "\n",
       "    .dataframe thead th {\n",
       "        text-align: right;\n",
       "    }\n",
       "</style>\n",
       "<table border=\"1\" class=\"dataframe\">\n",
       "  <thead>\n",
       "    <tr style=\"text-align: right;\">\n",
       "      <th></th>\n",
       "      <th>Adelie</th>\n",
       "      <th>Chinstrap</th>\n",
       "      <th>Gentoo</th>\n",
       "      <th>Predicted Class</th>\n",
       "    </tr>\n",
       "  </thead>\n",
       "  <tbody>\n",
       "    <tr>\n",
       "      <th>277</th>\n",
       "      <td>0.00</td>\n",
       "      <td>0.00</td>\n",
       "      <td>1.0</td>\n",
       "      <td>Gentoo</td>\n",
       "    </tr>\n",
       "    <tr>\n",
       "      <th>223</th>\n",
       "      <td>0.00</td>\n",
       "      <td>0.00</td>\n",
       "      <td>1.0</td>\n",
       "      <td>Gentoo</td>\n",
       "    </tr>\n",
       "    <tr>\n",
       "      <th>7</th>\n",
       "      <td>0.79</td>\n",
       "      <td>0.21</td>\n",
       "      <td>0.0</td>\n",
       "      <td>Adelie</td>\n",
       "    </tr>\n",
       "    <tr>\n",
       "      <th>160</th>\n",
       "      <td>0.00</td>\n",
       "      <td>1.00</td>\n",
       "      <td>0.0</td>\n",
       "      <td>Chinstrap</td>\n",
       "    </tr>\n",
       "    <tr>\n",
       "      <th>65</th>\n",
       "      <td>1.00</td>\n",
       "      <td>0.00</td>\n",
       "      <td>0.0</td>\n",
       "      <td>Adelie</td>\n",
       "    </tr>\n",
       "  </tbody>\n",
       "</table>\n",
       "</div>"
      ],
      "text/plain": [
       "     Adelie  Chinstrap  Gentoo Predicted Class\n",
       "277    0.00       0.00     1.0          Gentoo\n",
       "223    0.00       0.00     1.0          Gentoo\n",
       "7      0.79       0.21     0.0          Adelie\n",
       "160    0.00       1.00     0.0       Chinstrap\n",
       "65     1.00       0.00     0.0          Adelie"
      ]
     },
     "execution_count": 23,
     "metadata": {},
     "output_type": "execute_result"
    }
   ],
   "source": [
    "#Создаём DataFrame из вероятностей\n",
    "y_pred_proba_df = pd.DataFrame(\n",
    "    y_pred_proba, \n",
    "    columns=['Adelie', 'Chinstrap', 'Gentoo']\n",
    ")\n",
    "#Создаём DataFrame из предсказанных классов\n",
    "y_pred_df = pd.DataFrame(\n",
    "    y_pred, \n",
    "    columns=['Predicted Class']\n",
    ")\n",
    "#Объединяем таблицы по вертикальной оси\n",
    "y_df = pd.concat([y_pred_proba_df, y_pred_df], axis=1)\n",
    "#Выбираем пять случайных строк\n",
    "y_df.sample(5, random_state=2)"
   ]
  },
  {
   "cell_type": "code",
   "execution_count": 24,
   "id": "7a251b06",
   "metadata": {},
   "outputs": [
    {
     "name": "stdout",
     "output_type": "stream",
     "text": [
      "              precision    recall  f1-score   support\n",
      "\n",
      "      Adelie       1.00      1.00      1.00       146\n",
      "   Chinstrap       1.00      1.00      1.00        68\n",
      "      Gentoo       1.00      1.00      1.00       119\n",
      "\n",
      "    accuracy                           1.00       333\n",
      "   macro avg       1.00      1.00      1.00       333\n",
      "weighted avg       1.00      1.00      1.00       333\n",
      "\n"
     ]
    }
   ],
   "source": [
    "print(metrics.classification_report(y, y_pred))"
   ]
  },
  {
   "cell_type": "code",
   "execution_count": null,
   "id": "09cfe77b",
   "metadata": {},
   "outputs": [],
   "source": []
  }
 ],
 "metadata": {
  "kernelspec": {
   "display_name": "Python 3 (ipykernel)",
   "language": "python",
   "name": "python3"
  },
  "language_info": {
   "codemirror_mode": {
    "name": "ipython",
    "version": 3
   },
   "file_extension": ".py",
   "mimetype": "text/x-python",
   "name": "python",
   "nbconvert_exporter": "python",
   "pygments_lexer": "ipython3",
   "version": "3.9.12"
  }
 },
 "nbformat": 4,
 "nbformat_minor": 5
}
