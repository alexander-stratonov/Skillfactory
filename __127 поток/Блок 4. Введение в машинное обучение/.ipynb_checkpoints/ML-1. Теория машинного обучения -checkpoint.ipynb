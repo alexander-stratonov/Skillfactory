{
 "cells": [
  {
   "cell_type": "markdown",
   "id": "eac4d9b3",
   "metadata": {},
   "source": [
    "# 2. Общие понятия ML"
   ]
  },
  {
   "cell_type": "markdown",
   "id": "e4e66299",
   "metadata": {},
   "source": [
    "![title](data/dst3-ml1-2_0.png)"
   ]
  },
  {
   "cell_type": "markdown",
   "id": "70fb3ad4",
   "metadata": {},
   "source": [
    "![title](data/dst3-ml1-2_1.png)"
   ]
  },
  {
   "cell_type": "markdown",
   "id": "70b4c798",
   "metadata": {},
   "source": [
    "![title](data/dst3-ml1-2_3.png)"
   ]
  },
  {
   "cell_type": "raw",
   "id": "37c83232",
   "metadata": {},
   "source": [
    "Вот лишь несколько примеров моделей (алгоритмов) машинного обучения, которые мы будем изучать на курсе:\n",
    "\n",
    "линейная регрессия (Linear Regression),\n",
    "логистическая регрессия (Logistic Regression),\n",
    "наивный метод Байеса (Naive Bayes),\n",
    "метод k ближайших соседей (kNN),\n",
    "деревья решений (Decision Tree),\n",
    "случайный лес (Random Forest),\n",
    "градиентный бустинг (Gradient Boosting),\n",
    "нейронные сети (Neural Network)."
   ]
  },
  {
   "cell_type": "markdown",
   "id": "3eda00e8",
   "metadata": {},
   "source": [
    "![title](data/dst3-ml1-3_1.png)"
   ]
  },
  {
   "cell_type": "markdown",
   "id": "23366534",
   "metadata": {},
   "source": [
    "# 3. Виды машинного обучения: обучение с учителем"
   ]
  },
  {
   "cell_type": "code",
   "execution_count": null,
   "id": "e6ef4229",
   "metadata": {},
   "outputs": [],
   "source": [
    "ОБУЧЕНИЕ С УЧИТЕЛЕМ:\n",
    "    -РЕГРЕССИЯ:\n",
    "        -линейная (Linear)\n",
    "        -полиномиальная (Polynomial)\n",
    "        -ПРОГНОЗИРОВАНИЕ (forecasting):\n",
    "            -ARIMA\n",
    "            -SARIMA (модификация ARIMA)\n",
    "            -ARCH (модель для финансовых временных рядов)\n",
    "    -КЛАССИФИКАЦИЯ:\n",
    "        -логистическая регрессия (Logistic Regression)\n",
    "        -метод опорных векторов (SVM)\n",
    "        -деревья решений (Decision Tree)\n",
    "        -наивный байесовский классификатор (Naive Bayes)\n",
    "        -метод ближайших соседей (kNN)"
   ]
  },
  {
   "cell_type": "markdown",
   "id": "168d0975",
   "metadata": {},
   "source": [
    "![title](data/dst3-ml1-3_2.png)"
   ]
  },
  {
   "cell_type": "markdown",
   "id": "b458820f",
   "metadata": {},
   "source": [
    "![title](data/dst3-ml1-3_6.png)"
   ]
  },
  {
   "cell_type": "markdown",
   "id": "88d5dcba",
   "metadata": {},
   "source": [
    "![title](data/dst3-ml1-3_7.png)"
   ]
  },
  {
   "cell_type": "markdown",
   "id": "5b7277d2",
   "metadata": {},
   "source": [
    "![title](data/dst3-ml1-3_10.png)"
   ]
  },
  {
   "cell_type": "markdown",
   "id": "e0125789",
   "metadata": {},
   "source": [
    "# 4. Виды машинного обучения: обучение без учителя"
   ]
  },
  {
   "cell_type": "code",
   "execution_count": null,
   "id": "3cf44d33",
   "metadata": {},
   "outputs": [],
   "source": [
    "ОБУЧЕНИЕ БЕЗ УЧИТЕЛЯ:\n",
    "    -КЛАСТЕРИЗАЦИЯ:\n",
    "        -метод k-средних (k-means)\n",
    "        -EM-алгоритм\n",
    "        -агломеративная кластеризация\n",
    "        -DBSCAN\n",
    "    -ПОНИЖЕНИЕ РАЗМЕРНОСТИ (ОБОБЩЕНИЕ):\n",
    "        -метод главных компонент (PCA)\n",
    "        -сингулярное разложение (SVD)\n",
    "        -латентное размещение Дирихле (LDA)\n",
    "        -латентный семантический анализ (LSA)\n",
    "        -t-SNE\n",
    "    -АССОЦИАЦИЯ:\n",
    "        -Apriori\n",
    "        -Eclat\n",
    "        -FP Growth        "
   ]
  },
  {
   "cell_type": "markdown",
   "id": "57437f84",
   "metadata": {},
   "source": [
    "![title](data/dst3-ml1-4_1.png)"
   ]
  },
  {
   "cell_type": "markdown",
   "id": "0cc2fcbb",
   "metadata": {},
   "source": [
    "![title](data/dst3-ml1-4_4.png)"
   ]
  },
  {
   "cell_type": "markdown",
   "id": "b37a6996",
   "metadata": {},
   "source": [
    "![title](data/dst3-ml1-4_8.png)"
   ]
  },
  {
   "cell_type": "markdown",
   "id": "9b26bed0",
   "metadata": {},
   "source": [
    "![title](data/dst3-ml1-4_10.png)"
   ]
  },
  {
   "cell_type": "markdown",
   "id": "cf838262",
   "metadata": {},
   "source": [
    "# 5. Виды машинного обучения: обучение с подкреплением"
   ]
  },
  {
   "cell_type": "markdown",
   "id": "e77f81ad",
   "metadata": {},
   "source": [
    "![title](data/dst3-ml1-5_1.png)"
   ]
  },
  {
   "cell_type": "markdown",
   "id": "ed09be34",
   "metadata": {},
   "source": [
    "![title](data/dst3-ml1-5_3.png)"
   ]
  },
  {
   "cell_type": "markdown",
   "id": "bf431e7e",
   "metadata": {},
   "source": [
    "# 6. Процесс разработки"
   ]
  },
  {
   "cell_type": "markdown",
   "id": "c6bacdd9",
   "metadata": {},
   "source": [
    "МЕТОДОЛОГИЯ WATERFALL **НЕ ПОДХОДИТ**"
   ]
  },
  {
   "cell_type": "markdown",
   "id": "facfb906",
   "metadata": {},
   "source": [
    "### МЕТОДОЛОГИЯ AGILE"
   ]
  },
  {
   "cell_type": "markdown",
   "id": "5e0c3a53",
   "metadata": {},
   "source": [
    "![title](data/dst3-ml1-6_1.png)"
   ]
  },
  {
   "cell_type": "markdown",
   "id": "43e3396a",
   "metadata": {},
   "source": [
    "### МЕТОДОЛОГИЯ CRISP-DM"
   ]
  },
  {
   "cell_type": "markdown",
   "id": "f7f6f351",
   "metadata": {},
   "source": [
    "![title](data/dst3-ml1-6_2.png)"
   ]
  },
  {
   "cell_type": "code",
   "execution_count": null,
   "id": "f85b6d99",
   "metadata": {},
   "outputs": [],
   "source": [
    "МЕТОДОЛОГИЯ CRISP-DM:\n",
    "    -1. Анализ требований:\n",
    "        -1.1 Постановка цели проекта\n",
    "        -1.2 Оценка текущей ситуации\n",
    "        -1.3 Поставка задачи с точки зрения аналитики\n",
    "        -1.4 План проекта\n",
    "    -2. Исследование данных:\n",
    "        -2.1 Сбор данных\n",
    "        -2.2 Описание данных\n",
    "    -3. Подготовка данных:\n",
    "        -3.1 Оценка качества данных\n",
    "        -3.2 Очистка данных\n",
    "        -3.3 Проектирование признаков\n",
    "        -3.4 Отбор признаков\n",
    "    -4. Моделирование:\n",
    "        -4.1 Выбор алгоритмов\n",
    "        -4.2 Планирование тестирования\n",
    "        -4.3 Обучение моделей\n",
    "        -4.4 Анализ результатов\n",
    "    -5. Оценка модели:\n",
    "        -5.1 Оценка результатов моделирования\n",
    "        -5.2 Разбор полётов\n",
    "        -5.3 Принятие решения о внедрении\n",
    "    -6. Внедрение:\n",
    "        -6.1 Планирование развёртывания\n",
    "        -6.2 Настройка мониторинга модели\n",
    "        -6.3 Отчёт по результатам"
   ]
  },
  {
   "cell_type": "code",
   "execution_count": null,
   "id": "7d8c09c5",
   "metadata": {},
   "outputs": [],
   "source": [
    "ПРОБЛЕМЫ ПРИ РАЗРАБОТКЕ:\n",
    "    -ПРОБЛЕМА № 1:\n",
    "        -Непонятно, сколько времени закладывать на разработку модели.\n",
    "    -ПРОБЛЕМА № 2:\n",
    "        -Невозможно с первого раза сделать идеальную рабочую модель.\n",
    "    -ПРОБЛЕМА № 3:\n",
    "        -Модель начинает приносить бизнес-пользу только после этапа внедрения.\n",
    "    -ПРОБЛЕМА № 4:\n",
    "        -Не уделили внимание подготовке данных."
   ]
  },
  {
   "cell_type": "code",
   "execution_count": null,
   "id": "3e966d44",
   "metadata": {},
   "outputs": [],
   "source": [
    "СОВЕТЫ И ЛАЙФХАКИ:\n",
    "    -Распределяйте роли\n",
    "    -Выберите правильную метрику \n",
    "    -Правильно пользуйтесь инструментами\n",
    "    -Будьте терпеливы\n",
    "    -Чётко формулируйте требования    "
   ]
  },
  {
   "cell_type": "code",
   "execution_count": null,
   "id": "917c8d13",
   "metadata": {},
   "outputs": [],
   "source": []
  }
 ],
 "metadata": {
  "kernelspec": {
   "display_name": "Python 3 (ipykernel)",
   "language": "python",
   "name": "python3"
  },
  "language_info": {
   "codemirror_mode": {
    "name": "ipython",
    "version": 3
   },
   "file_extension": ".py",
   "mimetype": "text/x-python",
   "name": "python",
   "nbconvert_exporter": "python",
   "pygments_lexer": "ipython3",
   "version": "3.9.12"
  }
 },
 "nbformat": 4,
 "nbformat_minor": 5
}
