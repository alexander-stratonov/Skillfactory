{
 "cells": [
  {
   "cell_type": "markdown",
   "id": "eac4d9b3",
   "metadata": {},
   "source": [
    "# 2. Общие понятия ML"
   ]
  },
  {
   "cell_type": "markdown",
   "id": "e4e66299",
   "metadata": {},
   "source": [
    "![title](data/dst3-ml1-2_1.png)"
   ]
  },
  {
   "cell_type": "code",
   "execution_count": null,
   "id": "fba947f4",
   "metadata": {},
   "outputs": [],
   "source": []
  }
 ],
 "metadata": {
  "kernelspec": {
   "display_name": "Python 3 (ipykernel)",
   "language": "python",
   "name": "python3"
  },
  "language_info": {
   "codemirror_mode": {
    "name": "ipython",
    "version": 3
   },
   "file_extension": ".py",
   "mimetype": "text/x-python",
   "name": "python",
   "nbconvert_exporter": "python",
   "pygments_lexer": "ipython3",
   "version": "3.9.12"
  }
 },
 "nbformat": 4,
 "nbformat_minor": 5
}
