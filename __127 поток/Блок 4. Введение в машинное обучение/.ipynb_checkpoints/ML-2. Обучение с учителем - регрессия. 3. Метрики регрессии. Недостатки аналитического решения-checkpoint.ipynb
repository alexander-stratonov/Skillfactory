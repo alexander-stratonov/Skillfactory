{
 "cells": [
  {
   "cell_type": "code",
   "execution_count": 1,
   "id": "a1c030a7",
   "metadata": {},
   "outputs": [],
   "source": [
    "# в следующем блоке выходит предупреждение FutureWarning, этот код, чтобы убрать\n",
    "import warnings\n",
    "warnings.simplefilter(action='ignore', category=FutureWarning)"
   ]
  },
  {
   "cell_type": "code",
   "execution_count": 14,
   "id": "f9c9f70c",
   "metadata": {},
   "outputs": [],
   "source": [
    "# из предыдущего модуля\n",
    "import numpy as np\n",
    "import pandas as pd\n",
    "from sklearn.datasets import load_boston \n",
    "from sklearn import linear_model\n",
    "boston = load_boston()\n",
    "boston_data = pd.DataFrame(\n",
    "    data=boston.data,\n",
    "    columns=boston.feature_names)\n",
    "boston_data['MEDV'] = boston.target\n",
    "features = boston_data.drop('MEDV', axis=1).columns"
   ]
  },
  {
   "cell_type": "markdown",
   "id": "4f92184b",
   "metadata": {},
   "source": [
    "# 3. Метрики регрессии. Недостатки аналитического решения"
   ]
  },
  {
   "cell_type": "markdown",
   "id": "23e6531e",
   "metadata": {},
   "source": [
    "### МЕТРИКИ РЕГРЕССИИ"
   ]
  },
  {
   "cell_type": "markdown",
   "id": "b23d3ec7",
   "metadata": {},
   "source": [
    "#### 1 Средняя абсолютная ошибка — MAE (Mean Absolute Error)"
   ]
  },
  {
   "cell_type": "markdown",
   "id": "cb8336e2",
   "metadata": {},
   "source": [
    "mean_absolute_error()"
   ]
  },
  {
   "cell_type": "markdown",
   "id": "d34896af",
   "metadata": {},
   "source": [
    "#### 2 Средняя абсолютная ошибка в процентах — MAPE (Mean Absolute Percent Error)"
   ]
  },
  {
   "cell_type": "markdown",
   "id": "bbeb7f1d",
   "metadata": {},
   "source": [
    "mean_absolute_percentage_error()"
   ]
  },
  {
   "cell_type": "markdown",
   "id": "9d3eb727",
   "metadata": {},
   "source": [
    "#### 3 Средняя квадратическая ошибка — MSE"
   ]
  },
  {
   "cell_type": "markdown",
   "id": "4dd15193",
   "metadata": {},
   "source": [
    "mean_square_error()"
   ]
  },
  {
   "cell_type": "markdown",
   "id": "f4b69766",
   "metadata": {},
   "source": [
    "#### 4 Корень из средней квадратической ошибки — RMSE (Root Mean Squared Error)"
   ]
  },
  {
   "cell_type": "markdown",
   "id": "931692f5",
   "metadata": {},
   "source": [
    "Отдельная функция отсутствует, но можно извлечь корень из результата функции mean_square_error()."
   ]
  },
  {
   "cell_type": "markdown",
   "id": "138b4a00",
   "metadata": {},
   "source": [
    "#### 5 Коэффициент детерминации (R**2)"
   ]
  },
  {
   "cell_type": "markdown",
   "id": "bc887b33",
   "metadata": {},
   "source": [
    "r2_score()"
   ]
  },
  {
   "cell_type": "markdown",
   "id": "a142bfab",
   "metadata": {},
   "source": [
    "### РАСЧЁТ МЕТРИК НА PYTHON"
   ]
  },
  {
   "cell_type": "code",
   "execution_count": 3,
   "id": "5d558a4b",
   "metadata": {},
   "outputs": [],
   "source": [
    "from sklearn import metrics"
   ]
  },
  {
   "cell_type": "code",
   "execution_count": 24,
   "id": "5669aff4",
   "metadata": {},
   "outputs": [],
   "source": [
    "X = boston_data[['LSTAT']]\n",
    "y = boston_data['MEDV']\n",
    "lr_lstat = linear_model.LinearRegression()\n",
    "lr_lstat.fit(X, y);"
   ]
  },
  {
   "cell_type": "code",
   "execution_count": 17,
   "id": "e58335eb",
   "metadata": {},
   "outputs": [
    {
     "name": "stdout",
     "output_type": "stream",
     "text": [
      "MAE score: 4.505 thou. $\n",
      "RMSE score: 6.203 thou. $\n",
      "MAPE score: 21.352 %\n",
      "R2 score: 0.544\n"
     ]
    }
   ],
   "source": [
    "#Делаем предсказание по признаку LSTAT\n",
    "y_predict_lstat = lr_lstat.predict(boston_data[['LSTAT']])\n",
    "#Рассчитываем MAE\n",
    "print('MAE score: {:.3f} thou. $'.format(metrics.mean_absolute_error(y, y_predict_lstat)))\n",
    "#Рассчитываем RMSE\n",
    "print('RMSE score: {:.3f} thou. $'.format(np.sqrt(metrics.mean_squared_error(y, y_predict_lstat))))\n",
    "#Рассчитываем MAPE\n",
    "print('MAPE score: {:.3f} %'.format(metrics.mean_absolute_percentage_error(y, y_predict_lstat) * 100))\n",
    "#Рассчитываем коэффициент детерминации\n",
    "print('R2 score: {:.3f}'.format(metrics.r2_score(y, y_predict_lstat)))"
   ]
  },
  {
   "cell_type": "code",
   "execution_count": 18,
   "id": "5378c4de",
   "metadata": {},
   "outputs": [],
   "source": [
    "X = boston_data[features]\n",
    "y = boston_data['MEDV']\n",
    "lr_full = linear_model.LinearRegression()\n",
    "lr_full.fit(X, y);"
   ]
  },
  {
   "cell_type": "code",
   "execution_count": 19,
   "id": "fce0c27c",
   "metadata": {},
   "outputs": [
    {
     "name": "stdout",
     "output_type": "stream",
     "text": [
      "MAE score: 3.271 thou. $\n",
      "RMSE score: 4.679 thou. $\n",
      "MAPE score: 16.417 %\n",
      "R2 score: 0.741\n"
     ]
    }
   ],
   "source": [
    "#Делаем предсказание по всем признакам\n",
    "y_predict_full = lr_full.predict(boston_data[features])\n",
    "#Рассчитываем MAE\n",
    "print('MAE score: {:.3f} thou. $'.format(metrics.mean_absolute_error(y, y_predict_full)))\n",
    "#Рассчитываем RMSE\n",
    "print('RMSE score: {:.3f} thou. $'.format(np.sqrt(metrics.mean_squared_error(y, y_predict_full))))\n",
    "#Рассчитываем MAPE\n",
    "print('MAPE score: {:.3f} %'.format(metrics.mean_absolute_percentage_error(y, y_predict_full) * 100))\n",
    "#Рассчитываем коэффициент детерминации\n",
    "print('R2 score: {:.3f}'.format(metrics.r2_score(y, y_predict_full)))"
   ]
  },
  {
   "cell_type": "markdown",
   "id": "00eec6d0",
   "metadata": {},
   "source": [
    "#### Задания"
   ]
  },
  {
   "cell_type": "markdown",
   "id": "8b2eea4c",
   "metadata": {},
   "source": [
    "#### 3.2"
   ]
  },
  {
   "cell_type": "code",
   "execution_count": 34,
   "id": "86d0f379",
   "metadata": {},
   "outputs": [
    {
     "data": {
      "text/plain": [
       "5.75"
      ]
     },
     "execution_count": 34,
     "metadata": {},
     "output_type": "execute_result"
    }
   ],
   "source": [
    "y_true = [1.23, 2.35, 2.75]\n",
    "y_pred = [1.01, 12.3, 2.74]\n",
    "np.round(np.sqrt(metrics.mean_squared_error(y_true, y_pred)), 2)"
   ]
  },
  {
   "cell_type": "markdown",
   "id": "1cd86fd3",
   "metadata": {},
   "source": [
    "#### 3.3"
   ]
  },
  {
   "cell_type": "code",
   "execution_count": 35,
   "id": "7bb6db9e",
   "metadata": {},
   "outputs": [
    {
     "data": {
      "text/plain": [
       "0.71"
      ]
     },
     "execution_count": 35,
     "metadata": {},
     "output_type": "execute_result"
    }
   ],
   "source": [
    "y_true = [22.4, 20.6, 23.9, 22.0, 11.9]\n",
    "y_pred = [20.5, 20.2, 20.3, 19.0, 11.0]\n",
    "np.round(metrics.r2_score(y_true, y_pred), 2)"
   ]
  },
  {
   "cell_type": "markdown",
   "id": "ce9f3533",
   "metadata": {},
   "source": [
    "### НЕДОСТАТКИ АНАЛИТИЧЕСКОГО РЕШЕНИЯ"
   ]
  },
  {
   "cell_type": "code",
   "execution_count": null,
   "id": "d9f88070",
   "metadata": {},
   "outputs": [],
   "source": []
  }
 ],
 "metadata": {
  "kernelspec": {
   "display_name": "Python 3 (ipykernel)",
   "language": "python",
   "name": "python3"
  },
  "language_info": {
   "codemirror_mode": {
    "name": "ipython",
    "version": 3
   },
   "file_extension": ".py",
   "mimetype": "text/x-python",
   "name": "python",
   "nbconvert_exporter": "python",
   "pygments_lexer": "ipython3",
   "version": "3.9.12"
  }
 },
 "nbformat": 4,
 "nbformat_minor": 5
}
