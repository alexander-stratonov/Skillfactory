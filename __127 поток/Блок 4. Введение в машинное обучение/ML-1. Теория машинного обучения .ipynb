{
 "cells": [
  {
   "cell_type": "markdown",
   "id": "eac4d9b3",
   "metadata": {},
   "source": [
    "# 2. Общие понятия ML"
   ]
  },
  {
   "cell_type": "markdown",
   "id": "e4e66299",
   "metadata": {},
   "source": [
    "![title](data/dst3-ml1-2_0.png)"
   ]
  },
  {
   "cell_type": "markdown",
   "id": "70fb3ad4",
   "metadata": {},
   "source": [
    "![title](data/dst3-ml1-2_1.png)"
   ]
  },
  {
   "cell_type": "markdown",
   "id": "70b4c798",
   "metadata": {},
   "source": [
    "![title](data/dst3-ml1-2_3.png)"
   ]
  },
  {
   "cell_type": "raw",
   "id": "37c83232",
   "metadata": {},
   "source": [
    "Вот лишь несколько примеров моделей (алгоритмов) машинного обучения, которые мы будем изучать на курсе:\n",
    "\n",
    "линейная регрессия (Linear Regression),\n",
    "логистическая регрессия (Logistic Regression),\n",
    "наивный метод Байеса (Naive Bayes),\n",
    "метод k ближайших соседей (kNN),\n",
    "деревья решений (Decision Tree),\n",
    "случайный лес (Random Forest),\n",
    "градиентный бустинг (Gradient Boosting),\n",
    "нейронные сети (Neural Network)."
   ]
  },
  {
   "cell_type": "markdown",
   "id": "23366534",
   "metadata": {},
   "source": [
    "# 3. Виды машинного обучения: обучение с учителем"
   ]
  },
  {
   "cell_type": "markdown",
   "id": "3eda00e8",
   "metadata": {},
   "source": [
    "![title](data/dst3-ml1-3_1.png)"
   ]
  },
  {
   "cell_type": "markdown",
   "id": "b458820f",
   "metadata": {},
   "source": [
    "![title](data/dst3-ml1-3_6.png)"
   ]
  },
  {
   "cell_type": "markdown",
   "id": "88d5dcba",
   "metadata": {},
   "source": [
    "![title](data/dst3-ml1-3_7.png)"
   ]
  },
  {
   "cell_type": "markdown",
   "id": "5b7277d2",
   "metadata": {},
   "source": [
    "![title](data/dst3-ml1-3_10.png)"
   ]
  },
  {
   "cell_type": "code",
   "execution_count": null,
   "id": "e6ef4229",
   "metadata": {},
   "outputs": [],
   "source": [
    "ОБУЧЕНИЕ С УЧИТЕЛЕМ:\n",
    "    -РЕГРЕССИЯ:\n",
    "        -линейная (Linear)\n",
    "        -полиномиальная (Polynomial)\n",
    "        -ПРОГНОЗИРОВАНИЕ (forecasting):\n",
    "            -ARIMA\n",
    "            -SARIMA (модификация ARIMA)\n",
    "            -ARCH (модель для финансовых временных рядов)\n",
    "    -КЛАССИФИКАЦИЯ:\n",
    "        -логистическая регрессия (Logistic Regression)\n",
    "        -метод опорных векторов (SVM)\n",
    "        -деревья решений (Decision Tree)\n",
    "        -наивный байесовский классификатор (Naive Bayes)\n",
    "        -метод ближайших соседей (kNN)"
   ]
  }
 ],
 "metadata": {
  "kernelspec": {
   "display_name": "Python 3 (ipykernel)",
   "language": "python",
   "name": "python3"
  },
  "language_info": {
   "codemirror_mode": {
    "name": "ipython",
    "version": 3
   },
   "file_extension": ".py",
   "mimetype": "text/x-python",
   "name": "python",
   "nbconvert_exporter": "python",
   "pygments_lexer": "ipython3",
   "version": "3.9.12"
  }
 },
 "nbformat": 4,
 "nbformat_minor": 5
}
