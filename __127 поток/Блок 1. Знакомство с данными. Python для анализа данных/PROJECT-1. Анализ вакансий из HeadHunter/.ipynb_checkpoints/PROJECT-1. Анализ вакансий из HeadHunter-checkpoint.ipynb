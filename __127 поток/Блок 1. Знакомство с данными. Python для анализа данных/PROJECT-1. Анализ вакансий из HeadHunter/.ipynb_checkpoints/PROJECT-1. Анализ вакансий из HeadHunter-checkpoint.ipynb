{
 "cells": [
  {
   "cell_type": "code",
   "execution_count": 1,
   "id": "c1e20d1c",
   "metadata": {},
   "outputs": [
    {
     "data": {
      "text/plain": [
       "(44744, 12)"
      ]
     },
     "execution_count": 1,
     "metadata": {},
     "output_type": "execute_result"
    }
   ],
   "source": [
    "import pandas as pd\n",
    "import numpy as np\n",
    "import matplotlib.pyplot as plt\n",
    "import seaborn as sns\n",
    "import plotly.express as px\n",
    "hh_database = pd.read_csv('dst-3.0_16_1_hh_database.csv', sep=';')\n",
    "hh_database.shape"
   ]
  },
  {
   "cell_type": "code",
   "execution_count": 2,
   "id": "565fb831",
   "metadata": {},
   "outputs": [
    {
     "data": {
      "text/plain": [
       "array(['неоконченное высшее', 'высшее', 'среднее специальное', 'среднее'],\n",
       "      dtype=object)"
      ]
     },
     "execution_count": 2,
     "metadata": {},
     "output_type": "execute_result"
    }
   ],
   "source": [
    "def level_of_education(level_split):\n",
    "    level_split = ' '.join(level_split.split(' ')[:2]) \n",
    "    if 'Высшее' in level_split:\n",
    "        return 'высшее'\n",
    "    elif 'Неоконченное высшее' in level_split:\n",
    "        return 'неоконченное высшее'\n",
    "    elif 'Среднее специальное' in level_split:\n",
    "        return 'среднее специальное'\n",
    "    elif 'Среднее' in level_split:\n",
    "        return 'среднее'\n",
    "hh_database['Образование'] = hh_database['Образование и ВУЗ'].apply(level_of_education)\n",
    "hh_database = hh_database.drop(['Образование и ВУЗ'], axis = 1)\n",
    "hh_database['Образование'].unique()"
   ]
  },
  {
   "cell_type": "code",
   "execution_count": 3,
   "id": "2c923182",
   "metadata": {},
   "outputs": [
    {
     "data": {
      "text/plain": [
       "М    80.93\n",
       "Ж    19.07\n",
       "Name: Пол, dtype: float64"
      ]
     },
     "execution_count": 3,
     "metadata": {},
     "output_type": "execute_result"
    }
   ],
   "source": [
    "def gender(x):\n",
    "    x = ' '.join(x.split(',')[:1]) \n",
    "    if 'Мужчина' in x:\n",
    "        return 'М'\n",
    "    elif 'Женщина' in x:\n",
    "        return 'Ж'\n",
    "hh_database['Пол'] = hh_database['Пол, возраст'].apply(gender)\n",
    "hh_database['Пол'].unique()\n",
    "round((hh_database['Пол'].value_counts(normalize=True) * 100), 2)"
   ]
  },
  {
   "cell_type": "code",
   "execution_count": 4,
   "id": "2d67cd92",
   "metadata": {},
   "outputs": [
    {
     "data": {
      "text/plain": [
       "32.2"
      ]
     },
     "execution_count": 4,
     "metadata": {},
     "output_type": "execute_result"
    }
   ],
   "source": [
    "def years_old(x):\n",
    "    x_split = x.split(' ')\n",
    "    year_words = ['год', 'года', 'лет']\n",
    "    for index, item in enumerate (x_split):\n",
    "        if item in year_words:\n",
    "            return int(x_split[index-1])\n",
    "hh_database['Возраст'] = hh_database['Пол, возраст'].apply(years_old)\n",
    "hh_database = hh_database.drop('Пол, возраст', axis=1)\n",
    "round(hh_database['Возраст'].mean(), 2)"
   ]
  },
  {
   "cell_type": "code",
   "execution_count": 5,
   "id": "fac39ade",
   "metadata": {},
   "outputs": [
    {
     "data": {
      "text/plain": [
       "100.0"
      ]
     },
     "execution_count": 5,
     "metadata": {},
     "output_type": "execute_result"
    }
   ],
   "source": [
    "def work_experience(x):\n",
    "    if x is np.nan or x == 'Не указано':\n",
    "        return np.nan\n",
    "    x_split = x.split(' ')[:6]\n",
    "    year_words = ['год', 'года', 'лет']\n",
    "    month_words=['месяц', 'месяца', 'месяцев']\n",
    "    years = 0\n",
    "    months = 0\n",
    "    for index, item in enumerate (x_split):\n",
    "        if item in year_words:\n",
    "            years = int(x_split[index-1])\n",
    "        if item in month_words:\n",
    "            months = int(x_split[index-1])\n",
    "    return int(years*12 + months)\n",
    "hh_database['Опыт работы (месяц)'] = hh_database['Опыт работы'].apply(work_experience)\n",
    "hh_database = hh_database.drop('Опыт работы', axis=1)\n",
    "hh_database['Опыт работы (месяц)'].median()"
   ]
  },
  {
   "cell_type": "code",
   "execution_count": 13,
   "id": "872a9815",
   "metadata": {},
   "outputs": [],
   "source": [
    "def current_city(x):\n",
    "    x_split = x.split(',')[0]\n",
    "    million_cities = ['Новосибирск', 'Екатеринбург', 'Нижний Новгород', 'Казань',\n",
    "                  'Челябинск', 'Омск', 'Самара', 'Ростов-на-Дону', 'Уфа',\n",
    "                  'Красноярск', 'Пермь', 'Воронеж', 'Волгоград']\n",
    "    default_city = ['Москва', 'Санкт-Петербург']\n",
    "    if x_split in million_cities:\n",
    "        return 'город-миллионник'\n",
    "    elif x_split in default_city:\n",
    "        return x_split\n",
    "    else:\n",
    "        return 'другие'\n",
    "hh_database['Город'] = hh_database['Город, переезд, командировки'].apply(current_city)"
   ]
  },
  {
   "cell_type": "raw",
   "id": "8a766d38",
   "metadata": {},
   "source": [
    "million_cities = ['Новосибирск', 'Екатеринбург', 'Нижний Новгород', 'Казань', 'Челябинск', 'Омск', 'Самара', 'Ростов-на-Дону', 'Уфа', 'Красноярск', 'Пермь', 'Воронеж', 'Волгоград']  # list of million - plus cities\n",
    "hh_database['Город'] = hh_database['Город, переезд, командировки'].apply(lambda x: x.split()[0])\n",
    "hh_database['Город'] = hh_database['Город'].apply(\n",
    "    lambda x:\n",
    "    'город-миллионник' if x in million_cities\n",
    "    else\n",
    "    ('Москва' if x == 'Москва' else ('Санкт-Петербург' if x == 'Санкт-Петербург' else 'другие')))"
   ]
  },
  {
   "cell_type": "code",
   "execution_count": 14,
   "id": "e48ed8b3",
   "metadata": {},
   "outputs": [
    {
     "data": {
      "text/plain": [
       "другие    44744\n",
       "Name: Город, dtype: int64"
      ]
     },
     "execution_count": 14,
     "metadata": {},
     "output_type": "execute_result"
    }
   ],
   "source": [
    "hh_database['Город'].value_counts()"
   ]
  },
  {
   "cell_type": "code",
   "execution_count": null,
   "id": "88a99df3",
   "metadata": {},
   "outputs": [],
   "source": []
  }
 ],
 "metadata": {
  "kernelspec": {
   "display_name": "Python 3",
   "language": "python",
   "name": "python3"
  },
  "language_info": {
   "codemirror_mode": {
    "name": "ipython",
    "version": 3
   },
   "file_extension": ".py",
   "mimetype": "text/x-python",
   "name": "python",
   "nbconvert_exporter": "python",
   "pygments_lexer": "ipython3",
   "version": "3.8.8"
  }
 },
 "nbformat": 4,
 "nbformat_minor": 5
}
