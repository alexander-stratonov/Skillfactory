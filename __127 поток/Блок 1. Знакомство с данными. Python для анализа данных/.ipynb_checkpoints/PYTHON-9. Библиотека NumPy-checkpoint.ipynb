{
 "cells": [
  {
   "cell_type": "markdown",
   "id": "0a92de94",
   "metadata": {},
   "source": [
    "## 2. Модуль Collections. Counter и defaultdict"
   ]
  },
  {
   "cell_type": "markdown",
   "id": "d8547ac6",
   "metadata": {},
   "source": [
    "### COUNTER"
   ]
  },
  {
   "cell_type": "code",
   "execution_count": 4,
   "id": "4e0965fb",
   "metadata": {},
   "outputs": [
    {
     "name": "stdout",
     "output_type": "stream",
     "text": [
      "Counter({'red': 3, 'black': 3, 'blue': 2, 'white': 1})\n"
     ]
    }
   ],
   "source": [
    "# Импортируем объект Counter из модуля collections\n",
    "from collections import Counter\n",
    "cars = ['red', 'blue', 'black', 'black', 'black', 'red', 'blue', 'red', 'white']\n",
    "c = Counter(cars)\n",
    "print(c)"
   ]
  },
  {
   "cell_type": "code",
   "execution_count": 6,
   "id": "ed11069b",
   "metadata": {},
   "outputs": [
    {
     "name": "stdout",
     "output_type": "stream",
     "text": [
      "Counter({'black': 6, 'white': 5, 'yellow': 5, 'red': 2})\n"
     ]
    }
   ],
   "source": [
    "cars_moscow = ['black', 'black', 'white', 'black', 'black', 'white', 'yellow', 'yellow', 'yellow']\n",
    "cars_spb = ['red', 'black', 'black', 'white', 'white', 'yellow', 'yellow', 'red', 'white']\n",
    "counter_moscow = Counter(cars_moscow)\n",
    "counter_spb = Counter(cars_spb)\n",
    "print(counter_moscow + counter_spb)"
   ]
  },
  {
   "cell_type": "code",
   "execution_count": 7,
   "id": "05c2648a",
   "metadata": {},
   "outputs": [
    {
     "name": "stdout",
     "output_type": "stream",
     "text": [
      "Counter({'black': 2, 'yellow': 1, 'white': -1, 'red': -2})\n"
     ]
    }
   ],
   "source": [
    "#Чтобы узнать разницу между объектами Counter, необходимо воспользоваться функцией subtract\n",
    "counter_moscow.subtract(counter_spb)\n",
    "print(counter_moscow)"
   ]
  },
  {
   "cell_type": "code",
   "execution_count": 12,
   "id": "8d7daf16",
   "metadata": {},
   "outputs": [
    {
     "name": "stdout",
     "output_type": "stream",
     "text": [
      "black black black black white white yellow yellow yellow\n"
     ]
    }
   ],
   "source": [
    "#список всех элементов\n",
    "counter_moscow = Counter(cars_moscow)\n",
    "counter_spb = Counter(cars_spb)\n",
    "print(*counter_moscow.elements())"
   ]
  },
  {
   "cell_type": "code",
   "execution_count": 13,
   "id": "8f87aaa7",
   "metadata": {},
   "outputs": [
    {
     "name": "stdout",
     "output_type": "stream",
     "text": [
      "['black', 'white', 'yellow']\n"
     ]
    }
   ],
   "source": [
    "#список уникальных элементов\n",
    "print(list(counter_moscow))"
   ]
  },
  {
   "cell_type": "code",
   "execution_count": 14,
   "id": "81364324",
   "metadata": {},
   "outputs": [
    {
     "name": "stdout",
     "output_type": "stream",
     "text": [
      "{'black': 4, 'white': 2, 'yellow': 3}\n"
     ]
    }
   ],
   "source": [
    "#превратить Counter в обычный словарь\n",
    "print(dict(counter_moscow))"
   ]
  },
  {
   "cell_type": "code",
   "execution_count": 15,
   "id": "c3acb3ac",
   "metadata": {},
   "outputs": [
    {
     "name": "stdout",
     "output_type": "stream",
     "text": [
      "[('black', 4), ('yellow', 3), ('white', 2)]\n"
     ]
    }
   ],
   "source": [
    "#most_common() позволяет получить список из кортежей элементов в порядке убывания их встречаемости\n",
    "print(counter_moscow.most_common())"
   ]
  },
  {
   "cell_type": "code",
   "execution_count": 16,
   "id": "77b21b86",
   "metadata": {},
   "outputs": [
    {
     "name": "stdout",
     "output_type": "stream",
     "text": [
      "Counter()\n"
     ]
    }
   ],
   "source": [
    "#позволяет полностью обнулить счётчик\n",
    "counter_moscow.clear()\n",
    "print(counter_moscow)"
   ]
  },
  {
   "cell_type": "markdown",
   "id": "957682b2",
   "metadata": {},
   "source": [
    "### DEFAULTDICT"
   ]
  },
  {
   "cell_type": "code",
   "execution_count": 19,
   "id": "19dbe522",
   "metadata": {},
   "outputs": [
    {
     "name": "stdout",
     "output_type": "stream",
     "text": [
      "defaultdict(<class 'list'>, {1: ['Ivanov', 'Kuznetsova'], 4: ['Smirnov'], 3: ['Petrov', 'Markov'], 2: ['Nikitina', 'Pavlov']})\n"
     ]
    }
   ],
   "source": [
    "from collections import defaultdict\n",
    "\n",
    "students = [('Ivanov',1),('Smirnov',4),('Petrov',3),('Kuznetsova',1),\n",
    "            ('Nikitina',2),('Markov',3),('Pavlov',2)]\n",
    "groups = defaultdict(list)\n",
    "for student, group in students:\n",
    "    groups[group].append(student)\n",
    "    \n",
    "print(groups)"
   ]
  },
  {
   "cell_type": "markdown",
   "id": "f8baf6f1",
   "metadata": {},
   "source": [
    "## 3. Модуль Collections. Deque и OrderedDict"
   ]
  },
  {
   "cell_type": "markdown",
   "id": "d91be2f0",
   "metadata": {},
   "source": [
    "### ORDEREDDICT"
   ]
  },
  {
   "cell_type": "code",
   "execution_count": 20,
   "id": "0db71611",
   "metadata": {},
   "outputs": [
    {
     "name": "stdout",
     "output_type": "stream",
     "text": [
      "OrderedDict([('Ivan', 19), ('Mark', 25), ('Andrey', 23), ('Maria', 20)])\n"
     ]
    }
   ],
   "source": [
    "#Специальный словарь, который гарантирует сохранение ключей в порядке их добавления, называется OrderedDict\n",
    "from collections import OrderedDict\n",
    "data = [('Ivan', 19),('Mark', 25),('Andrey', 23),('Maria', 20)]\n",
    "ordered_client_ages = OrderedDict(data)\n",
    "print(ordered_client_ages)"
   ]
  },
  {
   "cell_type": "code",
   "execution_count": 21,
   "id": "8488f587",
   "metadata": {},
   "outputs": [
    {
     "name": "stdout",
     "output_type": "stream",
     "text": [
      "OrderedDict([('Ivan', 19), ('Maria', 20), ('Andrey', 23), ('Mark', 25)])\n"
     ]
    }
   ],
   "source": [
    "#отсортировать с помощью функции sorted\n",
    "data = [('Ivan', 19),('Mark', 25),('Andrey', 23),('Maria', 20)]\n",
    "# Сортируем по второму значению из кортежа, то есть по возрасту\n",
    "ordered_client_ages = OrderedDict(sorted(data, key=lambda x: x[1]))\n",
    "print(ordered_client_ages)"
   ]
  },
  {
   "cell_type": "markdown",
   "id": "fbc86d87",
   "metadata": {},
   "source": [
    "### DEQUE"
   ]
  },
  {
   "cell_type": "code",
   "execution_count": 23,
   "id": "314be85f",
   "metadata": {},
   "outputs": [
    {
     "name": "stdout",
     "output_type": "stream",
     "text": [
      "deque([])\n"
     ]
    }
   ],
   "source": [
    "from collections import deque\n",
    "dq = deque()\n",
    "print(dq)"
   ]
  },
  {
   "cell_type": "markdown",
   "id": "afc5e998",
   "metadata": {},
   "source": [
    "У deque есть четыре ключевые функции:\n",
    "\n",
    "**append** (добавить элемент в конец дека);\n",
    "**appendleft** (добавить элемент в начало дека);\n",
    "**pop** (удалить и вернуть элемент из конца дека);\n",
    "**popleft** (удалить и вернуть элемент из начала дека);\n",
    "**extend** (добавить сразу несколько элементов в конец дека);\n",
    "**extendleft** (добавить сразу несколько элементов в начало дека);\n",
    "**maxlen** (указать максимальную длину очереди);\n",
    "**reverse** позволяет поменять порядок элементов в очереди на обратный;\n",
    "**rotate** переносит  заданных элементов из конца очереди в начало:\n",
    "dq = deque([1,2,3,4,5])\n",
    "dq.rotate(2)\n",
    "print(dq)\n",
    "deque([4, 5, 1, 2, 3])\n",
    "Элементы можно переносить и из начала в конец:\n",
    "dq = deque([1,2,3,4,5])\n",
    "print(dq)\n",
    "dq.rotate(-2)\n",
    "print(dq)\n",
    "deque([3, 4, 5, 1, 2])\n",
    "**index** позволяет найти первый индекс искомого элемента\n",
    "**count** позволяет подсчитать, сколько раз элемент встретился в очереди\n",
    "**clear** позволяет очистить очередь"
   ]
  },
  {
   "cell_type": "code",
   "execution_count": 25,
   "id": "6d31e685",
   "metadata": {},
   "outputs": [
    {
     "name": "stdout",
     "output_type": "stream",
     "text": [
      "OrderedDict([('2020', 1.5), ('2005', -1.6), ('2008', -1.7), ('2007', -2.4), ('2001', -2.5), ('2015', -2.7), ('2018', -2.9), ('2009', -3.5), ('2017', -3.9), ('2000', -4.4), ('2002', -4.4), ('2012', -4.9), ('2011', -5.8), ('2006', -5.9), ('2013', -6.1), ('2019', -6.5), ('2014', -6.9), ('2004', -8.2), ('2003', -9.5), ('2016', -11.2), ('2010', -12.1)])\n"
     ]
    }
   ],
   "source": [
    "#код на первое задание:\n",
    "temps = [('2000', -4.4), ('2001', -2.5), ('2002', -4.4), ('2003', -9.5),\n",
    "        ('2004', -8.2), ('2005', -1.6), ('2006', -5.9), ('2007', -2.4),\n",
    "        ('2008', -1.7), ('2009', -3.5), ('2010', -12.1), ('2011', -5.8),\n",
    "        ('2012', -4.9), ('2013', -6.1), ('2014', -6.9), ('2015', -2.7),\n",
    "        ('2016', -11.2), ('2017', -3.9), ('2018', -2.9), ('2019', -6.5),\n",
    "        ('2020', 1.5)]\n",
    "temp = OrderedDict(sorted(temps, key=lambda x: x[1], reverse=True))\n",
    "print(temp)"
   ]
  },
  {
   "cell_type": "code",
   "execution_count": null,
   "id": "efe9e542",
   "metadata": {},
   "outputs": [],
   "source": [
    "#код на второе задание, НЕРАБОЧИЙ, ТОЛЬКО НА ПЛАТФОРМЕ!:\n",
    "from hidden import users\n",
    "from collections import deque\n",
    "users = deque(users)\n",
    "usersq = users.popleft()\n",
    "print(usersq)\n",
    "\n",
    "users.rotate(-4)\n",
    "usersq = users.pop()\n",
    "print(usersq)\n",
    "\n",
    "print(users.count(usersq))"
   ]
  },
  {
   "cell_type": "markdown",
   "id": "94b4e0a8",
   "metadata": {},
   "source": [
    "## 4. Модуль Collections. Закрепление знаний"
   ]
  },
  {
   "cell_type": "code",
   "execution_count": 31,
   "id": "8c5b966c",
   "metadata": {},
   "outputs": [
    {
     "name": "stdout",
     "output_type": "stream",
     "text": [
      "True\n",
      "True\n",
      "False\n"
     ]
    }
   ],
   "source": [
    "from collections import deque\n",
    "def brackets(line):\n",
    "    x = deque()\n",
    "    for i in line:\n",
    "        if i == '(':\n",
    "            x.append(i)\n",
    "        elif i == ')':\n",
    "            if len(x) == 0:\n",
    "                return False\n",
    "            x.pop()\n",
    "    if len(x) == 0:\n",
    "        return True\n",
    "    return False\n",
    "\n",
    "print(brackets(\"(()())\"))\n",
    "print(brackets(\"\"))\n",
    "print(brackets(\"(()()))\"))"
   ]
  },
  {
   "cell_type": "code",
   "execution_count": null,
   "id": "7620560c",
   "metadata": {},
   "outputs": [],
   "source": [
    "#код на второе задание, НЕРАБОЧИЙ, ТОЛЬКО НА ПЛАТФОРМЕ!:\n",
    "from hidden import north, center, south\n",
    "from collections import Counter\n",
    "counter_north = [elem for bill in north for elem in bill]\n",
    "counter_center = [elem for bill in center for elem in bill]\n",
    "counter_south = [elem for bill in south for elem in bill]\n",
    "print(len(counter_north))\n",
    "print(len(counter_center))\n",
    "print(len(counter_south))\n",
    "\n",
    "n=Counter(counter_north)\n",
    "c=Counter(counter_center)\n",
    "s=Counter(counter_south)\n",
    "print(n)\n",
    "\n",
    "print(c-n)\n",
    "\n",
    "print(n-(c+s))\n",
    "print(c-(n+s))\n",
    "print(s-(n+c))\n",
    "\n",
    "print(n+c+s)"
   ]
  },
  {
   "cell_type": "code",
   "execution_count": null,
   "id": "ee33788e",
   "metadata": {},
   "outputs": [],
   "source": []
  }
 ],
 "metadata": {
  "kernelspec": {
   "display_name": "Python 3",
   "language": "python",
   "name": "python3"
  },
  "language_info": {
   "codemirror_mode": {
    "name": "ipython",
    "version": 3
   },
   "file_extension": ".py",
   "mimetype": "text/x-python",
   "name": "python",
   "nbconvert_exporter": "python",
   "pygments_lexer": "ipython3",
   "version": "3.8.8"
  }
 },
 "nbformat": 4,
 "nbformat_minor": 5
}
