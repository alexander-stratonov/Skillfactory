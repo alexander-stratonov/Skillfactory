{
 "cells": [
  {
   "cell_type": "markdown",
   "id": "dc6acc42",
   "metadata": {},
   "source": [
    "## 5. Модуль NumPy. Типы данных"
   ]
  },
  {
   "cell_type": "markdown",
   "id": "77c6c7ab",
   "metadata": {},
   "source": [
    "### 5. Модуль NumPy. Типы данных"
   ]
  },
  {
   "cell_type": "code",
   "execution_count": 1,
   "id": "10f9235d",
   "metadata": {},
   "outputs": [
    {
     "name": "stdout",
     "output_type": "stream",
     "text": [
      "<class 'numpy.int8'>\n"
     ]
    }
   ],
   "source": [
    "import numpy as np\n",
    "a = np.int8(25)\n",
    "print(type(a))"
   ]
  },
  {
   "cell_type": "code",
   "execution_count": 24,
   "id": "70cae22f",
   "metadata": {},
   "outputs": [
    {
     "data": {
      "text/plain": [
       "iinfo(min=-128, max=127, dtype=int8)"
      ]
     },
     "execution_count": 24,
     "metadata": {},
     "output_type": "execute_result"
    }
   ],
   "source": [
    "np.iinfo(a)"
   ]
  },
  {
   "cell_type": "code",
   "execution_count": 71,
   "id": "3613941c",
   "metadata": {},
   "outputs": [
    {
     "data": {
      "text/plain": [
       "iinfo(min=-32768, max=32767, dtype=int16)"
      ]
     },
     "execution_count": 71,
     "metadata": {},
     "output_type": "execute_result"
    }
   ],
   "source": [
    "np.iinfo(np.int16)"
   ]
  },
  {
   "cell_type": "code",
   "execution_count": 26,
   "id": "e8a34ab0",
   "metadata": {},
   "outputs": [
    {
     "name": "stdout",
     "output_type": "stream",
     "text": [
      "<class 'numpy.uint8'>\n",
      "Machine parameters for uint8\n",
      "---------------------------------------------------------------\n",
      "min = 0\n",
      "max = 255\n",
      "---------------------------------------------------------------\n",
      "\n",
      "Machine parameters for uint64\n",
      "---------------------------------------------------------------\n",
      "min = 0\n",
      "max = 18446744073709551615\n",
      "---------------------------------------------------------------\n",
      "\n"
     ]
    }
   ],
   "source": [
    "b = np.uint8(124)\n",
    "print(type(b))\n",
    "print(np.iinfo(b))\n",
    "print(np.iinfo(np.uint64))"
   ]
  },
  {
   "cell_type": "code",
   "execution_count": 27,
   "id": "87dfe4f4",
   "metadata": {},
   "outputs": [
    {
     "data": {
      "text/plain": [
       "56"
      ]
     },
     "execution_count": 27,
     "metadata": {},
     "output_type": "execute_result"
    }
   ],
   "source": [
    "a=np.uint8(-456)\n",
    "a"
   ]
  },
  {
   "cell_type": "markdown",
   "id": "b4dfcdb0",
   "metadata": {},
   "source": [
    "### 6. Модуль NumPy. Массивы"
   ]
  },
  {
   "cell_type": "code",
   "execution_count": 28,
   "id": "cbf2d94a",
   "metadata": {},
   "outputs": [
    {
     "data": {
      "text/plain": [
       "array([ 1,  5,  2,  9, 10])"
      ]
     },
     "execution_count": 28,
     "metadata": {},
     "output_type": "execute_result"
    }
   ],
   "source": [
    "arr = np.array([1,5,2,9,10])\n",
    "arr"
   ]
  },
  {
   "cell_type": "code",
   "execution_count": 29,
   "id": "f74c2eb6",
   "metadata": {},
   "outputs": [
    {
     "data": {
      "text/plain": [
       "array([[12, 45, 78],\n",
       "       [34, 56, 13],\n",
       "       [12, 98, 76]])"
      ]
     },
     "execution_count": 29,
     "metadata": {},
     "output_type": "execute_result"
    }
   ],
   "source": [
    "nd_arr = np.array([\n",
    "               [12, 45, 78],\n",
    "               [34, 56, 13],\n",
    "               [12, 98, 76]\n",
    "               ])\n",
    "nd_arr"
   ]
  },
  {
   "cell_type": "code",
   "execution_count": 30,
   "id": "4d081891",
   "metadata": {},
   "outputs": [
    {
     "data": {
      "text/plain": [
       "array([ 1,  5,  2,  9, 10], dtype=int8)"
      ]
     },
     "execution_count": 30,
     "metadata": {},
     "output_type": "execute_result"
    }
   ],
   "source": [
    "arr = np.array([1,5,2,9,10], dtype=np.int8)\n",
    "arr"
   ]
  },
  {
   "cell_type": "code",
   "execution_count": 31,
   "id": "ee2b8027",
   "metadata": {},
   "outputs": [
    {
     "data": {
      "text/plain": [
       "array([ 3.452340e+05,  8.763621e+05,  0.000000e+00, -1.000000e+03,\n",
       "        1.000000e+08], dtype=float32)"
      ]
     },
     "execution_count": 31,
     "metadata": {},
     "output_type": "execute_result"
    }
   ],
   "source": [
    "arr = np.array([345234, 876362.12, 0, -1000, 99999999], dtype=np.float32)\n",
    "arr"
   ]
  },
  {
   "cell_type": "code",
   "execution_count": 32,
   "id": "1b7bdec0",
   "metadata": {},
   "outputs": [
    {
     "data": {
      "text/plain": [
       "array([0., 0., 0., 0., 0.])"
      ]
     },
     "execution_count": 32,
     "metadata": {},
     "output_type": "execute_result"
    }
   ],
   "source": [
    "zeros_1d = np.zeros(5)\n",
    "zeros_1d"
   ]
  },
  {
   "cell_type": "code",
   "execution_count": 33,
   "id": "89d63568",
   "metadata": {},
   "outputs": [
    {
     "data": {
      "text/plain": [
       "array([[[0., 0., 0.],\n",
       "        [0., 0., 0.],\n",
       "        [0., 0., 0.],\n",
       "        [0., 0., 0.]],\n",
       "\n",
       "       [[0., 0., 0.],\n",
       "        [0., 0., 0.],\n",
       "        [0., 0., 0.],\n",
       "        [0., 0., 0.]],\n",
       "\n",
       "       [[0., 0., 0.],\n",
       "        [0., 0., 0.],\n",
       "        [0., 0., 0.],\n",
       "        [0., 0., 0.]],\n",
       "\n",
       "       [[0., 0., 0.],\n",
       "        [0., 0., 0.],\n",
       "        [0., 0., 0.],\n",
       "        [0., 0., 0.]],\n",
       "\n",
       "       [[0., 0., 0.],\n",
       "        [0., 0., 0.],\n",
       "        [0., 0., 0.],\n",
       "        [0., 0., 0.]]], dtype=float32)"
      ]
     },
     "execution_count": 33,
     "metadata": {},
     "output_type": "execute_result"
    }
   ],
   "source": [
    "zeros_3d = np.zeros((5,4,3), dtype=np.float32)\n",
    "zeros_3d"
   ]
  },
  {
   "cell_type": "code",
   "execution_count": 34,
   "id": "ee2cd71a",
   "metadata": {},
   "outputs": [
    {
     "data": {
      "text/plain": [
       "array([2.5, 3. , 3.5, 4. , 4.5], dtype=float16)"
      ]
     },
     "execution_count": 34,
     "metadata": {},
     "output_type": "execute_result"
    }
   ],
   "source": [
    "np.arange(2.5, 5, 0.5, dtype=np.float16)"
   ]
  },
  {
   "cell_type": "code",
   "execution_count": 35,
   "id": "68e7bc4b",
   "metadata": {},
   "outputs": [
    {
     "data": {
      "text/plain": [
       "array([1. , 1.1, 1.2, 1.3, 1.4, 1.5, 1.6, 1.7, 1.8, 1.9])"
      ]
     },
     "execution_count": 35,
     "metadata": {},
     "output_type": "execute_result"
    }
   ],
   "source": [
    "arr = np.linspace(1, 2, 10, endpoint=False)\n",
    "arr"
   ]
  },
  {
   "cell_type": "code",
   "execution_count": 36,
   "id": "42b0d520",
   "metadata": {},
   "outputs": [
    {
     "name": "stdout",
     "output_type": "stream",
     "text": [
      "0.46\n"
     ]
    }
   ],
   "source": [
    "arr, step = np.linspace(-6, 21, 60, endpoint=True, retstep=True)\n",
    "print(round(step,2))"
   ]
  },
  {
   "cell_type": "code",
   "execution_count": 37,
   "id": "dd18ae6f",
   "metadata": {},
   "outputs": [
    {
     "name": "stdout",
     "output_type": "stream",
     "text": [
      "0.45\n"
     ]
    }
   ],
   "source": [
    "arr, step = np.linspace(-6, 21, 60, endpoint=False, retstep=True)\n",
    "print(round(step,2))"
   ]
  },
  {
   "cell_type": "code",
   "execution_count": null,
   "id": "4eca1383",
   "metadata": {},
   "outputs": [],
   "source": [
    "# для задания на платформе:\n",
    "from hidden import mystery\n",
    "import numpy as np\n",
    "print(mystery.ndim)\n",
    "print(mystery.shape)\n",
    "print(mystery.size)\n",
    "print(mystery.dtype)\n",
    "print(mystery.itemsize*mystery.size)"
   ]
  },
  {
   "cell_type": "markdown",
   "id": "42a45f0f",
   "metadata": {},
   "source": [
    "### 7. Модуль NumPy. Действия с массивами"
   ]
  },
  {
   "cell_type": "code",
   "execution_count": 38,
   "id": "68422f88",
   "metadata": {},
   "outputs": [
    {
     "data": {
      "text/plain": [
       "array([0, 1, 2, 3, 4, 5, 6, 7])"
      ]
     },
     "execution_count": 38,
     "metadata": {},
     "output_type": "execute_result"
    }
   ],
   "source": [
    "#создать массив 1 размерный\n",
    "arr = np.arange(8)\n",
    "arr"
   ]
  },
  {
   "cell_type": "code",
   "execution_count": 39,
   "id": "aa747ee1",
   "metadata": {},
   "outputs": [
    {
     "data": {
      "text/plain": [
       "array([[0, 1, 2, 3],\n",
       "       [4, 5, 6, 7]])"
      ]
     },
     "execution_count": 39,
     "metadata": {},
     "output_type": "execute_result"
    }
   ],
   "source": [
    "#создать массив 2 размерный (строка, столбец)\n",
    "arr.shape = (2, 4)\n",
    "arr"
   ]
  },
  {
   "cell_type": "code",
   "execution_count": 40,
   "id": "9499db43",
   "metadata": {},
   "outputs": [
    {
     "data": {
      "text/plain": [
       "array([[0, 1, 2, 3],\n",
       "       [4, 5, 6, 7]])"
      ]
     },
     "execution_count": 40,
     "metadata": {},
     "output_type": "execute_result"
    }
   ],
   "source": [
    "#создать новый массив из имеющегося\n",
    "arr = np.arange(8)\n",
    "arr_new = arr.reshape((2, 4))\n",
    "arr_new"
   ]
  },
  {
   "cell_type": "code",
   "execution_count": 41,
   "id": "2652e00b",
   "metadata": {},
   "outputs": [
    {
     "data": {
      "text/plain": [
       "array([[0, 2, 4, 6],\n",
       "       [1, 3, 5, 7]])"
      ]
     },
     "execution_count": 41,
     "metadata": {},
     "output_type": "execute_result"
    }
   ],
   "source": [
    "#обратное заполнение, теперь по столбцам\n",
    "arr = np.arange(8)\n",
    "arr_new = arr.reshape((2, 4), order='F')\n",
    "arr_new"
   ]
  },
  {
   "cell_type": "code",
   "execution_count": 42,
   "id": "9addc69f",
   "metadata": {},
   "outputs": [
    {
     "data": {
      "text/plain": [
       "array([[0, 4],\n",
       "       [1, 5],\n",
       "       [2, 6],\n",
       "       [3, 7]])"
      ]
     },
     "execution_count": 42,
     "metadata": {},
     "output_type": "execute_result"
    }
   ],
   "source": [
    "#транспорирование\n",
    "arr = np.arange(8)\n",
    "arr.shape = (2, 4)\n",
    "arr_trans = arr.transpose()\n",
    "arr_trans"
   ]
  },
  {
   "cell_type": "code",
   "execution_count": null,
   "id": "53a85374",
   "metadata": {},
   "outputs": [],
   "source": [
    "#задача с платформы:\n",
    "try:\n",
    "    from Root.src.hidden import mystery\n",
    "except ImportError:\n",
    "    from hidden import mystery\n",
    "# В переменную elem_5_3 сохраните элемент из 5 строки и 3 столбца:\n",
    "elem_5_3 = mystery[4, 2]\n",
    "# В переменную last сохраните элемент из последней строки последнего столбца\n",
    "last = mystery[-1, -1]\n",
    "# В переменную line_4 сохраните строку 4\n",
    "line_4 = mystery[3, :]\n",
    "# В переменную col_2 сохраните предпоследний столбец\n",
    "col_2 = mystery[:, -2]\n",
    "# Из строк 2-4 (включительно) получите столбцы 3-5 (включительно). Результат сохраните в переменную part\n",
    "part = mystery[1:4, 2:5]\n",
    "#  Сохраните в переменную rev последний столбец в обратном порядке\n",
    "rev = mystery[:, -1]\n",
    "rev = rev[::-1]\n",
    "# Сохраните в переменную trans транспонированный массив\n",
    "trans = mystery.transpose()"
   ]
  },
  {
   "cell_type": "code",
   "execution_count": 43,
   "id": "22be9cc1",
   "metadata": {},
   "outputs": [
    {
     "name": "stdout",
     "output_type": "stream",
     "text": [
      "[ 3  4 12 12 15 23 23 45]\n",
      "[ 3  4 12 12 15 23 23 45]\n"
     ]
    }
   ],
   "source": [
    "#СОРТИРОВКА ОДНОМЕРНЫХ МАССИВОВ\n",
    "arr = np.array([23,12,45,12,23,4,15,3])\n",
    "arr_new = np.sort(arr)\n",
    "print(arr_new)\n",
    "\n",
    "arr1 = np.array([23,12,45,12,23,4,15,3])\n",
    "arr1.sort()\n",
    "print(arr1)"
   ]
  },
  {
   "cell_type": "code",
   "execution_count": 44,
   "id": "8079b568",
   "metadata": {},
   "outputs": [
    {
     "name": "stderr",
     "output_type": "stream",
     "text": [
      "<ipython-input-44-29a3464af5aa>:3: RuntimeWarning: invalid value encountered in sqrt\n",
      "  roots = np.sqrt(data)\n"
     ]
    },
    {
     "data": {
      "text/plain": [
       "array([2.        , 3.        ,        nan, 1.73205081])"
      ]
     },
     "execution_count": 44,
     "metadata": {},
     "output_type": "execute_result"
    }
   ],
   "source": [
    "#РАБОТА С ПРОПУЩЕННЫМИ ДАННЫМИ\n",
    "data = np.array([4, 9, -4, 3])\n",
    "roots = np.sqrt(data)\n",
    "roots"
   ]
  },
  {
   "cell_type": "code",
   "execution_count": 45,
   "id": "cea66725",
   "metadata": {},
   "outputs": [
    {
     "data": {
      "text/plain": [
       "array([False, False,  True, False])"
      ]
     },
     "execution_count": 45,
     "metadata": {},
     "output_type": "execute_result"
    }
   ],
   "source": [
    "#узнаем, на каких местах в массиве находятся «не числа»\n",
    "np.isnan(roots)"
   ]
  },
  {
   "cell_type": "code",
   "execution_count": 46,
   "id": "bb23aab9",
   "metadata": {},
   "outputs": [
    {
     "data": {
      "text/plain": [
       "array([2.        , 3.        , 0.        , 1.73205081])"
      ]
     },
     "execution_count": 46,
     "metadata": {},
     "output_type": "execute_result"
    }
   ],
   "source": [
    "roots[np.isnan(roots)] = 0\n",
    "roots"
   ]
  },
  {
   "cell_type": "code",
   "execution_count": null,
   "id": "ad0eb866",
   "metadata": {},
   "outputs": [],
   "source": [
    "#тест на платформе:\n",
    "try:\n",
    "    from Root.src.hidden import mystery\n",
    "except ImportError:\n",
    "    from hidden import mystery\n",
    "# Получите булевый массив с информацией о np.nan в массиве mystery\n",
    "# True - значение пропущено, False - значение не пропущено\n",
    "print(mystery)\n",
    "import numpy as np\n",
    "nans_index = np.isnan(mystery)\n",
    "print(nans_index)\n",
    "\n",
    "# В переменную n_nan сохраните число пропущенных значений\n",
    "n_nan = sum(nans_index)\n",
    "print(n_nan)\n",
    "\n",
    "# Заполните пропущенные значения в массиве mystery нулями\n",
    "mystery[np.isnan(mystery)] = 0\n",
    "print(mystery)\n",
    "\n",
    "# Поменяйте тип данных в массиве mystery на int32\n",
    "mystery=np.int32(mystery)\n",
    "print('!!!!!!!!!!')\n",
    "print(type(mystery))\n",
    "print('!!!!!!!!!!')\n",
    "\n",
    "# Отсортируйте значения в массиве по возрастанию и сохраните\n",
    "# результат в переменную array\n",
    "array = np.sort(mystery)\n",
    "print(array)\n",
    "\n",
    "# Сохраните в массив table двухмерный массив, полученный из массива array\n",
    "# В нём должно быть 5 строк и 3 столбца. Причём порядок заполнения должен быть\n",
    "# по столбцам! Например, 1, 2, 3, 4 -> 1    3\n",
    "#                                      2    4\n",
    "table = array.reshape((5, 3), order='F')\n",
    "print(table)\n",
    "\n",
    "#  Сохраните в переменную col средний столбец из table\n",
    "col = table[:,1]\n",
    "print(col)"
   ]
  },
  {
   "cell_type": "markdown",
   "id": "5c77ba64",
   "metadata": {},
   "source": [
    "### 8. Модуль NumPy. Операции с векторами"
   ]
  },
  {
   "cell_type": "markdown",
   "id": "735c1b3c",
   "metadata": {},
   "source": [
    "##### ВЕКТОРЫ В NUMPY И АРИФМЕТИКА"
   ]
  },
  {
   "cell_type": "code",
   "execution_count": 47,
   "id": "be841c8f",
   "metadata": {},
   "outputs": [
    {
     "data": {
      "text/plain": [
       "array([14. , 10. , 10.6, 15.5])"
      ]
     },
     "execution_count": 47,
     "metadata": {},
     "output_type": "execute_result"
    }
   ],
   "source": [
    "#сложение:\n",
    "vec1 = np.array([2, 4, 7, 2.5])\n",
    "vec2 = np.array([12, 6, 3.6, 13])\n",
    "vec1 + vec2"
   ]
  },
  {
   "cell_type": "code",
   "execution_count": 48,
   "id": "1c2cdef4",
   "metadata": {},
   "outputs": [
    {
     "data": {
      "text/plain": [
       "array([24. , 24. , 25.2, 32.5])"
      ]
     },
     "execution_count": 48,
     "metadata": {},
     "output_type": "execute_result"
    }
   ],
   "source": [
    "#умножение:\n",
    "vec1 = np.array([2, 4, 7, 2.5])\n",
    "vec2 = np.array([12, 6, 3.6, 13])\n",
    "vec1 * vec2"
   ]
  },
  {
   "cell_type": "code",
   "execution_count": 49,
   "id": "89ce81ec",
   "metadata": {},
   "outputs": [
    {
     "data": {
      "text/plain": [
       "array([ 0, 10, 20, 30, 40])"
      ]
     },
     "execution_count": 49,
     "metadata": {},
     "output_type": "execute_result"
    }
   ],
   "source": [
    "#умножение на число:\n",
    "vec = np.arange(5)\n",
    "vec * 10"
   ]
  },
  {
   "cell_type": "code",
   "execution_count": 50,
   "id": "ba4f97cd",
   "metadata": {},
   "outputs": [
    {
     "data": {
      "text/plain": [
       "array([ 0,  1,  4,  9, 16], dtype=int32)"
      ]
     },
     "execution_count": 50,
     "metadata": {},
     "output_type": "execute_result"
    }
   ],
   "source": [
    "#возвести в степень:\n",
    "vec = np.arange(5)\n",
    "vec ** 2"
   ]
  },
  {
   "cell_type": "code",
   "execution_count": 51,
   "id": "af68e515",
   "metadata": {},
   "outputs": [
    {
     "data": {
      "text/plain": [
       "array([False, False,  True, False])"
      ]
     },
     "execution_count": 51,
     "metadata": {},
     "output_type": "execute_result"
    }
   ],
   "source": [
    "#сравнивать поэлементно:\n",
    "vec1 = np.array([2, 4, 7, 2.5])\n",
    "vec2 = np.array([12, 6, 3.6, 13])\n",
    "vec1 > vec2"
   ]
  },
  {
   "cell_type": "code",
   "execution_count": 52,
   "id": "5208e4a6",
   "metadata": {},
   "outputs": [
    {
     "data": {
      "text/plain": [
       "array([ True,  True,  True,  True, False,  True, False])"
      ]
     },
     "execution_count": 52,
     "metadata": {},
     "output_type": "execute_result"
    }
   ],
   "source": [
    "#сравнивать с числом:\n",
    "vec = np.array([14,15,9,26,53,5,89])\n",
    "vec <= 26"
   ]
  },
  {
   "cell_type": "markdown",
   "id": "a51509d5",
   "metadata": {},
   "source": [
    "#### ПРОДВИНУТЫЕ ОПЕРАЦИИ С ВЕКТОРАМИ"
   ]
  },
  {
   "cell_type": "code",
   "execution_count": 53,
   "id": "1497b30d",
   "metadata": {},
   "outputs": [
    {
     "data": {
      "text/plain": [
       "5.0"
      ]
     },
     "execution_count": 53,
     "metadata": {},
     "output_type": "execute_result"
    }
   ],
   "source": [
    "vec = np.array([3, 4])\n",
    "#подмодуль LINALG позволяет производить операции из линейной алгебры\n",
    "#NORM - длина вектора\n",
    "length = np.linalg.norm(vec)\n",
    "length"
   ]
  },
  {
   "cell_type": "code",
   "execution_count": 54,
   "id": "5c814bc3",
   "metadata": {},
   "outputs": [
    {
     "data": {
      "text/plain": [
       "12.206555615733702"
      ]
     },
     "execution_count": 54,
     "metadata": {},
     "output_type": "execute_result"
    }
   ],
   "source": [
    "#расстояние между векторами:\n",
    "vec1 = np.array([0, 3, 5])\n",
    "vec2 = np.array([12, 4, 7])\n",
    "distance = np.linalg.norm(vec1 - vec2)\n",
    "distance"
   ]
  },
  {
   "cell_type": "code",
   "execution_count": 55,
   "id": "f43266a9",
   "metadata": {},
   "outputs": [
    {
     "name": "stdout",
     "output_type": "stream",
     "text": [
      "250.0\n",
      "250.0\n"
     ]
    }
   ],
   "source": [
    "#скалярное произведение:\n",
    "vec1 = np.arange(1, 6)\n",
    "vec2 = np.linspace(10, 20, 5)\n",
    "scalar_product = np.sum(vec1 * vec2)\n",
    "print(scalar_product)\n",
    "\n",
    "scalar_product = np.dot(vec1, vec2)\n",
    "print(scalar_product)"
   ]
  },
  {
   "cell_type": "code",
   "execution_count": 56,
   "id": "f1758595",
   "metadata": {},
   "outputs": [
    {
     "name": "stdout",
     "output_type": "stream",
     "text": [
      "False\n",
      "False\n",
      "True\n"
     ]
    }
   ],
   "source": [
    "a = np.array([23, 34, 27])\n",
    "b = np.array([-54, 1,  46])\n",
    "c = np.array([46, 68, 54])\n",
    "#сумма длин сонаправленных векторов должна быть равной длине суммы двух векторов,\n",
    "#с помощью этого критерия найдите пару сонаправленных векторов:\n",
    "len_a = np.linalg.norm(a)\n",
    "len_b = np.linalg.norm(b)\n",
    "len_c = np.linalg.norm(c)\n",
    " \n",
    "len_a_b = np.linalg.norm(a + b)\n",
    "len_b_c = np.linalg.norm(b + c)\n",
    "len_a_c = np.linalg.norm(a + c)\n",
    " \n",
    "print(len_a_b == len_a + len_b)\n",
    "print(len_b_c == len_b + len_c)\n",
    "print(len_a_c == len_a + len_c)"
   ]
  },
  {
   "cell_type": "code",
   "execution_count": 57,
   "id": "54a57bb9",
   "metadata": {},
   "outputs": [
    {
     "name": "stdout",
     "output_type": "stream",
     "text": [
      "85.901105930017\n",
      "120.6358155772986\n",
      "49.13247398615299\n"
     ]
    }
   ],
   "source": [
    "#Найдите пару векторов, расстояние между которыми больше 100:\n",
    "len_a_b = np.linalg.norm(a - b)\n",
    "len_b_c = np.linalg.norm(b - c)\n",
    "len_a_c = np.linalg.norm(a - c)\n",
    " \n",
    "print(len_a_b)\n",
    "print(len_b_c)\n",
    "print(len_a_c)"
   ]
  },
  {
   "cell_type": "code",
   "execution_count": 58,
   "id": "62ed8738",
   "metadata": {},
   "outputs": [
    {
     "name": "stdout",
     "output_type": "stream",
     "text": [
      "34\n",
      "68\n",
      "4828\n"
     ]
    }
   ],
   "source": [
    "#Найдите пару перпендикулярных векторов с помощью скалярного произведения:\n",
    "len_a_b = np.dot(a , b)\n",
    "len_b_c = np.dot(b , c)\n",
    "len_a_c = np.dot(a , c)\n",
    " \n",
    "print(len_a_b)\n",
    "print(len_b_c)\n",
    "print(len_a_c)"
   ]
  },
  {
   "cell_type": "markdown",
   "id": "0b781574",
   "metadata": {},
   "source": [
    "#### БАЗОВЫЕ СТАТИСТИЧЕСКИЕ ФУНКЦИИ ДЛЯ ВЕКТОРОВ"
   ]
  },
  {
   "cell_type": "code",
   "execution_count": 59,
   "id": "571ad629",
   "metadata": {},
   "outputs": [
    {
     "name": "stdout",
     "output_type": "stream",
     "text": [
      "1\n",
      "28\n"
     ]
    }
   ],
   "source": [
    "#максимальное и минимальное значение в векторе:\n",
    "vec = np.array([2,7,18,28,18,1,8,4])\n",
    "print(vec.min())\n",
    "print(np.max(vec))"
   ]
  },
  {
   "cell_type": "code",
   "execution_count": 60,
   "id": "e36429cf",
   "metadata": {},
   "outputs": [
    {
     "data": {
      "text/plain": [
       "10.75"
      ]
     },
     "execution_count": 60,
     "metadata": {},
     "output_type": "execute_result"
    }
   ],
   "source": [
    "#среднее значение:\n",
    "np.mean(vec)"
   ]
  },
  {
   "cell_type": "code",
   "execution_count": 61,
   "id": "ff0359f2",
   "metadata": {},
   "outputs": [
    {
     "data": {
      "text/plain": [
       "7.5"
      ]
     },
     "execution_count": 61,
     "metadata": {},
     "output_type": "execute_result"
    }
   ],
   "source": [
    "np.median(vec)"
   ]
  },
  {
   "cell_type": "code",
   "execution_count": null,
   "id": "659bc420",
   "metadata": {},
   "outputs": [],
   "source": [
    "#задание на платформе:\n",
    "from hidden import mystery\n",
    "import numpy as np\n",
    "print(np.min(mystery))\n",
    "print(np.mean(mystery))\n",
    "print(np.median(mystery))\n",
    "print(round(np.std(mystery),2))"
   ]
  },
  {
   "cell_type": "markdown",
   "id": "74a82441",
   "metadata": {},
   "source": [
    "### 9. Модуль NumPy. Случайные числа"
   ]
  },
  {
   "cell_type": "code",
   "execution_count": 2,
   "id": "c79499dd",
   "metadata": {},
   "outputs": [
    {
     "data": {
      "text/plain": [
       "0.21141840019564595"
      ]
     },
     "execution_count": 2,
     "metadata": {},
     "output_type": "execute_result"
    }
   ],
   "source": [
    "#подмодуль random - генерации псевдослучайных чисел, \n",
    "#rand - генерирует число с плавающей точкой между 0 (включительно) и 1 (не включительно):\n",
    "np.random.rand()"
   ]
  },
  {
   "cell_type": "code",
   "execution_count": 3,
   "id": "b36224dd",
   "metadata": {},
   "outputs": [
    {
     "data": {
      "text/plain": [
       "83.59848067865167"
      ]
     },
     "execution_count": 3,
     "metadata": {},
     "output_type": "execute_result"
    }
   ],
   "source": [
    "np.random.rand() * 100"
   ]
  },
  {
   "cell_type": "code",
   "execution_count": 4,
   "id": "b717d02a",
   "metadata": {},
   "outputs": [
    {
     "data": {
      "text/plain": [
       "array([0.40666085, 0.61294437, 0.78482129, 0.13538425, 0.5752365 ])"
      ]
     },
     "execution_count": 4,
     "metadata": {},
     "output_type": "execute_result"
    }
   ],
   "source": [
    "np.random.rand(5)"
   ]
  },
  {
   "cell_type": "code",
   "execution_count": 5,
   "id": "fb05fe0f",
   "metadata": {},
   "outputs": [
    {
     "data": {
      "text/plain": [
       "array([[0.58128951, 0.88086508, 0.1894091 ],\n",
       "       [0.49706207, 0.49928784, 0.65684502]])"
      ]
     },
     "execution_count": 5,
     "metadata": {},
     "output_type": "execute_result"
    }
   ],
   "source": [
    "np.random.rand(2, 3)"
   ]
  },
  {
   "cell_type": "code",
   "execution_count": 6,
   "id": "6dc1260c",
   "metadata": {
    "scrolled": true
   },
   "outputs": [
    {
     "data": {
      "text/plain": [
       "array([[[[[[1.31562866e-01, 2.60577333e-01, 5.31432595e-01, ...,\n",
       "            2.80030671e-01, 3.37705674e-01, 2.79248838e-02],\n",
       "           [1.13824764e-01, 8.51339602e-01, 8.26494078e-01, ...,\n",
       "            2.00602301e-01, 4.88433486e-01, 3.99619985e-02],\n",
       "           [5.91202127e-01, 9.20588387e-01, 3.81456830e-01, ...,\n",
       "            9.88511423e-02, 9.53623096e-01, 4.61934721e-01],\n",
       "           ...,\n",
       "           [3.14020928e-01, 9.90466795e-01, 3.17309265e-01, ...,\n",
       "            8.36386328e-01, 7.53054238e-01, 6.46407482e-02],\n",
       "           [1.95220064e-01, 6.57358059e-01, 7.02993247e-01, ...,\n",
       "            3.57635830e-01, 1.69340505e-01, 3.52915169e-01],\n",
       "           [9.17743972e-01, 3.72905586e-01, 7.87032201e-01, ...,\n",
       "            2.88334418e-01, 3.85583214e-01, 1.30313249e-01]],\n",
       "\n",
       "          [[9.71171791e-01, 9.09844862e-01, 1.93692432e-02, ...,\n",
       "            6.13416722e-01, 4.83298893e-01, 5.88980001e-01],\n",
       "           [6.19875002e-01, 1.49791304e-01, 9.48042040e-01, ...,\n",
       "            2.77295563e-01, 7.53338304e-01, 8.24602343e-02],\n",
       "           [5.44876495e-01, 4.59477769e-01, 1.76114452e-01, ...,\n",
       "            3.91409472e-01, 7.13687585e-01, 1.44626310e-01],\n",
       "           ...,\n",
       "           [6.67602013e-01, 9.15480781e-01, 9.95322831e-02, ...,\n",
       "            9.72511408e-01, 2.89020641e-01, 2.32319627e-01],\n",
       "           [3.29812445e-01, 8.68632565e-01, 7.60903642e-01, ...,\n",
       "            8.48286045e-01, 7.48282965e-01, 6.83477514e-01],\n",
       "           [6.64824978e-01, 8.84325409e-01, 6.90428526e-01, ...,\n",
       "            1.96571227e-01, 5.29446116e-01, 2.10500967e-01]],\n",
       "\n",
       "          [[1.90926943e-01, 2.43089703e-01, 2.36122879e-01, ...,\n",
       "            1.80492131e-02, 3.57320467e-01, 2.78122907e-01],\n",
       "           [5.15415518e-01, 7.05098147e-01, 1.67991031e-01, ...,\n",
       "            2.76867653e-01, 3.00051008e-01, 5.38206958e-01],\n",
       "           [9.33760607e-01, 3.56695988e-01, 8.15341507e-02, ...,\n",
       "            3.65847742e-01, 4.87385294e-02, 9.94590536e-01],\n",
       "           ...,\n",
       "           [2.53277761e-01, 6.63456512e-02, 6.60030133e-01, ...,\n",
       "            1.64853864e-01, 8.66790407e-01, 4.29954874e-01],\n",
       "           [3.71754215e-01, 9.33238708e-01, 1.84461928e-01, ...,\n",
       "            6.17909682e-01, 5.13853595e-03, 5.30752092e-01],\n",
       "           [2.54470751e-01, 5.36597534e-01, 4.02490590e-01, ...,\n",
       "            5.90539430e-01, 9.61342206e-01, 1.42710573e-01]],\n",
       "\n",
       "          ...,\n",
       "\n",
       "          [[1.24130259e-01, 8.67181434e-01, 7.05632249e-01, ...,\n",
       "            9.45297305e-01, 1.46728167e-01, 2.57025792e-01],\n",
       "           [3.29037846e-01, 3.65236680e-01, 4.27585923e-01, ...,\n",
       "            1.40768191e-01, 7.25070537e-01, 8.32198573e-01],\n",
       "           [9.22173216e-01, 4.98211776e-01, 5.65561405e-01, ...,\n",
       "            5.60699191e-01, 5.28686152e-01, 8.22254946e-01],\n",
       "           ...,\n",
       "           [8.56952746e-02, 1.15775664e-01, 1.85129599e-01, ...,\n",
       "            1.58775670e-01, 3.08040816e-01, 2.49152616e-01],\n",
       "           [5.20480388e-01, 9.78027745e-01, 3.97361871e-02, ...,\n",
       "            6.29140952e-02, 7.06839788e-01, 7.20351558e-02],\n",
       "           [1.04776630e-01, 3.74007800e-01, 9.77403281e-01, ...,\n",
       "            7.29832565e-01, 1.04064519e-01, 7.02978745e-01]],\n",
       "\n",
       "          [[7.08758319e-01, 5.91183603e-01, 9.10320512e-01, ...,\n",
       "            8.42912729e-01, 5.45470763e-01, 3.32898945e-01],\n",
       "           [9.39558073e-01, 9.02278352e-01, 8.38362879e-01, ...,\n",
       "            7.24487022e-01, 4.27243644e-01, 5.31889229e-01],\n",
       "           [7.32262823e-01, 9.49364360e-01, 5.39493720e-01, ...,\n",
       "            8.79728396e-01, 6.43131896e-01, 4.02144112e-01],\n",
       "           ...,\n",
       "           [7.93013941e-01, 6.63659201e-01, 3.05680541e-01, ...,\n",
       "            4.65902476e-01, 8.95043080e-01, 9.38495737e-01],\n",
       "           [5.93857581e-01, 7.28144771e-02, 8.76106563e-01, ...,\n",
       "            1.52578614e-01, 4.56183433e-01, 3.28153272e-01],\n",
       "           [8.74190268e-01, 4.70395553e-02, 7.15148506e-01, ...,\n",
       "            3.37837375e-01, 1.02330114e-01, 8.98231871e-02]],\n",
       "\n",
       "          [[8.71147371e-01, 1.99844412e-01, 5.10508295e-01, ...,\n",
       "            8.81095304e-02, 4.70287899e-01, 9.33180918e-01],\n",
       "           [4.82914511e-01, 8.22597578e-01, 5.30197516e-01, ...,\n",
       "            1.38190924e-03, 1.80984623e-01, 2.56755898e-01],\n",
       "           [9.69429466e-01, 7.82881163e-01, 9.38887969e-01, ...,\n",
       "            3.31331541e-01, 3.54615339e-01, 3.55308889e-01],\n",
       "           ...,\n",
       "           [7.34068068e-01, 3.99116700e-01, 3.06977666e-01, ...,\n",
       "            5.14610958e-02, 8.78591928e-01, 4.06132587e-01],\n",
       "           [7.83381897e-01, 4.19965305e-01, 5.15405202e-01, ...,\n",
       "            4.83573957e-01, 4.81698829e-01, 9.84837392e-02],\n",
       "           [9.37280329e-01, 2.19484207e-01, 3.75671491e-01, ...,\n",
       "            1.10995010e-01, 8.14006269e-01, 4.07087919e-01]]],\n",
       "\n",
       "\n",
       "         [[[3.65495587e-01, 3.58577577e-01, 2.60163211e-01, ...,\n",
       "            3.00464442e-01, 5.49888956e-01, 3.98859939e-01],\n",
       "           [3.00396720e-01, 9.86849977e-01, 2.85883554e-01, ...,\n",
       "            6.13755907e-01, 8.10302042e-01, 1.09437916e-02],\n",
       "           [4.20664631e-01, 3.03904815e-01, 8.23407752e-01, ...,\n",
       "            9.59389728e-01, 4.51955278e-01, 8.16198441e-02],\n",
       "           ...,\n",
       "           [9.37582799e-01, 9.83918556e-01, 1.53339183e-01, ...,\n",
       "            8.84301212e-01, 6.34245669e-02, 4.24332569e-01],\n",
       "           [4.43527742e-01, 8.59278832e-01, 5.55897665e-01, ...,\n",
       "            3.84115815e-01, 3.19314047e-01, 7.94414571e-01],\n",
       "           [8.04233729e-01, 5.94300492e-01, 5.85785930e-01, ...,\n",
       "            4.23063801e-02, 7.29736588e-01, 9.16334442e-01]],\n",
       "\n",
       "          [[2.99705892e-01, 7.90624302e-02, 7.06342494e-01, ...,\n",
       "            1.32500439e-01, 9.56793031e-01, 1.07280314e-01],\n",
       "           [5.43674798e-01, 1.71043873e-01, 3.48794951e-01, ...,\n",
       "            4.03826854e-01, 2.45752119e-02, 1.79778869e-01],\n",
       "           [7.91546947e-01, 5.61469531e-01, 9.18021736e-01, ...,\n",
       "            9.52654264e-01, 6.02187289e-02, 5.15135483e-02],\n",
       "           ...,\n",
       "           [1.66133187e-01, 3.65802504e-01, 1.54192504e-01, ...,\n",
       "            2.03427355e-01, 5.21504134e-01, 9.99657006e-01],\n",
       "           [9.65326704e-02, 9.35308865e-01, 9.27536372e-01, ...,\n",
       "            2.78382907e-01, 4.87978418e-01, 3.45221942e-01],\n",
       "           [3.02489567e-01, 3.05914083e-01, 9.73900718e-01, ...,\n",
       "            5.73127373e-01, 4.64522125e-01, 5.15184410e-01]],\n",
       "\n",
       "          [[9.63196541e-01, 3.71246744e-01, 8.91149491e-01, ...,\n",
       "            6.59263325e-01, 2.19480125e-01, 1.60874352e-01],\n",
       "           [9.78938056e-01, 3.86362662e-01, 3.94165944e-01, ...,\n",
       "            2.16909374e-02, 8.01419944e-01, 1.23375835e-01],\n",
       "           [5.19147564e-01, 6.26562126e-01, 3.69667340e-01, ...,\n",
       "            8.47826117e-01, 6.30005920e-01, 5.58252648e-01],\n",
       "           ...,\n",
       "           [2.05470084e-01, 8.79186799e-01, 2.42640500e-01, ...,\n",
       "            2.85898349e-01, 9.25423593e-01, 4.97768808e-01],\n",
       "           [2.56092008e-01, 3.34058341e-01, 2.69068943e-01, ...,\n",
       "            8.70627584e-01, 9.94029015e-01, 3.91643804e-01],\n",
       "           [4.16144349e-01, 2.04877213e-01, 2.20281465e-02, ...,\n",
       "            4.49419920e-03, 2.49387902e-01, 2.75332115e-01]],\n",
       "\n",
       "          ...,\n",
       "\n",
       "          [[2.90235460e-01, 3.05060056e-01, 2.66825227e-01, ...,\n",
       "            2.68706769e-02, 8.03957130e-02, 1.35707457e-01],\n",
       "           [8.33112239e-01, 4.58303150e-02, 8.95115766e-01, ...,\n",
       "            8.81547989e-01, 2.18144838e-02, 5.67340984e-01],\n",
       "           [8.13638965e-01, 7.61065012e-01, 6.06167704e-01, ...,\n",
       "            4.37117763e-01, 7.09995999e-02, 1.59862877e-01],\n",
       "           ...,\n",
       "           [6.22179656e-01, 9.69980563e-01, 1.86475318e-01, ...,\n",
       "            3.65023568e-01, 1.88681185e-01, 3.98430675e-01],\n",
       "           [6.54036530e-01, 8.04641778e-01, 1.62907450e-01, ...,\n",
       "            6.87580193e-01, 4.00700140e-01, 4.09454970e-01],\n",
       "           [5.22694675e-02, 8.21198074e-01, 6.51528093e-01, ...,\n",
       "            4.43975979e-01, 5.09068831e-01, 3.59564567e-01]],\n",
       "\n",
       "          [[4.33640717e-01, 1.20960893e-01, 1.80966024e-01, ...,\n",
       "            7.53579870e-01, 5.15852936e-01, 6.94379188e-01],\n",
       "           [4.00940822e-01, 4.86592433e-01, 6.56421430e-01, ...,\n",
       "            5.64043421e-01, 6.89311392e-01, 2.05287072e-01],\n",
       "           [6.93864043e-01, 6.18023619e-01, 3.81418903e-01, ...,\n",
       "            7.25209739e-01, 5.57126600e-01, 8.50748701e-01],\n",
       "           ...,\n",
       "           [9.76445239e-01, 3.10025917e-01, 8.44690368e-01, ...,\n",
       "            2.78407165e-01, 9.03443622e-01, 5.00704680e-01],\n",
       "           [1.81943313e-01, 4.79695813e-01, 8.90700042e-01, ...,\n",
       "            1.83198607e-01, 2.29946243e-01, 5.71980750e-02],\n",
       "           [6.97604989e-01, 1.63682787e-01, 5.40088240e-01, ...,\n",
       "            6.55966297e-01, 2.73716775e-01, 1.21269665e-01]],\n",
       "\n",
       "          [[8.63703092e-01, 2.82993626e-01, 7.58109289e-01, ...,\n",
       "            7.32472367e-01, 4.75389912e-01, 4.23987115e-02],\n",
       "           [4.91225684e-02, 3.50131840e-01, 8.12661190e-01, ...,\n",
       "            7.75305657e-01, 2.25521773e-01, 4.09224110e-01],\n",
       "           [7.74472448e-01, 8.74907218e-02, 6.23013967e-03, ...,\n",
       "            5.67841763e-01, 6.60717342e-02, 5.27818923e-01],\n",
       "           ...,\n",
       "           [6.85050683e-01, 6.46922235e-01, 1.17327611e-01, ...,\n",
       "            8.46721615e-01, 8.56445814e-01, 5.45381435e-01],\n",
       "           [4.67507247e-01, 9.74534703e-01, 2.11839494e-01, ...,\n",
       "            3.86259699e-01, 7.86345697e-01, 3.60332159e-01],\n",
       "           [9.33822921e-01, 8.20777879e-01, 8.39181401e-01, ...,\n",
       "            2.88154654e-01, 3.06931356e-01, 9.72064307e-01]]],\n",
       "\n",
       "\n",
       "         [[[8.51036633e-01, 9.59631524e-01, 2.51208596e-01, ...,\n",
       "            3.39633026e-01, 4.80295534e-01, 7.26776204e-01],\n",
       "           [7.84503391e-01, 6.69055595e-01, 6.02042618e-01, ...,\n",
       "            8.00428526e-01, 5.32748047e-01, 6.09395301e-02],\n",
       "           [9.46514297e-01, 7.36064664e-01, 1.15584004e-01, ...,\n",
       "            6.89663458e-01, 6.79607112e-01, 7.07072894e-01],\n",
       "           ...,\n",
       "           [7.55482296e-01, 6.47982347e-01, 7.28270859e-01, ...,\n",
       "            6.00510232e-01, 4.60213457e-01, 2.02264026e-01],\n",
       "           [4.55423487e-01, 7.91271470e-01, 4.99379091e-01, ...,\n",
       "            8.10390062e-02, 4.08532557e-01, 8.56488523e-01],\n",
       "           [1.46174172e-01, 1.89492593e-01, 6.41389838e-02, ...,\n",
       "            9.30451936e-01, 4.84512970e-01, 7.84028187e-01]],\n",
       "\n",
       "          [[4.33205031e-01, 3.44261807e-01, 7.44080444e-01, ...,\n",
       "            6.37596228e-01, 5.04118537e-01, 5.53695168e-01],\n",
       "           [8.64459269e-01, 4.66844338e-01, 6.00985565e-02, ...,\n",
       "            5.75748545e-01, 7.81033709e-01, 4.10788178e-01],\n",
       "           [4.34507436e-01, 1.85971713e-01, 2.60000025e-01, ...,\n",
       "            4.36119124e-01, 9.03229904e-01, 8.67195923e-01],\n",
       "           ...,\n",
       "           [3.50749772e-01, 2.81643853e-01, 4.51973089e-03, ...,\n",
       "            9.66809164e-01, 2.56318187e-01, 6.12519611e-01],\n",
       "           [5.05550536e-01, 1.05403845e-01, 1.49685355e-01, ...,\n",
       "            3.69451352e-02, 6.81746573e-02, 9.50942958e-01],\n",
       "           [4.36443620e-01, 2.99527130e-02, 6.64475210e-01, ...,\n",
       "            8.06028122e-01, 9.16663614e-01, 6.98748618e-01]],\n",
       "\n",
       "          [[8.78795091e-01, 4.04691761e-01, 9.06381964e-01, ...,\n",
       "            6.37317133e-01, 3.18719944e-01, 5.63050081e-01],\n",
       "           [4.86309499e-01, 3.95298450e-01, 7.23386241e-01, ...,\n",
       "            1.32485132e-01, 2.56472070e-02, 1.31864037e-01],\n",
       "           [3.49326311e-01, 1.54934914e-01, 5.21003706e-01, ...,\n",
       "            7.77183153e-01, 2.31363032e-01, 1.58152360e-01],\n",
       "           ...,\n",
       "           [8.05952491e-01, 2.17627825e-01, 7.97339444e-01, ...,\n",
       "            3.21651781e-01, 7.14853807e-01, 8.15829261e-01],\n",
       "           [1.39216689e-01, 4.21405371e-01, 6.86779326e-01, ...,\n",
       "            4.46557335e-01, 9.23589977e-01, 7.05072526e-02],\n",
       "           [6.79689313e-01, 6.85032586e-01, 2.77841993e-01, ...,\n",
       "            4.26005496e-01, 9.62106122e-02, 7.78855050e-01]],\n",
       "\n",
       "          ...,\n",
       "\n",
       "          [[3.26807375e-01, 4.54326962e-01, 3.80739679e-01, ...,\n",
       "            6.81580879e-01, 8.93327151e-01, 9.44001671e-01],\n",
       "           [2.01690980e-02, 3.00623049e-01, 8.36791922e-01, ...,\n",
       "            1.49858463e-01, 8.14483871e-01, 8.64436503e-01],\n",
       "           [6.17253011e-01, 7.02497510e-01, 8.32157013e-02, ...,\n",
       "            9.57530782e-01, 6.16784911e-01, 5.21142791e-01],\n",
       "           ...,\n",
       "           [6.17395741e-01, 3.81206956e-01, 6.75315797e-01, ...,\n",
       "            4.28970598e-01, 1.43018529e-01, 9.85186441e-02],\n",
       "           [8.28479254e-01, 5.07289068e-02, 6.17172411e-01, ...,\n",
       "            6.83596650e-02, 7.99710173e-01, 1.98166794e-01],\n",
       "           [1.44165040e-01, 2.81867866e-01, 9.33314093e-01, ...,\n",
       "            6.44555825e-01, 3.71886218e-01, 6.42642672e-01]],\n",
       "\n",
       "          [[4.58076093e-01, 5.07597849e-01, 1.13155004e-01, ...,\n",
       "            2.49029883e-01, 4.37404487e-01, 7.45030136e-01],\n",
       "           [7.31357893e-01, 2.71183050e-03, 2.51890815e-01, ...,\n",
       "            3.77550306e-01, 2.42981776e-01, 6.55622547e-01],\n",
       "           [1.64531775e-01, 4.30269320e-01, 8.07919621e-01, ...,\n",
       "            7.24861684e-01, 8.76995837e-01, 7.67151910e-01],\n",
       "           ...,\n",
       "           [3.08670296e-01, 6.47392506e-01, 5.81359758e-01, ...,\n",
       "            6.47605049e-01, 9.31103833e-01, 3.96898212e-02],\n",
       "           [5.54029524e-01, 3.78687624e-01, 9.93129976e-01, ...,\n",
       "            2.72870218e-01, 5.45659703e-01, 4.66583147e-01],\n",
       "           [2.65502971e-01, 8.60420789e-01, 1.37257564e-01, ...,\n",
       "            1.33830421e-01, 3.73344513e-01, 7.46972541e-01]],\n",
       "\n",
       "          [[5.58562110e-01, 1.70027660e-01, 8.18984628e-01, ...,\n",
       "            4.02268335e-01, 5.30969874e-01, 8.45849057e-02],\n",
       "           [7.00852585e-01, 7.00737529e-01, 6.72212185e-01, ...,\n",
       "            7.27494365e-01, 1.79374268e-01, 1.96794403e-01],\n",
       "           [6.61988618e-01, 1.76042859e-02, 2.57137208e-01, ...,\n",
       "            4.96450428e-01, 8.54693079e-01, 4.08719940e-01],\n",
       "           ...,\n",
       "           [6.44914140e-01, 6.49142693e-02, 7.01597541e-01, ...,\n",
       "            4.64782681e-01, 6.94864342e-01, 7.84700901e-01],\n",
       "           [3.14805001e-01, 9.30412925e-01, 8.61357324e-01, ...,\n",
       "            3.02684604e-01, 3.23217571e-01, 4.82300826e-01],\n",
       "           [7.42878752e-02, 4.34176122e-01, 9.69566995e-02, ...,\n",
       "            2.70409717e-01, 3.01254027e-01, 7.62662024e-01]]],\n",
       "\n",
       "\n",
       "         [[[6.35722886e-01, 5.70323754e-01, 7.59916299e-02, ...,\n",
       "            6.43096967e-01, 8.12719021e-01, 8.75122173e-01],\n",
       "           [8.74376635e-01, 5.13587608e-02, 8.29598176e-01, ...,\n",
       "            2.05551000e-01, 1.42057307e-01, 2.76207027e-01],\n",
       "           [8.98617471e-01, 4.59688640e-01, 3.65775420e-02, ...,\n",
       "            1.75125509e-01, 6.13449600e-01, 5.16415496e-01],\n",
       "           ...,\n",
       "           [4.79942177e-01, 7.45141878e-01, 5.32276311e-01, ...,\n",
       "            1.17975140e-01, 4.29695644e-01, 8.95179698e-01],\n",
       "           [7.62834608e-03, 6.04901951e-01, 4.64473063e-01, ...,\n",
       "            8.15743597e-01, 1.08869034e-01, 6.47176893e-01],\n",
       "           [5.48462694e-01, 3.79806898e-02, 4.14891382e-01, ...,\n",
       "            5.98065946e-01, 3.29972480e-01, 2.47610538e-01]],\n",
       "\n",
       "          [[7.62527269e-01, 9.96737864e-01, 7.62526331e-01, ...,\n",
       "            2.08405541e-01, 8.47830619e-01, 8.52124361e-01],\n",
       "           [9.35957077e-01, 7.76939912e-01, 4.83513853e-01, ...,\n",
       "            8.96426861e-01, 2.38506007e-01, 7.69360016e-02],\n",
       "           [8.17872590e-01, 8.74467742e-01, 5.80274995e-01, ...,\n",
       "            8.54319634e-01, 9.54855764e-01, 7.97200197e-01],\n",
       "           ...,\n",
       "           [8.69605182e-01, 7.97944749e-01, 8.98278616e-01, ...,\n",
       "            2.85293692e-01, 3.36884229e-01, 6.08737621e-01],\n",
       "           [6.13959568e-01, 5.22774230e-02, 3.66737898e-01, ...,\n",
       "            6.22772782e-01, 7.17606104e-01, 2.81123174e-01],\n",
       "           [8.27999206e-01, 4.19510888e-01, 9.57913339e-01, ...,\n",
       "            9.49660894e-01, 3.78648065e-02, 7.35824674e-01]],\n",
       "\n",
       "          [[4.44197157e-01, 7.16982110e-01, 5.11778678e-01, ...,\n",
       "            1.96466827e-01, 5.77325613e-01, 9.36740948e-01],\n",
       "           [8.12532743e-01, 7.94188790e-01, 8.22796928e-01, ...,\n",
       "            1.55292494e-01, 6.90473518e-01, 5.72453099e-01],\n",
       "           [8.00189356e-01, 3.88371928e-03, 8.34678722e-01, ...,\n",
       "            5.70406427e-01, 1.14402710e-01, 2.50272972e-01],\n",
       "           ...,\n",
       "           [6.34519642e-01, 6.98933996e-01, 2.14179603e-01, ...,\n",
       "            5.36527699e-02, 1.92908911e-01, 9.12454035e-01],\n",
       "           [8.70401834e-01, 1.82625133e-01, 8.56103054e-01, ...,\n",
       "            7.77923463e-02, 4.93687912e-01, 3.45917280e-01],\n",
       "           [2.25021525e-01, 4.73935801e-01, 9.95270887e-01, ...,\n",
       "            5.38066495e-01, 9.47143406e-01, 2.21651985e-01]],\n",
       "\n",
       "          ...,\n",
       "\n",
       "          [[7.25014257e-01, 7.66714342e-01, 2.35249178e-01, ...,\n",
       "            8.13410009e-01, 4.67551795e-01, 7.20024829e-01],\n",
       "           [7.73712548e-01, 2.30068654e-01, 3.50222415e-01, ...,\n",
       "            4.90086692e-01, 8.05064666e-01, 2.95331596e-01],\n",
       "           [6.39331401e-01, 9.66852029e-01, 6.04110240e-01, ...,\n",
       "            2.38376767e-01, 3.87189790e-01, 8.42656087e-02],\n",
       "           ...,\n",
       "           [7.50347155e-01, 1.94030172e-02, 4.87631335e-01, ...,\n",
       "            1.28689328e-02, 9.23372899e-01, 5.68771329e-01],\n",
       "           [7.20869091e-01, 6.82915065e-01, 3.67933352e-01, ...,\n",
       "            2.70668047e-01, 2.68596841e-02, 1.95271109e-01],\n",
       "           [4.14182971e-01, 8.65097587e-01, 1.32647101e-01, ...,\n",
       "            1.16084020e-01, 3.04913928e-01, 3.20568293e-01]],\n",
       "\n",
       "          [[9.52322596e-01, 4.67928682e-01, 2.58941770e-01, ...,\n",
       "            6.20693038e-01, 8.89803144e-01, 8.62036866e-01],\n",
       "           [5.39270298e-01, 9.69893094e-01, 1.03346123e-01, ...,\n",
       "            7.89158089e-01, 3.37049495e-01, 8.31239365e-01],\n",
       "           [7.47001023e-01, 8.81793313e-01, 2.39790797e-02, ...,\n",
       "            6.43252110e-01, 4.02828036e-01, 4.54298774e-01],\n",
       "           ...,\n",
       "           [2.46037408e-01, 2.83978422e-01, 9.77743179e-01, ...,\n",
       "            9.97924190e-01, 2.23244179e-01, 5.56567315e-01],\n",
       "           [5.96659171e-01, 6.04921253e-01, 6.50530230e-01, ...,\n",
       "            1.36507062e-01, 9.90045036e-01, 1.09375005e-01],\n",
       "           [6.88700850e-01, 2.01036125e-01, 1.76829497e-01, ...,\n",
       "            4.36887877e-01, 8.31398408e-01, 1.26826037e-01]],\n",
       "\n",
       "          [[5.02952546e-01, 9.39129177e-01, 6.88517380e-01, ...,\n",
       "            2.96204180e-01, 4.22529599e-01, 2.47635561e-01],\n",
       "           [2.95563934e-01, 4.25485312e-01, 1.43741860e-02, ...,\n",
       "            7.29805808e-01, 4.46240929e-01, 8.99413258e-01],\n",
       "           [5.05305504e-01, 7.42554383e-01, 4.69093855e-01, ...,\n",
       "            7.81296138e-01, 9.08143186e-01, 8.02211843e-01],\n",
       "           ...,\n",
       "           [3.67933772e-01, 5.03834792e-02, 5.93229173e-01, ...,\n",
       "            4.84948389e-01, 7.84010057e-01, 7.32675693e-01],\n",
       "           [8.80058204e-01, 9.25968831e-01, 6.69017827e-01, ...,\n",
       "            1.41219259e-01, 6.87656267e-01, 6.02544791e-01],\n",
       "           [8.96937195e-01, 8.73233868e-01, 3.20439809e-02, ...,\n",
       "            5.88894275e-01, 4.46116708e-01, 6.93291563e-01]]]],\n",
       "\n",
       "\n",
       "\n",
       "        [[[[4.42142214e-01, 5.43275987e-01, 2.89664557e-01, ...,\n",
       "            4.84817301e-01, 5.33710232e-01, 2.37339704e-01],\n",
       "           [2.87059246e-01, 8.17585534e-01, 2.84370078e-01, ...,\n",
       "            3.72493941e-01, 2.72177199e-01, 9.64835498e-01],\n",
       "           [9.92837013e-01, 8.97749194e-01, 8.62605871e-01, ...,\n",
       "            2.42831494e-01, 8.36615551e-01, 9.09748232e-01],\n",
       "           ...,\n",
       "           [6.67014391e-01, 3.51602337e-01, 3.28605429e-01, ...,\n",
       "            9.23773052e-01, 9.89446220e-01, 7.76836253e-01],\n",
       "           [7.09897074e-01, 4.19998484e-01, 7.89551388e-01, ...,\n",
       "            1.13080929e-01, 1.34389808e-01, 4.39680560e-02],\n",
       "           [4.30148460e-01, 7.11149788e-01, 6.85291303e-01, ...,\n",
       "            7.16790210e-01, 4.27366472e-01, 3.29805945e-01]],\n",
       "\n",
       "          [[9.39972810e-01, 4.25342649e-01, 1.59019032e-01, ...,\n",
       "            5.02507940e-01, 5.22022196e-01, 5.65055783e-01],\n",
       "           [4.87652337e-01, 6.47104400e-01, 2.04049627e-01, ...,\n",
       "            6.35251459e-01, 3.64930961e-02, 6.88924561e-01],\n",
       "           [7.67757306e-01, 3.61431028e-03, 5.33319551e-01, ...,\n",
       "            1.04631732e-01, 1.37532645e-01, 1.26954455e-01],\n",
       "           ...,\n",
       "           [8.39007306e-02, 5.69778656e-01, 9.25449971e-01, ...,\n",
       "            5.24264689e-01, 3.58656203e-01, 3.68744052e-01],\n",
       "           [9.45910960e-01, 5.98922880e-01, 6.10991293e-01, ...,\n",
       "            4.81692698e-01, 2.69290851e-01, 5.71584171e-01],\n",
       "           [1.31310619e-01, 1.32674847e-01, 8.01160277e-01, ...,\n",
       "            2.98353209e-01, 4.69164186e-01, 9.04756336e-01]],\n",
       "\n",
       "          [[3.96039990e-01, 5.93847619e-01, 6.97460080e-01, ...,\n",
       "            2.09677697e-01, 4.17925248e-01, 3.31714558e-01],\n",
       "           [4.42330225e-01, 5.46628846e-01, 8.53357884e-01, ...,\n",
       "            7.82122861e-02, 6.18682967e-01, 4.03575338e-01],\n",
       "           [8.28958710e-01, 7.29222645e-01, 9.67514569e-01, ...,\n",
       "            8.03557619e-01, 8.08857298e-01, 1.84523573e-02],\n",
       "           ...,\n",
       "           [5.30526734e-01, 7.74990506e-01, 7.69680726e-01, ...,\n",
       "            2.71595818e-01, 4.70160570e-01, 8.35937094e-01],\n",
       "           [9.39585709e-01, 6.18581385e-01, 9.92560967e-01, ...,\n",
       "            2.33226522e-01, 4.24277194e-01, 2.22064122e-01],\n",
       "           [5.54524995e-01, 1.01074342e-01, 8.61144354e-01, ...,\n",
       "            1.65666358e-01, 4.83599133e-01, 9.72385812e-02]],\n",
       "\n",
       "          ...,\n",
       "\n",
       "          [[7.61135677e-01, 1.18693918e-01, 4.81154372e-01, ...,\n",
       "            6.50440530e-01, 7.37284896e-03, 6.38186399e-01],\n",
       "           [1.38083150e-01, 2.19962276e-01, 4.29557200e-01, ...,\n",
       "            6.10649958e-01, 2.24438714e-01, 3.20670375e-01],\n",
       "           [8.19646435e-02, 4.71385233e-01, 6.15295640e-01, ...,\n",
       "            9.56076965e-01, 4.25674258e-01, 7.50460622e-01],\n",
       "           ...,\n",
       "           [1.01775706e-01, 6.27933615e-01, 4.92411715e-01, ...,\n",
       "            9.25513148e-01, 1.45930168e-02, 7.34893489e-01],\n",
       "           [5.99821565e-01, 9.24450873e-01, 3.88809373e-01, ...,\n",
       "            1.93219888e-01, 4.31561505e-01, 7.40389323e-01],\n",
       "           [9.26925973e-02, 1.70752005e-01, 2.12469164e-01, ...,\n",
       "            9.80849583e-01, 5.14468529e-03, 7.49284033e-01]],\n",
       "\n",
       "          [[3.69080380e-01, 4.30221022e-01, 3.74339589e-01, ...,\n",
       "            6.18495243e-01, 3.84260062e-01, 1.64018839e-01],\n",
       "           [1.66837604e-01, 7.98592417e-01, 7.55465121e-01, ...,\n",
       "            8.36547344e-01, 9.19708496e-01, 5.69040980e-01],\n",
       "           [9.03763752e-01, 3.89794444e-01, 1.40201006e-01, ...,\n",
       "            6.43264829e-01, 7.27979465e-01, 2.45110699e-01],\n",
       "           ...,\n",
       "           [9.92041735e-01, 4.21637590e-01, 4.98724146e-02, ...,\n",
       "            4.85475081e-01, 5.25644505e-03, 1.28189492e-01],\n",
       "           [3.12065694e-01, 1.74811443e-01, 4.75972022e-01, ...,\n",
       "            6.07485144e-01, 1.06472609e-01, 5.70420070e-01],\n",
       "           [5.68720262e-01, 7.39036612e-01, 9.01378613e-01, ...,\n",
       "            9.79333236e-01, 5.57566994e-01, 1.16170179e-01]],\n",
       "\n",
       "          [[3.30398781e-01, 7.49140697e-01, 7.49887060e-01, ...,\n",
       "            3.37344092e-01, 2.04508844e-01, 8.62007143e-01],\n",
       "           [1.81126432e-01, 6.49831954e-01, 8.75363955e-01, ...,\n",
       "            3.02121346e-01, 7.26084716e-01, 6.39169594e-01],\n",
       "           [1.97810275e-01, 2.12889124e-01, 5.39626095e-01, ...,\n",
       "            8.40709108e-01, 7.01310275e-01, 8.29750787e-01],\n",
       "           ...,\n",
       "           [8.82200365e-01, 1.20021084e-01, 2.48396891e-01, ...,\n",
       "            1.42990347e-01, 8.21358713e-01, 4.49544903e-01],\n",
       "           [5.41917971e-01, 7.05889951e-01, 6.70477303e-01, ...,\n",
       "            8.45818563e-01, 5.07600928e-01, 4.15535913e-01],\n",
       "           [1.04080052e-01, 8.32176755e-01, 7.85562396e-01, ...,\n",
       "            2.07711749e-01, 6.44593021e-01, 9.62816202e-01]]],\n",
       "\n",
       "\n",
       "         [[[3.55250720e-01, 4.47026280e-01, 9.89240916e-01, ...,\n",
       "            4.98251455e-01, 3.75196537e-01, 6.65475608e-01],\n",
       "           [6.28880992e-02, 1.42159831e-02, 2.35096523e-01, ...,\n",
       "            2.81084045e-01, 9.96139303e-02, 1.77969147e-02],\n",
       "           [5.97917144e-02, 5.42609338e-02, 3.69658668e-02, ...,\n",
       "            2.34823121e-01, 1.88082713e-02, 6.05963718e-01],\n",
       "           ...,\n",
       "           [8.40762872e-01, 7.09270031e-01, 3.62192721e-01, ...,\n",
       "            6.88482700e-02, 3.45928618e-01, 1.20948834e-02],\n",
       "           [8.05796466e-01, 1.79541381e-01, 9.80316577e-01, ...,\n",
       "            7.29054222e-01, 3.86048300e-02, 6.50485110e-01],\n",
       "           [8.14247579e-01, 5.86228294e-01, 8.42541230e-01, ...,\n",
       "            1.77420971e-01, 1.38158206e-01, 1.72044154e-01]],\n",
       "\n",
       "          [[1.80238613e-01, 2.96487540e-01, 1.37580112e-01, ...,\n",
       "            1.29607320e-01, 8.84543017e-01, 4.73145748e-01],\n",
       "           [3.20966484e-01, 8.21910919e-01, 4.61319873e-01, ...,\n",
       "            9.71758972e-02, 4.92166015e-01, 6.50223424e-01],\n",
       "           [3.27166061e-01, 3.28958347e-01, 5.81836013e-01, ...,\n",
       "            2.04771860e-01, 2.14427456e-01, 5.43918517e-01],\n",
       "           ...,\n",
       "           [8.58046742e-02, 6.35457879e-01, 7.91861672e-01, ...,\n",
       "            4.49417663e-01, 9.07320323e-01, 9.88658262e-01],\n",
       "           [5.70420546e-01, 2.97278687e-01, 5.64839407e-01, ...,\n",
       "            2.96448829e-01, 1.48303950e-01, 6.65962394e-01],\n",
       "           [8.02097642e-01, 4.44444226e-01, 8.86499749e-01, ...,\n",
       "            5.61627246e-01, 7.43884362e-01, 1.39924142e-01]],\n",
       "\n",
       "          [[3.89295617e-01, 2.92818923e-01, 2.49754259e-01, ...,\n",
       "            7.91147020e-01, 7.22536842e-01, 8.82458859e-01],\n",
       "           [4.53330979e-01, 1.45335677e-01, 9.20555591e-01, ...,\n",
       "            3.99449414e-01, 9.05168537e-01, 2.61776274e-01],\n",
       "           [9.86987598e-01, 9.90824044e-01, 2.33056649e-01, ...,\n",
       "            1.92707308e-01, 1.80556941e-01, 1.64153068e-01],\n",
       "           ...,\n",
       "           [5.72791709e-01, 8.07825696e-01, 3.23943907e-01, ...,\n",
       "            6.39659562e-01, 8.44376913e-01, 1.81137329e-01],\n",
       "           [7.82131473e-01, 1.10062065e-01, 5.45091217e-01, ...,\n",
       "            8.88731266e-01, 9.63755177e-01, 2.10374567e-01],\n",
       "           [5.34233270e-01, 1.71612681e-01, 3.12311507e-01, ...,\n",
       "            2.87444133e-01, 1.01424443e-01, 3.70644284e-01]],\n",
       "\n",
       "          ...,\n",
       "\n",
       "          [[7.73910356e-01, 1.00191946e-01, 5.98279107e-01, ...,\n",
       "            9.42643576e-01, 7.82021937e-01, 4.73628150e-01],\n",
       "           [9.46752227e-01, 2.36391004e-01, 4.28756259e-01, ...,\n",
       "            4.49072044e-01, 6.45172059e-01, 6.85246359e-02],\n",
       "           [2.21948646e-01, 3.64971273e-01, 7.64789019e-01, ...,\n",
       "            6.13808999e-01, 9.15520092e-01, 8.41817548e-01],\n",
       "           ...,\n",
       "           [2.50458946e-01, 3.99476987e-01, 4.57900725e-01, ...,\n",
       "            6.54486600e-01, 6.05753492e-01, 4.37316025e-01],\n",
       "           [6.31145528e-01, 9.11778385e-01, 7.81123472e-01, ...,\n",
       "            4.76088805e-01, 3.72594998e-01, 6.79245438e-01],\n",
       "           [7.48450425e-01, 8.11879520e-02, 3.59211063e-01, ...,\n",
       "            7.70386087e-01, 5.68976221e-01, 1.22551792e-01]],\n",
       "\n",
       "          [[7.88592378e-02, 5.16198067e-01, 6.15383830e-01, ...,\n",
       "            8.59033420e-01, 4.46426618e-01, 4.18754232e-01],\n",
       "           [6.73989993e-01, 9.37149522e-01, 4.57092857e-01, ...,\n",
       "            4.77958484e-01, 4.89679660e-01, 7.12198561e-02],\n",
       "           [5.71056879e-01, 3.60218536e-01, 4.01295540e-02, ...,\n",
       "            2.72672585e-01, 1.61045739e-01, 1.39187595e-01],\n",
       "           ...,\n",
       "           [9.10907389e-01, 2.33223983e-01, 5.30143867e-01, ...,\n",
       "            8.11944803e-01, 9.04469334e-01, 7.48087503e-01],\n",
       "           [1.97304985e-01, 6.47986544e-01, 5.94398324e-01, ...,\n",
       "            8.76929026e-01, 6.85344424e-01, 5.90112243e-01],\n",
       "           [6.03053122e-01, 8.82908710e-01, 9.60509176e-01, ...,\n",
       "            9.07928913e-02, 3.51751743e-01, 6.65194616e-01]],\n",
       "\n",
       "          [[9.18248916e-01, 1.16442714e-01, 9.72336924e-01, ...,\n",
       "            1.74268123e-01, 8.61934294e-01, 8.37790462e-01],\n",
       "           [6.31340628e-01, 3.64370907e-01, 7.56556323e-01, ...,\n",
       "            1.00217090e-01, 4.68975168e-02, 3.40420855e-01],\n",
       "           [8.59802356e-01, 1.54991872e-01, 3.83139920e-01, ...,\n",
       "            8.56304201e-01, 5.93358418e-01, 9.92759198e-01],\n",
       "           ...,\n",
       "           [2.11895659e-01, 9.68612428e-01, 7.78453254e-01, ...,\n",
       "            3.05194248e-01, 3.11448995e-01, 7.14864114e-01],\n",
       "           [7.85601498e-01, 9.94461901e-01, 7.06589823e-01, ...,\n",
       "            5.81893652e-01, 2.33875062e-01, 4.87803153e-01],\n",
       "           [2.98399865e-01, 4.93209676e-01, 5.76171886e-01, ...,\n",
       "            3.73756198e-01, 3.40201789e-01, 4.33562654e-01]]],\n",
       "\n",
       "\n",
       "         [[[6.14917422e-01, 4.54201606e-01, 6.41902015e-02, ...,\n",
       "            4.62401782e-01, 6.88739814e-01, 1.95394604e-01],\n",
       "           [2.16326568e-01, 9.45041110e-01, 8.64317404e-01, ...,\n",
       "            1.93011226e-01, 7.11836300e-01, 4.82839135e-01],\n",
       "           [2.42654086e-01, 3.51917816e-01, 1.02969391e-01, ...,\n",
       "            1.41857754e-01, 5.52392458e-01, 7.70258491e-01],\n",
       "           ...,\n",
       "           [3.11804510e-01, 2.54293462e-01, 5.25873096e-01, ...,\n",
       "            3.02437159e-01, 4.83861833e-01, 6.33910438e-01],\n",
       "           [3.39020615e-01, 9.48501280e-01, 8.40787042e-02, ...,\n",
       "            3.34309185e-01, 5.50908774e-01, 3.00030489e-01],\n",
       "           [8.02630233e-01, 6.07757593e-01, 5.11517564e-01, ...,\n",
       "            4.58821095e-01, 3.13495469e-01, 9.85905684e-01]],\n",
       "\n",
       "          [[3.58708652e-02, 3.10716661e-01, 2.41654079e-01, ...,\n",
       "            9.25627424e-02, 9.88112228e-01, 4.98576181e-01],\n",
       "           [9.42782934e-02, 2.10077827e-02, 7.63802889e-01, ...,\n",
       "            1.82890095e-01, 2.71174010e-01, 4.15064064e-01],\n",
       "           [7.70118098e-01, 1.40882223e-01, 7.61346842e-01, ...,\n",
       "            9.96610643e-01, 8.33361863e-01, 3.84223387e-01],\n",
       "           ...,\n",
       "           [9.89008393e-01, 8.30979484e-01, 8.50161033e-01, ...,\n",
       "            6.97147847e-01, 5.59724796e-02, 4.49954459e-01],\n",
       "           [5.07134547e-01, 8.18349492e-01, 1.19485297e-01, ...,\n",
       "            8.41362836e-01, 1.68916912e-01, 3.70568621e-01],\n",
       "           [4.61502839e-01, 5.35222737e-01, 8.07280448e-01, ...,\n",
       "            8.02954952e-01, 3.78530085e-01, 2.91198772e-01]],\n",
       "\n",
       "          [[4.60933094e-01, 4.62421205e-01, 4.87464374e-01, ...,\n",
       "            9.98095952e-01, 3.38864663e-01, 3.70366658e-01],\n",
       "           [7.90581791e-01, 5.04210251e-01, 7.70645109e-01, ...,\n",
       "            5.68002656e-01, 4.34426297e-01, 7.81026951e-01],\n",
       "           [8.28141545e-01, 1.04673241e-01, 1.26117211e-01, ...,\n",
       "            1.48138910e-01, 5.32601464e-01, 5.05442548e-01],\n",
       "           ...,\n",
       "           [9.88966624e-01, 9.34483879e-01, 8.37334560e-01, ...,\n",
       "            2.53213040e-01, 9.43722327e-01, 1.56186433e-01],\n",
       "           [8.70092112e-01, 6.26474313e-01, 9.52346844e-01, ...,\n",
       "            4.65079907e-01, 3.58901427e-01, 4.26929860e-01],\n",
       "           [5.29779614e-01, 5.17674684e-01, 2.60168669e-01, ...,\n",
       "            1.47832624e-01, 7.23645530e-01, 9.53581033e-01]],\n",
       "\n",
       "          ...,\n",
       "\n",
       "          [[6.26331206e-02, 2.65006650e-01, 8.03800751e-01, ...,\n",
       "            8.23758764e-01, 2.80580928e-03, 8.24227571e-03],\n",
       "           [8.41887030e-01, 4.75952736e-01, 8.58751194e-01, ...,\n",
       "            3.43164409e-01, 2.58845647e-01, 8.30021325e-01],\n",
       "           [2.32258656e-01, 4.22525432e-01, 9.59489580e-01, ...,\n",
       "            8.08734053e-01, 5.47072874e-02, 3.11849599e-01],\n",
       "           ...,\n",
       "           [9.16171134e-02, 3.76287885e-01, 3.40258326e-01, ...,\n",
       "            6.39725591e-01, 6.50716633e-01, 7.24506425e-01],\n",
       "           [6.32042423e-01, 5.41060548e-01, 4.35551798e-01, ...,\n",
       "            7.22571949e-01, 8.91422889e-01, 6.12787344e-01],\n",
       "           [9.97348151e-01, 6.72792655e-02, 4.77643256e-01, ...,\n",
       "            7.29349574e-01, 8.52189897e-01, 9.66941987e-01]],\n",
       "\n",
       "          [[6.84910009e-01, 8.55345633e-01, 2.39515535e-01, ...,\n",
       "            7.19280059e-01, 5.11994531e-01, 6.84136333e-01],\n",
       "           [6.53742659e-01, 2.59252272e-01, 2.37378099e-01, ...,\n",
       "            7.23812389e-01, 9.72852907e-01, 3.28272691e-01],\n",
       "           [5.81357931e-01, 2.49888059e-01, 3.43002752e-01, ...,\n",
       "            1.32108727e-02, 8.88225044e-01, 6.11127000e-01],\n",
       "           ...,\n",
       "           [4.36059278e-01, 6.15624267e-01, 9.31379550e-01, ...,\n",
       "            4.37199414e-01, 8.41486998e-01, 2.16865200e-01],\n",
       "           [9.85500441e-01, 5.31462619e-01, 3.63978936e-01, ...,\n",
       "            1.06989130e-01, 2.50136955e-01, 2.06257162e-01],\n",
       "           [5.45820912e-01, 1.53158378e-01, 6.26189748e-01, ...,\n",
       "            3.24049625e-01, 1.17762387e-02, 6.79893287e-01]],\n",
       "\n",
       "          [[8.97954800e-01, 2.50098327e-01, 2.12677368e-01, ...,\n",
       "            2.86705247e-01, 5.26007466e-01, 5.54648846e-01],\n",
       "           [6.67216185e-01, 7.48752126e-01, 2.81460423e-01, ...,\n",
       "            2.27742520e-01, 8.84944851e-01, 2.75238545e-01],\n",
       "           [1.21177960e-01, 7.51418161e-02, 9.26030192e-01, ...,\n",
       "            8.30441044e-02, 8.61387365e-01, 1.33979966e-01],\n",
       "           ...,\n",
       "           [9.50962260e-01, 2.73912135e-01, 6.25436390e-01, ...,\n",
       "            1.86136839e-01, 1.10409375e-01, 3.00649714e-01],\n",
       "           [9.73866982e-01, 7.68838069e-01, 3.84539256e-02, ...,\n",
       "            7.54681105e-01, 3.31454201e-01, 4.45752537e-01],\n",
       "           [5.05255891e-01, 1.74918402e-01, 3.13846409e-01, ...,\n",
       "            1.30885100e-02, 9.34915645e-01, 9.10959047e-01]]],\n",
       "\n",
       "\n",
       "         [[[9.94115342e-01, 2.28207097e-01, 4.83844534e-01, ...,\n",
       "            2.32717463e-01, 6.92454118e-01, 3.69652337e-01],\n",
       "           [2.29621067e-01, 7.29142903e-01, 5.47069265e-01, ...,\n",
       "            2.41895449e-01, 1.53387943e-01, 6.26883303e-01],\n",
       "           [7.62676757e-01, 8.04458342e-01, 1.32641983e-01, ...,\n",
       "            3.53953147e-01, 1.22145371e-01, 7.16078968e-01],\n",
       "           ...,\n",
       "           [1.03531803e-01, 3.84332561e-01, 8.75469461e-01, ...,\n",
       "            7.78176388e-01, 1.67604685e-01, 1.33074489e-01],\n",
       "           [8.03621714e-01, 2.08982120e-01, 5.77489280e-01, ...,\n",
       "            9.66885706e-01, 3.36044456e-02, 5.00095479e-01],\n",
       "           [3.26135642e-01, 7.40332870e-01, 7.54638732e-01, ...,\n",
       "            9.93118710e-01, 7.16906705e-01, 8.13883962e-01]],\n",
       "\n",
       "          [[6.38221877e-01, 2.73750004e-01, 2.42542756e-01, ...,\n",
       "            7.23229691e-02, 8.72233569e-01, 7.23571525e-01],\n",
       "           [5.25137677e-01, 7.84740103e-02, 6.35441660e-01, ...,\n",
       "            6.64617802e-01, 1.40562513e-01, 2.81437140e-01],\n",
       "           [2.81118342e-02, 4.73508290e-01, 8.03692887e-01, ...,\n",
       "            4.93764948e-01, 2.36895949e-01, 2.77027228e-01],\n",
       "           ...,\n",
       "           [1.85091935e-01, 7.10969073e-01, 8.25850766e-01, ...,\n",
       "            8.28875557e-01, 8.29919061e-01, 5.11569716e-01],\n",
       "           [3.65032011e-01, 6.69423167e-01, 2.31948867e-01, ...,\n",
       "            6.75770055e-01, 8.34804083e-01, 8.76777735e-02],\n",
       "           [4.30701220e-01, 3.53063080e-01, 3.83053654e-01, ...,\n",
       "            6.75012671e-01, 5.49182939e-01, 5.11454045e-02]],\n",
       "\n",
       "          [[2.33216874e-02, 1.61322750e-01, 8.27992373e-01, ...,\n",
       "            1.02840694e-01, 7.16726408e-01, 5.32948155e-01],\n",
       "           [5.16336000e-01, 2.00158276e-01, 8.36505183e-01, ...,\n",
       "            3.89833349e-01, 6.15428137e-01, 6.26115554e-01],\n",
       "           [4.17206994e-01, 1.09305946e-01, 2.51843637e-01, ...,\n",
       "            5.21290525e-01, 5.19755396e-01, 3.91149969e-02],\n",
       "           ...,\n",
       "           [1.97531611e-01, 6.41621043e-01, 6.12671339e-01, ...,\n",
       "            1.45921517e-01, 5.83524287e-01, 4.83574406e-01],\n",
       "           [9.89867858e-01, 4.54501843e-01, 7.97604052e-01, ...,\n",
       "            1.69717230e-01, 2.49010641e-01, 2.65146371e-02],\n",
       "           [2.29086555e-01, 4.89491352e-01, 8.11970565e-01, ...,\n",
       "            8.64683985e-01, 4.21100703e-01, 4.81121516e-01]],\n",
       "\n",
       "          ...,\n",
       "\n",
       "          [[7.87219036e-01, 3.84807903e-01, 8.67335872e-01, ...,\n",
       "            4.91637686e-02, 6.58487420e-01, 1.10634010e-01],\n",
       "           [4.07658893e-01, 1.22111304e-01, 9.13720962e-01, ...,\n",
       "            3.95901952e-01, 1.75634250e-01, 9.55274649e-04],\n",
       "           [7.92650325e-01, 2.97091497e-01, 5.51357083e-01, ...,\n",
       "            7.41769851e-01, 2.02566722e-01, 8.28465279e-01],\n",
       "           ...,\n",
       "           [4.07564284e-02, 2.00278475e-01, 3.59365295e-01, ...,\n",
       "            1.07216651e-01, 7.79985110e-01, 5.32913395e-01],\n",
       "           [7.52209367e-02, 9.20071193e-01, 7.56741110e-01, ...,\n",
       "            3.01725777e-01, 3.48254273e-02, 6.96083801e-01],\n",
       "           [3.90472275e-01, 9.08466774e-01, 1.36943203e-01, ...,\n",
       "            9.28398304e-01, 5.36611402e-01, 3.37312277e-01]],\n",
       "\n",
       "          [[4.42432077e-01, 2.85394920e-01, 4.71474773e-01, ...,\n",
       "            2.86624411e-01, 3.69363158e-01, 1.82294807e-01],\n",
       "           [2.07563975e-02, 7.69916783e-01, 4.96300423e-01, ...,\n",
       "            7.41973440e-01, 9.43916139e-01, 7.25474611e-01],\n",
       "           [4.24305924e-01, 7.13424604e-01, 8.35847716e-01, ...,\n",
       "            4.02711750e-01, 5.14169889e-02, 5.96457342e-01],\n",
       "           ...,\n",
       "           [7.62635299e-01, 5.33127196e-01, 6.88577646e-01, ...,\n",
       "            3.56617524e-01, 8.17716306e-01, 3.41769380e-03],\n",
       "           [9.26627608e-01, 5.40953909e-01, 8.16605455e-01, ...,\n",
       "            1.87886088e-02, 8.30022451e-03, 2.87392694e-02],\n",
       "           [1.47448043e-01, 9.95885079e-01, 1.84174804e-01, ...,\n",
       "            6.82879784e-01, 3.07321027e-01, 1.18813752e-02]],\n",
       "\n",
       "          [[2.74385819e-03, 8.58767837e-01, 7.86643414e-01, ...,\n",
       "            3.20414184e-01, 6.01239176e-02, 4.03144720e-01],\n",
       "           [9.58753276e-03, 1.83406026e-01, 8.46068240e-01, ...,\n",
       "            7.71061719e-01, 4.09602384e-03, 3.71850226e-01],\n",
       "           [8.84704897e-01, 3.92170791e-01, 6.65230130e-01, ...,\n",
       "            7.92876899e-03, 1.66800028e-01, 7.36211573e-01],\n",
       "           ...,\n",
       "           [7.55656276e-01, 4.00274616e-01, 4.24003304e-01, ...,\n",
       "            4.86873743e-01, 2.16902855e-01, 5.60876823e-01],\n",
       "           [1.40351230e-01, 1.92316915e-02, 4.21001024e-02, ...,\n",
       "            6.56765492e-01, 5.61573998e-01, 9.18509000e-01],\n",
       "           [9.11635778e-02, 4.85375371e-01, 8.25544553e-01, ...,\n",
       "            2.74248051e-01, 2.90959592e-01, 6.30642744e-01]]]],\n",
       "\n",
       "\n",
       "\n",
       "        [[[[9.79212277e-01, 1.56989788e-01, 4.49880039e-01, ...,\n",
       "            7.47882400e-01, 3.37556532e-02, 8.25954696e-01],\n",
       "           [4.28343823e-01, 7.20592506e-01, 7.02280912e-01, ...,\n",
       "            3.14210898e-01, 6.42228034e-01, 7.40689380e-01],\n",
       "           [7.04543129e-01, 7.99409908e-01, 3.31419709e-01, ...,\n",
       "            5.89819167e-01, 5.87290864e-01, 9.09230931e-01],\n",
       "           ...,\n",
       "           [9.90596339e-01, 8.46808248e-01, 5.34103973e-01, ...,\n",
       "            7.00473355e-01, 7.89826961e-02, 8.29272825e-02],\n",
       "           [3.30867836e-01, 7.70647207e-01, 8.27032061e-01, ...,\n",
       "            4.01272474e-01, 1.93888796e-01, 3.76923922e-01],\n",
       "           [8.05552400e-01, 4.86754954e-01, 3.25165202e-01, ...,\n",
       "            9.78487395e-01, 7.31821116e-01, 5.30325870e-01]],\n",
       "\n",
       "          [[6.79743682e-01, 7.35574393e-01, 7.74604698e-01, ...,\n",
       "            8.55661739e-01, 5.67644279e-02, 6.20541759e-01],\n",
       "           [9.25341427e-01, 4.88098904e-01, 9.45882084e-01, ...,\n",
       "            3.15060686e-01, 9.78477097e-01, 2.52032613e-02],\n",
       "           [9.24477196e-01, 1.87783300e-01, 4.88750659e-01, ...,\n",
       "            4.97889365e-01, 1.48685359e-01, 2.32996998e-01],\n",
       "           ...,\n",
       "           [1.66466048e-01, 2.77603875e-01, 2.31808707e-01, ...,\n",
       "            9.85276700e-02, 6.61753981e-01, 5.19096307e-01],\n",
       "           [3.47220781e-02, 4.85237863e-01, 4.34188048e-01, ...,\n",
       "            8.09796304e-02, 6.61843775e-01, 3.86883111e-01],\n",
       "           [9.27925938e-01, 7.36777967e-01, 7.36522223e-01, ...,\n",
       "            4.00526565e-01, 3.66853720e-01, 1.68845311e-01]],\n",
       "\n",
       "          [[3.86743755e-01, 4.30824397e-01, 5.75591053e-01, ...,\n",
       "            5.56276446e-01, 5.64048580e-02, 5.92589851e-01],\n",
       "           [3.26789577e-02, 3.34430915e-01, 1.93438680e-02, ...,\n",
       "            4.44196299e-01, 5.25957271e-01, 9.16799984e-01],\n",
       "           [5.45267689e-01, 5.57575607e-01, 3.22675113e-01, ...,\n",
       "            2.13526557e-03, 1.47791360e-01, 6.25543303e-01],\n",
       "           ...,\n",
       "           [1.46981060e-01, 3.22298506e-01, 1.35516656e-01, ...,\n",
       "            7.97333988e-01, 4.70684555e-01, 9.65793560e-01],\n",
       "           [2.01429848e-01, 7.02921568e-01, 7.07845105e-01, ...,\n",
       "            1.95858684e-01, 6.03278416e-03, 9.65620605e-01],\n",
       "           [9.50885369e-01, 3.11403034e-01, 6.08856339e-01, ...,\n",
       "            3.40872650e-01, 5.89525756e-01, 5.52816450e-01]],\n",
       "\n",
       "          ...,\n",
       "\n",
       "          [[7.74363852e-02, 7.12692512e-01, 6.81737634e-02, ...,\n",
       "            5.02897163e-01, 7.84300469e-02, 4.05085672e-01],\n",
       "           [9.58849691e-01, 6.30506421e-01, 6.04654478e-01, ...,\n",
       "            4.58898444e-01, 4.00441855e-01, 3.16791217e-01],\n",
       "           [5.76528999e-03, 8.69540987e-01, 5.50172446e-01, ...,\n",
       "            6.61011161e-01, 9.65114665e-01, 8.14057146e-02],\n",
       "           ...,\n",
       "           [7.54685307e-01, 3.06347713e-01, 7.21995915e-01, ...,\n",
       "            8.79561640e-01, 6.59228753e-01, 1.53501782e-01],\n",
       "           [7.87859525e-01, 1.42837168e-01, 2.36464625e-02, ...,\n",
       "            6.54282133e-03, 7.64157212e-01, 2.99700208e-01],\n",
       "           [7.50210164e-01, 9.15498639e-01, 2.19788432e-01, ...,\n",
       "            7.78837614e-01, 1.87495765e-01, 9.64942977e-01]],\n",
       "\n",
       "          [[8.38409523e-01, 1.13908580e-01, 7.02477811e-01, ...,\n",
       "            1.78283014e-01, 1.81385262e-01, 7.50929331e-01],\n",
       "           [1.01624472e-01, 8.30866676e-01, 2.67243710e-01, ...,\n",
       "            3.63604627e-01, 8.49729336e-01, 3.78130422e-01],\n",
       "           [4.31944854e-01, 1.57562294e-01, 1.91400349e-01, ...,\n",
       "            5.66116022e-01, 6.14779859e-01, 2.95587955e-01],\n",
       "           ...,\n",
       "           [1.12081971e-01, 9.00815047e-01, 1.39859804e-01, ...,\n",
       "            7.06537376e-01, 6.25588383e-01, 9.52644757e-01],\n",
       "           [4.71639472e-01, 4.29481801e-01, 3.77697809e-01, ...,\n",
       "            9.33902310e-01, 3.97288284e-01, 4.46531768e-01],\n",
       "           [9.94820401e-02, 1.33340678e-01, 5.96008466e-01, ...,\n",
       "            8.89484163e-01, 3.36616477e-01, 4.65274381e-01]],\n",
       "\n",
       "          [[3.10800931e-02, 1.50685983e-01, 3.08314421e-01, ...,\n",
       "            2.40830086e-01, 6.03849678e-02, 8.56038582e-01],\n",
       "           [1.54276457e-01, 5.42028490e-01, 7.96592004e-01, ...,\n",
       "            6.69036079e-01, 7.45197281e-01, 6.06906971e-02],\n",
       "           [5.91302035e-01, 9.74625168e-01, 5.98652574e-01, ...,\n",
       "            2.84526710e-01, 7.29753534e-01, 2.04782760e-01],\n",
       "           ...,\n",
       "           [8.28892818e-01, 8.25107730e-01, 4.35236503e-01, ...,\n",
       "            8.18782141e-01, 9.95180208e-01, 7.73989226e-01],\n",
       "           [1.15451609e-01, 5.05804983e-01, 1.22691794e-01, ...,\n",
       "            7.75349881e-01, 6.89848677e-01, 1.46969549e-02],\n",
       "           [5.88796957e-01, 4.05851800e-03, 1.74819928e-01, ...,\n",
       "            6.75004437e-02, 2.24171000e-01, 8.43555728e-01]]],\n",
       "\n",
       "\n",
       "         [[[7.66211108e-01, 5.54032758e-01, 2.98619204e-01, ...,\n",
       "            2.17695780e-01, 3.92115089e-01, 8.00923234e-01],\n",
       "           [2.93358752e-01, 1.00632518e-01, 5.59811439e-02, ...,\n",
       "            8.28841485e-01, 4.18731748e-01, 1.25108834e-02],\n",
       "           [4.16428882e-01, 1.33326982e-01, 9.26025900e-01, ...,\n",
       "            2.92161888e-01, 6.49371239e-01, 8.48146903e-01],\n",
       "           ...,\n",
       "           [2.99725013e-01, 8.07641450e-02, 9.28300024e-01, ...,\n",
       "            1.85018471e-03, 3.90796496e-01, 4.82260343e-01],\n",
       "           [5.90092301e-01, 5.74971312e-01, 4.72221009e-01, ...,\n",
       "            8.71578014e-01, 8.92949986e-01, 9.01290664e-01],\n",
       "           [9.75248563e-01, 7.90528655e-01, 9.43953313e-01, ...,\n",
       "            8.98529860e-01, 6.46242877e-01, 4.58271929e-01]],\n",
       "\n",
       "          [[3.31285955e-01, 2.60312326e-01, 7.06078047e-01, ...,\n",
       "            2.08992418e-01, 9.32929495e-01, 1.13812628e-02],\n",
       "           [9.75443106e-01, 1.65359774e-01, 9.96728682e-02, ...,\n",
       "            6.41582314e-01, 6.79227947e-01, 6.57182866e-01],\n",
       "           [2.86096471e-02, 3.22600829e-02, 2.31991260e-01, ...,\n",
       "            2.84206125e-01, 8.70137658e-01, 2.16615678e-01],\n",
       "           ...,\n",
       "           [7.35230752e-01, 1.15281362e-01, 6.00444921e-02, ...,\n",
       "            6.86993106e-01, 9.33459310e-01, 7.78306237e-01],\n",
       "           [3.21979247e-02, 2.58150553e-01, 5.25455494e-01, ...,\n",
       "            3.56495722e-01, 1.77198740e-01, 3.49112160e-01],\n",
       "           [3.15377139e-01, 8.07167715e-01, 2.14662822e-01, ...,\n",
       "            7.34826708e-02, 9.69066277e-01, 8.41778326e-01]],\n",
       "\n",
       "          [[6.19050633e-01, 4.66353193e-01, 1.76331816e-01, ...,\n",
       "            1.27127695e-01, 4.43449809e-02, 9.30150041e-01],\n",
       "           [7.55080539e-03, 4.09310014e-02, 6.45486366e-01, ...,\n",
       "            1.85373507e-01, 9.06244615e-01, 9.05761910e-01],\n",
       "           [5.78797074e-01, 7.70677265e-03, 6.74407292e-01, ...,\n",
       "            4.53651078e-01, 8.71584383e-01, 4.32452089e-01],\n",
       "           ...,\n",
       "           [8.05530694e-01, 5.14290091e-01, 2.83014274e-01, ...,\n",
       "            3.88959039e-01, 1.51357393e-01, 6.11013572e-01],\n",
       "           [7.37601726e-01, 6.33795700e-01, 1.53722711e-01, ...,\n",
       "            2.14178138e-01, 7.06906285e-01, 2.59522995e-01],\n",
       "           [4.67322808e-01, 7.54537626e-01, 2.33022156e-01, ...,\n",
       "            5.14649978e-01, 3.14442192e-01, 2.80245005e-01]],\n",
       "\n",
       "          ...,\n",
       "\n",
       "          [[2.10436503e-01, 8.16928716e-01, 7.47276443e-01, ...,\n",
       "            9.94701165e-01, 6.80909980e-01, 9.58112779e-01],\n",
       "           [2.84228100e-01, 7.95418106e-01, 1.10395486e-01, ...,\n",
       "            7.72890934e-02, 2.05934401e-01, 6.32321827e-01],\n",
       "           [1.35125888e-01, 5.94379363e-01, 7.38113199e-01, ...,\n",
       "            6.90467443e-01, 6.76423924e-01, 6.58286353e-01],\n",
       "           ...,\n",
       "           [8.48939572e-01, 2.87552579e-01, 4.73573442e-01, ...,\n",
       "            1.32410449e-01, 4.30715251e-01, 7.81602658e-01],\n",
       "           [4.21217939e-01, 7.44227818e-01, 3.10603895e-01, ...,\n",
       "            8.48658298e-02, 3.56019638e-01, 8.44049377e-01],\n",
       "           [3.63563321e-01, 4.77026290e-01, 2.79329478e-01, ...,\n",
       "            2.88637140e-01, 7.30967271e-01, 6.11317034e-01]],\n",
       "\n",
       "          [[1.92283603e-01, 4.68658971e-01, 9.39500586e-01, ...,\n",
       "            2.10119259e-01, 6.42854210e-01, 3.02495290e-01],\n",
       "           [7.50806817e-01, 2.98159904e-01, 4.26387849e-01, ...,\n",
       "            2.17137053e-01, 7.02414832e-01, 7.91126363e-01],\n",
       "           [4.31957586e-01, 2.98712660e-01, 2.61434357e-01, ...,\n",
       "            7.34247097e-01, 4.03694572e-01, 7.14248553e-01],\n",
       "           ...,\n",
       "           [7.72677078e-01, 8.58966557e-01, 5.33144520e-01, ...,\n",
       "            5.38738249e-01, 6.28879354e-01, 8.44908879e-01],\n",
       "           [5.51040151e-01, 6.61061305e-01, 9.23239731e-01, ...,\n",
       "            9.45254524e-01, 2.17130547e-01, 5.13904742e-01],\n",
       "           [3.05063006e-01, 2.91860875e-01, 3.29231392e-01, ...,\n",
       "            5.48403333e-01, 9.67731694e-01, 2.99696871e-01]],\n",
       "\n",
       "          [[8.15274675e-01, 1.84202657e-01, 1.19772266e-01, ...,\n",
       "            3.33885904e-01, 2.38236216e-01, 3.83148807e-01],\n",
       "           [4.54323742e-02, 2.53572307e-01, 9.55170130e-02, ...,\n",
       "            7.96484705e-01, 2.71289531e-01, 4.87579677e-01],\n",
       "           [7.27264314e-01, 2.63407505e-01, 1.63644830e-01, ...,\n",
       "            5.16723653e-01, 2.08732092e-01, 7.86532043e-01],\n",
       "           ...,\n",
       "           [2.19698825e-01, 9.76861045e-01, 6.80955800e-01, ...,\n",
       "            8.75170862e-01, 5.82588924e-01, 4.24738250e-01],\n",
       "           [6.23453444e-01, 4.93609835e-01, 7.60333031e-01, ...,\n",
       "            5.30943160e-01, 6.37021776e-01, 8.52048535e-01],\n",
       "           [8.51611352e-01, 2.90023249e-01, 7.86039909e-01, ...,\n",
       "            7.98629053e-01, 1.26056535e-01, 7.49802971e-01]]],\n",
       "\n",
       "\n",
       "         [[[4.32065775e-01, 6.92865463e-02, 6.41710870e-01, ...,\n",
       "            3.34556437e-01, 4.59130643e-01, 8.92538176e-01],\n",
       "           [5.30889195e-01, 7.18008279e-01, 6.07362625e-01, ...,\n",
       "            3.48276862e-01, 2.91658168e-01, 1.13252304e-01],\n",
       "           [9.89336411e-01, 9.53975725e-01, 5.15479576e-01, ...,\n",
       "            4.56226020e-01, 3.31898871e-01, 4.82201143e-01],\n",
       "           ...,\n",
       "           [1.62632597e-01, 9.66727615e-01, 6.65194913e-01, ...,\n",
       "            2.24989581e-01, 2.48892376e-01, 8.91680101e-01],\n",
       "           [5.19691801e-01, 8.77123343e-01, 1.69095091e-01, ...,\n",
       "            5.63383136e-01, 1.88336014e-01, 6.62091455e-01],\n",
       "           [7.10951262e-01, 5.74072443e-02, 6.45662613e-01, ...,\n",
       "            2.45610339e-02, 9.51020005e-01, 7.25208426e-01]],\n",
       "\n",
       "          [[9.72628623e-01, 9.82534989e-01, 2.78086655e-01, ...,\n",
       "            9.52252633e-01, 6.24274084e-01, 8.22823874e-01],\n",
       "           [1.83523234e-01, 2.65915423e-01, 6.46789700e-01, ...,\n",
       "            9.84394003e-01, 6.56339380e-01, 8.44533988e-01],\n",
       "           [3.13566540e-01, 5.76113357e-01, 7.89545977e-01, ...,\n",
       "            8.11812620e-01, 4.15221049e-02, 2.23836131e-01],\n",
       "           ...,\n",
       "           [5.10759501e-01, 7.59694334e-01, 6.07999158e-02, ...,\n",
       "            8.73404769e-01, 6.68861189e-01, 2.76228233e-01],\n",
       "           [1.31592436e-03, 4.34821926e-02, 2.83012398e-01, ...,\n",
       "            8.50862593e-01, 5.49962464e-02, 2.59760139e-01],\n",
       "           [9.21552931e-01, 7.14758519e-03, 6.49577724e-01, ...,\n",
       "            4.35344997e-01, 6.88882109e-01, 3.26389011e-01]],\n",
       "\n",
       "          [[1.53768518e-01, 9.59321298e-01, 3.67657348e-01, ...,\n",
       "            3.50780038e-01, 9.08797359e-02, 2.15854279e-01],\n",
       "           [3.20998443e-01, 2.39795515e-01, 5.71352910e-01, ...,\n",
       "            5.85124338e-01, 2.02709771e-01, 5.78445065e-01],\n",
       "           [8.63738005e-01, 5.53837455e-01, 1.13276553e-01, ...,\n",
       "            2.82938585e-01, 4.48702642e-01, 5.72170050e-01],\n",
       "           ...,\n",
       "           [5.26081834e-01, 2.44604553e-01, 7.74136913e-01, ...,\n",
       "            4.75152941e-01, 1.07160625e-01, 5.79446731e-01],\n",
       "           [1.91253800e-01, 2.27345215e-01, 4.97245883e-01, ...,\n",
       "            7.76662781e-01, 6.52922371e-01, 7.24886234e-02],\n",
       "           [9.54618217e-02, 3.78085126e-01, 7.05753532e-01, ...,\n",
       "            1.47308000e-02, 2.34844768e-01, 3.39600283e-01]],\n",
       "\n",
       "          ...,\n",
       "\n",
       "          [[4.37874626e-01, 1.34661962e-02, 9.48793264e-01, ...,\n",
       "            7.14360050e-01, 8.44896733e-01, 7.13479840e-01],\n",
       "           [5.19785374e-01, 2.64050304e-01, 1.72003716e-01, ...,\n",
       "            7.39882116e-01, 7.37569293e-01, 9.98530161e-01],\n",
       "           [8.18242176e-03, 8.58326704e-01, 8.42545732e-01, ...,\n",
       "            6.22706175e-01, 6.67624972e-01, 4.55755155e-01],\n",
       "           ...,\n",
       "           [3.44603989e-02, 1.07840191e-01, 4.83641222e-01, ...,\n",
       "            8.61053395e-01, 1.34077865e-01, 2.10363765e-01],\n",
       "           [7.38084622e-01, 3.07270363e-01, 6.63206537e-01, ...,\n",
       "            8.09120218e-01, 1.31550554e-01, 9.28239100e-01],\n",
       "           [4.15745758e-02, 1.49788482e-01, 4.47484674e-02, ...,\n",
       "            9.18779207e-01, 4.46587616e-01, 2.14725405e-01]],\n",
       "\n",
       "          [[2.88998174e-01, 7.23738240e-02, 4.14189488e-01, ...,\n",
       "            7.11342484e-01, 3.04962295e-02, 1.26808121e-01],\n",
       "           [3.12633036e-01, 9.98304381e-01, 3.18744592e-01, ...,\n",
       "            7.46215743e-01, 4.61932624e-02, 3.81454114e-01],\n",
       "           [5.48844231e-01, 5.47077537e-01, 3.07240654e-01, ...,\n",
       "            8.18173574e-01, 6.15661485e-01, 5.55394345e-01],\n",
       "           ...,\n",
       "           [1.70431105e-01, 5.54221533e-01, 1.82199523e-01, ...,\n",
       "            7.09358067e-01, 5.11587320e-01, 5.61524662e-02],\n",
       "           [2.06631806e-01, 2.36376398e-01, 1.49353883e-01, ...,\n",
       "            7.68395139e-01, 8.09033356e-01, 7.09861545e-01],\n",
       "           [9.49488547e-01, 4.17921536e-01, 4.74983199e-01, ...,\n",
       "            9.54833101e-01, 1.46814403e-01, 2.09573421e-01]],\n",
       "\n",
       "          [[9.44994708e-01, 6.52248714e-01, 1.28068554e-02, ...,\n",
       "            2.38177875e-01, 9.77707331e-01, 5.35783760e-01],\n",
       "           [9.60177123e-01, 4.86804427e-01, 6.42167727e-01, ...,\n",
       "            7.98532672e-01, 2.00626836e-01, 5.82506936e-02],\n",
       "           [5.71817052e-01, 4.37346458e-01, 4.99189989e-01, ...,\n",
       "            6.31439948e-01, 4.10900388e-01, 7.20402116e-01],\n",
       "           ...,\n",
       "           [7.48275394e-01, 4.70237116e-01, 3.09362746e-01, ...,\n",
       "            6.48239738e-01, 9.80611496e-01, 2.43193151e-01],\n",
       "           [1.66759726e-01, 3.26611602e-01, 5.79428346e-01, ...,\n",
       "            6.37846656e-01, 8.24790241e-01, 8.55062309e-01],\n",
       "           [7.48972487e-02, 5.68461087e-01, 9.00097453e-01, ...,\n",
       "            1.48035506e-01, 4.64899203e-02, 6.79836731e-01]]],\n",
       "\n",
       "\n",
       "         [[[7.99833869e-01, 7.83843929e-01, 9.60247853e-01, ...,\n",
       "            4.88044033e-01, 5.24106037e-01, 1.91792444e-01],\n",
       "           [3.46820293e-02, 4.24601302e-01, 5.20474129e-01, ...,\n",
       "            3.47831329e-02, 8.79849300e-01, 1.22975282e-01],\n",
       "           [3.62205859e-01, 9.77444643e-01, 1.67012408e-01, ...,\n",
       "            7.15844066e-01, 7.15041634e-01, 8.08073294e-01],\n",
       "           ...,\n",
       "           [5.81764507e-01, 8.92782837e-01, 4.87010119e-01, ...,\n",
       "            7.47976811e-01, 9.47314450e-01, 4.07817710e-01],\n",
       "           [6.08361295e-01, 9.54652490e-01, 4.62510377e-01, ...,\n",
       "            8.71707829e-01, 9.38085981e-01, 4.23432217e-01],\n",
       "           [1.42468554e-01, 3.87396310e-01, 1.83874960e-02, ...,\n",
       "            3.43294415e-02, 1.12642775e-01, 3.03216095e-01]],\n",
       "\n",
       "          [[3.21244333e-01, 8.22384699e-01, 3.61653836e-01, ...,\n",
       "            1.81460585e-01, 2.87686629e-01, 2.20663208e-01],\n",
       "           [5.25479441e-01, 2.35940291e-01, 4.19917565e-02, ...,\n",
       "            3.42095416e-01, 3.37866715e-01, 3.58106204e-01],\n",
       "           [5.14473473e-01, 8.97838233e-01, 2.26835296e-01, ...,\n",
       "            2.35464400e-01, 8.95930777e-01, 8.00098805e-01],\n",
       "           ...,\n",
       "           [6.40193436e-01, 8.14258213e-02, 8.51154039e-01, ...,\n",
       "            8.28559355e-01, 8.13019459e-01, 7.27280917e-01],\n",
       "           [1.33464787e-02, 6.23638667e-01, 3.34929150e-01, ...,\n",
       "            1.86018781e-01, 7.17923624e-01, 5.71870889e-01],\n",
       "           [9.06713526e-01, 1.05803076e-01, 6.14145690e-01, ...,\n",
       "            3.26095012e-02, 6.97685158e-02, 3.49564608e-01]],\n",
       "\n",
       "          [[4.22063189e-01, 1.89188901e-01, 3.66493574e-01, ...,\n",
       "            3.81094930e-01, 3.98884286e-01, 5.35503720e-01],\n",
       "           [3.95730171e-01, 8.26668911e-01, 1.61444414e-01, ...,\n",
       "            4.92790271e-01, 2.99761111e-02, 1.93573846e-01],\n",
       "           [6.15688083e-01, 4.92430411e-01, 8.75994533e-01, ...,\n",
       "            5.66066249e-01, 9.39846729e-01, 6.57458038e-01],\n",
       "           ...,\n",
       "           [3.48498357e-01, 6.26160811e-01, 7.59336888e-01, ...,\n",
       "            6.84114564e-01, 9.19303414e-03, 7.00806383e-01],\n",
       "           [1.36144882e-01, 1.43825205e-01, 7.61702785e-01, ...,\n",
       "            2.25001721e-01, 8.40551000e-01, 6.16398763e-01],\n",
       "           [7.36925725e-01, 6.00820372e-01, 2.30638486e-01, ...,\n",
       "            2.44375249e-01, 3.81915248e-01, 4.73606445e-01]],\n",
       "\n",
       "          ...,\n",
       "\n",
       "          [[1.43463828e-01, 2.38930724e-02, 7.97160695e-01, ...,\n",
       "            5.28167877e-01, 9.61344923e-01, 7.76157918e-01],\n",
       "           [6.00543515e-01, 5.03413360e-01, 7.55243983e-01, ...,\n",
       "            7.71435079e-01, 1.72648848e-02, 4.67253215e-01],\n",
       "           [3.16170078e-01, 1.40807380e-01, 7.12408483e-01, ...,\n",
       "            7.77672681e-02, 4.62662685e-01, 9.50209432e-02],\n",
       "           ...,\n",
       "           [5.40280841e-01, 7.35404637e-01, 4.26368059e-01, ...,\n",
       "            2.92839695e-01, 6.98713075e-01, 4.69902983e-01],\n",
       "           [7.89833655e-01, 8.60776015e-01, 9.12248165e-01, ...,\n",
       "            2.75424229e-01, 7.99702035e-01, 3.77996940e-01],\n",
       "           [5.91286416e-01, 6.97937083e-01, 5.31025848e-01, ...,\n",
       "            9.10467743e-01, 7.90319463e-01, 7.11880748e-01]],\n",
       "\n",
       "          [[8.30159611e-01, 5.54673898e-01, 9.04968398e-01, ...,\n",
       "            8.54681939e-01, 3.42926753e-01, 1.45350506e-01],\n",
       "           [3.64676271e-01, 5.84228169e-01, 7.50431873e-01, ...,\n",
       "            5.23244427e-01, 4.39272505e-01, 2.03968088e-01],\n",
       "           [2.25744974e-01, 1.23462819e-01, 7.14885913e-01, ...,\n",
       "            8.31078679e-01, 5.92129970e-01, 2.18841542e-01],\n",
       "           ...,\n",
       "           [3.06322302e-01, 7.16009269e-01, 6.86303322e-01, ...,\n",
       "            5.78455196e-01, 5.66067191e-02, 2.46980710e-01],\n",
       "           [1.52353001e-01, 5.90478243e-01, 1.81915929e-02, ...,\n",
       "            4.38563392e-01, 3.72556458e-01, 3.04733326e-02],\n",
       "           [7.25261201e-01, 1.19885278e-01, 3.88186992e-01, ...,\n",
       "            2.51259616e-01, 9.56069979e-01, 4.80721248e-01]],\n",
       "\n",
       "          [[2.63950201e-01, 3.13733028e-01, 5.57218849e-01, ...,\n",
       "            1.64656479e-01, 4.14060528e-01, 8.13376022e-01],\n",
       "           [8.18062710e-01, 9.21708598e-01, 5.63379591e-01, ...,\n",
       "            2.39429938e-01, 6.25996740e-01, 4.68477919e-01],\n",
       "           [9.00694750e-01, 1.86579574e-01, 1.72802084e-01, ...,\n",
       "            8.61608372e-02, 8.69338640e-01, 1.14272538e-02],\n",
       "           ...,\n",
       "           [6.98392279e-01, 9.65794584e-01, 8.15200246e-01, ...,\n",
       "            1.64920926e-01, 5.88166699e-01, 2.28078993e-01],\n",
       "           [6.07660324e-01, 6.54240460e-01, 1.47070978e-01, ...,\n",
       "            9.97540099e-01, 8.34998068e-01, 9.46976301e-01],\n",
       "           [1.22583797e-01, 3.80341196e-01, 7.28589228e-01, ...,\n",
       "            7.37903911e-02, 5.44401108e-01, 9.66638351e-01]]]]],\n",
       "\n",
       "\n",
       "\n",
       "\n",
       "       [[[[[3.21229125e-01, 8.38304843e-01, 6.36153385e-01, ...,\n",
       "            9.05239807e-01, 5.29566268e-01, 1.47589721e-02],\n",
       "           [2.60962136e-01, 4.75453758e-01, 8.39135838e-01, ...,\n",
       "            2.94014614e-01, 9.77883911e-01, 4.83321163e-01],\n",
       "           [4.77030037e-01, 6.05878245e-01, 7.41345881e-01, ...,\n",
       "            1.75143484e-01, 5.80568119e-01, 8.21988160e-01],\n",
       "           ...,\n",
       "           [3.03165501e-01, 5.78362271e-01, 9.84824809e-01, ...,\n",
       "            7.30708256e-01, 6.00890864e-01, 6.41885302e-02],\n",
       "           [9.62579842e-01, 6.31822022e-01, 9.64263668e-01, ...,\n",
       "            6.96949255e-01, 8.59007526e-01, 9.28671411e-01],\n",
       "           [8.11963385e-01, 9.17115263e-01, 4.03516391e-01, ...,\n",
       "            1.54193769e-02, 5.33476557e-01, 2.39724752e-01]],\n",
       "\n",
       "          [[6.54871481e-01, 8.65781708e-01, 1.11006449e-01, ...,\n",
       "            5.46034931e-01, 9.63933620e-01, 2.28129192e-01],\n",
       "           [9.15818818e-01, 3.24562314e-01, 7.60278724e-01, ...,\n",
       "            6.47335226e-01, 3.00782578e-01, 7.46032618e-01],\n",
       "           [3.46680936e-01, 4.86593504e-01, 6.81263546e-01, ...,\n",
       "            7.19355833e-01, 2.48475105e-01, 6.20272164e-01],\n",
       "           ...,\n",
       "           [2.36338856e-01, 1.46017234e-01, 5.24936373e-01, ...,\n",
       "            4.29655609e-01, 7.96362370e-01, 4.36352762e-01],\n",
       "           [7.29332123e-01, 5.42525776e-01, 9.73711433e-01, ...,\n",
       "            2.65181830e-01, 4.35041346e-01, 1.04998009e-01],\n",
       "           [2.30932504e-01, 5.20502252e-01, 4.32701999e-01, ...,\n",
       "            7.46493408e-01, 5.46194654e-01, 9.02550086e-01]],\n",
       "\n",
       "          [[9.06159248e-02, 7.44750668e-01, 3.74607100e-01, ...,\n",
       "            6.97787373e-01, 7.60720712e-01, 6.03369758e-01],\n",
       "           [6.44570859e-01, 6.52076671e-01, 6.90389311e-01, ...,\n",
       "            6.18715901e-01, 6.37873832e-01, 8.23247730e-01],\n",
       "           [3.01716288e-02, 8.41555148e-01, 2.07877268e-01, ...,\n",
       "            5.77122092e-01, 5.41125528e-01, 4.97594737e-01],\n",
       "           ...,\n",
       "           [2.21751264e-01, 8.62793818e-01, 7.70735534e-01, ...,\n",
       "            2.64141157e-01, 1.79865408e-01, 1.55999169e-01],\n",
       "           [3.03352576e-01, 1.79097080e-01, 1.89134402e-01, ...,\n",
       "            8.92764067e-01, 8.37141969e-01, 1.41659005e-01],\n",
       "           [1.95523932e-01, 9.23831632e-01, 2.61219240e-02, ...,\n",
       "            6.05166926e-02, 6.87116241e-01, 1.56826775e-02]],\n",
       "\n",
       "          ...,\n",
       "\n",
       "          [[9.66994117e-01, 5.85419566e-01, 9.75667403e-01, ...,\n",
       "            2.50175480e-01, 6.72393333e-01, 4.57783958e-01],\n",
       "           [8.86723510e-01, 9.62139085e-01, 3.17615072e-01, ...,\n",
       "            5.84546336e-01, 8.62322885e-01, 5.08287505e-01],\n",
       "           [9.32284588e-01, 6.59732247e-01, 2.13406568e-01, ...,\n",
       "            7.08948470e-01, 7.82410776e-01, 1.53726649e-01],\n",
       "           ...,\n",
       "           [8.40944658e-01, 6.95454652e-01, 8.91546465e-01, ...,\n",
       "            7.69409554e-02, 1.29345658e-02, 3.76539297e-01],\n",
       "           [4.26144586e-01, 2.20322970e-01, 7.81917583e-01, ...,\n",
       "            5.16653466e-01, 9.00014269e-01, 8.98635129e-01],\n",
       "           [8.72124327e-01, 4.64644019e-01, 9.68522635e-01, ...,\n",
       "            3.24378985e-01, 8.76684376e-01, 3.64090713e-01]],\n",
       "\n",
       "          [[4.43629750e-01, 9.95065777e-01, 5.34104333e-01, ...,\n",
       "            4.67187170e-01, 5.36365386e-01, 2.71725347e-01],\n",
       "           [8.60505416e-01, 7.82721386e-01, 5.39384826e-01, ...,\n",
       "            2.96828084e-01, 1.66382956e-01, 9.11263548e-01],\n",
       "           [7.60973726e-01, 7.92488051e-01, 2.22836819e-01, ...,\n",
       "            4.84222798e-01, 2.36265101e-01, 4.06103702e-01],\n",
       "           ...,\n",
       "           [9.15418855e-01, 3.07605648e-01, 5.05250997e-01, ...,\n",
       "            7.36964189e-01, 4.19957615e-01, 6.31546652e-01],\n",
       "           [3.33218513e-01, 3.74010035e-01, 1.42362788e-01, ...,\n",
       "            5.85638730e-01, 1.11608915e-01, 9.98666246e-01],\n",
       "           [1.41795740e-01, 1.88580569e-01, 7.92723334e-01, ...,\n",
       "            3.81382689e-01, 1.37345584e-01, 6.61278950e-01]],\n",
       "\n",
       "          [[7.14561991e-01, 3.31156668e-01, 2.98292340e-01, ...,\n",
       "            6.91204551e-01, 5.73589604e-01, 9.56239215e-01],\n",
       "           [6.31466348e-01, 7.50098090e-02, 4.08694588e-01, ...,\n",
       "            2.01528973e-02, 4.59263078e-01, 5.94045128e-01],\n",
       "           [2.15757482e-01, 9.25733309e-01, 7.17773819e-01, ...,\n",
       "            8.54463312e-01, 6.42472359e-01, 2.32804125e-02],\n",
       "           ...,\n",
       "           [8.43490209e-01, 4.17794287e-01, 3.67670708e-01, ...,\n",
       "            9.17518263e-01, 7.66634567e-01, 9.17098124e-01],\n",
       "           [2.67070996e-01, 8.31319048e-01, 8.71965906e-01, ...,\n",
       "            6.90523178e-01, 6.01206508e-01, 5.99004078e-01],\n",
       "           [8.22179225e-01, 1.96304133e-01, 3.65656133e-02, ...,\n",
       "            2.88094872e-01, 5.48315067e-01, 8.84819873e-02]]],\n",
       "\n",
       "\n",
       "         [[[8.51446078e-01, 1.42348400e-01, 7.87290474e-02, ...,\n",
       "            3.07182331e-01, 1.73997853e-01, 7.38946996e-01],\n",
       "           [9.24354053e-02, 5.80392961e-02, 2.89141932e-01, ...,\n",
       "            9.51958061e-01, 3.64059652e-01, 4.88113066e-01],\n",
       "           [7.31059202e-02, 7.98680601e-01, 5.25329505e-01, ...,\n",
       "            4.89171077e-01, 6.71751968e-01, 9.48612679e-01],\n",
       "           ...,\n",
       "           [3.18975700e-01, 9.62375125e-01, 1.40855771e-01, ...,\n",
       "            2.74798716e-01, 1.82942219e-01, 4.56899620e-01],\n",
       "           [3.85398866e-01, 5.88564680e-02, 3.25556835e-01, ...,\n",
       "            3.32693442e-01, 8.15704985e-01, 9.83363262e-01],\n",
       "           [4.70268600e-01, 4.18924017e-01, 1.45550236e-01, ...,\n",
       "            4.00313905e-01, 9.93707689e-01, 7.90682693e-01]],\n",
       "\n",
       "          [[1.42240943e-01, 5.01212992e-01, 4.99071251e-01, ...,\n",
       "            3.37354732e-01, 1.84169014e-01, 7.53446547e-01],\n",
       "           [3.67746460e-01, 5.66147062e-02, 8.57555014e-02, ...,\n",
       "            2.55541317e-01, 9.33021830e-01, 7.23044796e-01],\n",
       "           [6.96965106e-01, 9.62805148e-01, 3.62899090e-01, ...,\n",
       "            5.29894302e-01, 5.16803138e-01, 3.67328340e-01],\n",
       "           ...,\n",
       "           [8.59954018e-01, 1.03106125e-01, 3.11173892e-01, ...,\n",
       "            6.56270985e-01, 2.96031428e-01, 9.90035400e-01],\n",
       "           [6.85537061e-01, 7.74582618e-01, 1.90354417e-01, ...,\n",
       "            6.43766595e-01, 9.22694067e-01, 8.28743142e-02],\n",
       "           [9.75436492e-01, 4.52700906e-01, 7.88623427e-01, ...,\n",
       "            1.06343538e-01, 3.42872166e-01, 6.36887004e-01]],\n",
       "\n",
       "          [[6.98963348e-01, 7.56860267e-01, 6.33515154e-01, ...,\n",
       "            7.91039066e-01, 5.85731297e-01, 8.23216305e-01],\n",
       "           [2.13572315e-01, 3.20820032e-01, 9.66960348e-01, ...,\n",
       "            5.19336773e-01, 4.53044688e-01, 2.10705327e-01],\n",
       "           [6.99589948e-02, 8.35032444e-01, 2.94078075e-01, ...,\n",
       "            4.16925673e-01, 9.29290152e-01, 6.76915007e-01],\n",
       "           ...,\n",
       "           [4.65385548e-01, 4.24813269e-01, 4.96945700e-02, ...,\n",
       "            9.41517861e-01, 2.97692458e-03, 7.22027812e-01],\n",
       "           [1.19426474e-01, 7.23068127e-01, 8.07559932e-01, ...,\n",
       "            2.54722178e-01, 4.22538670e-01, 7.35721111e-01],\n",
       "           [3.35016446e-01, 4.44826097e-01, 9.06468414e-01, ...,\n",
       "            7.55269656e-01, 8.52680267e-01, 1.75128986e-01]],\n",
       "\n",
       "          ...,\n",
       "\n",
       "          [[7.59796458e-02, 9.29702019e-01, 4.96163131e-01, ...,\n",
       "            4.98390692e-04, 5.55613735e-01, 8.29697782e-01],\n",
       "           [9.55702405e-01, 4.46914242e-01, 5.38068805e-01, ...,\n",
       "            7.56136947e-01, 9.81932425e-03, 1.79894922e-01],\n",
       "           [7.04822310e-01, 8.47850069e-01, 1.31634378e-01, ...,\n",
       "            5.00087240e-01, 6.53909811e-01, 3.81494040e-01],\n",
       "           ...,\n",
       "           [6.09112717e-01, 7.04611580e-01, 4.74586389e-01, ...,\n",
       "            8.83276451e-01, 1.92899735e-01, 3.64588219e-01],\n",
       "           [1.29925555e-01, 4.19500754e-01, 9.86797426e-01, ...,\n",
       "            8.54364334e-01, 7.38228417e-01, 9.10345334e-01],\n",
       "           [2.45870623e-01, 9.34235224e-01, 7.55698051e-01, ...,\n",
       "            2.58525504e-01, 3.74939094e-01, 9.08263130e-01]],\n",
       "\n",
       "          [[3.26918503e-01, 6.06746947e-02, 5.10788742e-01, ...,\n",
       "            3.55458593e-01, 3.49231178e-01, 1.58237477e-01],\n",
       "           [2.75113703e-01, 2.89055931e-01, 5.39638120e-01, ...,\n",
       "            5.05051911e-01, 2.95922984e-01, 9.99170145e-01],\n",
       "           [2.11983838e-01, 3.04148629e-01, 1.47419360e-01, ...,\n",
       "            6.75166716e-01, 7.79014750e-01, 4.90513304e-03],\n",
       "           ...,\n",
       "           [9.90639362e-01, 3.73787447e-02, 6.51173739e-01, ...,\n",
       "            3.24691980e-01, 2.23237818e-01, 6.73822033e-01],\n",
       "           [2.71546443e-01, 7.24339352e-01, 4.70150224e-01, ...,\n",
       "            7.97966710e-01, 8.56372554e-01, 4.19169033e-01],\n",
       "           [2.49122749e-01, 6.33807747e-01, 6.73205331e-01, ...,\n",
       "            9.50325428e-01, 3.08931048e-03, 5.15436020e-01]],\n",
       "\n",
       "          [[3.91162882e-01, 1.07713932e-01, 8.36205274e-01, ...,\n",
       "            5.47530946e-01, 8.22275785e-01, 7.76417264e-01],\n",
       "           [9.72751879e-01, 9.79927070e-01, 8.42718763e-01, ...,\n",
       "            4.44769737e-01, 8.06150782e-01, 7.04318798e-01],\n",
       "           [3.81822667e-01, 3.56974822e-01, 6.33813855e-01, ...,\n",
       "            1.23664044e-01, 5.00097134e-01, 6.21144671e-02],\n",
       "           ...,\n",
       "           [2.80095707e-01, 6.83451612e-02, 6.57414134e-01, ...,\n",
       "            9.10300205e-01, 5.42864772e-01, 5.04742525e-01],\n",
       "           [3.66269292e-01, 5.26704346e-01, 4.58011717e-01, ...,\n",
       "            3.79002820e-01, 3.00018520e-02, 9.23226422e-01],\n",
       "           [2.57881101e-01, 3.20178235e-01, 4.11594263e-01, ...,\n",
       "            8.12779549e-01, 1.94347464e-01, 8.25760769e-01]]],\n",
       "\n",
       "\n",
       "         [[[6.94781652e-02, 5.23847529e-01, 5.38532181e-01, ...,\n",
       "            4.37147589e-01, 2.66382441e-01, 7.93095266e-01],\n",
       "           [1.29967683e-01, 1.73102830e-01, 9.59366811e-01, ...,\n",
       "            7.86177134e-01, 6.36386317e-01, 2.31084854e-01],\n",
       "           [8.76144265e-02, 7.31485338e-01, 2.35851490e-01, ...,\n",
       "            4.35525800e-02, 7.62213254e-01, 8.19936605e-01],\n",
       "           ...,\n",
       "           [7.16725373e-01, 3.99757693e-01, 8.76979591e-01, ...,\n",
       "            2.37399940e-01, 8.02126111e-02, 5.83710972e-01],\n",
       "           [6.19597274e-01, 4.71859476e-01, 9.34837980e-01, ...,\n",
       "            8.07617562e-01, 6.53460941e-01, 7.85434307e-01],\n",
       "           [7.65818153e-01, 8.20422990e-01, 4.37278082e-01, ...,\n",
       "            4.82048536e-01, 5.60102513e-01, 9.46443025e-01]],\n",
       "\n",
       "          [[8.99738770e-02, 4.93597644e-01, 5.69242821e-01, ...,\n",
       "            1.30084317e-01, 4.13104851e-01, 7.51737165e-01],\n",
       "           [2.86119051e-01, 4.92420353e-01, 5.19410736e-01, ...,\n",
       "            2.40976779e-01, 7.70678193e-01, 3.13528364e-01],\n",
       "           [1.41108969e-01, 4.10584257e-01, 2.53562280e-01, ...,\n",
       "            9.39112112e-01, 4.85656895e-01, 6.53427491e-01],\n",
       "           ...,\n",
       "           [3.87192357e-01, 3.76697919e-01, 7.17552965e-01, ...,\n",
       "            4.47564174e-01, 3.18334937e-01, 3.57463750e-01],\n",
       "           [5.87682176e-01, 5.53790544e-01, 9.04836903e-01, ...,\n",
       "            1.84621084e-01, 6.19911667e-01, 2.57637447e-01],\n",
       "           [3.59449884e-01, 5.42636421e-01, 6.80007541e-02, ...,\n",
       "            7.05061960e-01, 1.28557847e-01, 1.95909174e-01]],\n",
       "\n",
       "          [[3.80267496e-02, 4.73276824e-01, 4.30163816e-01, ...,\n",
       "            6.62343141e-01, 7.41983482e-01, 3.51679044e-01],\n",
       "           [9.32771893e-01, 1.81376537e-01, 4.49534498e-01, ...,\n",
       "            5.59867202e-01, 5.09647481e-01, 3.52693130e-01],\n",
       "           [8.92494877e-01, 4.84762051e-01, 8.28208635e-01, ...,\n",
       "            4.56074961e-01, 6.71994504e-01, 3.76336599e-01],\n",
       "           ...,\n",
       "           [8.18282624e-01, 8.87938007e-02, 2.44790209e-01, ...,\n",
       "            2.31686552e-01, 5.62001313e-01, 8.02838308e-02],\n",
       "           [5.23628871e-01, 3.51232816e-01, 5.04396754e-01, ...,\n",
       "            2.39475385e-01, 5.65984614e-01, 4.66728720e-01],\n",
       "           [4.79083491e-01, 8.68276547e-01, 7.06547691e-01, ...,\n",
       "            2.41327328e-02, 8.83426902e-01, 7.86887764e-01]],\n",
       "\n",
       "          ...,\n",
       "\n",
       "          [[4.85905668e-02, 4.40880995e-01, 9.16892573e-01, ...,\n",
       "            5.05628030e-01, 9.15410922e-01, 7.26486643e-01],\n",
       "           [4.92006612e-01, 6.63749784e-02, 5.14623030e-02, ...,\n",
       "            2.47376903e-01, 5.45668089e-01, 1.19479238e-01],\n",
       "           [9.40862673e-01, 4.54036727e-01, 3.81430060e-01, ...,\n",
       "            2.08702072e-01, 1.06309872e-01, 8.57127293e-01],\n",
       "           ...,\n",
       "           [4.00446761e-01, 5.89893128e-01, 7.57546945e-01, ...,\n",
       "            2.97590204e-01, 6.25301610e-01, 3.00371009e-01],\n",
       "           [6.21023918e-01, 3.35718834e-01, 5.25073284e-01, ...,\n",
       "            8.62289299e-01, 8.47300340e-01, 2.18829220e-01],\n",
       "           [4.73053785e-01, 7.65869055e-01, 4.92974156e-01, ...,\n",
       "            8.31825609e-01, 9.98825765e-01, 3.75726932e-01]],\n",
       "\n",
       "          [[8.17778946e-01, 1.73362621e-01, 4.26350607e-01, ...,\n",
       "            9.86981060e-01, 8.81114452e-01, 9.09115436e-03],\n",
       "           [6.66778110e-01, 5.62151487e-02, 6.66633513e-01, ...,\n",
       "            4.78632199e-01, 2.62042605e-01, 2.15695451e-01],\n",
       "           [3.38745345e-01, 8.38314146e-01, 4.97065638e-01, ...,\n",
       "            9.62050978e-02, 3.79477585e-01, 7.55946594e-01],\n",
       "           ...,\n",
       "           [9.67981314e-01, 5.38698467e-01, 7.51312863e-01, ...,\n",
       "            7.31666794e-01, 8.58068366e-01, 2.37194218e-01],\n",
       "           [3.16018279e-02, 7.33215612e-01, 4.40860034e-01, ...,\n",
       "            3.61042734e-01, 7.48531069e-02, 6.55078014e-01],\n",
       "           [2.85188814e-01, 3.02219944e-01, 5.89380836e-01, ...,\n",
       "            3.76966128e-01, 9.88247432e-01, 4.74956963e-02]],\n",
       "\n",
       "          [[4.45788435e-01, 3.62443269e-01, 5.04063971e-01, ...,\n",
       "            2.87300794e-01, 8.11796671e-02, 9.57775065e-02],\n",
       "           [4.03449490e-01, 7.28862168e-01, 7.36529464e-02, ...,\n",
       "            1.72983016e-01, 4.16374841e-01, 9.31960539e-01],\n",
       "           [4.45539364e-01, 4.18461481e-01, 5.27605944e-01, ...,\n",
       "            8.61712463e-01, 1.78735648e-01, 2.07351733e-01],\n",
       "           ...,\n",
       "           [7.30844936e-02, 8.36319201e-01, 5.04539303e-01, ...,\n",
       "            3.71682614e-02, 6.99949250e-01, 5.70190351e-01],\n",
       "           [6.91692759e-01, 4.79287500e-01, 8.32530106e-01, ...,\n",
       "            6.99766329e-01, 4.56001246e-01, 6.19624180e-01],\n",
       "           [3.16066160e-01, 7.45910757e-01, 7.29383983e-01, ...,\n",
       "            7.19369613e-01, 6.11411604e-01, 7.78852834e-01]]],\n",
       "\n",
       "\n",
       "         [[[7.88324035e-01, 1.51117189e-01, 3.76206525e-01, ...,\n",
       "            4.02639261e-01, 6.65536425e-01, 4.16592269e-01],\n",
       "           [7.28646965e-01, 7.73721098e-02, 2.57444219e-01, ...,\n",
       "            4.43348451e-01, 9.28723754e-01, 9.17829301e-01],\n",
       "           [3.32527230e-01, 1.66119770e-01, 9.67800714e-01, ...,\n",
       "            2.85995666e-01, 7.83760312e-01, 3.88550058e-01],\n",
       "           ...,\n",
       "           [7.06992257e-01, 2.45011893e-02, 5.82398006e-01, ...,\n",
       "            1.76147602e-01, 3.84724792e-01, 7.73537583e-01],\n",
       "           [6.97100700e-01, 3.86039577e-01, 4.14728879e-01, ...,\n",
       "            3.92955462e-01, 5.52998418e-01, 2.21659364e-01],\n",
       "           [1.35768074e-01, 4.45776079e-01, 6.46137802e-01, ...,\n",
       "            5.65772650e-01, 7.50591486e-01, 1.65420804e-01]],\n",
       "\n",
       "          [[2.43487957e-01, 6.93450829e-01, 5.27714673e-01, ...,\n",
       "            6.20748761e-01, 7.31103144e-02, 5.67262060e-01],\n",
       "           [4.29562480e-01, 8.89225573e-02, 4.31168268e-01, ...,\n",
       "            3.01172302e-01, 6.12305480e-01, 1.08038719e-01],\n",
       "           [4.47551229e-01, 2.13396052e-01, 9.55978811e-01, ...,\n",
       "            4.08008871e-01, 5.41763567e-01, 5.83732899e-01],\n",
       "           ...,\n",
       "           [3.07608037e-01, 7.48170906e-02, 7.49367765e-01, ...,\n",
       "            1.05594847e-01, 4.72418089e-01, 9.07663439e-01],\n",
       "           [2.63118043e-01, 1.30953957e-01, 4.76189510e-01, ...,\n",
       "            7.24227380e-01, 5.66880719e-01, 7.84935736e-01],\n",
       "           [7.33352482e-01, 6.05863634e-01, 5.06531157e-01, ...,\n",
       "            8.29288883e-01, 3.74060697e-01, 2.23649330e-01]],\n",
       "\n",
       "          [[3.78259877e-01, 9.93871349e-02, 7.98587133e-01, ...,\n",
       "            5.59465096e-01, 9.98805966e-01, 7.89324535e-01],\n",
       "           [2.86188397e-01, 3.73477274e-01, 1.71549662e-01, ...,\n",
       "            7.10498503e-02, 3.44365694e-01, 8.59673762e-01],\n",
       "           [7.53850991e-01, 9.72380407e-03, 3.36646278e-01, ...,\n",
       "            8.51022039e-01, 5.06449612e-01, 8.21761407e-01],\n",
       "           ...,\n",
       "           [8.10804066e-01, 7.51730224e-01, 1.26379213e-01, ...,\n",
       "            4.58942150e-01, 5.32888993e-01, 5.41610002e-02],\n",
       "           [4.97276032e-01, 3.48613947e-01, 7.98611062e-01, ...,\n",
       "            5.65406545e-01, 8.60033215e-01, 5.63381988e-01],\n",
       "           [6.00114538e-01, 8.53293216e-01, 6.01333101e-01, ...,\n",
       "            9.00554768e-01, 8.71252088e-02, 2.80965060e-01]],\n",
       "\n",
       "          ...,\n",
       "\n",
       "          [[3.20098289e-02, 6.52105752e-01, 4.74175291e-01, ...,\n",
       "            2.99421735e-01, 1.92512969e-01, 1.37830179e-01],\n",
       "           [9.42779442e-01, 3.37702326e-01, 3.60588625e-01, ...,\n",
       "            5.92745054e-01, 7.92503424e-01, 6.79301550e-01],\n",
       "           [4.90689674e-01, 8.49977274e-01, 2.39190827e-02, ...,\n",
       "            9.26258465e-01, 2.41247385e-01, 6.81345512e-01],\n",
       "           ...,\n",
       "           [2.49961473e-01, 9.96819464e-01, 7.06157723e-01, ...,\n",
       "            8.08398220e-01, 2.86475898e-01, 7.59004151e-01],\n",
       "           [9.12864371e-02, 1.03767142e-01, 2.22519794e-01, ...,\n",
       "            8.62973293e-01, 4.71601437e-01, 8.09541791e-01],\n",
       "           [7.32173702e-01, 3.25734678e-01, 8.42467174e-01, ...,\n",
       "            2.04905296e-01, 8.86442241e-01, 6.22865928e-01]],\n",
       "\n",
       "          [[8.66381918e-01, 4.18979675e-01, 1.70066322e-01, ...,\n",
       "            3.73693742e-01, 7.95537822e-01, 5.92462820e-01],\n",
       "           [2.52928406e-01, 7.82968003e-01, 7.71290738e-01, ...,\n",
       "            4.26085196e-01, 2.27093095e-01, 8.51219582e-01],\n",
       "           [2.78848148e-01, 3.78820056e-01, 9.22868914e-02, ...,\n",
       "            7.51817193e-01, 3.47972202e-01, 6.37103321e-01],\n",
       "           ...,\n",
       "           [4.04263223e-02, 2.48426674e-01, 6.46792289e-01, ...,\n",
       "            4.03469610e-01, 6.65331403e-01, 8.20061334e-01],\n",
       "           [6.32789307e-01, 9.91760585e-01, 5.41794279e-01, ...,\n",
       "            4.84924410e-01, 2.78500902e-01, 6.33122017e-01],\n",
       "           [3.47100238e-01, 9.02772188e-01, 3.78396694e-01, ...,\n",
       "            1.93881575e-02, 1.68241339e-01, 6.78308971e-01]],\n",
       "\n",
       "          [[1.87885698e-01, 4.86515918e-01, 9.26642874e-01, ...,\n",
       "            9.71602916e-01, 9.11397462e-01, 8.69564240e-02],\n",
       "           [3.85134307e-02, 5.05489277e-01, 1.74852899e-03, ...,\n",
       "            1.54877735e-01, 8.60580156e-01, 3.10550766e-01],\n",
       "           [3.85142955e-01, 4.40910963e-01, 4.21982140e-02, ...,\n",
       "            6.53659548e-01, 8.10687325e-01, 4.96420906e-01],\n",
       "           ...,\n",
       "           [2.65738527e-01, 1.68173242e-01, 5.26298575e-01, ...,\n",
       "            2.36302226e-01, 1.79513625e-01, 9.02576810e-01],\n",
       "           [6.81312596e-01, 6.84241443e-01, 8.74143888e-01, ...,\n",
       "            5.42886285e-01, 3.10249911e-01, 2.67552782e-01],\n",
       "           [2.33255631e-01, 3.46430528e-01, 3.23699709e-01, ...,\n",
       "            5.96911167e-01, 1.54538863e-02, 2.88102122e-01]]]],\n",
       "\n",
       "\n",
       "\n",
       "        [[[[5.65859560e-02, 5.63883189e-01, 4.91444122e-01, ...,\n",
       "            2.18815714e-02, 3.43491767e-01, 9.64896082e-01],\n",
       "           [6.04605564e-01, 7.65846545e-02, 5.79362495e-01, ...,\n",
       "            9.81736358e-01, 7.85225308e-01, 9.71465620e-01],\n",
       "           [4.71360883e-01, 7.08837381e-01, 9.19566473e-01, ...,\n",
       "            9.83532545e-02, 5.87878787e-01, 6.80814599e-01],\n",
       "           ...,\n",
       "           [2.07497658e-01, 1.38034423e-02, 2.93004408e-01, ...,\n",
       "            4.55850961e-01, 7.26392034e-01, 6.25312670e-01],\n",
       "           [6.39220716e-01, 5.71873159e-01, 6.97288840e-01, ...,\n",
       "            6.46634795e-01, 7.29731326e-01, 6.77546504e-01],\n",
       "           [4.92230121e-01, 3.05712514e-01, 2.50202112e-02, ...,\n",
       "            5.59727229e-01, 7.90233690e-01, 5.48845202e-02]],\n",
       "\n",
       "          [[1.71183678e-01, 8.68719888e-01, 2.21606190e-01, ...,\n",
       "            3.17141604e-02, 9.60253633e-01, 7.76894502e-01],\n",
       "           [8.20589395e-01, 8.85110558e-01, 8.03903032e-01, ...,\n",
       "            2.70660680e-01, 2.77848425e-02, 4.34081482e-01],\n",
       "           [4.84428168e-01, 2.61143662e-01, 8.86014858e-01, ...,\n",
       "            1.97454818e-01, 4.28074039e-01, 6.96003747e-01],\n",
       "           ...,\n",
       "           [8.04018030e-01, 6.20984099e-01, 1.62993066e-01, ...,\n",
       "            4.20799297e-01, 8.03660127e-01, 7.23926092e-01],\n",
       "           [3.33440645e-01, 2.15627871e-01, 4.03319182e-01, ...,\n",
       "            6.72546952e-01, 3.86210520e-01, 5.51797908e-01],\n",
       "           [6.93520831e-01, 9.35839867e-01, 8.65569100e-01, ...,\n",
       "            3.17881884e-01, 9.64216312e-01, 1.66292876e-01]],\n",
       "\n",
       "          [[8.30303283e-01, 2.65465043e-01, 6.19792846e-01, ...,\n",
       "            6.99599491e-01, 3.07036249e-01, 2.46808031e-01],\n",
       "           [7.05257255e-01, 4.08739971e-03, 6.15705892e-01, ...,\n",
       "            7.59805710e-01, 7.87593609e-01, 5.59029005e-01],\n",
       "           [9.83179176e-02, 8.81042950e-01, 2.87025313e-01, ...,\n",
       "            4.88416386e-02, 8.38569692e-01, 8.13510998e-01],\n",
       "           ...,\n",
       "           [6.20126590e-01, 5.40385571e-01, 6.37417796e-01, ...,\n",
       "            5.17876258e-01, 9.53953942e-03, 8.25478600e-01],\n",
       "           [4.38199678e-01, 3.42572060e-01, 3.60266786e-02, ...,\n",
       "            2.74623157e-02, 7.61669875e-01, 7.29888604e-01],\n",
       "           [2.76963223e-01, 5.45659307e-01, 3.27095321e-01, ...,\n",
       "            8.50331445e-01, 8.86648586e-01, 1.44267442e-01]],\n",
       "\n",
       "          ...,\n",
       "\n",
       "          [[6.33047232e-01, 8.53180291e-02, 4.17790887e-01, ...,\n",
       "            8.08071969e-01, 1.94341594e-01, 2.53911415e-01],\n",
       "           [7.44482809e-01, 7.55012728e-01, 2.90782615e-01, ...,\n",
       "            3.35781126e-01, 9.55757788e-01, 4.58736269e-01],\n",
       "           [3.36856889e-01, 8.78070313e-01, 2.08553185e-01, ...,\n",
       "            8.34500287e-01, 3.31381742e-01, 5.72137043e-01],\n",
       "           ...,\n",
       "           [1.73259152e-01, 9.81620477e-01, 5.65339291e-01, ...,\n",
       "            9.44225779e-01, 2.52515572e-02, 2.76547189e-01],\n",
       "           [3.31368526e-01, 3.09273859e-01, 8.66072301e-01, ...,\n",
       "            7.40561780e-01, 5.07358641e-01, 1.49134528e-02],\n",
       "           [5.02780744e-01, 2.49672292e-01, 5.59674887e-01, ...,\n",
       "            9.07926556e-01, 5.90976969e-01, 9.39588521e-01]],\n",
       "\n",
       "          [[7.98102906e-01, 3.19031180e-01, 4.93352364e-01, ...,\n",
       "            1.02723554e-01, 6.10793064e-01, 3.36131011e-01],\n",
       "           [5.16559440e-01, 6.50535976e-01, 3.66588380e-01, ...,\n",
       "            5.90450597e-01, 6.37543127e-01, 3.08128436e-01],\n",
       "           [3.73570209e-01, 1.17440033e-01, 5.40628251e-01, ...,\n",
       "            2.67378843e-01, 9.83800481e-01, 5.01134888e-01],\n",
       "           ...,\n",
       "           [2.06321091e-01, 4.94862007e-01, 6.20675872e-01, ...,\n",
       "            9.37241741e-01, 8.06750672e-01, 1.98455894e-01],\n",
       "           [5.85299397e-01, 3.26573534e-01, 7.14787079e-01, ...,\n",
       "            9.07357612e-01, 6.19207279e-01, 5.52332689e-01],\n",
       "           [1.24209315e-01, 5.34079854e-01, 1.00771530e-01, ...,\n",
       "            7.06622219e-02, 1.83865459e-01, 6.35953829e-01]],\n",
       "\n",
       "          [[9.40592523e-01, 8.59620881e-01, 5.31797044e-01, ...,\n",
       "            7.72168320e-01, 1.20323242e-01, 6.57979780e-01],\n",
       "           [1.04176649e-01, 3.60530425e-01, 2.87303778e-01, ...,\n",
       "            5.63663705e-01, 3.15150684e-01, 2.87956413e-01],\n",
       "           [8.51411801e-01, 9.32107158e-01, 8.87116758e-01, ...,\n",
       "            5.95207752e-01, 1.49077034e-01, 9.47181181e-01],\n",
       "           ...,\n",
       "           [2.49953705e-01, 5.70422460e-01, 4.45576473e-01, ...,\n",
       "            4.63232113e-01, 5.54897679e-02, 8.93335885e-01],\n",
       "           [5.99763565e-01, 2.80860534e-02, 8.03125026e-01, ...,\n",
       "            1.86660374e-01, 4.64291403e-01, 5.49552338e-01],\n",
       "           [6.23310437e-01, 9.37215148e-01, 5.77194440e-01, ...,\n",
       "            8.37544079e-01, 7.58685695e-01, 6.77739190e-01]]],\n",
       "\n",
       "\n",
       "         [[[9.00332091e-01, 5.85230367e-01, 7.84897252e-01, ...,\n",
       "            6.09332794e-01, 5.43151395e-01, 3.19670013e-01],\n",
       "           [8.20418538e-01, 1.97504974e-01, 3.77703505e-01, ...,\n",
       "            3.11645204e-01, 4.49340269e-01, 8.26798390e-01],\n",
       "           [2.26173144e-01, 8.39087453e-01, 9.22033321e-01, ...,\n",
       "            9.42226119e-01, 2.14829569e-01, 4.01245252e-02],\n",
       "           ...,\n",
       "           [9.54093760e-01, 8.43630838e-01, 5.78227577e-01, ...,\n",
       "            4.41066121e-01, 1.75344315e-01, 2.00369057e-01],\n",
       "           [2.86865510e-01, 1.97547721e-01, 1.06166546e-01, ...,\n",
       "            9.45430174e-02, 7.42841981e-01, 2.50365971e-01],\n",
       "           [9.63695798e-02, 1.78154478e-01, 4.69011819e-01, ...,\n",
       "            6.77011652e-01, 5.32094210e-01, 7.82324313e-01]],\n",
       "\n",
       "          [[6.70697986e-01, 6.70441090e-01, 5.55444314e-01, ...,\n",
       "            2.59170229e-01, 8.83821731e-01, 6.31425919e-01],\n",
       "           [8.88556505e-01, 6.11018995e-01, 2.59898636e-01, ...,\n",
       "            7.05752568e-01, 7.55043530e-01, 8.97888960e-01],\n",
       "           [1.10118477e-01, 1.11014334e-01, 5.12955338e-01, ...,\n",
       "            6.28951821e-01, 9.12492442e-01, 4.08374147e-01],\n",
       "           ...,\n",
       "           [1.52655300e-01, 2.14076686e-01, 8.52293564e-01, ...,\n",
       "            8.29883292e-02, 6.38734996e-01, 7.23874793e-01],\n",
       "           [5.54895269e-01, 2.52226726e-01, 2.27918286e-02, ...,\n",
       "            9.96111190e-01, 9.25300272e-01, 8.16085370e-01],\n",
       "           [6.16766146e-01, 5.23102368e-01, 8.37931916e-01, ...,\n",
       "            2.91354804e-01, 9.85741506e-01, 6.92009462e-01]],\n",
       "\n",
       "          [[9.48700646e-01, 3.32563383e-01, 7.48379998e-01, ...,\n",
       "            7.36760274e-01, 3.62532308e-01, 7.50725531e-01],\n",
       "           [3.16087942e-01, 5.73944292e-01, 1.69944629e-02, ...,\n",
       "            1.63370242e-01, 8.92327943e-01, 6.14190747e-02],\n",
       "           [6.26720577e-01, 4.39417248e-01, 7.10882441e-01, ...,\n",
       "            8.62240524e-01, 1.94054613e-01, 9.02405341e-01],\n",
       "           ...,\n",
       "           [2.10860312e-01, 6.91710156e-01, 3.86069056e-01, ...,\n",
       "            3.34413964e-01, 9.71265456e-01, 1.40469212e-01],\n",
       "           [5.31937739e-01, 4.37969583e-01, 5.06432134e-01, ...,\n",
       "            6.04967039e-02, 1.94857350e-01, 4.34247171e-01],\n",
       "           [9.61420200e-01, 3.96663468e-02, 4.90849184e-01, ...,\n",
       "            6.57431730e-01, 4.41024858e-01, 5.60987495e-01]],\n",
       "\n",
       "          ...,\n",
       "\n",
       "          [[2.11379678e-01, 1.22518512e-01, 7.10938851e-01, ...,\n",
       "            8.68799392e-01, 2.67004369e-01, 6.08952899e-01],\n",
       "           [6.81341183e-02, 7.76872521e-02, 1.57989612e-01, ...,\n",
       "            8.89353884e-01, 7.15454671e-01, 8.19824404e-01],\n",
       "           [5.56064185e-02, 1.45274878e-01, 1.33566884e-01, ...,\n",
       "            6.19268921e-01, 3.04056563e-02, 6.50612386e-01],\n",
       "           ...,\n",
       "           [3.93840112e-01, 4.93060980e-02, 8.91160452e-01, ...,\n",
       "            3.29215732e-01, 3.23934431e-01, 7.33431006e-01],\n",
       "           [8.08226318e-01, 6.70733445e-01, 2.09408995e-01, ...,\n",
       "            4.27212467e-01, 6.92798842e-01, 4.02401772e-02],\n",
       "           [9.89636977e-01, 8.80346952e-01, 5.48006487e-02, ...,\n",
       "            6.36142338e-01, 7.84365604e-01, 2.63025233e-02]],\n",
       "\n",
       "          [[9.99321846e-01, 6.68714348e-01, 6.39170843e-01, ...,\n",
       "            2.80734962e-01, 3.49135676e-02, 7.01724872e-01],\n",
       "           [8.05340765e-03, 4.62376054e-01, 5.16375020e-01, ...,\n",
       "            8.21784131e-01, 5.64239498e-01, 8.94690676e-01],\n",
       "           [8.90415234e-02, 9.88109235e-01, 4.47252598e-01, ...,\n",
       "            1.24857691e-01, 3.51174591e-01, 4.83223850e-01],\n",
       "           ...,\n",
       "           [1.26525463e-01, 8.15088650e-01, 3.42870774e-01, ...,\n",
       "            2.10950045e-01, 1.03065364e-01, 1.71053164e-01],\n",
       "           [3.30851703e-03, 5.29081587e-01, 1.43340215e-01, ...,\n",
       "            2.29040422e-01, 9.44663122e-02, 6.93294514e-01],\n",
       "           [6.58727818e-01, 3.90703911e-01, 2.95473547e-02, ...,\n",
       "            7.97730809e-02, 8.31868595e-01, 4.23339736e-02]],\n",
       "\n",
       "          [[9.00164917e-01, 6.55689391e-01, 8.27884048e-01, ...,\n",
       "            7.32396627e-01, 7.19997183e-01, 2.45561408e-01],\n",
       "           [4.07205945e-01, 9.96566298e-01, 5.43014460e-01, ...,\n",
       "            2.59305584e-01, 5.87847385e-01, 2.53699958e-01],\n",
       "           [5.92789810e-01, 7.22574266e-01, 1.44292821e-01, ...,\n",
       "            9.44546116e-01, 1.95347687e-01, 5.96867704e-01],\n",
       "           ...,\n",
       "           [2.59554575e-01, 3.25115966e-01, 7.13424912e-01, ...,\n",
       "            3.35409726e-01, 4.18147947e-01, 2.28543752e-01],\n",
       "           [6.69900234e-01, 6.49233940e-01, 1.79013441e-01, ...,\n",
       "            2.74406646e-01, 8.09838959e-01, 1.28604296e-01],\n",
       "           [7.99383448e-01, 4.28479166e-01, 8.22827135e-01, ...,\n",
       "            9.64463439e-01, 3.97921414e-01, 2.45026583e-01]]],\n",
       "\n",
       "\n",
       "         [[[3.36288062e-01, 5.40748977e-01, 8.16255948e-01, ...,\n",
       "            1.12449315e-01, 7.92226744e-01, 9.24095625e-01],\n",
       "           [5.43746169e-01, 6.89248304e-01, 6.44244438e-01, ...,\n",
       "            1.49146036e-01, 5.84217516e-01, 5.82820662e-01],\n",
       "           [5.32677157e-01, 2.17958093e-01, 8.59849006e-01, ...,\n",
       "            6.62815708e-01, 8.38200576e-01, 1.61549265e-01],\n",
       "           ...,\n",
       "           [3.02500983e-01, 7.44326183e-01, 2.40142509e-01, ...,\n",
       "            5.36763387e-01, 9.63495360e-01, 2.98911573e-01],\n",
       "           [1.38600414e-01, 4.67810252e-01, 3.07405730e-01, ...,\n",
       "            6.15621720e-01, 3.78487635e-01, 8.81428440e-01],\n",
       "           [8.76349309e-01, 1.26309668e-01, 6.38473630e-01, ...,\n",
       "            4.73256826e-01, 5.29209333e-01, 4.63015082e-01]],\n",
       "\n",
       "          [[9.67141643e-01, 5.22007388e-01, 7.73202394e-01, ...,\n",
       "            8.26713575e-01, 2.54001069e-01, 6.55798449e-01],\n",
       "           [5.01295637e-01, 1.24514887e-01, 4.72269449e-01, ...,\n",
       "            6.46913325e-01, 1.15393481e-01, 6.08014557e-01],\n",
       "           [1.27295717e-02, 9.11918044e-01, 6.82674817e-02, ...,\n",
       "            7.96328659e-01, 1.72749853e-01, 3.51812064e-01],\n",
       "           ...,\n",
       "           [6.25523721e-01, 7.38407372e-01, 7.73677518e-01, ...,\n",
       "            1.23162926e-01, 3.26042894e-01, 1.75791229e-01],\n",
       "           [2.65351988e-01, 5.05586923e-01, 3.71329618e-01, ...,\n",
       "            7.13021161e-01, 9.34226106e-01, 3.99358911e-01],\n",
       "           [2.33850254e-01, 7.95667365e-01, 1.61567495e-01, ...,\n",
       "            6.93823744e-01, 7.66705454e-01, 7.85318648e-01]],\n",
       "\n",
       "          [[5.92335086e-01, 9.00326556e-01, 8.86130520e-01, ...,\n",
       "            5.01441906e-05, 8.70357290e-01, 2.07999158e-01],\n",
       "           [3.57664822e-01, 7.92041015e-01, 9.25990893e-01, ...,\n",
       "            9.62168125e-01, 6.15575511e-01, 9.66928878e-01],\n",
       "           [8.44187056e-01, 4.97176528e-02, 3.07059119e-01, ...,\n",
       "            2.22866262e-01, 4.85126983e-01, 6.88670239e-01],\n",
       "           ...,\n",
       "           [5.60191020e-02, 3.17929781e-01, 6.10129366e-01, ...,\n",
       "            6.16851503e-01, 1.38667033e-01, 9.19084217e-01],\n",
       "           [8.21041062e-01, 3.88311470e-03, 5.75331462e-01, ...,\n",
       "            3.00326730e-01, 7.42675938e-01, 8.84640315e-01],\n",
       "           [7.07254863e-01, 3.90954142e-01, 7.24880456e-01, ...,\n",
       "            1.86578501e-01, 2.56472288e-01, 5.80344615e-01]],\n",
       "\n",
       "          ...,\n",
       "\n",
       "          [[5.07055727e-01, 1.43060134e-01, 7.96269087e-01, ...,\n",
       "            7.26044224e-01, 8.01201791e-01, 1.55695898e-02],\n",
       "           [7.60638249e-01, 2.55984159e-01, 9.09629237e-01, ...,\n",
       "            4.50535281e-01, 8.19695968e-01, 3.13282976e-01],\n",
       "           [1.05929920e-01, 2.92432496e-02, 4.63462995e-01, ...,\n",
       "            5.10271886e-01, 8.08399347e-01, 5.10243565e-02],\n",
       "           ...,\n",
       "           [2.04807789e-01, 7.71004052e-01, 6.35277350e-01, ...,\n",
       "            2.99775353e-01, 7.62902594e-01, 9.69299578e-01],\n",
       "           [8.25856267e-01, 1.41808741e-01, 5.70579668e-01, ...,\n",
       "            5.13542748e-01, 1.53971798e-01, 9.95339050e-01],\n",
       "           [9.71217210e-01, 3.14312889e-01, 4.76201409e-01, ...,\n",
       "            3.11323067e-01, 9.43914005e-01, 4.97794008e-01]],\n",
       "\n",
       "          [[3.78275789e-01, 4.38781511e-01, 4.25317566e-01, ...,\n",
       "            7.92724059e-01, 7.99259522e-01, 3.44606869e-01],\n",
       "           [8.44910980e-01, 2.79964097e-01, 7.75184871e-01, ...,\n",
       "            7.03844317e-01, 9.26122719e-01, 7.23655200e-01],\n",
       "           [2.79621579e-01, 8.88942718e-01, 5.05263675e-02, ...,\n",
       "            1.05455718e-03, 1.00913710e-01, 5.19392553e-01],\n",
       "           ...,\n",
       "           [2.76848448e-01, 1.13569235e-01, 5.08721073e-01, ...,\n",
       "            4.57123064e-01, 7.97018074e-01, 9.59064901e-01],\n",
       "           [7.82101335e-01, 4.12098535e-01, 1.59172465e-01, ...,\n",
       "            3.35620494e-01, 8.44992856e-01, 4.61601130e-01],\n",
       "           [6.97086529e-01, 8.98203569e-02, 7.52300085e-02, ...,\n",
       "            4.02288171e-01, 3.10367950e-01, 8.56389079e-01]],\n",
       "\n",
       "          [[4.94628152e-01, 3.97555933e-01, 7.75019107e-01, ...,\n",
       "            1.40302251e-01, 2.06566777e-01, 5.77550189e-01],\n",
       "           [5.35189294e-01, 2.28901861e-01, 4.10679966e-01, ...,\n",
       "            7.69324831e-02, 1.05185160e-01, 8.20126424e-01],\n",
       "           [3.09156237e-02, 3.36478090e-02, 5.35877073e-01, ...,\n",
       "            6.78221924e-01, 6.48694715e-01, 8.66253589e-01],\n",
       "           ...,\n",
       "           [9.82231888e-01, 5.10952198e-01, 6.19780928e-01, ...,\n",
       "            5.63481641e-01, 4.95672506e-01, 1.79103185e-01],\n",
       "           [6.96882503e-01, 7.25784911e-01, 6.69716177e-01, ...,\n",
       "            7.03548371e-01, 4.65348318e-01, 3.45771110e-01],\n",
       "           [4.98658198e-01, 8.40804465e-01, 9.69144645e-02, ...,\n",
       "            1.37136075e-03, 4.86934110e-01, 1.16368988e-01]]],\n",
       "\n",
       "\n",
       "         [[[7.27381558e-01, 9.87227004e-01, 6.25183924e-02, ...,\n",
       "            8.50201843e-01, 9.85580879e-01, 1.19521378e-01],\n",
       "           [6.92481608e-01, 5.89634602e-01, 3.19081743e-01, ...,\n",
       "            3.59359189e-02, 8.18810019e-01, 5.86614380e-02],\n",
       "           [4.11589944e-01, 5.21741318e-01, 8.41680719e-01, ...,\n",
       "            4.58059602e-01, 6.62441876e-01, 3.78635360e-01],\n",
       "           ...,\n",
       "           [2.90999412e-01, 3.52126483e-01, 8.50079401e-01, ...,\n",
       "            2.06705600e-01, 9.50075609e-01, 7.25391647e-01],\n",
       "           [9.84104312e-01, 5.55910903e-01, 8.60077460e-01, ...,\n",
       "            2.49815450e-01, 1.60292513e-01, 8.91753474e-01],\n",
       "           [5.48314548e-01, 5.78960346e-01, 6.54045961e-01, ...,\n",
       "            3.86961294e-01, 4.68054603e-01, 5.36749596e-01]],\n",
       "\n",
       "          [[8.28736200e-01, 8.01415416e-01, 7.43644296e-01, ...,\n",
       "            6.75089815e-01, 1.14750981e-01, 1.99717474e-01],\n",
       "           [6.76485928e-01, 1.69483675e-01, 5.64588903e-01, ...,\n",
       "            8.38353376e-01, 9.41074801e-01, 4.83149392e-01],\n",
       "           [8.04752602e-01, 8.01367460e-01, 3.65362305e-01, ...,\n",
       "            2.39701534e-01, 9.69518525e-01, 6.47652750e-01],\n",
       "           ...,\n",
       "           [2.22055218e-01, 7.73311506e-02, 6.91359429e-01, ...,\n",
       "            1.97533312e-01, 8.48019122e-01, 3.00036070e-01],\n",
       "           [6.06953467e-01, 8.03076724e-01, 2.08282718e-01, ...,\n",
       "            7.39938476e-01, 1.11981321e-01, 6.97453686e-01],\n",
       "           [2.44139266e-01, 2.67860539e-02, 2.80163681e-01, ...,\n",
       "            8.42381160e-01, 9.18579538e-01, 2.52808078e-01]],\n",
       "\n",
       "          [[4.32885396e-03, 2.02683369e-01, 4.86611997e-02, ...,\n",
       "            2.93451496e-01, 9.20571484e-01, 3.49158777e-01],\n",
       "           [3.30741185e-01, 2.55326464e-01, 6.02422800e-01, ...,\n",
       "            3.22632309e-01, 8.77519897e-01, 2.25609844e-01],\n",
       "           [5.61144555e-01, 6.21949700e-01, 2.73852846e-01, ...,\n",
       "            8.41310017e-01, 6.53404552e-01, 6.49599182e-01],\n",
       "           ...,\n",
       "           [8.05574186e-01, 9.63086435e-01, 3.75104873e-01, ...,\n",
       "            3.15219544e-01, 1.44355850e-02, 7.42522150e-01],\n",
       "           [4.19614509e-03, 9.45137388e-01, 6.08684836e-01, ...,\n",
       "            6.15606359e-01, 7.51033820e-01, 1.28979956e-01],\n",
       "           [8.79100093e-01, 9.53382274e-01, 8.15477072e-01, ...,\n",
       "            4.06685639e-02, 6.79773272e-01, 7.71749954e-01]],\n",
       "\n",
       "          ...,\n",
       "\n",
       "          [[2.38136745e-01, 7.73989144e-01, 2.17648136e-01, ...,\n",
       "            8.51095866e-01, 5.03696126e-01, 7.19382388e-01],\n",
       "           [5.89448931e-01, 5.84253980e-01, 1.35312568e-01, ...,\n",
       "            2.00283181e-01, 1.93338538e-01, 8.09076068e-01],\n",
       "           [9.57222377e-01, 5.36243773e-01, 7.16153192e-01, ...,\n",
       "            6.76049197e-01, 8.90666416e-01, 1.50638704e-01],\n",
       "           ...,\n",
       "           [6.82387219e-01, 4.33403099e-01, 6.33873325e-01, ...,\n",
       "            3.99907051e-02, 5.52809868e-01, 2.14216849e-01],\n",
       "           [4.37899027e-01, 9.46325553e-01, 9.62139675e-01, ...,\n",
       "            7.17395586e-01, 2.34560059e-01, 8.53793755e-01],\n",
       "           [6.76851476e-01, 2.83762109e-01, 3.92775323e-01, ...,\n",
       "            7.24828617e-02, 4.23365672e-01, 3.36080280e-02]],\n",
       "\n",
       "          [[3.03806594e-02, 8.63427231e-01, 9.17007445e-01, ...,\n",
       "            1.53815985e-01, 2.25600259e-01, 2.35320479e-01],\n",
       "           [5.89101997e-01, 1.14370113e-01, 4.91232042e-02, ...,\n",
       "            3.87194173e-01, 4.09113533e-03, 1.53371261e-01],\n",
       "           [8.33756619e-01, 7.60121502e-01, 4.01255842e-01, ...,\n",
       "            9.69481160e-01, 3.74587353e-01, 6.51930609e-01],\n",
       "           ...,\n",
       "           [8.77447633e-02, 1.86249110e-01, 2.77772543e-01, ...,\n",
       "            8.48279182e-01, 3.30463372e-01, 7.97503567e-01],\n",
       "           [5.85990100e-01, 2.34480239e-01, 1.61792053e-01, ...,\n",
       "            7.34089321e-01, 3.41329655e-01, 3.47056355e-01],\n",
       "           [4.60675495e-01, 9.27880079e-01, 9.50505761e-01, ...,\n",
       "            1.64921650e-01, 7.31689725e-02, 1.11698053e-01]],\n",
       "\n",
       "          [[1.43440458e-01, 9.34037652e-01, 7.96318850e-02, ...,\n",
       "            8.00212089e-01, 8.18479629e-01, 5.94508060e-01],\n",
       "           [7.16350172e-01, 1.65110340e-01, 7.22937854e-01, ...,\n",
       "            2.90291161e-01, 6.10995460e-01, 2.71657147e-01],\n",
       "           [2.01386709e-01, 8.63769122e-01, 9.13201193e-01, ...,\n",
       "            4.88660494e-01, 3.06962787e-01, 4.81995248e-01],\n",
       "           ...,\n",
       "           [9.61525225e-01, 5.25307100e-01, 1.31945058e-01, ...,\n",
       "            3.96960646e-01, 1.69193211e-01, 4.80302091e-01],\n",
       "           [9.25028123e-01, 9.54061300e-01, 3.11148292e-02, ...,\n",
       "            9.16152587e-01, 5.75811195e-01, 2.40858876e-01],\n",
       "           [9.97137758e-01, 5.15191998e-01, 1.75833070e-02, ...,\n",
       "            5.92320957e-01, 5.70283015e-01, 5.82612614e-01]]]],\n",
       "\n",
       "\n",
       "\n",
       "        [[[[6.95241569e-02, 2.40044577e-01, 3.89926954e-01, ...,\n",
       "            3.39025199e-01, 1.09523183e-01, 3.74329672e-03],\n",
       "           [9.95422402e-01, 1.08736138e-01, 2.53908872e-01, ...,\n",
       "            3.44995373e-01, 4.25813325e-01, 2.28963512e-01],\n",
       "           [8.39579346e-02, 6.70055519e-02, 8.94775495e-01, ...,\n",
       "            9.20455937e-01, 8.24180758e-01, 6.60105780e-01],\n",
       "           ...,\n",
       "           [4.79101152e-01, 2.34184769e-01, 2.44398693e-01, ...,\n",
       "            3.77954619e-02, 8.76855875e-01, 7.99712122e-01],\n",
       "           [9.07673333e-02, 9.02649724e-01, 3.80590148e-01, ...,\n",
       "            3.75190629e-01, 2.53136712e-01, 4.61602956e-01],\n",
       "           [6.43833593e-01, 8.80691717e-01, 5.40910777e-02, ...,\n",
       "            9.01144130e-01, 8.76068519e-01, 7.00112461e-01]],\n",
       "\n",
       "          [[6.10426565e-02, 5.71488024e-01, 5.22528066e-01, ...,\n",
       "            9.43415571e-01, 7.79385050e-01, 6.99936228e-01],\n",
       "           [8.39501676e-02, 6.19797586e-01, 7.05018495e-01, ...,\n",
       "            8.82009526e-01, 1.81655763e-01, 7.61800520e-01],\n",
       "           [2.84838761e-01, 6.38666373e-02, 3.72059131e-01, ...,\n",
       "            6.25372586e-01, 9.11073399e-02, 9.06289730e-01],\n",
       "           ...,\n",
       "           [3.96302803e-01, 4.59008904e-01, 2.02782722e-01, ...,\n",
       "            4.00317383e-01, 4.57431469e-01, 2.94257215e-02],\n",
       "           [5.75194918e-01, 4.07323815e-01, 4.15370089e-01, ...,\n",
       "            5.41205143e-02, 9.65000391e-01, 2.50007183e-01],\n",
       "           [4.33466480e-01, 2.01020197e-01, 4.29658971e-01, ...,\n",
       "            5.36222506e-01, 1.65970392e-01, 8.25221624e-01]],\n",
       "\n",
       "          [[8.17613385e-02, 1.62079051e-01, 6.69989190e-02, ...,\n",
       "            7.25702194e-01, 5.17154096e-01, 8.19896847e-01],\n",
       "           [9.97443914e-01, 5.91519038e-01, 5.80486967e-01, ...,\n",
       "            6.43975661e-01, 2.50901586e-01, 5.48356126e-01],\n",
       "           [9.46783161e-01, 8.17526305e-01, 7.48735373e-01, ...,\n",
       "            9.41986940e-01, 7.99412642e-01, 3.60134440e-01],\n",
       "           ...,\n",
       "           [2.07359827e-01, 2.84003531e-01, 2.81137719e-01, ...,\n",
       "            4.70426035e-01, 3.93209373e-01, 1.27220169e-01],\n",
       "           [4.39129131e-01, 1.68125433e-03, 3.93126694e-02, ...,\n",
       "            3.57730246e-01, 2.39256437e-01, 3.30096273e-01],\n",
       "           [5.04038383e-01, 9.36201325e-01, 8.86335483e-02, ...,\n",
       "            9.52641005e-02, 8.37437805e-01, 6.25821744e-01]],\n",
       "\n",
       "          ...,\n",
       "\n",
       "          [[1.97996915e-01, 4.66415181e-02, 4.03876653e-02, ...,\n",
       "            5.27890885e-02, 9.21677265e-02, 1.50613874e-01],\n",
       "           [8.42343263e-01, 4.54774575e-01, 5.04554279e-01, ...,\n",
       "            5.55890010e-01, 8.36695437e-01, 4.49501872e-01],\n",
       "           [9.79439750e-01, 7.44019479e-01, 7.28273109e-02, ...,\n",
       "            6.08793573e-01, 6.02877202e-01, 6.08249361e-01],\n",
       "           ...,\n",
       "           [8.90264998e-01, 7.32724173e-01, 9.47528988e-01, ...,\n",
       "            7.23270841e-01, 5.56670402e-01, 9.50857338e-01],\n",
       "           [5.05423379e-01, 1.48807277e-01, 8.90780173e-01, ...,\n",
       "            2.70616232e-01, 6.19354509e-01, 1.51319385e-01],\n",
       "           [8.47822525e-01, 6.72971346e-01, 8.88880528e-01, ...,\n",
       "            8.35353937e-01, 6.38178888e-01, 3.68841119e-01]],\n",
       "\n",
       "          [[7.70568067e-01, 2.67613425e-01, 6.86872831e-01, ...,\n",
       "            2.51230628e-01, 1.58826492e-01, 4.21915240e-02],\n",
       "           [6.92988172e-01, 2.64467902e-01, 3.50880611e-01, ...,\n",
       "            6.43301908e-01, 5.37771434e-01, 9.71667845e-01],\n",
       "           [7.03397424e-01, 2.55541059e-01, 6.75332239e-01, ...,\n",
       "            8.15125285e-01, 3.39664223e-01, 8.51669596e-01],\n",
       "           ...,\n",
       "           [4.97182954e-01, 6.56054037e-01, 8.27597452e-01, ...,\n",
       "            9.31543915e-01, 4.40867047e-01, 9.53209162e-01],\n",
       "           [2.03539281e-01, 5.73070262e-01, 7.90312236e-01, ...,\n",
       "            8.62652648e-02, 7.51613749e-01, 6.18338603e-01],\n",
       "           [4.05783442e-01, 4.61235548e-01, 3.69031871e-01, ...,\n",
       "            7.81585648e-01, 8.64624769e-01, 2.78069566e-01]],\n",
       "\n",
       "          [[1.64776079e-01, 5.54638362e-01, 2.05015872e-01, ...,\n",
       "            3.93783558e-02, 7.29543730e-02, 9.19087228e-01],\n",
       "           [5.71844359e-01, 3.36779519e-01, 5.73204025e-04, ...,\n",
       "            7.02589562e-01, 2.30194145e-01, 2.02372824e-01],\n",
       "           [3.75664851e-01, 7.51328862e-01, 4.69307024e-01, ...,\n",
       "            1.15642633e-01, 5.31008462e-01, 3.77456096e-01],\n",
       "           ...,\n",
       "           [3.18321163e-01, 1.19755701e-01, 1.03881730e-01, ...,\n",
       "            5.07775718e-01, 7.85756647e-01, 6.07536742e-01],\n",
       "           [3.31184867e-01, 7.00056557e-01, 7.40550014e-01, ...,\n",
       "            2.04591013e-01, 9.57601369e-01, 9.27326832e-01],\n",
       "           [5.52533685e-01, 3.80077683e-01, 4.21296554e-01, ...,\n",
       "            8.03084652e-01, 9.79104452e-01, 1.12103731e-02]]],\n",
       "\n",
       "\n",
       "         [[[8.05530461e-01, 5.59470007e-01, 4.31426190e-01, ...,\n",
       "            9.86939659e-01, 6.89531244e-03, 7.19659896e-01],\n",
       "           [7.18476694e-01, 8.92369199e-02, 8.72243241e-01, ...,\n",
       "            3.98247586e-01, 4.82401974e-02, 5.94114958e-01],\n",
       "           [9.62119161e-01, 4.83476278e-01, 7.33445988e-01, ...,\n",
       "            5.20650071e-01, 9.24843665e-01, 4.47907218e-01],\n",
       "           ...,\n",
       "           [9.17851699e-01, 9.40309289e-01, 4.30187843e-01, ...,\n",
       "            7.03051677e-01, 7.44311803e-01, 3.49218043e-01],\n",
       "           [7.88547462e-02, 3.72347184e-01, 3.93507334e-01, ...,\n",
       "            7.42614112e-01, 2.31755146e-01, 1.84257715e-01],\n",
       "           [9.60513625e-03, 2.19480832e-01, 1.58786937e-01, ...,\n",
       "            7.62504736e-01, 4.07477532e-01, 2.11777267e-01]],\n",
       "\n",
       "          [[9.71445282e-01, 6.28169930e-01, 7.51689118e-01, ...,\n",
       "            5.66545617e-01, 9.12350392e-01, 4.50932825e-01],\n",
       "           [3.05958669e-01, 2.52423680e-01, 1.06981960e-01, ...,\n",
       "            4.49145533e-02, 8.74476029e-01, 4.88388283e-01],\n",
       "           [2.50613776e-01, 7.70531892e-01, 4.82573525e-01, ...,\n",
       "            2.00731757e-01, 7.42344431e-01, 1.55289689e-02],\n",
       "           ...,\n",
       "           [9.55314151e-02, 4.60612534e-01, 9.44624659e-01, ...,\n",
       "            2.74238168e-01, 6.46623999e-03, 3.24393544e-01],\n",
       "           [3.56814628e-01, 9.49669970e-01, 5.11144749e-01, ...,\n",
       "            3.56755749e-01, 4.82282230e-01, 9.67015146e-01],\n",
       "           [9.82949948e-01, 8.51565365e-01, 9.52906100e-01, ...,\n",
       "            2.40137967e-01, 2.21457593e-02, 4.25968100e-01]],\n",
       "\n",
       "          [[9.06228575e-01, 2.68500581e-01, 9.24630148e-01, ...,\n",
       "            8.41045952e-02, 4.64655502e-01, 9.45386912e-01],\n",
       "           [9.91997749e-01, 9.37948654e-02, 7.20042455e-01, ...,\n",
       "            8.47286978e-01, 3.63085007e-01, 5.41592532e-01],\n",
       "           [1.81535170e-01, 1.25339575e-01, 9.08225186e-01, ...,\n",
       "            3.59200424e-01, 5.06635288e-01, 7.74518871e-02],\n",
       "           ...,\n",
       "           [1.57685333e-01, 5.87271677e-01, 2.17281979e-01, ...,\n",
       "            9.01211084e-02, 1.76598345e-01, 5.97213994e-01],\n",
       "           [3.41364302e-02, 5.36881182e-01, 9.66316651e-01, ...,\n",
       "            9.39710065e-01, 6.35511708e-01, 7.38306636e-01],\n",
       "           [7.99745224e-01, 7.44843948e-02, 9.59831912e-01, ...,\n",
       "            4.75428520e-01, 5.14351783e-01, 5.06374013e-01]],\n",
       "\n",
       "          ...,\n",
       "\n",
       "          [[9.36390788e-01, 5.70644977e-01, 1.33080291e-01, ...,\n",
       "            6.71978497e-01, 9.98952146e-01, 2.31996089e-01],\n",
       "           [3.92769654e-02, 5.00487461e-01, 8.68504728e-01, ...,\n",
       "            9.04023873e-01, 6.52307297e-01, 9.89129756e-01],\n",
       "           [7.16433507e-01, 1.53140437e-01, 5.91574925e-01, ...,\n",
       "            6.81956646e-01, 5.73196090e-01, 2.90076274e-01],\n",
       "           ...,\n",
       "           [8.57038988e-01, 9.36172728e-01, 9.49705851e-01, ...,\n",
       "            5.40744619e-01, 9.50040607e-01, 1.99057885e-01],\n",
       "           [7.61898014e-01, 2.32368149e-01, 6.41760348e-01, ...,\n",
       "            7.03812638e-01, 2.86922186e-01, 4.12301727e-01],\n",
       "           [9.56128199e-01, 4.48765052e-01, 9.59481716e-01, ...,\n",
       "            1.33837503e-01, 1.64257971e-01, 8.59567183e-01]],\n",
       "\n",
       "          [[6.36160915e-01, 9.67235415e-01, 8.97363535e-01, ...,\n",
       "            4.11243321e-01, 1.43860333e-01, 4.48602915e-01],\n",
       "           [1.07897776e-01, 5.26369082e-01, 3.96803346e-02, ...,\n",
       "            5.14898476e-01, 3.55972681e-01, 7.31911035e-01],\n",
       "           [9.25587968e-01, 9.64066668e-01, 5.72359973e-01, ...,\n",
       "            2.33516543e-01, 6.34969818e-01, 8.89779396e-01],\n",
       "           ...,\n",
       "           [3.58064124e-01, 6.22974184e-01, 7.12326954e-02, ...,\n",
       "            3.19035873e-01, 7.12490454e-01, 5.33597369e-01],\n",
       "           [2.29758080e-01, 3.56595888e-01, 4.48605818e-01, ...,\n",
       "            6.53056769e-01, 5.53167582e-01, 9.20467049e-01],\n",
       "           [9.30015568e-01, 3.75409677e-02, 3.97704931e-01, ...,\n",
       "            4.80705657e-01, 5.39809547e-01, 6.67925717e-01]],\n",
       "\n",
       "          [[4.62426961e-01, 7.83900257e-01, 7.67244087e-01, ...,\n",
       "            5.85500603e-01, 7.50443574e-01, 4.51659886e-01],\n",
       "           [5.38030126e-01, 5.05297689e-01, 3.20044254e-01, ...,\n",
       "            4.05302864e-01, 7.97542612e-01, 9.64774526e-01],\n",
       "           [3.32385433e-01, 6.36456510e-01, 1.91831661e-01, ...,\n",
       "            2.17854558e-01, 5.47855021e-01, 3.39205514e-02],\n",
       "           ...,\n",
       "           [7.32617425e-01, 8.07086770e-02, 6.23930642e-01, ...,\n",
       "            9.39423076e-01, 6.80067239e-01, 4.67193186e-01],\n",
       "           [3.66741873e-01, 6.14469578e-01, 5.10490755e-01, ...,\n",
       "            3.78336722e-01, 9.93472786e-01, 5.41741220e-01],\n",
       "           [8.86969356e-01, 1.11939298e-01, 4.13327804e-01, ...,\n",
       "            4.64537700e-01, 9.17050785e-01, 8.44844175e-01]]],\n",
       "\n",
       "\n",
       "         [[[7.49310399e-02, 2.95653820e-01, 9.37411347e-01, ...,\n",
       "            8.41265461e-01, 4.42781862e-01, 4.15514319e-01],\n",
       "           [7.31075684e-01, 4.01826729e-02, 8.63811764e-01, ...,\n",
       "            1.02014606e-02, 7.01659895e-01, 9.67841722e-02],\n",
       "           [9.47330184e-01, 7.30120009e-01, 8.51424474e-01, ...,\n",
       "            2.65303720e-01, 5.75211039e-01, 5.46761838e-01],\n",
       "           ...,\n",
       "           [9.71752126e-01, 1.11360415e-01, 4.75385964e-01, ...,\n",
       "            1.68708090e-01, 7.63799659e-01, 2.61394028e-01],\n",
       "           [1.10113421e-01, 8.24397201e-01, 7.70972697e-01, ...,\n",
       "            9.40156016e-01, 7.70809698e-01, 7.68075741e-02],\n",
       "           [7.69022964e-01, 7.17251096e-01, 3.57427208e-01, ...,\n",
       "            3.30069730e-01, 2.18243956e-01, 6.32207007e-01]],\n",
       "\n",
       "          [[8.60693336e-01, 1.91843048e-01, 5.97054374e-01, ...,\n",
       "            2.18998556e-01, 3.51713269e-01, 5.70375118e-02],\n",
       "           [9.52370479e-01, 5.22787354e-01, 5.53238416e-02, ...,\n",
       "            2.21133732e-01, 6.84221358e-02, 8.88823442e-01],\n",
       "           [2.85566349e-01, 3.07372756e-01, 5.50902009e-01, ...,\n",
       "            1.57041592e-01, 5.37300934e-01, 1.28876607e-01],\n",
       "           ...,\n",
       "           [9.72445159e-01, 8.39218875e-01, 9.00765862e-01, ...,\n",
       "            4.38554965e-01, 1.95139020e-01, 9.89951834e-01],\n",
       "           [2.62023840e-01, 1.42165322e-01, 5.37239616e-01, ...,\n",
       "            5.61552010e-01, 1.00780313e-01, 1.37642361e-01],\n",
       "           [9.37738402e-01, 2.85633401e-01, 9.89514289e-01, ...,\n",
       "            4.72401151e-01, 2.81217438e-01, 4.54048750e-01]],\n",
       "\n",
       "          [[4.48280197e-01, 9.64149627e-01, 7.15806513e-01, ...,\n",
       "            4.99187132e-01, 2.37712000e-01, 6.47562907e-01],\n",
       "           [4.87992473e-01, 9.34937139e-01, 5.21365081e-01, ...,\n",
       "            2.44687272e-01, 3.45142649e-01, 9.31563128e-01],\n",
       "           [3.53477029e-01, 3.42893106e-01, 5.87324663e-01, ...,\n",
       "            2.87791363e-01, 7.40845864e-01, 2.17030789e-01],\n",
       "           ...,\n",
       "           [1.26021524e-01, 6.53245679e-01, 6.70127337e-01, ...,\n",
       "            6.23383589e-01, 1.65078014e-01, 3.52171915e-01],\n",
       "           [7.51490549e-01, 5.76015081e-01, 9.94641551e-01, ...,\n",
       "            3.87335191e-03, 7.01967720e-01, 4.69245062e-01],\n",
       "           [8.94782888e-01, 2.08634505e-01, 4.68796643e-01, ...,\n",
       "            4.35040807e-01, 1.00555173e-01, 1.43896712e-01]],\n",
       "\n",
       "          ...,\n",
       "\n",
       "          [[3.26118252e-01, 1.13026558e-01, 2.45482141e-01, ...,\n",
       "            8.81218191e-02, 4.69349093e-01, 7.88297495e-01],\n",
       "           [7.54535046e-01, 7.05740865e-01, 1.76363899e-02, ...,\n",
       "            6.77466037e-01, 5.51345122e-01, 1.41998928e-01],\n",
       "           [2.61214047e-02, 8.63406311e-01, 6.18922114e-01, ...,\n",
       "            3.26681711e-01, 7.64435392e-01, 3.99421508e-01],\n",
       "           ...,\n",
       "           [4.15976404e-01, 7.25718302e-01, 2.19159357e-01, ...,\n",
       "            2.50699660e-02, 5.77222109e-01, 1.50624386e-02],\n",
       "           [4.07157044e-01, 3.57126102e-01, 9.76423392e-01, ...,\n",
       "            4.76949163e-01, 4.90289667e-01, 8.85783966e-01],\n",
       "           [4.70086583e-01, 9.51167838e-01, 1.81885495e-01, ...,\n",
       "            9.83095842e-01, 2.57071975e-01, 7.25141187e-01]],\n",
       "\n",
       "          [[7.66055333e-01, 8.99890098e-01, 8.09786126e-02, ...,\n",
       "            3.53605448e-02, 9.13624692e-01, 3.76543269e-01],\n",
       "           [3.31800990e-01, 6.23076048e-01, 2.97762966e-01, ...,\n",
       "            3.86004983e-01, 3.93000272e-01, 9.16769766e-01],\n",
       "           [3.67131018e-01, 3.62140501e-01, 5.07478380e-01, ...,\n",
       "            3.41472788e-01, 3.99978173e-01, 1.15285513e-01],\n",
       "           ...,\n",
       "           [3.05195771e-01, 7.91440394e-01, 2.83513618e-01, ...,\n",
       "            7.93398208e-01, 8.31518915e-01, 1.37175672e-01],\n",
       "           [3.09791970e-01, 1.61270106e-01, 4.73791480e-01, ...,\n",
       "            8.86611713e-01, 7.74262104e-01, 8.95148763e-01],\n",
       "           [5.58679178e-01, 3.02688879e-01, 5.54938460e-02, ...,\n",
       "            1.80694427e-01, 3.47433266e-01, 6.58904837e-01]],\n",
       "\n",
       "          [[9.53695826e-01, 3.47756031e-01, 7.48928964e-01, ...,\n",
       "            6.98813645e-01, 9.29833882e-01, 1.88587345e-01],\n",
       "           [3.79761067e-01, 2.98338374e-01, 4.33512659e-01, ...,\n",
       "            7.08964164e-01, 1.37303844e-01, 7.22214396e-01],\n",
       "           [6.54081088e-01, 3.82459026e-01, 5.07991704e-02, ...,\n",
       "            1.64989091e-01, 6.15656255e-01, 5.61757305e-01],\n",
       "           ...,\n",
       "           [7.97759938e-01, 5.63731002e-02, 2.15243143e-01, ...,\n",
       "            4.01768185e-01, 4.08363826e-01, 2.12088132e-01],\n",
       "           [6.24174376e-01, 8.23456696e-01, 6.04591433e-01, ...,\n",
       "            1.60230549e-01, 5.59621497e-01, 2.75030477e-01],\n",
       "           [7.59345655e-01, 6.07803654e-01, 7.72889568e-01, ...,\n",
       "            2.33312595e-01, 3.75726330e-01, 2.54156248e-01]]],\n",
       "\n",
       "\n",
       "         [[[2.33946595e-01, 9.14038313e-01, 5.42603495e-01, ...,\n",
       "            3.92315713e-01, 3.08800271e-01, 3.31984484e-01],\n",
       "           [3.77587756e-02, 4.21157780e-01, 1.08839695e-01, ...,\n",
       "            9.44450361e-01, 5.68097854e-01, 3.69101299e-01],\n",
       "           [5.63834971e-01, 2.62354403e-01, 1.21788475e-01, ...,\n",
       "            2.67679656e-01, 1.13213205e-01, 7.07337967e-01],\n",
       "           ...,\n",
       "           [8.18847025e-01, 3.66034027e-01, 6.45629545e-01, ...,\n",
       "            1.71093690e-01, 6.51064094e-01, 1.85404303e-01],\n",
       "           [9.75585581e-01, 5.24337102e-02, 2.84013680e-01, ...,\n",
       "            7.95671076e-01, 2.42733387e-01, 9.85031155e-01],\n",
       "           [9.61146754e-01, 3.72543022e-01, 9.41311976e-01, ...,\n",
       "            9.10446485e-01, 3.83042183e-01, 1.85961072e-01]],\n",
       "\n",
       "          [[2.47152750e-01, 5.79289064e-01, 2.24496307e-01, ...,\n",
       "            9.01564294e-01, 4.58971365e-01, 4.66886189e-01],\n",
       "           [5.44961251e-01, 5.99054753e-01, 7.22603952e-01, ...,\n",
       "            1.01117918e-02, 7.19975191e-01, 2.26553238e-01],\n",
       "           [3.99270160e-01, 2.52231592e-01, 7.70930861e-02, ...,\n",
       "            5.14156636e-01, 7.55210792e-01, 7.63453060e-02],\n",
       "           ...,\n",
       "           [3.41103295e-01, 2.25986070e-01, 3.08720206e-03, ...,\n",
       "            9.05202743e-01, 9.89657088e-01, 3.04439528e-01],\n",
       "           [8.17971711e-01, 5.21128903e-01, 1.34277634e-01, ...,\n",
       "            5.96852294e-01, 6.75154575e-02, 1.75827301e-01],\n",
       "           [1.56819213e-01, 9.26216121e-01, 4.03458416e-01, ...,\n",
       "            6.03462553e-01, 1.30066660e-01, 4.94758000e-01]],\n",
       "\n",
       "          [[6.58320956e-01, 9.08790148e-01, 3.47449173e-01, ...,\n",
       "            3.73432186e-01, 1.90310555e-01, 9.20836637e-01],\n",
       "           [5.71524293e-01, 3.65282385e-01, 1.78967404e-04, ...,\n",
       "            1.07315204e-02, 7.90890501e-01, 8.95977386e-01],\n",
       "           [5.71498701e-01, 2.18103349e-01, 7.68236236e-02, ...,\n",
       "            3.10657038e-01, 3.86382058e-01, 8.49241591e-01],\n",
       "           ...,\n",
       "           [7.67024420e-01, 8.45192737e-01, 5.90442120e-01, ...,\n",
       "            6.34631837e-01, 8.27240271e-01, 4.23828083e-01],\n",
       "           [3.77935168e-01, 7.86459393e-01, 8.98943595e-01, ...,\n",
       "            6.14854506e-01, 4.79694477e-01, 1.08891511e-01],\n",
       "           [3.00890685e-01, 4.17108774e-02, 4.74910232e-01, ...,\n",
       "            1.96442544e-01, 4.77122955e-01, 6.70887918e-01]],\n",
       "\n",
       "          ...,\n",
       "\n",
       "          [[9.71771216e-01, 1.99691923e-01, 7.78215147e-01, ...,\n",
       "            7.41883350e-01, 9.55538043e-01, 1.90182117e-01],\n",
       "           [7.70180084e-01, 9.34382532e-01, 4.55629960e-01, ...,\n",
       "            7.22141329e-01, 6.22440191e-01, 8.24312657e-01],\n",
       "           [5.59709249e-01, 1.67785941e-01, 2.06703872e-01, ...,\n",
       "            8.00735087e-01, 3.02009109e-01, 1.26664116e-01],\n",
       "           ...,\n",
       "           [8.98571374e-01, 9.46611065e-01, 1.61822845e-01, ...,\n",
       "            3.07017439e-01, 2.93460406e-01, 7.86799701e-01],\n",
       "           [6.43944316e-01, 3.65907144e-01, 9.41804025e-01, ...,\n",
       "            1.09579273e-01, 5.23257652e-01, 9.74291059e-01],\n",
       "           [1.26873440e-01, 6.85932614e-01, 8.35847618e-01, ...,\n",
       "            2.29891260e-01, 6.67734966e-01, 5.49666919e-02]],\n",
       "\n",
       "          [[8.42857654e-01, 8.19779582e-01, 4.91331687e-02, ...,\n",
       "            6.99329224e-01, 1.13092871e-01, 3.68479080e-01],\n",
       "           [2.75094522e-01, 6.13657026e-01, 6.78823970e-01, ...,\n",
       "            7.66237678e-01, 2.94479467e-01, 9.15280259e-01],\n",
       "           [6.76693658e-01, 2.47013045e-01, 7.45260608e-01, ...,\n",
       "            6.40319550e-01, 1.57364504e-01, 3.49971081e-01],\n",
       "           ...,\n",
       "           [7.76267111e-02, 8.08538545e-01, 5.48160455e-01, ...,\n",
       "            7.03311765e-01, 8.90191494e-01, 6.98736041e-01],\n",
       "           [1.50843077e-01, 3.95046780e-01, 9.88760232e-01, ...,\n",
       "            5.23343062e-01, 3.56215089e-02, 2.39977924e-01],\n",
       "           [9.84279319e-01, 2.06859582e-02, 3.24208895e-01, ...,\n",
       "            1.14281026e-01, 6.51259945e-01, 5.26213421e-01]],\n",
       "\n",
       "          [[8.69971147e-01, 1.07533255e-01, 8.24967549e-01, ...,\n",
       "            8.88999470e-01, 3.74424145e-01, 1.91122335e-01],\n",
       "           [9.08164543e-01, 9.58543580e-01, 1.89416050e-01, ...,\n",
       "            3.60151583e-01, 3.35617353e-01, 3.05608829e-01],\n",
       "           [8.56248618e-01, 3.45267756e-01, 2.87189122e-01, ...,\n",
       "            3.38783174e-01, 7.55102726e-01, 6.71764444e-01],\n",
       "           ...,\n",
       "           [8.98255659e-01, 3.92399395e-01, 1.85826923e-02, ...,\n",
       "            9.66803694e-01, 7.99493415e-02, 5.89226035e-01],\n",
       "           [2.51113714e-01, 9.41693367e-01, 4.89677399e-01, ...,\n",
       "            9.48128448e-01, 8.49559339e-01, 1.43209556e-01],\n",
       "           [7.85147698e-01, 6.14888582e-01, 1.15251596e-01, ...,\n",
       "            9.97648102e-01, 2.90119162e-01, 4.13599738e-01]]]]]])"
      ]
     },
     "execution_count": 6,
     "metadata": {},
     "output_type": "execute_result"
    }
   ],
   "source": [
    "np.random.rand(2, 3, 4, 10, 12, 23)"
   ]
  },
  {
   "cell_type": "code",
   "execution_count": 7,
   "id": "fc774ea7",
   "metadata": {},
   "outputs": [
    {
     "data": {
      "text/plain": [
       "array([[0.6852798 , 0.9067561 , 0.02179314],\n",
       "       [0.1464782 , 0.74489973, 0.65574237]])"
      ]
     },
     "execution_count": 7,
     "metadata": {},
     "output_type": "execute_result"
    }
   ],
   "source": [
    "#принимает в качестве аргумента именно кортеж без распаковки SAMPLE:\n",
    "shape = (2, 3)\n",
    "np.random.sample(shape)"
   ]
  },
  {
   "cell_type": "markdown",
   "id": "1be8813a",
   "metadata": {},
   "source": [
    "#### uniform"
   ]
  },
  {
   "cell_type": "code",
   "execution_count": 8,
   "id": "fc2220aa",
   "metadata": {},
   "outputs": [
    {
     "data": {
      "text/plain": [
       "0.6811754410499452"
      ]
     },
     "execution_count": 8,
     "metadata": {},
     "output_type": "execute_result"
    }
   ],
   "source": [
    "np.random.uniform()"
   ]
  },
  {
   "cell_type": "code",
   "execution_count": 9,
   "id": "113cbf07",
   "metadata": {},
   "outputs": [
    {
     "data": {
      "text/plain": [
       "-10.14613528984065"
      ]
     },
     "execution_count": 9,
     "metadata": {},
     "output_type": "execute_result"
    }
   ],
   "source": [
    "np.random.uniform(-30, 50)"
   ]
  },
  {
   "cell_type": "code",
   "execution_count": 10,
   "id": "4711926b",
   "metadata": {},
   "outputs": [
    {
     "data": {
      "text/plain": [
       "array([0.65316507, 0.62571089, 0.55099531, 0.57227899, 0.65552465])"
      ]
     },
     "execution_count": 10,
     "metadata": {},
     "output_type": "execute_result"
    }
   ],
   "source": [
    "np.random.uniform(0.5, 0.75, size=5)"
   ]
  },
  {
   "cell_type": "code",
   "execution_count": 11,
   "id": "4aefad10",
   "metadata": {},
   "outputs": [
    {
     "data": {
      "text/plain": [
       "array([[-955.16895044, -438.40588418,  417.82225588],\n",
       "       [-615.98056521, -395.14962994, -301.27542836]])"
      ]
     },
     "execution_count": 11,
     "metadata": {},
     "output_type": "execute_result"
    }
   ],
   "source": [
    "np.random.uniform(-1000, 500, size=(2, 3))"
   ]
  },
  {
   "cell_type": "code",
   "execution_count": 12,
   "id": "45fc9eda",
   "metadata": {},
   "outputs": [
    {
     "data": {
      "text/plain": [
       "array([[10,  8,  8],\n",
       "       [ 7,  7, 11],\n",
       "       [ 7,  6, 11]])"
      ]
     },
     "execution_count": 12,
     "metadata": {},
     "output_type": "execute_result"
    }
   ],
   "source": [
    "#randint типа данных dtype=int\n",
    "np.random.randint(6, 12, size=(3,3))"
   ]
  },
  {
   "cell_type": "code",
   "execution_count": 15,
   "id": "c1bd1855",
   "metadata": {},
   "outputs": [
    {
     "data": {
      "text/plain": [
       "array([0, 4, 5, 1, 2, 3])"
      ]
     },
     "execution_count": 15,
     "metadata": {},
     "output_type": "execute_result"
    }
   ],
   "source": [
    "#shuffle:\n",
    "arr = np.arange(6)\n",
    "np.random.shuffle(arr)\n",
    "arr"
   ]
  },
  {
   "cell_type": "code",
   "execution_count": 16,
   "id": "a89d4a81",
   "metadata": {},
   "outputs": [
    {
     "name": "stdout",
     "output_type": "stream",
     "text": [
      "['ACDC' 'Deep Purple' 'Pink Floyd' 'The Beatles']\n",
      "['The Beatles', 'Pink Floyd', 'ACDC', 'Deep Purple']\n"
     ]
    }
   ],
   "source": [
    "#permutation:\n",
    "playlist = [\"The Beatles\", \"Pink Floyd\", \"ACDC\", \"Deep Purple\"]\n",
    "shuffled = np.random.permutation(playlist)\n",
    "print(shuffled)\n",
    "print(playlist)"
   ]
  },
  {
   "cell_type": "code",
   "execution_count": 17,
   "id": "c9c40ea2",
   "metadata": {},
   "outputs": [
    {
     "data": {
      "text/plain": [
       "array([8, 0, 5, 1, 7, 3, 6, 2, 9, 4])"
      ]
     },
     "execution_count": 17,
     "metadata": {},
     "output_type": "execute_result"
    }
   ],
   "source": [
    "np.random.permutation(10)"
   ]
  },
  {
   "cell_type": "code",
   "execution_count": 20,
   "id": "9f79bf99",
   "metadata": {},
   "outputs": [
    {
     "name": "stdout",
     "output_type": "stream",
     "text": [
      "['John' 'Ivan']\n"
     ]
    }
   ],
   "source": [
    "#choice:\n",
    "workers = ['Ivan', 'Nikita', 'Maria', 'John', 'Kate']\n",
    "choice = np.random.choice(workers, size=2, replace=False)\n",
    "print(choice)"
   ]
  },
  {
   "cell_type": "code",
   "execution_count": 21,
   "id": "8ef7d614",
   "metadata": {},
   "outputs": [
    {
     "data": {
      "text/plain": [
       "array([[3, 6, 8, 9],\n",
       "       [6, 8, 7, 9],\n",
       "       [3, 6, 1, 2]])"
      ]
     },
     "execution_count": 21,
     "metadata": {},
     "output_type": "execute_result"
    }
   ],
   "source": [
    "#seed:\n",
    "np.random.seed(23)\n",
    "np.random.randint(10, size=(3,4))"
   ]
  },
  {
   "cell_type": "code",
   "execution_count": 22,
   "id": "4918e69d",
   "metadata": {},
   "outputs": [
    {
     "name": "stdout",
     "output_type": "stream",
     "text": [
      "[8 8 3]\n",
      "[7 7 0]\n",
      "[4 2 5]\n"
     ]
    }
   ],
   "source": [
    "np.random.seed(100)\n",
    "print(np.random.randint(10, size=3))\n",
    "print(np.random.randint(10, size=3))\n",
    "print(np.random.randint(10, size=3))"
   ]
  },
  {
   "cell_type": "code",
   "execution_count": 70,
   "id": "12b33aa1",
   "metadata": {
    "scrolled": true
   },
   "outputs": [
    {
     "name": "stdout",
     "output_type": "stream",
     "text": [
      "0.6059782788074047\n",
      "[ 1.44214488e+03  1.51654277e+02  5.28813265e+02  2.01501516e+03\n",
      "  1.28240517e+02  2.38594033e+02  1.48460111e+03  1.28755048e+03\n",
      "  1.55273730e+03  6.03577336e+01 -2.28417401e+01  1.93936169e+03\n",
      "  1.18854621e+03  3.80736459e+01  1.06852230e+03  1.18847514e+03\n",
      "  1.94250320e+03  1.09681462e+03  6.55790201e+02  8.31607324e+02\n",
      "  2.88216888e+02  1.08596141e+03  2.73553360e+02  1.11722142e+03\n",
      "  8.84076551e+02  9.74175063e+02  1.63694713e+03  1.43966053e+03\n",
      " -7.88273550e-02  1.30919192e+03  1.24700551e+03  1.64761920e+03\n",
      "  2.93903055e+02  1.19056852e+03  1.19102890e+03  5.03619976e+02\n",
      "  1.74254881e+03  1.13013901e+03  1.98142287e+03  8.10086179e+02\n",
      "  1.24235695e+02  9.54671885e+02  7.87407805e+02  1.83850479e+03\n",
      "  1.38927296e+03  1.78361285e+03  1.12847065e+03  1.23255777e+03\n",
      "  5.92935602e+02  1.63845066e+03  5.12482326e+02  5.17676863e+02\n",
      "  2.87071500e+02  4.25673103e+02  1.26315547e+03  1.85668749e+02\n",
      "  6.93866612e+02  1.25597031e+03  1.69165738e+03 -1.14109610e+01\n",
      "  7.49751798e+02  5.71302264e+02  1.41598784e+03  8.78722492e+02\n",
      "  1.58385034e+03  4.72720431e+01  1.74866286e+03  1.53681677e+03\n",
      "  1.52507069e+03 -1.30026693e+01  1.14052595e+03  1.57050607e+03\n",
      "  4.45144214e+02  6.55484014e+02  1.70211167e+03  1.32352048e+03\n",
      "  1.48775347e+03  7.55865456e+02  5.46671153e+02  6.58255417e+02\n",
      "  4.47789576e+02  1.32531521e+03  1.11271101e+03  1.95630157e+03\n",
      "  7.52065787e+02  5.67491766e+02  1.94873645e+03  1.64302682e+03\n",
      "  5.13023798e+02  1.63733634e+03  1.05905257e+03  1.40986573e+03\n",
      "  1.76034306e+03  9.26837823e+02  9.61739380e+02  1.25799224e+03\n",
      "  5.95362077e+02  1.20174562e+03  8.58645865e+02  1.18856546e+02\n",
      "  1.97784238e+03  8.32199760e+02  1.05091750e+02  1.63022440e+03\n",
      "  2.30207657e+02  3.50845784e+02  1.38015863e+03  1.40801317e+03\n",
      "  1.71847049e+02  7.04684178e+02  1.59248393e+03  1.60891952e+03\n",
      "  1.57812208e+03  1.71269509e+03  4.94223069e+02  1.94849514e+02\n",
      "  1.33961669e+03  1.44252669e+03  1.71320327e+02  4.28962033e+02]\n",
      "[[46 93]\n",
      " [35 41]\n",
      " [17 45]]\n",
      "[ 6 10  2  8 14 16  4 12]\n",
      "[ 4  6 10]\n",
      "[ 6 10  4]\n"
     ]
    }
   ],
   "source": [
    "# Не забудьте импортировать numpy и сразу задать seed 2021\n",
    "import numpy as np\n",
    "np.random.seed(2021)\n",
    "\n",
    "# В simple сохранте случайное число в диапазоне от 0 до 1\n",
    "simple = np.random.rand()\n",
    "print(simple)\n",
    "# Сгенерируйте 120 чисел в диапазоне от -150 до 2021, сохраните их\n",
    "# в переменную randoms\n",
    "randoms = np.random.uniform(-150, 2021, size=120)\n",
    "print(randoms)\n",
    "# Получите массив из случайных целых чисел от 1 до 100 (включительно)\n",
    "# из 3 строк и 2 столбцов. Сохраните результат в table\n",
    "table = np.random.randint(1, 101, size=(3,2))\n",
    "print(table)\n",
    "# В переменную even сохраните четные числа от 2 до 16 (включительно)\n",
    "even = np.arange(2,17,2)\n",
    "print(even)\n",
    "# Перемешайте числа в even так, чтобы массив even изменился\n",
    "np.random.shuffle(even)\n",
    "print(even)\n",
    "# Получите из even 3 числа без повторений. Сохраните их в переменную select\n",
    "select = np.random.choice(even, size=3, replace=False)\n",
    "print(select)\n",
    "# Получите переменную triplet, которая должна содержать перемешанные\n",
    "# значения из массива select (сам select измениться не должен)\n",
    "triplet = np.random.permutation(select)\n",
    "print(triplet)"
   ]
  },
  {
   "cell_type": "markdown",
   "id": "7a50feef",
   "metadata": {},
   "source": [
    "### 10. Модуль NumPy. Закрепление знаний"
   ]
  },
  {
   "cell_type": "code",
   "execution_count": null,
   "id": "acf6345c",
   "metadata": {},
   "outputs": [],
   "source": [
    "#задание на платформе:\n",
    "from hidden import a, b\n",
    "# Пишите здесь команды, который помогут\n",
    "# найти ответы на вопросы\n",
    "import numpy as np\n",
    "print(np.int64(a)+np.int64(b))"
   ]
  },
  {
   "cell_type": "code",
   "execution_count": 5,
   "id": "c5959f9a",
   "metadata": {},
   "outputs": [
    {
     "data": {
      "text/plain": [
       "array([[0., 1., 0., 1.],\n",
       "       [1., 0., 1., 0.],\n",
       "       [0., 1., 0., 1.],\n",
       "       [1., 0., 1., 0.]])"
      ]
     },
     "execution_count": 5,
     "metadata": {},
     "output_type": "execute_result"
    }
   ],
   "source": [
    "def get_chess(a):\n",
    "    arr = np.zeros((a, a))\n",
    "    arr[1::2, ::2] = 1\n",
    "    arr[::2, 1::2] = 1\n",
    "    return arr\n",
    "get_chess(4)"
   ]
  },
  {
   "cell_type": "code",
   "execution_count": 7,
   "id": "ef797102",
   "metadata": {},
   "outputs": [
    {
     "data": {
      "text/plain": [
       "(array([3, 4, 1, 2, 5]), 2560527389)"
      ]
     },
     "execution_count": 7,
     "metadata": {},
     "output_type": "execute_result"
    }
   ],
   "source": [
    "def shuffle_seed(array):\n",
    "    seed = np.random.randint(2 ** 32, dtype=np.uint32)\n",
    "    np.random.seed(seed)\n",
    "    result = np.random.permutation(array)\n",
    "    return result, seed\n",
    "array = [1, 2, 3, 4, 5]\n",
    "shuffle_seed(array)"
   ]
  },
  {
   "cell_type": "code",
   "execution_count": null,
   "id": "fdb9b70a",
   "metadata": {},
   "outputs": [],
   "source": [
    "def min_max_dist(*vectors):\n",
    "    pass\n",
    "    # Напишите тело функции\n",
    "\n",
    "vec1 = np.array([1,2,3])\n",
    "vec2 = np.array([4,5,6])\n",
    "vec3 = np.array([7, 8, 9])\n",
    " \n",
    "min_max_dist(vec1, vec2, vec3)"
   ]
  }
 ],
 "metadata": {
  "kernelspec": {
   "display_name": "Python 3",
   "language": "python",
   "name": "python3"
  },
  "language_info": {
   "codemirror_mode": {
    "name": "ipython",
    "version": 3
   },
   "file_extension": ".py",
   "mimetype": "text/x-python",
   "name": "python",
   "nbconvert_exporter": "python",
   "pygments_lexer": "ipython3",
   "version": "3.8.8"
  }
 },
 "nbformat": 4,
 "nbformat_minor": 5
}
