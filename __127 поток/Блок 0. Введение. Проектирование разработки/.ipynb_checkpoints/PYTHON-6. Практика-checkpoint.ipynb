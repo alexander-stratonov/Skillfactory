{
 "cells": [
  {
   "cell_type": "markdown",
   "id": "d143e6c7",
   "metadata": {},
   "source": [
    "# 1. Основы Python"
   ]
  },
  {
   "cell_type": "code",
   "execution_count": 1,
   "id": "58d1a1f2",
   "metadata": {},
   "outputs": [
    {
     "data": {
      "text/plain": [
       "238328"
      ]
     },
     "execution_count": 1,
     "metadata": {},
     "output_type": "execute_result"
    }
   ],
   "source": [
    "python_string = 'Hello! My name is Python. I will help you to analyze some data'\n",
    "len(python_string)**3"
   ]
  },
  {
   "cell_type": "code",
   "execution_count": 2,
   "id": "adf1f4b0",
   "metadata": {},
   "outputs": [
    {
     "data": {
      "text/plain": [
       "'Python'"
      ]
     },
     "execution_count": 2,
     "metadata": {},
     "output_type": "execute_result"
    }
   ],
   "source": [
    "python_string[18:24]"
   ]
  },
  {
   "cell_type": "code",
   "execution_count": 5,
   "id": "e39c7742",
   "metadata": {},
   "outputs": [
    {
     "data": {
      "text/plain": [
       "13"
      ]
     },
     "execution_count": 5,
     "metadata": {},
     "output_type": "execute_result"
    }
   ],
   "source": [
    "python_string.replace(\"!\", \"\\n \")\n",
    "python_string.replace(\".\", \"\\n \")\n",
    "len(python_string.split())"
   ]
  },
  {
   "cell_type": "code",
   "execution_count": 6,
   "id": "64b36740",
   "metadata": {},
   "outputs": [
    {
     "name": "stdout",
     "output_type": "stream",
     "text": [
      "User Lena changed password to qwerty\n"
     ]
    }
   ],
   "source": [
    "def change_password(user_name, new_password):\n",
    "    return \"User {} changed password to {}\".format(user_name,new_password)\n",
    "\n",
    "print(change_password(\"Lena\", \"qwerty\"))"
   ]
  },
  {
   "cell_type": "markdown",
   "id": "db701c8d",
   "metadata": {},
   "source": [
    "# 2. Погружение в типы данных"
   ]
  },
  {
   "cell_type": "code",
   "execution_count": 7,
   "id": "8f315be4",
   "metadata": {},
   "outputs": [
    {
     "name": "stdout",
     "output_type": "stream",
     "text": [
      "['57th', 'a', 'and', 'are', 'arrakis', 'as', 'balances', 'be', 'begin', 'beginning', 'bene', 'born', 'by', 'caladan', 'care', 'correct', 'deceived', 'delicate', 'do', 'dune', 'emperor', 'every', 'fact', 'fifteen', 'first', 'for', 'forever', 'gesserit', 'he', 'him', 'his', 'in', 'is', 'iv', 'known', 'knows', 'life', 'lived', 'locate', 'most', \"muad'dib\", 'not', 'of', 'on', 'padishah', 'place', 'planet', 'shaddam', 'sister', 'special', 'study', 'take', 'taking', 'that', 'the', 'then', 'there', 'this', 'time', 'to', 'was', 'year', 'years', 'you', 'your']\n"
     ]
    }
   ],
   "source": [
    "# Напишите функцию get_unique_words(), которая избавляется от знаков препинаний \n",
    "# и пробелов в тексте и возвращает упорядоченный список \n",
    "# (слова расположены по алфавиту) из уникальных (неповторяющихся) слов.\n",
    "\n",
    "# Можно использовать готовый список со знаками препинания:\n",
    "\n",
    "punctuation_list = ['.', ',', ';', ':', '...', '!', '?', '-', '\"', '(', ')']\n",
    "# Текст, который можно использовать в качестве примера:\n",
    "text_example = \"A beginning is the time for taking the most delicate care that the balances are correct. This every sister of the Bene Gesserit knows. To begin your study of the life of Muad'Dib, then take care that you first place him in his time: born in the 57th year of the Padishah Emperor, Shaddam IV. And take the most special care that you locate Muad'Dib in his place: the planet Arrakis. Do not be deceived by the fact that he was born on Caladan and lived his first fifteen years there. Arrakis, the planet known as Dune, is forever his place.\"\n",
    "\n",
    "def get_unique_words(text):\n",
    "    for x in punctuation_list:\n",
    "        text=text.replace(x,\"\")\n",
    "    text=list(set(text.lower().split()))\n",
    "    text.sort()\n",
    "    return text\n",
    "\n",
    "print(get_unique_words(text_example))"
   ]
  },
  {
   "cell_type": "code",
   "execution_count": 11,
   "id": "e146943e",
   "metadata": {},
   "outputs": [
    {
     "name": "stdout",
     "output_type": "stream",
     "text": [
      "0\n",
      "8\n"
     ]
    }
   ],
   "source": [
    "# Разработайте функцию holes_count(), которая подсчитывает количество отверстий \n",
    "# в заданном числе. Например, в цифре 8 два отверстия, в цифре 9 - одно. \n",
    "# В числе 146 - два отверстия. \n",
    "# Подсказка: используйте словарь для записи количества отверстий в цифрах\n",
    "def holes_count(number):\n",
    "    holes_dict = {\"0\": 1, \"4\": 1, \"6\": 1, \"8\": 2, \"9\": 1}\n",
    "    str_number = str(number)\n",
    "    holes_count = 0\n",
    "    for digit in str_number:\n",
    "        holes_count += holes_dict.get(digit, 0)\n",
    "    return holes_count\n",
    "\n",
    "\n",
    "print(holes_count(123))\n",
    "print(holes_count(8888))"
   ]
  },
  {
   "cell_type": "markdown",
   "id": "55f6b368",
   "metadata": {},
   "source": [
    "# 3. Условные операторы"
   ]
  },
  {
   "cell_type": "code",
   "execution_count": 14,
   "id": "a3c029f4",
   "metadata": {},
   "outputs": [
    {
     "name": "stdout",
     "output_type": "stream",
     "text": [
      "2222\n"
     ]
    }
   ],
   "source": [
    "# Напишите функция find_min_number(), которая принимает три числа на вход \n",
    "# и возвращает наименьшее из них.\n",
    "\n",
    "# Используйте условия для решения задачи\n",
    "\n",
    "def find_min_number(a, b, c):\n",
    "    if a<b and a<c:\n",
    "        return a\n",
    "    elif b<a and b<c:\n",
    "        return b\n",
    "    else:\n",
    "        return c\n",
    "\n",
    "print(find_min_number(9999999999991, 2222, 333333333))"
   ]
  },
  {
   "cell_type": "code",
   "execution_count": 13,
   "id": "f0668417",
   "metadata": {},
   "outputs": [
    {
     "name": "stdout",
     "output_type": "stream",
     "text": [
      "11\n"
     ]
    }
   ],
   "source": [
    "def find_min_number(a, b, c):\n",
    "    min_number = 0\n",
    "    if a < b:\n",
    "        min_number = a\n",
    "    else:\n",
    "        min_number = b\n",
    "    if min_number > c:\n",
    "        min_number = c\n",
    "    return min_number\n",
    "\n",
    "\n",
    "print(find_min_number(1, 2, 3))\n",
    "print(find_min_number(1, 2, -10))\n",
    "\n",
    "\n",
    "def sum_min_numbers(a, b, c):\n",
    "    min_number = find_min_number(a, b, c)\n",
    "    number_list = [a, b, c]\n",
    "    number_list.remove(min_number)\n",
    "    if number_list[0] < number_list[1]:\n",
    "        min_sum = number_list[0] + min_number\n",
    "    else:\n",
    "        min_sum = number_list[1] + min_number\n",
    "    return min_sum\n",
    "\n",
    "\n",
    "print(sum_min_numbers(1, 2, 3))\n",
    "print(sum_min_numbers(1, 2, -10))"
   ]
  },
  {
   "cell_type": "code",
   "execution_count": 17,
   "id": "db2bfc22",
   "metadata": {},
   "outputs": [
    {
     "name": "stdout",
     "output_type": "stream",
     "text": [
      "False\n",
      "True\n"
     ]
    }
   ],
   "source": [
    "# Напишите функцию is_divided_by_six(), которая проверяет, делится ли число на шесть. \n",
    "# При решении воспользуйтесь тернарным оператором!\n",
    "\n",
    "# Функция должна вернуть True, если число делится на шесть или False в обратном случае.\n",
    "\n",
    "# Подсказка: число делится на шесть, если оно делится на 2 и на 3\n",
    "\n",
    "def is_divided_by_six(number):\n",
    "    if number%2 == 0 and number%3 == 0:\n",
    "        return True\n",
    "    return False\n",
    "\n",
    "print(is_divided_by_six(13))\n",
    "print(is_divided_by_six(12))"
   ]
  },
  {
   "cell_type": "code",
   "execution_count": 21,
   "id": "6f44e141",
   "metadata": {},
   "outputs": [
    {
     "name": "stdout",
     "output_type": "stream",
     "text": [
      "0\n",
      "1\n",
      "-1\n"
     ]
    }
   ],
   "source": [
    "# Напишите функцию check_number_sign(), которая возвращает 1, если число положительное, \n",
    "# -1, если число отрицательное, 0, если число - 0.\n",
    "# Используйте в коде конструкцию if-elif-else.\n",
    "# Функция принимает на вход одно число.\n",
    "\n",
    "def check_number_sign(x):\n",
    "    if x > 0:\n",
    "        return 1\n",
    "    elif x < 0:\n",
    "        return -1\n",
    "    else:\n",
    "        return 0\n",
    "print(check_number_sign(0))\n",
    "print(check_number_sign(100))\n",
    "print(check_number_sign(-1))"
   ]
  },
  {
   "cell_type": "code",
   "execution_count": 24,
   "id": "ac6eaea7",
   "metadata": {},
   "outputs": [
    {
     "name": "stdout",
     "output_type": "stream",
     "text": [
      "Zero division error!\n",
      "None\n",
      "1.0\n"
     ]
    }
   ],
   "source": [
    "def division(a, b):\n",
    "    try:\n",
    "        c = a / b\n",
    "    except ZeroDivisionError:\n",
    "        print(\"Zero division error!\")\n",
    "        return\n",
    "    return c\n",
    "print(division(1, 0))\n",
    "print(division(1, 1))"
   ]
  },
  {
   "cell_type": "markdown",
   "id": "009f1830",
   "metadata": {},
   "source": [
    "# 4. Циклы"
   ]
  },
  {
   "cell_type": "code",
   "execution_count": 44,
   "id": "7e7c07e3",
   "metadata": {},
   "outputs": [
    {
     "name": "stdout",
     "output_type": "stream",
     "text": [
      "True\n",
      "False\n"
     ]
    }
   ],
   "source": [
    "# Напишите функцию lucky_ticket(), которая проверяет, является ли билетик счастливым.\n",
    "# Памятка: билетик счастливый, если сумма первых трех цифр равна сумме последних трех цифр.\n",
    "# На вход функция получает шестизначное число.\n",
    "def lucky_ticket(ticket_number):\n",
    "    sum_left = 0\n",
    "    sum_right = 0\n",
    "    for i in range(6):\n",
    "        if i < 3:\n",
    "            sum_right += ticket_number // 10**i % 10\n",
    "        else:\n",
    "            sum_left  += ticket_number // 10**i % 10 \n",
    "    if sum_left == sum_right:\n",
    "        return True\n",
    "    else:\n",
    "        return False \n",
    "print(lucky_ticket(111111))\n",
    "print(lucky_ticket(123456))"
   ]
  },
  {
   "cell_type": "code",
   "execution_count": 49,
   "id": "c7ed9deb",
   "metadata": {},
   "outputs": [
    {
     "name": "stdout",
     "output_type": "stream",
     "text": [
      "0\n",
      "1\n",
      "1\n",
      "8\n"
     ]
    }
   ],
   "source": [
    "# Числа Фибоначчи. \n",
    "# Напишите функцию def fib_number(), которая получается на вход некоторое \n",
    "# число n и выводит n-e число Фибоначчи. \n",
    "# Задачу можно решить как с помощью цикла for, так и с помощью цикла while\n",
    "# Примечание: числа Фибоначчи определяются так\n",
    "# ```\n",
    "# a0 = 0, a1 = 1, a2 = a1 + a0 = 1, an = a_n-1 + a_n-2\n",
    "# ```\n",
    "# Примечание: в модуле по функциям уже было задание на вычисление чисел Фибоначчи \n",
    "# с помощью рекурсивных функций. Здесь необходимо реализовать те же вычисления, \n",
    "# но без использования рекурсии.\n",
    "\n",
    "def fib_number(n):\n",
    "    a, b = 0, 1\n",
    "    for i in range(n):\n",
    "        a, b = b, a + b\n",
    "    return a\n",
    "print(fib_number(0))\n",
    "print(fib_number(1))\n",
    "print(fib_number(2))\n",
    "print(fib_number(6))"
   ]
  },
  {
   "cell_type": "code",
   "execution_count": 55,
   "id": "d8972784",
   "metadata": {},
   "outputs": [
    {
     "name": "stdout",
     "output_type": "stream",
     "text": [
      "5\n"
     ]
    }
   ],
   "source": [
    "# Напишите функцию def even_numbers_in_matrix(), \n",
    "# которая получает на вход матрицу (список из списков) \n",
    "# и возвращает количество четных чисел в ней.\n",
    "\n",
    "matrix_example = [\n",
    "          [1, 5, 4],\n",
    "          [4, 2, -2],\n",
    "          [7, 65, 88]]\n",
    "def even_numbers_in_matrix(matrix):\n",
    "    chet = []\n",
    "    for i in matrix:\n",
    "        for x in i:\n",
    "            if x % 2 == 0:\n",
    "                chet.append(x)\n",
    "    return len(chet)\n",
    "print(even_numbers_in_matrix(matrix_example))"
   ]
  },
  {
   "cell_type": "code",
   "execution_count": 60,
   "id": "8cd631a6",
   "metadata": {},
   "outputs": [
    {
     "name": "stdout",
     "output_type": "stream",
     "text": [
      "[[2, 10, 8], [8, 4, -4], [14, 130, 176]]\n"
     ]
    }
   ],
   "source": [
    "# Напишите функцию def matrix_sum(), которая получает на вход две матрицы \n",
    "# и возвращает их сумму.\n",
    "# Примечание: чтобы найти сумму двух матриц, нужно просуммировать \n",
    "# их соответствующие элементы. Но перед этим необходимо проверить, что размеры \n",
    "# матриц одинаковы (одинаковое количество столбцов и одинаковое количество строк)\n",
    "# Например:\n",
    "# 1 2 3   2 3 4   3 5 7\n",
    "# 2 3 4 + 4 5 6 = 6 8 10\n",
    "# 5 6 7   4 3 2   9 9 9\n",
    "\n",
    "matrix_example = [\n",
    "          [1, 5, 4],\n",
    "          [4, 2, -2],\n",
    "          [7, 65, 88]\n",
    "]\n",
    "\n",
    "def matrix_sum(matrix1, matrix2):\n",
    "\n",
    "  # check matrices dimensions\n",
    "\n",
    "    if len(matrix1) != len(matrix2) or len(matrix1[0]) \\\n",
    "        != len(matrix2[0]):\n",
    "        print('Error! Matrices dimensions are different!')\n",
    "        return\n",
    "\n",
    "    matrix_lines = len(matrix1)\n",
    "    matrix_rows = len(matrix1[0])\n",
    "\n",
    "  # find matrix sum\n",
    "\n",
    "    sum_matrix = []\n",
    "\n",
    "    for i in range(matrix_lines):       \n",
    "        line_tmp = []\n",
    "        for j in range(matrix_rows):\n",
    "            line_tmp.append(matrix1[i][j] + matrix2[i][j])\n",
    "        sum_matrix.append(line_tmp)\n",
    "\n",
    "    return sum_matrix\n",
    "\n",
    "print(matrix_sum(matrix_example, matrix_example))"
   ]
  },
  {
   "cell_type": "markdown",
   "id": "52992218",
   "metadata": {},
   "source": [
    "# 5. Функции"
   ]
  },
  {
   "cell_type": "code",
   "execution_count": null,
   "id": "18b12f2a",
   "metadata": {},
   "outputs": [],
   "source": []
  }
 ],
 "metadata": {
  "kernelspec": {
   "display_name": "Python 3",
   "language": "python",
   "name": "python3"
  },
  "language_info": {
   "codemirror_mode": {
    "name": "ipython",
    "version": 3
   },
   "file_extension": ".py",
   "mimetype": "text/x-python",
   "name": "python",
   "nbconvert_exporter": "python",
   "pygments_lexer": "ipython3",
   "version": "3.8.8"
  },
  "varInspector": {
   "cols": {
    "lenName": 16,
    "lenType": 16,
    "lenVar": 40
   },
   "kernels_config": {
    "python": {
     "delete_cmd_postfix": "",
     "delete_cmd_prefix": "del ",
     "library": "var_list.py",
     "varRefreshCmd": "print(var_dic_list())"
    },
    "r": {
     "delete_cmd_postfix": ") ",
     "delete_cmd_prefix": "rm(",
     "library": "var_list.r",
     "varRefreshCmd": "cat(var_dic_list()) "
    }
   },
   "types_to_exclude": [
    "module",
    "function",
    "builtin_function_or_method",
    "instance",
    "_Feature"
   ],
   "window_display": false
  }
 },
 "nbformat": 4,
 "nbformat_minor": 5
}
