{
 "cells": [
  {
   "cell_type": "markdown",
   "id": "1171d87c",
   "metadata": {},
   "source": [
    "# 2. Область видимости переменных. Замыкание"
   ]
  },
  {
   "cell_type": "code",
   "execution_count": 3,
   "id": "9a2ef9b7",
   "metadata": {},
   "outputs": [
    {
     "name": "stdout",
     "output_type": "stream",
     "text": [
      "Root of power 2 from 9 equals 3.0\n"
     ]
    }
   ],
   "source": [
    "# функция печатает квадратный корень\n",
    "def print_root(value, n=2):\n",
    "    # Зададим внутреннюю функцию\n",
    "    # Она будет являться вспомогательной\n",
    "    def root(value, n=2):\n",
    "        result = value ** (1/n)\n",
    "        return result\n",
    "    # Получим результат из внутренней функции\n",
    "    res = root(value, n)\n",
    "    # Печатаем результат и не возвращаем его\n",
    "    print('Root of power', n, 'from', value, 'equals', res)\n",
    "print_root(9)"
   ]
  },
  {
   "cell_type": "code",
   "execution_count": 1,
   "id": "8718d6df",
   "metadata": {},
   "outputs": [
    {
     "name": "stdout",
     "output_type": "stream",
     "text": [
      "Employee John Doe is registered with the company TheBlindMice\n"
     ]
    }
   ],
   "source": [
    "#объявляем внешнюю функцию для регистрации сотрудников\n",
    "def register_employee(name, surname):\n",
    "    #объявляем функцию для промежуточных вычислений\n",
    "    def create_full_name():\n",
    "        #функция использует внешние переменные name и surname\n",
    "        sep = ' ' #разделитель между именем и фамилией\n",
    "        result = name + sep + surname #вычисляем полное имя\n",
    "        return result\n",
    "    full_name = create_full_name() #вызываем внутреннюю функцию\n",
    "    #выводим результат на экран, используя внешнюю переменную company_name\n",
    "    print('Employee {} is registered with the company {}'.format(full_name, company_name))\n",
    "    \n",
    "company_name = 'TheBlindMice' #название компании\n",
    "register_employee('John','Doe') #вызов функции"
   ]
  },
  {
   "cell_type": "code",
   "execution_count": 2,
   "id": "74b29937",
   "metadata": {},
   "outputs": [
    {
     "name": "stdout",
     "output_type": "stream",
     "text": [
      "1\n"
     ]
    }
   ],
   "source": [
    "global_counter = 0\n",
    " \n",
    "def add_one():\n",
    "    # Обозначим, что переменная global_counter\n",
    "    # является глобальной\n",
    "    global global_counter\n",
    "    global_counter += 1\n",
    "add_one()\n",
    "print(global_counter)"
   ]
  },
  {
   "cell_type": "code",
   "execution_count": 4,
   "id": "1ce24718",
   "metadata": {},
   "outputs": [
    {
     "name": "stdout",
     "output_type": "stream",
     "text": [
      "1\n"
     ]
    }
   ],
   "source": [
    "def outer_function():\n",
    "    enclosing_counter = 0\n",
    "    def inner_function():\n",
    "        # С помощью оператора nonlocal покажем,\n",
    "        # что переменная enclosing_counter находится\n",
    "        # во внешней функции\n",
    "        nonlocal enclosing_counter\n",
    "        enclosing_counter += 1\n",
    "        print(enclosing_counter)\n",
    "    inner_function()\n",
    "outer_function()"
   ]
  },
  {
   "cell_type": "markdown",
   "id": "456d07e1",
   "metadata": {},
   "source": [
    "#### ПРИМЕНЕНИЕ ОБЛАСТИ ВИДИМОСТИ ПЕРЕМЕННЫХ"
   ]
  },
  {
   "cell_type": "code",
   "execution_count": 6,
   "id": "18b2636e",
   "metadata": {},
   "outputs": [
    {
     "name": "stdout",
     "output_type": "stream",
     "text": [
      "1\n",
      "2\n",
      "3\n"
     ]
    }
   ],
   "source": [
    "# Функция, которая создаёт счётчик\n",
    "def counter():\n",
    "    # Начальное значение счётчика — 0\n",
    "    number = 0\n",
    "    # Функция add будет каждый раз прибавлять\n",
    "    # к счётчику 1 при запуске\n",
    "    def add():\n",
    "        # Сообщаем, что number берём из\n",
    "        # внешней функции\n",
    "        nonlocal number\n",
    "        # Увеличиваем значение счётчика на 1   \n",
    "        number += 1\n",
    "        # Возвращаем текущее число запусков счётчика\n",
    "        return number\n",
    "    # Возвращаем не результат вычислений,\n",
    "    # а непосредственно саму функцию add\n",
    "    # без круглых скобок!\n",
    "    return add\n",
    "counter1 = counter()\n",
    "# Запустим counter как обычную функцию\n",
    "print(counter1())\n",
    "print(counter1())\n",
    "print(counter1())"
   ]
  },
  {
   "cell_type": "code",
   "execution_count": 9,
   "id": "8dac3f8b",
   "metadata": {},
   "outputs": [
    {
     "name": "stdout",
     "output_type": "stream",
     "text": [
      "25\n",
      "125\n",
      "144\n"
     ]
    }
   ],
   "source": [
    "def saver():\n",
    "    pigs = 0\n",
    "    def adder(x):\n",
    "        nonlocal pigs\n",
    "        pigs += x\n",
    "        return pigs\n",
    "    return adder\n",
    "pig = saver()\n",
    "print(pig(25))\n",
    "print(pig(100))\n",
    "print(pig(19))"
   ]
  },
  {
   "cell_type": "markdown",
   "id": "5eaf7a34",
   "metadata": {},
   "source": [
    "# 3. Рекурсия"
   ]
  },
  {
   "cell_type": "code",
   "execution_count": null,
   "id": "71ce0a32",
   "metadata": {},
   "outputs": [],
   "source": []
  }
 ],
 "metadata": {
  "kernelspec": {
   "display_name": "Python 3",
   "language": "python",
   "name": "python3"
  },
  "language_info": {
   "codemirror_mode": {
    "name": "ipython",
    "version": 3
   },
   "file_extension": ".py",
   "mimetype": "text/x-python",
   "name": "python",
   "nbconvert_exporter": "python",
   "pygments_lexer": "ipython3",
   "version": "3.8.8"
  },
  "varInspector": {
   "cols": {
    "lenName": 16,
    "lenType": 16,
    "lenVar": 40
   },
   "kernels_config": {
    "python": {
     "delete_cmd_postfix": "",
     "delete_cmd_prefix": "del ",
     "library": "var_list.py",
     "varRefreshCmd": "print(var_dic_list())"
    },
    "r": {
     "delete_cmd_postfix": ") ",
     "delete_cmd_prefix": "rm(",
     "library": "var_list.r",
     "varRefreshCmd": "cat(var_dic_list()) "
    }
   },
   "types_to_exclude": [
    "module",
    "function",
    "builtin_function_or_method",
    "instance",
    "_Feature"
   ],
   "window_display": false
  }
 },
 "nbformat": 4,
 "nbformat_minor": 5
}
