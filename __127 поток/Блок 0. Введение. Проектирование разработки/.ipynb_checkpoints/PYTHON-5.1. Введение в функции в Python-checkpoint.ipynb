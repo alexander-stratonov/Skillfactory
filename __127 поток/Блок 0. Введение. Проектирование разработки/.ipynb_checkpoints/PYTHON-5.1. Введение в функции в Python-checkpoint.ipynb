{
 "cells": [
  {
   "cell_type": "code",
   "execution_count": 1,
   "id": "89bfd694",
   "metadata": {},
   "outputs": [
    {
     "name": "stdout",
     "output_type": "stream",
     "text": [
      "750\n"
     ]
    }
   ],
   "source": [
    "def get_total(units, price):\n",
    "    return units*price\n",
    "print(get_total(15, 50))"
   ]
  },
  {
   "cell_type": "code",
   "execution_count": 3,
   "id": "32de0b4d",
   "metadata": {},
   "outputs": [
    {
     "name": "stdout",
     "output_type": "stream",
     "text": [
      "Speed cannot be equal to 0!\n"
     ]
    }
   ],
   "source": [
    "def get_time(distance, speed):\n",
    "    if speed == 0:\n",
    "        raise ValueError(\"Speed cannot be equal to 0!\")\n",
    "    if distance < 0 or speed < 0:\n",
    "        raise ValueError(\"Distance or speed cannot be below 0!\")\n",
    "    result = distance / speed\n",
    "    return result\n",
    "#попытка вызвать функцию с некорректными аргументами\n",
    "try:\n",
    "    print(get_time(100, 0))\n",
    "#должна завершиться с ошибкой ValueError, которую мы выведем в блоке except\n",
    "except ValueError as e:\n",
    "    print(e)"
   ]
  },
  {
   "cell_type": "code",
   "execution_count": 4,
   "id": "7734a636",
   "metadata": {},
   "outputs": [
    {
     "name": "stdout",
     "output_type": "stream",
     "text": [
      "9.0\n"
     ]
    }
   ],
   "source": [
    "def root(value, n=2):\n",
    "    # Как мы уже выяснили, чтобы посчитать\n",
    "    # корень степени n из числа, можно возвести это число\n",
    "    # в степень 1/n\n",
    "    result = value ** (1/n)\n",
    "    return result\n",
    "print(root(81))\n",
    "# Должно быть напечатано:\n",
    "# 9.0"
   ]
  },
  {
   "cell_type": "code",
   "execution_count": 13,
   "id": "a5435442",
   "metadata": {},
   "outputs": [
    {
     "ename": "ValueError",
     "evalue": "Invalid Mark!",
     "output_type": "error",
     "traceback": [
      "\u001b[1;31m---------------------------------------------------------------------------\u001b[0m",
      "\u001b[1;31mValueError\u001b[0m                                Traceback (most recent call last)",
      "\u001b[1;32m<ipython-input-13-39e936389548>\u001b[0m in \u001b[0;36m<module>\u001b[1;34m\u001b[0m\n\u001b[0;32m      6\u001b[0m     \u001b[0mjournal\u001b[0m\u001b[1;33m[\u001b[0m\u001b[0mname\u001b[0m\u001b[1;33m]\u001b[0m \u001b[1;33m=\u001b[0m \u001b[0mmark\u001b[0m\u001b[1;33m\u001b[0m\u001b[1;33m\u001b[0m\u001b[0m\n\u001b[0;32m      7\u001b[0m     \u001b[1;32mreturn\u001b[0m \u001b[0mjournal\u001b[0m\u001b[1;33m\u001b[0m\u001b[1;33m\u001b[0m\u001b[0m\n\u001b[1;32m----> 8\u001b[1;33m \u001b[0madd_mark\u001b[0m\u001b[1;33m(\u001b[0m\u001b[1;34m'Ivanov'\u001b[0m\u001b[1;33m,\u001b[0m \u001b[1;36m6\u001b[0m\u001b[1;33m)\u001b[0m\u001b[1;33m\u001b[0m\u001b[1;33m\u001b[0m\u001b[0m\n\u001b[0m",
      "\u001b[1;32m<ipython-input-13-39e936389548>\u001b[0m in \u001b[0;36madd_mark\u001b[1;34m(name, mark, journal)\u001b[0m\n\u001b[0;32m      1\u001b[0m \u001b[1;32mdef\u001b[0m \u001b[0madd_mark\u001b[0m\u001b[1;33m(\u001b[0m\u001b[0mname\u001b[0m\u001b[1;33m,\u001b[0m \u001b[0mmark\u001b[0m\u001b[1;33m,\u001b[0m \u001b[0mjournal\u001b[0m\u001b[1;33m=\u001b[0m\u001b[1;32mNone\u001b[0m\u001b[1;33m)\u001b[0m\u001b[1;33m:\u001b[0m\u001b[1;33m\u001b[0m\u001b[1;33m\u001b[0m\u001b[0m\n\u001b[0;32m      2\u001b[0m     \u001b[1;32mif\u001b[0m \u001b[0mmark\u001b[0m \u001b[1;32mnot\u001b[0m \u001b[1;32min\u001b[0m \u001b[1;33m[\u001b[0m\u001b[1;36m2\u001b[0m\u001b[1;33m,\u001b[0m\u001b[1;36m3\u001b[0m\u001b[1;33m,\u001b[0m\u001b[1;36m4\u001b[0m\u001b[1;33m,\u001b[0m\u001b[1;36m5\u001b[0m\u001b[1;33m]\u001b[0m\u001b[1;33m:\u001b[0m\u001b[1;33m\u001b[0m\u001b[1;33m\u001b[0m\u001b[0m\n\u001b[1;32m----> 3\u001b[1;33m         \u001b[1;32mraise\u001b[0m \u001b[0mValueError\u001b[0m\u001b[1;33m(\u001b[0m\u001b[1;34m\"Invalid Mark!\"\u001b[0m\u001b[1;33m)\u001b[0m\u001b[1;33m\u001b[0m\u001b[1;33m\u001b[0m\u001b[0m\n\u001b[0m\u001b[0;32m      4\u001b[0m     \u001b[1;32mif\u001b[0m \u001b[0mjournal\u001b[0m \u001b[1;32mis\u001b[0m \u001b[1;32mNone\u001b[0m\u001b[1;33m:\u001b[0m\u001b[1;33m\u001b[0m\u001b[1;33m\u001b[0m\u001b[0m\n\u001b[0;32m      5\u001b[0m         \u001b[0mjournal\u001b[0m \u001b[1;33m=\u001b[0m \u001b[1;33m{\u001b[0m\u001b[1;33m}\u001b[0m\u001b[1;33m\u001b[0m\u001b[1;33m\u001b[0m\u001b[0m\n",
      "\u001b[1;31mValueError\u001b[0m: Invalid Mark!"
     ]
    }
   ],
   "source": [
    "def add_mark(name, mark, journal=None):\n",
    "    if mark not in [2,3,4,5]:\n",
    "        raise ValueError(\"Invalid Mark!\")\n",
    "    if journal is None:\n",
    "        journal = {}\n",
    "    journal[name] = mark\n",
    "    return journal\n",
    "add_mark('Ivanov', 6)"
   ]
  },
  {
   "cell_type": "code",
   "execution_count": 2,
   "id": "74dcbbc9",
   "metadata": {},
   "outputs": [
    {
     "ename": "ValueError",
     "evalue": "speed cannot be below 0!",
     "output_type": "error",
     "traceback": [
      "\u001b[1;31m---------------------------------------------------------------------------\u001b[0m",
      "\u001b[1;31mValueError\u001b[0m                                Traceback (most recent call last)",
      "\u001b[1;32m<ipython-input-2-bdab0c3ae245>\u001b[0m in \u001b[0;36m<module>\u001b[1;34m\u001b[0m\n\u001b[0;32m      9\u001b[0m     \u001b[0mresult\u001b[0m \u001b[1;33m=\u001b[0m \u001b[0mdistance\u001b[0m \u001b[1;33m/\u001b[0m \u001b[0mspeed\u001b[0m\u001b[1;33m\u001b[0m\u001b[1;33m\u001b[0m\u001b[0m\n\u001b[0;32m     10\u001b[0m     \u001b[1;32mreturn\u001b[0m \u001b[0mresult\u001b[0m\u001b[1;33m\u001b[0m\u001b[1;33m\u001b[0m\u001b[0m\n\u001b[1;32m---> 11\u001b[1;33m \u001b[0mget_time\u001b[0m\u001b[1;33m(\u001b[0m\u001b[1;36m100\u001b[0m\u001b[1;33m,\u001b[0m \u001b[1;36m0\u001b[0m\u001b[1;33m)\u001b[0m\u001b[1;33m\u001b[0m\u001b[1;33m\u001b[0m\u001b[0m\n\u001b[0m",
      "\u001b[1;32m<ipython-input-2-bdab0c3ae245>\u001b[0m in \u001b[0;36mget_time\u001b[1;34m(distance, speed)\u001b[0m\n\u001b[0;32m      6\u001b[0m         \u001b[1;31m# Дополнительно в скобках после слова ValueError пишем текст сообщения\u001b[0m\u001b[1;33m\u001b[0m\u001b[1;33m\u001b[0m\u001b[1;33m\u001b[0m\u001b[0m\n\u001b[0;32m      7\u001b[0m         \u001b[1;31m# об ошибке, чтобы сразу было понятно, чем вызвана ошибка.\u001b[0m\u001b[1;33m\u001b[0m\u001b[1;33m\u001b[0m\u001b[1;33m\u001b[0m\u001b[0m\n\u001b[1;32m----> 8\u001b[1;33m         \u001b[1;32mraise\u001b[0m \u001b[0mValueError\u001b[0m\u001b[1;33m(\u001b[0m\u001b[1;34m\"speed cannot be below 0!\"\u001b[0m\u001b[1;33m)\u001b[0m\u001b[1;33m\u001b[0m\u001b[1;33m\u001b[0m\u001b[0m\n\u001b[0m\u001b[0;32m      9\u001b[0m     \u001b[0mresult\u001b[0m \u001b[1;33m=\u001b[0m \u001b[0mdistance\u001b[0m \u001b[1;33m/\u001b[0m \u001b[0mspeed\u001b[0m\u001b[1;33m\u001b[0m\u001b[1;33m\u001b[0m\u001b[0m\n\u001b[0;32m     10\u001b[0m     \u001b[1;32mreturn\u001b[0m \u001b[0mresult\u001b[0m\u001b[1;33m\u001b[0m\u001b[1;33m\u001b[0m\u001b[0m\n",
      "\u001b[1;31mValueError\u001b[0m: speed cannot be below 0!"
     ]
    }
   ],
   "source": [
    "def get_time(distance, speed):\n",
    "    # Если расстояние или скорость отрицательные, то возвращаем ошибку\n",
    "    if speed == 0:\n",
    "        # Оператор raise возвращает (raise — досл. англ. \"поднимать\")\n",
    "        # объект-исключение. В данном случае ValueError (некорректное значение).\n",
    "        # Дополнительно в скобках после слова ValueError пишем текст сообщения\n",
    "        # об ошибке, чтобы сразу было понятно, чем вызвана ошибка.\n",
    "        raise ValueError(\"speed cannot be below 0!\")\n",
    "    result = distance / speed\n",
    "    return result\n",
    "get_time(100, 0)"
   ]
  },
  {
   "cell_type": "markdown",
   "id": "9c0cd9ed",
   "metadata": {},
   "source": [
    "### 4. Продвинутая передача аргументов"
   ]
  },
  {
   "cell_type": "code",
   "execution_count": 4,
   "id": "87227a51",
   "metadata": {},
   "outputs": [
    {
     "name": "stdout",
     "output_type": "stream",
     "text": [
      "5.0\n",
      "3.0\n",
      "Root of power 3 from 27 equals 3.0\n",
      "3.0\n"
     ]
    }
   ],
   "source": [
    "def root(value, n=2, verbose=False):\n",
    "    result = value ** (1/n)\n",
    "    if verbose:\n",
    "        # Аргументы в функции print,\n",
    "        # перечисленные через запятую,\n",
    "        # печатаются через пробел\n",
    "        print('Root of power', n, 'from',\n",
    "            value, 'equals', result)\n",
    "    return result\n",
    "print(root(25))\n",
    "print(root(27, 3))\n",
    "print(root(27, 3, True))"
   ]
  },
  {
   "cell_type": "markdown",
   "id": "19edfdcc",
   "metadata": {},
   "source": [
    "### 5. Продвинутая обработка аргументов"
   ]
  },
  {
   "cell_type": "code",
   "execution_count": 4,
   "id": "0b58abf1",
   "metadata": {},
   "outputs": [
    {
     "name": "stdout",
     "output_type": "stream",
     "text": [
      "150\n"
     ]
    }
   ],
   "source": [
    "def mult(*args):\n",
    "    u=1\n",
    "    for i in args:\n",
    "        u *= i\n",
    "    return u\n",
    "print(mult(3,5,10))"
   ]
  },
  {
   "cell_type": "code",
   "execution_count": 5,
   "id": "45b8be10",
   "metadata": {},
   "outputs": [
    {
     "name": "stdout",
     "output_type": "stream",
     "text": [
      "Python, SQL, Machine Learning, Statistics\n"
     ]
    }
   ],
   "source": [
    "langs = ['Python', 'SQL', 'Machine Learning', 'Statistics']\n",
    "print(*langs, sep=\", \")"
   ]
  },
  {
   "cell_type": "code",
   "execution_count": 19,
   "id": "c635cb54",
   "metadata": {},
   "outputs": [
    {
     "name": "stdout",
     "output_type": "stream",
     "text": [
      "Kuznetsov: 4.45\n"
     ]
    }
   ],
   "source": [
    "marks = [4,5,5,5,5,3,4,4,5,4,5]\n",
    "def mean_mark(name, *marks):\n",
    "    result = round(sum(marks) / len(marks),2)\n",
    "    print(name+':', result)\n",
    "mean_mark('Kuznetsov', *marks)"
   ]
  },
  {
   "cell_type": "markdown",
   "id": "11c847cb",
   "metadata": {},
   "source": [
    "### 6. Lambda-функции"
   ]
  },
  {
   "cell_type": "code",
   "execution_count": 20,
   "id": "29580266",
   "metadata": {},
   "outputs": [
    {
     "name": "stdout",
     "output_type": "stream",
     "text": [
      "2.0\n"
     ]
    }
   ],
   "source": [
    "nth_root = lambda num, n: num**(1/n)\n",
    "print(nth_root(16,4))"
   ]
  },
  {
   "cell_type": "code",
   "execution_count": 23,
   "id": "c9452cc6",
   "metadata": {},
   "outputs": [
    {
     "name": "stdout",
     "output_type": "stream",
     "text": [
      "even\n",
      "odd\n"
     ]
    }
   ],
   "source": [
    "is_even = lambda num: \"even\" if num % 2 == 0 \\\n",
    "    else \"odd\"\n",
    "print(is_even(2))\n",
    "print(is_even(3))"
   ]
  },
  {
   "cell_type": "code",
   "execution_count": 25,
   "id": "dda981ab",
   "metadata": {},
   "outputs": [
    {
     "name": "stdout",
     "output_type": "stream",
     "text": [
      "['cc', 'bbb', 'aaa', 'ababa', 'aaaaa']\n"
     ]
    }
   ],
   "source": [
    "def get_length(line):\n",
    "    return len(line)\n",
    "\n",
    "new_list = ['bbb', 'ababa','aaa', 'aaaaa',  'cc']\n",
    "new_list.sort(key=get_length)\n",
    "print(new_list)"
   ]
  },
  {
   "cell_type": "code",
   "execution_count": 34,
   "id": "6f846d6f",
   "metadata": {},
   "outputs": [
    {
     "name": "stdout",
     "output_type": "stream",
     "text": [
      "5.0\n",
      "9.055385138137417\n"
     ]
    }
   ],
   "source": [
    "hyp = lambda  a,b: (a**2 + b**2)**(1/2)\n",
    "print(hyp(3,4))\n",
    "print(hyp(1,9))"
   ]
  },
  {
   "cell_type": "code",
   "execution_count": null,
   "id": "12928ecc",
   "metadata": {},
   "outputs": [],
   "source": [
    "def sort_sides(l_in):\n",
    "    # Вместо pass напишите свою функцию\n",
    "    pass\n",
    "print(sort_sides([(3,4), (1,2), (10,10)]))"
   ]
  },
  {
   "cell_type": "code",
   "execution_count": 35,
   "id": "f71a83c2",
   "metadata": {},
   "outputs": [
    {
     "name": "stdout",
     "output_type": "stream",
     "text": [
      "[(1, 2), (3, 4), (10, 10)]\n"
     ]
    }
   ],
   "source": [
    "def sort_sides(l_in):\n",
    "    l_in.sort(key=lambda x: (x[0]**2 + x[1]**2) ** (1/2))\n",
    "    return l_in\n",
    "print(sort_sides([(3,4), (1,2), (10,10)]))"
   ]
  },
  {
   "cell_type": "markdown",
   "id": "29f9fb51",
   "metadata": {},
   "source": [
    "### 7. Закрепление знаний"
   ]
  },
  {
   "cell_type": "code",
   "execution_count": 2,
   "id": "c6be368d",
   "metadata": {},
   "outputs": [
    {
     "name": "stdout",
     "output_type": "stream",
     "text": [
      "1\n",
      "None\n"
     ]
    }
   ],
   "source": [
    "def get_less(list_in, num):\n",
    "    for i in list_in:\n",
    "        if i < num:\n",
    "            return i\n",
    "    return None\n",
    "l = [1, 5, 8,  10]\n",
    "print(get_less(l, 8))\n",
    "print(get_less(l, 0))"
   ]
  },
  {
   "cell_type": "code",
   "execution_count": 8,
   "id": "062ef411",
   "metadata": {},
   "outputs": [
    {
     "name": "stdout",
     "output_type": "stream",
     "text": [
      "(31, 1, 2019)\n"
     ]
    }
   ],
   "source": [
    "def split_date(date):\n",
    "    x,y,z=date[:2],date[2:4],date[4:]\n",
    "    return int(x),int(y),int(z)\n",
    "print(split_date(\"31012019\"))"
   ]
  },
  {
   "cell_type": "code",
   "execution_count": 9,
   "id": "669daf66",
   "metadata": {},
   "outputs": [
    {
     "name": "stdout",
     "output_type": "stream",
     "text": [
      "False\n",
      "False\n",
      "True\n"
     ]
    }
   ],
   "source": [
    "def is_prime(num):\n",
    "    if num==1:\n",
    "        return False\n",
    "    for i in range(2, num):\n",
    "        if num % i == 0:\n",
    "            return False\n",
    "    return True\n",
    "print(is_prime(1))\n",
    "print(is_prime(10))\n",
    "print(is_prime(13))"
   ]
  },
  {
   "cell_type": "code",
   "execution_count": 10,
   "id": "84698483",
   "metadata": {},
   "outputs": [
    {
     "name": "stdout",
     "output_type": "stream",
     "text": [
      "10.0\n",
      "3.0\n"
     ]
    }
   ],
   "source": [
    "def between_min_max(*nums):\n",
    "    return (min(nums)+max(nums))/2\n",
    "print(between_min_max(10))\n",
    "print(between_min_max(1,2,3,4,5))"
   ]
  },
  {
   "cell_type": "code",
   "execution_count": null,
   "id": "564aa6cf",
   "metadata": {},
   "outputs": [],
   "source": [
    "def best_student(...):\n"
   ]
  },
  {
   "cell_type": "code",
   "execution_count": 12,
   "id": "146f1976",
   "metadata": {},
   "outputs": [
    {
     "name": "stdout",
     "output_type": "stream",
     "text": [
      "False\n",
      "True\n"
     ]
    }
   ],
   "source": [
    "is_palindrom = lambda x: 'yes' if x==x[::-1] else 'no'\n",
    "print(is_palindrom('1234'))\n",
    "print(is_palindrom('12321'))"
   ]
  },
  {
   "cell_type": "code",
   "execution_count": 13,
   "id": "6196bcc5",
   "metadata": {},
   "outputs": [
    {
     "name": "stdout",
     "output_type": "stream",
     "text": [
      "60\n"
     ]
    }
   ],
   "source": [
    "area = lambda a,b: a*b\n",
    "print(area(12,5))"
   ]
  },
  {
   "cell_type": "code",
   "execution_count": 15,
   "id": "1f0fa41e",
   "metadata": {},
   "outputs": [
    {
     "name": "stdout",
     "output_type": "stream",
     "text": [
      "3.0\n"
     ]
    }
   ],
   "source": [
    "between_min_max = lambda *nums: (min(nums)+max(nums))/2\n",
    "print(between_min_max(1,2,3,4,5))"
   ]
  },
  {
   "cell_type": "code",
   "execution_count": null,
   "id": "81fb63e4",
   "metadata": {},
   "outputs": [],
   "source": [
    "def sort_ignore_case(ls):\n",
    "    ls.sort(key=lambda x: x.lower())\n",
    "    return ls\n",
    "print(sort_ignore_case(['Acc', 'abc']))"
   ]
  },
  {
   "cell_type": "code",
   "execution_count": null,
   "id": "543875d5",
   "metadata": {},
   "outputs": [],
   "source": [
    "def exchange(usd, rub, rate):\n",
    "    if usd is not None and rub is not None and rate is not None:\n",
    "        raise ValueError('Too many arguments')\n",
    "    error=ValueError('Not enough arguments')\n",
    "    "
   ]
  }
 ],
 "metadata": {
  "kernelspec": {
   "display_name": "Python 3",
   "language": "python",
   "name": "python3"
  },
  "language_info": {
   "codemirror_mode": {
    "name": "ipython",
    "version": 3
   },
   "file_extension": ".py",
   "mimetype": "text/x-python",
   "name": "python",
   "nbconvert_exporter": "python",
   "pygments_lexer": "ipython3",
   "version": "3.8.8"
  }
 },
 "nbformat": 4,
 "nbformat_minor": 5
}
