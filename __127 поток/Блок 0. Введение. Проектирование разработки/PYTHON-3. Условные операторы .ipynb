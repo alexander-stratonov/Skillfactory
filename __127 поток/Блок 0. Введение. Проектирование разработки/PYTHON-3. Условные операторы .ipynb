{
 "cells": [
  {
   "cell_type": "code",
   "execution_count": 2,
   "id": "324d1817",
   "metadata": {},
   "outputs": [
    {
     "data": {
      "text/plain": [
       "True"
      ]
     },
     "execution_count": 2,
     "metadata": {},
     "output_type": "execute_result"
    }
   ],
   "source": [
    "x = 10\n",
    "y = 100\n",
    "z = (x % 2 == 0) & (y >= 100)\n",
    "z"
   ]
  },
  {
   "cell_type": "code",
   "execution_count": 4,
   "id": "ebc5c684",
   "metadata": {},
   "outputs": [
    {
     "data": {
      "text/plain": [
       "True"
      ]
     },
     "execution_count": 4,
     "metadata": {},
     "output_type": "execute_result"
    }
   ],
   "source": [
    "diagnosis_1 = 'yes'\n",
    "diagnosis_2 = 'no'\n",
    "diagnosis_3 = 'no'\n",
    "result = bool(diagnosis_1 or diagnosis_2 or diagnosis_3)\n",
    "result"
   ]
  },
  {
   "cell_type": "code",
   "execution_count": 6,
   "id": "8e9cd57b",
   "metadata": {},
   "outputs": [],
   "source": [
    "def are_both_odd(A, B):\n",
    "    if A%2==1 and B%2==1:\n",
    "        return True"
   ]
  },
  {
   "cell_type": "code",
   "execution_count": 9,
   "id": "c44b867f",
   "metadata": {},
   "outputs": [
    {
     "name": "stdout",
     "output_type": "stream",
     "text": [
      "weak [1]\n"
     ]
    }
   ],
   "source": [
    "def get_wind_class(speed):  # Объявление функции\n",
    "    if 1<= speed <=4:\n",
    "        return \"weak [1]\"\n",
    "    elif 5<= speed <=10:\n",
    "        return \"moderate [2]\"\n",
    "    elif 11<= speed <=18:\n",
    "        return \"strong [3]\"\n",
    "    elif speed >=19:\n",
    "        return \"hurricane [4]\"\n",
    "print(get_wind_class(3))"
   ]
  },
  {
   "cell_type": "markdown",
   "id": "b94c8299",
   "metadata": {},
   "source": [
    "### 4. Исключения"
   ]
  },
  {
   "cell_type": "code",
   "execution_count": 1,
   "id": "2eba928d",
   "metadata": {},
   "outputs": [
    {
     "name": "stdout",
     "output_type": "stream",
     "text": [
      "Input number:5\n",
      "nomer 5!\n",
      "game over\n"
     ]
    }
   ],
   "source": [
    "try:\n",
    "    x=int(input(\"Input number:\"))\n",
    "except ValueError:\n",
    "    print(\"no no no\")\n",
    "else:\n",
    "    print(f\"nomer {x}!\")\n",
    "finally:\n",
    "    print(\"game over\")"
   ]
  },
  {
   "cell_type": "markdown",
   "id": "07d7b720",
   "metadata": {},
   "source": [
    "### 5. Практические примеры с условным оператором"
   ]
  },
  {
   "cell_type": "code",
   "execution_count": null,
   "id": "3428f7b4",
   "metadata": {},
   "outputs": [],
   "source": [
    "# Запишите вместо вопросительных знаков выражение, которое вернет True,\n",
    "# когда каждое из чисел А и В нечетное.\n",
    "\n",
    "def are_both_odd(A, B):\n",
    "    return A%2==0 and B%2==0"
   ]
  },
  {
   "cell_type": "code",
   "execution_count": 3,
   "id": "cdf1428a",
   "metadata": {},
   "outputs": [],
   "source": [
    "# Допишите функцию check_user так, чтобы она по логину пользователя\n",
    "# проверяла, существует он или нет,\n",
    "# после чего с помощью вложенного условия проверяла\n",
    "# правильность пароля этого пользователя.\n",
    "# Функция должна возвращать только True или False.\n",
    "# Чтобы вернуть True, напишите \"return True\";\n",
    "# чтобы вернуть False, напишите \"return False\".\n",
    "\n",
    "user_database = {\n",
    "    'user': 'password',\n",
    "    'iseedeadpeople': 'greedisgood',\n",
    "    'hesoyam': 'tgm'\n",
    "}\n",
    "\n",
    "def check_user(username, password):\n",
    "    if username in user_database:\n",
    "        if password == user_database[username]:\n",
    "            return True\n",
    "        else:\n",
    "            return False\n",
    "    else:\n",
    "        return False"
   ]
  },
  {
   "cell_type": "code",
   "execution_count": null,
   "id": "843863ad",
   "metadata": {},
   "outputs": [],
   "source": []
  }
 ],
 "metadata": {
  "kernelspec": {
   "display_name": "Python 3",
   "language": "python",
   "name": "python3"
  },
  "language_info": {
   "codemirror_mode": {
    "name": "ipython",
    "version": 3
   },
   "file_extension": ".py",
   "mimetype": "text/x-python",
   "name": "python",
   "nbconvert_exporter": "python",
   "pygments_lexer": "ipython3",
   "version": "3.8.8"
  }
 },
 "nbformat": 4,
 "nbformat_minor": 5
}
