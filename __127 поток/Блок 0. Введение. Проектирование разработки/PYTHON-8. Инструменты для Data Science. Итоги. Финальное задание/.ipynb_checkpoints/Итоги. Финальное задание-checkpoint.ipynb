{
 "cells": [
  {
   "cell_type": "markdown",
   "id": "8c2f90cc",
   "metadata": {},
   "source": [
    "Здравствуйте.\n",
    "Данное задание я уже выполнял, но после перевода на другой поток, у меня обнулился прогресс. \n",
    "Поставьте, пожалуйста, оценку за задание."
   ]
  },
  {
   "cell_type": "code",
   "execution_count": 2,
   "id": "0175121f",
   "metadata": {},
   "outputs": [
    {
     "name": "stdout",
     "output_type": "stream",
     "text": [
      "Ваш алгоритм угадывает число в среднем за 5 попыток\n"
     ]
    },
    {
     "data": {
      "text/plain": [
       "5"
      ]
     },
     "execution_count": 2,
     "metadata": {},
     "output_type": "execute_result"
    }
   ],
   "source": [
    "#Использую код с учебной страницы\n",
    "import numpy as np\n",
    "number = np.random.randint(1,101)\n",
    "\n",
    "#Использую код с учебной страницы\n",
    "def score_game(game_core):\n",
    "    count_ls = []\n",
    "    np.random.seed(1)  \n",
    "    random_array = np.random.randint(1,101, size=(1000))\n",
    "    for number in random_array:\n",
    "        count_ls.append(game_core(number))\n",
    "    score = int(np.mean(count_ls))\n",
    "    print(f\"Ваш алгоритм угадывает число в среднем за {score} попыток\")\n",
    "    return(score)\n",
    "\n",
    "\n",
    "#В алгоритме каждый раз делим оставшийся интервал на 2\n",
    "def game_core_v2(number):\n",
    "    number_min = 0\n",
    "    number_max = 100\n",
    "    count = 0\n",
    "    while True:\n",
    "        predict = round((number_min + number_max)/2)\n",
    "        count += 1\n",
    "        if number == predict:\n",
    "            break\n",
    "        elif number > predict:\n",
    "            number_min = predict\n",
    "        elif number < predict:\n",
    "            number_max = predict\n",
    "    return(count)\n",
    "\n",
    "#Проверяем результат, обычно это 5 попыток\n",
    "score_game(game_core_v2)"
   ]
  }
 ],
 "metadata": {
  "kernelspec": {
   "display_name": "Python 3",
   "language": "python",
   "name": "python3"
  },
  "language_info": {
   "codemirror_mode": {
    "name": "ipython",
    "version": 3
   },
   "file_extension": ".py",
   "mimetype": "text/x-python",
   "name": "python",
   "nbconvert_exporter": "python",
   "pygments_lexer": "ipython3",
   "version": "3.8.8"
  },
  "varInspector": {
   "cols": {
    "lenName": 16,
    "lenType": 16,
    "lenVar": 40
   },
   "kernels_config": {
    "python": {
     "delete_cmd_postfix": "",
     "delete_cmd_prefix": "del ",
     "library": "var_list.py",
     "varRefreshCmd": "print(var_dic_list())"
    },
    "r": {
     "delete_cmd_postfix": ") ",
     "delete_cmd_prefix": "rm(",
     "library": "var_list.r",
     "varRefreshCmd": "cat(var_dic_list()) "
    }
   },
   "types_to_exclude": [
    "module",
    "function",
    "builtin_function_or_method",
    "instance",
    "_Feature"
   ],
   "window_display": false
  }
 },
 "nbformat": 4,
 "nbformat_minor": 5
}
