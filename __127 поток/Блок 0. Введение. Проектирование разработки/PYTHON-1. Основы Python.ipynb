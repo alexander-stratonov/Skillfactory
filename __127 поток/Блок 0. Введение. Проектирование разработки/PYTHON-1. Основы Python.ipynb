{
 "cells": [
  {
   "cell_type": "code",
   "execution_count": 1,
   "id": "68b4bfe1",
   "metadata": {},
   "outputs": [
    {
     "name": "stdout",
     "output_type": "stream",
     "text": [
      "2\n"
     ]
    }
   ],
   "source": [
    "print ((31 % 2) + (-31 % 2))"
   ]
  },
  {
   "cell_type": "code",
   "execution_count": 2,
   "id": "9ebca253",
   "metadata": {},
   "outputs": [
    {
     "name": "stdout",
     "output_type": "stream",
     "text": [
      "-15\n"
     ]
    }
   ],
   "source": [
    "print (13 % -3 * 3 - 3**2)"
   ]
  },
  {
   "cell_type": "code",
   "execution_count": 5,
   "id": "8d609df2",
   "metadata": {},
   "outputs": [
    {
     "data": {
      "text/plain": [
       "9.17"
      ]
     },
     "execution_count": 5,
     "metadata": {},
     "output_type": "execute_result"
    }
   ],
   "source": [
    "round(11*2.5/3, 2)"
   ]
  },
  {
   "cell_type": "code",
   "execution_count": 6,
   "id": "0230c2da",
   "metadata": {},
   "outputs": [
    {
     "data": {
      "text/plain": [
       "5"
      ]
     },
     "execution_count": 6,
     "metadata": {},
     "output_type": "execute_result"
    }
   ],
   "source": [
    "round((3.14159**2)/2)"
   ]
  },
  {
   "cell_type": "code",
   "execution_count": 7,
   "id": "0c0eeb1c",
   "metadata": {},
   "outputs": [
    {
     "data": {
      "text/plain": [
       "False"
      ]
     },
     "execution_count": 7,
     "metadata": {},
     "output_type": "execute_result"
    }
   ],
   "source": [
    "3**3-3*(6*3-4.5*2) == 1"
   ]
  },
  {
   "cell_type": "code",
   "execution_count": null,
   "id": "58fc814f",
   "metadata": {},
   "outputs": [],
   "source": []
  }
 ],
 "metadata": {
  "kernelspec": {
   "display_name": "Python 3",
   "language": "python",
   "name": "python3"
  },
  "language_info": {
   "codemirror_mode": {
    "name": "ipython",
    "version": 3
   },
   "file_extension": ".py",
   "mimetype": "text/x-python",
   "name": "python",
   "nbconvert_exporter": "python",
   "pygments_lexer": "ipython3",
   "version": "3.8.8"
  }
 },
 "nbformat": 4,
 "nbformat_minor": 5
}
