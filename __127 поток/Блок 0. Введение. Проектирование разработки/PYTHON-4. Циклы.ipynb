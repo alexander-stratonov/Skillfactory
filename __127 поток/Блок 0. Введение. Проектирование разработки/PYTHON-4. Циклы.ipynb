{
 "cells": [
  {
   "cell_type": "code",
   "execution_count": 2,
   "id": "55f37f95",
   "metadata": {},
   "outputs": [
    {
     "name": "stdout",
     "output_type": "stream",
     "text": [
      "Current S:  0\n",
      "Current number:  1\n",
      "Sum after addition:  1\n",
      "---\n",
      "Current S:  1\n",
      "Current number:  2\n",
      "Sum after addition:  3\n",
      "---\n",
      "Current S:  3\n",
      "Current number:  3\n",
      "Sum after addition:  6\n",
      "---\n",
      "Current S:  6\n",
      "Current number:  4\n",
      "Sum after addition:  10\n",
      "---\n",
      "Current S:  10\n",
      "Current number:  5\n",
      "Sum after addition:  15\n",
      "---\n",
      "Answer: sum =  15\n"
     ]
    }
   ],
   "source": [
    "S = 0  #создаём накопительную переменную, в которой будем считать сумму\n",
    "N = 5 #задаём N — последний элемент последовательности\n",
    "\n",
    "# создаём цикл for, которым мы будем проходить по всем числам от 1 до N (включительно)\n",
    "for i in range(1, N + 1):  #равносильно выражению for i in [1, 2, 3, ... , N -1, N]:\n",
    "    print(\"Current S: \", S) #выводим значение суммы на текущем шаге\n",
    "    print(\"Current number: \", i) #выводим текущее число\n",
    "    S += i  #суммируем текущее число i и перезаписываем значение суммы, равносильно S = S + i\n",
    "    print(\"Sum after addition: \", S) #выводим значение суммы после сложения\n",
    "    print(\"---\") #выводим строчку для визуального разделения результатов\n",
    "print(\"Answer: sum = \", S) #выводим ответ в формате ответ: сумма равна ="
   ]
  },
  {
   "cell_type": "code",
   "execution_count": 4,
   "id": "585dd79b",
   "metadata": {},
   "outputs": [
    {
     "data": {
      "text/plain": [
       "[1, 2, 4, 8, 16, 32, 64, 128, 256, 512, 1024]"
      ]
     },
     "execution_count": 4,
     "metadata": {},
     "output_type": "execute_result"
    }
   ],
   "source": [
    "my_list = [1]\n",
    "for i in range(10):\n",
    "    my_list.append(my_list[i] * 2)\n",
    "my_list"
   ]
  },
  {
   "cell_type": "code",
   "execution_count": 6,
   "id": "b865182a",
   "metadata": {},
   "outputs": [
    {
     "name": "stdout",
     "output_type": "stream",
     "text": [
      "My name is Alex \n"
     ]
    }
   ],
   "source": [
    "word_list = ['My', 'name', 'is', 'Alex']\n",
    "sentence = ''\n",
    "for w in word_list:\n",
    "    sentence += w + \" \"\n",
    "print(sentence)"
   ]
  },
  {
   "cell_type": "code",
   "execution_count": 9,
   "id": "b571c7fc",
   "metadata": {},
   "outputs": [
    {
     "name": "stdout",
     "output_type": "stream",
     "text": [
      "-5\n",
      "1\n",
      "3\n",
      "10\n"
     ]
    }
   ],
   "source": [
    "num_list = [1, 10, 3, -5]\n",
    "num_list.sort()\n",
    "for x in num_list:\n",
    "    print(x)"
   ]
  },
  {
   "cell_type": "code",
   "execution_count": 12,
   "id": "77a9f40e",
   "metadata": {},
   "outputs": [
    {
     "data": {
      "text/plain": [
       "17"
      ]
     },
     "execution_count": 12,
     "metadata": {},
     "output_type": "execute_result"
    }
   ],
   "source": [
    "my_list = list(range(0, 100, 3))\n",
    "chet=[]\n",
    "for i in my_list:\n",
    "    if i%2==0:\n",
    "        chet.append(i)\n",
    "len(chet)"
   ]
  },
  {
   "cell_type": "code",
   "execution_count": 13,
   "id": "05e92970",
   "metadata": {},
   "outputs": [
    {
     "data": {
      "text/plain": [
       "3"
      ]
     },
     "execution_count": 13,
     "metadata": {},
     "output_type": "execute_result"
    }
   ],
   "source": [
    "my_list = [True, 1, -10, 'hello', False, 'string_1', 123, 2.5, [1, 2], 'another']\n",
    "chet=[]\n",
    "for i in my_list:\n",
    "    if type(i)==str:\n",
    "        chet.append(i)\n",
    "len(chet)"
   ]
  },
  {
   "cell_type": "code",
   "execution_count": 16,
   "id": "84cc4d9d",
   "metadata": {},
   "outputs": [
    {
     "name": "stdout",
     "output_type": "stream",
     "text": [
      "Required number 31\n"
     ]
    }
   ],
   "source": [
    "n = 1\n",
    "while n**2 < 1000:\n",
    "    n += 1\n",
    "print(\"Required number\", n - 1) # искомое число"
   ]
  },
  {
   "cell_type": "code",
   "execution_count": 18,
   "id": "a1868a76",
   "metadata": {},
   "outputs": [
    {
     "name": "stdout",
     "output_type": "stream",
     "text": [
      "4\n"
     ]
    }
   ],
   "source": [
    "n = 10\n",
    "i = 1\n",
    "while i ** 2 < n:\n",
    "    i += 1\n",
    "print(i)"
   ]
  },
  {
   "cell_type": "code",
   "execution_count": 19,
   "id": "a14a23ea",
   "metadata": {},
   "outputs": [
    {
     "name": "stdout",
     "output_type": "stream",
     "text": [
      "Hello\n",
      "Hello\n",
      "Hello\n",
      "Hello\n",
      "Hello\n",
      "Hello\n",
      "Hello\n",
      "Hello\n",
      "Hello\n",
      "Hello\n"
     ]
    }
   ],
   "source": [
    "n = 10\n",
    "i = 0\n",
    "while i < n:\n",
    "    i +=1\n",
    "    print('Hello')"
   ]
  },
  {
   "cell_type": "code",
   "execution_count": 22,
   "id": "0a01bf2e",
   "metadata": {},
   "outputs": [
    {
     "data": {
      "text/plain": [
       "5040"
      ]
     },
     "execution_count": 22,
     "metadata": {},
     "output_type": "execute_result"
    }
   ],
   "source": [
    "n=1\n",
    "s=1\n",
    "while s <=1000:\n",
    "    s=s*n\n",
    "    n+=1\n",
    "s"
   ]
  },
  {
   "cell_type": "code",
   "execution_count": 23,
   "id": "871b5b8e",
   "metadata": {},
   "outputs": [
    {
     "data": {
      "text/plain": [
       "7"
      ]
     },
     "execution_count": 23,
     "metadata": {},
     "output_type": "execute_result"
    }
   ],
   "source": [
    "n=1\n",
    "while 3**n<=1000:\n",
    "    n+=1\n",
    "n"
   ]
  },
  {
   "cell_type": "code",
   "execution_count": 25,
   "id": "61dab020",
   "metadata": {},
   "outputs": [
    {
     "data": {
      "text/plain": [
       "15"
      ]
     },
     "execution_count": 25,
     "metadata": {},
     "output_type": "execute_result"
    }
   ],
   "source": [
    "n=1000\n",
    "m=0\n",
    "while n<=3000:\n",
    "    n*=1.08\n",
    "    m+=1\n",
    "m"
   ]
  },
  {
   "cell_type": "code",
   "execution_count": 28,
   "id": "c920c550",
   "metadata": {},
   "outputs": [
    {
     "name": "stdout",
     "output_type": "stream",
     "text": [
      "There are 1 people in the room\n",
      "There are 2 people in the room\n",
      "There are 3 people in the room\n",
      "There are 4 people in the room\n",
      "There are 5 people in the room\n"
     ]
    }
   ],
   "source": [
    "max_people = 5\n",
    "i = 0\n",
    "while i <max_people:\n",
    "    i+=1\n",
    "    print('There are', i, 'people in the room') # В помещении i человек"
   ]
  },
  {
   "cell_type": "code",
   "execution_count": 2,
   "id": "adf13962",
   "metadata": {},
   "outputs": [
    {
     "data": {
      "text/plain": [
       "10"
      ]
     },
     "execution_count": 2,
     "metadata": {},
     "output_type": "execute_result"
    }
   ],
   "source": [
    "text_list = [\n",
    "    'afbaad',\n",
    "    'faaf',\n",
    "    'afaga',\n",
    "    'agag'\n",
    "]\n",
    "y=0\n",
    "for x in text_list:\n",
    "    y+=x.count('a')\n",
    "y"
   ]
  },
  {
   "cell_type": "code",
   "execution_count": 3,
   "id": "711a2e66",
   "metadata": {},
   "outputs": [
    {
     "name": "stdout",
     "output_type": "stream",
     "text": [
      "a b d e "
     ]
    }
   ],
   "source": [
    "lst=['a', 'b', 'c', 'd', 'e']\n",
    "for elem in lst:\n",
    "    if elem == 'c':\n",
    "        continue\n",
    "    print(elem, end=' ')"
   ]
  },
  {
   "cell_type": "code",
   "execution_count": 7,
   "id": "b36eaa2d",
   "metadata": {},
   "outputs": [
    {
     "data": {
      "text/plain": [
       "0.9"
      ]
     },
     "execution_count": 7,
     "metadata": {},
     "output_type": "execute_result"
    }
   ],
   "source": [
    "scores = [\n",
    "    [0.5, 0.6, 0.6, 0.65, 0.3],\n",
    "    [0.55, 0.7, 0.9, 0.5, 0.5]\n",
    "]\n",
    "scores[1][2]"
   ]
  },
  {
   "cell_type": "code",
   "execution_count": 8,
   "id": "94939529",
   "metadata": {},
   "outputs": [
    {
     "name": "stdout",
     "output_type": "stream",
     "text": [
      "20\n"
     ]
    }
   ],
   "source": [
    "count = 0\n",
    "for i in range(5):\n",
    "    for j in range(4):\n",
    "        count += 1\n",
    "print(count)"
   ]
  },
  {
   "cell_type": "markdown",
   "id": "3343ef50",
   "metadata": {},
   "source": [
    "# 4. Дополнительные возможности"
   ]
  },
  {
   "cell_type": "markdown",
   "id": "534d7be3",
   "metadata": {},
   "source": [
    "### ENUMERATE"
   ]
  },
  {
   "cell_type": "code",
   "execution_count": 13,
   "id": "14757cd8",
   "metadata": {},
   "outputs": [
    {
     "name": "stdout",
     "output_type": "stream",
     "text": [
      "Day 1 : -5\n",
      "Day 2 : 2\n",
      "Day 3 : 4\n",
      "Day 4 : 8\n",
      "Day 5 : 12\n",
      "Day 6 : -7\n",
      "Day 7 : 5\n"
     ]
    }
   ],
   "source": [
    "user_dynamics = [-5, 2, 4, 8, 12, -7, 5] #заданный список динамики пользователей\n",
    "#создаём цикл по индексам и элементам списка \n",
    "for i, dynamic in enumerate(user_dynamics): # i — индекс текущего элемента, dynamic — текущее значение из списка\n",
    "    print(\"Day {} : {}\".format(i+1, dynamic)) #выводим номер дня и динамику на этот день"
   ]
  },
  {
   "cell_type": "markdown",
   "id": "65064d97",
   "metadata": {},
   "source": [
    "### BREAK"
   ]
  },
  {
   "cell_type": "code",
   "execution_count": 14,
   "id": "277f098f",
   "metadata": {},
   "outputs": [
    {
     "name": "stdout",
     "output_type": "stream",
     "text": [
      "inventory is full!\n",
      "['Blood Moon Sword', 'Sunset-colored sword', 'Bow of Stars']\n"
     ]
    }
   ],
   "source": [
    "to_inventory = ['Blood Moon Sword', 'Sunset-colored sword', 'Bow of Stars', 'Gain Stone']\n",
    "inventory = [] #задаём пустой инвентарь\n",
    "#создаём цикл по элементам списка to_inventory\n",
    "for item in to_inventory: #item — текущий элемент списка\n",
    "    #проверяем условие, что инвентарь уже заполнен\n",
    "    if len(inventory) == 3: #если условие выполняется,\n",
    "        print('inventory is full!') #выводим предупреждение об ошибке\n",
    "        break #завершаем работу цикла\n",
    "    else:#в противном случае\n",
    "        inventory.append(item) #добавляем предмет в инвентарь\n",
    "print(inventory)#выводим результирующий инвентарь"
   ]
  },
  {
   "cell_type": "code",
   "execution_count": 15,
   "id": "04a25237",
   "metadata": {},
   "outputs": [
    {
     "name": "stdout",
     "output_type": "stream",
     "text": [
      "n - is the power of the number 3!\n"
     ]
    }
   ],
   "source": [
    "n = 27 #задаём число\n",
    "#создаём бесконечный цикл\n",
    "while True:\n",
    "    #проверяем условие, что остаток от деления на 3 равен 0\n",
    "    if n % 3 == 0: #если условие выполняется,\n",
    "        n = n // 3 #новое число — результат целочисленного деления на 3\n",
    "        if n == 1: #если в результате деления получили 1,\n",
    "            print('n - is the power of the number 3!')#выводим утвердительное сообщение\n",
    "            break #выходим из цикла\n",
    "    else: #в противном случае\n",
    "        print('n - is not the power of the number 3!') #выводим сообщение-опровержение\n",
    "        break #выходим из цикла"
   ]
  },
  {
   "cell_type": "markdown",
   "id": "4652ce7c",
   "metadata": {},
   "source": [
    "### CONTINUE"
   ]
  },
  {
   "cell_type": "code",
   "execution_count": 16,
   "id": "dc6190dc",
   "metadata": {},
   "outputs": [
    {
     "name": "stdout",
     "output_type": "stream",
     "text": [
      "Send present user 103303\n",
      "Send present user 100423\n"
     ]
    }
   ],
   "source": [
    "client_status = {\n",
    "    103303: 'yes', \n",
    "    103044: 'no',\n",
    "    100423: 'yes',\n",
    "    103032: 'no',\n",
    "    103902: 'no'\n",
    "}\n",
    "#создаём цикл по ключам словаря client_status\n",
    "for user_id in client_status: #user_id — текущий ключ словаря\n",
    "    #если текущий статус == 'no',\n",
    "    if client_status[user_id] == 'no':\n",
    "        continue #переходим на следующую итерацию\n",
    "    else:\n",
    "        print('Send present user', user_id) #выводим сообщение об отправке"
   ]
  },
  {
   "cell_type": "markdown",
   "id": "8565b140",
   "metadata": {},
   "source": [
    "#### TEST"
   ]
  },
  {
   "cell_type": "code",
   "execution_count": 17,
   "id": "21ba534e",
   "metadata": {},
   "outputs": [
    {
     "name": "stdout",
     "output_type": "stream",
     "text": [
      "{'t': 88, 'h': 63, 'e': 112, 'r': 39, 'a': 70, 'b': 15, 'i': 47, '-': 2, 'o': 80, 'l': 55, 'w': 31, 'n': 57, 's': 60, 'g': 17, 'k': 14, 'u': 22, 'f': 28, 'm': 17, 'y': 18, ',': 13, 'd': 43, 'p': 23, 'c': 9, 'v': 8, '.': 5, 'x': 1, ';': 3, 'j': 2, '`': 3, \"'\": 5, ':': 1, '!': 4, '(': 1, ')': 1}\n"
     ]
    }
   ],
   "source": [
    "text = \"\"\"\n",
    "The rabbit-hole went straight on like a tunnel for some way, and then dipped suddenly down, so suddenly that Alice had not a moment to think about stopping herself before she found herself falling down a very deep well.\n",
    " \n",
    "Either the well was very deep, or she fell very slowly, for she had plenty of time as she went down to look about her and to wonder what was going to happen next. First, she tried to look down and make out what she was coming to, but it was too dark to see anything; then she looked at the sides of the well, and noticed that they were filled with cupboards and book-shelves; here and there she saw maps and pictures hung upon pegs. She took down a jar from one of the shelves as she passed; it was labelled `ORANGE MARMALADE', but to her great disappointment it was empty: she did not like to drop the jar for fear of killing somebody, so managed to put it into one of the cupboards as she fell past it.\n",
    " \n",
    "`Well!' thought Alice to herself, `after such a fall as this, I shall think nothing of tumbling down stairs! How brave they'll all think me at home! Why, I wouldn't say anything about it, even if I fell off the top of the house!' (Which was very likely true.)\n",
    "\"\"\"\n",
    "text = text.lower() #приводим текст к нижнему регистру\n",
    "text = text.replace(\" \", \"\") #заменяем пробелы на пустые строки\n",
    "text = text.replace(\"\\n\", \"\") #заменяем символы переноса строки на пустые строки\n",
    "count_dict = {} #создаём пустой словарь для подсчёта количества символов\n",
    "#создаём цикл по символам в строке text\n",
    "for symbol in text: #symbol — текущий символ в тексте\n",
    "    #проверяем условие, что символа ещё нет среди ключей словаря\n",
    "    if symbol not in count_dict: #если условие выполняется,\n",
    "        count_dict[symbol] = 1 #заносим символ в словарь со значением 1\n",
    "    else: #в противном случае\n",
    "        count_dict[symbol] += 1 #увеличиваем частоту символа\n",
    "print(count_dict) #выводим результирующий словарь"
   ]
  },
  {
   "cell_type": "code",
   "execution_count": 18,
   "id": "aee3d83b",
   "metadata": {},
   "outputs": [
    {
     "name": "stdout",
     "output_type": "stream",
     "text": [
      "{'she': 3, 'sells': 3, 'sea': 6, 'shells': 6, 'on': 2, 'the': 4, 'shore': 3, 'that': 2, 'are': 2, 'i': 2, 'am': 2, 'sure': 2, 'so': 1, 'if': 1}\n"
     ]
    }
   ],
   "source": [
    "text = \"\"\"\n",
    "She sells sea shells on the sea shore;\n",
    "The shells that she sells are sea shells I am sure.\n",
    "So if she sells sea shells on the sea shore,\n",
    "I am sure that the shells are sea shore shells.\n",
    "\"\"\"\n",
    "text = text.lower() #приводим текст к нижнему регистру\n",
    "text = text.replace(\"\\n\", \" \") #заменяем символы переноса строки на пробелы\n",
    "text = text.replace(\",\", \"\") #заменяем запятые на пустые строки\n",
    "text = text.replace(\".\", \"\") #заменяем точки на пустые строки\n",
    "text = text.replace(\";\", \"\") #заменяем точки с запятыми на пустые строки\n",
    "word_list = text.split()\n",
    "count_dict = {} #создаём пустой словарь для подсчёта количества слов\n",
    "#создаём цикл по словам в списке word_list\n",
    "for word in word_list: #word — текущее слово из списка word_list\n",
    "    #проверяем условие, что слова ещё нет среди ключей словаря\n",
    "    if word not in count_dict: #если условие выполняется,\n",
    "        count_dict[word] = 1 #заносим слово в словарь со значением 1\n",
    "    else: #в противном случае\n",
    "        count_dict[word] += 1 #увеличиваем частоту слова\n",
    "print(count_dict) #выводим результирующий словарь"
   ]
  },
  {
   "cell_type": "markdown",
   "id": "d6c75f95",
   "metadata": {},
   "source": [
    "### ЗАДАНИЯ"
   ]
  },
  {
   "cell_type": "code",
   "execution_count": 27,
   "id": "21aaefbc",
   "metadata": {},
   "outputs": [
    {
     "name": "stdout",
     "output_type": "stream",
     "text": [
      "7\n"
     ]
    }
   ],
   "source": [
    "#Создайте цикл, позволяющий понять, через сколько секунд босс убьёт вашего персонажа.\n",
    "#В результате работы в переменной second_num должно быть сохранено количество секунд, в течение которых будет длиться схватка.\n",
    "\n",
    "current_health = 500 #заданный показатель здоровья\n",
    "attack = 80 #заданная атака босса\n",
    "seconds_num = 0 #задаем начальное время схватки\n",
    "\n",
    "while current_health >= 0:\n",
    "    current_health -= attack\n",
    "    seconds_num += 1\n",
    "print(seconds_num)"
   ]
  },
  {
   "cell_type": "code",
   "execution_count": 28,
   "id": "0fecfb9b",
   "metadata": {},
   "outputs": [
    {
     "data": {
      "text/plain": [
       "[[0, 'Hel'],\n",
       " [1, 'my'],\n",
       " [2, 'nam'],\n",
       " [3, 'is'],\n",
       " [4, 'Eze'],\n",
       " [5, 'I'],\n",
       " [6, 'lik'],\n",
       " [7, 'kni']]"
      ]
     },
     "execution_count": 28,
     "metadata": {},
     "output_type": "execute_result"
    }
   ],
   "source": [
    "# В цикле добавляйте в список cut_str_list списки, состоящие из порядкового номера строки из списка \n",
    "# str_list (номер в рамках данной задачи начинается от 0) и 3 первых символа из каждой строки.\n",
    "# Если длина строки меньше Трёх символов, то добавляется вся строка целиком.\n",
    "# В результате работы вашей программы в переменной cut_str_list должен храниться результирующий вложенный список.\n",
    "\n",
    "str_list = [\"Hello\", \"my\", \"name\", \"is\", \"Ezeikel\", \"I\", \"like\", \"knitting\"] #заданный список\n",
    "cut_str_list = [] #задаем новый список\n",
    "\n",
    "for index, values in enumerate(str_list):\n",
    "    cut_str_list.append([index, values[:3]])    \n",
    "cut_str_list"
   ]
  },
  {
   "cell_type": "code",
   "execution_count": 32,
   "id": "2bddf5ea",
   "metadata": {},
   "outputs": [
    {
     "name": "stdout",
     "output_type": "stream",
     "text": [
      "{'a': 3, 'robot': 1, 'may': 1, 'not': 1, 'injure': 1, 'human': 2, 'being': 2, 'or': 1, 'through': 1, 'inactionallow': 1, 'to': 2, 'come': 1, 'harm': 1}\n"
     ]
    }
   ],
   "source": [
    "#Выполните следующие действия:\n",
    "#1. Приведите все символы в предложении к нижнему регистру.\n",
    "#2. Исключите знаки препинания (запятые)\n",
    "#3. Разделите строку по пробелам и создайте список слов, которые входят в предложение.\n",
    "#4. Подсчитайте количество повторений каждого слова. \n",
    "#Для подсчёта слов используйте словарь word_dict. Ключами словаря будут являться слова, \n",
    "#а значениями — число вхождений этих слов в предложение.\n",
    "#В результате работы вашей программы в переменной word_dict должен храниться результирующий словарь.\n",
    "\n",
    "sentence = \"A roboT MAY Not injure a humAn BEING or, tHROugh INACtion,\\\n",
    "allow a human BEING to come to harm\" #заданное предложение\n",
    "word_dict = {} #создаем словарь для посчета количества слов\n",
    "sentence = sentence.lower()\n",
    "sentence = sentence.replace(',', '')\n",
    "sentence = sentence.split(' ')\n",
    "for word in sentence:\n",
    "    if word not in word_dict:\n",
    "        word_dict[word] = 1\n",
    "    else: \n",
    "        word_dict[word] += 1\n",
    "print(word_dict) "
   ]
  },
  {
   "cell_type": "code",
   "execution_count": 40,
   "id": "005ab8aa",
   "metadata": {},
   "outputs": [
    {
     "name": "stdout",
     "output_type": "stream",
     "text": [
      "{'text': 2, 'morning': 0, 'notepad': 1, 'television': 1, 'ornament': 1}\n"
     ]
    }
   ],
   "source": [
    "#Подсчитайте количество вхождений символа 't' в каждую из строк этого списка.\n",
    "#Для подсчёта используйте словарь word_dict: в качестве ключа запишите в него строку, \n",
    "#в качестве значения — число вхождений буквы 't' в эту строку.\n",
    "#В результате работы вашей программы в переменной word_dict должен храниться результирующий словарь.\n",
    "\n",
    "str_list = [\"text\", \"morning\", \"notepad\", \"television\", \"ornament\"] #заданный список слов\n",
    "symbol_to_check = \"t\" #задаём символ, который будем искать\n",
    "words_dict = {} #задаём пустой словарь для подсчёта\n",
    "\n",
    "for word in str_list:\n",
    "    words_dict[word] = 0\n",
    "    for letter in word:\n",
    "        if letter == symbol_to_check:\n",
    "            words_dict[word] += 1\n",
    "print(words_dict)"
   ]
  },
  {
   "cell_type": "code",
   "execution_count": null,
   "id": "0eed6b1a",
   "metadata": {},
   "outputs": [],
   "source": []
  }
 ],
 "metadata": {
  "kernelspec": {
   "display_name": "Python 3 (ipykernel)",
   "language": "python",
   "name": "python3"
  },
  "language_info": {
   "codemirror_mode": {
    "name": "ipython",
    "version": 3
   },
   "file_extension": ".py",
   "mimetype": "text/x-python",
   "name": "python",
   "nbconvert_exporter": "python",
   "pygments_lexer": "ipython3",
   "version": "3.9.12"
  },
  "varInspector": {
   "cols": {
    "lenName": 16,
    "lenType": 16,
    "lenVar": 40
   },
   "kernels_config": {
    "python": {
     "delete_cmd_postfix": "",
     "delete_cmd_prefix": "del ",
     "library": "var_list.py",
     "varRefreshCmd": "print(var_dic_list())"
    },
    "r": {
     "delete_cmd_postfix": ") ",
     "delete_cmd_prefix": "rm(",
     "library": "var_list.r",
     "varRefreshCmd": "cat(var_dic_list()) "
    }
   },
   "types_to_exclude": [
    "module",
    "function",
    "builtin_function_or_method",
    "instance",
    "_Feature"
   ],
   "window_display": false
  }
 },
 "nbformat": 4,
 "nbformat_minor": 5
}
