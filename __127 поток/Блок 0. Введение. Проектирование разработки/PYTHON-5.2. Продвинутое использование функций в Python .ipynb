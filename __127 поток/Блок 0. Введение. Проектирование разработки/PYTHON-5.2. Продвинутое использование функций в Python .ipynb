{
 "cells": [
  {
   "cell_type": "markdown",
   "id": "1171d87c",
   "metadata": {},
   "source": [
    "# 2. Область видимости переменных. Замыкание"
   ]
  },
  {
   "cell_type": "code",
   "execution_count": 1,
   "id": "9a2ef9b7",
   "metadata": {},
   "outputs": [
    {
     "name": "stdout",
     "output_type": "stream",
     "text": [
      "Root of power 2 from 9 equals 3.0\n"
     ]
    }
   ],
   "source": [
    "# функция печатает квадратный корень\n",
    "def print_root(value, n=2):\n",
    "    # Зададим внутреннюю функцию\n",
    "    # Она будет являться вспомогательной\n",
    "    def root(value, n=2):\n",
    "        result = value ** (1/n)\n",
    "        return result\n",
    "    # Получим результат из внутренней функции\n",
    "    res = root(value, n)\n",
    "    # Печатаем результат и не возвращаем его\n",
    "    print('Root of power', n, 'from', value, 'equals', res)\n",
    "print_root(9)"
   ]
  },
  {
   "cell_type": "code",
   "execution_count": 2,
   "id": "8718d6df",
   "metadata": {},
   "outputs": [
    {
     "name": "stdout",
     "output_type": "stream",
     "text": [
      "Employee John Doe is registered with the company TheBlindMice\n"
     ]
    }
   ],
   "source": [
    "#объявляем внешнюю функцию для регистрации сотрудников\n",
    "def register_employee(name, surname):\n",
    "    #объявляем функцию для промежуточных вычислений\n",
    "    def create_full_name():\n",
    "        #функция использует внешние переменные name и surname\n",
    "        sep = ' ' #разделитель между именем и фамилией\n",
    "        result = name + sep + surname #вычисляем полное имя\n",
    "        return result\n",
    "    full_name = create_full_name() #вызываем внутреннюю функцию\n",
    "    #выводим результат на экран, используя внешнюю переменную company_name\n",
    "    print('Employee {} is registered with the company {}'.format(full_name, company_name))\n",
    "    \n",
    "company_name = 'TheBlindMice' #название компании\n",
    "register_employee('John','Doe') #вызов функции"
   ]
  },
  {
   "cell_type": "code",
   "execution_count": 3,
   "id": "74b29937",
   "metadata": {},
   "outputs": [
    {
     "name": "stdout",
     "output_type": "stream",
     "text": [
      "1\n"
     ]
    }
   ],
   "source": [
    "global_counter = 0\n",
    " \n",
    "def add_one():\n",
    "    # Обозначим, что переменная global_counter\n",
    "    # является глобальной\n",
    "    global global_counter\n",
    "    global_counter += 1\n",
    "add_one()\n",
    "print(global_counter)"
   ]
  },
  {
   "cell_type": "code",
   "execution_count": 4,
   "id": "1ce24718",
   "metadata": {},
   "outputs": [
    {
     "name": "stdout",
     "output_type": "stream",
     "text": [
      "1\n"
     ]
    }
   ],
   "source": [
    "def outer_function():\n",
    "    enclosing_counter = 0\n",
    "    def inner_function():\n",
    "        # С помощью оператора nonlocal покажем,\n",
    "        # что переменная enclosing_counter находится\n",
    "        # во внешней функции\n",
    "        nonlocal enclosing_counter\n",
    "        enclosing_counter += 1\n",
    "        print(enclosing_counter)\n",
    "    inner_function()\n",
    "outer_function()"
   ]
  },
  {
   "cell_type": "markdown",
   "id": "456d07e1",
   "metadata": {},
   "source": [
    "#### ПРИМЕНЕНИЕ ОБЛАСТИ ВИДИМОСТИ ПЕРЕМЕННЫХ"
   ]
  },
  {
   "cell_type": "code",
   "execution_count": 5,
   "id": "18b2636e",
   "metadata": {},
   "outputs": [
    {
     "name": "stdout",
     "output_type": "stream",
     "text": [
      "1\n",
      "2\n",
      "3\n"
     ]
    }
   ],
   "source": [
    "# Функция, которая создаёт счётчик\n",
    "def counter():\n",
    "    # Начальное значение счётчика — 0\n",
    "    number = 0\n",
    "    # Функция add будет каждый раз прибавлять\n",
    "    # к счётчику 1 при запуске\n",
    "    def add():\n",
    "        # Сообщаем, что number берём из\n",
    "        # внешней функции\n",
    "        nonlocal number\n",
    "        # Увеличиваем значение счётчика на 1   \n",
    "        number += 1\n",
    "        # Возвращаем текущее число запусков счётчика\n",
    "        return number\n",
    "    # Возвращаем не результат вычислений,\n",
    "    # а непосредственно саму функцию add\n",
    "    # без круглых скобок!\n",
    "    return add\n",
    "counter1 = counter()\n",
    "# Запустим counter как обычную функцию\n",
    "print(counter1())\n",
    "print(counter1())\n",
    "print(counter1())"
   ]
  },
  {
   "cell_type": "code",
   "execution_count": 6,
   "id": "8dac3f8b",
   "metadata": {},
   "outputs": [
    {
     "name": "stdout",
     "output_type": "stream",
     "text": [
      "25\n",
      "125\n",
      "144\n"
     ]
    }
   ],
   "source": [
    "def saver():\n",
    "    pigs = 0\n",
    "    def adder(x):\n",
    "        nonlocal pigs\n",
    "        pigs += x\n",
    "        return pigs\n",
    "    return adder\n",
    "pig = saver()\n",
    "print(pig(25))\n",
    "print(pig(100))\n",
    "print(pig(19))"
   ]
  },
  {
   "cell_type": "markdown",
   "id": "5eaf7a34",
   "metadata": {},
   "source": [
    "# 3. Рекурсия"
   ]
  },
  {
   "cell_type": "code",
   "execution_count": 7,
   "id": "71ce0a32",
   "metadata": {},
   "outputs": [
    {
     "name": "stdout",
     "output_type": "stream",
     "text": [
      "[10, 21, 24, 12]\n",
      "[21, 24, 12]\n",
      "[24, 12]\n",
      "[12]\n",
      "[]\n",
      "67\n"
     ]
    }
   ],
   "source": [
    "def sum_lst(lst):\n",
    "    # Выводим текущее значение lst\n",
    "    print(lst)\n",
    "    # Задаём условие выхода из рекурсии\n",
    "    if len(lst) == 0:return 0\n",
    "    # Во всех других случаях возвращаем\n",
    "    # сумму первого элемента списка \n",
    "    # и результат суммирования оставшихся\n",
    "    return lst[0] + sum_lst(lst[1:])\n",
    " \n",
    "my_lst = [10, 21, 24, 12]\n",
    "print(sum_lst(my_lst))"
   ]
  },
  {
   "cell_type": "code",
   "execution_count": 8,
   "id": "7980d8ef",
   "metadata": {},
   "outputs": [
    {
     "name": "stdout",
     "output_type": "stream",
     "text": [
      "60480\n"
     ]
    }
   ],
   "source": [
    "# Напишите рекурсивную функцию multiply_lst, которая перемножает элементы заданного списка между собой. \n",
    "def multiply_lst(lst):\n",
    "    if len(lst) == 0: return 1\n",
    "    return lst[0] * multiply_lst(lst[1:])\n",
    "\n",
    "my_lst = [10, 21, 24, 12]\n",
    "print(multiply_lst(my_lst))"
   ]
  },
  {
   "cell_type": "markdown",
   "id": "abf3be45",
   "metadata": {},
   "source": [
    "#### ФАКТОРИАЛ ЧЕРЕЗ РЕКУРСИЮ"
   ]
  },
  {
   "cell_type": "code",
   "execution_count": 9,
   "id": "536fe5fd",
   "metadata": {},
   "outputs": [
    {
     "name": "stdout",
     "output_type": "stream",
     "text": [
      "1\n",
      "6\n",
      "120\n"
     ]
    }
   ],
   "source": [
    "def factorial(n):\n",
    "    # Задаём условия выхода из рекурсии:\n",
    "    if n==0: return 1\n",
    "    if n==1: return 1\n",
    "    # Во всех других случаях возвращаем\n",
    "    # произведение текущего числа n и функции от n-1\n",
    "    return factorial(n-1)*n\n",
    "print(factorial(0))\n",
    "print(factorial(3))\n",
    "print(factorial(5))"
   ]
  },
  {
   "cell_type": "markdown",
   "id": "1a658e59",
   "metadata": {},
   "source": [
    "#### ГЛУБИНА РЕКУРСИИ"
   ]
  },
  {
   "cell_type": "code",
   "execution_count": 12,
   "id": "9fdb5119",
   "metadata": {},
   "outputs": [
    {
     "name": "stdout",
     "output_type": "stream",
     "text": [
      "2478\n"
     ]
    }
   ],
   "source": [
    "# Импортируем модуль для работы с системными переменными\n",
    "import sys\n",
    "# Увеличим глубину рекурсии\n",
    "sys.setrecursionlimit(1000000000)\n",
    "print(len(str(factorial(970))))"
   ]
  },
  {
   "cell_type": "code",
   "execution_count": 20,
   "id": "d9263de6",
   "metadata": {},
   "outputs": [
    {
     "name": "stdout",
     "output_type": "stream",
     "text": [
      "0\n",
      "1\n",
      "8\n",
      "13\n"
     ]
    }
   ],
   "source": [
    "def fib(n):\n",
    "    if n==0: return 0\n",
    "    if n==1: return 1\n",
    "    return fib(n-1) + fib(n-2)\n",
    "print(fib(0))\n",
    "print(fib(2))\n",
    "print(fib(6))\n",
    "print(fib(7))"
   ]
  },
  {
   "cell_type": "markdown",
   "id": "e4255636",
   "metadata": {},
   "source": [
    "# 4. Закрепление знаний"
   ]
  },
  {
   "cell_type": "code",
   "execution_count": null,
   "id": "96bee997",
   "metadata": {},
   "outputs": [],
   "source": []
  }
 ],
 "metadata": {
  "kernelspec": {
   "display_name": "Python 3",
   "language": "python",
   "name": "python3"
  },
  "language_info": {
   "codemirror_mode": {
    "name": "ipython",
    "version": 3
   },
   "file_extension": ".py",
   "mimetype": "text/x-python",
   "name": "python",
   "nbconvert_exporter": "python",
   "pygments_lexer": "ipython3",
   "version": "3.8.8"
  },
  "varInspector": {
   "cols": {
    "lenName": 16,
    "lenType": 16,
    "lenVar": 40
   },
   "kernels_config": {
    "python": {
     "delete_cmd_postfix": "",
     "delete_cmd_prefix": "del ",
     "library": "var_list.py",
     "varRefreshCmd": "print(var_dic_list())"
    },
    "r": {
     "delete_cmd_postfix": ") ",
     "delete_cmd_prefix": "rm(",
     "library": "var_list.r",
     "varRefreshCmd": "cat(var_dic_list()) "
    }
   },
   "types_to_exclude": [
    "module",
    "function",
    "builtin_function_or_method",
    "instance",
    "_Feature"
   ],
   "window_display": false
  }
 },
 "nbformat": 4,
 "nbformat_minor": 5
}
