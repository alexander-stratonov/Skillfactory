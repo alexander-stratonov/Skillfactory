{
 "cells": [
  {
   "cell_type": "markdown",
   "id": "1171d87c",
   "metadata": {},
   "source": [
    "# 2. Область видимости переменных. Замыкание"
   ]
  },
  {
   "cell_type": "code",
   "execution_count": 3,
   "id": "9a2ef9b7",
   "metadata": {},
   "outputs": [
    {
     "name": "stdout",
     "output_type": "stream",
     "text": [
      "Root of power 2 from 9 equals 3.0\n"
     ]
    }
   ],
   "source": [
    "# функция печатает квадратный корень\n",
    "def print_root(value, n=2):\n",
    "    # Зададим внутреннюю функцию\n",
    "    # Она будет являться вспомогательной\n",
    "    def root(value, n=2):\n",
    "        result = value ** (1/n)\n",
    "        return result\n",
    "    # Получим результат из внутренней функции\n",
    "    res = root(value, n)\n",
    "    # Печатаем результат и не возвращаем его\n",
    "    print('Root of power', n, 'from', value, 'equals', res)\n",
    "print_root(9)"
   ]
  },
  {
   "cell_type": "code",
   "execution_count": null,
   "id": "8718d6df",
   "metadata": {},
   "outputs": [],
   "source": []
  }
 ],
 "metadata": {
  "kernelspec": {
   "display_name": "Python 3",
   "language": "python",
   "name": "python3"
  },
  "language_info": {
   "codemirror_mode": {
    "name": "ipython",
    "version": 3
   },
   "file_extension": ".py",
   "mimetype": "text/x-python",
   "name": "python",
   "nbconvert_exporter": "python",
   "pygments_lexer": "ipython3",
   "version": "3.8.8"
  },
  "varInspector": {
   "cols": {
    "lenName": 16,
    "lenType": 16,
    "lenVar": 40
   },
   "kernels_config": {
    "python": {
     "delete_cmd_postfix": "",
     "delete_cmd_prefix": "del ",
     "library": "var_list.py",
     "varRefreshCmd": "print(var_dic_list())"
    },
    "r": {
     "delete_cmd_postfix": ") ",
     "delete_cmd_prefix": "rm(",
     "library": "var_list.r",
     "varRefreshCmd": "cat(var_dic_list()) "
    }
   },
   "types_to_exclude": [
    "module",
    "function",
    "builtin_function_or_method",
    "instance",
    "_Feature"
   ],
   "window_display": false
  }
 },
 "nbformat": 4,
 "nbformat_minor": 5
}
