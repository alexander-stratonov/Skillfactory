{
 "cells": [
  {
   "cell_type": "markdown",
   "id": "1171d87c",
   "metadata": {},
   "source": [
    "# 2. Область видимости переменных. Замыкание"
   ]
  },
  {
   "cell_type": "code",
   "execution_count": 1,
   "id": "9a2ef9b7",
   "metadata": {},
   "outputs": [
    {
     "name": "stdout",
     "output_type": "stream",
     "text": [
      "Root of power 2 from 9 equals 3.0\n"
     ]
    }
   ],
   "source": [
    "# функция печатает квадратный корень\n",
    "def print_root(value, n=2):\n",
    "    # Зададим внутреннюю функцию\n",
    "    # Она будет являться вспомогательной\n",
    "    def root(value, n=2):\n",
    "        result = value ** (1/n)\n",
    "        return result\n",
    "    # Получим результат из внутренней функции\n",
    "    res = root(value, n)\n",
    "    # Печатаем результат и не возвращаем его\n",
    "    print('Root of power', n, 'from', value, 'equals', res)\n",
    "print_root(9)"
   ]
  },
  {
   "cell_type": "code",
   "execution_count": 2,
   "id": "8718d6df",
   "metadata": {},
   "outputs": [
    {
     "name": "stdout",
     "output_type": "stream",
     "text": [
      "Employee John Doe is registered with the company TheBlindMice\n"
     ]
    }
   ],
   "source": [
    "#объявляем внешнюю функцию для регистрации сотрудников\n",
    "def register_employee(name, surname):\n",
    "    #объявляем функцию для промежуточных вычислений\n",
    "    def create_full_name():\n",
    "        #функция использует внешние переменные name и surname\n",
    "        sep = ' ' #разделитель между именем и фамилией\n",
    "        result = name + sep + surname #вычисляем полное имя\n",
    "        return result\n",
    "    full_name = create_full_name() #вызываем внутреннюю функцию\n",
    "    #выводим результат на экран, используя внешнюю переменную company_name\n",
    "    print('Employee {} is registered with the company {}'.format(full_name, company_name))\n",
    "    \n",
    "company_name = 'TheBlindMice' #название компании\n",
    "register_employee('John','Doe') #вызов функции"
   ]
  },
  {
   "cell_type": "code",
   "execution_count": 3,
   "id": "74b29937",
   "metadata": {},
   "outputs": [
    {
     "name": "stdout",
     "output_type": "stream",
     "text": [
      "1\n"
     ]
    }
   ],
   "source": [
    "global_counter = 0\n",
    " \n",
    "def add_one():\n",
    "    # Обозначим, что переменная global_counter\n",
    "    # является глобальной\n",
    "    global global_counter\n",
    "    global_counter += 1\n",
    "add_one()\n",
    "print(global_counter)"
   ]
  },
  {
   "cell_type": "code",
   "execution_count": 4,
   "id": "1ce24718",
   "metadata": {},
   "outputs": [
    {
     "name": "stdout",
     "output_type": "stream",
     "text": [
      "1\n"
     ]
    }
   ],
   "source": [
    "def outer_function():\n",
    "    enclosing_counter = 0\n",
    "    def inner_function():\n",
    "        # С помощью оператора nonlocal покажем,\n",
    "        # что переменная enclosing_counter находится\n",
    "        # во внешней функции\n",
    "        nonlocal enclosing_counter\n",
    "        enclosing_counter += 1\n",
    "        print(enclosing_counter)\n",
    "    inner_function()\n",
    "outer_function()"
   ]
  },
  {
   "cell_type": "markdown",
   "id": "456d07e1",
   "metadata": {},
   "source": [
    "#### ПРИМЕНЕНИЕ ОБЛАСТИ ВИДИМОСТИ ПЕРЕМЕННЫХ"
   ]
  },
  {
   "cell_type": "code",
   "execution_count": 5,
   "id": "18b2636e",
   "metadata": {},
   "outputs": [
    {
     "name": "stdout",
     "output_type": "stream",
     "text": [
      "1\n",
      "2\n",
      "3\n"
     ]
    }
   ],
   "source": [
    "# Функция, которая создаёт счётчик\n",
    "def counter():\n",
    "    # Начальное значение счётчика — 0\n",
    "    number = 0\n",
    "    # Функция add будет каждый раз прибавлять\n",
    "    # к счётчику 1 при запуске\n",
    "    def add():\n",
    "        # Сообщаем, что number берём из\n",
    "        # внешней функции\n",
    "        nonlocal number\n",
    "        # Увеличиваем значение счётчика на 1   \n",
    "        number += 1\n",
    "        # Возвращаем текущее число запусков счётчика\n",
    "        return number\n",
    "    # Возвращаем не результат вычислений,\n",
    "    # а непосредственно саму функцию add\n",
    "    # без круглых скобок!\n",
    "    return add\n",
    "counter1 = counter()\n",
    "# Запустим counter как обычную функцию\n",
    "print(counter1())\n",
    "print(counter1())\n",
    "print(counter1())"
   ]
  },
  {
   "cell_type": "code",
   "execution_count": 6,
   "id": "8dac3f8b",
   "metadata": {},
   "outputs": [
    {
     "name": "stdout",
     "output_type": "stream",
     "text": [
      "25\n",
      "125\n",
      "144\n"
     ]
    }
   ],
   "source": [
    "def saver():\n",
    "    pigs = 0\n",
    "    def adder(x):\n",
    "        nonlocal pigs\n",
    "        pigs += x\n",
    "        return pigs\n",
    "    return adder\n",
    "pig = saver()\n",
    "print(pig(25))\n",
    "print(pig(100))\n",
    "print(pig(19))"
   ]
  },
  {
   "cell_type": "markdown",
   "id": "5eaf7a34",
   "metadata": {},
   "source": [
    "# 3. Рекурсия"
   ]
  },
  {
   "cell_type": "code",
   "execution_count": 7,
   "id": "71ce0a32",
   "metadata": {},
   "outputs": [
    {
     "name": "stdout",
     "output_type": "stream",
     "text": [
      "[10, 21, 24, 12]\n",
      "[21, 24, 12]\n",
      "[24, 12]\n",
      "[12]\n",
      "[]\n",
      "67\n"
     ]
    }
   ],
   "source": [
    "def sum_lst(lst):\n",
    "    # Выводим текущее значение lst\n",
    "    print(lst)\n",
    "    # Задаём условие выхода из рекурсии\n",
    "    if len(lst) == 0:return 0\n",
    "    # Во всех других случаях возвращаем\n",
    "    # сумму первого элемента списка \n",
    "    # и результат суммирования оставшихся\n",
    "    return lst[0] + sum_lst(lst[1:])\n",
    " \n",
    "my_lst = [10, 21, 24, 12]\n",
    "print(sum_lst(my_lst))"
   ]
  },
  {
   "cell_type": "code",
   "execution_count": 8,
   "id": "7980d8ef",
   "metadata": {},
   "outputs": [
    {
     "name": "stdout",
     "output_type": "stream",
     "text": [
      "60480\n"
     ]
    }
   ],
   "source": [
    "# Напишите рекурсивную функцию multiply_lst, которая перемножает элементы заданного списка между собой. \n",
    "def multiply_lst(lst):\n",
    "    if len(lst) == 0: return 1\n",
    "    return lst[0] * multiply_lst(lst[1:])\n",
    "\n",
    "my_lst = [10, 21, 24, 12]\n",
    "print(multiply_lst(my_lst))"
   ]
  },
  {
   "cell_type": "markdown",
   "id": "abf3be45",
   "metadata": {},
   "source": [
    "#### ФАКТОРИАЛ ЧЕРЕЗ РЕКУРСИЮ"
   ]
  },
  {
   "cell_type": "code",
   "execution_count": 9,
   "id": "536fe5fd",
   "metadata": {},
   "outputs": [
    {
     "name": "stdout",
     "output_type": "stream",
     "text": [
      "1\n",
      "6\n",
      "120\n"
     ]
    }
   ],
   "source": [
    "def factorial(n):\n",
    "    # Задаём условия выхода из рекурсии:\n",
    "    if n==0: return 1\n",
    "    if n==1: return 1\n",
    "    # Во всех других случаях возвращаем\n",
    "    # произведение текущего числа n и функции от n-1\n",
    "    return factorial(n-1)*n\n",
    "print(factorial(0))\n",
    "print(factorial(3))\n",
    "print(factorial(5))"
   ]
  },
  {
   "cell_type": "markdown",
   "id": "1a658e59",
   "metadata": {},
   "source": [
    "#### ГЛУБИНА РЕКУРСИИ"
   ]
  },
  {
   "cell_type": "code",
   "execution_count": 10,
   "id": "9fdb5119",
   "metadata": {},
   "outputs": [
    {
     "name": "stdout",
     "output_type": "stream",
     "text": [
      "2478\n"
     ]
    }
   ],
   "source": [
    "# Импортируем модуль для работы с системными переменными\n",
    "import sys\n",
    "# Увеличим глубину рекурсии\n",
    "sys.setrecursionlimit(1000000000)\n",
    "print(len(str(factorial(970))))"
   ]
  },
  {
   "cell_type": "code",
   "execution_count": 11,
   "id": "d9263de6",
   "metadata": {},
   "outputs": [
    {
     "name": "stdout",
     "output_type": "stream",
     "text": [
      "0\n",
      "1\n",
      "8\n",
      "13\n"
     ]
    }
   ],
   "source": [
    "def fib(n):\n",
    "    if n==0: return 0\n",
    "    if n==1: return 1\n",
    "    return fib(n-1) + fib(n-2)\n",
    "print(fib(0))\n",
    "print(fib(2))\n",
    "print(fib(6))\n",
    "print(fib(7))"
   ]
  },
  {
   "cell_type": "markdown",
   "id": "e4255636",
   "metadata": {},
   "source": [
    "# 4. Закрепление знаний"
   ]
  },
  {
   "cell_type": "code",
   "execution_count": 12,
   "id": "96bee997",
   "metadata": {},
   "outputs": [
    {
     "name": "stdout",
     "output_type": "stream",
     "text": [
      "1\n",
      "625\n"
     ]
    }
   ],
   "source": [
    "def power(val, n):\n",
    "    if n==0: return 1\n",
    "    if n==1: return val\n",
    "    return val * power(val, n-1)\n",
    "print(power(25,0))\n",
    "print(power(-5,4))"
   ]
  },
  {
   "cell_type": "code",
   "execution_count": 13,
   "id": "167b146e",
   "metadata": {},
   "outputs": [
    {
     "name": "stdout",
     "output_type": "stream",
     "text": [
      "True\n",
      "False\n",
      "True\n"
     ]
    }
   ],
   "source": [
    "def is_leap(year):\n",
    "    if year % 400 == 0: return True\n",
    "    if year % 100 == 0: return False\n",
    "    if year % 4 == 0: return True\n",
    "    return False\n",
    "print(is_leap(2000))\n",
    "print(is_leap(1900))\n",
    "print(is_leap(2020))"
   ]
  },
  {
   "cell_type": "code",
   "execution_count": 14,
   "id": "d4d024b5",
   "metadata": {},
   "outputs": [
    {
     "name": "stdout",
     "output_type": "stream",
     "text": [
      "True\n",
      "True\n",
      "False\n",
      "False\n",
      "False\n"
     ]
    }
   ],
   "source": [
    "def check_date(day, month, year):\n",
    "    if (type(day) is not int) or (type(month) is not int) or (type(year) is not int): return False\n",
    "    if (year <= 1900) or (year >= 2022): return False\n",
    "    if (month < 1) or (month > 12): return False\n",
    "    if (day < 1) or (day > 31): return False\n",
    "    if (month in [4,6,9,11]) and (day > 30): return False\n",
    "    if month == 2:\n",
    "        if is_leap(year):\n",
    "            if day > 29: return False\n",
    "        else:\n",
    "            if day > 28: return False\n",
    "    return True    \n",
    "print(check_date(18,9,1999))\n",
    "print(check_date(29,2,2000))\n",
    "print(check_date(29,2,2021))\n",
    "print(check_date(13,13,2021))\n",
    "print(check_date(13.5,12,2021))"
   ]
  },
  {
   "cell_type": "markdown",
   "id": "f018f468",
   "metadata": {},
   "source": [
    "# BONUS 5. Итераторы и генераторы"
   ]
  },
  {
   "cell_type": "markdown",
   "id": "73287d5e",
   "metadata": {},
   "source": [
    "#### ИТЕРАТОРЫ"
   ]
  },
  {
   "cell_type": "code",
   "execution_count": 15,
   "id": "54c95453",
   "metadata": {},
   "outputs": [
    {
     "name": "stdout",
     "output_type": "stream",
     "text": [
      "12\n",
      "14\n",
      "16\n"
     ]
    },
    {
     "ename": "StopIteration",
     "evalue": "",
     "output_type": "error",
     "traceback": [
      "\u001b[1;31m---------------------------------------------------------------------------\u001b[0m",
      "\u001b[1;31mStopIteration\u001b[0m                             Traceback (most recent call last)",
      "\u001b[1;32m<ipython-input-15-66e29ad76bbf>\u001b[0m in \u001b[0;36m<module>\u001b[1;34m\u001b[0m\n\u001b[0;32m      4\u001b[0m \u001b[0mprint\u001b[0m\u001b[1;33m(\u001b[0m\u001b[0mnext\u001b[0m\u001b[1;33m(\u001b[0m\u001b[0miter_list\u001b[0m\u001b[1;33m)\u001b[0m\u001b[1;33m)\u001b[0m\u001b[1;33m\u001b[0m\u001b[1;33m\u001b[0m\u001b[0m\n\u001b[0;32m      5\u001b[0m \u001b[0mprint\u001b[0m\u001b[1;33m(\u001b[0m\u001b[0mnext\u001b[0m\u001b[1;33m(\u001b[0m\u001b[0miter_list\u001b[0m\u001b[1;33m)\u001b[0m\u001b[1;33m)\u001b[0m\u001b[1;33m\u001b[0m\u001b[1;33m\u001b[0m\u001b[0m\n\u001b[1;32m----> 6\u001b[1;33m \u001b[0mprint\u001b[0m\u001b[1;33m(\u001b[0m\u001b[0mnext\u001b[0m\u001b[1;33m(\u001b[0m\u001b[0miter_list\u001b[0m\u001b[1;33m)\u001b[0m\u001b[1;33m)\u001b[0m\u001b[1;33m\u001b[0m\u001b[1;33m\u001b[0m\u001b[0m\n\u001b[0m",
      "\u001b[1;31mStopIteration\u001b[0m: "
     ]
    }
   ],
   "source": [
    "new_list = [12, 14, 16]\n",
    "iter_list = iter(new_list) \n",
    "print(next(iter_list))\n",
    "print(next(iter_list))\n",
    "print(next(iter_list))\n",
    "print(next(iter_list))"
   ]
  },
  {
   "cell_type": "code",
   "execution_count": 16,
   "id": "60260215",
   "metadata": {},
   "outputs": [
    {
     "name": "stdout",
     "output_type": "stream",
     "text": [
      "admin\n",
      "guest\n",
      "root\n",
      "anonymous\n",
      "User list is over!\n"
     ]
    }
   ],
   "source": [
    "users = ['admin', 'guest', 'root', 'anonymous']\n",
    "iter_users = iter(users)\n",
    "# Создаём бесконечный цикл while\n",
    "while True:\n",
    "    # Создаём блок обработки исключений\n",
    "    try:\n",
    "        # Выводим следующий объект из итератора\n",
    "        print(next(iter_users))\n",
    "   # Отлавливаем исключение StopIteration\n",
    "    except StopIteration:\n",
    "        # Когда возникает исключение, выводим фразу на экран\n",
    "        print(\"User list is over!\")\n",
    "        # Завершаем цикл\n",
    "        break"
   ]
  },
  {
   "cell_type": "code",
   "execution_count": 17,
   "id": "2b92fd73",
   "metadata": {},
   "outputs": [
    {
     "name": "stdout",
     "output_type": "stream",
     "text": [
      "admin\n",
      "guest\n",
      "root\n",
      "anonymous\n"
     ]
    }
   ],
   "source": [
    "iter_users = iter(users)\n",
    "# Создаём цикл for по объектам из итератора\n",
    "for user in iter_users:\n",
    "    # Выводим текущий элемент на экран\n",
    "    print(user)"
   ]
  },
  {
   "cell_type": "code",
   "execution_count": 18,
   "id": "9e620d2a",
   "metadata": {},
   "outputs": [
    {
     "name": "stdout",
     "output_type": "stream",
     "text": [
      "[(0, 'admin'), (1, 'guest'), (2, 'root'), (3, 'anonymous')]\n"
     ]
    }
   ],
   "source": [
    "# Создаём итератор enumerate из списка users\n",
    "enum_users = enumerate(users)\n",
    "# Получаем список из объекта enumerate\n",
    "enum_list = list(enum_users)\n",
    "print(enum_list)"
   ]
  },
  {
   "cell_type": "markdown",
   "id": "4f95161a",
   "metadata": {},
   "source": [
    "#### ГЕНЕРАТОРЫ"
   ]
  },
  {
   "cell_type": "code",
   "execution_count": 19,
   "id": "9485a5f6",
   "metadata": {},
   "outputs": [
    {
     "name": "stdout",
     "output_type": "stream",
     "text": [
      "1050.0\n",
      "1102.5\n",
      "1157.62\n"
     ]
    }
   ],
   "source": [
    "# Объявляем функцию для расчёта суммы вклада\n",
    "def deposit(money, interest):\n",
    "    # Процент по вкладу преобразуем во множитель:\n",
    "    # делим процент на 100 и прибавляем 1\n",
    "    interest = interest/100 + 1\n",
    "    # Создаем бесконечный цикл\n",
    "    while True:\n",
    "        # Сумма вклада через год — это\n",
    "        # текущая сумма, умноженная на коэффициент и\n",
    "        # округлённая до двух знаков после запятой\n",
    "        money = round(interest * money, 2)\n",
    "        # Выдаём полученную сумму вклада\n",
    "        yield money\n",
    "\n",
    "bank = deposit(1000, 5)\n",
    "print(next(bank)) # Запускаем генератор bank в первый раз\n",
    "print(next(bank)) # Запускаем генератор bank во второй раз\n",
    "print(next(bank)) # Запускаем генератор bank в третий раз"
   ]
  },
  {
   "cell_type": "code",
   "execution_count": 20,
   "id": "4dce5674",
   "metadata": {},
   "outputs": [
    {
     "name": "stdout",
     "output_type": "stream",
     "text": [
      "1545.0\n",
      "1591.35\n"
     ]
    },
    {
     "ename": "StopIteration",
     "evalue": "",
     "output_type": "error",
     "traceback": [
      "\u001b[1;31m---------------------------------------------------------------------------\u001b[0m",
      "\u001b[1;31mStopIteration\u001b[0m                             Traceback (most recent call last)",
      "\u001b[1;32m<ipython-input-20-7ede3a759ee4>\u001b[0m in \u001b[0;36m<module>\u001b[1;34m\u001b[0m\n\u001b[0;32m     11\u001b[0m \u001b[0mprint\u001b[0m\u001b[1;33m(\u001b[0m\u001b[0mnext\u001b[0m\u001b[1;33m(\u001b[0m\u001b[0mbank2\u001b[0m\u001b[1;33m)\u001b[0m\u001b[1;33m)\u001b[0m\u001b[1;33m\u001b[0m\u001b[1;33m\u001b[0m\u001b[0m\n\u001b[0;32m     12\u001b[0m \u001b[0mprint\u001b[0m\u001b[1;33m(\u001b[0m\u001b[0mnext\u001b[0m\u001b[1;33m(\u001b[0m\u001b[0mbank2\u001b[0m\u001b[1;33m)\u001b[0m\u001b[1;33m)\u001b[0m\u001b[1;33m\u001b[0m\u001b[1;33m\u001b[0m\u001b[0m\n\u001b[1;32m---> 13\u001b[1;33m \u001b[0mprint\u001b[0m\u001b[1;33m(\u001b[0m\u001b[0mnext\u001b[0m\u001b[1;33m(\u001b[0m\u001b[0mbank2\u001b[0m\u001b[1;33m)\u001b[0m\u001b[1;33m)\u001b[0m\u001b[1;33m\u001b[0m\u001b[1;33m\u001b[0m\u001b[0m\n\u001b[0m",
      "\u001b[1;31mStopIteration\u001b[0m: "
     ]
    }
   ],
   "source": [
    "# Объявляем функцию для расчёта суммы вклада\n",
    "# Аргумент years принимает число лет, на которое рассчитан вклад\n",
    "def deposit_years(money, interest, years):\n",
    "    interest = interest/100 + 1\n",
    "    # Вместо while используем цикл for с range\n",
    "    for year in range(years):\n",
    "        money = round(interest * money, 2)\n",
    "        # Выдаём полученную сумму вклада\n",
    "        yield money\n",
    "bank2 = deposit_years(1500, 3, 2)\n",
    "print(next(bank2))\n",
    "print(next(bank2))\n",
    "print(next(bank2))"
   ]
  },
  {
   "cell_type": "code",
   "execution_count": 21,
   "id": "6b364f9d",
   "metadata": {},
   "outputs": [
    {
     "name": "stdout",
     "output_type": "stream",
     "text": [
      "11000.0\n",
      "12100.0\n",
      "13310.0\n"
     ]
    }
   ],
   "source": [
    "bank3 = deposit_years(10000, 10, 3)\n",
    "for money in bank3:\n",
    "    print(money)"
   ]
  },
  {
   "cell_type": "code",
   "execution_count": 22,
   "id": "89f5172c",
   "metadata": {},
   "outputs": [
    {
     "name": "stdout",
     "output_type": "stream",
     "text": [
      "[11000.0, 12100.0, 13310.0]\n"
     ]
    }
   ],
   "source": [
    "bank3 = deposit_years(10000, 10, 3)\n",
    "sums = list(bank3)\n",
    "print(sums)"
   ]
  },
  {
   "cell_type": "code",
   "execution_count": 27,
   "id": "242c4d69",
   "metadata": {},
   "outputs": [
    {
     "name": "stdout",
     "output_type": "stream",
     "text": [
      "101\n",
      "102\n",
      "103\n",
      "104\n",
      "101\n",
      "102\n",
      "103\n",
      "104\n",
      "101\n",
      "102\n"
     ]
    }
   ],
   "source": [
    "def inf_iter(l_in):\n",
    "    while True:\n",
    "        for x in l_in:\n",
    "            yield x\n",
    "l = [101, 102, 103, 104]\n",
    "gen = inf_iter(l)\n",
    "for _ in range(10):\n",
    "    print(next(gen))"
   ]
  },
  {
   "cell_type": "code",
   "execution_count": 31,
   "id": "2e820dee",
   "metadata": {},
   "outputs": [
    {
     "name": "stdout",
     "output_type": "stream",
     "text": [
      "1\n",
      "2\n",
      "3\n",
      "1\n",
      "2\n",
      "3\n",
      "1\n",
      "2\n",
      "3\n",
      "1\n"
     ]
    }
   ],
   "source": [
    "def group_gen(n):\n",
    "    while True:\n",
    "        for x in range(1, n+1):\n",
    "            yield x\n",
    "groups = group_gen(3)\n",
    "for _ in range(10):\n",
    "    print(next(groups))"
   ]
  },
  {
   "cell_type": "markdown",
   "id": "043d61a3",
   "metadata": {},
   "source": [
    "#### СОКРАЩЁННАЯ ЗАПИСЬ ГЕНЕРАТОРОВ"
   ]
  },
  {
   "cell_type": "code",
   "execution_count": 32,
   "id": "1a962a3d",
   "metadata": {},
   "outputs": [
    {
     "name": "stdout",
     "output_type": "stream",
     "text": [
      "[1, 4, 9, 16, 25, 36, 49, 64, 81, 100]\n"
     ]
    }
   ],
   "source": [
    "def square_gen():\n",
    "    # Создаём цикл для последовательности от 1 до 10\n",
    "    for x in range(1, 11):\n",
    "        # Выдаём квадрат числа\n",
    "        yield x ** 2\n",
    "gen = square_gen()\n",
    "square_list = list(gen)\n",
    "print(square_list)"
   ]
  },
  {
   "cell_type": "code",
   "execution_count": 35,
   "id": "a6278f73",
   "metadata": {},
   "outputs": [
    {
     "name": "stdout",
     "output_type": "stream",
     "text": [
      "<class 'generator'>\n",
      "<generator object <genexpr> at 0x0000022EF664B430>\n",
      "[1, 4, 9, 16, 25, 36, 49, 64, 81, 100]\n"
     ]
    }
   ],
   "source": [
    "# Создаём сокращённую форму генератора квадратов\n",
    "squares_generator = (x**2 for x in range(1, 11))\n",
    "print(type(squares_generator))\n",
    "print(squares_generator)\n",
    "squares_list = list(squares_generator)\n",
    "print(squares_list)"
   ]
  },
  {
   "cell_type": "code",
   "execution_count": 36,
   "id": "94e581ce",
   "metadata": {},
   "outputs": [
    {
     "name": "stdout",
     "output_type": "stream",
     "text": [
      "<class 'generator'>\n",
      "[27, 216, 729, 1728, 3375]\n"
     ]
    }
   ],
   "source": [
    "# Создаём генератор кубов чисел, которые делятся на 3\n",
    "triple_cubes_generator = (x**3 for x in range(1,16) if x % 3 == 0)\n",
    "print(type(triple_cubes_generator))\n",
    "# Оборачиваем сгенерированные значения в список\n",
    "print(list(triple_cubes_generator))"
   ]
  },
  {
   "cell_type": "code",
   "execution_count": 37,
   "id": "cca0b10b",
   "metadata": {},
   "outputs": [
    {
     "name": "stdout",
     "output_type": "stream",
     "text": [
      "<class 'list'>\n",
      "[27, 216, 729, 1728, 3375]\n"
     ]
    }
   ],
   "source": [
    "triple_cubes_list = [x**3 for x in range(1,16) if x % 3 == 0]\n",
    "print(type(triple_cubes_list))\n",
    "print(triple_cubes_list)"
   ]
  },
  {
   "cell_type": "markdown",
   "id": "d1796931",
   "metadata": {},
   "source": [
    "# BONUS 6. Функции map(), filter(), zip(), reduce()"
   ]
  },
  {
   "cell_type": "markdown",
   "id": "e77a7b43",
   "metadata": {},
   "source": [
    "#### ФУНКЦИЯ MAP"
   ]
  },
  {
   "cell_type": "code",
   "execution_count": 39,
   "id": "6cadea30",
   "metadata": {},
   "outputs": [
    {
     "name": "stdout",
     "output_type": "stream",
     "text": [
      "[4, 6, 5, 9, 8, 3]\n"
     ]
    }
   ],
   "source": [
    "names = ['Ivan', 'Nikita', 'Simon', 'Margarita', 'Vasilisa', 'Kim']\n",
    "\n",
    "# Создаём пустой список, куда будем заносить результаты\n",
    "lens_list = []\n",
    "# Создаём цикл по элементам списка names\n",
    "for name in names:\n",
    "    # Вычисляем длину текущего слова\n",
    "    length = len(name)\n",
    "    # Добавляем вычисленную длину слова в список\n",
    "    lens_list.append(length)\n",
    "\n",
    "print(lens_list)"
   ]
  },
  {
   "cell_type": "code",
   "execution_count": 40,
   "id": "273078f7",
   "metadata": {},
   "outputs": [
    {
     "name": "stdout",
     "output_type": "stream",
     "text": [
      "True\n"
     ]
    }
   ],
   "source": [
    "def get_length(word):\n",
    "    return len(word)\n",
    "# Объявляем функцию для вычисления длины\n",
    "def get_length(word):\n",
    "    return len(word)\n",
    "# Применяем функцию get_length к каждому элементу списка\n",
    "lens = map(get_length, names)\n",
    "# Проверим, что переменная lens — это объект типа map:\n",
    "# Для этого воспользуемся функцией isinstance\n",
    "print(isinstance(lens, map))"
   ]
  },
  {
   "cell_type": "code",
   "execution_count": 41,
   "id": "8f5b0394",
   "metadata": {},
   "outputs": [
    {
     "name": "stdout",
     "output_type": "stream",
     "text": [
      "4\n",
      "6\n",
      "5\n"
     ]
    }
   ],
   "source": [
    "# Последовательно получаем элементы итератора map\n",
    "print(next(lens))\n",
    "print(next(lens))\n",
    "print(next(lens))"
   ]
  },
  {
   "cell_type": "code",
   "execution_count": 42,
   "id": "88fbd191",
   "metadata": {},
   "outputs": [
    {
     "name": "stdout",
     "output_type": "stream",
     "text": [
      "[4, 6, 5, 9, 8, 3]\n"
     ]
    }
   ],
   "source": [
    "lens_list = list(map(get_length, names))\n",
    "print(lens_list)"
   ]
  },
  {
   "cell_type": "code",
   "execution_count": 43,
   "id": "ce1bd3fe",
   "metadata": {},
   "outputs": [
    {
     "name": "stdout",
     "output_type": "stream",
     "text": [
      "[4, 6, 5, 9, 8, 3]\n"
     ]
    }
   ],
   "source": [
    "lens = list(map(lambda x: len(x), names))\n",
    "print(lens)"
   ]
  },
  {
   "cell_type": "code",
   "execution_count": 46,
   "id": "e8b15c54",
   "metadata": {},
   "outputs": [
    {
     "data": {
      "text/plain": [
       "['https://www.kommersant.ru//doc/5041434?query=data%20science',\n",
       " 'https://www.kommersant.ru//doc/5041567?query=data%20science',\n",
       " 'https://www.kommersant.ru//doc/4283670?query=data%20science',\n",
       " 'https://www.kommersant.ru//doc/3712659?query=data%20science',\n",
       " 'https://www.kommersant.ru//doc/4997267?query=data%20science',\n",
       " 'https://www.kommersant.ru//doc/4372673?query=data%20science',\n",
       " 'https://www.kommersant.ru//doc/3779060?query=data%20science',\n",
       " 'https://www.kommersant.ru//doc/3495410?query=data%20science',\n",
       " 'https://www.kommersant.ru//doc/4308832?query=data%20science',\n",
       " 'https://www.kommersant.ru//doc/4079881?query=data%20science']"
      ]
     },
     "execution_count": 46,
     "metadata": {},
     "output_type": "execute_result"
    }
   ],
   "source": [
    "#ссылка на начальную страницу сайта \"Коммерсант\"\n",
    "main_link = 'https://www.kommersant.ru'\n",
    "docs = [\n",
    "    '//doc/5041434?query=data%20science',\n",
    "    '//doc/5041567?query=data%20science',\n",
    "    '//doc/4283670?query=data%20science',\n",
    "    '//doc/3712659?query=data%20science',\n",
    "    '//doc/4997267?query=data%20science',\n",
    "    '//doc/4372673?query=data%20science',\n",
    "    '//doc/3779060?query=data%20science',\n",
    "    '//doc/3495410?query=data%20science',\n",
    "    '//doc/4308832?query=data%20science',\n",
    "    '//doc/4079881?query=data%20science']\n",
    "links = list(map(lambda x: main_link + x, docs))\n",
    "links"
   ]
  },
  {
   "cell_type": "markdown",
   "id": "4f633a0a",
   "metadata": {},
   "source": [
    "#### ФУНКЦИЯ FILTER"
   ]
  },
  {
   "cell_type": "code",
   "execution_count": 47,
   "id": "c5847010",
   "metadata": {},
   "outputs": [
    {
     "name": "stdout",
     "output_type": "stream",
     "text": [
      "[4, 6, 8]\n"
     ]
    }
   ],
   "source": [
    "lens_list = [4, 6, 5, 9, 8, 3]\n",
    "even_list = []\n",
    "# Создаём цикл по элементам списка\n",
    "for item in lens_list:\n",
    "    # Проверяем условие, что текущий элемент списка чётный\n",
    "    if item % 2 == 0: # Если условие выполняется,\n",
    "        # добавляем элемент в новый список\n",
    "        even_list .append(item)\n",
    "print(even_list)"
   ]
  },
  {
   "cell_type": "code",
   "execution_count": 49,
   "id": "5ce2f11e",
   "metadata": {},
   "outputs": [
    {
     "name": "stdout",
     "output_type": "stream",
     "text": [
      "True\n"
     ]
    }
   ],
   "source": [
    "# Объявляем функцию для проверки чётности числа\n",
    "def is_even(num):\n",
    "    if num % 2 == 0:\n",
    "        return True\n",
    "    return False\n",
    "\n",
    "\n",
    "lens_list = [4, 6, 5, 9, 8, 3]\n",
    "# Применяем функцию is_even к каждому элементу списка\n",
    "even = filter(is_even, lens_list)\n",
    "# Убедимся, что even — объект типа filter\n",
    "print(isinstance(even, filter))"
   ]
  },
  {
   "cell_type": "code",
   "execution_count": 50,
   "id": "8fa8f5ee",
   "metadata": {},
   "outputs": [
    {
     "name": "stdout",
     "output_type": "stream",
     "text": [
      "[4, 6, 8]\n"
     ]
    }
   ],
   "source": [
    "print(list(even))"
   ]
  },
  {
   "cell_type": "code",
   "execution_count": 51,
   "id": "3f5e2db3",
   "metadata": {},
   "outputs": [
    {
     "name": "stdout",
     "output_type": "stream",
     "text": [
      "[4, 6, 8]\n"
     ]
    }
   ],
   "source": [
    "lens_list = [4, 6, 5, 9, 8, 3] \n",
    "# Применяем lambda-функцию к каждому элементу списка\n",
    "even = filter(lambda x: x % 2 == 0, lens_list)\n",
    "print(list(even))"
   ]
  },
  {
   "cell_type": "code",
   "execution_count": 54,
   "id": "2a6458a1",
   "metadata": {},
   "outputs": [
    {
     "name": "stdout",
     "output_type": "stream",
     "text": [
      "['parking permit', 'maternity capital', 'tax benefit']\n"
     ]
    }
   ],
   "source": [
    "family_list = [\n",
    "    'certificate of a large family',\n",
    "    'social card',\n",
    "    'maternity capital',\n",
    "    'parking permit',\n",
    "    'tax benefit',\n",
    "    'reimbursement of expenses',\n",
    "    \"compensation for the purchase of children's goods\"]\n",
    "def family(*arg):\n",
    "    return list(filter(lambda x: x in family_list, arg))\n",
    "\n",
    "print(family('newborn registration', 'parking permit', 'maternity capital', 'tax benefit', 'medical policy'))"
   ]
  },
  {
   "cell_type": "markdown",
   "id": "ad276ea6",
   "metadata": {},
   "source": [
    "#### КОНВЕЙЕРЫ ИЗ MAP И FILTER"
   ]
  },
  {
   "cell_type": "code",
   "execution_count": 55,
   "id": "82655661",
   "metadata": {},
   "outputs": [
    {
     "name": "stdout",
     "output_type": "stream",
     "text": [
      "[('Nikita', 1), ('Simon', 0), ('Margarita', 3), ('Vasilisa', 2)]\n"
     ]
    }
   ],
   "source": [
    "# Отбираем имена из пяти и более букв\n",
    "long_names = filter(lambda x: len(x) >= 5, names)\n",
    "# Все отобранные имена переводим в верхний регистр и считаем число букв А в них\n",
    "# Результат сохраняем в виде кортежа (имя, число букв \"A\")\n",
    "count_a = map(lambda x: (x, x.upper().count('A')), long_names)\n",
    "# Переводим объект map в list и печатаем его\n",
    "print(list(count_a))"
   ]
  },
  {
   "cell_type": "code",
   "execution_count": null,
   "id": "bc2d9bf1",
   "metadata": {},
   "outputs": [],
   "source": []
  }
 ],
 "metadata": {
  "kernelspec": {
   "display_name": "Python 3",
   "language": "python",
   "name": "python3"
  },
  "language_info": {
   "codemirror_mode": {
    "name": "ipython",
    "version": 3
   },
   "file_extension": ".py",
   "mimetype": "text/x-python",
   "name": "python",
   "nbconvert_exporter": "python",
   "pygments_lexer": "ipython3",
   "version": "3.8.8"
  },
  "varInspector": {
   "cols": {
    "lenName": 16,
    "lenType": 16,
    "lenVar": 40
   },
   "kernels_config": {
    "python": {
     "delete_cmd_postfix": "",
     "delete_cmd_prefix": "del ",
     "library": "var_list.py",
     "varRefreshCmd": "print(var_dic_list())"
    },
    "r": {
     "delete_cmd_postfix": ") ",
     "delete_cmd_prefix": "rm(",
     "library": "var_list.r",
     "varRefreshCmd": "cat(var_dic_list()) "
    }
   },
   "types_to_exclude": [
    "module",
    "function",
    "builtin_function_or_method",
    "instance",
    "_Feature"
   ],
   "window_display": false
  }
 },
 "nbformat": 4,
 "nbformat_minor": 5
}
