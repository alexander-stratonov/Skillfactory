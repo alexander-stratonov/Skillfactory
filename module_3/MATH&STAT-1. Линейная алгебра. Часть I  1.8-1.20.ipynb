{
 "cells": [
  {
   "cell_type": "markdown",
   "id": "ffebcc71",
   "metadata": {},
   "source": [
    "# 1.8. Матрицы. Основные понятия"
   ]
  },
  {
   "cell_type": "code",
   "execution_count": 1,
   "id": "659863f3",
   "metadata": {},
   "outputs": [
    {
     "data": {
      "text/plain": [
       "array([[ 1, -5,  3],\n",
       "       [ 2,  2,  1],\n",
       "       [ 0,  3,  1],\n",
       "       [ 2,  4, 12]])"
      ]
     },
     "execution_count": 1,
     "metadata": {},
     "output_type": "execute_result"
    }
   ],
   "source": [
    "import numpy as np\n",
    "a=np.array([[1,-5,3],[2,2,1],[0,3,1],[2,4,12]])\n",
    "a"
   ]
  },
  {
   "cell_type": "code",
   "execution_count": 2,
   "id": "37e25dd3",
   "metadata": {},
   "outputs": [
    {
     "data": {
      "text/plain": [
       "(4, 3)"
      ]
     },
     "execution_count": 2,
     "metadata": {},
     "output_type": "execute_result"
    }
   ],
   "source": [
    "a.shape"
   ]
  },
  {
   "cell_type": "code",
   "execution_count": 3,
   "id": "1aa9d851",
   "metadata": {},
   "outputs": [
    {
     "data": {
      "text/plain": [
       "1"
      ]
     },
     "execution_count": 3,
     "metadata": {},
     "output_type": "execute_result"
    }
   ],
   "source": [
    "a[1,2]"
   ]
  },
  {
   "cell_type": "code",
   "execution_count": 4,
   "id": "eb77625a",
   "metadata": {},
   "outputs": [
    {
     "data": {
      "text/plain": [
       "3"
      ]
     },
     "execution_count": 4,
     "metadata": {},
     "output_type": "execute_result"
    }
   ],
   "source": [
    "a[2,1]"
   ]
  },
  {
   "cell_type": "code",
   "execution_count": 5,
   "id": "807abcdb",
   "metadata": {},
   "outputs": [
    {
     "data": {
      "text/plain": [
       "1"
      ]
     },
     "execution_count": 5,
     "metadata": {},
     "output_type": "execute_result"
    }
   ],
   "source": [
    "a[2,2]"
   ]
  },
  {
   "cell_type": "markdown",
   "id": "3a4b2e4e",
   "metadata": {},
   "source": [
    "# 1.9. Базовые действия над матрицами"
   ]
  },
  {
   "cell_type": "code",
   "execution_count": 6,
   "id": "8901302f",
   "metadata": {},
   "outputs": [
    {
     "data": {
      "text/plain": [
       "array([[  2, -10,   6],\n",
       "       [  4,   4,   2],\n",
       "       [  0,   6,   2],\n",
       "       [  4,   8,  24]])"
      ]
     },
     "execution_count": 6,
     "metadata": {},
     "output_type": "execute_result"
    }
   ],
   "source": [
    "a+a"
   ]
  },
  {
   "cell_type": "code",
   "execution_count": 7,
   "id": "3575f4df",
   "metadata": {},
   "outputs": [
    {
     "data": {
      "text/plain": [
       "array([[  3, -15,   9],\n",
       "       [  6,   6,   3],\n",
       "       [  0,   9,   3],\n",
       "       [  6,  12,  36]])"
      ]
     },
     "execution_count": 7,
     "metadata": {},
     "output_type": "execute_result"
    }
   ],
   "source": [
    "a*3"
   ]
  },
  {
   "cell_type": "code",
   "execution_count": 8,
   "id": "d6229aa8",
   "metadata": {},
   "outputs": [],
   "source": [
    "a1=np.matrix('1,-5;2,2;0,3')\n",
    "b=np.array([7,5,1])"
   ]
  },
  {
   "cell_type": "code",
   "execution_count": 9,
   "id": "018f7ad0",
   "metadata": {},
   "outputs": [
    {
     "data": {
      "text/plain": [
       "matrix([[ 1, -5],\n",
       "        [ 2,  2],\n",
       "        [ 0,  3]])"
      ]
     },
     "execution_count": 9,
     "metadata": {},
     "output_type": "execute_result"
    }
   ],
   "source": [
    "a1"
   ]
  },
  {
   "cell_type": "code",
   "execution_count": 10,
   "id": "e819209e",
   "metadata": {},
   "outputs": [
    {
     "data": {
      "text/plain": [
       "matrix([[ 1,  2,  0],\n",
       "        [-5,  2,  3]])"
      ]
     },
     "execution_count": 10,
     "metadata": {},
     "output_type": "execute_result"
    }
   ],
   "source": [
    "a1.T"
   ]
  },
  {
   "cell_type": "code",
   "execution_count": 11,
   "id": "87e0fad8",
   "metadata": {},
   "outputs": [
    {
     "data": {
      "text/plain": [
       "array([7, 5, 1])"
      ]
     },
     "execution_count": 11,
     "metadata": {},
     "output_type": "execute_result"
    }
   ],
   "source": [
    "b"
   ]
  },
  {
   "cell_type": "code",
   "execution_count": 12,
   "id": "38f6bedf",
   "metadata": {},
   "outputs": [
    {
     "data": {
      "text/plain": [
       "array([7, 5, 1])"
      ]
     },
     "execution_count": 12,
     "metadata": {},
     "output_type": "execute_result"
    }
   ],
   "source": [
    "b.T"
   ]
  },
  {
   "cell_type": "markdown",
   "id": "59a6762f",
   "metadata": {},
   "source": [
    "# 1.10. --> Практика. Базовые действия над матрицами"
   ]
  },
  {
   "cell_type": "code",
   "execution_count": 2,
   "id": "4996fa47",
   "metadata": {},
   "outputs": [],
   "source": [
    "import numpy as np\n",
    "\n",
    "Husband_Income = np.array([100,220,140])\n",
    "Wife_Income = np.array([150,200,130])\n",
    "Mother_In_Law_Income = np.array([90,80,100])\n",
    "\n",
    "Husband_Сonsumption = np.array([50,50,60])\n",
    "Wife_Сonsumption = np.array([100,80,140])\n",
    "Mother_In_Law_Сonsumption = np.array([100,20,140])"
   ]
  },
  {
   "cell_type": "code",
   "execution_count": 16,
   "id": "c04efcaa",
   "metadata": {},
   "outputs": [
    {
     "data": {
      "text/plain": [
       "matrix([[100, 150,  90],\n",
       "        [220, 200,  80],\n",
       "        [140, 130, 100]])"
      ]
     },
     "execution_count": 16,
     "metadata": {},
     "output_type": "execute_result"
    }
   ],
   "source": [
    "Inc=np.matrix([Husband_Income,Wife_Income,Mother_In_Law_Income])\n",
    "Inc=Inc.T\n",
    "Inc"
   ]
  },
  {
   "cell_type": "code",
   "execution_count": 18,
   "id": "e40be189",
   "metadata": {},
   "outputs": [
    {
     "data": {
      "text/plain": [
       "matrix([[ 50, 100, 100],\n",
       "        [ 50,  80,  20],\n",
       "        [ 60, 140, 140]])"
      ]
     },
     "execution_count": 18,
     "metadata": {},
     "output_type": "execute_result"
    }
   ],
   "source": [
    "Cons=np.matrix([Husband_Сonsumption,Wife_Сonsumption,Mother_In_Law_Сonsumption])\n",
    "Cons=Cons.T\n",
    "Cons"
   ]
  },
  {
   "cell_type": "code",
   "execution_count": 21,
   "id": "71a3828a",
   "metadata": {},
   "outputs": [
    {
     "data": {
      "text/plain": [
       "matrix([[ 87. , 130.5,  78.3],\n",
       "        [191.4, 174. ,  69.6],\n",
       "        [121.8, 113.1,  87. ]])"
      ]
     },
     "execution_count": 21,
     "metadata": {},
     "output_type": "execute_result"
    }
   ],
   "source": [
    "IncN=Inc*0.87\n",
    "IncN"
   ]
  },
  {
   "cell_type": "code",
   "execution_count": 23,
   "id": "f939c200",
   "metadata": {},
   "outputs": [
    {
     "data": {
      "text/plain": [
       "matrix([[ 37. ,  30.5, -21.7],\n",
       "        [141.4,  94. ,  49.6],\n",
       "        [ 61.8, -26.9, -53. ]])"
      ]
     },
     "execution_count": 23,
     "metadata": {},
     "output_type": "execute_result"
    }
   ],
   "source": [
    "P=IncN-Cons\n",
    "P"
   ]
  },
  {
   "cell_type": "markdown",
   "id": "8a8444fc",
   "metadata": {},
   "source": [
    "# 1.11. Умножение матриц"
   ]
  },
  {
   "cell_type": "code",
   "execution_count": 24,
   "id": "3603be6f",
   "metadata": {},
   "outputs": [],
   "source": [
    "A=np.matrix('1,-5;2,2;0,3')\n",
    "B=np.matrix('3,1,0;-1,0,2')"
   ]
  },
  {
   "cell_type": "code",
   "execution_count": 27,
   "id": "de478efa",
   "metadata": {},
   "outputs": [
    {
     "data": {
      "text/plain": [
       "matrix([[  8,   1, -10],\n",
       "        [  4,   2,   4],\n",
       "        [ -3,   0,   6]])"
      ]
     },
     "execution_count": 27,
     "metadata": {},
     "output_type": "execute_result"
    }
   ],
   "source": [
    "np.dot(A,B)"
   ]
  },
  {
   "cell_type": "code",
   "execution_count": 28,
   "id": "1b8ae80a",
   "metadata": {},
   "outputs": [
    {
     "data": {
      "text/plain": [
       "matrix([[  5, -13],\n",
       "        [ -1,  11]])"
      ]
     },
     "execution_count": 28,
     "metadata": {},
     "output_type": "execute_result"
    }
   ],
   "source": [
    "np.dot(B,A)"
   ]
  },
  {
   "cell_type": "markdown",
   "id": "63a9147c",
   "metadata": {},
   "source": [
    "# 1.12. Умножение на специальные матрицы"
   ]
  },
  {
   "cell_type": "markdown",
   "id": "5e57b7c1",
   "metadata": {},
   "source": [
    "Нулевая и единичная матрица играют роль нуля и единицы в матричном умножении.\n",
    "Умножение на шаровую матрицу — то же самое, что умножение на скаляр.\n",
    "Умножение на диагональную матрицу даёт растяжение каждого столбца или строки в зависимости от порядка.\n",
    "Диагональные матрицы коммутируют между собой."
   ]
  },
  {
   "cell_type": "markdown",
   "id": "1f1d34b1",
   "metadata": {},
   "source": [
    "# 1.13. Делители нуля"
   ]
  },
  {
   "cell_type": "markdown",
   "id": "4d609de7",
   "metadata": {},
   "source": [
    "Делители нуля — это специальные ненулевые элементы, которые дают ноль при умножении."
   ]
  },
  {
   "cell_type": "markdown",
   "id": "26dfee4a",
   "metadata": {},
   "source": [
    "# 1.14. Умножение и транспонирование матриц"
   ]
  },
  {
   "cell_type": "code",
   "execution_count": 34,
   "id": "018533a8",
   "metadata": {},
   "outputs": [
    {
     "data": {
      "text/plain": [
       "array([[2, 1, 3],\n",
       "       [1, 5, 0],\n",
       "       [3, 0, 5]])"
      ]
     },
     "execution_count": 34,
     "metadata": {},
     "output_type": "execute_result"
    }
   ],
   "source": [
    "gram=np.array([[1,1],[2,-1],[1,2]])\n",
    "gramT=gram.T\n",
    "np.dot(gram,gramT)"
   ]
  },
  {
   "cell_type": "markdown",
   "id": "762616f7",
   "metadata": {},
   "source": [
    "# 1.15. --> Практика. Умножение матриц"
   ]
  },
  {
   "cell_type": "code",
   "execution_count": 4,
   "id": "0df52667",
   "metadata": {},
   "outputs": [
    {
     "data": {
      "text/plain": [
       "array([26, 30])"
      ]
     },
     "execution_count": 4,
     "metadata": {},
     "output_type": "execute_result"
    }
   ],
   "source": [
    "A = np.array([[5,-1,3,1,2], [-2,8,5,-1,1]])\n",
    "x = np.array([1,2,3,4,5])\n",
    "A@x"
   ]
  },
  {
   "cell_type": "code",
   "execution_count": 6,
   "id": "fb99f219",
   "metadata": {},
   "outputs": [
    {
     "data": {
      "text/plain": [
       "array([[  2,   9,  11,  14],\n",
       "       [  8, -10, -14, -11]])"
      ]
     },
     "execution_count": 6,
     "metadata": {},
     "output_type": "execute_result"
    }
   ],
   "source": [
    "A = np.array([[1,9,8,5], [3,6,3,2], [3,3,3,3], [0,2,5,9], [4,4,1,2]])\n",
    "B = np.array([[1,-1,0,1,1], [-2,0,2,-1,1]])\n",
    "B@A"
   ]
  },
  {
   "cell_type": "code",
   "execution_count": 17,
   "id": "fe61abec",
   "metadata": {},
   "outputs": [
    {
     "data": {
      "text/plain": [
       "matrix([[22,  3,  0],\n",
       "        [ 3,  7,  0],\n",
       "        [ 0,  0,  3]])"
      ]
     },
     "execution_count": 17,
     "metadata": {},
     "output_type": "execute_result"
    }
   ],
   "source": [
    "x = np.array([1,2,1,0,4])\n",
    "y = np.array([2,1,-1,1,0])\n",
    "z = np.array([-1,1,-1,0,0])\n",
    "xyz=np.matrix([x,y,z])\n",
    "xyz*xyz.T"
   ]
  },
  {
   "cell_type": "code",
   "execution_count": 32,
   "id": "bea9c1f8",
   "metadata": {},
   "outputs": [],
   "source": [
    "import pandas as pd\n",
    "Count_DF = pd.DataFrame({'Женские стрижки': [10, 2, 12, 4, 6, 10, 22, 7], \n",
    "                                'Мужские стрижки': [5, 21, 12, 8, 25, 3, 1, 0], \n",
    "                                'Окрашивания':[12, 3, 0, 18, 27, 2, 4, 31],\n",
    "                              'Укладка':[15, 25, 30, 14, 25, 17, 25, 31],\n",
    "                                'Уход':[10, 6, 4, 5, 18, 12, 20, 28]\n",
    "                                }, \n",
    "                               index=['Аня', 'Борис', 'Вика', 'Галя', 'Дима', 'Егор', 'Женя','Юра'])\n",
    "Price_DF = pd.DataFrame({'Женские стрижки': [2, 1.8, 2, 1.8, 2.5, 5, 1.1, 4.5], \n",
    "                                'Мужские стрижки': [1.5, 2.5, 2, 1.2, 3.5, 5, 1, 4], \n",
    "                                'Окрашивания':[1, 1, 0, 2.8, 2, 3, 1.5, 2.5],\n",
    "                              'Укладка':[0.8, 1, 0.5, 0.8, 1, 2, 0.5, 1],\n",
    "                                'Уход':[1, 1, 2, 2, 1.5, 2.5, 1.7, 2] \n",
    "                                }, \n",
    "                               index=['Аня', 'Борис', 'Вика', 'Галя', 'Дима', 'Егор', 'Женя','Юра'])"
   ]
  },
  {
   "cell_type": "code",
   "execution_count": 35,
   "id": "3993f704",
   "metadata": {},
   "outputs": [
    {
     "data": {
      "text/plain": [
       "array([ 3.6, 52.5,  3. , 25. ,  6. ])"
      ]
     },
     "execution_count": 35,
     "metadata": {},
     "output_type": "execute_result"
    }
   ],
   "source": [
    "Count_NP=Count_DF.values\n",
    "Price_NP=Price_DF.values\n",
    "Count_NP[1]*Price_NP[1]"
   ]
  },
  {
   "cell_type": "code",
   "execution_count": 36,
   "id": "b8e7a6c6",
   "metadata": {},
   "outputs": [
    {
     "data": {
      "text/plain": [
       "array([11.3 , 15.22, 11.9 , 20.6 , 41.9 , 21.2 , 11.49, 38.25])"
      ]
     },
     "execution_count": 36,
     "metadata": {},
     "output_type": "execute_result"
    }
   ],
   "source": [
    "com = np.array([0.2, 0.2, 0.3, 0.1, 0.1])\n",
    "(Count_NP*Price_NP)@com"
   ]
  },
  {
   "cell_type": "code",
   "execution_count": 38,
   "id": "ac3a3308",
   "metadata": {},
   "outputs": [
    {
     "data": {
      "text/plain": [
       "array([ 50.2 ,  74.88,  59.1 ,  67.8 , 166.6 , 113.8 ,  66.21, 157.75])"
      ]
     },
     "execution_count": 38,
     "metadata": {},
     "output_type": "execute_result"
    }
   ],
   "source": [
    "(Count_NP*Price_NP)@(np.ones(5)-com)"
   ]
  },
  {
   "cell_type": "markdown",
   "id": "ae5ed206",
   "metadata": {},
   "source": [
    "# 1.16. Обратная матрица"
   ]
  },
  {
   "cell_type": "code",
   "execution_count": 39,
   "id": "649d5bb9",
   "metadata": {},
   "outputs": [
    {
     "data": {
      "text/plain": [
       "matrix([[-0.66666667, -1.33333333,  1.        ],\n",
       "        [-0.66666667,  3.66666667, -2.        ],\n",
       "        [ 1.        , -2.        ,  1.        ]])"
      ]
     },
     "execution_count": 39,
     "metadata": {},
     "output_type": "execute_result"
    }
   ],
   "source": [
    "K=np.matrix('1,2,3;4,5,6;7,8,10')\n",
    "np.linalg.inv(K)"
   ]
  },
  {
   "cell_type": "markdown",
   "id": "cc127945",
   "metadata": {},
   "source": [
    "# 1.17. Определитель матрицы"
   ]
  },
  {
   "cell_type": "code",
   "execution_count": 40,
   "id": "e433562b",
   "metadata": {},
   "outputs": [
    {
     "data": {
      "text/plain": [
       "-2.9999999999999982"
      ]
     },
     "execution_count": 40,
     "metadata": {},
     "output_type": "execute_result"
    }
   ],
   "source": [
    "K=np.matrix('1,2,3;4,5,6;7,8,10')\n",
    "np.linalg.det(K)"
   ]
  },
  {
   "cell_type": "code",
   "execution_count": 43,
   "id": "700bce46",
   "metadata": {},
   "outputs": [
    {
     "data": {
      "text/plain": [
       "7.999999999999998"
      ]
     },
     "execution_count": 43,
     "metadata": {},
     "output_type": "execute_result"
    }
   ],
   "source": [
    "diagonal=np.diag([2,1,4])\n",
    "np.linalg.det(diagonal)"
   ]
  },
  {
   "cell_type": "code",
   "execution_count": 45,
   "id": "cc3c4625",
   "metadata": {},
   "outputs": [
    {
     "data": {
      "text/plain": [
       "0.12500000000000003"
      ]
     },
     "execution_count": 45,
     "metadata": {},
     "output_type": "execute_result"
    }
   ],
   "source": [
    "np.linalg.det(np.linalg.inv(diagonal))"
   ]
  },
  {
   "cell_type": "markdown",
   "id": "73072117",
   "metadata": {},
   "source": [
    "# 1.19. Линейная (не)зависимость ч.2"
   ]
  },
  {
   "cell_type": "code",
   "execution_count": null,
   "id": "38b3bda5",
   "metadata": {},
   "outputs": [],
   "source": []
  }
 ],
 "metadata": {
  "kernelspec": {
   "display_name": "Python 3",
   "language": "python",
   "name": "python3"
  },
  "language_info": {
   "codemirror_mode": {
    "name": "ipython",
    "version": 3
   },
   "file_extension": ".py",
   "mimetype": "text/x-python",
   "name": "python",
   "nbconvert_exporter": "python",
   "pygments_lexer": "ipython3",
   "version": "3.8.8"
  }
 },
 "nbformat": 4,
 "nbformat_minor": 5
}
