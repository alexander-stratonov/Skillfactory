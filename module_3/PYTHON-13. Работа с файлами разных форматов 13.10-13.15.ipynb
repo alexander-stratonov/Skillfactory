{
 "cells": [
  {
   "cell_type": "code",
   "execution_count": 1,
   "id": "1192ee19",
   "metadata": {},
   "outputs": [
    {
     "data": {
      "text/plain": [
       "<Element 'menu' at 0x0000015CCDE7CEF0>"
      ]
     },
     "execution_count": 1,
     "metadata": {},
     "output_type": "execute_result"
    }
   ],
   "source": [
    "import xml.etree.ElementTree as ET    \n",
    "tree = ET.parse('C:/Users/user/Documents/GitHub/Skillfactory_Alexander_Stratonov/module_3/data/menu.xml')    \n",
    "root = tree.getroot()  \n",
    "root"
   ]
  },
  {
   "cell_type": "code",
   "execution_count": 2,
   "id": "4125c43e",
   "metadata": {},
   "outputs": [
    {
     "data": {
      "text/plain": [
       "<Element 'dish' at 0x0000015CCDEC1680>"
      ]
     },
     "execution_count": 2,
     "metadata": {},
     "output_type": "execute_result"
    }
   ],
   "source": [
    "root[0]  "
   ]
  },
  {
   "cell_type": "code",
   "execution_count": 3,
   "id": "df4a6f4b",
   "metadata": {},
   "outputs": [
    {
     "name": "stdout",
     "output_type": "stream",
     "text": [
      "<Element 'dish' at 0x0000015CCDEC1680>\n",
      "<Element 'dish' at 0x0000015CCDED6220>\n"
     ]
    }
   ],
   "source": [
    "for child in root: \n",
    "               print(child)"
   ]
  },
  {
   "cell_type": "code",
   "execution_count": 4,
   "id": "2d69e829",
   "metadata": {},
   "outputs": [
    {
     "data": {
      "text/plain": [
       "<Element 'price' at 0x0000015CCDEC4900>"
      ]
     },
     "execution_count": 4,
     "metadata": {},
     "output_type": "execute_result"
    }
   ],
   "source": [
    "root[0][0]  "
   ]
  },
  {
   "cell_type": "code",
   "execution_count": 5,
   "id": "5b879d99",
   "metadata": {},
   "outputs": [
    {
     "data": {
      "text/plain": [
       "'40'"
      ]
     },
     "execution_count": 5,
     "metadata": {},
     "output_type": "execute_result"
    }
   ],
   "source": [
    "root[0][0].text"
   ]
  },
  {
   "cell_type": "code",
   "execution_count": 6,
   "id": "40a0ca1a",
   "metadata": {},
   "outputs": [
    {
     "data": {
      "text/plain": [
       "<Element 'weight' at 0x0000015CCDEC49A0>"
      ]
     },
     "execution_count": 6,
     "metadata": {},
     "output_type": "execute_result"
    }
   ],
   "source": [
    "root[0][1]"
   ]
  },
  {
   "cell_type": "code",
   "execution_count": 7,
   "id": "adb7f4c3",
   "metadata": {},
   "outputs": [
    {
     "name": "stdout",
     "output_type": "stream",
     "text": [
      "Кура price 40\n",
      "Кура weight 300\n",
      "Кура class Мясо\n",
      "\n",
      "Греча price 20\n",
      "Греча weight 200\n",
      "Греча class Крупа\n",
      "\n"
     ]
    }
   ],
   "source": [
    "for elem in root:  \n",
    "    for subelem in elem:  \n",
    "        print(elem.attrib['name'], subelem.tag, subelem.text)  \n",
    "    print() "
   ]
  },
  {
   "cell_type": "code",
   "execution_count": 11,
   "id": "5c8118cd",
   "metadata": {},
   "outputs": [
    {
     "data": {
      "text/html": [
       "<div>\n",
       "<style scoped>\n",
       "    .dataframe tbody tr th:only-of-type {\n",
       "        vertical-align: middle;\n",
       "    }\n",
       "\n",
       "    .dataframe tbody tr th {\n",
       "        vertical-align: top;\n",
       "    }\n",
       "\n",
       "    .dataframe thead th {\n",
       "        text-align: right;\n",
       "    }\n",
       "</style>\n",
       "<table border=\"1\" class=\"dataframe\">\n",
       "  <thead>\n",
       "    <tr style=\"text-align: right;\">\n",
       "      <th></th>\n",
       "      <th>name</th>\n",
       "      <th>price</th>\n",
       "      <th>weight</th>\n",
       "      <th>class</th>\n",
       "    </tr>\n",
       "  </thead>\n",
       "  <tbody>\n",
       "    <tr>\n",
       "      <th>0</th>\n",
       "      <td>Кура</td>\n",
       "      <td>40</td>\n",
       "      <td>300</td>\n",
       "      <td>Мясо</td>\n",
       "    </tr>\n",
       "    <tr>\n",
       "      <th>1</th>\n",
       "      <td>Греча</td>\n",
       "      <td>20</td>\n",
       "      <td>200</td>\n",
       "      <td>Крупа</td>\n",
       "    </tr>\n",
       "  </tbody>\n",
       "</table>\n",
       "</div>"
      ],
      "text/plain": [
       "    name price weight  class\n",
       "0   Кура    40    300   Мясо\n",
       "1  Греча    20    200  Крупа"
      ]
     },
     "execution_count": 11,
     "metadata": {},
     "output_type": "execute_result"
    }
   ],
   "source": [
    "import pandas as pd\n",
    "\n",
    "df_index = ['name', 'price', 'weight', 'class']  \n",
    "df = pd.DataFrame(columns=df_index)  \n",
    "  \n",
    "for elem in root:  \n",
    "    elements = [elem.get('name'), elem[0].text, elem[1].text, elem[2].text]  \n",
    "    df = df.append(pd.Series(elements, index=df_index), ignore_index=True) \n",
    "\n",
    "df"
   ]
  },
  {
   "cell_type": "code",
   "execution_count": 12,
   "id": "54ddc7b2",
   "metadata": {},
   "outputs": [
    {
     "data": {
      "text/plain": [
       "OrderedDict([('dish',\n",
       "              [OrderedDict([('price', 40),\n",
       "                            ('weight', 300),\n",
       "                            ('class', 'Мясо')]),\n",
       "               OrderedDict([('price', 20),\n",
       "                            ('weight', 200),\n",
       "                            ('class', 'Крупа')])])])"
      ]
     },
     "execution_count": 12,
     "metadata": {},
     "output_type": "execute_result"
    }
   ],
   "source": [
    "import xmljson  \n",
    "xmljson.parker.data(root)  "
   ]
  },
  {
   "cell_type": "code",
   "execution_count": 13,
   "id": "624fcd25",
   "metadata": {},
   "outputs": [
    {
     "data": {
      "text/plain": [
       "OrderedDict([('menu',\n",
       "              OrderedDict([('dish',\n",
       "                            [OrderedDict([('name', 'Кура'),\n",
       "                                          ('price', OrderedDict([('$t', 40)])),\n",
       "                                          ('weight',\n",
       "                                           OrderedDict([('$t', 300)])),\n",
       "                                          ('class',\n",
       "                                           OrderedDict([('$t', 'Мясо')]))]),\n",
       "                             OrderedDict([('name', 'Греча'),\n",
       "                                          ('price', OrderedDict([('$t', 20)])),\n",
       "                                          ('weight',\n",
       "                                           OrderedDict([('$t', 200)])),\n",
       "                                          ('class',\n",
       "                                           OrderedDict([('$t',\n",
       "                                                         'Крупа')]))])])]))])"
      ]
     },
     "execution_count": 13,
     "metadata": {},
     "output_type": "execute_result"
    }
   ],
   "source": [
    "xmljson.gdata.data(root)  "
   ]
  },
  {
   "cell_type": "code",
   "execution_count": 14,
   "id": "938c7c72",
   "metadata": {},
   "outputs": [],
   "source": [
    "parker_json = xmljson.parker.data(root)  \n",
    "back_to_xml = xmljson.parker.etree(parker_json) "
   ]
  },
  {
   "cell_type": "code",
   "execution_count": 18,
   "id": "e141d6cc",
   "metadata": {},
   "outputs": [
    {
     "name": "stderr",
     "output_type": "stream",
     "text": [
      "<ipython-input-18-8a5c6c44e834>:4: DeprecationWarning: This method will be removed in future versions.  Use 'list(elem)' or iteration over elem instead.\n",
      "  new_root.getchildren()\n"
     ]
    }
   ],
   "source": [
    "new_root = ET.Element('C:/Users/user/Documents/GitHub/Skillfactory_Alexander_Stratonov/module_3/data/menu')  \n",
    "dish_1 = ET.SubElement(new_root, 'dish')  \n",
    "dish_2 = ET.SubElement(new_root, 'dish')  \n",
    "new_root.getchildren() \n",
    "dish_1.set('name', 'Кура')  \n",
    "dish_1.text = 'Белок'\n",
    "new_root_string = ET.tostring(new_root)  \n",
    "with open(\"C:/Users/user/Documents/GitHub/Skillfactory_Alexander_Stratonov/module_3/data/new_menu.xml\", \"wb\") as f:  \n",
    "    f.write(new_root_string)\n",
    "ET.ElementTree(new_root).write('C:/Users/user/Documents/GitHub/Skillfactory_Alexander_Stratonov/module_3/data/new_menu_good.xml', encoding=\"utf-8\")  "
   ]
  },
  {
   "cell_type": "code",
   "execution_count": null,
   "id": "249a3863",
   "metadata": {},
   "outputs": [],
   "source": []
  }
 ],
 "metadata": {
  "kernelspec": {
   "display_name": "Python 3",
   "language": "python",
   "name": "python3"
  },
  "language_info": {
   "codemirror_mode": {
    "name": "ipython",
    "version": 3
   },
   "file_extension": ".py",
   "mimetype": "text/x-python",
   "name": "python",
   "nbconvert_exporter": "python",
   "pygments_lexer": "ipython3",
   "version": "3.8.8"
  }
 },
 "nbformat": 4,
 "nbformat_minor": 5
}
