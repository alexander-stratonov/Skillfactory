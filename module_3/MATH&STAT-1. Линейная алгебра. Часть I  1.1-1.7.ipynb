{
 "cells": [
  {
   "cell_type": "markdown",
   "id": "7695bd7d",
   "metadata": {},
   "source": [
    "# 1.2. Векторы. Основные понятия"
   ]
  },
  {
   "cell_type": "code",
   "execution_count": 1,
   "id": "64f8ad2f",
   "metadata": {},
   "outputs": [
    {
     "data": {
      "text/plain": [
       "array([33, 65, 50, 45])"
      ]
     },
     "execution_count": 1,
     "metadata": {},
     "output_type": "execute_result"
    }
   ],
   "source": [
    "import numpy as np\n",
    "s= np.array([33,65,50,45])\n",
    "s"
   ]
  },
  {
   "cell_type": "code",
   "execution_count": 2,
   "id": "5e9b3c6b",
   "metadata": {},
   "outputs": [
    {
     "data": {
      "text/plain": [
       "50"
      ]
     },
     "execution_count": 2,
     "metadata": {},
     "output_type": "execute_result"
    }
   ],
   "source": [
    "s[2]"
   ]
  },
  {
   "cell_type": "code",
   "execution_count": 3,
   "id": "8c9517e8",
   "metadata": {},
   "outputs": [
    {
     "data": {
      "text/plain": [
       "4"
      ]
     },
     "execution_count": 3,
     "metadata": {},
     "output_type": "execute_result"
    }
   ],
   "source": [
    "len(s)"
   ]
  },
  {
   "cell_type": "code",
   "execution_count": 4,
   "id": "155f0b08",
   "metadata": {},
   "outputs": [
    {
     "data": {
      "text/plain": [
       "array([0.52773109])"
      ]
     },
     "execution_count": 4,
     "metadata": {},
     "output_type": "execute_result"
    }
   ],
   "source": [
    "apartment = np.array([59.50, 31.40, 19, 22, 60550, 2], dtype=float)\n",
    "share_living_space = apartment[1]/apartment[0]\n",
    "apartment = np.delete(apartment, [0, 1])\n",
    "apartment = np.append(apartment, share_living_space)\n",
    "apartment[-1:]"
   ]
  },
  {
   "cell_type": "code",
   "execution_count": 5,
   "id": "9a463686",
   "metadata": {},
   "outputs": [
    {
     "data": {
      "text/plain": [
       "5"
      ]
     },
     "execution_count": 5,
     "metadata": {},
     "output_type": "execute_result"
    }
   ],
   "source": [
    "len(apartment)"
   ]
  },
  {
   "cell_type": "markdown",
   "id": "f428b767",
   "metadata": {},
   "source": [
    "# 1.3. Базовые операции над векторами"
   ]
  },
  {
   "cell_type": "code",
   "execution_count": 6,
   "id": "f07dc345",
   "metadata": {},
   "outputs": [],
   "source": [
    "a= np.array([10,8,5,1])\n",
    "b= np.array([5,15,9,7])"
   ]
  },
  {
   "cell_type": "code",
   "execution_count": 7,
   "id": "fd360ce3",
   "metadata": {},
   "outputs": [
    {
     "data": {
      "text/plain": [
       "array([15, 23, 14,  8])"
      ]
     },
     "execution_count": 7,
     "metadata": {},
     "output_type": "execute_result"
    }
   ],
   "source": [
    "a+b"
   ]
  },
  {
   "cell_type": "code",
   "execution_count": 8,
   "id": "05d9582d",
   "metadata": {},
   "outputs": [
    {
     "data": {
      "text/plain": [
       "array([ 5, -7, -4, -6])"
      ]
     },
     "execution_count": 8,
     "metadata": {},
     "output_type": "execute_result"
    }
   ],
   "source": [
    "a-b"
   ]
  },
  {
   "cell_type": "code",
   "execution_count": 9,
   "id": "15072bfc",
   "metadata": {},
   "outputs": [
    {
     "data": {
      "text/plain": [
       "array([24. ,  9. , 13.6])"
      ]
     },
     "execution_count": 9,
     "metadata": {},
     "output_type": "execute_result"
    }
   ],
   "source": [
    "o= np.array([120,45,68])\n",
    "omega = 0.2\n",
    "o*omega"
   ]
  },
  {
   "cell_type": "code",
   "execution_count": 10,
   "id": "711c38ce",
   "metadata": {},
   "outputs": [
    {
     "data": {
      "text/plain": [
       "array([144., 216., 180.])"
      ]
     },
     "execution_count": 10,
     "metadata": {},
     "output_type": "execute_result"
    }
   ],
   "source": [
    "a1=np.array([120,150,90])\n",
    "a2=np.array([130,130,130])\n",
    "a3=np.array([2,3,2.5])\n",
    "a3=a3*72\n",
    "a3"
   ]
  },
  {
   "cell_type": "code",
   "execution_count": 11,
   "id": "6977302d",
   "metadata": {},
   "outputs": [
    {
     "data": {
      "text/plain": [
       "array([394., 496., 400.])"
      ]
     },
     "execution_count": 11,
     "metadata": {},
     "output_type": "execute_result"
    }
   ],
   "source": [
    "a1+a2+a3"
   ]
  },
  {
   "cell_type": "markdown",
   "id": "2878739e",
   "metadata": {},
   "source": [
    "# 1.4. Линейная комбинация векторов"
   ]
  },
  {
   "cell_type": "code",
   "execution_count": 12,
   "id": "4f60535a",
   "metadata": {},
   "outputs": [
    {
     "data": {
      "text/plain": [
       "array([1800, 3000, 2700])"
      ]
     },
     "execution_count": 12,
     "metadata": {},
     "output_type": "execute_result"
    }
   ],
   "source": [
    "premium=np.array([2,4,5])\n",
    "vip=np.array([8,10,2])\n",
    "standart=np.array([0,12,7])\n",
    "sum=premium*500+vip*100+standart*0\n",
    "sum"
   ]
  },
  {
   "cell_type": "code",
   "execution_count": 13,
   "id": "076fab8a",
   "metadata": {},
   "outputs": [
    {
     "data": {
      "text/plain": [
       "array([7, 7])"
      ]
     },
     "execution_count": 13,
     "metadata": {},
     "output_type": "execute_result"
    }
   ],
   "source": [
    "s1=np.array([4,5])\n",
    "s2=np.array([2,1])\n",
    "s3=np.array([1,0])\n",
    "s4=s1*2+s2*-3+s3*5\n",
    "s4"
   ]
  },
  {
   "cell_type": "code",
   "execution_count": 14,
   "id": "696d5849",
   "metadata": {},
   "outputs": [
    {
     "data": {
      "text/plain": [
       "array([-200, 1200,  200,  600])"
      ]
     },
     "execution_count": 14,
     "metadata": {},
     "output_type": "execute_result"
    }
   ],
   "source": [
    "w1=np.array([3,4,5,9])\n",
    "w2=np.array([1,5,3,6])\n",
    "w3=w2*400-w1*200\n",
    "w3"
   ]
  },
  {
   "cell_type": "markdown",
   "id": "dcb74642",
   "metadata": {},
   "source": [
    "# 1.5. Скалярное произведение векторов"
   ]
  },
  {
   "cell_type": "code",
   "execution_count": 15,
   "id": "a53432bb",
   "metadata": {},
   "outputs": [
    {
     "data": {
      "text/plain": [
       "102.0"
      ]
     },
     "execution_count": 15,
     "metadata": {},
     "output_type": "execute_result"
    }
   ],
   "source": [
    "b1=np.array([65,70,120,30])\n",
    "b2=np.array([0.4,0.4,0.2,0.8])\n",
    "np.dot(b1,b2)"
   ]
  },
  {
   "cell_type": "markdown",
   "id": "d0281c91",
   "metadata": {},
   "source": [
    "# 1.6. Векторы. Практическая задача"
   ]
  },
  {
   "cell_type": "code",
   "execution_count": 16,
   "id": "1145644c",
   "metadata": {},
   "outputs": [
    {
     "data": {
      "text/plain": [
       "60.0"
      ]
     },
     "execution_count": 16,
     "metadata": {},
     "output_type": "execute_result"
    }
   ],
   "source": [
    "so=np.array([33, 42, 33, 65])\n",
    "sj=np.array([24, 32, 20, 48])\n",
    "snj=so-sj\n",
    "ap=np.array([40, 48.46, 39, 77])\n",
    "p=50+0.25*40\n",
    "p"
   ]
  },
  {
   "cell_type": "markdown",
   "id": "5b3320a9",
   "metadata": {},
   "source": [
    "# 1.7. --> Практика. Векторы"
   ]
  },
  {
   "cell_type": "code",
   "execution_count": 40,
   "id": "34e20660",
   "metadata": {},
   "outputs": [],
   "source": [
    "import pandas as pd\n",
    "Hut_Paradise_DF = pd.DataFrame({'1.Rent': [65, 70, 120, 35, 40, 50, 100, 90, 85], \n",
    "                                '2.Area': [50, 52, 80, 33, 33, 44, 80, 65, 65], \n",
    "                                '3.Rooms':[3, 2, 1, 1, 1, 2, 4, 3, 2],\n",
    "                                '4.Floor':[5, 12, 10, 3, 6, 13, 8, 21, 5], \n",
    "                                '5.Demo two weeks':[8, 4, 5, 10, 20, 12, 5, 1, 10], \n",
    "                                '6.Liv.Area': [37, 40, 65, 20, 16, 35, 60, 50, 40]})"
   ]
  },
  {
   "cell_type": "code",
   "execution_count": 41,
   "id": "ed64ec58",
   "metadata": {},
   "outputs": [
    {
     "data": {
      "text/plain": [
       "array([[ 65,  50,   3,   5,   8,  37],\n",
       "       [ 70,  52,   2,  12,   4,  40],\n",
       "       [120,  80,   1,  10,   5,  65],\n",
       "       [ 35,  33,   1,   3,  10,  20],\n",
       "       [ 40,  33,   1,   6,  20,  16],\n",
       "       [ 50,  44,   2,  13,  12,  35],\n",
       "       [100,  80,   4,   8,   5,  60],\n",
       "       [ 90,  65,   3,  21,   1,  50],\n",
       "       [ 85,  65,   2,   5,  10,  40]], dtype=int64)"
      ]
     },
     "execution_count": 41,
     "metadata": {},
     "output_type": "execute_result"
    }
   ],
   "source": [
    "Hut_Paradise_DF = Hut_Paradise_DF.values\n",
    "Hut_Paradise_DF"
   ]
  },
  {
   "cell_type": "code",
   "execution_count": 19,
   "id": "255df3f4",
   "metadata": {},
   "outputs": [
    {
     "data": {
      "text/plain": [
       "array([40, 33,  1,  6, 20, 16], dtype=int64)"
      ]
     },
     "execution_count": 19,
     "metadata": {},
     "output_type": "execute_result"
    }
   ],
   "source": [
    "Hut_Paradise_DF[4]"
   ]
  },
  {
   "cell_type": "code",
   "execution_count": 20,
   "id": "63ebc3d9",
   "metadata": {},
   "outputs": [
    {
     "data": {
      "text/plain": [
       "array([ 5, 12, 10,  3,  6, 13,  8, 21,  5], dtype=int64)"
      ]
     },
     "execution_count": 20,
     "metadata": {},
     "output_type": "execute_result"
    }
   ],
   "source": [
    "Hut_Paradise_DF[:,3]"
   ]
  },
  {
   "cell_type": "code",
   "execution_count": 21,
   "id": "ed35177c",
   "metadata": {},
   "outputs": [
    {
     "data": {
      "text/plain": [
       "10"
      ]
     },
     "execution_count": 21,
     "metadata": {},
     "output_type": "execute_result"
    }
   ],
   "source": [
    "Hut_Paradise_DF[:,3][2]"
   ]
  },
  {
   "cell_type": "code",
   "execution_count": 22,
   "id": "62218ac3",
   "metadata": {},
   "outputs": [
    {
     "data": {
      "text/plain": [
       "9"
      ]
     },
     "execution_count": 22,
     "metadata": {},
     "output_type": "execute_result"
    }
   ],
   "source": [
    "len(Hut_Paradise_DF[:,1])"
   ]
  },
  {
   "cell_type": "code",
   "execution_count": 23,
   "id": "bb2b79bf",
   "metadata": {},
   "outputs": [
    {
     "data": {
      "text/plain": [
       "array([13, 12, 15, 13, 17,  9, 20, 15, 25], dtype=int64)"
      ]
     },
     "execution_count": 23,
     "metadata": {},
     "output_type": "execute_result"
    }
   ],
   "source": [
    "Hut_Paradise_DF[:,1] - Hut_Paradise_DF[:,5]"
   ]
  },
  {
   "cell_type": "code",
   "execution_count": 24,
   "id": "092c830e",
   "metadata": {},
   "outputs": [
    {
     "data": {
      "text/plain": [
       "array([26., 28., 48., 14., 16., 20., 40., 36., 34.])"
      ]
     },
     "execution_count": 24,
     "metadata": {},
     "output_type": "execute_result"
    }
   ],
   "source": [
    "Hut_Paradise_DF[:,0]/10*4"
   ]
  },
  {
   "cell_type": "code",
   "execution_count": 52,
   "id": "b9ae9ae2",
   "metadata": {},
   "outputs": [
    {
     "data": {
      "text/plain": [
       "1348"
      ]
     },
     "execution_count": 52,
     "metadata": {},
     "output_type": "execute_result"
    }
   ],
   "source": [
    "time=np.array([[10], [20], [30], [15], [5], [40], [20], [8], [20]])\n",
    "Hut_Paradise_DF=np.append(Hut_Paradise_DF, time, axis=1)\n",
    "np.dot(Hut_Paradise_DF[:,4],Hut_Paradise_DF[:,-1])"
   ]
  },
  {
   "cell_type": "code",
   "execution_count": 53,
   "id": "75bf182f",
   "metadata": {},
   "outputs": [],
   "source": [
    "u=np.array([3,0,1,1,1])\n",
    "v=np.array([0,1,0,2,-2])\n",
    "w=np.array([1,-4,-1,0,-2])"
   ]
  },
  {
   "cell_type": "code",
   "execution_count": 54,
   "id": "ae9d51bc",
   "metadata": {},
   "outputs": [
    {
     "data": {
      "text/plain": [
       "0"
      ]
     },
     "execution_count": 54,
     "metadata": {},
     "output_type": "execute_result"
    }
   ],
   "source": [
    "np.dot(u,v)"
   ]
  },
  {
   "cell_type": "code",
   "execution_count": 55,
   "id": "4f799731",
   "metadata": {},
   "outputs": [
    {
     "data": {
      "text/plain": [
       "0"
      ]
     },
     "execution_count": 55,
     "metadata": {},
     "output_type": "execute_result"
    }
   ],
   "source": [
    "np.dot(u,w)"
   ]
  },
  {
   "cell_type": "code",
   "execution_count": 56,
   "id": "6cf86ed2",
   "metadata": {},
   "outputs": [
    {
     "data": {
      "text/plain": [
       "0"
      ]
     },
     "execution_count": 56,
     "metadata": {},
     "output_type": "execute_result"
    }
   ],
   "source": [
    "np.dot(w,v)"
   ]
  },
  {
   "cell_type": "code",
   "execution_count": 58,
   "id": "ab472b5d",
   "metadata": {},
   "outputs": [
    {
     "data": {
      "text/plain": [
       "array([-3, 14,  3,  4,  2])"
      ]
     },
     "execution_count": 58,
     "metadata": {},
     "output_type": "execute_result"
    }
   ],
   "source": [
    "vw=v*2+w*-3\n",
    "vw"
   ]
  },
  {
   "cell_type": "code",
   "execution_count": 59,
   "id": "62950c47",
   "metadata": {},
   "outputs": [
    {
     "data": {
      "text/plain": [
       "0"
      ]
     },
     "execution_count": 59,
     "metadata": {},
     "output_type": "execute_result"
    }
   ],
   "source": [
    "np.dot(u,vw)"
   ]
  },
  {
   "cell_type": "code",
   "execution_count": 75,
   "id": "f92f5b29",
   "metadata": {},
   "outputs": [
    {
     "data": {
      "text/plain": [
       "0.289"
      ]
     },
     "execution_count": 75,
     "metadata": {},
     "output_type": "execute_result"
    }
   ],
   "source": [
    "un=u/np.linalg.norm(u)\n",
    "round(un[2], 3)"
   ]
  },
  {
   "cell_type": "code",
   "execution_count": 76,
   "id": "e59829b7",
   "metadata": {},
   "outputs": [
    {
     "data": {
      "text/plain": [
       "0.667"
      ]
     },
     "execution_count": 76,
     "metadata": {},
     "output_type": "execute_result"
    }
   ],
   "source": [
    "uv=v/np.linalg.norm(v)\n",
    "round(uv[3], 3)"
   ]
  },
  {
   "cell_type": "code",
   "execution_count": 77,
   "id": "fa75b3c4",
   "metadata": {},
   "outputs": [
    {
     "data": {
      "text/plain": [
       "0.213"
      ]
     },
     "execution_count": 77,
     "metadata": {},
     "output_type": "execute_result"
    }
   ],
   "source": [
    "uw=w/np.linalg.norm(w)\n",
    "round(uw[0], 3)"
   ]
  }
 ],
 "metadata": {
  "kernelspec": {
   "display_name": "Python 3",
   "language": "python",
   "name": "python3"
  },
  "language_info": {
   "codemirror_mode": {
    "name": "ipython",
    "version": 3
   },
   "file_extension": ".py",
   "mimetype": "text/x-python",
   "name": "python",
   "nbconvert_exporter": "python",
   "pygments_lexer": "ipython3",
   "version": "3.8.8"
  }
 },
 "nbformat": 4,
 "nbformat_minor": 5
}
