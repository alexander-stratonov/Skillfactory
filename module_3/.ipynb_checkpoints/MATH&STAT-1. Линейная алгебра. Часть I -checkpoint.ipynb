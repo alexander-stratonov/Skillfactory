{
 "cells": [
  {
   "cell_type": "markdown",
   "id": "7695bd7d",
   "metadata": {},
   "source": [
    "# 1.2. Векторы. Основные понятия"
   ]
  },
  {
   "cell_type": "code",
   "execution_count": 1,
   "id": "64f8ad2f",
   "metadata": {},
   "outputs": [
    {
     "data": {
      "text/plain": [
       "array([33, 65, 50, 45])"
      ]
     },
     "execution_count": 1,
     "metadata": {},
     "output_type": "execute_result"
    }
   ],
   "source": [
    "import numpy as np\n",
    "s= np.array([33,65,50,45])\n",
    "s"
   ]
  },
  {
   "cell_type": "code",
   "execution_count": 2,
   "id": "5e9b3c6b",
   "metadata": {},
   "outputs": [
    {
     "data": {
      "text/plain": [
       "50"
      ]
     },
     "execution_count": 2,
     "metadata": {},
     "output_type": "execute_result"
    }
   ],
   "source": [
    "s[2]"
   ]
  },
  {
   "cell_type": "code",
   "execution_count": 3,
   "id": "8c9517e8",
   "metadata": {},
   "outputs": [
    {
     "data": {
      "text/plain": [
       "4"
      ]
     },
     "execution_count": 3,
     "metadata": {},
     "output_type": "execute_result"
    }
   ],
   "source": [
    "len(s)"
   ]
  },
  {
   "cell_type": "code",
   "execution_count": 14,
   "id": "155f0b08",
   "metadata": {},
   "outputs": [
    {
     "data": {
      "text/plain": [
       "array([0.52773109])"
      ]
     },
     "execution_count": 14,
     "metadata": {},
     "output_type": "execute_result"
    }
   ],
   "source": [
    "apartment = np.array([59.50, 31.40, 19, 22, 60550, 2], dtype=float)\n",
    "share_living_space = apartment[1]/apartment[0]\n",
    "apartment = np.delete(apartment, [0, 1])\n",
    "apartment = np.append(apartment, share_living_space)\n",
    "apartment[-1:]"
   ]
  },
  {
   "cell_type": "code",
   "execution_count": 15,
   "id": "9a463686",
   "metadata": {},
   "outputs": [
    {
     "data": {
      "text/plain": [
       "5"
      ]
     },
     "execution_count": 15,
     "metadata": {},
     "output_type": "execute_result"
    }
   ],
   "source": [
    "len(apartment)"
   ]
  },
  {
   "cell_type": "markdown",
   "id": "f428b767",
   "metadata": {},
   "source": [
    "# 1.3. Базовые операции над векторами"
   ]
  },
  {
   "cell_type": "code",
   "execution_count": 16,
   "id": "f07dc345",
   "metadata": {},
   "outputs": [],
   "source": [
    "a= np.array([10,8,5,1])\n",
    "b= np.array([5,15,9,7])"
   ]
  },
  {
   "cell_type": "code",
   "execution_count": 17,
   "id": "fd360ce3",
   "metadata": {},
   "outputs": [
    {
     "data": {
      "text/plain": [
       "array([15, 23, 14,  8])"
      ]
     },
     "execution_count": 17,
     "metadata": {},
     "output_type": "execute_result"
    }
   ],
   "source": [
    "a+b"
   ]
  },
  {
   "cell_type": "code",
   "execution_count": 18,
   "id": "05d9582d",
   "metadata": {},
   "outputs": [
    {
     "data": {
      "text/plain": [
       "array([ 5, -7, -4, -6])"
      ]
     },
     "execution_count": 18,
     "metadata": {},
     "output_type": "execute_result"
    }
   ],
   "source": [
    "a-b"
   ]
  },
  {
   "cell_type": "code",
   "execution_count": 19,
   "id": "15072bfc",
   "metadata": {},
   "outputs": [
    {
     "data": {
      "text/plain": [
       "array([24. ,  9. , 13.6])"
      ]
     },
     "execution_count": 19,
     "metadata": {},
     "output_type": "execute_result"
    }
   ],
   "source": [
    "o= np.array([120,45,68])\n",
    "omega = 0.2\n",
    "o*omega"
   ]
  },
  {
   "cell_type": "code",
   "execution_count": 20,
   "id": "711c38ce",
   "metadata": {},
   "outputs": [
    {
     "data": {
      "text/plain": [
       "array([144., 216., 180.])"
      ]
     },
     "execution_count": 20,
     "metadata": {},
     "output_type": "execute_result"
    }
   ],
   "source": [
    "a1=np.array([120,150,90])\n",
    "a2=np.array([130,130,130])\n",
    "a3=np.array([2,3,2.5])\n",
    "a3=a3*72\n",
    "a3"
   ]
  },
  {
   "cell_type": "code",
   "execution_count": 21,
   "id": "6977302d",
   "metadata": {},
   "outputs": [
    {
     "data": {
      "text/plain": [
       "array([394., 496., 400.])"
      ]
     },
     "execution_count": 21,
     "metadata": {},
     "output_type": "execute_result"
    }
   ],
   "source": [
    "a1+a2+a3"
   ]
  },
  {
   "cell_type": "markdown",
   "id": "2878739e",
   "metadata": {},
   "source": [
    "# 1.4. Линейная комбинация векторов"
   ]
  },
  {
   "cell_type": "code",
   "execution_count": 22,
   "id": "4f60535a",
   "metadata": {},
   "outputs": [
    {
     "data": {
      "text/plain": [
       "array([1800, 3000, 2700])"
      ]
     },
     "execution_count": 22,
     "metadata": {},
     "output_type": "execute_result"
    }
   ],
   "source": [
    "premium=np.array([2,4,5])\n",
    "vip=np.array([8,10,2])\n",
    "standart=np.array([0,12,7])\n",
    "sum=premium*500+vip*100+standart*0\n",
    "sum"
   ]
  },
  {
   "cell_type": "code",
   "execution_count": 23,
   "id": "076fab8a",
   "metadata": {},
   "outputs": [
    {
     "data": {
      "text/plain": [
       "array([7, 7])"
      ]
     },
     "execution_count": 23,
     "metadata": {},
     "output_type": "execute_result"
    }
   ],
   "source": [
    "s1=np.array([4,5])\n",
    "s2=np.array([2,1])\n",
    "s3=np.array([1,0])\n",
    "s4=s1*2+s2*-3+s3*5\n",
    "s4"
   ]
  },
  {
   "cell_type": "code",
   "execution_count": 24,
   "id": "696d5849",
   "metadata": {},
   "outputs": [
    {
     "data": {
      "text/plain": [
       "array([-200, 1200,  200,  600])"
      ]
     },
     "execution_count": 24,
     "metadata": {},
     "output_type": "execute_result"
    }
   ],
   "source": [
    "w1=np.array([3,4,5,9])\n",
    "w2=np.array([1,5,3,6])\n",
    "w3=w2*400-w1*200\n",
    "w3"
   ]
  },
  {
   "cell_type": "markdown",
   "id": "dcb74642",
   "metadata": {},
   "source": [
    "# 1.5. Скалярное произведение векторов"
   ]
  },
  {
   "cell_type": "code",
   "execution_count": 27,
   "id": "a53432bb",
   "metadata": {},
   "outputs": [
    {
     "data": {
      "text/plain": [
       "102.0"
      ]
     },
     "execution_count": 27,
     "metadata": {},
     "output_type": "execute_result"
    }
   ],
   "source": [
    "b1=np.array([65,70,120,30])\n",
    "b2=np.array([0.4,0.4,0.2,0.8])\n",
    "np.dot(b1,b2)"
   ]
  },
  {
   "cell_type": "markdown",
   "id": "d0281c91",
   "metadata": {},
   "source": [
    "# 1.6. Векторы. Практическая задача"
   ]
  },
  {
   "cell_type": "code",
   "execution_count": null,
   "id": "1145644c",
   "metadata": {},
   "outputs": [],
   "source": []
  }
 ],
 "metadata": {
  "kernelspec": {
   "display_name": "Python 3",
   "language": "python",
   "name": "python3"
  },
  "language_info": {
   "codemirror_mode": {
    "name": "ipython",
    "version": 3
   },
   "file_extension": ".py",
   "mimetype": "text/x-python",
   "name": "python",
   "nbconvert_exporter": "python",
   "pygments_lexer": "ipython3",
   "version": "3.8.8"
  }
 },
 "nbformat": 4,
 "nbformat_minor": 5
}
