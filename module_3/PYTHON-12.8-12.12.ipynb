{
 "cells": [
  {
   "cell_type": "code",
   "execution_count": 1,
   "id": "a1a23faf",
   "metadata": {},
   "outputs": [],
   "source": [
    "import pandas as pd\n",
    "from IPython.display import display\n",
    "import numpy as np"
   ]
  },
  {
   "cell_type": "markdown",
   "id": "d62d4cd1",
   "metadata": {},
   "source": [
    "# 12.8 Повторение merge/groupby"
   ]
  },
  {
   "cell_type": "code",
   "execution_count": 2,
   "id": "8fffed14",
   "metadata": {},
   "outputs": [
    {
     "data": {
      "text/html": [
       "<div>\n",
       "<style scoped>\n",
       "    .dataframe tbody tr th:only-of-type {\n",
       "        vertical-align: middle;\n",
       "    }\n",
       "\n",
       "    .dataframe tbody tr th {\n",
       "        vertical-align: top;\n",
       "    }\n",
       "\n",
       "    .dataframe thead th {\n",
       "        text-align: right;\n",
       "    }\n",
       "</style>\n",
       "<table border=\"1\" class=\"dataframe\">\n",
       "  <thead>\n",
       "    <tr style=\"text-align: right;\">\n",
       "      <th></th>\n",
       "      <th>user_id</th>\n",
       "      <th>mail</th>\n",
       "      <th>city</th>\n",
       "      <th>time</th>\n",
       "      <th>bet</th>\n",
       "      <th>win</th>\n",
       "      <th>net</th>\n",
       "    </tr>\n",
       "  </thead>\n",
       "  <tbody>\n",
       "    <tr>\n",
       "      <th>0</th>\n",
       "      <td>user_943</td>\n",
       "      <td>Accumanst@gmail.com</td>\n",
       "      <td>Ижевск</td>\n",
       "      <td>2019-01-06 21:06:57</td>\n",
       "      <td>0.0</td>\n",
       "      <td>0.0</td>\n",
       "      <td>0.0</td>\n",
       "    </tr>\n",
       "    <tr>\n",
       "      <th>1</th>\n",
       "      <td>user_943</td>\n",
       "      <td>Accumanst@gmail.com</td>\n",
       "      <td>Ижевск</td>\n",
       "      <td>2019-01-10 12:16:22</td>\n",
       "      <td>100.0</td>\n",
       "      <td>0.0</td>\n",
       "      <td>-100.0</td>\n",
       "    </tr>\n",
       "    <tr>\n",
       "      <th>2</th>\n",
       "      <td>user_943</td>\n",
       "      <td>Accumanst@gmail.com</td>\n",
       "      <td>Ижевск</td>\n",
       "      <td>2019-01-27 01:18:47</td>\n",
       "      <td>100.0</td>\n",
       "      <td>0.0</td>\n",
       "      <td>-100.0</td>\n",
       "    </tr>\n",
       "    <tr>\n",
       "      <th>3</th>\n",
       "      <td>user_943</td>\n",
       "      <td>Accumanst@gmail.com</td>\n",
       "      <td>Ижевск</td>\n",
       "      <td>2019-02-10 11:09:24</td>\n",
       "      <td>100.0</td>\n",
       "      <td>5456.0</td>\n",
       "      <td>5356.0</td>\n",
       "    </tr>\n",
       "    <tr>\n",
       "      <th>4</th>\n",
       "      <td>user_943</td>\n",
       "      <td>Accumanst@gmail.com</td>\n",
       "      <td>Ижевск</td>\n",
       "      <td>2019-02-12 15:09:38</td>\n",
       "      <td>300.0</td>\n",
       "      <td>5245.0</td>\n",
       "      <td>4945.0</td>\n",
       "    </tr>\n",
       "  </tbody>\n",
       "</table>\n",
       "</div>"
      ],
      "text/plain": [
       "    user_id                 mail    city                time    bet     win  \\\n",
       "0  user_943  Accumanst@gmail.com  Ижевск 2019-01-06 21:06:57    0.0     0.0   \n",
       "1  user_943  Accumanst@gmail.com  Ижевск 2019-01-10 12:16:22  100.0     0.0   \n",
       "2  user_943  Accumanst@gmail.com  Ижевск 2019-01-27 01:18:47  100.0     0.0   \n",
       "3  user_943  Accumanst@gmail.com  Ижевск 2019-02-10 11:09:24  100.0  5456.0   \n",
       "4  user_943  Accumanst@gmail.com  Ижевск 2019-02-12 15:09:38  300.0  5245.0   \n",
       "\n",
       "      net  \n",
       "0     0.0  \n",
       "1  -100.0  \n",
       "2  -100.0  \n",
       "3  5356.0  \n",
       "4  4945.0  "
      ]
     },
     "execution_count": 2,
     "metadata": {},
     "output_type": "execute_result"
    }
   ],
   "source": [
    "#users = pd.read_csv('C:/Users/user/Documents/GitHub/Skillfactory_Alexander_Stratonov/module_3/data/users.csv', sep = '\\t', encoding = 'koi8_r')\n",
    "#log = pd.read_csv('C:/Users/user/Documents/GitHub/Skillfactory_Alexander_Stratonov/module_3/data/log.csv', header = None)\n",
    "users = pd.read_csv('C:/Users/крис/Documents/GitHub/Skillfactory_Alexander_Stratonov/module_3/data/users.csv', sep = '\\t', encoding = 'koi8_r')\n",
    "log = pd.read_csv('C:/Users/крис/Documents/GitHub/Skillfactory_Alexander_Stratonov/module_3/data/log.csv', header = None)\n",
    "log.columns = ['user_id', 'time', 'bet', 'win']\n",
    "users.columns = ['user_id', 'mail', 'city']\n",
    "log[['bet','win']] = log[['bet','win']].fillna(0)\n",
    "\n",
    "log = log.dropna(subset = ['time'])  \n",
    "log['time'] = log['time'].apply(lambda x: x[1:])  \n",
    "log['time'] = pd.to_datetime(log['time']) \n",
    "\n",
    "def fillna_net(row):\n",
    "    if row.win < 0:\n",
    "        return row.win\n",
    "    else:\n",
    "        return row.win - row.bet\n",
    "\n",
    "new_net = log.apply(lambda row: fillna_net(row), axis=1)  \n",
    "log['net'] = new_net\n",
    "users.user_id = users.user_id.apply(lambda x: x.lower())\n",
    "log = log[log.user_id != '#error']\n",
    "log.user_id = log.user_id.str.split(' - ').apply(lambda x: x[1])\n",
    "log_and_users = pd.merge(users, log, on='user_id')\n",
    "log_and_users.head()"
   ]
  },
  {
   "cell_type": "code",
   "execution_count": 3,
   "id": "c9d23ff6",
   "metadata": {},
   "outputs": [
    {
     "data": {
      "text/plain": [
       "5951.75"
      ]
     },
     "execution_count": 3,
     "metadata": {},
     "output_type": "execute_result"
    }
   ],
   "source": [
    "log_and_users[log_and_users.win > 0].groupby('user_id').win.median().median()"
   ]
  },
  {
   "cell_type": "markdown",
   "id": "ab92e370",
   "metadata": {},
   "source": [
    "# 12.9 Анализ по пользователям"
   ]
  },
  {
   "cell_type": "code",
   "execution_count": 4,
   "id": "da177058",
   "metadata": {},
   "outputs": [
    {
     "data": {
      "text/plain": [
       "1986.0"
      ]
     },
     "execution_count": 4,
     "metadata": {},
     "output_type": "execute_result"
    }
   ],
   "source": [
    "log_and_users.groupby('user_id').net.sum().median()"
   ]
  },
  {
   "cell_type": "code",
   "execution_count": 5,
   "id": "3c63f21c",
   "metadata": {},
   "outputs": [
    {
     "data": {
      "text/plain": [
       "5.05"
      ]
     },
     "execution_count": 5,
     "metadata": {},
     "output_type": "execute_result"
    }
   ],
   "source": [
    "log_and_users[log_and_users.bet==0].groupby('user_id').bet.value_counts().sum() / len(log_and_users.groupby('user_id'))"
   ]
  },
  {
   "cell_type": "code",
   "execution_count": 12,
   "id": "84f175c8",
   "metadata": {},
   "outputs": [
    {
     "data": {
      "text/plain": [
       "user_id\n",
       "user_1000   2019-01-21 19:31:34\n",
       "user_900    2019-01-01 04:37:25\n",
       "user_901    2019-01-07 08:45:59\n",
       "user_902    2019-01-28 03:12:06\n",
       "user_903    2019-01-01 16:31:16\n",
       "                    ...        \n",
       "user_995    2019-01-07 09:56:20\n",
       "user_996    2019-03-03 11:43:38\n",
       "user_997    2019-01-05 20:55:29\n",
       "user_998    2019-01-03 02:48:25\n",
       "user_999    2019-01-07 10:07:52\n",
       "Name: time, Length: 100, dtype: datetime64[ns]"
      ]
     },
     "execution_count": 12,
     "metadata": {},
     "output_type": "execute_result"
    }
   ],
   "source": [
    "log_and_users[log_and_users.bet==0].groupby('user_id').time.min().head()"
   ]
  },
  {
   "cell_type": "code",
   "execution_count": 13,
   "id": "d83b30f7",
   "metadata": {},
   "outputs": [
    {
     "data": {
      "text/plain": [
       "user_id\n",
       "user_1000   2019-01-28 20:57:37\n",
       "user_900    2019-02-08 10:36:47\n",
       "user_901    2019-03-14 13:51:20\n",
       "user_902    2019-03-09 16:52:11\n",
       "user_903    2019-02-08 11:06:00\n",
       "                    ...        \n",
       "user_995    2019-02-26 15:29:25\n",
       "user_996    2019-01-10 07:32:17\n",
       "user_997    2019-03-05 11:05:39\n",
       "user_998    2019-01-25 08:57:20\n",
       "user_999    2019-03-15 22:50:47\n",
       "Name: time, Length: 100, dtype: datetime64[ns]"
      ]
     },
     "execution_count": 13,
     "metadata": {},
     "output_type": "execute_result"
    }
   ],
   "source": [
    "log_and_users[log_and_users.bet>0].groupby('user_id').time.min().head()"
   ]
  },
  {
   "cell_type": "code",
   "execution_count": 16,
   "id": "84db5cd7",
   "metadata": {},
   "outputs": [
    {
     "data": {
      "text/plain": [
       "Timedelta('46 days 06:54:48')"
      ]
     },
     "execution_count": 16,
     "metadata": {},
     "output_type": "execute_result"
    }
   ],
   "source": [
    "a=log_and_users[log_and_users.bet>0].groupby('user_id').time.min() - log_and_users[log_and_users.bet==0].groupby('user_id').time.min()\n",
    "a.mean()"
   ]
  },
  {
   "cell_type": "markdown",
   "id": "0bb2eaca",
   "metadata": {},
   "source": [
    "# 12.10 Анализ по городам"
   ]
  },
  {
   "cell_type": "code",
   "execution_count": 7,
   "id": "806fd3c0",
   "metadata": {},
   "outputs": [
    {
     "data": {
      "text/plain": [
       "city\n",
       "Москва     11959741.0\n",
       "Воронеж      184338.0\n",
       "Name: win, dtype: float64"
      ]
     },
     "execution_count": 7,
     "metadata": {},
     "output_type": "execute_result"
    }
   ],
   "source": [
    "log_and_users.groupby('city').win.sum().sort_values(ascending=False).head(2)"
   ]
  },
  {
   "cell_type": "code",
   "execution_count": 8,
   "id": "3b70ebac",
   "metadata": {},
   "outputs": [
    {
     "data": {
      "text/plain": [
       "127.81602335164835"
      ]
     },
     "execution_count": 8,
     "metadata": {},
     "output_type": "execute_result"
    }
   ],
   "source": [
    "log_and_users[log_and_users.bet > 0].groupby('city').bet.mean().max()/log_and_users[log_and_users.bet > 0].groupby('city').bet.mean().min()"
   ]
  },
  {
   "cell_type": "code",
   "execution_count": 9,
   "id": "32e99302",
   "metadata": {},
   "outputs": [
    {
     "data": {
      "text/plain": [
       "city\n",
       "Арзангелтск         96\n",
       "Воронеж             88\n",
       "Екатеринбург        49\n",
       "Ижевск              61\n",
       "Казань              66\n",
       "Краснодар           86\n",
       "Красноярск          56\n",
       "Москва              61\n",
       "Пермь               55\n",
       "Санкт-Петербург    115\n",
       "Ставрополь          36\n",
       "Тюмень              32\n",
       "Хабаровск           60\n",
       "Ярославль           89\n",
       "Name: user_id, dtype: int64"
      ]
     },
     "execution_count": 9,
     "metadata": {},
     "output_type": "execute_result"
    }
   ],
   "source": [
    "sample2 = log_and_users.groupby('city').user_id.count()\n",
    "sample2"
   ]
  },
  {
   "cell_type": "markdown",
   "id": "fb667407",
   "metadata": {},
   "source": [
    "### НЕ ПРИНИМАЕТ КОД\n",
    "users = pd.read_csv('users.csv', sep = '\\t', encoding = 'koi8_r')\n",
    "log = pd.read_csv('log.csv', header = None)\n",
    "log.columns = ['user_id', 'time', 'bet', 'win']\n",
    "users.columns = ['user_id', 'mail', 'city']\n",
    "log = log[log.user_id != '#error']\n",
    "log.user_id = log.user_id.str.split(' - ').apply(lambda x: x[1])\n",
    "log_and_users = pd.merge(users, log, on='user_id')\n",
    "sample2 = log_and_users.groupby('city').user_id.count()"
   ]
  }
 ],
 "metadata": {
  "kernelspec": {
   "display_name": "Python 3",
   "language": "python",
   "name": "python3"
  },
  "language_info": {
   "codemirror_mode": {
    "name": "ipython",
    "version": 3
   },
   "file_extension": ".py",
   "mimetype": "text/x-python",
   "name": "python",
   "nbconvert_exporter": "python",
   "pygments_lexer": "ipython3",
   "version": "3.8.8"
  }
 },
 "nbformat": 4,
 "nbformat_minor": 5
}
