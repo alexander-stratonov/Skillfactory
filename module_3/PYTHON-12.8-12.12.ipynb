{
 "cells": [
  {
   "cell_type": "code",
   "execution_count": 1,
   "id": "a1a23faf",
   "metadata": {},
   "outputs": [],
   "source": [
    "import pandas as pd\n",
    "from IPython.display import display\n",
    "import numpy as np"
   ]
  },
  {
   "cell_type": "code",
   "execution_count": null,
   "id": "8fffed14",
   "metadata": {},
   "outputs": [],
   "source": [
    "#users = pd.read_csv('C:/Users/user/Documents/GitHub/Skillfactory_Alexander_Stratonov/module_3/data/users.csv')\n",
    "#log = pd.read_csv('C:/Users/user/Documents/GitHub/Skillfactory_Alexander_Stratonov/module_3/data/log.csv', header = None)\n",
    "users = pd.read_csv('C:/Users/крис/Documents/GitHub/Skillfactory_Alexander_Stratonov/module_3/data/users.csv')\n",
    "log = pd.read_csv('C:/Users/крис/Documents/GitHub/Skillfactory_Alexander_Stratonov/module_3/data/log.csv', header = None)\n",
    "log.columns = ['user_id', 'time', 'bet', 'win']"
   ]
  }
 ],
 "metadata": {
  "kernelspec": {
   "display_name": "Python 3",
   "language": "python",
   "name": "python3"
  },
  "language_info": {
   "codemirror_mode": {
    "name": "ipython",
    "version": 3
   },
   "file_extension": ".py",
   "mimetype": "text/x-python",
   "name": "python",
   "nbconvert_exporter": "python",
   "pygments_lexer": "ipython3",
   "version": "3.8.8"
  }
 },
 "nbformat": 4,
 "nbformat_minor": 5
}
