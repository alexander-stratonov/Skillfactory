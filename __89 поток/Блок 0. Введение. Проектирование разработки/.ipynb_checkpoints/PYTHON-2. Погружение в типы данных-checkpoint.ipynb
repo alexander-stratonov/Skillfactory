{
 "cells": [
  {
   "cell_type": "code",
   "execution_count": 1,
   "id": "c30a3922",
   "metadata": {},
   "outputs": [
    {
     "name": "stdout",
     "output_type": "stream",
     "text": [
      "[]\n"
     ]
    }
   ],
   "source": [
    "empty_list = []\n",
    "print(empty_list)"
   ]
  },
  {
   "cell_type": "code",
   "execution_count": 12,
   "id": "8dd58b7b",
   "metadata": {},
   "outputs": [
    {
     "data": {
      "text/plain": [
       "[1, 2]"
      ]
     },
     "execution_count": 12,
     "metadata": {},
     "output_type": "execute_result"
    }
   ],
   "source": [
    "a = list(range(1,11))\n",
    "a_slice = a[:2]\n",
    "a_slice"
   ]
  },
  {
   "cell_type": "code",
   "execution_count": 14,
   "id": "384120c1",
   "metadata": {},
   "outputs": [
    {
     "data": {
      "text/plain": [
       "[-1, 0, 1, 2, 3]"
      ]
     },
     "execution_count": 14,
     "metadata": {},
     "output_type": "execute_result"
    }
   ],
   "source": [
    "a = list(range(-5,5))\n",
    "a_slice = a[4:9]\n",
    "a_slice"
   ]
  },
  {
   "cell_type": "code",
   "execution_count": 17,
   "id": "386cfdde",
   "metadata": {},
   "outputs": [
    {
     "data": {
      "text/plain": [
       "[6, 5, 4, 3, 2, 1, 0, -1, -2, -3]"
      ]
     },
     "execution_count": 17,
     "metadata": {},
     "output_type": "execute_result"
    }
   ],
   "source": [
    "a = list(range(-3,7))\n",
    "a_slice = a[::-1]\n",
    "a_slice"
   ]
  },
  {
   "cell_type": "code",
   "execution_count": 21,
   "id": "51a81e12",
   "metadata": {},
   "outputs": [
    {
     "data": {
      "text/plain": [
       "['hello', 'kitty']"
      ]
     },
     "execution_count": 21,
     "metadata": {},
     "output_type": "execute_result"
    }
   ],
   "source": [
    "a1='hello kitty'\n",
    "a2=a1.split()\n",
    "a2[:2]"
   ]
  },
  {
   "cell_type": "code",
   "execution_count": 22,
   "id": "d465760c",
   "metadata": {},
   "outputs": [
    {
     "name": "stdout",
     "output_type": "stream",
     "text": [
      "['order1', 'order2', 'order3']\n"
     ]
    }
   ],
   "source": [
    "a = 'order1'\n",
    "b = 'order2'\n",
    "c = 'order3'\n",
    "orders = []\n",
    "orders.append(a)\n",
    "orders.append(b)\n",
    "orders.append(c)\n",
    "print(orders)"
   ]
  },
  {
   "cell_type": "code",
   "execution_count": 23,
   "id": "158d70c0",
   "metadata": {},
   "outputs": [
    {
     "data": {
      "text/plain": [
       "['book1', 'book2', 'book3', 'book4', 'book5']"
      ]
     },
     "execution_count": 23,
     "metadata": {},
     "output_type": "execute_result"
    }
   ],
   "source": [
    "my_books = ['book1', 'book2', 'book3', 'book4', 'book5']\n",
    "tom_books = my_books[:]\n",
    "my_books\n",
    "tom_books"
   ]
  },
  {
   "cell_type": "code",
   "execution_count": 38,
   "id": "7e30d7ae",
   "metadata": {},
   "outputs": [
    {
     "data": {
      "text/plain": [
       "[10, 9, 8, 7, 6, 5, 4, 3, 2, 1]"
      ]
     },
     "execution_count": 38,
     "metadata": {},
     "output_type": "execute_result"
    }
   ],
   "source": [
    "a = list(range(1,11))\n",
    "a[::-1]"
   ]
  },
  {
   "cell_type": "code",
   "execution_count": 41,
   "id": "80bdb650",
   "metadata": {},
   "outputs": [
    {
     "data": {
      "text/plain": [
       "[-5, -1, 0, 2, 3, 5, 10, 15]"
      ]
     },
     "execution_count": 41,
     "metadata": {},
     "output_type": "execute_result"
    }
   ],
   "source": [
    "random_values = [3, 5, 0, -1, 2, 10, 15, -5]\n",
    "random_values.sort()\n",
    "random_values"
   ]
  },
  {
   "cell_type": "code",
   "execution_count": 2,
   "id": "14e81ff6",
   "metadata": {},
   "outputs": [
    {
     "data": {
      "text/plain": [
       "{1: 100, 2: 50, 3: 10, 4: 5}"
      ]
     },
     "execution_count": 2,
     "metadata": {},
     "output_type": "execute_result"
    }
   ],
   "source": [
    "place_and_money = {1: 100, 2: 50, 3: 10}\n",
    "place_and_money[4] = 5\n",
    "place_and_money"
   ]
  },
  {
   "cell_type": "code",
   "execution_count": 3,
   "id": "1dddd1d1",
   "metadata": {},
   "outputs": [
    {
     "data": {
      "text/plain": [
       "{1: 100, 2: 50, 3: 25}"
      ]
     },
     "execution_count": 3,
     "metadata": {},
     "output_type": "execute_result"
    }
   ],
   "source": [
    "place_and_money = {1: 100, 2: 50, 3: 10} \n",
    "place_and_money[3] = 25\n",
    "place_and_money"
   ]
  },
  {
   "cell_type": "code",
   "execution_count": 4,
   "id": "361ceee6",
   "metadata": {},
   "outputs": [
    {
     "data": {
      "text/plain": [
       "dict_keys([1, 2, 3])"
      ]
     },
     "execution_count": 4,
     "metadata": {},
     "output_type": "execute_result"
    }
   ],
   "source": [
    "place_and_money = {1: 100, 2: 50, 3: 10}\n",
    "place_and_money.keys()"
   ]
  },
  {
   "cell_type": "code",
   "execution_count": 5,
   "id": "7e3f6595",
   "metadata": {},
   "outputs": [
    {
     "data": {
      "text/plain": [
       "dict_keys(['Anne', 'Anton', 'Phillip'])"
      ]
     },
     "execution_count": 5,
     "metadata": {},
     "output_type": "execute_result"
    }
   ],
   "source": [
    "name_to_age = {'Anne': 22, 'Anton': 27, 'Phillip': 30}\n",
    "name_to_age.keys()"
   ]
  },
  {
   "cell_type": "code",
   "execution_count": 6,
   "id": "843633eb",
   "metadata": {},
   "outputs": [
    {
     "data": {
      "text/plain": [
       "dict_values([22, 27, 30])"
      ]
     },
     "execution_count": 6,
     "metadata": {},
     "output_type": "execute_result"
    }
   ],
   "source": [
    "name_to_age = {'Anne': 22, 'Anton': 27, 'Phillip': 30}\n",
    "name_to_age.values()"
   ]
  },
  {
   "cell_type": "code",
   "execution_count": 7,
   "id": "8f900f42",
   "metadata": {},
   "outputs": [
    {
     "data": {
      "text/plain": [
       "0"
      ]
     },
     "execution_count": 7,
     "metadata": {},
     "output_type": "execute_result"
    }
   ],
   "source": [
    "place_and_money = {1: 100, 2: 50, 3: 10}\n",
    "place_and_money.get(20, 0)"
   ]
  },
  {
   "cell_type": "code",
   "execution_count": 9,
   "id": "6ca21f83",
   "metadata": {},
   "outputs": [
    {
     "data": {
      "text/plain": [
       "{1: 100, 2: 50, 3: 10, 4: 5, 5: 1}"
      ]
     },
     "execution_count": 9,
     "metadata": {},
     "output_type": "execute_result"
    }
   ],
   "source": [
    "place_and_money = {1: 100, 2: 50, 3: 10}\n",
    "place_and_money.update({4:5,5:1})\n",
    "place_and_money"
   ]
  },
  {
   "cell_type": "code",
   "execution_count": null,
   "id": "88da9455",
   "metadata": {},
   "outputs": [],
   "source": []
  }
 ],
 "metadata": {
  "kernelspec": {
   "display_name": "Python 3",
   "language": "python",
   "name": "python3"
  },
  "language_info": {
   "codemirror_mode": {
    "name": "ipython",
    "version": 3
   },
   "file_extension": ".py",
   "mimetype": "text/x-python",
   "name": "python",
   "nbconvert_exporter": "python",
   "pygments_lexer": "ipython3",
   "version": "3.8.8"
  }
 },
 "nbformat": 4,
 "nbformat_minor": 5
}
