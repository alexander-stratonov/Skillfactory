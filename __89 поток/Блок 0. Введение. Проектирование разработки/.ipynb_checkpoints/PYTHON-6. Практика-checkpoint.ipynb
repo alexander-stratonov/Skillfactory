{
 "cells": [
  {
   "cell_type": "markdown",
   "id": "d143e6c7",
   "metadata": {},
   "source": [
    "### 1. Основы Python"
   ]
  },
  {
   "cell_type": "code",
   "execution_count": 1,
   "id": "58d1a1f2",
   "metadata": {},
   "outputs": [
    {
     "data": {
      "text/plain": [
       "238328"
      ]
     },
     "execution_count": 1,
     "metadata": {},
     "output_type": "execute_result"
    }
   ],
   "source": [
    "python_string = 'Hello! My name is Python. I will help you to analyze some data'\n",
    "len(python_string)**3"
   ]
  },
  {
   "cell_type": "code",
   "execution_count": 2,
   "id": "adf1f4b0",
   "metadata": {},
   "outputs": [
    {
     "data": {
      "text/plain": [
       "'Python'"
      ]
     },
     "execution_count": 2,
     "metadata": {},
     "output_type": "execute_result"
    }
   ],
   "source": [
    "python_string[18:24]"
   ]
  },
  {
   "cell_type": "code",
   "execution_count": 5,
   "id": "e39c7742",
   "metadata": {},
   "outputs": [
    {
     "data": {
      "text/plain": [
       "13"
      ]
     },
     "execution_count": 5,
     "metadata": {},
     "output_type": "execute_result"
    }
   ],
   "source": [
    "python_string.replace(\"!\", \"\\n \")\n",
    "python_string.replace(\".\", \"\\n \")\n",
    "len(python_string.split())"
   ]
  },
  {
   "cell_type": "code",
   "execution_count": 6,
   "id": "64b36740",
   "metadata": {},
   "outputs": [
    {
     "name": "stdout",
     "output_type": "stream",
     "text": [
      "User Lena changed password to qwerty\n"
     ]
    }
   ],
   "source": [
    "def change_password(user_name, new_password):\n",
    "    return \"User {} changed password to {}\".format(user_name,new_password)\n",
    "\n",
    "print(change_password(\"Lena\", \"qwerty\"))"
   ]
  },
  {
   "cell_type": "markdown",
   "id": "db701c8d",
   "metadata": {},
   "source": [
    "### 2. Погружение в типы данных"
   ]
  },
  {
   "cell_type": "code",
   "execution_count": 7,
   "id": "8f315be4",
   "metadata": {},
   "outputs": [
    {
     "name": "stdout",
     "output_type": "stream",
     "text": [
      "['57th', 'a', 'and', 'are', 'arrakis', 'as', 'balances', 'be', 'begin', 'beginning', 'bene', 'born', 'by', 'caladan', 'care', 'correct', 'deceived', 'delicate', 'do', 'dune', 'emperor', 'every', 'fact', 'fifteen', 'first', 'for', 'forever', 'gesserit', 'he', 'him', 'his', 'in', 'is', 'iv', 'known', 'knows', 'life', 'lived', 'locate', 'most', \"muad'dib\", 'not', 'of', 'on', 'padishah', 'place', 'planet', 'shaddam', 'sister', 'special', 'study', 'take', 'taking', 'that', 'the', 'then', 'there', 'this', 'time', 'to', 'was', 'year', 'years', 'you', 'your']\n"
     ]
    }
   ],
   "source": [
    "# Напишите функцию get_unique_words(), которая избавляется от знаков препинаний \n",
    "# и пробелов в тексте и возвращает упорядоченный список \n",
    "# (слова расположены по алфавиту) из уникальных (неповторяющихся) слов.\n",
    "\n",
    "# Можно использовать готовый список со знаками препинания:\n",
    "\n",
    "punctuation_list = ['.', ',', ';', ':', '...', '!', '?', '-', '\"', '(', ')']\n",
    "# Текст, который можно использовать в качестве примера:\n",
    "text_example = \"A beginning is the time for taking the most delicate care that the balances are correct. This every sister of the Bene Gesserit knows. To begin your study of the life of Muad'Dib, then take care that you first place him in his time: born in the 57th year of the Padishah Emperor, Shaddam IV. And take the most special care that you locate Muad'Dib in his place: the planet Arrakis. Do not be deceived by the fact that he was born on Caladan and lived his first fifteen years there. Arrakis, the planet known as Dune, is forever his place.\"\n",
    "\n",
    "def get_unique_words(text):\n",
    "    for x in punctuation_list:\n",
    "        text=text.replace(x,\"\")\n",
    "    text=list(set(text.lower().split()))\n",
    "    text.sort()\n",
    "    return text\n",
    "\n",
    "print(get_unique_words(text_example))"
   ]
  },
  {
   "cell_type": "code",
   "execution_count": 10,
   "id": "e146943e",
   "metadata": {},
   "outputs": [
    {
     "name": "stdout",
     "output_type": "stream",
     "text": [
      "None\n",
      "None\n"
     ]
    }
   ],
   "source": [
    "# Разработайте функцию holes_count(), которая подсчитывает количество отверстий \n",
    "# в заданном числе. Например, в цифре 8 два отверстия, в цифре 9 - одно. \n",
    "# В числе 146 - два отверстия. \n",
    "# Подсказка: используйте словарь для записи количества отверстий в цифрах\n",
    "otverstie =  {\"0\": 1, \"4\": 1, \"6\": 1, \"8\": 2, \"9\": 1}\n",
    "def holes_count(number):\n",
    "    otverstie =  {\"0\": 1, \"4\": 1, \"6\": 1, \"8\": 2, \"9\": 1}\n",
    "    otverstie_count=0\n",
    "    for x in otverstie:\n",
    "        \n",
    "\n",
    "print(holes_count(123))\n",
    "print(holes_count(8888))"
   ]
  },
  {
   "cell_type": "markdown",
   "id": "55f6b368",
   "metadata": {},
   "source": [
    "### 3. Условные операторы"
   ]
  },
  {
   "cell_type": "code",
   "execution_count": 11,
   "id": "a3c029f4",
   "metadata": {},
   "outputs": [
    {
     "name": "stdout",
     "output_type": "stream",
     "text": [
      "3\n"
     ]
    }
   ],
   "source": [
    "# Напишите функция find_min_number(), которая принимает три числа на вход \n",
    "# и возвращает наименьшее из них.\n",
    "\n",
    "# Используйте условия для решения задачи\n",
    "\n",
    "def find_min_number(a, b, c):\n",
    "    if a<b and a<c:\n",
    "        return a\n",
    "    elif b<a and b<c:\n",
    "        return b\n",
    "    else:\n",
    "        return c\n",
    "\n",
    "print(find_min_number(1, 2, 3))"
   ]
  },
  {
   "cell_type": "code",
   "execution_count": 13,
   "id": "f0668417",
   "metadata": {},
   "outputs": [
    {
     "name": "stdout",
     "output_type": "stream",
     "text": [
      "11\n"
     ]
    }
   ],
   "source": [
    "def sum_min_numbers(a, b, c):\n",
    "    if a<b and a<c and b<c:\n",
    "        return a+b\n",
    "    elif a<b and a<c and c<b:\n",
    "        return a+c\n",
    "    else:\n",
    "        return c+b\n",
    "print(sum_min_numbers(3, 1, 10))"
   ]
  },
  {
   "cell_type": "code",
   "execution_count": null,
   "id": "0e070065",
   "metadata": {},
   "outputs": [],
   "source": []
  }
 ],
 "metadata": {
  "kernelspec": {
   "display_name": "Python 3",
   "language": "python",
   "name": "python3"
  },
  "language_info": {
   "codemirror_mode": {
    "name": "ipython",
    "version": 3
   },
   "file_extension": ".py",
   "mimetype": "text/x-python",
   "name": "python",
   "nbconvert_exporter": "python",
   "pygments_lexer": "ipython3",
   "version": "3.8.8"
  }
 },
 "nbformat": 4,
 "nbformat_minor": 5
}
