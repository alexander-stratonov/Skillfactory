{
 "cells": [
  {
   "cell_type": "code",
   "execution_count": 2,
   "id": "324d1817",
   "metadata": {},
   "outputs": [
    {
     "data": {
      "text/plain": [
       "True"
      ]
     },
     "execution_count": 2,
     "metadata": {},
     "output_type": "execute_result"
    }
   ],
   "source": [
    "x = 10\n",
    "y = 100\n",
    "z = (x % 2 == 0) & (y >= 100)\n",
    "z"
   ]
  },
  {
   "cell_type": "code",
   "execution_count": 4,
   "id": "ebc5c684",
   "metadata": {},
   "outputs": [
    {
     "data": {
      "text/plain": [
       "True"
      ]
     },
     "execution_count": 4,
     "metadata": {},
     "output_type": "execute_result"
    }
   ],
   "source": [
    "diagnosis_1 = 'yes'\n",
    "diagnosis_2 = 'no'\n",
    "diagnosis_3 = 'no'\n",
    "result = bool(diagnosis_1 or diagnosis_2 or diagnosis_3)\n",
    "result"
   ]
  },
  {
   "cell_type": "code",
   "execution_count": 6,
   "id": "8e9cd57b",
   "metadata": {},
   "outputs": [],
   "source": [
    "def are_both_odd(A, B):\n",
    "    if A%2==1 and B%2==1:\n",
    "        return True"
   ]
  },
  {
   "cell_type": "code",
   "execution_count": 9,
   "id": "c44b867f",
   "metadata": {},
   "outputs": [
    {
     "name": "stdout",
     "output_type": "stream",
     "text": [
      "weak [1]\n"
     ]
    }
   ],
   "source": [
    "def get_wind_class(speed):  # Объявление функции\n",
    "    if 1<= speed <=4:\n",
    "        return \"weak [1]\"\n",
    "    elif 5<= speed <=10:\n",
    "        return \"moderate [2]\"\n",
    "    elif 11<= speed <=18:\n",
    "        return \"strong [3]\"\n",
    "    elif speed >=19:\n",
    "        return \"hurricane [4]\"\n",
    "print(get_wind_class(3))"
   ]
  },
  {
   "cell_type": "markdown",
   "id": "b94c8299",
   "metadata": {},
   "source": [
    "### 4. Исключения"
   ]
  },
  {
   "cell_type": "code",
   "execution_count": 12,
   "id": "2eba928d",
   "metadata": {},
   "outputs": [
    {
     "name": "stdout",
     "output_type": "stream",
     "text": [
      "Input number:f\n",
      "no no no\n",
      "game over\n"
     ]
    }
   ],
   "source": [
    "try:\n",
    "    x=int(input(\"Input number:\"))\n",
    "except ValueError:\n",
    "    print(\"no no no\")\n",
    "else:\n",
    "    print(f\"nomer {x}!\")\n",
    "finally:\n",
    "    print(\"game over\")"
   ]
  },
  {
   "cell_type": "code",
   "execution_count": null,
   "id": "cbc1aef9",
   "metadata": {},
   "outputs": [],
   "source": []
  }
 ],
 "metadata": {
  "kernelspec": {
   "display_name": "Python 3",
   "language": "python",
   "name": "python3"
  },
  "language_info": {
   "codemirror_mode": {
    "name": "ipython",
    "version": 3
   },
   "file_extension": ".py",
   "mimetype": "text/x-python",
   "name": "python",
   "nbconvert_exporter": "python",
   "pygments_lexer": "ipython3",
   "version": "3.8.8"
  }
 },
 "nbformat": 4,
 "nbformat_minor": 5
}
