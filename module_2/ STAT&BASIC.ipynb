{
 "cells": [
  {
   "cell_type": "code",
   "execution_count": 1,
   "id": "85fc2a18",
   "metadata": {},
   "outputs": [],
   "source": [
    "import pandas as pd\n",
    "\n",
    "df = pd.DataFrame({\n",
    "    'men': [80.2, 80.8, 57.5, 98, 50.5, 73.8, 77.4, 59.7, 77.9, 52.6],\n",
    "    'women': [57.9, 57.3, 72.8, 48.2, 59.5, 48.3, 61.2, 53.9, 53.9, 70.7]\n",
    "})"
   ]
  },
  {
   "cell_type": "code",
   "execution_count": 2,
   "id": "5fc931a8",
   "metadata": {},
   "outputs": [
    {
     "data": {
      "text/plain": [
       "12.5"
      ]
     },
     "execution_count": 2,
     "metadata": {},
     "output_type": "execute_result"
    }
   ],
   "source": [
    "round(df.men.mean() - df.women.mean(),1)"
   ]
  },
  {
   "cell_type": "markdown",
   "id": "5685dc83",
   "metadata": {},
   "source": [
    "## median"
   ]
  },
  {
   "cell_type": "code",
   "execution_count": 38,
   "id": "18e68521",
   "metadata": {},
   "outputs": [
    {
     "data": {
      "text/plain": [
       "3.5"
      ]
     },
     "execution_count": 38,
     "metadata": {},
     "output_type": "execute_result"
    }
   ],
   "source": [
    "import statistics as st\n",
    "a1 = [2, 7, 4, 3, 6, 4, 1, 2]\n",
    "a2 = [5, 2, 4, 8, 1, 6, 7]\n",
    "st.median(a1)"
   ]
  },
  {
   "cell_type": "code",
   "execution_count": 4,
   "id": "da50c4c2",
   "metadata": {},
   "outputs": [
    {
     "data": {
      "text/plain": [
       "1.5"
      ]
     },
     "execution_count": 4,
     "metadata": {},
     "output_type": "execute_result"
    }
   ],
   "source": [
    "st.median(a2) - st.median(a1)"
   ]
  },
  {
   "cell_type": "code",
   "execution_count": 5,
   "id": "7f1051eb",
   "metadata": {},
   "outputs": [
    {
     "data": {
      "text/plain": [
       "men      75.6\n",
       "women    57.6\n",
       "dtype: float64"
      ]
     },
     "execution_count": 5,
     "metadata": {},
     "output_type": "execute_result"
    }
   ],
   "source": [
    "df.median()"
   ]
  },
  {
   "cell_type": "code",
   "execution_count": 6,
   "id": "33c6e340",
   "metadata": {},
   "outputs": [
    {
     "data": {
      "text/plain": [
       "59.6"
      ]
     },
     "execution_count": 6,
     "metadata": {},
     "output_type": "execute_result"
    }
   ],
   "source": [
    "patients = pd.concat([df.men, df.women])\n",
    "patients.median()"
   ]
  },
  {
   "cell_type": "markdown",
   "id": "d6c4605b",
   "metadata": {},
   "source": [
    "## quantile"
   ]
  },
  {
   "cell_type": "code",
   "execution_count": 7,
   "id": "4523b08d",
   "metadata": {},
   "outputs": [
    {
     "data": {
      "text/html": [
       "<div>\n",
       "<style scoped>\n",
       "    .dataframe tbody tr th:only-of-type {\n",
       "        vertical-align: middle;\n",
       "    }\n",
       "\n",
       "    .dataframe tbody tr th {\n",
       "        vertical-align: top;\n",
       "    }\n",
       "\n",
       "    .dataframe thead th {\n",
       "        text-align: right;\n",
       "    }\n",
       "</style>\n",
       "<table border=\"1\" class=\"dataframe\">\n",
       "  <thead>\n",
       "    <tr style=\"text-align: right;\">\n",
       "      <th></th>\n",
       "      <th>0</th>\n",
       "    </tr>\n",
       "  </thead>\n",
       "  <tbody>\n",
       "    <tr>\n",
       "      <th>0.25</th>\n",
       "      <td>2.0</td>\n",
       "    </tr>\n",
       "    <tr>\n",
       "      <th>0.50</th>\n",
       "      <td>3.5</td>\n",
       "    </tr>\n",
       "    <tr>\n",
       "      <th>0.75</th>\n",
       "      <td>4.5</td>\n",
       "    </tr>\n",
       "  </tbody>\n",
       "</table>\n",
       "</div>"
      ],
      "text/plain": [
       "        0\n",
       "0.25  2.0\n",
       "0.50  3.5\n",
       "0.75  4.5"
      ]
     },
     "execution_count": 7,
     "metadata": {},
     "output_type": "execute_result"
    }
   ],
   "source": [
    "import numpy as np\n",
    "a11 = pd.DataFrame(a1)\n",
    "a11.quantile([0.25,0.5,0.75])"
   ]
  },
  {
   "cell_type": "code",
   "execution_count": 8,
   "id": "0f1f4c2d",
   "metadata": {},
   "outputs": [
    {
     "data": {
      "text/html": [
       "<div>\n",
       "<style scoped>\n",
       "    .dataframe tbody tr th:only-of-type {\n",
       "        vertical-align: middle;\n",
       "    }\n",
       "\n",
       "    .dataframe tbody tr th {\n",
       "        vertical-align: top;\n",
       "    }\n",
       "\n",
       "    .dataframe thead th {\n",
       "        text-align: right;\n",
       "    }\n",
       "</style>\n",
       "<table border=\"1\" class=\"dataframe\">\n",
       "  <thead>\n",
       "    <tr style=\"text-align: right;\">\n",
       "      <th></th>\n",
       "      <th>0</th>\n",
       "    </tr>\n",
       "  </thead>\n",
       "  <tbody>\n",
       "    <tr>\n",
       "      <th>0.25</th>\n",
       "      <td>3.0</td>\n",
       "    </tr>\n",
       "    <tr>\n",
       "      <th>0.50</th>\n",
       "      <td>5.0</td>\n",
       "    </tr>\n",
       "    <tr>\n",
       "      <th>0.75</th>\n",
       "      <td>6.5</td>\n",
       "    </tr>\n",
       "  </tbody>\n",
       "</table>\n",
       "</div>"
      ],
      "text/plain": [
       "        0\n",
       "0.25  3.0\n",
       "0.50  5.0\n",
       "0.75  6.5"
      ]
     },
     "execution_count": 8,
     "metadata": {},
     "output_type": "execute_result"
    }
   ],
   "source": [
    "a22 = pd.DataFrame(a2)\n",
    "a22.quantile([0.25,0.5,0.75])"
   ]
  },
  {
   "cell_type": "code",
   "execution_count": 9,
   "id": "8d644215",
   "metadata": {},
   "outputs": [
    {
     "data": {
      "text/plain": [
       "0.25    58.60\n",
       "0.50    75.60\n",
       "0.75    79.05\n",
       "Name: men, dtype: float64"
      ]
     },
     "execution_count": 9,
     "metadata": {},
     "output_type": "execute_result"
    }
   ],
   "source": [
    "df.men.quantile([0.25,0.5,0.75], interpolation='midpoint')"
   ]
  },
  {
   "cell_type": "code",
   "execution_count": 10,
   "id": "1300a401",
   "metadata": {},
   "outputs": [
    {
     "data": {
      "text/plain": [
       "0.25    53.90\n",
       "0.50    57.60\n",
       "0.75    60.35\n",
       "Name: women, dtype: float64"
      ]
     },
     "execution_count": 10,
     "metadata": {},
     "output_type": "execute_result"
    }
   ],
   "source": [
    "df.women.quantile([0.25,0.5,0.75], interpolation='midpoint')"
   ]
  },
  {
   "cell_type": "markdown",
   "id": "8ecd1a6a",
   "metadata": {},
   "source": [
    "## range"
   ]
  },
  {
   "cell_type": "code",
   "execution_count": 11,
   "id": "76e01deb",
   "metadata": {},
   "outputs": [
    {
     "data": {
      "text/plain": [
       "men      47.5\n",
       "women    24.6\n",
       "dtype: float64"
      ]
     },
     "execution_count": 11,
     "metadata": {},
     "output_type": "execute_result"
    }
   ],
   "source": [
    "df.max() - df.min()"
   ]
  },
  {
   "cell_type": "markdown",
   "id": "57c66940",
   "metadata": {},
   "source": [
    "## IQR"
   ]
  },
  {
   "cell_type": "code",
   "execution_count": 12,
   "id": "d3d34230",
   "metadata": {},
   "outputs": [
    {
     "data": {
      "text/plain": [
       "20.5"
      ]
     },
     "execution_count": 12,
     "metadata": {},
     "output_type": "execute_result"
    }
   ],
   "source": [
    "round(df.men.quantile(0.75, interpolation='midpoint') - df.men.quantile(0.25, interpolation='midpoint'), 1)"
   ]
  },
  {
   "cell_type": "code",
   "execution_count": 13,
   "id": "a6645168",
   "metadata": {},
   "outputs": [
    {
     "data": {
      "text/plain": [
       "6.5"
      ]
     },
     "execution_count": 13,
     "metadata": {},
     "output_type": "execute_result"
    }
   ],
   "source": [
    "round(df.women.quantile(0.75, interpolation='midpoint') - df.women.quantile(0.25, interpolation='midpoint'), 1)"
   ]
  },
  {
   "cell_type": "markdown",
   "id": "5680a1a1",
   "metadata": {},
   "source": [
    "## std"
   ]
  },
  {
   "cell_type": "code",
   "execution_count": 14,
   "id": "f6730a3f",
   "metadata": {},
   "outputs": [
    {
     "data": {
      "text/plain": [
       "men      15.2\n",
       "women     8.3\n",
       "dtype: float64"
      ]
     },
     "execution_count": 14,
     "metadata": {},
     "output_type": "execute_result"
    }
   ],
   "source": [
    "round(df.std(), 1)"
   ]
  },
  {
   "cell_type": "markdown",
   "id": "4c1506b9",
   "metadata": {},
   "source": [
    "## dispersia (var)"
   ]
  },
  {
   "cell_type": "code",
   "execution_count": 15,
   "id": "927c3029",
   "metadata": {},
   "outputs": [
    {
     "data": {
      "text/plain": [
       "men      230.5\n",
       "women     68.4\n",
       "dtype: float64"
      ]
     },
     "execution_count": 15,
     "metadata": {},
     "output_type": "execute_result"
    }
   ],
   "source": [
    "round(df.var(), 1)"
   ]
  },
  {
   "cell_type": "markdown",
   "id": "de8e5c80",
   "metadata": {},
   "source": [
    "## ВЫБРОСЫ НИЖНИЕ"
   ]
  },
  {
   "cell_type": "code",
   "execution_count": 16,
   "id": "385d555c",
   "metadata": {},
   "outputs": [
    {
     "data": {
      "text/plain": [
       "27.85"
      ]
     },
     "execution_count": 16,
     "metadata": {},
     "output_type": "execute_result"
    }
   ],
   "source": [
    "(df.men.quantile(0.25, interpolation='midpoint')) - 1.5*(round(df.men.quantile(0.75, interpolation='midpoint') \n",
    "                                                               - df.men.quantile(0.25, interpolation='midpoint'), 1))"
   ]
  },
  {
   "cell_type": "markdown",
   "id": "42c1b71e",
   "metadata": {},
   "source": [
    "## ВЫБРОСЫ ВЕРХНИЕ"
   ]
  },
  {
   "cell_type": "code",
   "execution_count": 17,
   "id": "1e8adbad",
   "metadata": {},
   "outputs": [
    {
     "data": {
      "text/plain": [
       "109.80000000000001"
      ]
     },
     "execution_count": 17,
     "metadata": {},
     "output_type": "execute_result"
    }
   ],
   "source": [
    "(df.men.quantile(0.75, interpolation='midpoint')) + 1.5*(round(df.men.quantile(0.75, interpolation='midpoint') \n",
    "                                                               - df.men.quantile(0.25, interpolation='midpoint'), 1))"
   ]
  },
  {
   "cell_type": "markdown",
   "id": "bd878934",
   "metadata": {},
   "source": [
    "## ВЫБРОСЫ НИЖНИЕ"
   ]
  },
  {
   "cell_type": "code",
   "execution_count": 18,
   "id": "d27f98bf",
   "metadata": {},
   "outputs": [
    {
     "data": {
      "text/plain": [
       "44.15"
      ]
     },
     "execution_count": 18,
     "metadata": {},
     "output_type": "execute_result"
    }
   ],
   "source": [
    "(df.women.quantile(0.25, interpolation='midpoint')) - 1.5*(round(df.women.quantile(0.75, interpolation='midpoint') \n",
    "                                                                 - df.women.quantile(0.25, interpolation='midpoint'), 1))"
   ]
  },
  {
   "cell_type": "markdown",
   "id": "0a829cbf",
   "metadata": {},
   "source": [
    "## ВЫБРОСЫ ВЕРХНИЕ"
   ]
  },
  {
   "cell_type": "code",
   "execution_count": 19,
   "id": "f6a915c9",
   "metadata": {},
   "outputs": [
    {
     "data": {
      "text/plain": [
       "70.1"
      ]
     },
     "execution_count": 19,
     "metadata": {},
     "output_type": "execute_result"
    }
   ],
   "source": [
    "(df.women.quantile(0.75, interpolation='midpoint')) + 1.5*(round(df.women.quantile(0.75, interpolation='midpoint') \n",
    "                                                                 - df.women.quantile(0.25, interpolation='midpoint'), 1))"
   ]
  },
  {
   "cell_type": "markdown",
   "id": "32e10d7d",
   "metadata": {},
   "source": [
    "## test"
   ]
  },
  {
   "cell_type": "code",
   "execution_count": 20,
   "id": "49bcdacd",
   "metadata": {},
   "outputs": [],
   "source": [
    "weather = pd.DataFrame({\n",
    "    'year': [2007, 2008, 2009, 2010, 2011, 2012, 2013, 2014, 2015, 2016, 2017, 2018],\n",
    "    'temp': [-4.7, -6.1, -5.5, -3.3, -7.1, -3.1, -5.2, -7.3, -12.1, -6.6, -5.9, -6.3]\n",
    "})"
   ]
  },
  {
   "cell_type": "code",
   "execution_count": 21,
   "id": "10f2a865",
   "metadata": {},
   "outputs": [
    {
     "data": {
      "text/plain": [
       "-6.1"
      ]
     },
     "execution_count": 21,
     "metadata": {},
     "output_type": "execute_result"
    }
   ],
   "source": [
    "round(weather.temp.mean(), 1)"
   ]
  },
  {
   "cell_type": "code",
   "execution_count": 22,
   "id": "bb58a24e",
   "metadata": {},
   "outputs": [
    {
     "data": {
      "text/plain": [
       "-6.0"
      ]
     },
     "execution_count": 22,
     "metadata": {},
     "output_type": "execute_result"
    }
   ],
   "source": [
    "round(weather.temp.median(), 1)"
   ]
  },
  {
   "cell_type": "code",
   "execution_count": 23,
   "id": "df885ce3",
   "metadata": {
    "scrolled": true
   },
   "outputs": [
    {
     "data": {
      "text/plain": [
       "2.3"
      ]
     },
     "execution_count": 23,
     "metadata": {},
     "output_type": "execute_result"
    }
   ],
   "source": [
    "round(weather.temp.std(), 1)"
   ]
  },
  {
   "cell_type": "code",
   "execution_count": 24,
   "id": "d9a87497",
   "metadata": {},
   "outputs": [
    {
     "data": {
      "text/plain": [
       "9.0"
      ]
     },
     "execution_count": 24,
     "metadata": {},
     "output_type": "execute_result"
    }
   ],
   "source": [
    "weather.temp.max() - weather.temp.min()"
   ]
  },
  {
   "cell_type": "code",
   "execution_count": 25,
   "id": "b5484470",
   "metadata": {},
   "outputs": [
    {
     "data": {
      "text/plain": [
       "1.9"
      ]
     },
     "execution_count": 25,
     "metadata": {},
     "output_type": "execute_result"
    }
   ],
   "source": [
    "round((weather.temp.quantile(0.75, interpolation='midpoint')) - (weather.temp.quantile(0.25, interpolation='midpoint')), 1)"
   ]
  },
  {
   "cell_type": "code",
   "execution_count": 26,
   "id": "a9436a13",
   "metadata": {},
   "outputs": [
    {
     "data": {
      "text/plain": [
       "-9.7"
      ]
     },
     "execution_count": 26,
     "metadata": {},
     "output_type": "execute_result"
    }
   ],
   "source": [
    "(weather.temp.quantile(0.25, interpolation='midpoint')) - 1.5*(round(weather.temp.quantile(0.75, interpolation='midpoint') \n",
    "                                                                 - weather.temp.quantile(0.25, interpolation='midpoint'), 1))"
   ]
  },
  {
   "cell_type": "code",
   "execution_count": 27,
   "id": "3adf8905",
   "metadata": {},
   "outputs": [
    {
     "data": {
      "text/plain": [
       "-2.1000000000000005"
      ]
     },
     "execution_count": 27,
     "metadata": {},
     "output_type": "execute_result"
    }
   ],
   "source": [
    "(weather.temp.quantile(0.75, interpolation='midpoint')) + 1.5*(round(weather.temp.quantile(0.75, interpolation='midpoint') \n",
    "                                                                 - weather.temp.quantile(0.25, interpolation='midpoint'), 1))"
   ]
  },
  {
   "cell_type": "markdown",
   "id": "8d1d26c6",
   "metadata": {},
   "source": [
    "## boxplot "
   ]
  },
  {
   "cell_type": "code",
   "execution_count": null,
   "id": "43a77fa7",
   "metadata": {},
   "outputs": [],
   "source": [
    "mobile = pd.DataFrame({\n",
    "    'city_a': [240, 440, 455, 475, 475, 490, 490, 500, 500, 500, 530, 550, 578, 580, 620, 687, 694, 703, 859],\n",
    "    'city_b': [500, 564, 590, 600, 600, 600, 645, 650, 660, 667, 689, 692, 700, 700, 705, 735, 760, 764, 805]\n",
    "})"
   ]
  },
  {
   "cell_type": "code",
   "execution_count": 36,
   "id": "d669883b",
   "metadata": {},
   "outputs": [
    {
     "data": {
      "image/png": "[encoded data removed]",
      "text/plain": [
       "<Figure size 432x288 with 1 Axes>"
      ]
     },
     "metadata": {
      "needs_background": "light"
     },
     "output_type": "display_data"
    }
   ],
   "source": [
    "boxplot = mobile.boxplot(column=['city_a', 'city_b'],fontsize=15)"
   ]
  },
  {
   "cell_type": "code",
   "execution_count": 42,
   "id": "9368352c",
   "metadata": {},
   "outputs": [],
   "source": [
    "values = pd.DataFrame({\n",
    "  'value': [48, 44, 42.5, 40.5, 40.5, 39, 39, 38, 38, 38, 35, 33, 30.2, 30, 26, 19.3, 27, 21]\n",
    "})\n"
   ]
  },
  {
   "cell_type": "code",
   "execution_count": 44,
   "id": "98955b58",
   "metadata": {},
   "outputs": [
    {
     "data": {
      "image/png": "[encoded data removed]",
      "text/plain": [
       "<Figure size 432x288 with 1 Axes>"
      ]
     },
     "metadata": {
      "needs_background": "light"
     },
     "output_type": "display_data"
    }
   ],
   "source": [
    "boxplot = values.boxplot()"
   ]
  },
  {
   "cell_type": "code",
   "execution_count": 45,
   "id": "fb541efa",
   "metadata": {},
   "outputs": [
    {
     "data": {
      "text/plain": [
       "value    38.0\n",
       "dtype: float64"
      ]
     },
     "execution_count": 45,
     "metadata": {},
     "output_type": "execute_result"
    }
   ],
   "source": [
    " values.median(axis=0)"
   ]
  },
  {
   "cell_type": "code",
   "execution_count": 46,
   "id": "5ffef18b",
   "metadata": {},
   "outputs": [],
   "source": [
    "group = pd.DataFrame({\n",
    "    'group_a': [72, 66, 63.75, 60.75, 60.75, 58.5, 58.5, 57, 57, 57, 52.5, 49.5, 45.3, 45, 39, 28.95, 40.5, 31.5, 49],\n",
    "    'group_b': [71, 72, 60, 50, 57, 77, 81, 58, 62, 61, 73, 74, 76, 65, 66, 67, 67, 67, 69]\n",
    "})"
   ]
  },
  {
   "cell_type": "code",
   "execution_count": 48,
   "id": "f324bc62",
   "metadata": {},
   "outputs": [
    {
     "data": {
      "image/png": "[encoded data removed]",
      "text/plain": [
       "<Figure size 432x288 with 1 Axes>"
      ]
     },
     "metadata": {
      "needs_background": "light"
     },
     "output_type": "display_data"
    }
   ],
   "source": [
    "boxplot = group.boxplot(column=['group_a', 'group_b'],fontsize=15)"
   ]
  },
  {
   "cell_type": "code",
   "execution_count": null,
   "id": "79a93767",
   "metadata": {},
   "outputs": [],
   "source": []
  }
 ],
 "metadata": {
  "kernelspec": {
   "display_name": "Python 3",
   "language": "python",
   "name": "python3"
  },
  "language_info": {
   "codemirror_mode": {
    "name": "ipython",
    "version": 3
   },
   "file_extension": ".py",
   "mimetype": "text/x-python",
   "name": "python",
   "nbconvert_exporter": "python",
   "pygments_lexer": "ipython3",
   "version": "3.8.8"
  }
 },
 "nbformat": 4,
 "nbformat_minor": 5
}
