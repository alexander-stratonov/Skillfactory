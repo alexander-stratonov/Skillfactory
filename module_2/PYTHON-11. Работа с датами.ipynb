{
 "cells": [
  {
   "cell_type": "code",
   "execution_count": 1,
   "id": "21c569f2",
   "metadata": {},
   "outputs": [
    {
     "data": {
      "text/plain": [
       "datetime.date(2021, 10, 27)"
      ]
     },
     "execution_count": 1,
     "metadata": {},
     "output_type": "execute_result"
    }
   ],
   "source": [
    "#https://all-python.ru/osnovy/modul-datetime.html\n",
    "import time\n",
    "import datetime \n",
    "datetime.date.today()"
   ]
  },
  {
   "cell_type": "code",
   "execution_count": 2,
   "id": "b7deffa0",
   "metadata": {},
   "outputs": [
    {
     "data": {
      "text/plain": [
       "'%Y-%m-%dT%H:%M:%S'"
      ]
     },
     "execution_count": 2,
     "metadata": {},
     "output_type": "execute_result"
    }
   ],
   "source": [
    "'%Y-%m-%dT%H:%M:%S'"
   ]
  },
  {
   "cell_type": "code",
   "execution_count": 3,
   "id": "8b9c327d",
   "metadata": {},
   "outputs": [
    {
     "data": {
      "text/plain": [
       "1546203600.0"
      ]
     },
     "execution_count": 3,
     "metadata": {},
     "output_type": "execute_result"
    }
   ],
   "source": [
    "d = datetime.date(2018,12,31)\n",
    "unixtime = time.mktime(d.timetuple())\n",
    "unixtime"
   ]
  },
  {
   "cell_type": "markdown",
   "id": "29bf0716",
   "metadata": {},
   "source": [
    "## Test"
   ]
  },
  {
   "cell_type": "code",
   "execution_count": 4,
   "id": "baa5a1fd",
   "metadata": {},
   "outputs": [
    {
     "data": {
      "text/plain": [
       "1546290000.0"
      ]
     },
     "execution_count": 4,
     "metadata": {},
     "output_type": "execute_result"
    }
   ],
   "source": [
    "a = datetime.date(2019,1,1)\n",
    "a1 = time.mktime(a.timetuple())\n",
    "a1"
   ]
  },
  {
   "cell_type": "code",
   "execution_count": 5,
   "id": "ea12db36",
   "metadata": {},
   "outputs": [
    {
     "data": {
      "text/plain": [
       "2592000.0"
      ]
     },
     "execution_count": 5,
     "metadata": {},
     "output_type": "execute_result"
    }
   ],
   "source": [
    "b = datetime.date(2019,1,31)\n",
    "b1 = time.mktime(b.timetuple())\n",
    "(b1 - a1)"
   ]
  },
  {
   "cell_type": "code",
   "execution_count": 6,
   "id": "1dddc48f",
   "metadata": {},
   "outputs": [
    {
     "data": {
      "text/plain": [
       "86400.0"
      ]
     },
     "execution_count": 6,
     "metadata": {},
     "output_type": "execute_result"
    }
   ],
   "source": [
    "c = datetime.date(2019,1,30)\n",
    "c1 = time.mktime(c.timetuple())\n",
    "(b1 - c1)"
   ]
  },
  {
   "cell_type": "code",
   "execution_count": 7,
   "id": "d4c36e82",
   "metadata": {},
   "outputs": [
    {
     "data": {
      "text/plain": [
       "120.0"
      ]
     },
     "execution_count": 7,
     "metadata": {},
     "output_type": "execute_result"
    }
   ],
   "source": [
    "(7200 / 60)"
   ]
  },
  {
   "cell_type": "code",
   "execution_count": 8,
   "id": "268453c0",
   "metadata": {},
   "outputs": [],
   "source": [
    "from datetime import datetime, timedelta"
   ]
  },
  {
   "cell_type": "code",
   "execution_count": 9,
   "id": "61a9f268",
   "metadata": {},
   "outputs": [
    {
     "data": {
      "text/plain": [
       "datetime.datetime(2019, 5, 5, 21, 0)"
      ]
     },
     "execution_count": 9,
     "metadata": {},
     "output_type": "execute_result"
    }
   ],
   "source": [
    "date_string = '05.05.2019 21:00'\n",
    "dt = datetime.strptime(date_string, '%d.%m.%Y %H:%M')\n",
    "dt"
   ]
  },
  {
   "cell_type": "code",
   "execution_count": 10,
   "id": "59c3c356",
   "metadata": {},
   "outputs": [
    {
     "data": {
      "text/plain": [
       "'2019-05-05'"
      ]
     },
     "execution_count": 10,
     "metadata": {},
     "output_type": "execute_result"
    }
   ],
   "source": [
    "dt1 = datetime(2019, 5, 5, 21, 0)\n",
    "dt1.strftime('%Y-%m-%d')"
   ]
  },
  {
   "cell_type": "code",
   "execution_count": 11,
   "id": "9db7d221",
   "metadata": {},
   "outputs": [
    {
     "data": {
      "text/plain": [
       "'07.07.2019'"
      ]
     },
     "execution_count": 11,
     "metadata": {},
     "output_type": "execute_result"
    }
   ],
   "source": [
    "date_string1 = '2019-07-07T18:59:33'\n",
    "date_format = datetime.strptime(date_string1, '%Y-%m-%dT%H:%M:%S').strftime('%d.%m.%Y')\n",
    "date_format"
   ]
  },
  {
   "cell_type": "code",
   "execution_count": 19,
   "id": "be55ee21",
   "metadata": {},
   "outputs": [
    {
     "data": {
      "text/plain": [
       "[datetime.datetime(2019, 7, 7, 18, 59, 6),\n",
       " datetime.datetime(2019, 7, 7, 19, 0, 2),\n",
       " datetime.datetime(2019, 7, 7, 19, 1, 4)]"
      ]
     },
     "execution_count": 19,
     "metadata": {},
     "output_type": "execute_result"
    }
   ],
   "source": [
    "dt_list = ['2019-07-07T18:59:06', '2019-07-07T19:00:02', '2019-07-07T19:01:04']\n",
    "datetime_list = [datetime.strptime(dt_list[0], '%Y-%m-%dT%H:%M:%S'\n",
    "                                 ),datetime.strptime(dt_list[1], '%Y-%m-%dT%H:%M:%S'\n",
    "                                                    ),datetime.strptime(dt_list[2], '%Y-%m-%dT%H:%M:%S')]\n",
    "datetime_list"
   ]
  },
  {
   "cell_type": "code",
   "execution_count": 28,
   "id": "25b4a9ee",
   "metadata": {},
   "outputs": [
    {
     "data": {
      "text/plain": [
       "(datetime.datetime(2019, 7, 7, 18, 59),\n",
       " datetime.datetime(2019, 7, 7, 19, 0),\n",
       " datetime.datetime(2019, 7, 7, 19, 1))"
      ]
     },
     "execution_count": 28,
     "metadata": {},
     "output_type": "execute_result"
    }
   ],
   "source": [
    "dt_list1 = ['2019-07-07T18:59:00', '2019-07-07T19:00:00', '2019-07-07T19:01:00']\n",
    "datetime_list1 = datetime.strptime(dt_list1[0], '%Y-%m-%dT%H:%M:%S'\n",
    "                                 ),datetime.strptime(dt_list1[1], '%Y-%m-%dT%H:%M:%S'\n",
    "                                                    ),datetime.strptime(dt_list1[2], '%Y-%m-%dT%H:%M:%S')\n",
    "datetime_list1"
   ]
  },
  {
   "cell_type": "code",
   "execution_count": 29,
   "id": "f5b58aed",
   "metadata": {},
   "outputs": [
    {
     "data": {
      "text/plain": [
       "[datetime.timedelta(seconds=6),\n",
       " datetime.timedelta(seconds=2),\n",
       " datetime.timedelta(seconds=4)]"
      ]
     },
     "execution_count": 29,
     "metadata": {},
     "output_type": "execute_result"
    }
   ],
   "source": [
    "t = [datetime_list[0] - datetime_list1[0], datetime_list[1] - datetime_list1[1], datetime_list[2] - datetime_list1[2]]\n",
    "t"
   ]
  },
  {
   "cell_type": "code",
   "execution_count": null,
   "id": "660a1b89",
   "metadata": {},
   "outputs": [],
   "source": []
  }
 ],
 "metadata": {
  "kernelspec": {
   "display_name": "Python 3",
   "language": "python",
   "name": "python3"
  },
  "language_info": {
   "codemirror_mode": {
    "name": "ipython",
    "version": 3
   },
   "file_extension": ".py",
   "mimetype": "text/x-python",
   "name": "python",
   "nbconvert_exporter": "python",
   "pygments_lexer": "ipython3",
   "version": "3.8.8"
  }
 },
 "nbformat": 4,
 "nbformat_minor": 5
}
