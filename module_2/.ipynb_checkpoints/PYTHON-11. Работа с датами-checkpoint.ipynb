{
 "cells": [
  {
   "cell_type": "code",
   "execution_count": 1,
   "id": "21c569f2",
   "metadata": {},
   "outputs": [
    {
     "data": {
      "text/plain": [
       "datetime.date(2021, 10, 26)"
      ]
     },
     "execution_count": 1,
     "metadata": {},
     "output_type": "execute_result"
    }
   ],
   "source": [
    "#https://all-python.ru/osnovy/modul-datetime.html\n",
    "import time\n",
    "from datetime import datetime, timedelta\n",
    "datetime.date.today()"
   ]
  },
  {
   "cell_type": "code",
   "execution_count": 2,
   "id": "b7deffa0",
   "metadata": {},
   "outputs": [
    {
     "data": {
      "text/plain": [
       "'%Y-%m-%dT%H:%M:%S'"
      ]
     },
     "execution_count": 2,
     "metadata": {},
     "output_type": "execute_result"
    }
   ],
   "source": [
    "'%Y-%m-%dT%H:%M:%S'"
   ]
  },
  {
   "cell_type": "code",
   "execution_count": 3,
   "id": "8b9c327d",
   "metadata": {},
   "outputs": [
    {
     "data": {
      "text/plain": [
       "1546203600.0"
      ]
     },
     "execution_count": 3,
     "metadata": {},
     "output_type": "execute_result"
    }
   ],
   "source": [
    "d = datetime.date(2018,12,31)\n",
    "unixtime = time.mktime(d.timetuple())\n",
    "unixtime"
   ]
  },
  {
   "cell_type": "markdown",
   "id": "29bf0716",
   "metadata": {},
   "source": [
    "## Test"
   ]
  },
  {
   "cell_type": "code",
   "execution_count": 8,
   "id": "baa5a1fd",
   "metadata": {},
   "outputs": [
    {
     "data": {
      "text/plain": [
       "1546290000.0"
      ]
     },
     "execution_count": 8,
     "metadata": {},
     "output_type": "execute_result"
    }
   ],
   "source": [
    "a = datetime.date(2019,1,1)\n",
    "a1 = time.mktime(a.timetuple())\n",
    "a1"
   ]
  },
  {
   "cell_type": "code",
   "execution_count": 9,
   "id": "ea12db36",
   "metadata": {},
   "outputs": [
    {
     "data": {
      "text/plain": [
       "2592000.0"
      ]
     },
     "execution_count": 9,
     "metadata": {},
     "output_type": "execute_result"
    }
   ],
   "source": [
    "b = datetime.date(2019,1,31)\n",
    "b1 = time.mktime(b.timetuple())\n",
    "(b1 - a1)"
   ]
  },
  {
   "cell_type": "code",
   "execution_count": 11,
   "id": "1dddc48f",
   "metadata": {},
   "outputs": [
    {
     "data": {
      "text/plain": [
       "86400.0"
      ]
     },
     "execution_count": 11,
     "metadata": {},
     "output_type": "execute_result"
    }
   ],
   "source": [
    "c = datetime.date(2019,1,30)\n",
    "c1 = time.mktime(c.timetuple())\n",
    "(b1 - c1)"
   ]
  },
  {
   "cell_type": "code",
   "execution_count": 12,
   "id": "d4c36e82",
   "metadata": {},
   "outputs": [
    {
     "data": {
      "text/plain": [
       "120.0"
      ]
     },
     "execution_count": 12,
     "metadata": {},
     "output_type": "execute_result"
    }
   ],
   "source": [
    "(7200 / 60)"
   ]
  },
  {
   "cell_type": "code",
   "execution_count": null,
   "id": "268453c0",
   "metadata": {},
   "outputs": [],
   "source": []
  }
 ],
 "metadata": {
  "kernelspec": {
   "display_name": "Python 3",
   "language": "python",
   "name": "python3"
  },
  "language_info": {
   "codemirror_mode": {
    "name": "ipython",
    "version": 3
   },
   "file_extension": ".py",
   "mimetype": "text/x-python",
   "name": "python",
   "nbconvert_exporter": "python",
   "pygments_lexer": "ipython3",
   "version": "3.8.8"
  }
 },
 "nbformat": 4,
 "nbformat_minor": 5
}
