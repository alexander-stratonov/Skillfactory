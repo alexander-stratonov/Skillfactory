{
 "cells": [
  {
   "cell_type": "markdown",
   "id": "2a995a5d",
   "metadata": {},
   "source": [
    "# 2.3. Практика"
   ]
  },
  {
   "cell_type": "code",
   "execution_count": 1,
   "id": "eed9ba62",
   "metadata": {},
   "outputs": [
    {
     "data": {
      "text/html": [
       "<div>\n",
       "<style scoped>\n",
       "    .dataframe tbody tr th:only-of-type {\n",
       "        vertical-align: middle;\n",
       "    }\n",
       "\n",
       "    .dataframe tbody tr th {\n",
       "        vertical-align: top;\n",
       "    }\n",
       "\n",
       "    .dataframe thead th {\n",
       "        text-align: right;\n",
       "    }\n",
       "</style>\n",
       "<table border=\"1\" class=\"dataframe\">\n",
       "  <thead>\n",
       "    <tr style=\"text-align: right;\">\n",
       "      <th></th>\n",
       "      <th>id</th>\n",
       "      <th>full_sq</th>\n",
       "      <th>life_sq</th>\n",
       "      <th>floor</th>\n",
       "      <th>sub_area</th>\n",
       "      <th>preschool_quota</th>\n",
       "      <th>preschool_education_centers_raion</th>\n",
       "      <th>school_quota</th>\n",
       "      <th>school_education_centers_raion</th>\n",
       "      <th>school_education_centers_top_20_raion</th>\n",
       "      <th>...</th>\n",
       "      <th>shopping_centers_km</th>\n",
       "      <th>office_km</th>\n",
       "      <th>additional_education_km</th>\n",
       "      <th>preschool_km</th>\n",
       "      <th>big_church_km</th>\n",
       "      <th>church_synagogue_km</th>\n",
       "      <th>theater_km</th>\n",
       "      <th>museum_km</th>\n",
       "      <th>ecology</th>\n",
       "      <th>price_doc</th>\n",
       "    </tr>\n",
       "  </thead>\n",
       "  <tbody>\n",
       "    <tr>\n",
       "      <th>0</th>\n",
       "      <td>1</td>\n",
       "      <td>43</td>\n",
       "      <td>27.0</td>\n",
       "      <td>4.0</td>\n",
       "      <td>Bibirevo</td>\n",
       "      <td>5001.0</td>\n",
       "      <td>5</td>\n",
       "      <td>11065.0</td>\n",
       "      <td>5</td>\n",
       "      <td>0</td>\n",
       "      <td>...</td>\n",
       "      <td>0.648488</td>\n",
       "      <td>0.637189</td>\n",
       "      <td>0.947962</td>\n",
       "      <td>0.177975</td>\n",
       "      <td>0.625783</td>\n",
       "      <td>0.628187</td>\n",
       "      <td>14.053047</td>\n",
       "      <td>7.389498</td>\n",
       "      <td>good</td>\n",
       "      <td>5850000</td>\n",
       "    </tr>\n",
       "    <tr>\n",
       "      <th>1</th>\n",
       "      <td>2</td>\n",
       "      <td>34</td>\n",
       "      <td>19.0</td>\n",
       "      <td>3.0</td>\n",
       "      <td>Nagatinskij Zaton</td>\n",
       "      <td>3119.0</td>\n",
       "      <td>5</td>\n",
       "      <td>6237.0</td>\n",
       "      <td>8</td>\n",
       "      <td>0</td>\n",
       "      <td>...</td>\n",
       "      <td>0.519311</td>\n",
       "      <td>0.688796</td>\n",
       "      <td>1.072315</td>\n",
       "      <td>0.273345</td>\n",
       "      <td>0.967821</td>\n",
       "      <td>0.471447</td>\n",
       "      <td>6.829889</td>\n",
       "      <td>0.709260</td>\n",
       "      <td>excellent</td>\n",
       "      <td>6000000</td>\n",
       "    </tr>\n",
       "    <tr>\n",
       "      <th>2</th>\n",
       "      <td>3</td>\n",
       "      <td>43</td>\n",
       "      <td>29.0</td>\n",
       "      <td>2.0</td>\n",
       "      <td>Tekstil'shhiki</td>\n",
       "      <td>1463.0</td>\n",
       "      <td>4</td>\n",
       "      <td>5580.0</td>\n",
       "      <td>7</td>\n",
       "      <td>0</td>\n",
       "      <td>...</td>\n",
       "      <td>1.486533</td>\n",
       "      <td>1.543049</td>\n",
       "      <td>0.391957</td>\n",
       "      <td>0.158072</td>\n",
       "      <td>3.178751</td>\n",
       "      <td>0.755946</td>\n",
       "      <td>4.273200</td>\n",
       "      <td>3.156423</td>\n",
       "      <td>poor</td>\n",
       "      <td>5700000</td>\n",
       "    </tr>\n",
       "    <tr>\n",
       "      <th>3</th>\n",
       "      <td>4</td>\n",
       "      <td>89</td>\n",
       "      <td>50.0</td>\n",
       "      <td>9.0</td>\n",
       "      <td>Mitino</td>\n",
       "      <td>6839.0</td>\n",
       "      <td>9</td>\n",
       "      <td>17063.0</td>\n",
       "      <td>10</td>\n",
       "      <td>0</td>\n",
       "      <td>...</td>\n",
       "      <td>0.599914</td>\n",
       "      <td>0.934273</td>\n",
       "      <td>0.892674</td>\n",
       "      <td>0.236455</td>\n",
       "      <td>1.031777</td>\n",
       "      <td>1.561505</td>\n",
       "      <td>16.990677</td>\n",
       "      <td>16.041521</td>\n",
       "      <td>good</td>\n",
       "      <td>13100000</td>\n",
       "    </tr>\n",
       "    <tr>\n",
       "      <th>4</th>\n",
       "      <td>5</td>\n",
       "      <td>77</td>\n",
       "      <td>77.0</td>\n",
       "      <td>4.0</td>\n",
       "      <td>Basmannoe</td>\n",
       "      <td>3240.0</td>\n",
       "      <td>7</td>\n",
       "      <td>7770.0</td>\n",
       "      <td>9</td>\n",
       "      <td>0</td>\n",
       "      <td>...</td>\n",
       "      <td>0.429052</td>\n",
       "      <td>0.077901</td>\n",
       "      <td>0.810801</td>\n",
       "      <td>0.376838</td>\n",
       "      <td>0.378756</td>\n",
       "      <td>0.121681</td>\n",
       "      <td>1.112486</td>\n",
       "      <td>1.800125</td>\n",
       "      <td>excellent</td>\n",
       "      <td>16331452</td>\n",
       "    </tr>\n",
       "    <tr>\n",
       "      <th>...</th>\n",
       "      <td>...</td>\n",
       "      <td>...</td>\n",
       "      <td>...</td>\n",
       "      <td>...</td>\n",
       "      <td>...</td>\n",
       "      <td>...</td>\n",
       "      <td>...</td>\n",
       "      <td>...</td>\n",
       "      <td>...</td>\n",
       "      <td>...</td>\n",
       "      <td>...</td>\n",
       "      <td>...</td>\n",
       "      <td>...</td>\n",
       "      <td>...</td>\n",
       "      <td>...</td>\n",
       "      <td>...</td>\n",
       "      <td>...</td>\n",
       "      <td>...</td>\n",
       "      <td>...</td>\n",
       "      <td>...</td>\n",
       "      <td>...</td>\n",
       "    </tr>\n",
       "    <tr>\n",
       "      <th>30464</th>\n",
       "      <td>30469</td>\n",
       "      <td>44</td>\n",
       "      <td>27.0</td>\n",
       "      <td>7.0</td>\n",
       "      <td>Otradnoe</td>\n",
       "      <td>5088.0</td>\n",
       "      <td>4</td>\n",
       "      <td>12721.0</td>\n",
       "      <td>4</td>\n",
       "      <td>0</td>\n",
       "      <td>...</td>\n",
       "      <td>0.325885</td>\n",
       "      <td>1.103579</td>\n",
       "      <td>0.167718</td>\n",
       "      <td>0.349899</td>\n",
       "      <td>1.235066</td>\n",
       "      <td>0.612359</td>\n",
       "      <td>7.482165</td>\n",
       "      <td>4.836787</td>\n",
       "      <td>good</td>\n",
       "      <td>7400000</td>\n",
       "    </tr>\n",
       "    <tr>\n",
       "      <th>30465</th>\n",
       "      <td>30470</td>\n",
       "      <td>86</td>\n",
       "      <td>59.0</td>\n",
       "      <td>3.0</td>\n",
       "      <td>Tverskoe</td>\n",
       "      <td>1874.0</td>\n",
       "      <td>4</td>\n",
       "      <td>6772.0</td>\n",
       "      <td>4</td>\n",
       "      <td>1</td>\n",
       "      <td>...</td>\n",
       "      <td>0.540003</td>\n",
       "      <td>0.069986</td>\n",
       "      <td>0.086552</td>\n",
       "      <td>0.362681</td>\n",
       "      <td>0.850385</td>\n",
       "      <td>0.310021</td>\n",
       "      <td>0.778428</td>\n",
       "      <td>1.450108</td>\n",
       "      <td>poor</td>\n",
       "      <td>25000000</td>\n",
       "    </tr>\n",
       "    <tr>\n",
       "      <th>30466</th>\n",
       "      <td>30471</td>\n",
       "      <td>45</td>\n",
       "      <td>NaN</td>\n",
       "      <td>10.0</td>\n",
       "      <td>Poselenie Vnukovskoe</td>\n",
       "      <td>NaN</td>\n",
       "      <td>0</td>\n",
       "      <td>NaN</td>\n",
       "      <td>0</td>\n",
       "      <td>0</td>\n",
       "      <td>...</td>\n",
       "      <td>1.806570</td>\n",
       "      <td>4.338453</td>\n",
       "      <td>1.339078</td>\n",
       "      <td>1.234235</td>\n",
       "      <td>1.192543</td>\n",
       "      <td>1.186621</td>\n",
       "      <td>13.459593</td>\n",
       "      <td>9.890758</td>\n",
       "      <td>no data</td>\n",
       "      <td>6970959</td>\n",
       "    </tr>\n",
       "    <tr>\n",
       "      <th>30467</th>\n",
       "      <td>30472</td>\n",
       "      <td>64</td>\n",
       "      <td>32.0</td>\n",
       "      <td>5.0</td>\n",
       "      <td>Obruchevskoe</td>\n",
       "      <td>2372.0</td>\n",
       "      <td>6</td>\n",
       "      <td>6083.0</td>\n",
       "      <td>8</td>\n",
       "      <td>0</td>\n",
       "      <td>...</td>\n",
       "      <td>1.108672</td>\n",
       "      <td>1.204798</td>\n",
       "      <td>1.340017</td>\n",
       "      <td>0.130667</td>\n",
       "      <td>1.644053</td>\n",
       "      <td>0.476021</td>\n",
       "      <td>2.088193</td>\n",
       "      <td>4.119706</td>\n",
       "      <td>satisfactory</td>\n",
       "      <td>13500000</td>\n",
       "    </tr>\n",
       "    <tr>\n",
       "      <th>30468</th>\n",
       "      <td>30473</td>\n",
       "      <td>43</td>\n",
       "      <td>28.0</td>\n",
       "      <td>1.0</td>\n",
       "      <td>Novogireevo</td>\n",
       "      <td>2215.0</td>\n",
       "      <td>4</td>\n",
       "      <td>5824.0</td>\n",
       "      <td>4</td>\n",
       "      <td>0</td>\n",
       "      <td>...</td>\n",
       "      <td>0.224601</td>\n",
       "      <td>2.108265</td>\n",
       "      <td>0.825811</td>\n",
       "      <td>0.378950</td>\n",
       "      <td>0.480531</td>\n",
       "      <td>0.867332</td>\n",
       "      <td>0.688707</td>\n",
       "      <td>0.127867</td>\n",
       "      <td>poor</td>\n",
       "      <td>5600000</td>\n",
       "    </tr>\n",
       "  </tbody>\n",
       "</table>\n",
       "<p>30469 rows × 56 columns</p>\n",
       "</div>"
      ],
      "text/plain": [
       "          id  full_sq  life_sq  floor              sub_area  preschool_quota  \\\n",
       "0          1       43     27.0    4.0              Bibirevo           5001.0   \n",
       "1          2       34     19.0    3.0     Nagatinskij Zaton           3119.0   \n",
       "2          3       43     29.0    2.0        Tekstil'shhiki           1463.0   \n",
       "3          4       89     50.0    9.0                Mitino           6839.0   \n",
       "4          5       77     77.0    4.0             Basmannoe           3240.0   \n",
       "...      ...      ...      ...    ...                   ...              ...   \n",
       "30464  30469       44     27.0    7.0              Otradnoe           5088.0   \n",
       "30465  30470       86     59.0    3.0              Tverskoe           1874.0   \n",
       "30466  30471       45      NaN   10.0  Poselenie Vnukovskoe              NaN   \n",
       "30467  30472       64     32.0    5.0          Obruchevskoe           2372.0   \n",
       "30468  30473       43     28.0    1.0           Novogireevo           2215.0   \n",
       "\n",
       "       preschool_education_centers_raion  school_quota  \\\n",
       "0                                      5       11065.0   \n",
       "1                                      5        6237.0   \n",
       "2                                      4        5580.0   \n",
       "3                                      9       17063.0   \n",
       "4                                      7        7770.0   \n",
       "...                                  ...           ...   \n",
       "30464                                  4       12721.0   \n",
       "30465                                  4        6772.0   \n",
       "30466                                  0           NaN   \n",
       "30467                                  6        6083.0   \n",
       "30468                                  4        5824.0   \n",
       "\n",
       "       school_education_centers_raion  school_education_centers_top_20_raion  \\\n",
       "0                                   5                                      0   \n",
       "1                                   8                                      0   \n",
       "2                                   7                                      0   \n",
       "3                                  10                                      0   \n",
       "4                                   9                                      0   \n",
       "...                               ...                                    ...   \n",
       "30464                               4                                      0   \n",
       "30465                               4                                      1   \n",
       "30466                               0                                      0   \n",
       "30467                               8                                      0   \n",
       "30468                               4                                      0   \n",
       "\n",
       "       ...  shopping_centers_km  office_km  additional_education_km  \\\n",
       "0      ...             0.648488   0.637189                 0.947962   \n",
       "1      ...             0.519311   0.688796                 1.072315   \n",
       "2      ...             1.486533   1.543049                 0.391957   \n",
       "3      ...             0.599914   0.934273                 0.892674   \n",
       "4      ...             0.429052   0.077901                 0.810801   \n",
       "...    ...                  ...        ...                      ...   \n",
       "30464  ...             0.325885   1.103579                 0.167718   \n",
       "30465  ...             0.540003   0.069986                 0.086552   \n",
       "30466  ...             1.806570   4.338453                 1.339078   \n",
       "30467  ...             1.108672   1.204798                 1.340017   \n",
       "30468  ...             0.224601   2.108265                 0.825811   \n",
       "\n",
       "       preschool_km  big_church_km  church_synagogue_km  theater_km  \\\n",
       "0          0.177975       0.625783             0.628187   14.053047   \n",
       "1          0.273345       0.967821             0.471447    6.829889   \n",
       "2          0.158072       3.178751             0.755946    4.273200   \n",
       "3          0.236455       1.031777             1.561505   16.990677   \n",
       "4          0.376838       0.378756             0.121681    1.112486   \n",
       "...             ...            ...                  ...         ...   \n",
       "30464      0.349899       1.235066             0.612359    7.482165   \n",
       "30465      0.362681       0.850385             0.310021    0.778428   \n",
       "30466      1.234235       1.192543             1.186621   13.459593   \n",
       "30467      0.130667       1.644053             0.476021    2.088193   \n",
       "30468      0.378950       0.480531             0.867332    0.688707   \n",
       "\n",
       "       museum_km       ecology  price_doc  \n",
       "0       7.389498          good    5850000  \n",
       "1       0.709260     excellent    6000000  \n",
       "2       3.156423          poor    5700000  \n",
       "3      16.041521          good   13100000  \n",
       "4       1.800125     excellent   16331452  \n",
       "...          ...           ...        ...  \n",
       "30464   4.836787          good    7400000  \n",
       "30465   1.450108          poor   25000000  \n",
       "30466   9.890758       no data    6970959  \n",
       "30467   4.119706  satisfactory   13500000  \n",
       "30468   0.127867          poor    5600000  \n",
       "\n",
       "[30469 rows x 56 columns]"
      ]
     },
     "execution_count": 1,
     "metadata": {},
     "output_type": "execute_result"
    }
   ],
   "source": [
    "import pandas as pd\n",
    "data = pd.read_csv('C:/Users/user/Documents/GitHub/Skillfactory_Alexander_Stratonov/module_3/data/data_flats.csv',sep=\";\")\n",
    "#data = pd.read_csv('C:/Users/Крис/Documents/GitHub/Skillfactory_Alexander_Stratonov/module_3/data/data_flats.csv',sep=\";\")\n",
    "data"
   ]
  },
  {
   "cell_type": "code",
   "execution_count": 2,
   "id": "424c2a93",
   "metadata": {},
   "outputs": [
    {
     "name": "stdout",
     "output_type": "stream",
     "text": [
      "<class 'pandas.core.frame.DataFrame'>\n",
      "RangeIndex: 30469 entries, 0 to 30468\n",
      "Data columns (total 56 columns):\n",
      " #   Column                                 Non-Null Count  Dtype  \n",
      "---  ------                                 --------------  -----  \n",
      " 0   id                                     30469 non-null  int64  \n",
      " 1   full_sq                                30469 non-null  int64  \n",
      " 2   life_sq                                24086 non-null  float64\n",
      " 3   floor                                  30302 non-null  float64\n",
      " 4   sub_area                               30469 non-null  object \n",
      " 5   preschool_quota                        23781 non-null  float64\n",
      " 6   preschool_education_centers_raion      30469 non-null  int64  \n",
      " 7   school_quota                           23784 non-null  float64\n",
      " 8   school_education_centers_raion         30469 non-null  int64  \n",
      " 9   school_education_centers_top_20_raion  30469 non-null  int64  \n",
      " 10  hospital_beds_raion                    16029 non-null  float64\n",
      " 11  healthcare_centers_raion               30469 non-null  int64  \n",
      " 12  university_top_20_raion                30469 non-null  int64  \n",
      " 13  sport_objects_raion                    30469 non-null  int64  \n",
      " 14  additional_education_raion             30469 non-null  int64  \n",
      " 15  culture_objects_top_25_raion           30469 non-null  int64  \n",
      " 16  shopping_centers_raion                 30469 non-null  int64  \n",
      " 17  office_raion                           30469 non-null  int64  \n",
      " 18  metro_min_avto                         30469 non-null  float64\n",
      " 19  metro_km_avto                          30469 non-null  float64\n",
      " 20  metro_min_walk                         30444 non-null  float64\n",
      " 21  metro_km_walk                          30444 non-null  float64\n",
      " 22  kindergarten_km                        30469 non-null  float64\n",
      " 23  school_km                              30469 non-null  float64\n",
      " 24  park_km                                30469 non-null  float64\n",
      " 25  green_zone_km                          30469 non-null  float64\n",
      " 26  industrial_km                          30469 non-null  float64\n",
      " 27  railroad_station_walk_km               30444 non-null  float64\n",
      " 28  railroad_station_walk_min              30444 non-null  float64\n",
      " 29  public_transport_station_km            30469 non-null  float64\n",
      " 30  public_transport_station_min_walk      30469 non-null  float64\n",
      " 31  mkad_km                                30469 non-null  float64\n",
      " 32  ttk_km                                 30469 non-null  float64\n",
      " 33  sadovoe_km                             30469 non-null  float64\n",
      " 34  bulvar_ring_km                         30469 non-null  float64\n",
      " 35  kremlin_km                             30469 non-null  float64\n",
      " 36  big_market_km                          30469 non-null  float64\n",
      " 37  market_shop_km                         30469 non-null  float64\n",
      " 38  fitness_km                             30469 non-null  float64\n",
      " 39  swim_pool_km                           30469 non-null  float64\n",
      " 40  ice_rink_km                            30469 non-null  float64\n",
      " 41  stadium_km                             30469 non-null  float64\n",
      " 42  basketball_km                          30469 non-null  float64\n",
      " 43  hospice_morgue_km                      30469 non-null  float64\n",
      " 44  university_km                          30469 non-null  float64\n",
      " 45  workplaces_km                          30469 non-null  float64\n",
      " 46  shopping_centers_km                    30469 non-null  float64\n",
      " 47  office_km                              30469 non-null  float64\n",
      " 48  additional_education_km                30469 non-null  float64\n",
      " 49  preschool_km                           30469 non-null  float64\n",
      " 50  big_church_km                          30469 non-null  float64\n",
      " 51  church_synagogue_km                    30469 non-null  float64\n",
      " 52  theater_km                             30469 non-null  float64\n",
      " 53  museum_km                              30469 non-null  float64\n",
      " 54  ecology                                30469 non-null  object \n",
      " 55  price_doc                              30469 non-null  int64  \n",
      "dtypes: float64(41), int64(13), object(2)\n",
      "memory usage: 13.0+ MB\n"
     ]
    }
   ],
   "source": [
    "data.info()"
   ]
  },
  {
   "cell_type": "markdown",
   "id": "f8560227",
   "metadata": {},
   "source": [
    "# 2.6. Практика"
   ]
  },
  {
   "cell_type": "code",
   "execution_count": 3,
   "id": "0f4eca3a",
   "metadata": {},
   "outputs": [],
   "source": [
    "import numpy as np\n",
    "test_data = pd.DataFrame([[1, 2, np.nan], [3, np.nan, 4],\n",
    "                          [0, 1, 2]], columns=['one', 'two', 'three'])"
   ]
  },
  {
   "cell_type": "code",
   "execution_count": 4,
   "id": "d05d9e6e",
   "metadata": {},
   "outputs": [
    {
     "data": {
      "text/html": [
       "<div>\n",
       "<style scoped>\n",
       "    .dataframe tbody tr th:only-of-type {\n",
       "        vertical-align: middle;\n",
       "    }\n",
       "\n",
       "    .dataframe tbody tr th {\n",
       "        vertical-align: top;\n",
       "    }\n",
       "\n",
       "    .dataframe thead th {\n",
       "        text-align: right;\n",
       "    }\n",
       "</style>\n",
       "<table border=\"1\" class=\"dataframe\">\n",
       "  <thead>\n",
       "    <tr style=\"text-align: right;\">\n",
       "      <th></th>\n",
       "      <th>one</th>\n",
       "      <th>two</th>\n",
       "      <th>three</th>\n",
       "    </tr>\n",
       "  </thead>\n",
       "  <tbody>\n",
       "    <tr>\n",
       "      <th>0</th>\n",
       "      <td>False</td>\n",
       "      <td>False</td>\n",
       "      <td>True</td>\n",
       "    </tr>\n",
       "    <tr>\n",
       "      <th>1</th>\n",
       "      <td>False</td>\n",
       "      <td>True</td>\n",
       "      <td>False</td>\n",
       "    </tr>\n",
       "    <tr>\n",
       "      <th>2</th>\n",
       "      <td>False</td>\n",
       "      <td>False</td>\n",
       "      <td>False</td>\n",
       "    </tr>\n",
       "  </tbody>\n",
       "</table>\n",
       "</div>"
      ],
      "text/plain": [
       "     one    two  three\n",
       "0  False  False   True\n",
       "1  False   True  False\n",
       "2  False  False  False"
      ]
     },
     "execution_count": 4,
     "metadata": {},
     "output_type": "execute_result"
    }
   ],
   "source": [
    "test_data.isna()"
   ]
  },
  {
   "cell_type": "code",
   "execution_count": 5,
   "id": "5624fd47",
   "metadata": {},
   "outputs": [
    {
     "data": {
      "text/html": [
       "<div>\n",
       "<style scoped>\n",
       "    .dataframe tbody tr th:only-of-type {\n",
       "        vertical-align: middle;\n",
       "    }\n",
       "\n",
       "    .dataframe tbody tr th {\n",
       "        vertical-align: top;\n",
       "    }\n",
       "\n",
       "    .dataframe thead th {\n",
       "        text-align: right;\n",
       "    }\n",
       "</style>\n",
       "<table border=\"1\" class=\"dataframe\">\n",
       "  <thead>\n",
       "    <tr style=\"text-align: right;\">\n",
       "      <th></th>\n",
       "      <th>one</th>\n",
       "      <th>two</th>\n",
       "      <th>three</th>\n",
       "    </tr>\n",
       "  </thead>\n",
       "  <tbody>\n",
       "    <tr>\n",
       "      <th>0</th>\n",
       "      <td>1</td>\n",
       "      <td>2.0</td>\n",
       "      <td>-1.0</td>\n",
       "    </tr>\n",
       "    <tr>\n",
       "      <th>1</th>\n",
       "      <td>3</td>\n",
       "      <td>-1.0</td>\n",
       "      <td>4.0</td>\n",
       "    </tr>\n",
       "    <tr>\n",
       "      <th>2</th>\n",
       "      <td>0</td>\n",
       "      <td>1.0</td>\n",
       "      <td>2.0</td>\n",
       "    </tr>\n",
       "  </tbody>\n",
       "</table>\n",
       "</div>"
      ],
      "text/plain": [
       "   one  two  three\n",
       "0    1  2.0   -1.0\n",
       "1    3 -1.0    4.0\n",
       "2    0  1.0    2.0"
      ]
     },
     "execution_count": 5,
     "metadata": {},
     "output_type": "execute_result"
    }
   ],
   "source": [
    "test_data.fillna(-1)"
   ]
  },
  {
   "cell_type": "code",
   "execution_count": 6,
   "id": "c57d0346",
   "metadata": {},
   "outputs": [
    {
     "name": "stdout",
     "output_type": "stream",
     "text": [
      "<class 'pandas.core.frame.DataFrame'>\n",
      "RangeIndex: 250306 entries, 0 to 250305\n",
      "Data columns (total 34 columns):\n",
      " #   Column                      Non-Null Count   Dtype  \n",
      "---  ------                      --------------   -----  \n",
      " 0   ticket_id                   250306 non-null  int64  \n",
      " 1   agency_name                 250306 non-null  object \n",
      " 2   inspector_name              250306 non-null  object \n",
      " 3   violator_name               250272 non-null  object \n",
      " 4   violation_street_number     250306 non-null  float64\n",
      " 5   violation_street_name       250306 non-null  object \n",
      " 6   violation_zip_code          0 non-null       float64\n",
      " 7   mailing_address_str_number  246704 non-null  float64\n",
      " 8   mailing_address_str_name    250302 non-null  object \n",
      " 9   city                        250306 non-null  object \n",
      " 10  state                       250213 non-null  object \n",
      " 11  zip_code                    250305 non-null  object \n",
      " 12  non_us_str_code             3 non-null       object \n",
      " 13  country                     250306 non-null  object \n",
      " 14  ticket_issued_date          250306 non-null  object \n",
      " 15  hearing_date                237815 non-null  object \n",
      " 16  violation_code              250306 non-null  object \n",
      " 17  violation_description       250306 non-null  object \n",
      " 18  disposition                 250306 non-null  object \n",
      " 19  fine_amount                 250305 non-null  float64\n",
      " 20  admin_fee                   250306 non-null  float64\n",
      " 21  state_fee                   250306 non-null  float64\n",
      " 22  late_fee                    250306 non-null  float64\n",
      " 23  discount_amount             250306 non-null  float64\n",
      " 24  clean_up_cost               250306 non-null  float64\n",
      " 25  judgment_amount             250306 non-null  float64\n",
      " 26  payment_amount              250306 non-null  float64\n",
      " 27  balance_due                 250306 non-null  float64\n",
      " 28  payment_date                41113 non-null   object \n",
      " 29  payment_status              250306 non-null  object \n",
      " 30  collection_status           36897 non-null   object \n",
      " 31  grafitti_status             1 non-null       object \n",
      " 32  compliance_detail           250306 non-null  object \n",
      " 33  compliance                  159880 non-null  float64\n",
      "dtypes: float64(13), int64(1), object(20)\n",
      "memory usage: 64.9+ MB\n"
     ]
    }
   ],
   "source": [
    "vis_data = pd.read_csv(\"C:/Users/user/Documents/GitHub/Skillfactory_Alexander_Stratonov/module_3/data/train.csv\", encoding = 'ISO-8859-1', low_memory = False)\n",
    "#vis_data = pd.read_csv(\"C:/Users/Крис/Documents/GitHub/Skillfactory_Alexander_Stratonov/module_3/data/train.csv\", encoding = 'ISO-8859-1', low_memory = False)\n",
    "vis_data.info()"
   ]
  },
  {
   "cell_type": "code",
   "execution_count": 7,
   "id": "6c47c7a3",
   "metadata": {},
   "outputs": [
    {
     "data": {
      "text/plain": [
       "MI    228601\n",
       "CA      5020\n",
       "TX      2420\n",
       "FL      2237\n",
       "IL      1310\n",
       "Name: state, dtype: int64"
      ]
     },
     "execution_count": 7,
     "metadata": {},
     "output_type": "execute_result"
    }
   ],
   "source": [
    "vis_data['state'].value_counts().head()"
   ]
  },
  {
   "cell_type": "code",
   "execution_count": 8,
   "id": "62106328",
   "metadata": {},
   "outputs": [],
   "source": [
    "result=vis_data['state'].fillna('MI')"
   ]
  },
  {
   "cell_type": "code",
   "execution_count": 9,
   "id": "79469d25",
   "metadata": {},
   "outputs": [
    {
     "data": {
      "text/html": [
       "<div>\n",
       "<style scoped>\n",
       "    .dataframe tbody tr th:only-of-type {\n",
       "        vertical-align: middle;\n",
       "    }\n",
       "\n",
       "    .dataframe tbody tr th {\n",
       "        vertical-align: top;\n",
       "    }\n",
       "\n",
       "    .dataframe thead th {\n",
       "        text-align: right;\n",
       "    }\n",
       "</style>\n",
       "<table border=\"1\" class=\"dataframe\">\n",
       "  <thead>\n",
       "    <tr style=\"text-align: right;\">\n",
       "      <th></th>\n",
       "      <th>id</th>\n",
       "      <th>full_sq</th>\n",
       "      <th>life_sq</th>\n",
       "      <th>floor</th>\n",
       "      <th>sub_area</th>\n",
       "      <th>preschool_quota</th>\n",
       "      <th>preschool_education_centers_raion</th>\n",
       "      <th>school_quota</th>\n",
       "      <th>school_education_centers_raion</th>\n",
       "      <th>school_education_centers_top_20_raion</th>\n",
       "      <th>...</th>\n",
       "      <th>shopping_centers_km</th>\n",
       "      <th>office_km</th>\n",
       "      <th>additional_education_km</th>\n",
       "      <th>preschool_km</th>\n",
       "      <th>big_church_km</th>\n",
       "      <th>church_synagogue_km</th>\n",
       "      <th>theater_km</th>\n",
       "      <th>museum_km</th>\n",
       "      <th>ecology</th>\n",
       "      <th>price_doc</th>\n",
       "    </tr>\n",
       "  </thead>\n",
       "  <tbody>\n",
       "    <tr>\n",
       "      <th>0</th>\n",
       "      <td>1</td>\n",
       "      <td>43</td>\n",
       "      <td>27.0</td>\n",
       "      <td>4.0</td>\n",
       "      <td>Bibirevo</td>\n",
       "      <td>5001.0</td>\n",
       "      <td>5</td>\n",
       "      <td>11065.0</td>\n",
       "      <td>5</td>\n",
       "      <td>0</td>\n",
       "      <td>...</td>\n",
       "      <td>0.648488</td>\n",
       "      <td>0.637189</td>\n",
       "      <td>0.947962</td>\n",
       "      <td>0.177975</td>\n",
       "      <td>0.625783</td>\n",
       "      <td>0.628187</td>\n",
       "      <td>14.053047</td>\n",
       "      <td>7.389498</td>\n",
       "      <td>good</td>\n",
       "      <td>5850000</td>\n",
       "    </tr>\n",
       "    <tr>\n",
       "      <th>1</th>\n",
       "      <td>2</td>\n",
       "      <td>34</td>\n",
       "      <td>19.0</td>\n",
       "      <td>3.0</td>\n",
       "      <td>Nagatinskij Zaton</td>\n",
       "      <td>3119.0</td>\n",
       "      <td>5</td>\n",
       "      <td>6237.0</td>\n",
       "      <td>8</td>\n",
       "      <td>0</td>\n",
       "      <td>...</td>\n",
       "      <td>0.519311</td>\n",
       "      <td>0.688796</td>\n",
       "      <td>1.072315</td>\n",
       "      <td>0.273345</td>\n",
       "      <td>0.967821</td>\n",
       "      <td>0.471447</td>\n",
       "      <td>6.829889</td>\n",
       "      <td>0.709260</td>\n",
       "      <td>excellent</td>\n",
       "      <td>6000000</td>\n",
       "    </tr>\n",
       "    <tr>\n",
       "      <th>2</th>\n",
       "      <td>3</td>\n",
       "      <td>43</td>\n",
       "      <td>29.0</td>\n",
       "      <td>2.0</td>\n",
       "      <td>Tekstil'shhiki</td>\n",
       "      <td>1463.0</td>\n",
       "      <td>4</td>\n",
       "      <td>5580.0</td>\n",
       "      <td>7</td>\n",
       "      <td>0</td>\n",
       "      <td>...</td>\n",
       "      <td>1.486533</td>\n",
       "      <td>1.543049</td>\n",
       "      <td>0.391957</td>\n",
       "      <td>0.158072</td>\n",
       "      <td>3.178751</td>\n",
       "      <td>0.755946</td>\n",
       "      <td>4.273200</td>\n",
       "      <td>3.156423</td>\n",
       "      <td>poor</td>\n",
       "      <td>5700000</td>\n",
       "    </tr>\n",
       "    <tr>\n",
       "      <th>4</th>\n",
       "      <td>5</td>\n",
       "      <td>77</td>\n",
       "      <td>77.0</td>\n",
       "      <td>4.0</td>\n",
       "      <td>Basmannoe</td>\n",
       "      <td>3240.0</td>\n",
       "      <td>7</td>\n",
       "      <td>7770.0</td>\n",
       "      <td>9</td>\n",
       "      <td>0</td>\n",
       "      <td>...</td>\n",
       "      <td>0.429052</td>\n",
       "      <td>0.077901</td>\n",
       "      <td>0.810801</td>\n",
       "      <td>0.376838</td>\n",
       "      <td>0.378756</td>\n",
       "      <td>0.121681</td>\n",
       "      <td>1.112486</td>\n",
       "      <td>1.800125</td>\n",
       "      <td>excellent</td>\n",
       "      <td>16331452</td>\n",
       "    </tr>\n",
       "    <tr>\n",
       "      <th>6</th>\n",
       "      <td>7</td>\n",
       "      <td>25</td>\n",
       "      <td>14.0</td>\n",
       "      <td>10.0</td>\n",
       "      <td>Sokol'niki</td>\n",
       "      <td>933.0</td>\n",
       "      <td>5</td>\n",
       "      <td>5050.0</td>\n",
       "      <td>5</td>\n",
       "      <td>0</td>\n",
       "      <td>...</td>\n",
       "      <td>0.513689</td>\n",
       "      <td>0.067725</td>\n",
       "      <td>0.273019</td>\n",
       "      <td>0.516979</td>\n",
       "      <td>0.822377</td>\n",
       "      <td>0.318230</td>\n",
       "      <td>0.752223</td>\n",
       "      <td>2.969315</td>\n",
       "      <td>poor</td>\n",
       "      <td>5500000</td>\n",
       "    </tr>\n",
       "    <tr>\n",
       "      <th>...</th>\n",
       "      <td>...</td>\n",
       "      <td>...</td>\n",
       "      <td>...</td>\n",
       "      <td>...</td>\n",
       "      <td>...</td>\n",
       "      <td>...</td>\n",
       "      <td>...</td>\n",
       "      <td>...</td>\n",
       "      <td>...</td>\n",
       "      <td>...</td>\n",
       "      <td>...</td>\n",
       "      <td>...</td>\n",
       "      <td>...</td>\n",
       "      <td>...</td>\n",
       "      <td>...</td>\n",
       "      <td>...</td>\n",
       "      <td>...</td>\n",
       "      <td>...</td>\n",
       "      <td>...</td>\n",
       "      <td>...</td>\n",
       "      <td>...</td>\n",
       "    </tr>\n",
       "    <tr>\n",
       "      <th>30461</th>\n",
       "      <td>30466</td>\n",
       "      <td>56</td>\n",
       "      <td>29.0</td>\n",
       "      <td>13.0</td>\n",
       "      <td>Severnoe Tushino</td>\n",
       "      <td>4116.0</td>\n",
       "      <td>5</td>\n",
       "      <td>9891.0</td>\n",
       "      <td>5</td>\n",
       "      <td>0</td>\n",
       "      <td>...</td>\n",
       "      <td>0.232778</td>\n",
       "      <td>1.491458</td>\n",
       "      <td>0.648281</td>\n",
       "      <td>0.193474</td>\n",
       "      <td>0.283044</td>\n",
       "      <td>2.040548</td>\n",
       "      <td>23.720332</td>\n",
       "      <td>12.198090</td>\n",
       "      <td>satisfactory</td>\n",
       "      <td>12000000</td>\n",
       "    </tr>\n",
       "    <tr>\n",
       "      <th>30462</th>\n",
       "      <td>30467</td>\n",
       "      <td>56</td>\n",
       "      <td>51.0</td>\n",
       "      <td>19.0</td>\n",
       "      <td>Sviblovo</td>\n",
       "      <td>2057.0</td>\n",
       "      <td>1</td>\n",
       "      <td>3741.0</td>\n",
       "      <td>2</td>\n",
       "      <td>0</td>\n",
       "      <td>...</td>\n",
       "      <td>0.187828</td>\n",
       "      <td>0.969990</td>\n",
       "      <td>0.510751</td>\n",
       "      <td>0.566309</td>\n",
       "      <td>1.261711</td>\n",
       "      <td>0.532268</td>\n",
       "      <td>3.672399</td>\n",
       "      <td>2.988268</td>\n",
       "      <td>poor</td>\n",
       "      <td>10262010</td>\n",
       "    </tr>\n",
       "    <tr>\n",
       "      <th>30465</th>\n",
       "      <td>30470</td>\n",
       "      <td>86</td>\n",
       "      <td>59.0</td>\n",
       "      <td>3.0</td>\n",
       "      <td>Tverskoe</td>\n",
       "      <td>1874.0</td>\n",
       "      <td>4</td>\n",
       "      <td>6772.0</td>\n",
       "      <td>4</td>\n",
       "      <td>1</td>\n",
       "      <td>...</td>\n",
       "      <td>0.540003</td>\n",
       "      <td>0.069986</td>\n",
       "      <td>0.086552</td>\n",
       "      <td>0.362681</td>\n",
       "      <td>0.850385</td>\n",
       "      <td>0.310021</td>\n",
       "      <td>0.778428</td>\n",
       "      <td>1.450108</td>\n",
       "      <td>poor</td>\n",
       "      <td>25000000</td>\n",
       "    </tr>\n",
       "    <tr>\n",
       "      <th>30467</th>\n",
       "      <td>30472</td>\n",
       "      <td>64</td>\n",
       "      <td>32.0</td>\n",
       "      <td>5.0</td>\n",
       "      <td>Obruchevskoe</td>\n",
       "      <td>2372.0</td>\n",
       "      <td>6</td>\n",
       "      <td>6083.0</td>\n",
       "      <td>8</td>\n",
       "      <td>0</td>\n",
       "      <td>...</td>\n",
       "      <td>1.108672</td>\n",
       "      <td>1.204798</td>\n",
       "      <td>1.340017</td>\n",
       "      <td>0.130667</td>\n",
       "      <td>1.644053</td>\n",
       "      <td>0.476021</td>\n",
       "      <td>2.088193</td>\n",
       "      <td>4.119706</td>\n",
       "      <td>satisfactory</td>\n",
       "      <td>13500000</td>\n",
       "    </tr>\n",
       "    <tr>\n",
       "      <th>30468</th>\n",
       "      <td>30473</td>\n",
       "      <td>43</td>\n",
       "      <td>28.0</td>\n",
       "      <td>1.0</td>\n",
       "      <td>Novogireevo</td>\n",
       "      <td>2215.0</td>\n",
       "      <td>4</td>\n",
       "      <td>5824.0</td>\n",
       "      <td>4</td>\n",
       "      <td>0</td>\n",
       "      <td>...</td>\n",
       "      <td>0.224601</td>\n",
       "      <td>2.108265</td>\n",
       "      <td>0.825811</td>\n",
       "      <td>0.378950</td>\n",
       "      <td>0.480531</td>\n",
       "      <td>0.867332</td>\n",
       "      <td>0.688707</td>\n",
       "      <td>0.127867</td>\n",
       "      <td>poor</td>\n",
       "      <td>5600000</td>\n",
       "    </tr>\n",
       "  </tbody>\n",
       "</table>\n",
       "<p>13652 rows × 56 columns</p>\n",
       "</div>"
      ],
      "text/plain": [
       "          id  full_sq  life_sq  floor           sub_area  preschool_quota  \\\n",
       "0          1       43     27.0    4.0           Bibirevo           5001.0   \n",
       "1          2       34     19.0    3.0  Nagatinskij Zaton           3119.0   \n",
       "2          3       43     29.0    2.0     Tekstil'shhiki           1463.0   \n",
       "4          5       77     77.0    4.0          Basmannoe           3240.0   \n",
       "6          7       25     14.0   10.0         Sokol'niki            933.0   \n",
       "...      ...      ...      ...    ...                ...              ...   \n",
       "30461  30466       56     29.0   13.0   Severnoe Tushino           4116.0   \n",
       "30462  30467       56     51.0   19.0           Sviblovo           2057.0   \n",
       "30465  30470       86     59.0    3.0           Tverskoe           1874.0   \n",
       "30467  30472       64     32.0    5.0       Obruchevskoe           2372.0   \n",
       "30468  30473       43     28.0    1.0        Novogireevo           2215.0   \n",
       "\n",
       "       preschool_education_centers_raion  school_quota  \\\n",
       "0                                      5       11065.0   \n",
       "1                                      5        6237.0   \n",
       "2                                      4        5580.0   \n",
       "4                                      7        7770.0   \n",
       "6                                      5        5050.0   \n",
       "...                                  ...           ...   \n",
       "30461                                  5        9891.0   \n",
       "30462                                  1        3741.0   \n",
       "30465                                  4        6772.0   \n",
       "30467                                  6        6083.0   \n",
       "30468                                  4        5824.0   \n",
       "\n",
       "       school_education_centers_raion  school_education_centers_top_20_raion  \\\n",
       "0                                   5                                      0   \n",
       "1                                   8                                      0   \n",
       "2                                   7                                      0   \n",
       "4                                   9                                      0   \n",
       "6                                   5                                      0   \n",
       "...                               ...                                    ...   \n",
       "30461                               5                                      0   \n",
       "30462                               2                                      0   \n",
       "30465                               4                                      1   \n",
       "30467                               8                                      0   \n",
       "30468                               4                                      0   \n",
       "\n",
       "       ...  shopping_centers_km  office_km  additional_education_km  \\\n",
       "0      ...             0.648488   0.637189                 0.947962   \n",
       "1      ...             0.519311   0.688796                 1.072315   \n",
       "2      ...             1.486533   1.543049                 0.391957   \n",
       "4      ...             0.429052   0.077901                 0.810801   \n",
       "6      ...             0.513689   0.067725                 0.273019   \n",
       "...    ...                  ...        ...                      ...   \n",
       "30461  ...             0.232778   1.491458                 0.648281   \n",
       "30462  ...             0.187828   0.969990                 0.510751   \n",
       "30465  ...             0.540003   0.069986                 0.086552   \n",
       "30467  ...             1.108672   1.204798                 1.340017   \n",
       "30468  ...             0.224601   2.108265                 0.825811   \n",
       "\n",
       "       preschool_km  big_church_km  church_synagogue_km  theater_km  \\\n",
       "0          0.177975       0.625783             0.628187   14.053047   \n",
       "1          0.273345       0.967821             0.471447    6.829889   \n",
       "2          0.158072       3.178751             0.755946    4.273200   \n",
       "4          0.376838       0.378756             0.121681    1.112486   \n",
       "6          0.516979       0.822377             0.318230    0.752223   \n",
       "...             ...            ...                  ...         ...   \n",
       "30461      0.193474       0.283044             2.040548   23.720332   \n",
       "30462      0.566309       1.261711             0.532268    3.672399   \n",
       "30465      0.362681       0.850385             0.310021    0.778428   \n",
       "30467      0.130667       1.644053             0.476021    2.088193   \n",
       "30468      0.378950       0.480531             0.867332    0.688707   \n",
       "\n",
       "       museum_km       ecology  price_doc  \n",
       "0       7.389498          good    5850000  \n",
       "1       0.709260     excellent    6000000  \n",
       "2       3.156423          poor    5700000  \n",
       "4       1.800125     excellent   16331452  \n",
       "6       2.969315          poor    5500000  \n",
       "...          ...           ...        ...  \n",
       "30461  12.198090  satisfactory   12000000  \n",
       "30462   2.988268          poor   10262010  \n",
       "30465   1.450108          poor   25000000  \n",
       "30467   4.119706  satisfactory   13500000  \n",
       "30468   0.127867          poor    5600000  \n",
       "\n",
       "[13652 rows x 56 columns]"
      ]
     },
     "execution_count": 9,
     "metadata": {},
     "output_type": "execute_result"
    }
   ],
   "source": [
    "data.dropna()"
   ]
  },
  {
   "cell_type": "markdown",
   "id": "b03f6981",
   "metadata": {},
   "source": [
    "# 2.8. Практика"
   ]
  },
  {
   "cell_type": "code",
   "execution_count": 10,
   "id": "b37c4857",
   "metadata": {},
   "outputs": [
    {
     "data": {
      "text/plain": [
       "array([[0.33333333, 1.        ,        nan],\n",
       "       [1.        ,        nan, 1.        ],\n",
       "       [0.        , 0.        , 0.        ]])"
      ]
     },
     "execution_count": 10,
     "metadata": {},
     "output_type": "execute_result"
    }
   ],
   "source": [
    "from sklearn.preprocessing import MinMaxScaler\n",
    "scaler = MinMaxScaler()\n",
    "scaler.fit_transform(test_data)"
   ]
  },
  {
   "cell_type": "code",
   "execution_count": 11,
   "id": "fc79b44a",
   "metadata": {},
   "outputs": [
    {
     "data": {
      "text/plain": [
       "array([[-0.26726124,  1.        ,         nan],\n",
       "       [ 1.33630621,         nan,  1.        ],\n",
       "       [-1.06904497, -1.        , -1.        ]])"
      ]
     },
     "execution_count": 11,
     "metadata": {},
     "output_type": "execute_result"
    }
   ],
   "source": [
    "from sklearn.preprocessing import StandardScaler\n",
    "scaler = StandardScaler()\n",
    "scaler.fit_transform(test_data)"
   ]
  },
  {
   "cell_type": "code",
   "execution_count": 12,
   "id": "c31aeaf5",
   "metadata": {},
   "outputs": [
    {
     "data": {
      "text/plain": [
       "-13.14733"
      ]
     },
     "execution_count": 12,
     "metadata": {},
     "output_type": "execute_result"
    }
   ],
   "source": [
    "res=vis_data['balance_due'].values.reshape(-1,1)\n",
    "scaler.fit_transform(res).min().round(5)"
   ]
  },
  {
   "cell_type": "markdown",
   "id": "7a25276c",
   "metadata": {},
   "source": [
    "# 2.10. Практика"
   ]
  },
  {
   "cell_type": "code",
   "execution_count": 13,
   "id": "63e7fc3d",
   "metadata": {},
   "outputs": [
    {
     "data": {
      "text/plain": [
       "<AxesSubplot:>"
      ]
     },
     "execution_count": 13,
     "metadata": {},
     "output_type": "execute_result"
    },
    {
     "data": {
      "image/png": "[encoded data removed]",
      "text/plain": [
       "<Figure size 432x288 with 1 Axes>"
      ]
     },
     "metadata": {
      "needs_background": "light"
     },
     "output_type": "display_data"
    }
   ],
   "source": [
    "np.log(vis_data.balance_due[vis_data.balance_due > 0]).hist()"
   ]
  },
  {
   "cell_type": "code",
   "execution_count": 14,
   "id": "723146c7",
   "metadata": {},
   "outputs": [
    {
     "data": {
      "text/plain": [
       "<AxesSubplot:>"
      ]
     },
     "execution_count": 14,
     "metadata": {},
     "output_type": "execute_result"
    },
    {
     "data": {
      "image/png": "[encoded data removed]",
      "text/plain": [
       "<Figure size 432x288 with 1 Axes>"
      ]
     },
     "metadata": {
      "needs_background": "light"
     },
     "output_type": "display_data"
    }
   ],
   "source": [
    "np.sqrt(vis_data.balance_due[vis_data.balance_due > 0]).hist()"
   ]
  },
  {
   "cell_type": "code",
   "execution_count": 15,
   "id": "80996b70",
   "metadata": {},
   "outputs": [
    {
     "data": {
      "text/html": [
       "<style  type=\"text/css\" >\n",
       "    #T_aaabe_ th {\n",
       "          font-size: 7pt;\n",
       "    }    #T_aaabe_ td {\n",
       "          padding: 0em 0em;\n",
       "    }    #T_aaabe_ th:hover {\n",
       "          font-size: 12pt;\n",
       "    }    #T_aaabe_ tr:hover td:hover {\n",
       "          max-width: 200px;\n",
       "          font-size: 12pt;\n",
       "    }#T_aaabe_row0_col0,#T_aaabe_row1_col1,#T_aaabe_row1_col2,#T_aaabe_row2_col1,#T_aaabe_row2_col2,#T_aaabe_row3_col3,#T_aaabe_row4_col4,#T_aaabe_row5_col5,#T_aaabe_row6_col6{\n",
       "            background-color:  #4479bb;\n",
       "            color:  #000000;\n",
       "            max-width:  80px;\n",
       "            font-size:  10pt;\n",
       "        }#T_aaabe_row0_col1,#T_aaabe_row0_col2,#T_aaabe_row1_col0,#T_aaabe_row2_col0,#T_aaabe_row3_col4,#T_aaabe_row4_col0,#T_aaabe_row4_col6,#T_aaabe_row5_col0,#T_aaabe_row6_col4{\n",
       "            background-color:  #d73c5b;\n",
       "            color:  #f1f1f1;\n",
       "            max-width:  80px;\n",
       "            font-size:  10pt;\n",
       "        }#T_aaabe_row0_col3{\n",
       "            background-color:  #d94663;\n",
       "            color:  #f1f1f1;\n",
       "            max-width:  80px;\n",
       "            font-size:  10pt;\n",
       "        }#T_aaabe_row0_col4{\n",
       "            background-color:  #d8415f;\n",
       "            color:  #f1f1f1;\n",
       "            max-width:  80px;\n",
       "            font-size:  10pt;\n",
       "        }#T_aaabe_row0_col5{\n",
       "            background-color:  #d84462;\n",
       "            color:  #f1f1f1;\n",
       "            max-width:  80px;\n",
       "            font-size:  10pt;\n",
       "        }#T_aaabe_row0_col6{\n",
       "            background-color:  #d94a67;\n",
       "            color:  #000000;\n",
       "            max-width:  80px;\n",
       "            font-size:  10pt;\n",
       "        }#T_aaabe_row1_col3,#T_aaabe_row2_col3{\n",
       "            background-color:  #e8adb8;\n",
       "            color:  #000000;\n",
       "            max-width:  80px;\n",
       "            font-size:  10pt;\n",
       "        }#T_aaabe_row1_col4,#T_aaabe_row2_col4{\n",
       "            background-color:  #db526e;\n",
       "            color:  #000000;\n",
       "            max-width:  80px;\n",
       "            font-size:  10pt;\n",
       "        }#T_aaabe_row1_col5,#T_aaabe_row2_col5{\n",
       "            background-color:  #eab9c3;\n",
       "            color:  #000000;\n",
       "            max-width:  80px;\n",
       "            font-size:  10pt;\n",
       "        }#T_aaabe_row1_col6,#T_aaabe_row2_col6{\n",
       "            background-color:  #e8aab6;\n",
       "            color:  #000000;\n",
       "            max-width:  80px;\n",
       "            font-size:  10pt;\n",
       "        }#T_aaabe_row3_col0{\n",
       "            background-color:  #d83e5d;\n",
       "            color:  #f1f1f1;\n",
       "            max-width:  80px;\n",
       "            font-size:  10pt;\n",
       "        }#T_aaabe_row3_col1,#T_aaabe_row3_col2{\n",
       "            background-color:  #e7a7b4;\n",
       "            color:  #000000;\n",
       "            max-width:  80px;\n",
       "            font-size:  10pt;\n",
       "        }#T_aaabe_row3_col5,#T_aaabe_row5_col3{\n",
       "            background-color:  #477bbb;\n",
       "            color:  #000000;\n",
       "            max-width:  80px;\n",
       "            font-size:  10pt;\n",
       "        }#T_aaabe_row3_col6{\n",
       "            background-color:  #5585c0;\n",
       "            color:  #000000;\n",
       "            max-width:  80px;\n",
       "            font-size:  10pt;\n",
       "        }#T_aaabe_row4_col1,#T_aaabe_row4_col2{\n",
       "            background-color:  #da4b68;\n",
       "            color:  #000000;\n",
       "            max-width:  80px;\n",
       "            font-size:  10pt;\n",
       "        }#T_aaabe_row4_col3{\n",
       "            background-color:  #d73d5c;\n",
       "            color:  #f1f1f1;\n",
       "            max-width:  80px;\n",
       "            font-size:  10pt;\n",
       "        }#T_aaabe_row4_col5{\n",
       "            background-color:  #da516c;\n",
       "            color:  #000000;\n",
       "            max-width:  80px;\n",
       "            font-size:  10pt;\n",
       "        }#T_aaabe_row5_col1,#T_aaabe_row5_col2{\n",
       "            background-color:  #e9b4be;\n",
       "            color:  #000000;\n",
       "            max-width:  80px;\n",
       "            font-size:  10pt;\n",
       "        }#T_aaabe_row5_col4{\n",
       "            background-color:  #da4e6a;\n",
       "            color:  #000000;\n",
       "            max-width:  80px;\n",
       "            font-size:  10pt;\n",
       "        }#T_aaabe_row5_col6,#T_aaabe_row6_col5{\n",
       "            background-color:  #5786c1;\n",
       "            color:  #000000;\n",
       "            max-width:  80px;\n",
       "            font-size:  10pt;\n",
       "        }#T_aaabe_row6_col0{\n",
       "            background-color:  #d84361;\n",
       "            color:  #f1f1f1;\n",
       "            max-width:  80px;\n",
       "            font-size:  10pt;\n",
       "        }#T_aaabe_row6_col1,#T_aaabe_row6_col2{\n",
       "            background-color:  #e7a4b1;\n",
       "            color:  #000000;\n",
       "            max-width:  80px;\n",
       "            font-size:  10pt;\n",
       "        }#T_aaabe_row6_col3{\n",
       "            background-color:  #5484c0;\n",
       "            color:  #000000;\n",
       "            max-width:  80px;\n",
       "            font-size:  10pt;\n",
       "        }</style><table id=\"T_aaabe_\" ><caption>Hover to magify</caption><thead>    <tr>        <th class=\"blank level0\" ></th>        <th class=\"col_heading level0 col0\" >ticket_id</th>        <th class=\"col_heading level0 col1\" >admin_fee</th>        <th class=\"col_heading level0 col2\" >state_fee</th>        <th class=\"col_heading level0 col3\" >late_fee</th>        <th class=\"col_heading level0 col4\" >discount_amount</th>        <th class=\"col_heading level0 col5\" >judgment_amount</th>        <th class=\"col_heading level0 col6\" >balance_due</th>    </tr></thead><tbody>\n",
       "                <tr>\n",
       "                        <th id=\"T_aaabe_level0_row0\" class=\"row_heading level0 row0\" >ticket_id</th>\n",
       "                        <td id=\"T_aaabe_row0_col0\" class=\"data row0 col0\" >1.00</td>\n",
       "                        <td id=\"T_aaabe_row0_col1\" class=\"data row0 col1\" >-0.04</td>\n",
       "                        <td id=\"T_aaabe_row0_col2\" class=\"data row0 col2\" >-0.04</td>\n",
       "                        <td id=\"T_aaabe_row0_col3\" class=\"data row0 col3\" >-0.01</td>\n",
       "                        <td id=\"T_aaabe_row0_col4\" class=\"data row0 col4\" >-0.02</td>\n",
       "                        <td id=\"T_aaabe_row0_col5\" class=\"data row0 col5\" >-0.01</td>\n",
       "                        <td id=\"T_aaabe_row0_col6\" class=\"data row0 col6\" >0.00</td>\n",
       "            </tr>\n",
       "            <tr>\n",
       "                        <th id=\"T_aaabe_level0_row1\" class=\"row_heading level0 row1\" >admin_fee</th>\n",
       "                        <td id=\"T_aaabe_row1_col0\" class=\"data row1 col0\" >-0.04</td>\n",
       "                        <td id=\"T_aaabe_row1_col1\" class=\"data row1 col1\" >1.00</td>\n",
       "                        <td id=\"T_aaabe_row1_col2\" class=\"data row1 col2\" >1.00</td>\n",
       "                        <td id=\"T_aaabe_row1_col3\" class=\"data row1 col3\" >0.29</td>\n",
       "                        <td id=\"T_aaabe_row1_col4\" class=\"data row1 col4\" >0.03</td>\n",
       "                        <td id=\"T_aaabe_row1_col5\" class=\"data row1 col5\" >0.32</td>\n",
       "                        <td id=\"T_aaabe_row1_col6\" class=\"data row1 col6\" >0.28</td>\n",
       "            </tr>\n",
       "            <tr>\n",
       "                        <th id=\"T_aaabe_level0_row2\" class=\"row_heading level0 row2\" >state_fee</th>\n",
       "                        <td id=\"T_aaabe_row2_col0\" class=\"data row2 col0\" >-0.04</td>\n",
       "                        <td id=\"T_aaabe_row2_col1\" class=\"data row2 col1\" >1.00</td>\n",
       "                        <td id=\"T_aaabe_row2_col2\" class=\"data row2 col2\" >1.00</td>\n",
       "                        <td id=\"T_aaabe_row2_col3\" class=\"data row2 col3\" >0.29</td>\n",
       "                        <td id=\"T_aaabe_row2_col4\" class=\"data row2 col4\" >0.03</td>\n",
       "                        <td id=\"T_aaabe_row2_col5\" class=\"data row2 col5\" >0.32</td>\n",
       "                        <td id=\"T_aaabe_row2_col6\" class=\"data row2 col6\" >0.28</td>\n",
       "            </tr>\n",
       "            <tr>\n",
       "                        <th id=\"T_aaabe_level0_row3\" class=\"row_heading level0 row3\" >late_fee</th>\n",
       "                        <td id=\"T_aaabe_row3_col0\" class=\"data row3 col0\" >-0.01</td>\n",
       "                        <td id=\"T_aaabe_row3_col1\" class=\"data row3 col1\" >0.29</td>\n",
       "                        <td id=\"T_aaabe_row3_col2\" class=\"data row3 col2\" >0.29</td>\n",
       "                        <td id=\"T_aaabe_row3_col3\" class=\"data row3 col3\" >1.00</td>\n",
       "                        <td id=\"T_aaabe_row3_col4\" class=\"data row3 col4\" >-0.01</td>\n",
       "                        <td id=\"T_aaabe_row3_col5\" class=\"data row3 col5\" >0.99</td>\n",
       "                        <td id=\"T_aaabe_row3_col6\" class=\"data row3 col6\" >0.95</td>\n",
       "            </tr>\n",
       "            <tr>\n",
       "                        <th id=\"T_aaabe_level0_row4\" class=\"row_heading level0 row4\" >discount_amount</th>\n",
       "                        <td id=\"T_aaabe_row4_col0\" class=\"data row4 col0\" >-0.02</td>\n",
       "                        <td id=\"T_aaabe_row4_col1\" class=\"data row4 col1\" >0.03</td>\n",
       "                        <td id=\"T_aaabe_row4_col2\" class=\"data row4 col2\" >0.03</td>\n",
       "                        <td id=\"T_aaabe_row4_col3\" class=\"data row4 col3\" >-0.01</td>\n",
       "                        <td id=\"T_aaabe_row4_col4\" class=\"data row4 col4\" >1.00</td>\n",
       "                        <td id=\"T_aaabe_row4_col5\" class=\"data row4 col5\" >0.04</td>\n",
       "                        <td id=\"T_aaabe_row4_col6\" class=\"data row4 col6\" >-0.02</td>\n",
       "            </tr>\n",
       "            <tr>\n",
       "                        <th id=\"T_aaabe_level0_row5\" class=\"row_heading level0 row5\" >judgment_amount</th>\n",
       "                        <td id=\"T_aaabe_row5_col0\" class=\"data row5 col0\" >-0.01</td>\n",
       "                        <td id=\"T_aaabe_row5_col1\" class=\"data row5 col1\" >0.32</td>\n",
       "                        <td id=\"T_aaabe_row5_col2\" class=\"data row5 col2\" >0.32</td>\n",
       "                        <td id=\"T_aaabe_row5_col3\" class=\"data row5 col3\" >0.99</td>\n",
       "                        <td id=\"T_aaabe_row5_col4\" class=\"data row5 col4\" >0.04</td>\n",
       "                        <td id=\"T_aaabe_row5_col5\" class=\"data row5 col5\" >1.00</td>\n",
       "                        <td id=\"T_aaabe_row5_col6\" class=\"data row5 col6\" >0.94</td>\n",
       "            </tr>\n",
       "            <tr>\n",
       "                        <th id=\"T_aaabe_level0_row6\" class=\"row_heading level0 row6\" >balance_due</th>\n",
       "                        <td id=\"T_aaabe_row6_col0\" class=\"data row6 col0\" >0.00</td>\n",
       "                        <td id=\"T_aaabe_row6_col1\" class=\"data row6 col1\" >0.28</td>\n",
       "                        <td id=\"T_aaabe_row6_col2\" class=\"data row6 col2\" >0.28</td>\n",
       "                        <td id=\"T_aaabe_row6_col3\" class=\"data row6 col3\" >0.95</td>\n",
       "                        <td id=\"T_aaabe_row6_col4\" class=\"data row6 col4\" >-0.02</td>\n",
       "                        <td id=\"T_aaabe_row6_col5\" class=\"data row6 col5\" >0.94</td>\n",
       "                        <td id=\"T_aaabe_row6_col6\" class=\"data row6 col6\" >1.00</td>\n",
       "            </tr>\n",
       "    </tbody></table>"
      ],
      "text/plain": [
       "<pandas.io.formats.style.Styler at 0x1f898519a00>"
      ]
     },
     "execution_count": 15,
     "metadata": {},
     "output_type": "execute_result"
    }
   ],
   "source": [
    "import seaborn as sns\n",
    "\n",
    "corr = vis_data.drop(['violation_zip_code', 'payment_amount', \n",
    "                      'clean_up_cost', \n",
    "                      'violation_street_number'], axis=1).\\\n",
    "                dropna(axis=1).\\\n",
    "                corr()\n",
    "cmap = sns.diverging_palette(5, 250, as_cmap=True)\n",
    "\n",
    "def magnify():\n",
    "    return [dict(selector=\"th\",\n",
    "                 props=[(\"font-size\", \"7pt\")]),\n",
    "            dict(selector=\"td\",\n",
    "                 props=[('padding', \"0em 0em\")]),\n",
    "            dict(selector=\"th:hover\",\n",
    "                 props=[(\"font-size\", \"12pt\")]),\n",
    "            dict(selector=\"tr:hover td:hover\",\n",
    "                 props=[('max-width', '200px'),\n",
    "                        ('font-size', '12pt')])\n",
    "]\n",
    "\n",
    "corr.style.background_gradient(cmap, axis=1)\\\n",
    "    .set_properties(**{'max-width': '80px', 'font-size': '10pt'})\\\n",
    "    .set_caption(\"Hover to magify\")\\\n",
    "    .set_precision(2)\\\n",
    "    .set_table_styles(magnify())"
   ]
  },
  {
   "cell_type": "code",
   "execution_count": 16,
   "id": "8c1229b8",
   "metadata": {},
   "outputs": [
    {
     "data": {
      "text/plain": [
       "0.4525960609393067"
      ]
     },
     "execution_count": 16,
     "metadata": {},
     "output_type": "execute_result"
    }
   ],
   "source": [
    "np.sqrt(vis_data.balance_due[vis_data.balance_due > 0]).median() - np.sqrt(vis_data.balance_due[vis_data.balance_due > 0]).mean()"
   ]
  },
  {
   "cell_type": "code",
   "execution_count": 17,
   "id": "fa7c7c91",
   "metadata": {},
   "outputs": [
    {
     "data": {
      "text/plain": [
       "{'whiskers': [<matplotlib.lines.Line2D at 0x1f898b4fe20>,\n",
       "  <matplotlib.lines.Line2D at 0x1f898b5f1c0>],\n",
       " 'caps': [<matplotlib.lines.Line2D at 0x1f898b5f520>,\n",
       "  <matplotlib.lines.Line2D at 0x1f898b5f880>],\n",
       " 'boxes': [<matplotlib.lines.Line2D at 0x1f898b4fac0>],\n",
       " 'medians': [<matplotlib.lines.Line2D at 0x1f898b5fbe0>],\n",
       " 'fliers': [<matplotlib.lines.Line2D at 0x1f898b5ff40>],\n",
       " 'means': []}"
      ]
     },
     "execution_count": 17,
     "metadata": {},
     "output_type": "execute_result"
    },
    {
     "data": {
      "image/png": "[encoded data removed]",
      "text/plain": [
       "<Figure size 432x288 with 1 Axes>"
      ]
     },
     "metadata": {
      "needs_background": "light"
     },
     "output_type": "display_data"
    }
   ],
   "source": [
    "import matplotlib.pyplot as plt \n",
    "plt.boxplot(data.price_doc[data.sub_area == 'Lefortovo'])"
   ]
  },
  {
   "cell_type": "code",
   "execution_count": 18,
   "id": "6ab920cd",
   "metadata": {},
   "outputs": [
    {
     "data": {
      "text/plain": [
       "{'whiskers': [<matplotlib.lines.Line2D at 0x1f898bbe640>,\n",
       "  <matplotlib.lines.Line2D at 0x1f898bbe9a0>],\n",
       " 'caps': [<matplotlib.lines.Line2D at 0x1f898bbed00>,\n",
       "  <matplotlib.lines.Line2D at 0x1f898bc90a0>],\n",
       " 'boxes': [<matplotlib.lines.Line2D at 0x1f898bbe2e0>],\n",
       " 'medians': [<matplotlib.lines.Line2D at 0x1f898bc9400>],\n",
       " 'fliers': [<matplotlib.lines.Line2D at 0x1f898bc9760>],\n",
       " 'means': []}"
      ]
     },
     "execution_count": 18,
     "metadata": {},
     "output_type": "execute_result"
    },
    {
     "data": {
      "image/png": "[encoded data removed]",
      "text/plain": [
       "<Figure size 432x288 with 1 Axes>"
      ]
     },
     "metadata": {
      "needs_background": "light"
     },
     "output_type": "display_data"
    }
   ],
   "source": [
    "plt.boxplot(data.price_doc[data.sub_area == 'Perovo'])"
   ]
  },
  {
   "cell_type": "code",
   "execution_count": 19,
   "id": "fea6aea6",
   "metadata": {},
   "outputs": [
    {
     "data": {
      "text/plain": [
       "{'whiskers': [<matplotlib.lines.Line2D at 0x1f898c1ccd0>,\n",
       "  <matplotlib.lines.Line2D at 0x1f898c2a070>],\n",
       " 'caps': [<matplotlib.lines.Line2D at 0x1f898c2a400>,\n",
       "  <matplotlib.lines.Line2D at 0x1f898c2a760>],\n",
       " 'boxes': [<matplotlib.lines.Line2D at 0x1f898c1c970>],\n",
       " 'medians': [<matplotlib.lines.Line2D at 0x1f898c2aac0>],\n",
       " 'fliers': [<matplotlib.lines.Line2D at 0x1f898c2ae20>],\n",
       " 'means': []}"
      ]
     },
     "execution_count": 19,
     "metadata": {},
     "output_type": "execute_result"
    },
    {
     "data": {
      "image/png": "[encoded data removed]",
      "text/plain": [
       "<Figure size 432x288 with 1 Axes>"
      ]
     },
     "metadata": {
      "needs_background": "light"
     },
     "output_type": "display_data"
    }
   ],
   "source": [
    "plt.boxplot(data.price_doc[data.sub_area == 'Basmannoe'])"
   ]
  },
  {
   "cell_type": "code",
   "execution_count": 20,
   "id": "42b24aa5",
   "metadata": {},
   "outputs": [
    {
     "data": {
      "text/plain": [
       "{'whiskers': [<matplotlib.lines.Line2D at 0x1f898beedc0>,\n",
       "  <matplotlib.lines.Line2D at 0x1f898bf4be0>],\n",
       " 'caps': [<matplotlib.lines.Line2D at 0x1f898bf93a0>,\n",
       "  <matplotlib.lines.Line2D at 0x1f898bf9be0>],\n",
       " 'boxes': [<matplotlib.lines.Line2D at 0x1f898be5a00>],\n",
       " 'medians': [<matplotlib.lines.Line2D at 0x1f898bf9f40>],\n",
       " 'fliers': [<matplotlib.lines.Line2D at 0x1f898c1cb20>],\n",
       " 'means': []}"
      ]
     },
     "execution_count": 20,
     "metadata": {},
     "output_type": "execute_result"
    },
    {
     "data": {
      "image/png": "[encoded data removed]",
      "text/plain": [
       "<Figure size 432x288 with 1 Axes>"
      ]
     },
     "metadata": {
      "needs_background": "light"
     },
     "output_type": "display_data"
    }
   ],
   "source": [
    "plt.boxplot(data.price_doc[data.sub_area == 'Bogorodskoe'],)"
   ]
  },
  {
   "cell_type": "code",
   "execution_count": 21,
   "id": "3adcce9f",
   "metadata": {},
   "outputs": [
    {
     "name": "stdout",
     "output_type": "stream",
     "text": [
      "6700000.0\n",
      "6000000.0\n",
      "10450000.0\n",
      "6200000.0\n"
     ]
    }
   ],
   "source": [
    "print(data.price_doc[data.sub_area == 'Lefortovo'].median())\n",
    "print(data.price_doc[data.sub_area == 'Perovo'].median())\n",
    "print(data.price_doc[data.sub_area == 'Basmannoe'].median())\n",
    "print(data.price_doc[data.sub_area == 'Bogorodskoe'].median())"
   ]
  },
  {
   "cell_type": "markdown",
   "id": "1aa84d0c",
   "metadata": {},
   "source": [
    "# 2.12. Практика"
   ]
  },
  {
   "cell_type": "code",
   "execution_count": 22,
   "id": "698389d6",
   "metadata": {},
   "outputs": [],
   "source": [
    "%matplotlib inline\n",
    "\n",
    "vis_data = vis_data.drop(['violation_zip_code', 'clean_up_cost'], axis=1)\n",
    "latlons = pd.read_csv(\"C:/Users/user/Documents/GitHub/Skillfactory_Alexander_Stratonov/module_3/data/latlons.csv\")\n",
    "vis_data = pd.concat([vis_data, latlons], axis=1)"
   ]
  },
  {
   "cell_type": "code",
   "execution_count": 23,
   "id": "04ca2eb7",
   "metadata": {},
   "outputs": [
    {
     "data": {
      "text/plain": [
       "(250306, 6)"
      ]
     },
     "execution_count": 23,
     "metadata": {},
     "output_type": "execute_result"
    }
   ],
   "source": [
    "from sklearn.preprocessing import PolynomialFeatures\n",
    "\n",
    "pf = PolynomialFeatures(2)\n",
    "poly_features = pf.fit_transform(vis_data[['balance_due', 'payment_amount']])\n",
    "poly_features\n",
    "poly_features.shape"
   ]
  },
  {
   "cell_type": "code",
   "execution_count": 24,
   "id": "84a7c44c",
   "metadata": {},
   "outputs": [
    {
     "data": {
      "text/plain": [
       "(250306, 59)"
      ]
     },
     "execution_count": 24,
     "metadata": {},
     "output_type": "execute_result"
    }
   ],
   "source": [
    "pd.get_dummies(vis_data.state).shape"
   ]
  },
  {
   "cell_type": "code",
   "execution_count": 25,
   "id": "52161b83",
   "metadata": {},
   "outputs": [
    {
     "data": {
      "text/plain": [
       "1    2005-06-02\n",
       "11   2005-03-17\n",
       "15   2005-02-11\n",
       "18   2005-03-18\n",
       "19   2005-03-18\n",
       "Name: payment_date, dtype: datetime64[ns]"
      ]
     },
     "execution_count": 25,
     "metadata": {},
     "output_type": "execute_result"
    }
   ],
   "source": [
    "datetime_vals = pd.to_datetime(vis_data.payment_date.dropna())\n",
    "datetime_vals.head()"
   ]
  },
  {
   "cell_type": "code",
   "execution_count": 26,
   "id": "41d5a6fb",
   "metadata": {},
   "outputs": [
    {
     "data": {
      "text/plain": [
       "6"
      ]
     },
     "execution_count": 26,
     "metadata": {},
     "output_type": "execute_result"
    }
   ],
   "source": [
    "datetime_vals[1].month"
   ]
  },
  {
   "cell_type": "code",
   "execution_count": 27,
   "id": "32cc748e",
   "metadata": {},
   "outputs": [
    {
     "data": {
      "text/plain": [
       "6"
      ]
     },
     "execution_count": 27,
     "metadata": {},
     "output_type": "execute_result"
    }
   ],
   "source": [
    "pf = PolynomialFeatures(3)\n",
    "vis_data1 = vis_data[['balance_due', 'payment_amount']]\n",
    "poly_features = pf.fit_transform(vis_data1)\n",
    "df_poly = pd.DataFrame(poly_features)\n",
    "df_poly.mean().argmax()"
   ]
  },
  {
   "cell_type": "code",
   "execution_count": 28,
   "id": "9d1b68b8",
   "metadata": {},
   "outputs": [
    {
     "data": {
      "text/plain": [
       "1    57477\n",
       "2    54235\n",
       "3    51090\n",
       "0    45071\n",
       "4    40813\n",
       "5     1003\n",
       "6      617\n",
       "Name: ticket_issued_date, dtype: int64"
      ]
     },
     "execution_count": 28,
     "metadata": {},
     "output_type": "execute_result"
    }
   ],
   "source": [
    "vis_data = pd.read_csv(\"C:/Users/user/Documents/GitHub/Skillfactory_Alexander_Stratonov/module_3/data/train.csv\", encoding = 'ISO-8859-1', low_memory = False)\n",
    "vis_data['ticket_issued_date']=pd.to_datetime(vis_data['ticket_issued_date']).dt.dayofweek\n",
    "vis_data2 = vis_data[['fine_amount', 'ticket_issued_date']]\n",
    "vis_data2.ticket_issued_date.value_counts()"
   ]
  },
  {
   "cell_type": "code",
   "execution_count": 29,
   "id": "8fbbaf15",
   "metadata": {},
   "outputs": [
    {
     "data": {
      "text/plain": [
       "(30469, 201)"
      ]
     },
     "execution_count": 29,
     "metadata": {},
     "output_type": "execute_result"
    }
   ],
   "source": [
    "data = pd.read_csv('C:/Users/user/Documents/GitHub/Skillfactory_Alexander_Stratonov/module_3/data/data_flats.csv',sep=\";\")\n",
    "data = pd.get_dummies(data,columns=['sub_area'])\n",
    "data.shape"
   ]
  },
  {
   "cell_type": "code",
   "execution_count": 30,
   "id": "e04614bf",
   "metadata": {},
   "outputs": [
    {
     "data": {
      "text/plain": [
       "1.73"
      ]
     },
     "execution_count": 30,
     "metadata": {},
     "output_type": "execute_result"
    }
   ],
   "source": [
    "myList = ['no data','poor','satisfactory','good','excellent']\n",
    "ecology_dict = {myList[i]: i for i in range(0, len(myList), 1)}\n",
    "data.ecology = data.ecology.replace(to_replace=ecology_dict)\n",
    "round(data.ecology.mean(),2)"
   ]
  },
  {
   "cell_type": "markdown",
   "id": "c6a3b828",
   "metadata": {},
   "source": [
    "# 2.14. Практика"
   ]
  },
  {
   "cell_type": "code",
   "execution_count": 31,
   "id": "94af08f0",
   "metadata": {},
   "outputs": [
    {
     "data": {
      "text/plain": [
       "0"
      ]
     },
     "execution_count": 31,
     "metadata": {},
     "output_type": "execute_result"
    }
   ],
   "source": [
    "np.sum(vis_data.fine_amount < 0)"
   ]
  },
  {
   "cell_type": "code",
   "execution_count": 32,
   "id": "7d41ef83",
   "metadata": {},
   "outputs": [
    {
     "data": {
      "text/plain": [
       "10000.0"
      ]
     },
     "execution_count": 32,
     "metadata": {},
     "output_type": "execute_result"
    }
   ],
   "source": [
    "max_fine = np.max(vis_data.fine_amount)\n",
    "max_fine"
   ]
  },
  {
   "cell_type": "code",
   "execution_count": 33,
   "id": "ec2027c9",
   "metadata": {},
   "outputs": [
    {
     "data": {
      "text/plain": [
       "(357, 0.0014262542647799094)"
      ]
     },
     "execution_count": 33,
     "metadata": {},
     "output_type": "execute_result"
    }
   ],
   "source": [
    "max_fine_count = np.sum(vis_data.fine_amount == max_fine)\n",
    "max_fine_count, max_fine_count/vis_data.shape[0]"
   ]
  },
  {
   "cell_type": "code",
   "execution_count": 34,
   "id": "c9273b2f",
   "metadata": {},
   "outputs": [],
   "source": [
    "#vis_data.distance[vis_data.distance > 30].hist()\n",
    "#\n",
    "#def outliers_z_score(ys, threshold=3):\n",
    "#    mean_y = np.mean(ys)\n",
    "#    std_y = np.std(ys)\n",
    "#    z_scores = [(y - mean_y) / std_y for y in ys]\n",
    "#    return np.where(np.abs(z_scores) > threshold)[0]\n",
    "#\n",
    "#with warnings.catch_warnings():\n",
    "#    warnings.simplefilter('ignore')\n",
    "#    o = outliers_z_score(vis_data.distance)\n",
    "#\n",
    "#len(o)"
   ]
  },
  {
   "cell_type": "code",
   "execution_count": 35,
   "id": "107ad9f3",
   "metadata": {},
   "outputs": [],
   "source": [
    "def outliers_iqr(ys):\n",
    "    quartile_1, quartile_3 = np.percentile(ys, [25, 75])\n",
    "    iqr = quartile_3 - quartile_1\n",
    "    lower_bound = quartile_1 - (iqr * 1.5)\n",
    "    upper_bound = quartile_3 + (iqr * 1.5)\n",
    "    return np.where((ys > upper_bound) | (ys < lower_bound))[0]"
   ]
  },
  {
   "cell_type": "code",
   "execution_count": 36,
   "id": "3a4b7b08",
   "metadata": {},
   "outputs": [],
   "source": [
    "from scipy.stats import norm\n",
    "\n",
    "def estimate_gaussian(dataset):\n",
    "    mu = np.mean(dataset, axis=0)\n",
    "    sigma = np.cov(dataset.T)\n",
    "    return mu, sigma\n",
    "    \n",
    "def get_gaussian(mu, sigma):\n",
    "    distribution = norm(mu, sigma)\n",
    "    return distribution\n",
    "\n",
    "def get_probs(distribution, dataset):\n",
    "    return distribution.pdf(dataset)"
   ]
  },
  {
   "cell_type": "code",
   "execution_count": 37,
   "id": "e64f387c",
   "metadata": {},
   "outputs": [],
   "source": [
    "from sklearn.cluster import DBSCAN\n",
    "from sklearn.preprocessing import MinMaxScaler"
   ]
  },
  {
   "cell_type": "code",
   "execution_count": 60,
   "id": "12683021",
   "metadata": {},
   "outputs": [
    {
     "data": {
      "text/plain": [
       "1201.3"
      ]
     },
     "execution_count": 60,
     "metadata": {},
     "output_type": "execute_result"
    }
   ],
   "source": [
    "balance=vis_data.balance_due.dropna()\n",
    "\n",
    "def outliers_iqr(ys):\n",
    "    quartile_1, quartile_3 = np.percentile(ys, [25, 75])\n",
    "    iqr = quartile_3 - quartile_1\n",
    "    lower_bound = quartile_1 - (iqr * 1.5)\n",
    "    upper_bound = quartile_3 + (iqr * 1.5)\n",
    "    return np.where((ys > upper_bound) | (ys < lower_bound))[0]\n",
    "\n",
    "o = outliers_iqr(balance)\n",
    "o=set(o)\n",
    "i=set(balance.index)\n",
    "new=i-o\n",
    "new=list(new)\n",
    "\n",
    "vis_data.iloc[new]['balance_due'].max()-vis_data.iloc[new]['balance_due'].min()"
   ]
  },
  {
   "cell_type": "code",
   "execution_count": null,
   "id": "f2c0d845",
   "metadata": {},
   "outputs": [],
   "source": []
  }
 ],
 "metadata": {
  "kernelspec": {
   "display_name": "Python 3",
   "language": "python",
   "name": "python3"
  },
  "language_info": {
   "codemirror_mode": {
    "name": "ipython",
    "version": 3
   },
   "file_extension": ".py",
   "mimetype": "text/x-python",
   "name": "python",
   "nbconvert_exporter": "python",
   "pygments_lexer": "ipython3",
   "version": "3.8.8"
  }
 },
 "nbformat": 4,
 "nbformat_minor": 5
}
